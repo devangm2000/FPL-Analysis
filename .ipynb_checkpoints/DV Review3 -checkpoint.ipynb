{
 "cells": [
  {
   "cell_type": "markdown",
   "metadata": {},
   "source": [
    "# Data Visualisation J Component"
   ]
  },
  {
   "cell_type": "markdown",
   "metadata": {},
   "source": [
    "# Team Members-"
   ]
  },
  {
   "cell_type": "markdown",
   "metadata": {},
   "source": [
    "# Devang Mehrotra (18BCE0763)"
   ]
  },
  {
   "cell_type": "markdown",
   "metadata": {},
   "source": [
    "# Uday Agarwal (18BCE0777)"
   ]
  },
  {
   "cell_type": "markdown",
   "metadata": {},
   "source": [
    "# Chitresh Kansal (18BCE0760)"
   ]
  },
  {
   "cell_type": "code",
   "execution_count": 7,
   "metadata": {
    "_cell_guid": "605eb3dd-0858-4773-913d-63222875e72f",
    "_uuid": "5638032b2ca4b615a8e4a19b24969177cc76917d"
   },
   "outputs": [
    {
     "data": {
      "text/html": [
       "        <script type=\"text/javascript\">\n",
       "        window.PlotlyConfig = {MathJaxConfig: 'local'};\n",
       "        if (window.MathJax) {MathJax.Hub.Config({SVG: {font: \"STIX-Web\"}});}\n",
       "        if (typeof require !== 'undefined') {\n",
       "        require.undef(\"plotly\");\n",
       "        requirejs.config({\n",
       "            paths: {\n",
       "                'plotly': ['https://cdn.plot.ly/plotly-latest.min']\n",
       "            }\n",
       "        });\n",
       "        require(['plotly'], function(Plotly) {\n",
       "            window._Plotly = Plotly;\n",
       "        });\n",
       "        }\n",
       "        </script>\n",
       "        "
      ]
     },
     "metadata": {},
     "output_type": "display_data"
    }
   ],
   "source": [
    "import pandas as pd\n",
    "import seaborn as sns\n",
    "import numpy as np\n",
    "import matplotlib.pyplot as plt\n",
    "import plotly.offline as py\n",
    "import plotly.graph_objs as go\n",
    "py.init_notebook_mode(connected=True)\n",
    "from plotly.offline import init_notebook_mode, iplot"
   ]
  },
  {
   "cell_type": "code",
   "execution_count": 8,
   "metadata": {
    "_cell_guid": "f02cdcbe-6903-4258-91ef-8f173172bee6",
    "_uuid": "9f1ec2991ad1fb526a411332319249474ee02cd6"
   },
   "outputs": [
    {
     "data": {
      "text/html": [
       "<div>\n",
       "<style scoped>\n",
       "    .dataframe tbody tr th:only-of-type {\n",
       "        vertical-align: middle;\n",
       "    }\n",
       "\n",
       "    .dataframe tbody tr th {\n",
       "        vertical-align: top;\n",
       "    }\n",
       "\n",
       "    .dataframe thead th {\n",
       "        text-align: right;\n",
       "    }\n",
       "</style>\n",
       "<table border=\"1\" class=\"dataframe\">\n",
       "  <thead>\n",
       "    <tr style=\"text-align: right;\">\n",
       "      <th></th>\n",
       "      <th>name</th>\n",
       "      <th>club</th>\n",
       "      <th>age</th>\n",
       "      <th>position</th>\n",
       "      <th>position_cat</th>\n",
       "      <th>market_value</th>\n",
       "      <th>page_views</th>\n",
       "      <th>fpl_value</th>\n",
       "      <th>fpl_sel</th>\n",
       "      <th>fpl_points</th>\n",
       "      <th>region</th>\n",
       "      <th>nationality</th>\n",
       "      <th>new_foreign</th>\n",
       "      <th>age_cat</th>\n",
       "      <th>club_id</th>\n",
       "      <th>big_club</th>\n",
       "      <th>new_signing</th>\n",
       "      <th>fpl_ratio</th>\n",
       "    </tr>\n",
       "  </thead>\n",
       "  <tbody>\n",
       "    <tr>\n",
       "      <th>0</th>\n",
       "      <td>Alexis Sanchez</td>\n",
       "      <td>Arsenal</td>\n",
       "      <td>28</td>\n",
       "      <td>LW</td>\n",
       "      <td>1</td>\n",
       "      <td>65.0</td>\n",
       "      <td>4329</td>\n",
       "      <td>12.0</td>\n",
       "      <td>17.10%</td>\n",
       "      <td>264</td>\n",
       "      <td>3.0</td>\n",
       "      <td>Chile</td>\n",
       "      <td>0</td>\n",
       "      <td>4</td>\n",
       "      <td>1</td>\n",
       "      <td>1</td>\n",
       "      <td>0</td>\n",
       "      <td>22.000000</td>\n",
       "    </tr>\n",
       "    <tr>\n",
       "      <th>1</th>\n",
       "      <td>Mesut Ozil</td>\n",
       "      <td>Arsenal</td>\n",
       "      <td>28</td>\n",
       "      <td>AM</td>\n",
       "      <td>1</td>\n",
       "      <td>50.0</td>\n",
       "      <td>4395</td>\n",
       "      <td>9.5</td>\n",
       "      <td>5.60%</td>\n",
       "      <td>167</td>\n",
       "      <td>2.0</td>\n",
       "      <td>Germany</td>\n",
       "      <td>0</td>\n",
       "      <td>4</td>\n",
       "      <td>1</td>\n",
       "      <td>1</td>\n",
       "      <td>0</td>\n",
       "      <td>17.578947</td>\n",
       "    </tr>\n",
       "    <tr>\n",
       "      <th>2</th>\n",
       "      <td>Petr Cech</td>\n",
       "      <td>Arsenal</td>\n",
       "      <td>35</td>\n",
       "      <td>GK</td>\n",
       "      <td>4</td>\n",
       "      <td>7.0</td>\n",
       "      <td>1529</td>\n",
       "      <td>5.5</td>\n",
       "      <td>5.90%</td>\n",
       "      <td>134</td>\n",
       "      <td>2.0</td>\n",
       "      <td>Czech Republic</td>\n",
       "      <td>0</td>\n",
       "      <td>6</td>\n",
       "      <td>1</td>\n",
       "      <td>1</td>\n",
       "      <td>0</td>\n",
       "      <td>24.363636</td>\n",
       "    </tr>\n",
       "    <tr>\n",
       "      <th>3</th>\n",
       "      <td>Theo Walcott</td>\n",
       "      <td>Arsenal</td>\n",
       "      <td>28</td>\n",
       "      <td>RW</td>\n",
       "      <td>1</td>\n",
       "      <td>20.0</td>\n",
       "      <td>2393</td>\n",
       "      <td>7.5</td>\n",
       "      <td>1.50%</td>\n",
       "      <td>122</td>\n",
       "      <td>1.0</td>\n",
       "      <td>England</td>\n",
       "      <td>0</td>\n",
       "      <td>4</td>\n",
       "      <td>1</td>\n",
       "      <td>1</td>\n",
       "      <td>0</td>\n",
       "      <td>16.266667</td>\n",
       "    </tr>\n",
       "    <tr>\n",
       "      <th>4</th>\n",
       "      <td>Laurent Koscielny</td>\n",
       "      <td>Arsenal</td>\n",
       "      <td>31</td>\n",
       "      <td>CB</td>\n",
       "      <td>3</td>\n",
       "      <td>22.0</td>\n",
       "      <td>912</td>\n",
       "      <td>6.0</td>\n",
       "      <td>0.70%</td>\n",
       "      <td>121</td>\n",
       "      <td>2.0</td>\n",
       "      <td>France</td>\n",
       "      <td>0</td>\n",
       "      <td>4</td>\n",
       "      <td>1</td>\n",
       "      <td>1</td>\n",
       "      <td>0</td>\n",
       "      <td>20.166667</td>\n",
       "    </tr>\n",
       "  </tbody>\n",
       "</table>\n",
       "</div>"
      ],
      "text/plain": [
       "                name     club  age position  position_cat  market_value  \\\n",
       "0     Alexis Sanchez  Arsenal   28       LW             1          65.0   \n",
       "1         Mesut Ozil  Arsenal   28       AM             1          50.0   \n",
       "2          Petr Cech  Arsenal   35       GK             4           7.0   \n",
       "3       Theo Walcott  Arsenal   28       RW             1          20.0   \n",
       "4  Laurent Koscielny  Arsenal   31       CB             3          22.0   \n",
       "\n",
       "   page_views  fpl_value fpl_sel  fpl_points  region     nationality  \\\n",
       "0        4329       12.0  17.10%         264     3.0           Chile   \n",
       "1        4395        9.5   5.60%         167     2.0         Germany   \n",
       "2        1529        5.5   5.90%         134     2.0  Czech Republic   \n",
       "3        2393        7.5   1.50%         122     1.0         England   \n",
       "4         912        6.0   0.70%         121     2.0          France   \n",
       "\n",
       "   new_foreign  age_cat  club_id  big_club  new_signing  fpl_ratio  \n",
       "0            0        4        1         1            0  22.000000  \n",
       "1            0        4        1         1            0  17.578947  \n",
       "2            0        6        1         1            0  24.363636  \n",
       "3            0        4        1         1            0  16.266667  \n",
       "4            0        4        1         1            0  20.166667  "
      ]
     },
     "execution_count": 8,
     "metadata": {},
     "output_type": "execute_result"
    }
   ],
   "source": [
    "dataset = pd.read_csv('epldata_final.csv')\n",
    "dataset['fpl_ratio'] = pd.DataFrame(dataset['fpl_points']/dataset['fpl_value'])\n",
    "dataset.head()"
   ]
  },
  {
   "cell_type": "code",
   "execution_count": 9,
   "metadata": {
    "_cell_guid": "a04bb478-b473-44bd-b70c-440da92a20b7",
    "_uuid": "91453d2f9e776a1e64de69d0f3720a62506605ae"
   },
   "outputs": [
    {
     "data": {
      "text/html": [
       "<div>\n",
       "<style scoped>\n",
       "    .dataframe tbody tr th:only-of-type {\n",
       "        vertical-align: middle;\n",
       "    }\n",
       "\n",
       "    .dataframe tbody tr th {\n",
       "        vertical-align: top;\n",
       "    }\n",
       "\n",
       "    .dataframe thead th {\n",
       "        text-align: right;\n",
       "    }\n",
       "</style>\n",
       "<table border=\"1\" class=\"dataframe\">\n",
       "  <thead>\n",
       "    <tr style=\"text-align: right;\">\n",
       "      <th></th>\n",
       "      <th>name</th>\n",
       "      <th>club</th>\n",
       "      <th>age</th>\n",
       "      <th>position</th>\n",
       "      <th>position_cat</th>\n",
       "      <th>market_value</th>\n",
       "      <th>page_views</th>\n",
       "      <th>fpl_value</th>\n",
       "      <th>fpl_sel</th>\n",
       "      <th>fpl_points</th>\n",
       "      <th>region</th>\n",
       "      <th>nationality</th>\n",
       "      <th>new_foreign</th>\n",
       "      <th>age_cat</th>\n",
       "      <th>club_id</th>\n",
       "      <th>big_club</th>\n",
       "      <th>new_signing</th>\n",
       "      <th>fpl_ratio</th>\n",
       "    </tr>\n",
       "  </thead>\n",
       "  <tbody>\n",
       "    <tr>\n",
       "      <th>0</th>\n",
       "      <td>Alexis Sanchez</td>\n",
       "      <td>Arsenal</td>\n",
       "      <td>28</td>\n",
       "      <td>LW</td>\n",
       "      <td>1</td>\n",
       "      <td>65.0</td>\n",
       "      <td>4329</td>\n",
       "      <td>12.0</td>\n",
       "      <td>0.171</td>\n",
       "      <td>264</td>\n",
       "      <td>3.0</td>\n",
       "      <td>Chile</td>\n",
       "      <td>0</td>\n",
       "      <td>4</td>\n",
       "      <td>1</td>\n",
       "      <td>1</td>\n",
       "      <td>0</td>\n",
       "      <td>22.000000</td>\n",
       "    </tr>\n",
       "    <tr>\n",
       "      <th>1</th>\n",
       "      <td>Mesut Ozil</td>\n",
       "      <td>Arsenal</td>\n",
       "      <td>28</td>\n",
       "      <td>AM</td>\n",
       "      <td>1</td>\n",
       "      <td>50.0</td>\n",
       "      <td>4395</td>\n",
       "      <td>9.5</td>\n",
       "      <td>0.056</td>\n",
       "      <td>167</td>\n",
       "      <td>2.0</td>\n",
       "      <td>Germany</td>\n",
       "      <td>0</td>\n",
       "      <td>4</td>\n",
       "      <td>1</td>\n",
       "      <td>1</td>\n",
       "      <td>0</td>\n",
       "      <td>17.578947</td>\n",
       "    </tr>\n",
       "    <tr>\n",
       "      <th>2</th>\n",
       "      <td>Petr Cech</td>\n",
       "      <td>Arsenal</td>\n",
       "      <td>35</td>\n",
       "      <td>GK</td>\n",
       "      <td>4</td>\n",
       "      <td>7.0</td>\n",
       "      <td>1529</td>\n",
       "      <td>5.5</td>\n",
       "      <td>0.059</td>\n",
       "      <td>134</td>\n",
       "      <td>2.0</td>\n",
       "      <td>Czech Republic</td>\n",
       "      <td>0</td>\n",
       "      <td>6</td>\n",
       "      <td>1</td>\n",
       "      <td>1</td>\n",
       "      <td>0</td>\n",
       "      <td>24.363636</td>\n",
       "    </tr>\n",
       "    <tr>\n",
       "      <th>3</th>\n",
       "      <td>Theo Walcott</td>\n",
       "      <td>Arsenal</td>\n",
       "      <td>28</td>\n",
       "      <td>RW</td>\n",
       "      <td>1</td>\n",
       "      <td>20.0</td>\n",
       "      <td>2393</td>\n",
       "      <td>7.5</td>\n",
       "      <td>0.015</td>\n",
       "      <td>122</td>\n",
       "      <td>1.0</td>\n",
       "      <td>England</td>\n",
       "      <td>0</td>\n",
       "      <td>4</td>\n",
       "      <td>1</td>\n",
       "      <td>1</td>\n",
       "      <td>0</td>\n",
       "      <td>16.266667</td>\n",
       "    </tr>\n",
       "    <tr>\n",
       "      <th>4</th>\n",
       "      <td>Laurent Koscielny</td>\n",
       "      <td>Arsenal</td>\n",
       "      <td>31</td>\n",
       "      <td>CB</td>\n",
       "      <td>3</td>\n",
       "      <td>22.0</td>\n",
       "      <td>912</td>\n",
       "      <td>6.0</td>\n",
       "      <td>0.007</td>\n",
       "      <td>121</td>\n",
       "      <td>2.0</td>\n",
       "      <td>France</td>\n",
       "      <td>0</td>\n",
       "      <td>4</td>\n",
       "      <td>1</td>\n",
       "      <td>1</td>\n",
       "      <td>0</td>\n",
       "      <td>20.166667</td>\n",
       "    </tr>\n",
       "  </tbody>\n",
       "</table>\n",
       "</div>"
      ],
      "text/plain": [
       "                name     club  age position  position_cat  market_value  \\\n",
       "0     Alexis Sanchez  Arsenal   28       LW             1          65.0   \n",
       "1         Mesut Ozil  Arsenal   28       AM             1          50.0   \n",
       "2          Petr Cech  Arsenal   35       GK             4           7.0   \n",
       "3       Theo Walcott  Arsenal   28       RW             1          20.0   \n",
       "4  Laurent Koscielny  Arsenal   31       CB             3          22.0   \n",
       "\n",
       "   page_views  fpl_value  fpl_sel  fpl_points  region     nationality  \\\n",
       "0        4329       12.0    0.171         264     3.0           Chile   \n",
       "1        4395        9.5    0.056         167     2.0         Germany   \n",
       "2        1529        5.5    0.059         134     2.0  Czech Republic   \n",
       "3        2393        7.5    0.015         122     1.0         England   \n",
       "4         912        6.0    0.007         121     2.0          France   \n",
       "\n",
       "   new_foreign  age_cat  club_id  big_club  new_signing  fpl_ratio  \n",
       "0            0        4        1         1            0  22.000000  \n",
       "1            0        4        1         1            0  17.578947  \n",
       "2            0        6        1         1            0  24.363636  \n",
       "3            0        4        1         1            0  16.266667  \n",
       "4            0        4        1         1            0  20.166667  "
      ]
     },
     "execution_count": 9,
     "metadata": {},
     "output_type": "execute_result"
    }
   ],
   "source": [
    "dataset['fpl_sel'] = dataset['fpl_sel'].replace('%','',regex=True).astype('float')/100\n",
    "dataset.head()"
   ]
  },
  {
   "cell_type": "code",
   "execution_count": 10,
   "metadata": {
    "_cell_guid": "5d09d51c-cae4-4429-8034-7fc77981f90c",
    "_uuid": "962826914cc0b2a3ab035f30ee5804b8ea0670fd"
   },
   "outputs": [],
   "source": [
    "dataset=dataset.replace(\"Northern Ireland\",\"United Kingdom\")\n",
    "dataset=dataset.replace(\"England\",\"United Kingdom\")\n",
    "dataset=dataset.replace(\"Wales\",\"United Kingdom\")\n",
    "dataset=dataset.replace(\"Scotland\",\"United Kingdom\")\n",
    "dataset=dataset.replace(\"United Kingdom\",\"United Kingdom of Great Britain and Northern Ireland\")"
   ]
  },
  {
   "cell_type": "code",
   "execution_count": 11,
   "metadata": {},
   "outputs": [
    {
     "data": {
      "text/html": [
       "<div>\n",
       "<style scoped>\n",
       "    .dataframe tbody tr th:only-of-type {\n",
       "        vertical-align: middle;\n",
       "    }\n",
       "\n",
       "    .dataframe tbody tr th {\n",
       "        vertical-align: top;\n",
       "    }\n",
       "\n",
       "    .dataframe thead th {\n",
       "        text-align: right;\n",
       "    }\n",
       "</style>\n",
       "<table border=\"1\" class=\"dataframe\">\n",
       "  <thead>\n",
       "    <tr style=\"text-align: right;\">\n",
       "      <th></th>\n",
       "      <th>name</th>\n",
       "      <th>club</th>\n",
       "      <th>age</th>\n",
       "      <th>position</th>\n",
       "      <th>position_cat</th>\n",
       "      <th>market_value</th>\n",
       "      <th>page_views</th>\n",
       "      <th>fpl_value</th>\n",
       "      <th>fpl_sel</th>\n",
       "      <th>fpl_points</th>\n",
       "      <th>region</th>\n",
       "      <th>nationality</th>\n",
       "      <th>new_foreign</th>\n",
       "      <th>age_cat</th>\n",
       "      <th>club_id</th>\n",
       "      <th>big_club</th>\n",
       "      <th>new_signing</th>\n",
       "      <th>fpl_ratio</th>\n",
       "    </tr>\n",
       "  </thead>\n",
       "  <tbody>\n",
       "    <tr>\n",
       "      <th>0</th>\n",
       "      <td>Alexis Sanchez</td>\n",
       "      <td>Arsenal</td>\n",
       "      <td>28</td>\n",
       "      <td>LW</td>\n",
       "      <td>1</td>\n",
       "      <td>65.0</td>\n",
       "      <td>4329</td>\n",
       "      <td>12.0</td>\n",
       "      <td>0.171</td>\n",
       "      <td>264</td>\n",
       "      <td>3.0</td>\n",
       "      <td>Chile</td>\n",
       "      <td>0</td>\n",
       "      <td>4</td>\n",
       "      <td>1</td>\n",
       "      <td>1</td>\n",
       "      <td>0</td>\n",
       "      <td>22.000000</td>\n",
       "    </tr>\n",
       "    <tr>\n",
       "      <th>1</th>\n",
       "      <td>Mesut Ozil</td>\n",
       "      <td>Arsenal</td>\n",
       "      <td>28</td>\n",
       "      <td>AM</td>\n",
       "      <td>1</td>\n",
       "      <td>50.0</td>\n",
       "      <td>4395</td>\n",
       "      <td>9.5</td>\n",
       "      <td>0.056</td>\n",
       "      <td>167</td>\n",
       "      <td>2.0</td>\n",
       "      <td>Germany</td>\n",
       "      <td>0</td>\n",
       "      <td>4</td>\n",
       "      <td>1</td>\n",
       "      <td>1</td>\n",
       "      <td>0</td>\n",
       "      <td>17.578947</td>\n",
       "    </tr>\n",
       "    <tr>\n",
       "      <th>2</th>\n",
       "      <td>Petr Cech</td>\n",
       "      <td>Arsenal</td>\n",
       "      <td>35</td>\n",
       "      <td>GK</td>\n",
       "      <td>4</td>\n",
       "      <td>7.0</td>\n",
       "      <td>1529</td>\n",
       "      <td>5.5</td>\n",
       "      <td>0.059</td>\n",
       "      <td>134</td>\n",
       "      <td>2.0</td>\n",
       "      <td>Czech Republic</td>\n",
       "      <td>0</td>\n",
       "      <td>6</td>\n",
       "      <td>1</td>\n",
       "      <td>1</td>\n",
       "      <td>0</td>\n",
       "      <td>24.363636</td>\n",
       "    </tr>\n",
       "    <tr>\n",
       "      <th>3</th>\n",
       "      <td>Theo Walcott</td>\n",
       "      <td>Arsenal</td>\n",
       "      <td>28</td>\n",
       "      <td>RW</td>\n",
       "      <td>1</td>\n",
       "      <td>20.0</td>\n",
       "      <td>2393</td>\n",
       "      <td>7.5</td>\n",
       "      <td>0.015</td>\n",
       "      <td>122</td>\n",
       "      <td>1.0</td>\n",
       "      <td>United Kingdom of Great Britain and Northern I...</td>\n",
       "      <td>0</td>\n",
       "      <td>4</td>\n",
       "      <td>1</td>\n",
       "      <td>1</td>\n",
       "      <td>0</td>\n",
       "      <td>16.266667</td>\n",
       "    </tr>\n",
       "    <tr>\n",
       "      <th>4</th>\n",
       "      <td>Laurent Koscielny</td>\n",
       "      <td>Arsenal</td>\n",
       "      <td>31</td>\n",
       "      <td>CB</td>\n",
       "      <td>3</td>\n",
       "      <td>22.0</td>\n",
       "      <td>912</td>\n",
       "      <td>6.0</td>\n",
       "      <td>0.007</td>\n",
       "      <td>121</td>\n",
       "      <td>2.0</td>\n",
       "      <td>France</td>\n",
       "      <td>0</td>\n",
       "      <td>4</td>\n",
       "      <td>1</td>\n",
       "      <td>1</td>\n",
       "      <td>0</td>\n",
       "      <td>20.166667</td>\n",
       "    </tr>\n",
       "  </tbody>\n",
       "</table>\n",
       "</div>"
      ],
      "text/plain": [
       "                name     club  age position  position_cat  market_value  \\\n",
       "0     Alexis Sanchez  Arsenal   28       LW             1          65.0   \n",
       "1         Mesut Ozil  Arsenal   28       AM             1          50.0   \n",
       "2          Petr Cech  Arsenal   35       GK             4           7.0   \n",
       "3       Theo Walcott  Arsenal   28       RW             1          20.0   \n",
       "4  Laurent Koscielny  Arsenal   31       CB             3          22.0   \n",
       "\n",
       "   page_views  fpl_value  fpl_sel  fpl_points  region  \\\n",
       "0        4329       12.0    0.171         264     3.0   \n",
       "1        4395        9.5    0.056         167     2.0   \n",
       "2        1529        5.5    0.059         134     2.0   \n",
       "3        2393        7.5    0.015         122     1.0   \n",
       "4         912        6.0    0.007         121     2.0   \n",
       "\n",
       "                                         nationality  new_foreign  age_cat  \\\n",
       "0                                              Chile            0        4   \n",
       "1                                            Germany            0        4   \n",
       "2                                     Czech Republic            0        6   \n",
       "3  United Kingdom of Great Britain and Northern I...            0        4   \n",
       "4                                             France            0        4   \n",
       "\n",
       "   club_id  big_club  new_signing  fpl_ratio  \n",
       "0        1         1            0  22.000000  \n",
       "1        1         1            0  17.578947  \n",
       "2        1         1            0  24.363636  \n",
       "3        1         1            0  16.266667  \n",
       "4        1         1            0  20.166667  "
      ]
     },
     "execution_count": 11,
     "metadata": {},
     "output_type": "execute_result"
    }
   ],
   "source": [
    "dataset.head()"
   ]
  },
  {
   "cell_type": "code",
   "execution_count": 12,
   "metadata": {},
   "outputs": [],
   "source": [
    "import random\n",
    "def random_colors(number_of_colors):\n",
    "    color = [\"#\"+''.join([random.choice('0123456789ABCDEF') for j in range(6)])\n",
    "                 for i in range(number_of_colors)]\n",
    "    return color"
   ]
  },
  {
   "cell_type": "markdown",
   "metadata": {},
   "source": [
    "## Number of Premier League players according to Position"
   ]
  },
  {
   "cell_type": "code",
   "execution_count": 13,
   "metadata": {},
   "outputs": [
    {
     "name": "stderr",
     "output_type": "stream",
     "text": [
      "C:\\ProgramData\\Anaconda3\\envs\\dev\\lib\\site-packages\\seaborn\\_decorators.py:43: FutureWarning:\n",
      "\n",
      "Pass the following variable as a keyword arg: x. From version 0.12, the only valid positional argument will be `data`, and passing other arguments without an explicit keyword will result in an error or misinterpretation.\n",
      "\n"
     ]
    },
    {
     "data": {
      "image/png": "[encoded data removed]",
      "text/plain": [
       "<Figure size 1080x432 with 1 Axes>"
      ]
     },
     "metadata": {
      "needs_background": "light"
     },
     "output_type": "display_data"
    }
   ],
   "source": [
    "plt.subplots(figsize=(15,6))\n",
    "sns.countplot('position',data=dataset,palette='hot',edgecolor=sns.color_palette('dark',7),order=dataset['position'].value_counts().index)\n",
    "plt.xticks(rotation=90)\n",
    "plt.title('Number of Premier League Players per Position')\n",
    "plt.show()"
   ]
  },
  {
   "cell_type": "markdown",
   "metadata": {
    "_cell_guid": "845bbb5a-422e-4c80-a860-a1e4149bc92f",
    "_uuid": "c5aabeb4f1d79a01672b31168041b5426883a87b"
   },
   "source": [
    "### Number Of Players in Clubs based on Position"
   ]
  },
  {
   "cell_type": "code",
   "execution_count": 14,
   "metadata": {
    "_cell_guid": "d9add7ca-76a1-4ce2-8efd-2b8ed97fd153",
    "_uuid": "2682182f24763a8287885909691cb59b1c1d3c43"
   },
   "outputs": [
    {
     "data": {
      "image/png": "[encoded data removed]",
      "text/plain": [
       "<Figure size 864x576 with 1 Axes>"
      ]
     },
     "metadata": {
      "needs_background": "light"
     },
     "output_type": "display_data"
    }
   ],
   "source": [
    "pd.crosstab(dataset.club,dataset.position).plot.bar(stacked=True,width=1,color=sns.color_palette('RdYlGn',9))\n",
    "fig=plt.gcf()\n",
    "fig.set_size_inches(12,8)\n",
    "plt.title('Number Of Player in every Clubs based on position')\n",
    "plt.show()"
   ]
  },
  {
   "cell_type": "markdown",
   "metadata": {},
   "source": [
    "## Top 10 Players according to their Market Value"
   ]
  },
  {
   "cell_type": "code",
   "execution_count": 15,
   "metadata": {},
   "outputs": [
    {
     "data": {
      "text/html": [
       "<div>\n",
       "<style scoped>\n",
       "    .dataframe tbody tr th:only-of-type {\n",
       "        vertical-align: middle;\n",
       "    }\n",
       "\n",
       "    .dataframe tbody tr th {\n",
       "        vertical-align: top;\n",
       "    }\n",
       "\n",
       "    .dataframe thead th {\n",
       "        text-align: right;\n",
       "    }\n",
       "</style>\n",
       "<table border=\"1\" class=\"dataframe\">\n",
       "  <thead>\n",
       "    <tr style=\"text-align: right;\">\n",
       "      <th></th>\n",
       "      <th>name</th>\n",
       "      <th>club</th>\n",
       "      <th>age</th>\n",
       "      <th>position</th>\n",
       "      <th>position_cat</th>\n",
       "      <th>market_value</th>\n",
       "      <th>page_views</th>\n",
       "      <th>fpl_value</th>\n",
       "      <th>fpl_sel</th>\n",
       "      <th>fpl_points</th>\n",
       "      <th>region</th>\n",
       "      <th>nationality</th>\n",
       "      <th>new_foreign</th>\n",
       "      <th>age_cat</th>\n",
       "      <th>club_id</th>\n",
       "      <th>big_club</th>\n",
       "      <th>new_signing</th>\n",
       "      <th>fpl_ratio</th>\n",
       "    </tr>\n",
       "  </thead>\n",
       "  <tbody>\n",
       "    <tr>\n",
       "      <th>92</th>\n",
       "      <td>Eden Hazard</td>\n",
       "      <td>Chelsea</td>\n",
       "      <td>26</td>\n",
       "      <td>LW</td>\n",
       "      <td>1</td>\n",
       "      <td>75.0</td>\n",
       "      <td>4220</td>\n",
       "      <td>10.5</td>\n",
       "      <td>0.023</td>\n",
       "      <td>224</td>\n",
       "      <td>2.0</td>\n",
       "      <td>Belgium</td>\n",
       "      <td>0</td>\n",
       "      <td>3</td>\n",
       "      <td>5</td>\n",
       "      <td>1</td>\n",
       "      <td>0</td>\n",
       "      <td>21.333333</td>\n",
       "    </tr>\n",
       "    <tr>\n",
       "      <th>263</th>\n",
       "      <td>Paul Pogba</td>\n",
       "      <td>Manchester+United</td>\n",
       "      <td>24</td>\n",
       "      <td>CM</td>\n",
       "      <td>2</td>\n",
       "      <td>75.0</td>\n",
       "      <td>7435</td>\n",
       "      <td>8.0</td>\n",
       "      <td>0.195</td>\n",
       "      <td>115</td>\n",
       "      <td>2.0</td>\n",
       "      <td>France</td>\n",
       "      <td>0</td>\n",
       "      <td>2</td>\n",
       "      <td>12</td>\n",
       "      <td>1</td>\n",
       "      <td>1</td>\n",
       "      <td>14.375000</td>\n",
       "    </tr>\n",
       "    <tr>\n",
       "      <th>0</th>\n",
       "      <td>Alexis Sanchez</td>\n",
       "      <td>Arsenal</td>\n",
       "      <td>28</td>\n",
       "      <td>LW</td>\n",
       "      <td>1</td>\n",
       "      <td>65.0</td>\n",
       "      <td>4329</td>\n",
       "      <td>12.0</td>\n",
       "      <td>0.171</td>\n",
       "      <td>264</td>\n",
       "      <td>3.0</td>\n",
       "      <td>Chile</td>\n",
       "      <td>0</td>\n",
       "      <td>4</td>\n",
       "      <td>1</td>\n",
       "      <td>1</td>\n",
       "      <td>0</td>\n",
       "      <td>22.000000</td>\n",
       "    </tr>\n",
       "    <tr>\n",
       "      <th>240</th>\n",
       "      <td>Kevin De Bruyne</td>\n",
       "      <td>Manchester+City</td>\n",
       "      <td>26</td>\n",
       "      <td>AM</td>\n",
       "      <td>1</td>\n",
       "      <td>65.0</td>\n",
       "      <td>2252</td>\n",
       "      <td>10.0</td>\n",
       "      <td>0.175</td>\n",
       "      <td>199</td>\n",
       "      <td>2.0</td>\n",
       "      <td>Belgium</td>\n",
       "      <td>0</td>\n",
       "      <td>3</td>\n",
       "      <td>11</td>\n",
       "      <td>1</td>\n",
       "      <td>0</td>\n",
       "      <td>19.900000</td>\n",
       "    </tr>\n",
       "    <tr>\n",
       "      <th>241</th>\n",
       "      <td>Sergio Aguero</td>\n",
       "      <td>Manchester+City</td>\n",
       "      <td>29</td>\n",
       "      <td>CF</td>\n",
       "      <td>1</td>\n",
       "      <td>65.0</td>\n",
       "      <td>4046</td>\n",
       "      <td>11.5</td>\n",
       "      <td>0.097</td>\n",
       "      <td>175</td>\n",
       "      <td>3.0</td>\n",
       "      <td>Argentina</td>\n",
       "      <td>0</td>\n",
       "      <td>4</td>\n",
       "      <td>11</td>\n",
       "      <td>1</td>\n",
       "      <td>0</td>\n",
       "      <td>15.217391</td>\n",
       "    </tr>\n",
       "    <tr>\n",
       "      <th>377</th>\n",
       "      <td>Harry Kane</td>\n",
       "      <td>Tottenham</td>\n",
       "      <td>23</td>\n",
       "      <td>CF</td>\n",
       "      <td>1</td>\n",
       "      <td>60.0</td>\n",
       "      <td>4161</td>\n",
       "      <td>12.5</td>\n",
       "      <td>0.351</td>\n",
       "      <td>224</td>\n",
       "      <td>1.0</td>\n",
       "      <td>United Kingdom of Great Britain and Northern I...</td>\n",
       "      <td>0</td>\n",
       "      <td>2</td>\n",
       "      <td>17</td>\n",
       "      <td>1</td>\n",
       "      <td>0</td>\n",
       "      <td>17.920000</td>\n",
       "    </tr>\n",
       "    <tr>\n",
       "      <th>1</th>\n",
       "      <td>Mesut Ozil</td>\n",
       "      <td>Arsenal</td>\n",
       "      <td>28</td>\n",
       "      <td>AM</td>\n",
       "      <td>1</td>\n",
       "      <td>50.0</td>\n",
       "      <td>4395</td>\n",
       "      <td>9.5</td>\n",
       "      <td>0.056</td>\n",
       "      <td>167</td>\n",
       "      <td>2.0</td>\n",
       "      <td>Germany</td>\n",
       "      <td>0</td>\n",
       "      <td>4</td>\n",
       "      <td>1</td>\n",
       "      <td>1</td>\n",
       "      <td>0</td>\n",
       "      <td>17.578947</td>\n",
       "    </tr>\n",
       "    <tr>\n",
       "      <th>93</th>\n",
       "      <td>Diego Costa</td>\n",
       "      <td>Chelsea</td>\n",
       "      <td>28</td>\n",
       "      <td>CF</td>\n",
       "      <td>1</td>\n",
       "      <td>50.0</td>\n",
       "      <td>4454</td>\n",
       "      <td>10.0</td>\n",
       "      <td>0.030</td>\n",
       "      <td>196</td>\n",
       "      <td>2.0</td>\n",
       "      <td>Spain</td>\n",
       "      <td>0</td>\n",
       "      <td>4</td>\n",
       "      <td>5</td>\n",
       "      <td>1</td>\n",
       "      <td>0</td>\n",
       "      <td>19.600000</td>\n",
       "    </tr>\n",
       "    <tr>\n",
       "      <th>104</th>\n",
       "      <td>N%27Golo Kante</td>\n",
       "      <td>Chelsea</td>\n",
       "      <td>26</td>\n",
       "      <td>DM</td>\n",
       "      <td>2</td>\n",
       "      <td>50.0</td>\n",
       "      <td>4042</td>\n",
       "      <td>5.0</td>\n",
       "      <td>0.138</td>\n",
       "      <td>83</td>\n",
       "      <td>2.0</td>\n",
       "      <td>France</td>\n",
       "      <td>0</td>\n",
       "      <td>3</td>\n",
       "      <td>5</td>\n",
       "      <td>1</td>\n",
       "      <td>1</td>\n",
       "      <td>16.600000</td>\n",
       "    </tr>\n",
       "    <tr>\n",
       "      <th>260</th>\n",
       "      <td>Romelu Lukaku</td>\n",
       "      <td>Manchester+United</td>\n",
       "      <td>24</td>\n",
       "      <td>CF</td>\n",
       "      <td>1</td>\n",
       "      <td>50.0</td>\n",
       "      <td>3727</td>\n",
       "      <td>11.5</td>\n",
       "      <td>0.450</td>\n",
       "      <td>221</td>\n",
       "      <td>2.0</td>\n",
       "      <td>Belgium</td>\n",
       "      <td>0</td>\n",
       "      <td>2</td>\n",
       "      <td>12</td>\n",
       "      <td>1</td>\n",
       "      <td>0</td>\n",
       "      <td>19.217391</td>\n",
       "    </tr>\n",
       "  </tbody>\n",
       "</table>\n",
       "</div>"
      ],
      "text/plain": [
       "                name               club  age position  position_cat  \\\n",
       "92       Eden Hazard            Chelsea   26       LW             1   \n",
       "263       Paul Pogba  Manchester+United   24       CM             2   \n",
       "0     Alexis Sanchez            Arsenal   28       LW             1   \n",
       "240  Kevin De Bruyne    Manchester+City   26       AM             1   \n",
       "241    Sergio Aguero    Manchester+City   29       CF             1   \n",
       "377       Harry Kane          Tottenham   23       CF             1   \n",
       "1         Mesut Ozil            Arsenal   28       AM             1   \n",
       "93       Diego Costa            Chelsea   28       CF             1   \n",
       "104   N%27Golo Kante            Chelsea   26       DM             2   \n",
       "260    Romelu Lukaku  Manchester+United   24       CF             1   \n",
       "\n",
       "     market_value  page_views  fpl_value  fpl_sel  fpl_points  region  \\\n",
       "92           75.0        4220       10.5    0.023         224     2.0   \n",
       "263          75.0        7435        8.0    0.195         115     2.0   \n",
       "0            65.0        4329       12.0    0.171         264     3.0   \n",
       "240          65.0        2252       10.0    0.175         199     2.0   \n",
       "241          65.0        4046       11.5    0.097         175     3.0   \n",
       "377          60.0        4161       12.5    0.351         224     1.0   \n",
       "1            50.0        4395        9.5    0.056         167     2.0   \n",
       "93           50.0        4454       10.0    0.030         196     2.0   \n",
       "104          50.0        4042        5.0    0.138          83     2.0   \n",
       "260          50.0        3727       11.5    0.450         221     2.0   \n",
       "\n",
       "                                           nationality  new_foreign  age_cat  \\\n",
       "92                                             Belgium            0        3   \n",
       "263                                             France            0        2   \n",
       "0                                                Chile            0        4   \n",
       "240                                            Belgium            0        3   \n",
       "241                                          Argentina            0        4   \n",
       "377  United Kingdom of Great Britain and Northern I...            0        2   \n",
       "1                                              Germany            0        4   \n",
       "93                                               Spain            0        4   \n",
       "104                                             France            0        3   \n",
       "260                                            Belgium            0        2   \n",
       "\n",
       "     club_id  big_club  new_signing  fpl_ratio  \n",
       "92         5         1            0  21.333333  \n",
       "263       12         1            1  14.375000  \n",
       "0          1         1            0  22.000000  \n",
       "240       11         1            0  19.900000  \n",
       "241       11         1            0  15.217391  \n",
       "377       17         1            0  17.920000  \n",
       "1          1         1            0  17.578947  \n",
       "93         5         1            0  19.600000  \n",
       "104        5         1            1  16.600000  \n",
       "260       12         1            0  19.217391  "
      ]
     },
     "execution_count": 15,
     "metadata": {},
     "output_type": "execute_result"
    }
   ],
   "source": [
    "datasetmarketv = dataset.nlargest(10, 'market_value').sort_values('market_value',ascending=False)\n",
    "datasetmarketv"
   ]
  },
  {
   "cell_type": "code",
   "execution_count": 16,
   "metadata": {},
   "outputs": [
    {
     "data": {
      "application/vnd.plotly.v1+json": {
       "config": {
        "linkText": "Export to plot.ly",
        "plotlyServerURL": "https://plot.ly",
        "showLink": false
       },
       "data": [
        {
         "marker": {
          "color": [
           "#D83252",
           "#0E4E2D",
           "#D47341",
           "#C53235",
           "#856B21",
           "#E45674",
           "#0D760F",
           "#AE3A50",
           "#B47F23",
           "#FD13CF"
          ]
         },
         "type": "bar",
         "x": [
          "Eden Hazard",
          "Paul Pogba",
          "Alexis Sanchez",
          "Kevin De Bruyne",
          "Sergio Aguero",
          "Harry Kane",
          "Mesut Ozil",
          "Diego Costa",
          "N%27Golo Kante",
          "Romelu Lukaku"
         ],
         "y": [
          75,
          75,
          65,
          65,
          65,
          60,
          50,
          50,
          50,
          50
         ]
        }
       ],
       "layout": {
        "title": "top 10 PL players according to Market Value"
       }
      },
      "text/html": [
       "<div>                            <div id=\"33825f7b-3dee-45bc-86c3-9b3380a96de4\" class=\"plotly-graph-div\" style=\"height:525px; width:100%;\"></div>            <script type=\"text/javascript\">                require([\"plotly\"], function(Plotly) {                    window.PLOTLYENV=window.PLOTLYENV || {};                                    if (document.getElementById(\"33825f7b-3dee-45bc-86c3-9b3380a96de4\")) {                    Plotly.newPlot(                        \"33825f7b-3dee-45bc-86c3-9b3380a96de4\",                        [{\"marker\": {\"color\": [\"#D83252\", \"#0E4E2D\", \"#D47341\", \"#C53235\", \"#856B21\", \"#E45674\", \"#0D760F\", \"#AE3A50\", \"#B47F23\", \"#FD13CF\"]}, \"type\": \"bar\", \"x\": [\"Eden Hazard\", \"Paul Pogba\", \"Alexis Sanchez\", \"Kevin De Bruyne\", \"Sergio Aguero\", \"Harry Kane\", \"Mesut Ozil\", \"Diego Costa\", \"N%27Golo Kante\", \"Romelu Lukaku\"], \"y\": [75.0, 75.0, 65.0, 65.0, 65.0, 60.0, 50.0, 50.0, 50.0, 50.0]}],                        {\"title\": \"top 10 PL players according to Market Value\"},                        {\"responsive\": true}                    ).then(function(){\n",
       "                            \n",
       "var gd = document.getElementById('33825f7b-3dee-45bc-86c3-9b3380a96de4');\n",
       "var x = new MutationObserver(function (mutations, observer) {{\n",
       "        var display = window.getComputedStyle(gd).display;\n",
       "        if (!display || display === 'none') {{\n",
       "            console.log([gd, 'removed!']);\n",
       "            Plotly.purge(gd);\n",
       "            observer.disconnect();\n",
       "        }}\n",
       "}});\n",
       "\n",
       "// Listen for the removal of the full notebook cells\n",
       "var notebookContainer = gd.closest('#notebook-container');\n",
       "if (notebookContainer) {{\n",
       "    x.observe(notebookContainer, {childList: true});\n",
       "}}\n",
       "\n",
       "// Listen for the clearing of the current output cell\n",
       "var outputEl = gd.closest('.output');\n",
       "if (outputEl) {{\n",
       "    x.observe(outputEl, {childList: true});\n",
       "}}\n",
       "\n",
       "                        })                };                });            </script>        </div>"
      ]
     },
     "metadata": {},
     "output_type": "display_data"
    }
   ],
   "source": [
    "data = [go.Bar(\n",
    "    x = datasetmarketv.name,\n",
    "    y = datasetmarketv.market_value,\n",
    "    marker = dict(color = random_colors(10))\n",
    ")]\n",
    "layout = dict(title= \"top 10 PL players according to Market Value\")\n",
    "fig = dict( data=data, layout=layout )\n",
    "iplot( fig, validate=False )"
   ]
  },
  {
   "cell_type": "markdown",
   "metadata": {
    "_cell_guid": "1a6307da-cdab-41b2-8497-3520b2479627",
    "_uuid": "96ba651bcfdb86dc58533263621df6b8f61cd16f"
   },
   "source": [
    "### Distribution of Players according to Age"
   ]
  },
  {
   "cell_type": "code",
   "execution_count": 17,
   "metadata": {
    "_cell_guid": "7689967d-e5b5-4041-a042-75cdcf0674a7",
    "_uuid": "dde929f5a41551930e47c29807126bdb4ec6b2b0"
   },
   "outputs": [
    {
     "name": "stderr",
     "output_type": "stream",
     "text": [
      "C:\\ProgramData\\Anaconda3\\envs\\dev\\lib\\site-packages\\seaborn\\distributions.py:2551: FutureWarning:\n",
      "\n",
      "`distplot` is a deprecated function and will be removed in a future version. Please adapt your code to use either `displot` (a figure-level function with similar flexibility) or `histplot` (an axes-level function for histograms).\n",
      "\n",
      "C:\\ProgramData\\Anaconda3\\envs\\dev\\lib\\site-packages\\seaborn\\distributions.py:2613: MatplotlibDeprecationWarning:\n",
      "\n",
      "Support for uppercase single-letter colors is deprecated since Matplotlib 3.1 and will be removed in 3.3; please use lowercase instead.\n",
      "\n"
     ]
    },
    {
     "data": {
      "image/png": "[encoded data removed]",
      "text/plain": [
       "<Figure size 1080x432 with 1 Axes>"
      ]
     },
     "metadata": {
      "needs_background": "light"
     },
     "output_type": "display_data"
    }
   ],
   "source": [
    "plt.subplots(figsize=(15,6))\n",
    "sns.set_color_codes()\n",
    "sns.distplot(dataset['age'], color = \"R\")\n",
    "plt.xticks(rotation=90)\n",
    "plt.title('Distribution of Premier League Players Age')\n",
    "plt.show()"
   ]
  },
  {
   "cell_type": "markdown",
   "metadata": {
    "_cell_guid": "bb8e8330-1dfb-4573-825d-473b73d2cae3",
    "_uuid": "9949c4259ff2bbd423428c5d11a70fc3781d2ecf"
   },
   "source": [
    "### Average of Market Value of Players in each Club"
   ]
  },
  {
   "cell_type": "code",
   "execution_count": 18,
   "metadata": {
    "_cell_guid": "82eb58b5-2741-4e74-bea5-0d15858fd277",
    "_uuid": "f7c9e500c451f63eea34c85bac62086d494f977d"
   },
   "outputs": [
    {
     "data": {
      "text/html": [
       "<div>\n",
       "<style scoped>\n",
       "    .dataframe tbody tr th:only-of-type {\n",
       "        vertical-align: middle;\n",
       "    }\n",
       "\n",
       "    .dataframe tbody tr th {\n",
       "        vertical-align: top;\n",
       "    }\n",
       "\n",
       "    .dataframe thead th {\n",
       "        text-align: right;\n",
       "    }\n",
       "</style>\n",
       "<table border=\"1\" class=\"dataframe\">\n",
       "  <thead>\n",
       "    <tr style=\"text-align: right;\">\n",
       "      <th></th>\n",
       "      <th>club</th>\n",
       "      <th>market_value</th>\n",
       "    </tr>\n",
       "  </thead>\n",
       "  <tbody>\n",
       "    <tr>\n",
       "      <th>10</th>\n",
       "      <td>Manchester+City</td>\n",
       "      <td>28.200000</td>\n",
       "    </tr>\n",
       "    <tr>\n",
       "      <th>4</th>\n",
       "      <td>Chelsea</td>\n",
       "      <td>27.677500</td>\n",
       "    </tr>\n",
       "    <tr>\n",
       "      <th>16</th>\n",
       "      <td>Tottenham</td>\n",
       "      <td>23.000000</td>\n",
       "    </tr>\n",
       "    <tr>\n",
       "      <th>11</th>\n",
       "      <td>Manchester+United</td>\n",
       "      <td>20.564000</td>\n",
       "    </tr>\n",
       "    <tr>\n",
       "      <th>0</th>\n",
       "      <td>Arsenal</td>\n",
       "      <td>19.642857</td>\n",
       "    </tr>\n",
       "    <tr>\n",
       "      <th>9</th>\n",
       "      <td>Liverpool</td>\n",
       "      <td>16.314815</td>\n",
       "    </tr>\n",
       "    <tr>\n",
       "      <th>6</th>\n",
       "      <td>Everton</td>\n",
       "      <td>10.098214</td>\n",
       "    </tr>\n",
       "    <tr>\n",
       "      <th>13</th>\n",
       "      <td>Southampton</td>\n",
       "      <td>10.000000</td>\n",
       "    </tr>\n",
       "    <tr>\n",
       "      <th>19</th>\n",
       "      <td>West+Ham</td>\n",
       "      <td>8.818182</td>\n",
       "    </tr>\n",
       "    <tr>\n",
       "      <th>8</th>\n",
       "      <td>Leicester+City</td>\n",
       "      <td>8.645833</td>\n",
       "    </tr>\n",
       "    <tr>\n",
       "      <th>5</th>\n",
       "      <td>Crystal+Palace</td>\n",
       "      <td>7.726190</td>\n",
       "    </tr>\n",
       "    <tr>\n",
       "      <th>14</th>\n",
       "      <td>Stoke+City</td>\n",
       "      <td>6.818182</td>\n",
       "    </tr>\n",
       "    <tr>\n",
       "      <th>15</th>\n",
       "      <td>Swansea</td>\n",
       "      <td>5.560000</td>\n",
       "    </tr>\n",
       "    <tr>\n",
       "      <th>18</th>\n",
       "      <td>West+Brom</td>\n",
       "      <td>5.328947</td>\n",
       "    </tr>\n",
       "    <tr>\n",
       "      <th>12</th>\n",
       "      <td>Newcastle+United</td>\n",
       "      <td>5.202381</td>\n",
       "    </tr>\n",
       "    <tr>\n",
       "      <th>17</th>\n",
       "      <td>Watford</td>\n",
       "      <td>5.166667</td>\n",
       "    </tr>\n",
       "    <tr>\n",
       "      <th>1</th>\n",
       "      <td>Bournemouth</td>\n",
       "      <td>4.895833</td>\n",
       "    </tr>\n",
       "    <tr>\n",
       "      <th>3</th>\n",
       "      <td>Burnley</td>\n",
       "      <td>3.958333</td>\n",
       "    </tr>\n",
       "    <tr>\n",
       "      <th>2</th>\n",
       "      <td>Brighton+and+Hove</td>\n",
       "      <td>2.522727</td>\n",
       "    </tr>\n",
       "    <tr>\n",
       "      <th>7</th>\n",
       "      <td>Huddersfield</td>\n",
       "      <td>1.791071</td>\n",
       "    </tr>\n",
       "  </tbody>\n",
       "</table>\n",
       "</div>"
      ],
      "text/plain": [
       "                 club  market_value\n",
       "10    Manchester+City     28.200000\n",
       "4             Chelsea     27.677500\n",
       "16          Tottenham     23.000000\n",
       "11  Manchester+United     20.564000\n",
       "0             Arsenal     19.642857\n",
       "9           Liverpool     16.314815\n",
       "6             Everton     10.098214\n",
       "13        Southampton     10.000000\n",
       "19           West+Ham      8.818182\n",
       "8      Leicester+City      8.645833\n",
       "5      Crystal+Palace      7.726190\n",
       "14         Stoke+City      6.818182\n",
       "15            Swansea      5.560000\n",
       "18          West+Brom      5.328947\n",
       "12   Newcastle+United      5.202381\n",
       "17            Watford      5.166667\n",
       "1         Bournemouth      4.895833\n",
       "3             Burnley      3.958333\n",
       "2   Brighton+and+Hove      2.522727\n",
       "7        Huddersfield      1.791071"
      ]
     },
     "execution_count": 18,
     "metadata": {},
     "output_type": "execute_result"
    }
   ],
   "source": [
    "dataset_meanmv=pd.DataFrame(dataset.groupby(['club'])['market_value'].mean()).reset_index().sort_values('market_value',ascending=False)\n",
    "dataset_meanmv"
   ]
  },
  {
   "cell_type": "code",
   "execution_count": 19,
   "metadata": {},
   "outputs": [
    {
     "data": {
      "application/vnd.plotly.v1+json": {
       "config": {
        "linkText": "Export to plot.ly",
        "plotlyServerURL": "https://plot.ly",
        "showLink": false
       },
       "data": [
        {
         "marker": {
          "color": [
           "#EC4399",
           "#B97E0F",
           "#E27A84",
           "#934AFB",
           "#839C28",
           "#0CD9E4",
           "#A87138",
           "#53D65A",
           "#23C0DB",
           "#0CE685",
           "#A2EFB3",
           "#746AA3",
           "#27675F",
           "#EF1262",
           "#A8EB6F",
           "#964DCB",
           "#E83C23",
           "#1F2367",
           "#E901A4",
           "#7E018C"
          ]
         },
         "type": "bar",
         "x": [
          "Manchester+City",
          "Chelsea",
          "Tottenham",
          "Manchester+United",
          "Arsenal",
          "Liverpool",
          "Everton",
          "Southampton",
          "West+Ham",
          "Leicester+City",
          "Crystal+Palace",
          "Stoke+City",
          "Swansea",
          "West+Brom",
          "Newcastle+United",
          "Watford",
          "Bournemouth",
          "Burnley",
          "Brighton+and+Hove",
          "Huddersfield"
         ],
         "y": [
          28.2,
          27.6775,
          23,
          20.564,
          19.642857142857142,
          16.314814814814813,
          10.098214285714286,
          10,
          8.818181818181818,
          8.645833333333334,
          7.726190476190476,
          6.818181818181818,
          5.56,
          5.328947368421052,
          5.2023809523809526,
          5.166666666666667,
          4.895833333333333,
          3.9583333333333335,
          2.522727272727273,
          1.7910714285714284
         ]
        }
       ],
       "layout": {
        "title": "Average of Market Value"
       }
      },
      "text/html": [
       "<div>                            <div id=\"87f05337-7ef9-4bbd-9810-f714cbdd42b6\" class=\"plotly-graph-div\" style=\"height:525px; width:100%;\"></div>            <script type=\"text/javascript\">                require([\"plotly\"], function(Plotly) {                    window.PLOTLYENV=window.PLOTLYENV || {};                                    if (document.getElementById(\"87f05337-7ef9-4bbd-9810-f714cbdd42b6\")) {                    Plotly.newPlot(                        \"87f05337-7ef9-4bbd-9810-f714cbdd42b6\",                        [{\"marker\": {\"color\": [\"#EC4399\", \"#B97E0F\", \"#E27A84\", \"#934AFB\", \"#839C28\", \"#0CD9E4\", \"#A87138\", \"#53D65A\", \"#23C0DB\", \"#0CE685\", \"#A2EFB3\", \"#746AA3\", \"#27675F\", \"#EF1262\", \"#A8EB6F\", \"#964DCB\", \"#E83C23\", \"#1F2367\", \"#E901A4\", \"#7E018C\"]}, \"type\": \"bar\", \"x\": [\"Manchester+City\", \"Chelsea\", \"Tottenham\", \"Manchester+United\", \"Arsenal\", \"Liverpool\", \"Everton\", \"Southampton\", \"West+Ham\", \"Leicester+City\", \"Crystal+Palace\", \"Stoke+City\", \"Swansea\", \"West+Brom\", \"Newcastle+United\", \"Watford\", \"Bournemouth\", \"Burnley\", \"Brighton+and+Hove\", \"Huddersfield\"], \"y\": [28.2, 27.6775, 23.0, 20.564, 19.642857142857142, 16.314814814814813, 10.098214285714286, 10.0, 8.818181818181818, 8.645833333333334, 7.726190476190476, 6.818181818181818, 5.56, 5.328947368421052, 5.2023809523809526, 5.166666666666667, 4.895833333333333, 3.9583333333333335, 2.522727272727273, 1.7910714285714284]}],                        {\"title\": \"Average of Market Value\"},                        {\"responsive\": true}                    ).then(function(){\n",
       "                            \n",
       "var gd = document.getElementById('87f05337-7ef9-4bbd-9810-f714cbdd42b6');\n",
       "var x = new MutationObserver(function (mutations, observer) {{\n",
       "        var display = window.getComputedStyle(gd).display;\n",
       "        if (!display || display === 'none') {{\n",
       "            console.log([gd, 'removed!']);\n",
       "            Plotly.purge(gd);\n",
       "            observer.disconnect();\n",
       "        }}\n",
       "}});\n",
       "\n",
       "// Listen for the removal of the full notebook cells\n",
       "var notebookContainer = gd.closest('#notebook-container');\n",
       "if (notebookContainer) {{\n",
       "    x.observe(notebookContainer, {childList: true});\n",
       "}}\n",
       "\n",
       "// Listen for the clearing of the current output cell\n",
       "var outputEl = gd.closest('.output');\n",
       "if (outputEl) {{\n",
       "    x.observe(outputEl, {childList: true});\n",
       "}}\n",
       "\n",
       "                        })                };                });            </script>        </div>"
      ]
     },
     "metadata": {},
     "output_type": "display_data"
    }
   ],
   "source": [
    "data = [go.Bar(\n",
    "    x = dataset_meanmv.club,\n",
    "    y = dataset_meanmv.market_value,\n",
    "    marker = dict(color = random_colors(20))\n",
    ")]\n",
    "layout = dict(title= \"Average of Market Value\")\n",
    "fig = dict( data=data, layout=layout )\n",
    "iplot( fig, validate=False )"
   ]
  },
  {
   "cell_type": "code",
   "execution_count": 20,
   "metadata": {},
   "outputs": [
    {
     "data": {
      "application/vnd.plotly.v1+json": {
       "config": {
        "linkText": "Export to plot.ly",
        "plotlyServerURL": "https://plot.ly",
        "showLink": false
       },
       "data": [
        {
         "hole": 0.6,
         "labels": [
          "Manchester+City",
          "Chelsea",
          "Tottenham",
          "Manchester+United",
          "Arsenal",
          "Liverpool",
          "Everton",
          "Southampton",
          "West+Ham",
          "Leicester+City",
          "Crystal+Palace",
          "Stoke+City",
          "Swansea",
          "West+Brom",
          "Newcastle+United",
          "Watford",
          "Bournemouth",
          "Burnley",
          "Brighton+and+Hove",
          "Huddersfield"
         ],
         "textinfo": "none",
         "type": "pie",
         "values": [
          28.2,
          27.6775,
          23,
          20.564,
          19.642857142857142,
          16.314814814814813,
          10.098214285714286,
          10,
          8.818181818181818,
          8.645833333333334,
          7.726190476190476,
          6.818181818181818,
          5.56,
          5.328947368421052,
          5.2023809523809526,
          5.166666666666667,
          4.895833333333333,
          3.9583333333333335,
          2.522727272727273,
          1.7910714285714284
         ]
        }
       ],
       "layout": {
        "template": {
         "data": {
          "bar": [
           {
            "error_x": {
             "color": "#2a3f5f"
            },
            "error_y": {
             "color": "#2a3f5f"
            },
            "marker": {
             "line": {
              "color": "#E5ECF6",
              "width": 0.5
             }
            },
            "type": "bar"
           }
          ],
          "barpolar": [
           {
            "marker": {
             "line": {
              "color": "#E5ECF6",
              "width": 0.5
             }
            },
            "type": "barpolar"
           }
          ],
          "carpet": [
           {
            "aaxis": {
             "endlinecolor": "#2a3f5f",
             "gridcolor": "white",
             "linecolor": "white",
             "minorgridcolor": "white",
             "startlinecolor": "#2a3f5f"
            },
            "baxis": {
             "endlinecolor": "#2a3f5f",
             "gridcolor": "white",
             "linecolor": "white",
             "minorgridcolor": "white",
             "startlinecolor": "#2a3f5f"
            },
            "type": "carpet"
           }
          ],
          "choropleth": [
           {
            "colorbar": {
             "outlinewidth": 0,
             "ticks": ""
            },
            "type": "choropleth"
           }
          ],
          "contour": [
           {
            "colorbar": {
             "outlinewidth": 0,
             "ticks": ""
            },
            "colorscale": [
             [
              0,
              "#0d0887"
             ],
             [
              0.1111111111111111,
              "#46039f"
             ],
             [
              0.2222222222222222,
              "#7201a8"
             ],
             [
              0.3333333333333333,
              "#9c179e"
             ],
             [
              0.4444444444444444,
              "#bd3786"
             ],
             [
              0.5555555555555556,
              "#d8576b"
             ],
             [
              0.6666666666666666,
              "#ed7953"
             ],
             [
              0.7777777777777778,
              "#fb9f3a"
             ],
             [
              0.8888888888888888,
              "#fdca26"
             ],
             [
              1,
              "#f0f921"
             ]
            ],
            "type": "contour"
           }
          ],
          "contourcarpet": [
           {
            "colorbar": {
             "outlinewidth": 0,
             "ticks": ""
            },
            "type": "contourcarpet"
           }
          ],
          "heatmap": [
           {
            "colorbar": {
             "outlinewidth": 0,
             "ticks": ""
            },
            "colorscale": [
             [
              0,
              "#0d0887"
             ],
             [
              0.1111111111111111,
              "#46039f"
             ],
             [
              0.2222222222222222,
              "#7201a8"
             ],
             [
              0.3333333333333333,
              "#9c179e"
             ],
             [
              0.4444444444444444,
              "#bd3786"
             ],
             [
              0.5555555555555556,
              "#d8576b"
             ],
             [
              0.6666666666666666,
              "#ed7953"
             ],
             [
              0.7777777777777778,
              "#fb9f3a"
             ],
             [
              0.8888888888888888,
              "#fdca26"
             ],
             [
              1,
              "#f0f921"
             ]
            ],
            "type": "heatmap"
           }
          ],
          "heatmapgl": [
           {
            "colorbar": {
             "outlinewidth": 0,
             "ticks": ""
            },
            "colorscale": [
             [
              0,
              "#0d0887"
             ],
             [
              0.1111111111111111,
              "#46039f"
             ],
             [
              0.2222222222222222,
              "#7201a8"
             ],
             [
              0.3333333333333333,
              "#9c179e"
             ],
             [
              0.4444444444444444,
              "#bd3786"
             ],
             [
              0.5555555555555556,
              "#d8576b"
             ],
             [
              0.6666666666666666,
              "#ed7953"
             ],
             [
              0.7777777777777778,
              "#fb9f3a"
             ],
             [
              0.8888888888888888,
              "#fdca26"
             ],
             [
              1,
              "#f0f921"
             ]
            ],
            "type": "heatmapgl"
           }
          ],
          "histogram": [
           {
            "marker": {
             "colorbar": {
              "outlinewidth": 0,
              "ticks": ""
             }
            },
            "type": "histogram"
           }
          ],
          "histogram2d": [
           {
            "colorbar": {
             "outlinewidth": 0,
             "ticks": ""
            },
            "colorscale": [
             [
              0,
              "#0d0887"
             ],
             [
              0.1111111111111111,
              "#46039f"
             ],
             [
              0.2222222222222222,
              "#7201a8"
             ],
             [
              0.3333333333333333,
              "#9c179e"
             ],
             [
              0.4444444444444444,
              "#bd3786"
             ],
             [
              0.5555555555555556,
              "#d8576b"
             ],
             [
              0.6666666666666666,
              "#ed7953"
             ],
             [
              0.7777777777777778,
              "#fb9f3a"
             ],
             [
              0.8888888888888888,
              "#fdca26"
             ],
             [
              1,
              "#f0f921"
             ]
            ],
            "type": "histogram2d"
           }
          ],
          "histogram2dcontour": [
           {
            "colorbar": {
             "outlinewidth": 0,
             "ticks": ""
            },
            "colorscale": [
             [
              0,
              "#0d0887"
             ],
             [
              0.1111111111111111,
              "#46039f"
             ],
             [
              0.2222222222222222,
              "#7201a8"
             ],
             [
              0.3333333333333333,
              "#9c179e"
             ],
             [
              0.4444444444444444,
              "#bd3786"
             ],
             [
              0.5555555555555556,
              "#d8576b"
             ],
             [
              0.6666666666666666,
              "#ed7953"
             ],
             [
              0.7777777777777778,
              "#fb9f3a"
             ],
             [
              0.8888888888888888,
              "#fdca26"
             ],
             [
              1,
              "#f0f921"
             ]
            ],
            "type": "histogram2dcontour"
           }
          ],
          "mesh3d": [
           {
            "colorbar": {
             "outlinewidth": 0,
             "ticks": ""
            },
            "type": "mesh3d"
           }
          ],
          "parcoords": [
           {
            "line": {
             "colorbar": {
              "outlinewidth": 0,
              "ticks": ""
             }
            },
            "type": "parcoords"
           }
          ],
          "pie": [
           {
            "automargin": true,
            "type": "pie"
           }
          ],
          "scatter": [
           {
            "marker": {
             "colorbar": {
              "outlinewidth": 0,
              "ticks": ""
             }
            },
            "type": "scatter"
           }
          ],
          "scatter3d": [
           {
            "line": {
             "colorbar": {
              "outlinewidth": 0,
              "ticks": ""
             }
            },
            "marker": {
             "colorbar": {
              "outlinewidth": 0,
              "ticks": ""
             }
            },
            "type": "scatter3d"
           }
          ],
          "scattercarpet": [
           {
            "marker": {
             "colorbar": {
              "outlinewidth": 0,
              "ticks": ""
             }
            },
            "type": "scattercarpet"
           }
          ],
          "scattergeo": [
           {
            "marker": {
             "colorbar": {
              "outlinewidth": 0,
              "ticks": ""
             }
            },
            "type": "scattergeo"
           }
          ],
          "scattergl": [
           {
            "marker": {
             "colorbar": {
              "outlinewidth": 0,
              "ticks": ""
             }
            },
            "type": "scattergl"
           }
          ],
          "scattermapbox": [
           {
            "marker": {
             "colorbar": {
              "outlinewidth": 0,
              "ticks": ""
             }
            },
            "type": "scattermapbox"
           }
          ],
          "scatterpolar": [
           {
            "marker": {
             "colorbar": {
              "outlinewidth": 0,
              "ticks": ""
             }
            },
            "type": "scatterpolar"
           }
          ],
          "scatterpolargl": [
           {
            "marker": {
             "colorbar": {
              "outlinewidth": 0,
              "ticks": ""
             }
            },
            "type": "scatterpolargl"
           }
          ],
          "scatterternary": [
           {
            "marker": {
             "colorbar": {
              "outlinewidth": 0,
              "ticks": ""
             }
            },
            "type": "scatterternary"
           }
          ],
          "surface": [
           {
            "colorbar": {
             "outlinewidth": 0,
             "ticks": ""
            },
            "colorscale": [
             [
              0,
              "#0d0887"
             ],
             [
              0.1111111111111111,
              "#46039f"
             ],
             [
              0.2222222222222222,
              "#7201a8"
             ],
             [
              0.3333333333333333,
              "#9c179e"
             ],
             [
              0.4444444444444444,
              "#bd3786"
             ],
             [
              0.5555555555555556,
              "#d8576b"
             ],
             [
              0.6666666666666666,
              "#ed7953"
             ],
             [
              0.7777777777777778,
              "#fb9f3a"
             ],
             [
              0.8888888888888888,
              "#fdca26"
             ],
             [
              1,
              "#f0f921"
             ]
            ],
            "type": "surface"
           }
          ],
          "table": [
           {
            "cells": {
             "fill": {
              "color": "#EBF0F8"
             },
             "line": {
              "color": "white"
             }
            },
            "header": {
             "fill": {
              "color": "#C8D4E3"
             },
             "line": {
              "color": "white"
             }
            },
            "type": "table"
           }
          ]
         },
         "layout": {
          "annotationdefaults": {
           "arrowcolor": "#2a3f5f",
           "arrowhead": 0,
           "arrowwidth": 1
          },
          "coloraxis": {
           "colorbar": {
            "outlinewidth": 0,
            "ticks": ""
           }
          },
          "colorscale": {
           "diverging": [
            [
             0,
             "#8e0152"
            ],
            [
             0.1,
             "#c51b7d"
            ],
            [
             0.2,
             "#de77ae"
            ],
            [
             0.3,
             "#f1b6da"
            ],
            [
             0.4,
             "#fde0ef"
            ],
            [
             0.5,
             "#f7f7f7"
            ],
            [
             0.6,
             "#e6f5d0"
            ],
            [
             0.7,
             "#b8e186"
            ],
            [
             0.8,
             "#7fbc41"
            ],
            [
             0.9,
             "#4d9221"
            ],
            [
             1,
             "#276419"
            ]
           ],
           "sequential": [
            [
             0,
             "#0d0887"
            ],
            [
             0.1111111111111111,
             "#46039f"
            ],
            [
             0.2222222222222222,
             "#7201a8"
            ],
            [
             0.3333333333333333,
             "#9c179e"
            ],
            [
             0.4444444444444444,
             "#bd3786"
            ],
            [
             0.5555555555555556,
             "#d8576b"
            ],
            [
             0.6666666666666666,
             "#ed7953"
            ],
            [
             0.7777777777777778,
             "#fb9f3a"
            ],
            [
             0.8888888888888888,
             "#fdca26"
            ],
            [
             1,
             "#f0f921"
            ]
           ],
           "sequentialminus": [
            [
             0,
             "#0d0887"
            ],
            [
             0.1111111111111111,
             "#46039f"
            ],
            [
             0.2222222222222222,
             "#7201a8"
            ],
            [
             0.3333333333333333,
             "#9c179e"
            ],
            [
             0.4444444444444444,
             "#bd3786"
            ],
            [
             0.5555555555555556,
             "#d8576b"
            ],
            [
             0.6666666666666666,
             "#ed7953"
            ],
            [
             0.7777777777777778,
             "#fb9f3a"
            ],
            [
             0.8888888888888888,
             "#fdca26"
            ],
            [
             1,
             "#f0f921"
            ]
           ]
          },
          "colorway": [
           "#636efa",
           "#EF553B",
           "#00cc96",
           "#ab63fa",
           "#FFA15A",
           "#19d3f3",
           "#FF6692",
           "#B6E880",
           "#FF97FF",
           "#FECB52"
          ],
          "font": {
           "color": "#2a3f5f"
          },
          "geo": {
           "bgcolor": "white",
           "lakecolor": "white",
           "landcolor": "#E5ECF6",
           "showlakes": true,
           "showland": true,
           "subunitcolor": "white"
          },
          "hoverlabel": {
           "align": "left"
          },
          "hovermode": "closest",
          "mapbox": {
           "style": "light"
          },
          "paper_bgcolor": "white",
          "plot_bgcolor": "#E5ECF6",
          "polar": {
           "angularaxis": {
            "gridcolor": "white",
            "linecolor": "white",
            "ticks": ""
           },
           "bgcolor": "#E5ECF6",
           "radialaxis": {
            "gridcolor": "white",
            "linecolor": "white",
            "ticks": ""
           }
          },
          "scene": {
           "xaxis": {
            "backgroundcolor": "#E5ECF6",
            "gridcolor": "white",
            "gridwidth": 2,
            "linecolor": "white",
            "showbackground": true,
            "ticks": "",
            "zerolinecolor": "white"
           },
           "yaxis": {
            "backgroundcolor": "#E5ECF6",
            "gridcolor": "white",
            "gridwidth": 2,
            "linecolor": "white",
            "showbackground": true,
            "ticks": "",
            "zerolinecolor": "white"
           },
           "zaxis": {
            "backgroundcolor": "#E5ECF6",
            "gridcolor": "white",
            "gridwidth": 2,
            "linecolor": "white",
            "showbackground": true,
            "ticks": "",
            "zerolinecolor": "white"
           }
          },
          "shapedefaults": {
           "line": {
            "color": "#2a3f5f"
           }
          },
          "ternary": {
           "aaxis": {
            "gridcolor": "white",
            "linecolor": "white",
            "ticks": ""
           },
           "baxis": {
            "gridcolor": "white",
            "linecolor": "white",
            "ticks": ""
           },
           "bgcolor": "#E5ECF6",
           "caxis": {
            "gridcolor": "white",
            "linecolor": "white",
            "ticks": ""
           }
          },
          "title": {
           "x": 0.05
          },
          "xaxis": {
           "automargin": true,
           "gridcolor": "white",
           "linecolor": "white",
           "ticks": "",
           "title": {
            "standoff": 15
           },
           "zerolinecolor": "white",
           "zerolinewidth": 2
          },
          "yaxis": {
           "automargin": true,
           "gridcolor": "white",
           "linecolor": "white",
           "ticks": "",
           "title": {
            "standoff": 15
           },
           "zerolinecolor": "white",
           "zerolinewidth": 2
          }
         }
        },
        "title": {
         "text": "Average of Market Value"
        }
       }
      },
      "text/html": [
       "<div>                            <div id=\"788a6a4f-5683-44b7-a4fc-757723f874a1\" class=\"plotly-graph-div\" style=\"height:525px; width:100%;\"></div>            <script type=\"text/javascript\">                require([\"plotly\"], function(Plotly) {                    window.PLOTLYENV=window.PLOTLYENV || {};                                    if (document.getElementById(\"788a6a4f-5683-44b7-a4fc-757723f874a1\")) {                    Plotly.newPlot(                        \"788a6a4f-5683-44b7-a4fc-757723f874a1\",                        [{\"hole\": 0.6, \"labels\": [\"Manchester+City\", \"Chelsea\", \"Tottenham\", \"Manchester+United\", \"Arsenal\", \"Liverpool\", \"Everton\", \"Southampton\", \"West+Ham\", \"Leicester+City\", \"Crystal+Palace\", \"Stoke+City\", \"Swansea\", \"West+Brom\", \"Newcastle+United\", \"Watford\", \"Bournemouth\", \"Burnley\", \"Brighton+and+Hove\", \"Huddersfield\"], \"textinfo\": \"none\", \"type\": \"pie\", \"values\": [28.2, 27.6775, 23.0, 20.564, 19.642857142857142, 16.314814814814813, 10.098214285714286, 10.0, 8.818181818181818, 8.645833333333334, 7.726190476190476, 6.818181818181818, 5.56, 5.328947368421052, 5.2023809523809526, 5.166666666666667, 4.895833333333333, 3.9583333333333335, 2.522727272727273, 1.7910714285714284]}],                        {\"template\": {\"data\": {\"bar\": [{\"error_x\": {\"color\": \"#2a3f5f\"}, \"error_y\": {\"color\": \"#2a3f5f\"}, \"marker\": {\"line\": {\"color\": \"#E5ECF6\", \"width\": 0.5}}, \"type\": \"bar\"}], \"barpolar\": [{\"marker\": {\"line\": {\"color\": \"#E5ECF6\", \"width\": 0.5}}, \"type\": \"barpolar\"}], \"carpet\": [{\"aaxis\": {\"endlinecolor\": \"#2a3f5f\", \"gridcolor\": \"white\", \"linecolor\": \"white\", \"minorgridcolor\": \"white\", \"startlinecolor\": \"#2a3f5f\"}, \"baxis\": {\"endlinecolor\": \"#2a3f5f\", \"gridcolor\": \"white\", \"linecolor\": \"white\", \"minorgridcolor\": \"white\", \"startlinecolor\": \"#2a3f5f\"}, \"type\": \"carpet\"}], \"choropleth\": [{\"colorbar\": {\"outlinewidth\": 0, \"ticks\": \"\"}, \"type\": \"choropleth\"}], \"contour\": [{\"colorbar\": {\"outlinewidth\": 0, \"ticks\": \"\"}, \"colorscale\": [[0.0, \"#0d0887\"], [0.1111111111111111, \"#46039f\"], [0.2222222222222222, \"#7201a8\"], [0.3333333333333333, \"#9c179e\"], [0.4444444444444444, \"#bd3786\"], [0.5555555555555556, \"#d8576b\"], [0.6666666666666666, \"#ed7953\"], [0.7777777777777778, \"#fb9f3a\"], [0.8888888888888888, \"#fdca26\"], [1.0, \"#f0f921\"]], \"type\": \"contour\"}], \"contourcarpet\": [{\"colorbar\": {\"outlinewidth\": 0, \"ticks\": \"\"}, \"type\": \"contourcarpet\"}], \"heatmap\": [{\"colorbar\": {\"outlinewidth\": 0, \"ticks\": \"\"}, \"colorscale\": [[0.0, \"#0d0887\"], [0.1111111111111111, \"#46039f\"], [0.2222222222222222, \"#7201a8\"], [0.3333333333333333, \"#9c179e\"], [0.4444444444444444, \"#bd3786\"], [0.5555555555555556, \"#d8576b\"], [0.6666666666666666, \"#ed7953\"], [0.7777777777777778, \"#fb9f3a\"], [0.8888888888888888, \"#fdca26\"], [1.0, \"#f0f921\"]], \"type\": \"heatmap\"}], \"heatmapgl\": [{\"colorbar\": {\"outlinewidth\": 0, \"ticks\": \"\"}, \"colorscale\": [[0.0, \"#0d0887\"], [0.1111111111111111, \"#46039f\"], [0.2222222222222222, \"#7201a8\"], [0.3333333333333333, \"#9c179e\"], [0.4444444444444444, \"#bd3786\"], [0.5555555555555556, \"#d8576b\"], [0.6666666666666666, \"#ed7953\"], [0.7777777777777778, \"#fb9f3a\"], [0.8888888888888888, \"#fdca26\"], [1.0, \"#f0f921\"]], \"type\": \"heatmapgl\"}], \"histogram\": [{\"marker\": {\"colorbar\": {\"outlinewidth\": 0, \"ticks\": \"\"}}, \"type\": \"histogram\"}], \"histogram2d\": [{\"colorbar\": {\"outlinewidth\": 0, \"ticks\": \"\"}, \"colorscale\": [[0.0, \"#0d0887\"], [0.1111111111111111, \"#46039f\"], [0.2222222222222222, \"#7201a8\"], [0.3333333333333333, \"#9c179e\"], [0.4444444444444444, \"#bd3786\"], [0.5555555555555556, \"#d8576b\"], [0.6666666666666666, \"#ed7953\"], [0.7777777777777778, \"#fb9f3a\"], [0.8888888888888888, \"#fdca26\"], [1.0, \"#f0f921\"]], \"type\": \"histogram2d\"}], \"histogram2dcontour\": [{\"colorbar\": {\"outlinewidth\": 0, \"ticks\": \"\"}, \"colorscale\": [[0.0, \"#0d0887\"], [0.1111111111111111, \"#46039f\"], [0.2222222222222222, \"#7201a8\"], [0.3333333333333333, \"#9c179e\"], [0.4444444444444444, \"#bd3786\"], [0.5555555555555556, \"#d8576b\"], [0.6666666666666666, \"#ed7953\"], [0.7777777777777778, \"#fb9f3a\"], [0.8888888888888888, \"#fdca26\"], [1.0, \"#f0f921\"]], \"type\": \"histogram2dcontour\"}], \"mesh3d\": [{\"colorbar\": {\"outlinewidth\": 0, \"ticks\": \"\"}, \"type\": \"mesh3d\"}], \"parcoords\": [{\"line\": {\"colorbar\": {\"outlinewidth\": 0, \"ticks\": \"\"}}, \"type\": \"parcoords\"}], \"pie\": [{\"automargin\": true, \"type\": \"pie\"}], \"scatter\": [{\"marker\": {\"colorbar\": {\"outlinewidth\": 0, \"ticks\": \"\"}}, \"type\": \"scatter\"}], \"scatter3d\": [{\"line\": {\"colorbar\": {\"outlinewidth\": 0, \"ticks\": \"\"}}, \"marker\": {\"colorbar\": {\"outlinewidth\": 0, \"ticks\": \"\"}}, \"type\": \"scatter3d\"}], \"scattercarpet\": [{\"marker\": {\"colorbar\": {\"outlinewidth\": 0, \"ticks\": \"\"}}, \"type\": \"scattercarpet\"}], \"scattergeo\": [{\"marker\": {\"colorbar\": {\"outlinewidth\": 0, \"ticks\": \"\"}}, \"type\": \"scattergeo\"}], \"scattergl\": [{\"marker\": {\"colorbar\": {\"outlinewidth\": 0, \"ticks\": \"\"}}, \"type\": \"scattergl\"}], \"scattermapbox\": [{\"marker\": {\"colorbar\": {\"outlinewidth\": 0, \"ticks\": \"\"}}, \"type\": \"scattermapbox\"}], \"scatterpolar\": [{\"marker\": {\"colorbar\": {\"outlinewidth\": 0, \"ticks\": \"\"}}, \"type\": \"scatterpolar\"}], \"scatterpolargl\": [{\"marker\": {\"colorbar\": {\"outlinewidth\": 0, \"ticks\": \"\"}}, \"type\": \"scatterpolargl\"}], \"scatterternary\": [{\"marker\": {\"colorbar\": {\"outlinewidth\": 0, \"ticks\": \"\"}}, \"type\": \"scatterternary\"}], \"surface\": [{\"colorbar\": {\"outlinewidth\": 0, \"ticks\": \"\"}, \"colorscale\": [[0.0, \"#0d0887\"], [0.1111111111111111, \"#46039f\"], [0.2222222222222222, \"#7201a8\"], [0.3333333333333333, \"#9c179e\"], [0.4444444444444444, \"#bd3786\"], [0.5555555555555556, \"#d8576b\"], [0.6666666666666666, \"#ed7953\"], [0.7777777777777778, \"#fb9f3a\"], [0.8888888888888888, \"#fdca26\"], [1.0, \"#f0f921\"]], \"type\": \"surface\"}], \"table\": [{\"cells\": {\"fill\": {\"color\": \"#EBF0F8\"}, \"line\": {\"color\": \"white\"}}, \"header\": {\"fill\": {\"color\": \"#C8D4E3\"}, \"line\": {\"color\": \"white\"}}, \"type\": \"table\"}]}, \"layout\": {\"annotationdefaults\": {\"arrowcolor\": \"#2a3f5f\", \"arrowhead\": 0, \"arrowwidth\": 1}, \"coloraxis\": {\"colorbar\": {\"outlinewidth\": 0, \"ticks\": \"\"}}, \"colorscale\": {\"diverging\": [[0, \"#8e0152\"], [0.1, \"#c51b7d\"], [0.2, \"#de77ae\"], [0.3, \"#f1b6da\"], [0.4, \"#fde0ef\"], [0.5, \"#f7f7f7\"], [0.6, \"#e6f5d0\"], [0.7, \"#b8e186\"], [0.8, \"#7fbc41\"], [0.9, \"#4d9221\"], [1, \"#276419\"]], \"sequential\": [[0.0, \"#0d0887\"], [0.1111111111111111, \"#46039f\"], [0.2222222222222222, \"#7201a8\"], [0.3333333333333333, \"#9c179e\"], [0.4444444444444444, \"#bd3786\"], [0.5555555555555556, \"#d8576b\"], [0.6666666666666666, \"#ed7953\"], [0.7777777777777778, \"#fb9f3a\"], [0.8888888888888888, \"#fdca26\"], [1.0, \"#f0f921\"]], \"sequentialminus\": [[0.0, \"#0d0887\"], [0.1111111111111111, \"#46039f\"], [0.2222222222222222, \"#7201a8\"], [0.3333333333333333, \"#9c179e\"], [0.4444444444444444, \"#bd3786\"], [0.5555555555555556, \"#d8576b\"], [0.6666666666666666, \"#ed7953\"], [0.7777777777777778, \"#fb9f3a\"], [0.8888888888888888, \"#fdca26\"], [1.0, \"#f0f921\"]]}, \"colorway\": [\"#636efa\", \"#EF553B\", \"#00cc96\", \"#ab63fa\", \"#FFA15A\", \"#19d3f3\", \"#FF6692\", \"#B6E880\", \"#FF97FF\", \"#FECB52\"], \"font\": {\"color\": \"#2a3f5f\"}, \"geo\": {\"bgcolor\": \"white\", \"lakecolor\": \"white\", \"landcolor\": \"#E5ECF6\", \"showlakes\": true, \"showland\": true, \"subunitcolor\": \"white\"}, \"hoverlabel\": {\"align\": \"left\"}, \"hovermode\": \"closest\", \"mapbox\": {\"style\": \"light\"}, \"paper_bgcolor\": \"white\", \"plot_bgcolor\": \"#E5ECF6\", \"polar\": {\"angularaxis\": {\"gridcolor\": \"white\", \"linecolor\": \"white\", \"ticks\": \"\"}, \"bgcolor\": \"#E5ECF6\", \"radialaxis\": {\"gridcolor\": \"white\", \"linecolor\": \"white\", \"ticks\": \"\"}}, \"scene\": {\"xaxis\": {\"backgroundcolor\": \"#E5ECF6\", \"gridcolor\": \"white\", \"gridwidth\": 2, \"linecolor\": \"white\", \"showbackground\": true, \"ticks\": \"\", \"zerolinecolor\": \"white\"}, \"yaxis\": {\"backgroundcolor\": \"#E5ECF6\", \"gridcolor\": \"white\", \"gridwidth\": 2, \"linecolor\": \"white\", \"showbackground\": true, \"ticks\": \"\", \"zerolinecolor\": \"white\"}, \"zaxis\": {\"backgroundcolor\": \"#E5ECF6\", \"gridcolor\": \"white\", \"gridwidth\": 2, \"linecolor\": \"white\", \"showbackground\": true, \"ticks\": \"\", \"zerolinecolor\": \"white\"}}, \"shapedefaults\": {\"line\": {\"color\": \"#2a3f5f\"}}, \"ternary\": {\"aaxis\": {\"gridcolor\": \"white\", \"linecolor\": \"white\", \"ticks\": \"\"}, \"baxis\": {\"gridcolor\": \"white\", \"linecolor\": \"white\", \"ticks\": \"\"}, \"bgcolor\": \"#E5ECF6\", \"caxis\": {\"gridcolor\": \"white\", \"linecolor\": \"white\", \"ticks\": \"\"}}, \"title\": {\"x\": 0.05}, \"xaxis\": {\"automargin\": true, \"gridcolor\": \"white\", \"linecolor\": \"white\", \"ticks\": \"\", \"title\": {\"standoff\": 15}, \"zerolinecolor\": \"white\", \"zerolinewidth\": 2}, \"yaxis\": {\"automargin\": true, \"gridcolor\": \"white\", \"linecolor\": \"white\", \"ticks\": \"\", \"title\": {\"standoff\": 15}, \"zerolinecolor\": \"white\", \"zerolinewidth\": 2}}}, \"title\": {\"text\": \"Average of Market Value\"}},                        {\"responsive\": true}                    ).then(function(){\n",
       "                            \n",
       "var gd = document.getElementById('788a6a4f-5683-44b7-a4fc-757723f874a1');\n",
       "var x = new MutationObserver(function (mutations, observer) {{\n",
       "        var display = window.getComputedStyle(gd).display;\n",
       "        if (!display || display === 'none') {{\n",
       "            console.log([gd, 'removed!']);\n",
       "            Plotly.purge(gd);\n",
       "            observer.disconnect();\n",
       "        }}\n",
       "}});\n",
       "\n",
       "// Listen for the removal of the full notebook cells\n",
       "var notebookContainer = gd.closest('#notebook-container');\n",
       "if (notebookContainer) {{\n",
       "    x.observe(notebookContainer, {childList: true});\n",
       "}}\n",
       "\n",
       "// Listen for the clearing of the current output cell\n",
       "var outputEl = gd.closest('.output');\n",
       "if (outputEl) {{\n",
       "    x.observe(outputEl, {childList: true});\n",
       "}}\n",
       "\n",
       "                        })                };                });            </script>        </div>"
      ]
     },
     "metadata": {},
     "output_type": "display_data"
    }
   ],
   "source": [
    "trace = go.Pie(labels=dataset_meanmv.club, values=dataset_meanmv.market_value, hole=0.6,textinfo= \"none\")\n",
    "layout = go.Layout(title='Average of Market Value')\n",
    "fig = go.Figure(data=[trace], layout=layout)\n",
    "iplot(fig, filename=\"plotting-library\")"
   ]
  },
  {
   "cell_type": "markdown",
   "metadata": {
    "_cell_guid": "46b453a5-4596-41c6-a2fa-ad244f19545b",
    "_uuid": "ee10b4a8c79dc621df88ed8acc9938d8b34e8dc8"
   },
   "source": [
    "### Most viewed Players"
   ]
  },
  {
   "cell_type": "code",
   "execution_count": 21,
   "metadata": {
    "_cell_guid": "bb7d17b1-8b11-4731-9b0d-ebc372b4ba89",
    "_uuid": "d506a1615a87c0a6dbd5879d9830e35e8a024342"
   },
   "outputs": [
    {
     "data": {
      "text/html": [
       "<div>\n",
       "<style scoped>\n",
       "    .dataframe tbody tr th:only-of-type {\n",
       "        vertical-align: middle;\n",
       "    }\n",
       "\n",
       "    .dataframe tbody tr th {\n",
       "        vertical-align: top;\n",
       "    }\n",
       "\n",
       "    .dataframe thead th {\n",
       "        text-align: right;\n",
       "    }\n",
       "</style>\n",
       "<table border=\"1\" class=\"dataframe\">\n",
       "  <thead>\n",
       "    <tr style=\"text-align: right;\">\n",
       "      <th></th>\n",
       "      <th>name</th>\n",
       "      <th>club</th>\n",
       "      <th>age</th>\n",
       "      <th>position</th>\n",
       "      <th>position_cat</th>\n",
       "      <th>market_value</th>\n",
       "      <th>page_views</th>\n",
       "      <th>fpl_value</th>\n",
       "      <th>fpl_sel</th>\n",
       "      <th>fpl_points</th>\n",
       "      <th>region</th>\n",
       "      <th>nationality</th>\n",
       "      <th>new_foreign</th>\n",
       "      <th>age_cat</th>\n",
       "      <th>club_id</th>\n",
       "      <th>big_club</th>\n",
       "      <th>new_signing</th>\n",
       "      <th>fpl_ratio</th>\n",
       "    </tr>\n",
       "  </thead>\n",
       "  <tbody>\n",
       "    <tr>\n",
       "      <th>143</th>\n",
       "      <td>Wayne Rooney</td>\n",
       "      <td>Everton</td>\n",
       "      <td>31</td>\n",
       "      <td>SS</td>\n",
       "      <td>1</td>\n",
       "      <td>15.0</td>\n",
       "      <td>7664</td>\n",
       "      <td>7.5</td>\n",
       "      <td>0.209</td>\n",
       "      <td>76</td>\n",
       "      <td>1.0</td>\n",
       "      <td>United Kingdom of Great Britain and Northern I...</td>\n",
       "      <td>0</td>\n",
       "      <td>4</td>\n",
       "      <td>7</td>\n",
       "      <td>0</td>\n",
       "      <td>0</td>\n",
       "      <td>10.133333</td>\n",
       "    </tr>\n",
       "    <tr>\n",
       "      <th>263</th>\n",
       "      <td>Paul Pogba</td>\n",
       "      <td>Manchester+United</td>\n",
       "      <td>24</td>\n",
       "      <td>CM</td>\n",
       "      <td>2</td>\n",
       "      <td>75.0</td>\n",
       "      <td>7435</td>\n",
       "      <td>8.0</td>\n",
       "      <td>0.195</td>\n",
       "      <td>115</td>\n",
       "      <td>2.0</td>\n",
       "      <td>France</td>\n",
       "      <td>0</td>\n",
       "      <td>2</td>\n",
       "      <td>12</td>\n",
       "      <td>1</td>\n",
       "      <td>1</td>\n",
       "      <td>14.375000</td>\n",
       "    </tr>\n",
       "    <tr>\n",
       "      <th>376</th>\n",
       "      <td>Dele Alli</td>\n",
       "      <td>Tottenham</td>\n",
       "      <td>21</td>\n",
       "      <td>CM</td>\n",
       "      <td>2</td>\n",
       "      <td>45.0</td>\n",
       "      <td>4626</td>\n",
       "      <td>9.5</td>\n",
       "      <td>0.386</td>\n",
       "      <td>225</td>\n",
       "      <td>1.0</td>\n",
       "      <td>United Kingdom of Great Britain and Northern I...</td>\n",
       "      <td>0</td>\n",
       "      <td>1</td>\n",
       "      <td>17</td>\n",
       "      <td>1</td>\n",
       "      <td>0</td>\n",
       "      <td>23.684211</td>\n",
       "    </tr>\n",
       "    <tr>\n",
       "      <th>93</th>\n",
       "      <td>Diego Costa</td>\n",
       "      <td>Chelsea</td>\n",
       "      <td>28</td>\n",
       "      <td>CF</td>\n",
       "      <td>1</td>\n",
       "      <td>50.0</td>\n",
       "      <td>4454</td>\n",
       "      <td>10.0</td>\n",
       "      <td>0.030</td>\n",
       "      <td>196</td>\n",
       "      <td>2.0</td>\n",
       "      <td>Spain</td>\n",
       "      <td>0</td>\n",
       "      <td>4</td>\n",
       "      <td>5</td>\n",
       "      <td>1</td>\n",
       "      <td>0</td>\n",
       "      <td>19.600000</td>\n",
       "    </tr>\n",
       "    <tr>\n",
       "      <th>1</th>\n",
       "      <td>Mesut Ozil</td>\n",
       "      <td>Arsenal</td>\n",
       "      <td>28</td>\n",
       "      <td>AM</td>\n",
       "      <td>1</td>\n",
       "      <td>50.0</td>\n",
       "      <td>4395</td>\n",
       "      <td>9.5</td>\n",
       "      <td>0.056</td>\n",
       "      <td>167</td>\n",
       "      <td>2.0</td>\n",
       "      <td>Germany</td>\n",
       "      <td>0</td>\n",
       "      <td>4</td>\n",
       "      <td>1</td>\n",
       "      <td>1</td>\n",
       "      <td>0</td>\n",
       "      <td>17.578947</td>\n",
       "    </tr>\n",
       "    <tr>\n",
       "      <th>0</th>\n",
       "      <td>Alexis Sanchez</td>\n",
       "      <td>Arsenal</td>\n",
       "      <td>28</td>\n",
       "      <td>LW</td>\n",
       "      <td>1</td>\n",
       "      <td>65.0</td>\n",
       "      <td>4329</td>\n",
       "      <td>12.0</td>\n",
       "      <td>0.171</td>\n",
       "      <td>264</td>\n",
       "      <td>3.0</td>\n",
       "      <td>Chile</td>\n",
       "      <td>0</td>\n",
       "      <td>4</td>\n",
       "      <td>1</td>\n",
       "      <td>1</td>\n",
       "      <td>0</td>\n",
       "      <td>22.000000</td>\n",
       "    </tr>\n",
       "    <tr>\n",
       "      <th>251</th>\n",
       "      <td>Gabriel Jesus</td>\n",
       "      <td>Manchester+City</td>\n",
       "      <td>20</td>\n",
       "      <td>CF</td>\n",
       "      <td>1</td>\n",
       "      <td>30.0</td>\n",
       "      <td>4254</td>\n",
       "      <td>10.5</td>\n",
       "      <td>0.152</td>\n",
       "      <td>67</td>\n",
       "      <td>3.0</td>\n",
       "      <td>Brazil</td>\n",
       "      <td>0</td>\n",
       "      <td>1</td>\n",
       "      <td>11</td>\n",
       "      <td>1</td>\n",
       "      <td>1</td>\n",
       "      <td>6.380952</td>\n",
       "    </tr>\n",
       "    <tr>\n",
       "      <th>92</th>\n",
       "      <td>Eden Hazard</td>\n",
       "      <td>Chelsea</td>\n",
       "      <td>26</td>\n",
       "      <td>LW</td>\n",
       "      <td>1</td>\n",
       "      <td>75.0</td>\n",
       "      <td>4220</td>\n",
       "      <td>10.5</td>\n",
       "      <td>0.023</td>\n",
       "      <td>224</td>\n",
       "      <td>2.0</td>\n",
       "      <td>Belgium</td>\n",
       "      <td>0</td>\n",
       "      <td>3</td>\n",
       "      <td>5</td>\n",
       "      <td>1</td>\n",
       "      <td>0</td>\n",
       "      <td>21.333333</td>\n",
       "    </tr>\n",
       "    <tr>\n",
       "      <th>377</th>\n",
       "      <td>Harry Kane</td>\n",
       "      <td>Tottenham</td>\n",
       "      <td>23</td>\n",
       "      <td>CF</td>\n",
       "      <td>1</td>\n",
       "      <td>60.0</td>\n",
       "      <td>4161</td>\n",
       "      <td>12.5</td>\n",
       "      <td>0.351</td>\n",
       "      <td>224</td>\n",
       "      <td>1.0</td>\n",
       "      <td>United Kingdom of Great Britain and Northern I...</td>\n",
       "      <td>0</td>\n",
       "      <td>2</td>\n",
       "      <td>17</td>\n",
       "      <td>1</td>\n",
       "      <td>0</td>\n",
       "      <td>17.920000</td>\n",
       "    </tr>\n",
       "    <tr>\n",
       "      <th>241</th>\n",
       "      <td>Sergio Aguero</td>\n",
       "      <td>Manchester+City</td>\n",
       "      <td>29</td>\n",
       "      <td>CF</td>\n",
       "      <td>1</td>\n",
       "      <td>65.0</td>\n",
       "      <td>4046</td>\n",
       "      <td>11.5</td>\n",
       "      <td>0.097</td>\n",
       "      <td>175</td>\n",
       "      <td>3.0</td>\n",
       "      <td>Argentina</td>\n",
       "      <td>0</td>\n",
       "      <td>4</td>\n",
       "      <td>11</td>\n",
       "      <td>1</td>\n",
       "      <td>0</td>\n",
       "      <td>15.217391</td>\n",
       "    </tr>\n",
       "  </tbody>\n",
       "</table>\n",
       "</div>"
      ],
      "text/plain": [
       "               name               club  age position  position_cat  \\\n",
       "143    Wayne Rooney            Everton   31       SS             1   \n",
       "263      Paul Pogba  Manchester+United   24       CM             2   \n",
       "376       Dele Alli          Tottenham   21       CM             2   \n",
       "93      Diego Costa            Chelsea   28       CF             1   \n",
       "1        Mesut Ozil            Arsenal   28       AM             1   \n",
       "0    Alexis Sanchez            Arsenal   28       LW             1   \n",
       "251   Gabriel Jesus    Manchester+City   20       CF             1   \n",
       "92      Eden Hazard            Chelsea   26       LW             1   \n",
       "377      Harry Kane          Tottenham   23       CF             1   \n",
       "241   Sergio Aguero    Manchester+City   29       CF             1   \n",
       "\n",
       "     market_value  page_views  fpl_value  fpl_sel  fpl_points  region  \\\n",
       "143          15.0        7664        7.5    0.209          76     1.0   \n",
       "263          75.0        7435        8.0    0.195         115     2.0   \n",
       "376          45.0        4626        9.5    0.386         225     1.0   \n",
       "93           50.0        4454       10.0    0.030         196     2.0   \n",
       "1            50.0        4395        9.5    0.056         167     2.0   \n",
       "0            65.0        4329       12.0    0.171         264     3.0   \n",
       "251          30.0        4254       10.5    0.152          67     3.0   \n",
       "92           75.0        4220       10.5    0.023         224     2.0   \n",
       "377          60.0        4161       12.5    0.351         224     1.0   \n",
       "241          65.0        4046       11.5    0.097         175     3.0   \n",
       "\n",
       "                                           nationality  new_foreign  age_cat  \\\n",
       "143  United Kingdom of Great Britain and Northern I...            0        4   \n",
       "263                                             France            0        2   \n",
       "376  United Kingdom of Great Britain and Northern I...            0        1   \n",
       "93                                               Spain            0        4   \n",
       "1                                              Germany            0        4   \n",
       "0                                                Chile            0        4   \n",
       "251                                             Brazil            0        1   \n",
       "92                                             Belgium            0        3   \n",
       "377  United Kingdom of Great Britain and Northern I...            0        2   \n",
       "241                                          Argentina            0        4   \n",
       "\n",
       "     club_id  big_club  new_signing  fpl_ratio  \n",
       "143        7         0            0  10.133333  \n",
       "263       12         1            1  14.375000  \n",
       "376       17         1            0  23.684211  \n",
       "93         5         1            0  19.600000  \n",
       "1          1         1            0  17.578947  \n",
       "0          1         1            0  22.000000  \n",
       "251       11         1            1   6.380952  \n",
       "92         5         1            0  21.333333  \n",
       "377       17         1            0  17.920000  \n",
       "241       11         1            0  15.217391  "
      ]
     },
     "execution_count": 21,
     "metadata": {},
     "output_type": "execute_result"
    }
   ],
   "source": [
    "datasetview = dataset.nlargest(10, 'page_views').sort_values('page_views',ascending=False)\n",
    "datasetview"
   ]
  },
  {
   "cell_type": "code",
   "execution_count": 22,
   "metadata": {},
   "outputs": [
    {
     "data": {
      "application/vnd.plotly.v1+json": {
       "config": {
        "linkText": "Export to plot.ly",
        "plotlyServerURL": "https://plot.ly",
        "showLink": false
       },
       "data": [
        {
         "marker": {
          "color": [
           "#7FA8C7",
           "#1BA1C3",
           "#0E585E",
           "#E4E13B",
           "#195353",
           "#8B57E2",
           "#5E8032",
           "#F1830C",
           "#D88988",
           "#42877F",
           "#24FEDF",
           "#4856EE",
           "#B5F046",
           "#7CFFA9",
           "#B1F126",
           "#A270AD",
           "#C23437",
           "#1B5203",
           "#B1A85D",
           "#42D799"
          ]
         },
         "type": "bar",
         "x": [
          "Wayne Rooney",
          "Paul Pogba",
          "Dele Alli",
          "Diego Costa",
          "Mesut Ozil",
          "Alexis Sanchez",
          "Gabriel Jesus",
          "Eden Hazard",
          "Harry Kane",
          "Sergio Aguero"
         ],
         "y": [
          7664,
          7435,
          4626,
          4454,
          4395,
          4329,
          4254,
          4220,
          4161,
          4046
         ]
        }
       ],
       "layout": {
        "title": "top 10 most viewed premier league player"
       }
      },
      "text/html": [
       "<div>                            <div id=\"fbaf3fe8-8144-463c-bf6d-77394068657c\" class=\"plotly-graph-div\" style=\"height:525px; width:100%;\"></div>            <script type=\"text/javascript\">                require([\"plotly\"], function(Plotly) {                    window.PLOTLYENV=window.PLOTLYENV || {};                                    if (document.getElementById(\"fbaf3fe8-8144-463c-bf6d-77394068657c\")) {                    Plotly.newPlot(                        \"fbaf3fe8-8144-463c-bf6d-77394068657c\",                        [{\"marker\": {\"color\": [\"#7FA8C7\", \"#1BA1C3\", \"#0E585E\", \"#E4E13B\", \"#195353\", \"#8B57E2\", \"#5E8032\", \"#F1830C\", \"#D88988\", \"#42877F\", \"#24FEDF\", \"#4856EE\", \"#B5F046\", \"#7CFFA9\", \"#B1F126\", \"#A270AD\", \"#C23437\", \"#1B5203\", \"#B1A85D\", \"#42D799\"]}, \"type\": \"bar\", \"x\": [\"Wayne Rooney\", \"Paul Pogba\", \"Dele Alli\", \"Diego Costa\", \"Mesut Ozil\", \"Alexis Sanchez\", \"Gabriel Jesus\", \"Eden Hazard\", \"Harry Kane\", \"Sergio Aguero\"], \"y\": [7664, 7435, 4626, 4454, 4395, 4329, 4254, 4220, 4161, 4046]}],                        {\"title\": \"top 10 most viewed premier league player\"},                        {\"responsive\": true}                    ).then(function(){\n",
       "                            \n",
       "var gd = document.getElementById('fbaf3fe8-8144-463c-bf6d-77394068657c');\n",
       "var x = new MutationObserver(function (mutations, observer) {{\n",
       "        var display = window.getComputedStyle(gd).display;\n",
       "        if (!display || display === 'none') {{\n",
       "            console.log([gd, 'removed!']);\n",
       "            Plotly.purge(gd);\n",
       "            observer.disconnect();\n",
       "        }}\n",
       "}});\n",
       "\n",
       "// Listen for the removal of the full notebook cells\n",
       "var notebookContainer = gd.closest('#notebook-container');\n",
       "if (notebookContainer) {{\n",
       "    x.observe(notebookContainer, {childList: true});\n",
       "}}\n",
       "\n",
       "// Listen for the clearing of the current output cell\n",
       "var outputEl = gd.closest('.output');\n",
       "if (outputEl) {{\n",
       "    x.observe(outputEl, {childList: true});\n",
       "}}\n",
       "\n",
       "                        })                };                });            </script>        </div>"
      ]
     },
     "metadata": {},
     "output_type": "display_data"
    }
   ],
   "source": [
    "data = [go.Bar(\n",
    "    x = datasetview.name,\n",
    "    y = datasetview.page_views,\n",
    "    marker = dict(color = random_colors(20))\n",
    ")]\n",
    "layout = dict(title= \"top 10 most viewed premier league player\")\n",
    "fig = dict( data=data, layout=layout )\n",
    "iplot( fig, validate=False )"
   ]
  },
  {
   "cell_type": "markdown",
   "metadata": {
    "_cell_guid": "cbaae214-080e-4af6-97cc-3fe0544cfa30",
    "_uuid": "7a631555518391bfbd91ff3f7fc3653f29090ae7"
   },
   "source": [
    "### Top 10 most Valuable Players according to FPL value"
   ]
  },
  {
   "cell_type": "code",
   "execution_count": 23,
   "metadata": {
    "_cell_guid": "02271373-bfc1-4522-a97a-f5eb30c9aaa3",
    "_uuid": "6dc3a58c7a487cacaf3d5ac0bb0bac050fc54e02"
   },
   "outputs": [
    {
     "data": {
      "text/html": [
       "<div>\n",
       "<style scoped>\n",
       "    .dataframe tbody tr th:only-of-type {\n",
       "        vertical-align: middle;\n",
       "    }\n",
       "\n",
       "    .dataframe tbody tr th {\n",
       "        vertical-align: top;\n",
       "    }\n",
       "\n",
       "    .dataframe thead th {\n",
       "        text-align: right;\n",
       "    }\n",
       "</style>\n",
       "<table border=\"1\" class=\"dataframe\">\n",
       "  <thead>\n",
       "    <tr style=\"text-align: right;\">\n",
       "      <th></th>\n",
       "      <th>name</th>\n",
       "      <th>club</th>\n",
       "      <th>age</th>\n",
       "      <th>position</th>\n",
       "      <th>position_cat</th>\n",
       "      <th>market_value</th>\n",
       "      <th>page_views</th>\n",
       "      <th>fpl_value</th>\n",
       "      <th>fpl_sel</th>\n",
       "      <th>fpl_points</th>\n",
       "      <th>region</th>\n",
       "      <th>nationality</th>\n",
       "      <th>new_foreign</th>\n",
       "      <th>age_cat</th>\n",
       "      <th>club_id</th>\n",
       "      <th>big_club</th>\n",
       "      <th>new_signing</th>\n",
       "      <th>fpl_ratio</th>\n",
       "    </tr>\n",
       "  </thead>\n",
       "  <tbody>\n",
       "    <tr>\n",
       "      <th>377</th>\n",
       "      <td>Harry Kane</td>\n",
       "      <td>Tottenham</td>\n",
       "      <td>23</td>\n",
       "      <td>CF</td>\n",
       "      <td>1</td>\n",
       "      <td>60.0</td>\n",
       "      <td>4161</td>\n",
       "      <td>12.5</td>\n",
       "      <td>0.351</td>\n",
       "      <td>224</td>\n",
       "      <td>1.0</td>\n",
       "      <td>United Kingdom of Great Britain and Northern I...</td>\n",
       "      <td>0</td>\n",
       "      <td>2</td>\n",
       "      <td>17</td>\n",
       "      <td>1</td>\n",
       "      <td>0</td>\n",
       "      <td>17.920000</td>\n",
       "    </tr>\n",
       "    <tr>\n",
       "      <th>0</th>\n",
       "      <td>Alexis Sanchez</td>\n",
       "      <td>Arsenal</td>\n",
       "      <td>28</td>\n",
       "      <td>LW</td>\n",
       "      <td>1</td>\n",
       "      <td>65.0</td>\n",
       "      <td>4329</td>\n",
       "      <td>12.0</td>\n",
       "      <td>0.171</td>\n",
       "      <td>264</td>\n",
       "      <td>3.0</td>\n",
       "      <td>Chile</td>\n",
       "      <td>0</td>\n",
       "      <td>4</td>\n",
       "      <td>1</td>\n",
       "      <td>1</td>\n",
       "      <td>0</td>\n",
       "      <td>22.000000</td>\n",
       "    </tr>\n",
       "    <tr>\n",
       "      <th>241</th>\n",
       "      <td>Sergio Aguero</td>\n",
       "      <td>Manchester+City</td>\n",
       "      <td>29</td>\n",
       "      <td>CF</td>\n",
       "      <td>1</td>\n",
       "      <td>65.0</td>\n",
       "      <td>4046</td>\n",
       "      <td>11.5</td>\n",
       "      <td>0.097</td>\n",
       "      <td>175</td>\n",
       "      <td>3.0</td>\n",
       "      <td>Argentina</td>\n",
       "      <td>0</td>\n",
       "      <td>4</td>\n",
       "      <td>11</td>\n",
       "      <td>1</td>\n",
       "      <td>0</td>\n",
       "      <td>15.217391</td>\n",
       "    </tr>\n",
       "    <tr>\n",
       "      <th>260</th>\n",
       "      <td>Romelu Lukaku</td>\n",
       "      <td>Manchester+United</td>\n",
       "      <td>24</td>\n",
       "      <td>CF</td>\n",
       "      <td>1</td>\n",
       "      <td>50.0</td>\n",
       "      <td>3727</td>\n",
       "      <td>11.5</td>\n",
       "      <td>0.450</td>\n",
       "      <td>221</td>\n",
       "      <td>2.0</td>\n",
       "      <td>Belgium</td>\n",
       "      <td>0</td>\n",
       "      <td>2</td>\n",
       "      <td>12</td>\n",
       "      <td>1</td>\n",
       "      <td>0</td>\n",
       "      <td>19.217391</td>\n",
       "    </tr>\n",
       "    <tr>\n",
       "      <th>27</th>\n",
       "      <td>Alexandre Lacazette</td>\n",
       "      <td>Arsenal</td>\n",
       "      <td>26</td>\n",
       "      <td>CF</td>\n",
       "      <td>1</td>\n",
       "      <td>40.0</td>\n",
       "      <td>1183</td>\n",
       "      <td>10.5</td>\n",
       "      <td>0.265</td>\n",
       "      <td>0</td>\n",
       "      <td>2.0</td>\n",
       "      <td>France</td>\n",
       "      <td>1</td>\n",
       "      <td>3</td>\n",
       "      <td>1</td>\n",
       "      <td>1</td>\n",
       "      <td>0</td>\n",
       "      <td>0.000000</td>\n",
       "    </tr>\n",
       "    <tr>\n",
       "      <th>92</th>\n",
       "      <td>Eden Hazard</td>\n",
       "      <td>Chelsea</td>\n",
       "      <td>26</td>\n",
       "      <td>LW</td>\n",
       "      <td>1</td>\n",
       "      <td>75.0</td>\n",
       "      <td>4220</td>\n",
       "      <td>10.5</td>\n",
       "      <td>0.023</td>\n",
       "      <td>224</td>\n",
       "      <td>2.0</td>\n",
       "      <td>Belgium</td>\n",
       "      <td>0</td>\n",
       "      <td>3</td>\n",
       "      <td>5</td>\n",
       "      <td>1</td>\n",
       "      <td>0</td>\n",
       "      <td>21.333333</td>\n",
       "    </tr>\n",
       "    <tr>\n",
       "      <th>251</th>\n",
       "      <td>Gabriel Jesus</td>\n",
       "      <td>Manchester+City</td>\n",
       "      <td>20</td>\n",
       "      <td>CF</td>\n",
       "      <td>1</td>\n",
       "      <td>30.0</td>\n",
       "      <td>4254</td>\n",
       "      <td>10.5</td>\n",
       "      <td>0.152</td>\n",
       "      <td>67</td>\n",
       "      <td>3.0</td>\n",
       "      <td>Brazil</td>\n",
       "      <td>0</td>\n",
       "      <td>1</td>\n",
       "      <td>11</td>\n",
       "      <td>1</td>\n",
       "      <td>1</td>\n",
       "      <td>6.380952</td>\n",
       "    </tr>\n",
       "    <tr>\n",
       "      <th>93</th>\n",
       "      <td>Diego Costa</td>\n",
       "      <td>Chelsea</td>\n",
       "      <td>28</td>\n",
       "      <td>CF</td>\n",
       "      <td>1</td>\n",
       "      <td>50.0</td>\n",
       "      <td>4454</td>\n",
       "      <td>10.0</td>\n",
       "      <td>0.030</td>\n",
       "      <td>196</td>\n",
       "      <td>2.0</td>\n",
       "      <td>Spain</td>\n",
       "      <td>0</td>\n",
       "      <td>4</td>\n",
       "      <td>5</td>\n",
       "      <td>1</td>\n",
       "      <td>0</td>\n",
       "      <td>19.600000</td>\n",
       "    </tr>\n",
       "    <tr>\n",
       "      <th>240</th>\n",
       "      <td>Kevin De Bruyne</td>\n",
       "      <td>Manchester+City</td>\n",
       "      <td>26</td>\n",
       "      <td>AM</td>\n",
       "      <td>1</td>\n",
       "      <td>65.0</td>\n",
       "      <td>2252</td>\n",
       "      <td>10.0</td>\n",
       "      <td>0.175</td>\n",
       "      <td>199</td>\n",
       "      <td>2.0</td>\n",
       "      <td>Belgium</td>\n",
       "      <td>0</td>\n",
       "      <td>3</td>\n",
       "      <td>11</td>\n",
       "      <td>1</td>\n",
       "      <td>0</td>\n",
       "      <td>19.900000</td>\n",
       "    </tr>\n",
       "    <tr>\n",
       "      <th>1</th>\n",
       "      <td>Mesut Ozil</td>\n",
       "      <td>Arsenal</td>\n",
       "      <td>28</td>\n",
       "      <td>AM</td>\n",
       "      <td>1</td>\n",
       "      <td>50.0</td>\n",
       "      <td>4395</td>\n",
       "      <td>9.5</td>\n",
       "      <td>0.056</td>\n",
       "      <td>167</td>\n",
       "      <td>2.0</td>\n",
       "      <td>Germany</td>\n",
       "      <td>0</td>\n",
       "      <td>4</td>\n",
       "      <td>1</td>\n",
       "      <td>1</td>\n",
       "      <td>0</td>\n",
       "      <td>17.578947</td>\n",
       "    </tr>\n",
       "  </tbody>\n",
       "</table>\n",
       "</div>"
      ],
      "text/plain": [
       "                    name               club  age position  position_cat  \\\n",
       "377           Harry Kane          Tottenham   23       CF             1   \n",
       "0         Alexis Sanchez            Arsenal   28       LW             1   \n",
       "241        Sergio Aguero    Manchester+City   29       CF             1   \n",
       "260        Romelu Lukaku  Manchester+United   24       CF             1   \n",
       "27   Alexandre Lacazette            Arsenal   26       CF             1   \n",
       "92           Eden Hazard            Chelsea   26       LW             1   \n",
       "251        Gabriel Jesus    Manchester+City   20       CF             1   \n",
       "93           Diego Costa            Chelsea   28       CF             1   \n",
       "240      Kevin De Bruyne    Manchester+City   26       AM             1   \n",
       "1             Mesut Ozil            Arsenal   28       AM             1   \n",
       "\n",
       "     market_value  page_views  fpl_value  fpl_sel  fpl_points  region  \\\n",
       "377          60.0        4161       12.5    0.351         224     1.0   \n",
       "0            65.0        4329       12.0    0.171         264     3.0   \n",
       "241          65.0        4046       11.5    0.097         175     3.0   \n",
       "260          50.0        3727       11.5    0.450         221     2.0   \n",
       "27           40.0        1183       10.5    0.265           0     2.0   \n",
       "92           75.0        4220       10.5    0.023         224     2.0   \n",
       "251          30.0        4254       10.5    0.152          67     3.0   \n",
       "93           50.0        4454       10.0    0.030         196     2.0   \n",
       "240          65.0        2252       10.0    0.175         199     2.0   \n",
       "1            50.0        4395        9.5    0.056         167     2.0   \n",
       "\n",
       "                                           nationality  new_foreign  age_cat  \\\n",
       "377  United Kingdom of Great Britain and Northern I...            0        2   \n",
       "0                                                Chile            0        4   \n",
       "241                                          Argentina            0        4   \n",
       "260                                            Belgium            0        2   \n",
       "27                                              France            1        3   \n",
       "92                                             Belgium            0        3   \n",
       "251                                             Brazil            0        1   \n",
       "93                                               Spain            0        4   \n",
       "240                                            Belgium            0        3   \n",
       "1                                              Germany            0        4   \n",
       "\n",
       "     club_id  big_club  new_signing  fpl_ratio  \n",
       "377       17         1            0  17.920000  \n",
       "0          1         1            0  22.000000  \n",
       "241       11         1            0  15.217391  \n",
       "260       12         1            0  19.217391  \n",
       "27         1         1            0   0.000000  \n",
       "92         5         1            0  21.333333  \n",
       "251       11         1            1   6.380952  \n",
       "93         5         1            0  19.600000  \n",
       "240       11         1            0  19.900000  \n",
       "1          1         1            0  17.578947  "
      ]
     },
     "execution_count": 23,
     "metadata": {},
     "output_type": "execute_result"
    }
   ],
   "source": [
    "datasetview = dataset.nlargest(10, 'fpl_value').sort_values('fpl_value',ascending=False)\n",
    "datasetview"
   ]
  },
  {
   "cell_type": "code",
   "execution_count": 24,
   "metadata": {},
   "outputs": [
    {
     "data": {
      "application/vnd.plotly.v1+json": {
       "config": {
        "linkText": "Export to plot.ly",
        "plotlyServerURL": "https://plot.ly",
        "showLink": false
       },
       "data": [
        {
         "marker": {
          "color": [
           "#BE6ED5",
           "#B7CB58",
           "#71E1A4",
           "#B28AC4",
           "#14A46A",
           "#8013EF",
           "#AF27CF",
           "#853E98",
           "#37024A",
           "#CC190A"
          ]
         },
         "type": "bar",
         "x": [
          "Harry Kane",
          "Alexis Sanchez",
          "Sergio Aguero",
          "Romelu Lukaku",
          "Alexandre Lacazette",
          "Eden Hazard",
          "Gabriel Jesus",
          "Diego Costa",
          "Kevin De Bruyne",
          "Mesut Ozil"
         ],
         "y": [
          12.5,
          12,
          11.5,
          11.5,
          10.5,
          10.5,
          10.5,
          10,
          10,
          9.5
         ]
        }
       ],
       "layout": {
        "title": "Top 10 Most Valuable Players in FPL"
       }
      },
      "text/html": [
       "<div>                            <div id=\"f795d636-1a8e-4a9d-bb95-be0b577f2356\" class=\"plotly-graph-div\" style=\"height:525px; width:100%;\"></div>            <script type=\"text/javascript\">                require([\"plotly\"], function(Plotly) {                    window.PLOTLYENV=window.PLOTLYENV || {};                                    if (document.getElementById(\"f795d636-1a8e-4a9d-bb95-be0b577f2356\")) {                    Plotly.newPlot(                        \"f795d636-1a8e-4a9d-bb95-be0b577f2356\",                        [{\"marker\": {\"color\": [\"#BE6ED5\", \"#B7CB58\", \"#71E1A4\", \"#B28AC4\", \"#14A46A\", \"#8013EF\", \"#AF27CF\", \"#853E98\", \"#37024A\", \"#CC190A\"]}, \"type\": \"bar\", \"x\": [\"Harry Kane\", \"Alexis Sanchez\", \"Sergio Aguero\", \"Romelu Lukaku\", \"Alexandre Lacazette\", \"Eden Hazard\", \"Gabriel Jesus\", \"Diego Costa\", \"Kevin De Bruyne\", \"Mesut Ozil\"], \"y\": [12.5, 12.0, 11.5, 11.5, 10.5, 10.5, 10.5, 10.0, 10.0, 9.5]}],                        {\"title\": \"Top 10 Most Valuable Players in FPL\"},                        {\"responsive\": true}                    ).then(function(){\n",
       "                            \n",
       "var gd = document.getElementById('f795d636-1a8e-4a9d-bb95-be0b577f2356');\n",
       "var x = new MutationObserver(function (mutations, observer) {{\n",
       "        var display = window.getComputedStyle(gd).display;\n",
       "        if (!display || display === 'none') {{\n",
       "            console.log([gd, 'removed!']);\n",
       "            Plotly.purge(gd);\n",
       "            observer.disconnect();\n",
       "        }}\n",
       "}});\n",
       "\n",
       "// Listen for the removal of the full notebook cells\n",
       "var notebookContainer = gd.closest('#notebook-container');\n",
       "if (notebookContainer) {{\n",
       "    x.observe(notebookContainer, {childList: true});\n",
       "}}\n",
       "\n",
       "// Listen for the clearing of the current output cell\n",
       "var outputEl = gd.closest('.output');\n",
       "if (outputEl) {{\n",
       "    x.observe(outputEl, {childList: true});\n",
       "}}\n",
       "\n",
       "                        })                };                });            </script>        </div>"
      ]
     },
     "metadata": {},
     "output_type": "display_data"
    }
   ],
   "source": [
    "data = [go.Bar(\n",
    "    x = datasetview.name,\n",
    "    y = datasetview.fpl_value,\n",
    "    marker = dict(color = random_colors(10))\n",
    ")]\n",
    "layout = dict(title= \"Top 10 Most Valuable Players in FPL\")\n",
    "fig = dict( data=data, layout=layout )\n",
    "iplot( fig, validate=False )"
   ]
  },
  {
   "cell_type": "markdown",
   "metadata": {
    "_cell_guid": "b11404f6-22f7-40cf-b6ee-0158e36da2c9",
    "_uuid": "40942aca4dbd6cbc4657d5b9476a84672bf6c5ca"
   },
   "source": [
    "### Average of FPL Value in each Clubs"
   ]
  },
  {
   "cell_type": "code",
   "execution_count": 25,
   "metadata": {
    "_cell_guid": "7513ffdc-2275-4961-a28d-cd61b4660ec9",
    "_uuid": "4498b311fa9790733f33c3209eed0a763917b963"
   },
   "outputs": [
    {
     "data": {
      "text/html": [
       "<div>\n",
       "<style scoped>\n",
       "    .dataframe tbody tr th:only-of-type {\n",
       "        vertical-align: middle;\n",
       "    }\n",
       "\n",
       "    .dataframe tbody tr th {\n",
       "        vertical-align: top;\n",
       "    }\n",
       "\n",
       "    .dataframe thead th {\n",
       "        text-align: right;\n",
       "    }\n",
       "</style>\n",
       "<table border=\"1\" class=\"dataframe\">\n",
       "  <thead>\n",
       "    <tr style=\"text-align: right;\">\n",
       "      <th></th>\n",
       "      <th>club</th>\n",
       "      <th>fpl_value</th>\n",
       "    </tr>\n",
       "  </thead>\n",
       "  <tbody>\n",
       "    <tr>\n",
       "      <th>10</th>\n",
       "      <td>Manchester+City</td>\n",
       "      <td>6.850000</td>\n",
       "    </tr>\n",
       "    <tr>\n",
       "      <th>4</th>\n",
       "      <td>Chelsea</td>\n",
       "      <td>6.525000</td>\n",
       "    </tr>\n",
       "    <tr>\n",
       "      <th>16</th>\n",
       "      <td>Tottenham</td>\n",
       "      <td>6.450000</td>\n",
       "    </tr>\n",
       "    <tr>\n",
       "      <th>0</th>\n",
       "      <td>Arsenal</td>\n",
       "      <td>6.303571</td>\n",
       "    </tr>\n",
       "    <tr>\n",
       "      <th>9</th>\n",
       "      <td>Liverpool</td>\n",
       "      <td>5.981481</td>\n",
       "    </tr>\n",
       "    <tr>\n",
       "      <th>11</th>\n",
       "      <td>Manchester+United</td>\n",
       "      <td>5.960000</td>\n",
       "    </tr>\n",
       "    <tr>\n",
       "      <th>6</th>\n",
       "      <td>Everton</td>\n",
       "      <td>5.482143</td>\n",
       "    </tr>\n",
       "    <tr>\n",
       "      <th>8</th>\n",
       "      <td>Leicester+City</td>\n",
       "      <td>5.354167</td>\n",
       "    </tr>\n",
       "    <tr>\n",
       "      <th>19</th>\n",
       "      <td>West+Ham</td>\n",
       "      <td>5.250000</td>\n",
       "    </tr>\n",
       "    <tr>\n",
       "      <th>13</th>\n",
       "      <td>Southampton</td>\n",
       "      <td>5.239130</td>\n",
       "    </tr>\n",
       "    <tr>\n",
       "      <th>1</th>\n",
       "      <td>Bournemouth</td>\n",
       "      <td>5.166667</td>\n",
       "    </tr>\n",
       "    <tr>\n",
       "      <th>5</th>\n",
       "      <td>Crystal+Palace</td>\n",
       "      <td>5.119048</td>\n",
       "    </tr>\n",
       "    <tr>\n",
       "      <th>18</th>\n",
       "      <td>West+Brom</td>\n",
       "      <td>5.105263</td>\n",
       "    </tr>\n",
       "    <tr>\n",
       "      <th>14</th>\n",
       "      <td>Stoke+City</td>\n",
       "      <td>5.068182</td>\n",
       "    </tr>\n",
       "    <tr>\n",
       "      <th>15</th>\n",
       "      <td>Swansea</td>\n",
       "      <td>5.000000</td>\n",
       "    </tr>\n",
       "    <tr>\n",
       "      <th>3</th>\n",
       "      <td>Burnley</td>\n",
       "      <td>4.972222</td>\n",
       "    </tr>\n",
       "    <tr>\n",
       "      <th>17</th>\n",
       "      <td>Watford</td>\n",
       "      <td>4.937500</td>\n",
       "    </tr>\n",
       "    <tr>\n",
       "      <th>7</th>\n",
       "      <td>Huddersfield</td>\n",
       "      <td>4.767857</td>\n",
       "    </tr>\n",
       "    <tr>\n",
       "      <th>12</th>\n",
       "      <td>Newcastle+United</td>\n",
       "      <td>4.761905</td>\n",
       "    </tr>\n",
       "    <tr>\n",
       "      <th>2</th>\n",
       "      <td>Brighton+and+Hove</td>\n",
       "      <td>4.704545</td>\n",
       "    </tr>\n",
       "  </tbody>\n",
       "</table>\n",
       "</div>"
      ],
      "text/plain": [
       "                 club  fpl_value\n",
       "10    Manchester+City   6.850000\n",
       "4             Chelsea   6.525000\n",
       "16          Tottenham   6.450000\n",
       "0             Arsenal   6.303571\n",
       "9           Liverpool   5.981481\n",
       "11  Manchester+United   5.960000\n",
       "6             Everton   5.482143\n",
       "8      Leicester+City   5.354167\n",
       "19           West+Ham   5.250000\n",
       "13        Southampton   5.239130\n",
       "1         Bournemouth   5.166667\n",
       "5      Crystal+Palace   5.119048\n",
       "18          West+Brom   5.105263\n",
       "14         Stoke+City   5.068182\n",
       "15            Swansea   5.000000\n",
       "3             Burnley   4.972222\n",
       "17            Watford   4.937500\n",
       "7        Huddersfield   4.767857\n",
       "12   Newcastle+United   4.761905\n",
       "2   Brighton+and+Hove   4.704545"
      ]
     },
     "execution_count": 25,
     "metadata": {},
     "output_type": "execute_result"
    }
   ],
   "source": [
    "dataset_meanfv=pd.DataFrame(dataset.groupby(['club'])['fpl_value'].mean()).reset_index().sort_values('fpl_value',ascending=False)\n",
    "dataset_meanfv"
   ]
  },
  {
   "cell_type": "code",
   "execution_count": 26,
   "metadata": {},
   "outputs": [
    {
     "data": {
      "application/vnd.plotly.v1+json": {
       "config": {
        "linkText": "Export to plot.ly",
        "plotlyServerURL": "https://plot.ly",
        "showLink": false
       },
       "data": [
        {
         "marker": {
          "color": [
           "#3DD6B6",
           "#707306",
           "#1BFDD3",
           "#AF9CBE",
           "#C096D6",
           "#4B8F31",
           "#0E4293",
           "#1AC3A8",
           "#91A309",
           "#3E9773",
           "#DF48B3",
           "#C9BFC0",
           "#A37D10",
           "#301F2D",
           "#54E54D",
           "#B82B8D",
           "#76070A",
           "#9A42FB",
           "#0F7369",
           "#67281C"
          ]
         },
         "type": "bar",
         "x": [
          "Manchester+City",
          "Chelsea",
          "Tottenham",
          "Arsenal",
          "Liverpool",
          "Manchester+United",
          "Everton",
          "Leicester+City",
          "West+Ham",
          "Southampton",
          "Bournemouth",
          "Crystal+Palace",
          "West+Brom",
          "Stoke+City",
          "Swansea",
          "Burnley",
          "Watford",
          "Huddersfield",
          "Newcastle+United",
          "Brighton+and+Hove"
         ],
         "y": [
          6.85,
          6.525,
          6.45,
          6.303571428571429,
          5.981481481481482,
          5.96,
          5.482142857142857,
          5.354166666666667,
          5.25,
          5.239130434782608,
          5.166666666666667,
          5.119047619047619,
          5.105263157894737,
          5.068181818181818,
          5,
          4.972222222222222,
          4.9375,
          4.767857142857143,
          4.761904761904762,
          4.704545454545454
         ]
        }
       ],
       "layout": {
        "title": "Average FPL value accoriding to each Club"
       }
      },
      "text/html": [
       "<div>                            <div id=\"5cea6696-227e-4cb0-851b-2cf10f8ee3de\" class=\"plotly-graph-div\" style=\"height:525px; width:100%;\"></div>            <script type=\"text/javascript\">                require([\"plotly\"], function(Plotly) {                    window.PLOTLYENV=window.PLOTLYENV || {};                                    if (document.getElementById(\"5cea6696-227e-4cb0-851b-2cf10f8ee3de\")) {                    Plotly.newPlot(                        \"5cea6696-227e-4cb0-851b-2cf10f8ee3de\",                        [{\"marker\": {\"color\": [\"#3DD6B6\", \"#707306\", \"#1BFDD3\", \"#AF9CBE\", \"#C096D6\", \"#4B8F31\", \"#0E4293\", \"#1AC3A8\", \"#91A309\", \"#3E9773\", \"#DF48B3\", \"#C9BFC0\", \"#A37D10\", \"#301F2D\", \"#54E54D\", \"#B82B8D\", \"#76070A\", \"#9A42FB\", \"#0F7369\", \"#67281C\"]}, \"type\": \"bar\", \"x\": [\"Manchester+City\", \"Chelsea\", \"Tottenham\", \"Arsenal\", \"Liverpool\", \"Manchester+United\", \"Everton\", \"Leicester+City\", \"West+Ham\", \"Southampton\", \"Bournemouth\", \"Crystal+Palace\", \"West+Brom\", \"Stoke+City\", \"Swansea\", \"Burnley\", \"Watford\", \"Huddersfield\", \"Newcastle+United\", \"Brighton+and+Hove\"], \"y\": [6.85, 6.525, 6.45, 6.303571428571429, 5.981481481481482, 5.96, 5.482142857142857, 5.354166666666667, 5.25, 5.239130434782608, 5.166666666666667, 5.119047619047619, 5.105263157894737, 5.068181818181818, 5.0, 4.972222222222222, 4.9375, 4.767857142857143, 4.761904761904762, 4.704545454545454]}],                        {\"title\": \"Average FPL value accoriding to each Club\"},                        {\"responsive\": true}                    ).then(function(){\n",
       "                            \n",
       "var gd = document.getElementById('5cea6696-227e-4cb0-851b-2cf10f8ee3de');\n",
       "var x = new MutationObserver(function (mutations, observer) {{\n",
       "        var display = window.getComputedStyle(gd).display;\n",
       "        if (!display || display === 'none') {{\n",
       "            console.log([gd, 'removed!']);\n",
       "            Plotly.purge(gd);\n",
       "            observer.disconnect();\n",
       "        }}\n",
       "}});\n",
       "\n",
       "// Listen for the removal of the full notebook cells\n",
       "var notebookContainer = gd.closest('#notebook-container');\n",
       "if (notebookContainer) {{\n",
       "    x.observe(notebookContainer, {childList: true});\n",
       "}}\n",
       "\n",
       "// Listen for the clearing of the current output cell\n",
       "var outputEl = gd.closest('.output');\n",
       "if (outputEl) {{\n",
       "    x.observe(outputEl, {childList: true});\n",
       "}}\n",
       "\n",
       "                        })                };                });            </script>        </div>"
      ]
     },
     "metadata": {},
     "output_type": "display_data"
    }
   ],
   "source": [
    "data = [go.Bar(\n",
    "    x = dataset_meanfv.club,\n",
    "    y = dataset_meanfv.fpl_value,\n",
    "    marker = dict(color = random_colors(20))\n",
    ")]\n",
    "layout = dict(title= \"Average FPL value accoriding to each Club\")\n",
    "fig = dict( data=data, layout=layout )\n",
    "iplot( fig, validate=False )"
   ]
  },
  {
   "cell_type": "markdown",
   "metadata": {
    "_cell_guid": "92bbc0bb-ad03-4746-8740-bc3c282892e5",
    "_uuid": "d313dfeef6f16b1b96981b6ca649d6bd20f72ce6"
   },
   "source": [
    "### Total Percentage of Users selecting a Club"
   ]
  },
  {
   "cell_type": "code",
   "execution_count": 27,
   "metadata": {
    "_cell_guid": "0f9dc476-91d8-43d4-9805-2e8ef2447e59",
    "_uuid": "4ca56e458fc0c8f6ef4618fe343455046ad8ba9f"
   },
   "outputs": [
    {
     "data": {
      "text/html": [
       "<div>\n",
       "<style scoped>\n",
       "    .dataframe tbody tr th:only-of-type {\n",
       "        vertical-align: middle;\n",
       "    }\n",
       "\n",
       "    .dataframe tbody tr th {\n",
       "        vertical-align: top;\n",
       "    }\n",
       "\n",
       "    .dataframe thead th {\n",
       "        text-align: right;\n",
       "    }\n",
       "</style>\n",
       "<table border=\"1\" class=\"dataframe\">\n",
       "  <thead>\n",
       "    <tr style=\"text-align: right;\">\n",
       "      <th></th>\n",
       "      <th>club</th>\n",
       "      <th>fpl_sel</th>\n",
       "    </tr>\n",
       "  </thead>\n",
       "  <tbody>\n",
       "    <tr>\n",
       "      <th>11</th>\n",
       "      <td>Manchester+United</td>\n",
       "      <td>10.336988</td>\n",
       "    </tr>\n",
       "    <tr>\n",
       "      <th>16</th>\n",
       "      <td>Tottenham</td>\n",
       "      <td>10.116341</td>\n",
       "    </tr>\n",
       "    <tr>\n",
       "      <th>4</th>\n",
       "      <td>Chelsea</td>\n",
       "      <td>9.019791</td>\n",
       "    </tr>\n",
       "    <tr>\n",
       "      <th>9</th>\n",
       "      <td>Liverpool</td>\n",
       "      <td>8.023536</td>\n",
       "    </tr>\n",
       "    <tr>\n",
       "      <th>0</th>\n",
       "      <td>Arsenal</td>\n",
       "      <td>7.374967</td>\n",
       "    </tr>\n",
       "    <tr>\n",
       "      <th>10</th>\n",
       "      <td>Manchester+City</td>\n",
       "      <td>7.154319</td>\n",
       "    </tr>\n",
       "    <tr>\n",
       "      <th>6</th>\n",
       "      <td>Everton</td>\n",
       "      <td>6.138005</td>\n",
       "    </tr>\n",
       "    <tr>\n",
       "      <th>1</th>\n",
       "      <td>Bournemouth</td>\n",
       "      <td>6.131319</td>\n",
       "    </tr>\n",
       "    <tr>\n",
       "      <th>5</th>\n",
       "      <td>Crystal+Palace</td>\n",
       "      <td>5.188553</td>\n",
       "    </tr>\n",
       "    <tr>\n",
       "      <th>13</th>\n",
       "      <td>Southampton</td>\n",
       "      <td>4.874298</td>\n",
       "    </tr>\n",
       "    <tr>\n",
       "      <th>18</th>\n",
       "      <td>West+Brom</td>\n",
       "      <td>4.178925</td>\n",
       "    </tr>\n",
       "    <tr>\n",
       "      <th>12</th>\n",
       "      <td>Newcastle+United</td>\n",
       "      <td>4.045199</td>\n",
       "    </tr>\n",
       "    <tr>\n",
       "      <th>15</th>\n",
       "      <td>Swansea</td>\n",
       "      <td>3.570473</td>\n",
       "    </tr>\n",
       "    <tr>\n",
       "      <th>3</th>\n",
       "      <td>Burnley</td>\n",
       "      <td>2.707943</td>\n",
       "    </tr>\n",
       "    <tr>\n",
       "      <th>19</th>\n",
       "      <td>West+Ham</td>\n",
       "      <td>2.360257</td>\n",
       "    </tr>\n",
       "    <tr>\n",
       "      <th>2</th>\n",
       "      <td>Brighton+and+Hove</td>\n",
       "      <td>2.039315</td>\n",
       "    </tr>\n",
       "    <tr>\n",
       "      <th>8</th>\n",
       "      <td>Leicester+City</td>\n",
       "      <td>1.965766</td>\n",
       "    </tr>\n",
       "    <tr>\n",
       "      <th>17</th>\n",
       "      <td>Watford</td>\n",
       "      <td>1.751805</td>\n",
       "    </tr>\n",
       "    <tr>\n",
       "      <th>14</th>\n",
       "      <td>Stoke+City</td>\n",
       "      <td>1.664884</td>\n",
       "    </tr>\n",
       "    <tr>\n",
       "      <th>7</th>\n",
       "      <td>Huddersfield</td>\n",
       "      <td>1.357315</td>\n",
       "    </tr>\n",
       "  </tbody>\n",
       "</table>\n",
       "</div>"
      ],
      "text/plain": [
       "                 club    fpl_sel\n",
       "11  Manchester+United  10.336988\n",
       "16          Tottenham  10.116341\n",
       "4             Chelsea   9.019791\n",
       "9           Liverpool   8.023536\n",
       "0             Arsenal   7.374967\n",
       "10    Manchester+City   7.154319\n",
       "6             Everton   6.138005\n",
       "1         Bournemouth   6.131319\n",
       "5      Crystal+Palace   5.188553\n",
       "13        Southampton   4.874298\n",
       "18          West+Brom   4.178925\n",
       "12   Newcastle+United   4.045199\n",
       "15            Swansea   3.570473\n",
       "3             Burnley   2.707943\n",
       "19           West+Ham   2.360257\n",
       "2   Brighton+and+Hove   2.039315\n",
       "8      Leicester+City   1.965766\n",
       "17            Watford   1.751805\n",
       "14         Stoke+City   1.664884\n",
       "7        Huddersfield   1.357315"
      ]
     },
     "execution_count": 27,
     "metadata": {},
     "output_type": "execute_result"
    }
   ],
   "source": [
    "dataset_meanfs=pd.DataFrame(dataset.groupby(['club'])['fpl_sel'].sum()/0.14956).reset_index().sort_values('fpl_sel',ascending=False)\n",
    "dataset_meanfs"
   ]
  },
  {
   "cell_type": "code",
   "execution_count": 28,
   "metadata": {},
   "outputs": [
    {
     "data": {
      "application/vnd.plotly.v1+json": {
       "config": {
        "linkText": "Export to plot.ly",
        "plotlyServerURL": "https://plot.ly",
        "showLink": false
       },
       "data": [
        {
         "hole": 0.6,
         "labels": [
          "Manchester+United",
          "Tottenham",
          "Chelsea",
          "Liverpool",
          "Arsenal",
          "Manchester+City",
          "Everton",
          "Bournemouth",
          "Crystal+Palace",
          "Southampton",
          "West+Brom",
          "Newcastle+United",
          "Swansea",
          "Burnley",
          "West+Ham",
          "Brighton+and+Hove",
          "Leicester+City",
          "Watford",
          "Stoke+City",
          "Huddersfield"
         ],
         "textinfo": "none",
         "type": "pie",
         "values": [
          10.33698849959882,
          10.116341267718639,
          9.019791388071678,
          8.023535704733881,
          7.374966568601232,
          7.1543193367210485,
          6.138004814121424,
          6.131318534367479,
          5.188553089061246,
          4.874297940625836,
          4.178924846215566,
          4.045199251136669,
          3.5704733886065796,
          2.707943300347687,
          2.360256753142552,
          2.0393153249531966,
          1.9657662476598023,
          1.7518052955335657,
          1.6648836587322815,
          1.3573147900508158
         ]
        }
       ],
       "layout": {
        "template": {
         "data": {
          "bar": [
           {
            "error_x": {
             "color": "#2a3f5f"
            },
            "error_y": {
             "color": "#2a3f5f"
            },
            "marker": {
             "line": {
              "color": "#E5ECF6",
              "width": 0.5
             }
            },
            "type": "bar"
           }
          ],
          "barpolar": [
           {
            "marker": {
             "line": {
              "color": "#E5ECF6",
              "width": 0.5
             }
            },
            "type": "barpolar"
           }
          ],
          "carpet": [
           {
            "aaxis": {
             "endlinecolor": "#2a3f5f",
             "gridcolor": "white",
             "linecolor": "white",
             "minorgridcolor": "white",
             "startlinecolor": "#2a3f5f"
            },
            "baxis": {
             "endlinecolor": "#2a3f5f",
             "gridcolor": "white",
             "linecolor": "white",
             "minorgridcolor": "white",
             "startlinecolor": "#2a3f5f"
            },
            "type": "carpet"
           }
          ],
          "choropleth": [
           {
            "colorbar": {
             "outlinewidth": 0,
             "ticks": ""
            },
            "type": "choropleth"
           }
          ],
          "contour": [
           {
            "colorbar": {
             "outlinewidth": 0,
             "ticks": ""
            },
            "colorscale": [
             [
              0,
              "#0d0887"
             ],
             [
              0.1111111111111111,
              "#46039f"
             ],
             [
              0.2222222222222222,
              "#7201a8"
             ],
             [
              0.3333333333333333,
              "#9c179e"
             ],
             [
              0.4444444444444444,
              "#bd3786"
             ],
             [
              0.5555555555555556,
              "#d8576b"
             ],
             [
              0.6666666666666666,
              "#ed7953"
             ],
             [
              0.7777777777777778,
              "#fb9f3a"
             ],
             [
              0.8888888888888888,
              "#fdca26"
             ],
             [
              1,
              "#f0f921"
             ]
            ],
            "type": "contour"
           }
          ],
          "contourcarpet": [
           {
            "colorbar": {
             "outlinewidth": 0,
             "ticks": ""
            },
            "type": "contourcarpet"
           }
          ],
          "heatmap": [
           {
            "colorbar": {
             "outlinewidth": 0,
             "ticks": ""
            },
            "colorscale": [
             [
              0,
              "#0d0887"
             ],
             [
              0.1111111111111111,
              "#46039f"
             ],
             [
              0.2222222222222222,
              "#7201a8"
             ],
             [
              0.3333333333333333,
              "#9c179e"
             ],
             [
              0.4444444444444444,
              "#bd3786"
             ],
             [
              0.5555555555555556,
              "#d8576b"
             ],
             [
              0.6666666666666666,
              "#ed7953"
             ],
             [
              0.7777777777777778,
              "#fb9f3a"
             ],
             [
              0.8888888888888888,
              "#fdca26"
             ],
             [
              1,
              "#f0f921"
             ]
            ],
            "type": "heatmap"
           }
          ],
          "heatmapgl": [
           {
            "colorbar": {
             "outlinewidth": 0,
             "ticks": ""
            },
            "colorscale": [
             [
              0,
              "#0d0887"
             ],
             [
              0.1111111111111111,
              "#46039f"
             ],
             [
              0.2222222222222222,
              "#7201a8"
             ],
             [
              0.3333333333333333,
              "#9c179e"
             ],
             [
              0.4444444444444444,
              "#bd3786"
             ],
             [
              0.5555555555555556,
              "#d8576b"
             ],
             [
              0.6666666666666666,
              "#ed7953"
             ],
             [
              0.7777777777777778,
              "#fb9f3a"
             ],
             [
              0.8888888888888888,
              "#fdca26"
             ],
             [
              1,
              "#f0f921"
             ]
            ],
            "type": "heatmapgl"
           }
          ],
          "histogram": [
           {
            "marker": {
             "colorbar": {
              "outlinewidth": 0,
              "ticks": ""
             }
            },
            "type": "histogram"
           }
          ],
          "histogram2d": [
           {
            "colorbar": {
             "outlinewidth": 0,
             "ticks": ""
            },
            "colorscale": [
             [
              0,
              "#0d0887"
             ],
             [
              0.1111111111111111,
              "#46039f"
             ],
             [
              0.2222222222222222,
              "#7201a8"
             ],
             [
              0.3333333333333333,
              "#9c179e"
             ],
             [
              0.4444444444444444,
              "#bd3786"
             ],
             [
              0.5555555555555556,
              "#d8576b"
             ],
             [
              0.6666666666666666,
              "#ed7953"
             ],
             [
              0.7777777777777778,
              "#fb9f3a"
             ],
             [
              0.8888888888888888,
              "#fdca26"
             ],
             [
              1,
              "#f0f921"
             ]
            ],
            "type": "histogram2d"
           }
          ],
          "histogram2dcontour": [
           {
            "colorbar": {
             "outlinewidth": 0,
             "ticks": ""
            },
            "colorscale": [
             [
              0,
              "#0d0887"
             ],
             [
              0.1111111111111111,
              "#46039f"
             ],
             [
              0.2222222222222222,
              "#7201a8"
             ],
             [
              0.3333333333333333,
              "#9c179e"
             ],
             [
              0.4444444444444444,
              "#bd3786"
             ],
             [
              0.5555555555555556,
              "#d8576b"
             ],
             [
              0.6666666666666666,
              "#ed7953"
             ],
             [
              0.7777777777777778,
              "#fb9f3a"
             ],
             [
              0.8888888888888888,
              "#fdca26"
             ],
             [
              1,
              "#f0f921"
             ]
            ],
            "type": "histogram2dcontour"
           }
          ],
          "mesh3d": [
           {
            "colorbar": {
             "outlinewidth": 0,
             "ticks": ""
            },
            "type": "mesh3d"
           }
          ],
          "parcoords": [
           {
            "line": {
             "colorbar": {
              "outlinewidth": 0,
              "ticks": ""
             }
            },
            "type": "parcoords"
           }
          ],
          "pie": [
           {
            "automargin": true,
            "type": "pie"
           }
          ],
          "scatter": [
           {
            "marker": {
             "colorbar": {
              "outlinewidth": 0,
              "ticks": ""
             }
            },
            "type": "scatter"
           }
          ],
          "scatter3d": [
           {
            "line": {
             "colorbar": {
              "outlinewidth": 0,
              "ticks": ""
             }
            },
            "marker": {
             "colorbar": {
              "outlinewidth": 0,
              "ticks": ""
             }
            },
            "type": "scatter3d"
           }
          ],
          "scattercarpet": [
           {
            "marker": {
             "colorbar": {
              "outlinewidth": 0,
              "ticks": ""
             }
            },
            "type": "scattercarpet"
           }
          ],
          "scattergeo": [
           {
            "marker": {
             "colorbar": {
              "outlinewidth": 0,
              "ticks": ""
             }
            },
            "type": "scattergeo"
           }
          ],
          "scattergl": [
           {
            "marker": {
             "colorbar": {
              "outlinewidth": 0,
              "ticks": ""
             }
            },
            "type": "scattergl"
           }
          ],
          "scattermapbox": [
           {
            "marker": {
             "colorbar": {
              "outlinewidth": 0,
              "ticks": ""
             }
            },
            "type": "scattermapbox"
           }
          ],
          "scatterpolar": [
           {
            "marker": {
             "colorbar": {
              "outlinewidth": 0,
              "ticks": ""
             }
            },
            "type": "scatterpolar"
           }
          ],
          "scatterpolargl": [
           {
            "marker": {
             "colorbar": {
              "outlinewidth": 0,
              "ticks": ""
             }
            },
            "type": "scatterpolargl"
           }
          ],
          "scatterternary": [
           {
            "marker": {
             "colorbar": {
              "outlinewidth": 0,
              "ticks": ""
             }
            },
            "type": "scatterternary"
           }
          ],
          "surface": [
           {
            "colorbar": {
             "outlinewidth": 0,
             "ticks": ""
            },
            "colorscale": [
             [
              0,
              "#0d0887"
             ],
             [
              0.1111111111111111,
              "#46039f"
             ],
             [
              0.2222222222222222,
              "#7201a8"
             ],
             [
              0.3333333333333333,
              "#9c179e"
             ],
             [
              0.4444444444444444,
              "#bd3786"
             ],
             [
              0.5555555555555556,
              "#d8576b"
             ],
             [
              0.6666666666666666,
              "#ed7953"
             ],
             [
              0.7777777777777778,
              "#fb9f3a"
             ],
             [
              0.8888888888888888,
              "#fdca26"
             ],
             [
              1,
              "#f0f921"
             ]
            ],
            "type": "surface"
           }
          ],
          "table": [
           {
            "cells": {
             "fill": {
              "color": "#EBF0F8"
             },
             "line": {
              "color": "white"
             }
            },
            "header": {
             "fill": {
              "color": "#C8D4E3"
             },
             "line": {
              "color": "white"
             }
            },
            "type": "table"
           }
          ]
         },
         "layout": {
          "annotationdefaults": {
           "arrowcolor": "#2a3f5f",
           "arrowhead": 0,
           "arrowwidth": 1
          },
          "coloraxis": {
           "colorbar": {
            "outlinewidth": 0,
            "ticks": ""
           }
          },
          "colorscale": {
           "diverging": [
            [
             0,
             "#8e0152"
            ],
            [
             0.1,
             "#c51b7d"
            ],
            [
             0.2,
             "#de77ae"
            ],
            [
             0.3,
             "#f1b6da"
            ],
            [
             0.4,
             "#fde0ef"
            ],
            [
             0.5,
             "#f7f7f7"
            ],
            [
             0.6,
             "#e6f5d0"
            ],
            [
             0.7,
             "#b8e186"
            ],
            [
             0.8,
             "#7fbc41"
            ],
            [
             0.9,
             "#4d9221"
            ],
            [
             1,
             "#276419"
            ]
           ],
           "sequential": [
            [
             0,
             "#0d0887"
            ],
            [
             0.1111111111111111,
             "#46039f"
            ],
            [
             0.2222222222222222,
             "#7201a8"
            ],
            [
             0.3333333333333333,
             "#9c179e"
            ],
            [
             0.4444444444444444,
             "#bd3786"
            ],
            [
             0.5555555555555556,
             "#d8576b"
            ],
            [
             0.6666666666666666,
             "#ed7953"
            ],
            [
             0.7777777777777778,
             "#fb9f3a"
            ],
            [
             0.8888888888888888,
             "#fdca26"
            ],
            [
             1,
             "#f0f921"
            ]
           ],
           "sequentialminus": [
            [
             0,
             "#0d0887"
            ],
            [
             0.1111111111111111,
             "#46039f"
            ],
            [
             0.2222222222222222,
             "#7201a8"
            ],
            [
             0.3333333333333333,
             "#9c179e"
            ],
            [
             0.4444444444444444,
             "#bd3786"
            ],
            [
             0.5555555555555556,
             "#d8576b"
            ],
            [
             0.6666666666666666,
             "#ed7953"
            ],
            [
             0.7777777777777778,
             "#fb9f3a"
            ],
            [
             0.8888888888888888,
             "#fdca26"
            ],
            [
             1,
             "#f0f921"
            ]
           ]
          },
          "colorway": [
           "#636efa",
           "#EF553B",
           "#00cc96",
           "#ab63fa",
           "#FFA15A",
           "#19d3f3",
           "#FF6692",
           "#B6E880",
           "#FF97FF",
           "#FECB52"
          ],
          "font": {
           "color": "#2a3f5f"
          },
          "geo": {
           "bgcolor": "white",
           "lakecolor": "white",
           "landcolor": "#E5ECF6",
           "showlakes": true,
           "showland": true,
           "subunitcolor": "white"
          },
          "hoverlabel": {
           "align": "left"
          },
          "hovermode": "closest",
          "mapbox": {
           "style": "light"
          },
          "paper_bgcolor": "white",
          "plot_bgcolor": "#E5ECF6",
          "polar": {
           "angularaxis": {
            "gridcolor": "white",
            "linecolor": "white",
            "ticks": ""
           },
           "bgcolor": "#E5ECF6",
           "radialaxis": {
            "gridcolor": "white",
            "linecolor": "white",
            "ticks": ""
           }
          },
          "scene": {
           "xaxis": {
            "backgroundcolor": "#E5ECF6",
            "gridcolor": "white",
            "gridwidth": 2,
            "linecolor": "white",
            "showbackground": true,
            "ticks": "",
            "zerolinecolor": "white"
           },
           "yaxis": {
            "backgroundcolor": "#E5ECF6",
            "gridcolor": "white",
            "gridwidth": 2,
            "linecolor": "white",
            "showbackground": true,
            "ticks": "",
            "zerolinecolor": "white"
           },
           "zaxis": {
            "backgroundcolor": "#E5ECF6",
            "gridcolor": "white",
            "gridwidth": 2,
            "linecolor": "white",
            "showbackground": true,
            "ticks": "",
            "zerolinecolor": "white"
           }
          },
          "shapedefaults": {
           "line": {
            "color": "#2a3f5f"
           }
          },
          "ternary": {
           "aaxis": {
            "gridcolor": "white",
            "linecolor": "white",
            "ticks": ""
           },
           "baxis": {
            "gridcolor": "white",
            "linecolor": "white",
            "ticks": ""
           },
           "bgcolor": "#E5ECF6",
           "caxis": {
            "gridcolor": "white",
            "linecolor": "white",
            "ticks": ""
           }
          },
          "title": {
           "x": 0.05
          },
          "xaxis": {
           "automargin": true,
           "gridcolor": "white",
           "linecolor": "white",
           "ticks": "",
           "title": {
            "standoff": 15
           },
           "zerolinecolor": "white",
           "zerolinewidth": 2
          },
          "yaxis": {
           "automargin": true,
           "gridcolor": "white",
           "linecolor": "white",
           "ticks": "",
           "title": {
            "standoff": 15
           },
           "zerolinecolor": "white",
           "zerolinewidth": 2
          }
         }
        },
        "title": {
         "text": "Average of Market Value"
        }
       }
      },
      "text/html": [
       "<div>                            <div id=\"0fc4f21e-2eb2-4eaf-b05d-fa87681e6a5b\" class=\"plotly-graph-div\" style=\"height:525px; width:100%;\"></div>            <script type=\"text/javascript\">                require([\"plotly\"], function(Plotly) {                    window.PLOTLYENV=window.PLOTLYENV || {};                                    if (document.getElementById(\"0fc4f21e-2eb2-4eaf-b05d-fa87681e6a5b\")) {                    Plotly.newPlot(                        \"0fc4f21e-2eb2-4eaf-b05d-fa87681e6a5b\",                        [{\"hole\": 0.6, \"labels\": [\"Manchester+United\", \"Tottenham\", \"Chelsea\", \"Liverpool\", \"Arsenal\", \"Manchester+City\", \"Everton\", \"Bournemouth\", \"Crystal+Palace\", \"Southampton\", \"West+Brom\", \"Newcastle+United\", \"Swansea\", \"Burnley\", \"West+Ham\", \"Brighton+and+Hove\", \"Leicester+City\", \"Watford\", \"Stoke+City\", \"Huddersfield\"], \"textinfo\": \"none\", \"type\": \"pie\", \"values\": [10.33698849959882, 10.116341267718639, 9.019791388071678, 8.023535704733881, 7.374966568601232, 7.1543193367210485, 6.138004814121424, 6.131318534367479, 5.188553089061246, 4.874297940625836, 4.178924846215566, 4.045199251136669, 3.5704733886065796, 2.707943300347687, 2.360256753142552, 2.0393153249531966, 1.9657662476598023, 1.7518052955335657, 1.6648836587322815, 1.3573147900508158]}],                        {\"template\": {\"data\": {\"bar\": [{\"error_x\": {\"color\": \"#2a3f5f\"}, \"error_y\": {\"color\": \"#2a3f5f\"}, \"marker\": {\"line\": {\"color\": \"#E5ECF6\", \"width\": 0.5}}, \"type\": \"bar\"}], \"barpolar\": [{\"marker\": {\"line\": {\"color\": \"#E5ECF6\", \"width\": 0.5}}, \"type\": \"barpolar\"}], \"carpet\": [{\"aaxis\": {\"endlinecolor\": \"#2a3f5f\", \"gridcolor\": \"white\", \"linecolor\": \"white\", \"minorgridcolor\": \"white\", \"startlinecolor\": \"#2a3f5f\"}, \"baxis\": {\"endlinecolor\": \"#2a3f5f\", \"gridcolor\": \"white\", \"linecolor\": \"white\", \"minorgridcolor\": \"white\", \"startlinecolor\": \"#2a3f5f\"}, \"type\": \"carpet\"}], \"choropleth\": [{\"colorbar\": {\"outlinewidth\": 0, \"ticks\": \"\"}, \"type\": \"choropleth\"}], \"contour\": [{\"colorbar\": {\"outlinewidth\": 0, \"ticks\": \"\"}, \"colorscale\": [[0.0, \"#0d0887\"], [0.1111111111111111, \"#46039f\"], [0.2222222222222222, \"#7201a8\"], [0.3333333333333333, \"#9c179e\"], [0.4444444444444444, \"#bd3786\"], [0.5555555555555556, \"#d8576b\"], [0.6666666666666666, \"#ed7953\"], [0.7777777777777778, \"#fb9f3a\"], [0.8888888888888888, \"#fdca26\"], [1.0, \"#f0f921\"]], \"type\": \"contour\"}], \"contourcarpet\": [{\"colorbar\": {\"outlinewidth\": 0, \"ticks\": \"\"}, \"type\": \"contourcarpet\"}], \"heatmap\": [{\"colorbar\": {\"outlinewidth\": 0, \"ticks\": \"\"}, \"colorscale\": [[0.0, \"#0d0887\"], [0.1111111111111111, \"#46039f\"], [0.2222222222222222, \"#7201a8\"], [0.3333333333333333, \"#9c179e\"], [0.4444444444444444, \"#bd3786\"], [0.5555555555555556, \"#d8576b\"], [0.6666666666666666, \"#ed7953\"], [0.7777777777777778, \"#fb9f3a\"], [0.8888888888888888, \"#fdca26\"], [1.0, \"#f0f921\"]], \"type\": \"heatmap\"}], \"heatmapgl\": [{\"colorbar\": {\"outlinewidth\": 0, \"ticks\": \"\"}, \"colorscale\": [[0.0, \"#0d0887\"], [0.1111111111111111, \"#46039f\"], [0.2222222222222222, \"#7201a8\"], [0.3333333333333333, \"#9c179e\"], [0.4444444444444444, \"#bd3786\"], [0.5555555555555556, \"#d8576b\"], [0.6666666666666666, \"#ed7953\"], [0.7777777777777778, \"#fb9f3a\"], [0.8888888888888888, \"#fdca26\"], [1.0, \"#f0f921\"]], \"type\": \"heatmapgl\"}], \"histogram\": [{\"marker\": {\"colorbar\": {\"outlinewidth\": 0, \"ticks\": \"\"}}, \"type\": \"histogram\"}], \"histogram2d\": [{\"colorbar\": {\"outlinewidth\": 0, \"ticks\": \"\"}, \"colorscale\": [[0.0, \"#0d0887\"], [0.1111111111111111, \"#46039f\"], [0.2222222222222222, \"#7201a8\"], [0.3333333333333333, \"#9c179e\"], [0.4444444444444444, \"#bd3786\"], [0.5555555555555556, \"#d8576b\"], [0.6666666666666666, \"#ed7953\"], [0.7777777777777778, \"#fb9f3a\"], [0.8888888888888888, \"#fdca26\"], [1.0, \"#f0f921\"]], \"type\": \"histogram2d\"}], \"histogram2dcontour\": [{\"colorbar\": {\"outlinewidth\": 0, \"ticks\": \"\"}, \"colorscale\": [[0.0, \"#0d0887\"], [0.1111111111111111, \"#46039f\"], [0.2222222222222222, \"#7201a8\"], [0.3333333333333333, \"#9c179e\"], [0.4444444444444444, \"#bd3786\"], [0.5555555555555556, \"#d8576b\"], [0.6666666666666666, \"#ed7953\"], [0.7777777777777778, \"#fb9f3a\"], [0.8888888888888888, \"#fdca26\"], [1.0, \"#f0f921\"]], \"type\": \"histogram2dcontour\"}], \"mesh3d\": [{\"colorbar\": {\"outlinewidth\": 0, \"ticks\": \"\"}, \"type\": \"mesh3d\"}], \"parcoords\": [{\"line\": {\"colorbar\": {\"outlinewidth\": 0, \"ticks\": \"\"}}, \"type\": \"parcoords\"}], \"pie\": [{\"automargin\": true, \"type\": \"pie\"}], \"scatter\": [{\"marker\": {\"colorbar\": {\"outlinewidth\": 0, \"ticks\": \"\"}}, \"type\": \"scatter\"}], \"scatter3d\": [{\"line\": {\"colorbar\": {\"outlinewidth\": 0, \"ticks\": \"\"}}, \"marker\": {\"colorbar\": {\"outlinewidth\": 0, \"ticks\": \"\"}}, \"type\": \"scatter3d\"}], \"scattercarpet\": [{\"marker\": {\"colorbar\": {\"outlinewidth\": 0, \"ticks\": \"\"}}, \"type\": \"scattercarpet\"}], \"scattergeo\": [{\"marker\": {\"colorbar\": {\"outlinewidth\": 0, \"ticks\": \"\"}}, \"type\": \"scattergeo\"}], \"scattergl\": [{\"marker\": {\"colorbar\": {\"outlinewidth\": 0, \"ticks\": \"\"}}, \"type\": \"scattergl\"}], \"scattermapbox\": [{\"marker\": {\"colorbar\": {\"outlinewidth\": 0, \"ticks\": \"\"}}, \"type\": \"scattermapbox\"}], \"scatterpolar\": [{\"marker\": {\"colorbar\": {\"outlinewidth\": 0, \"ticks\": \"\"}}, \"type\": \"scatterpolar\"}], \"scatterpolargl\": [{\"marker\": {\"colorbar\": {\"outlinewidth\": 0, \"ticks\": \"\"}}, \"type\": \"scatterpolargl\"}], \"scatterternary\": [{\"marker\": {\"colorbar\": {\"outlinewidth\": 0, \"ticks\": \"\"}}, \"type\": \"scatterternary\"}], \"surface\": [{\"colorbar\": {\"outlinewidth\": 0, \"ticks\": \"\"}, \"colorscale\": [[0.0, \"#0d0887\"], [0.1111111111111111, \"#46039f\"], [0.2222222222222222, \"#7201a8\"], [0.3333333333333333, \"#9c179e\"], [0.4444444444444444, \"#bd3786\"], [0.5555555555555556, \"#d8576b\"], [0.6666666666666666, \"#ed7953\"], [0.7777777777777778, \"#fb9f3a\"], [0.8888888888888888, \"#fdca26\"], [1.0, \"#f0f921\"]], \"type\": \"surface\"}], \"table\": [{\"cells\": {\"fill\": {\"color\": \"#EBF0F8\"}, \"line\": {\"color\": \"white\"}}, \"header\": {\"fill\": {\"color\": \"#C8D4E3\"}, \"line\": {\"color\": \"white\"}}, \"type\": \"table\"}]}, \"layout\": {\"annotationdefaults\": {\"arrowcolor\": \"#2a3f5f\", \"arrowhead\": 0, \"arrowwidth\": 1}, \"coloraxis\": {\"colorbar\": {\"outlinewidth\": 0, \"ticks\": \"\"}}, \"colorscale\": {\"diverging\": [[0, \"#8e0152\"], [0.1, \"#c51b7d\"], [0.2, \"#de77ae\"], [0.3, \"#f1b6da\"], [0.4, \"#fde0ef\"], [0.5, \"#f7f7f7\"], [0.6, \"#e6f5d0\"], [0.7, \"#b8e186\"], [0.8, \"#7fbc41\"], [0.9, \"#4d9221\"], [1, \"#276419\"]], \"sequential\": [[0.0, \"#0d0887\"], [0.1111111111111111, \"#46039f\"], [0.2222222222222222, \"#7201a8\"], [0.3333333333333333, \"#9c179e\"], [0.4444444444444444, \"#bd3786\"], [0.5555555555555556, \"#d8576b\"], [0.6666666666666666, \"#ed7953\"], [0.7777777777777778, \"#fb9f3a\"], [0.8888888888888888, \"#fdca26\"], [1.0, \"#f0f921\"]], \"sequentialminus\": [[0.0, \"#0d0887\"], [0.1111111111111111, \"#46039f\"], [0.2222222222222222, \"#7201a8\"], [0.3333333333333333, \"#9c179e\"], [0.4444444444444444, \"#bd3786\"], [0.5555555555555556, \"#d8576b\"], [0.6666666666666666, \"#ed7953\"], [0.7777777777777778, \"#fb9f3a\"], [0.8888888888888888, \"#fdca26\"], [1.0, \"#f0f921\"]]}, \"colorway\": [\"#636efa\", \"#EF553B\", \"#00cc96\", \"#ab63fa\", \"#FFA15A\", \"#19d3f3\", \"#FF6692\", \"#B6E880\", \"#FF97FF\", \"#FECB52\"], \"font\": {\"color\": \"#2a3f5f\"}, \"geo\": {\"bgcolor\": \"white\", \"lakecolor\": \"white\", \"landcolor\": \"#E5ECF6\", \"showlakes\": true, \"showland\": true, \"subunitcolor\": \"white\"}, \"hoverlabel\": {\"align\": \"left\"}, \"hovermode\": \"closest\", \"mapbox\": {\"style\": \"light\"}, \"paper_bgcolor\": \"white\", \"plot_bgcolor\": \"#E5ECF6\", \"polar\": {\"angularaxis\": {\"gridcolor\": \"white\", \"linecolor\": \"white\", \"ticks\": \"\"}, \"bgcolor\": \"#E5ECF6\", \"radialaxis\": {\"gridcolor\": \"white\", \"linecolor\": \"white\", \"ticks\": \"\"}}, \"scene\": {\"xaxis\": {\"backgroundcolor\": \"#E5ECF6\", \"gridcolor\": \"white\", \"gridwidth\": 2, \"linecolor\": \"white\", \"showbackground\": true, \"ticks\": \"\", \"zerolinecolor\": \"white\"}, \"yaxis\": {\"backgroundcolor\": \"#E5ECF6\", \"gridcolor\": \"white\", \"gridwidth\": 2, \"linecolor\": \"white\", \"showbackground\": true, \"ticks\": \"\", \"zerolinecolor\": \"white\"}, \"zaxis\": {\"backgroundcolor\": \"#E5ECF6\", \"gridcolor\": \"white\", \"gridwidth\": 2, \"linecolor\": \"white\", \"showbackground\": true, \"ticks\": \"\", \"zerolinecolor\": \"white\"}}, \"shapedefaults\": {\"line\": {\"color\": \"#2a3f5f\"}}, \"ternary\": {\"aaxis\": {\"gridcolor\": \"white\", \"linecolor\": \"white\", \"ticks\": \"\"}, \"baxis\": {\"gridcolor\": \"white\", \"linecolor\": \"white\", \"ticks\": \"\"}, \"bgcolor\": \"#E5ECF6\", \"caxis\": {\"gridcolor\": \"white\", \"linecolor\": \"white\", \"ticks\": \"\"}}, \"title\": {\"x\": 0.05}, \"xaxis\": {\"automargin\": true, \"gridcolor\": \"white\", \"linecolor\": \"white\", \"ticks\": \"\", \"title\": {\"standoff\": 15}, \"zerolinecolor\": \"white\", \"zerolinewidth\": 2}, \"yaxis\": {\"automargin\": true, \"gridcolor\": \"white\", \"linecolor\": \"white\", \"ticks\": \"\", \"title\": {\"standoff\": 15}, \"zerolinecolor\": \"white\", \"zerolinewidth\": 2}}}, \"title\": {\"text\": \"Average of Market Value\"}},                        {\"responsive\": true}                    ).then(function(){\n",
       "                            \n",
       "var gd = document.getElementById('0fc4f21e-2eb2-4eaf-b05d-fa87681e6a5b');\n",
       "var x = new MutationObserver(function (mutations, observer) {{\n",
       "        var display = window.getComputedStyle(gd).display;\n",
       "        if (!display || display === 'none') {{\n",
       "            console.log([gd, 'removed!']);\n",
       "            Plotly.purge(gd);\n",
       "            observer.disconnect();\n",
       "        }}\n",
       "}});\n",
       "\n",
       "// Listen for the removal of the full notebook cells\n",
       "var notebookContainer = gd.closest('#notebook-container');\n",
       "if (notebookContainer) {{\n",
       "    x.observe(notebookContainer, {childList: true});\n",
       "}}\n",
       "\n",
       "// Listen for the clearing of the current output cell\n",
       "var outputEl = gd.closest('.output');\n",
       "if (outputEl) {{\n",
       "    x.observe(outputEl, {childList: true});\n",
       "}}\n",
       "\n",
       "                        })                };                });            </script>        </div>"
      ]
     },
     "metadata": {},
     "output_type": "display_data"
    }
   ],
   "source": [
    "trace = go.Pie(labels=dataset_meanfs.club, values=dataset_meanfs.fpl_sel, hole=0.6,textinfo= \"none\")\n",
    "layout = go.Layout(title='Average of Market Value')\n",
    "fig = go.Figure(data=[trace], layout=layout)\n",
    "iplot(fig, filename=\"plotting-library\")"
   ]
  },
  {
   "cell_type": "markdown",
   "metadata": {
    "_cell_guid": "963695f2-2154-4fd9-8064-02fe8d6f2899",
    "_uuid": "ca7b47d6a4b17cdbf382ac2f097ad5bc309058c0"
   },
   "source": [
    "### Relation between FPL points and FPL value "
   ]
  },
  {
   "cell_type": "code",
   "execution_count": 29,
   "metadata": {
    "_cell_guid": "7c20121a-18c1-4635-9f07-7daf3c27c882",
    "_uuid": "7ce4d456d52a56c9c112df854acb289ef54efc0a"
   },
   "outputs": [
    {
     "data": {
      "text/html": [
       "        <script type=\"text/javascript\">\n",
       "        window.PlotlyConfig = {MathJaxConfig: 'local'};\n",
       "        if (window.MathJax) {MathJax.Hub.Config({SVG: {font: \"STIX-Web\"}});}\n",
       "        if (typeof require !== 'undefined') {\n",
       "        require.undef(\"plotly\");\n",
       "        requirejs.config({\n",
       "            paths: {\n",
       "                'plotly': ['https://cdn.plot.ly/plotly-latest.min']\n",
       "            }\n",
       "        });\n",
       "        require(['plotly'], function(Plotly) {\n",
       "            window._Plotly = Plotly;\n",
       "        });\n",
       "        }\n",
       "        </script>\n",
       "        "
      ]
     },
     "metadata": {},
     "output_type": "display_data"
    }
   ],
   "source": [
    "import pandas as pd\n",
    "import numpy as np\n",
    "import matplotlib.pyplot as plt\n",
    "import collections\n",
    "\n",
    "pd.options.display.max_columns = 999\n",
    "\n",
    "import plotly.offline as py\n",
    "py.init_notebook_mode(connected=True)\n",
    "import plotly.graph_objs as go\n",
    "import plotly.tools as tls\n",
    "\n",
    "import warnings\n",
    "warnings.filterwarnings('ignore')\n"
   ]
  },
  {
   "cell_type": "code",
   "execution_count": 30,
   "metadata": {},
   "outputs": [
    {
     "data": {
      "text/html": [
       "<div>\n",
       "<style scoped>\n",
       "    .dataframe tbody tr th:only-of-type {\n",
       "        vertical-align: middle;\n",
       "    }\n",
       "\n",
       "    .dataframe tbody tr th {\n",
       "        vertical-align: top;\n",
       "    }\n",
       "\n",
       "    .dataframe thead th {\n",
       "        text-align: right;\n",
       "    }\n",
       "</style>\n",
       "<table border=\"1\" class=\"dataframe\">\n",
       "  <thead>\n",
       "    <tr style=\"text-align: right;\">\n",
       "      <th></th>\n",
       "      <th>name</th>\n",
       "      <th>club</th>\n",
       "      <th>age</th>\n",
       "      <th>position</th>\n",
       "      <th>position_cat</th>\n",
       "      <th>market_value</th>\n",
       "      <th>page_views</th>\n",
       "      <th>fpl_value</th>\n",
       "      <th>fpl_sel</th>\n",
       "      <th>fpl_points</th>\n",
       "      <th>region</th>\n",
       "      <th>nationality</th>\n",
       "      <th>new_foreign</th>\n",
       "      <th>age_cat</th>\n",
       "      <th>club_id</th>\n",
       "      <th>big_club</th>\n",
       "      <th>new_signing</th>\n",
       "      <th>fpl_ratio</th>\n",
       "    </tr>\n",
       "  </thead>\n",
       "  <tbody>\n",
       "    <tr>\n",
       "      <th>0</th>\n",
       "      <td>Alexis Sanchez</td>\n",
       "      <td>Arsenal</td>\n",
       "      <td>28</td>\n",
       "      <td>LW</td>\n",
       "      <td>1</td>\n",
       "      <td>65.0</td>\n",
       "      <td>4329</td>\n",
       "      <td>12.0</td>\n",
       "      <td>0.171</td>\n",
       "      <td>264</td>\n",
       "      <td>3.0</td>\n",
       "      <td>Chile</td>\n",
       "      <td>0</td>\n",
       "      <td>4</td>\n",
       "      <td>1</td>\n",
       "      <td>1</td>\n",
       "      <td>0</td>\n",
       "      <td>22.000000</td>\n",
       "    </tr>\n",
       "    <tr>\n",
       "      <th>1</th>\n",
       "      <td>Mesut Ozil</td>\n",
       "      <td>Arsenal</td>\n",
       "      <td>28</td>\n",
       "      <td>AM</td>\n",
       "      <td>1</td>\n",
       "      <td>50.0</td>\n",
       "      <td>4395</td>\n",
       "      <td>9.5</td>\n",
       "      <td>0.056</td>\n",
       "      <td>167</td>\n",
       "      <td>2.0</td>\n",
       "      <td>Germany</td>\n",
       "      <td>0</td>\n",
       "      <td>4</td>\n",
       "      <td>1</td>\n",
       "      <td>1</td>\n",
       "      <td>0</td>\n",
       "      <td>17.578947</td>\n",
       "    </tr>\n",
       "    <tr>\n",
       "      <th>2</th>\n",
       "      <td>Petr Cech</td>\n",
       "      <td>Arsenal</td>\n",
       "      <td>35</td>\n",
       "      <td>GK</td>\n",
       "      <td>4</td>\n",
       "      <td>7.0</td>\n",
       "      <td>1529</td>\n",
       "      <td>5.5</td>\n",
       "      <td>0.059</td>\n",
       "      <td>134</td>\n",
       "      <td>2.0</td>\n",
       "      <td>Czech Republic</td>\n",
       "      <td>0</td>\n",
       "      <td>6</td>\n",
       "      <td>1</td>\n",
       "      <td>1</td>\n",
       "      <td>0</td>\n",
       "      <td>24.363636</td>\n",
       "    </tr>\n",
       "    <tr>\n",
       "      <th>3</th>\n",
       "      <td>Theo Walcott</td>\n",
       "      <td>Arsenal</td>\n",
       "      <td>28</td>\n",
       "      <td>RW</td>\n",
       "      <td>1</td>\n",
       "      <td>20.0</td>\n",
       "      <td>2393</td>\n",
       "      <td>7.5</td>\n",
       "      <td>0.015</td>\n",
       "      <td>122</td>\n",
       "      <td>1.0</td>\n",
       "      <td>United Kingdom of Great Britain and Northern I...</td>\n",
       "      <td>0</td>\n",
       "      <td>4</td>\n",
       "      <td>1</td>\n",
       "      <td>1</td>\n",
       "      <td>0</td>\n",
       "      <td>16.266667</td>\n",
       "    </tr>\n",
       "    <tr>\n",
       "      <th>4</th>\n",
       "      <td>Laurent Koscielny</td>\n",
       "      <td>Arsenal</td>\n",
       "      <td>31</td>\n",
       "      <td>CB</td>\n",
       "      <td>3</td>\n",
       "      <td>22.0</td>\n",
       "      <td>912</td>\n",
       "      <td>6.0</td>\n",
       "      <td>0.007</td>\n",
       "      <td>121</td>\n",
       "      <td>2.0</td>\n",
       "      <td>France</td>\n",
       "      <td>0</td>\n",
       "      <td>4</td>\n",
       "      <td>1</td>\n",
       "      <td>1</td>\n",
       "      <td>0</td>\n",
       "      <td>20.166667</td>\n",
       "    </tr>\n",
       "  </tbody>\n",
       "</table>\n",
       "</div>"
      ],
      "text/plain": [
       "                name     club  age position  position_cat  market_value  \\\n",
       "0     Alexis Sanchez  Arsenal   28       LW             1          65.0   \n",
       "1         Mesut Ozil  Arsenal   28       AM             1          50.0   \n",
       "2          Petr Cech  Arsenal   35       GK             4           7.0   \n",
       "3       Theo Walcott  Arsenal   28       RW             1          20.0   \n",
       "4  Laurent Koscielny  Arsenal   31       CB             3          22.0   \n",
       "\n",
       "   page_views  fpl_value  fpl_sel  fpl_points  region  \\\n",
       "0        4329       12.0    0.171         264     3.0   \n",
       "1        4395        9.5    0.056         167     2.0   \n",
       "2        1529        5.5    0.059         134     2.0   \n",
       "3        2393        7.5    0.015         122     1.0   \n",
       "4         912        6.0    0.007         121     2.0   \n",
       "\n",
       "                                         nationality  new_foreign  age_cat  \\\n",
       "0                                              Chile            0        4   \n",
       "1                                            Germany            0        4   \n",
       "2                                     Czech Republic            0        6   \n",
       "3  United Kingdom of Great Britain and Northern I...            0        4   \n",
       "4                                             France            0        4   \n",
       "\n",
       "   club_id  big_club  new_signing  fpl_ratio  \n",
       "0        1         1            0  22.000000  \n",
       "1        1         1            0  17.578947  \n",
       "2        1         1            0  24.363636  \n",
       "3        1         1            0  16.266667  \n",
       "4        1         1            0  20.166667  "
      ]
     },
     "execution_count": 30,
     "metadata": {},
     "output_type": "execute_result"
    }
   ],
   "source": [
    "dataset.head()"
   ]
  },
  {
   "cell_type": "code",
   "execution_count": 31,
   "metadata": {},
   "outputs": [],
   "source": [
    "trace1 = {\n",
    "  \"x\": dataset['fpl_value'],\n",
    "  \"y\": dataset['fpl_points'],\n",
    "  \"marker\": {\n",
    "    \"color\": 'red',\n",
    "    \"colorsrc\": \"Aldemuro:22:1a1899\",\n",
    "    \"size\": dataset['fpl_ratio']\n",
    "  }, \n",
    "  \"mode\": \"markers\", \n",
    "  \"name\": \"fpl_points\", \n",
    "  \"text\": dataset['name']+\", Club:\"+dataset['club']+\", Pos:\"+dataset['position'], \n",
    "  \"type\": \"scatter\", \n",
    "  \"uid\": \"0d217c\", \n",
    "  \"xsrc\": \"Aldemuro:22:d61533\", \n",
    "  \"ysrc\": \"Aldemuro:22:1c3243\",\n",
    "  \n",
    "}"
   ]
  },
  {
   "cell_type": "code",
   "execution_count": 32,
   "metadata": {},
   "outputs": [],
   "source": [
    "data = [trace1]\n",
    "layout = {\n",
    "  \"autosize\": True, \n",
    "  \"title\": \"Relation between FPL points and FPL value from every players\",\n",
    "  \"xaxis\": {\n",
    "    \"autorange\": True, \n",
    "    \"range\": [3.48535752785, 13.0146424722], \n",
    "    \"title\": \"fpl value\", \n",
    "    \"type\": \"linear\"\n",
    "  }, \n",
    "  \"yaxis\": {\n",
    "    \"autorange\": True, \n",
    "    \"range\": [-17.5245518316, 281.524551832], \n",
    "    \"title\": \"fpl points\", \n",
    "    \"type\": \"linear\"\n",
    "  }\n",
    "}"
   ]
  },
  {
   "cell_type": "code",
   "execution_count": 33,
   "metadata": {},
   "outputs": [
    {
     "data": {
      "application/vnd.plotly.v1+json": {
       "config": {
        "linkText": "Export to plot.ly",
        "plotlyServerURL": "https://plot.ly",
        "showLink": false
       },
       "data": [
        {
         "marker": {
          "color": "red",
          "colorsrc": "Aldemuro:22:1a1899",
          "size": [
           22,
           17.57894736842105,
           24.363636363636363,
           16.266666666666666,
           20.166666666666668,
           19.833333333333332,
           13.647058823529411,
           20.90909090909091,
           16.363636363636363,
           16.181818181818183,
           15.454545454545455,
           13.833333333333334,
           11.090909090909092,
           8,
           11.555555555555555,
           9,
           9,
           5.428571428571429,
           4.933333333333334,
           6.4,
           5.777777777777778,
           2.6666666666666665,
           2,
           0.4,
           0.4444444444444444,
           0.2,
           0,
           0,
           23.733333333333334,
           20.75,
           26.8,
           26.666666666666668,
           22.4,
           17.833333333333332,
           20.8,
           18.181818181818183,
           19.77777777777778,
           14.666666666666666,
           16.8,
           12.8,
           10.5,
           11,
           9.8,
           9.777777777777779,
           7.2,
           3.7777777777777777,
           2.8,
           2,
           1.6,
           0.8888888888888888,
           1,
           0.4444444444444444,
           0,
           0,
           0,
           0,
           0,
           0,
           0,
           0,
           0,
           0,
           0,
           0,
           0,
           0,
           0,
           0,
           0,
           0,
           0,
           0,
           0,
           0,
           29.8,
           20.166666666666668,
           16.615384615384617,
           20.88888888888889,
           20.22222222222222,
           20,
           14.727272727272727,
           13.818181818181818,
           13.8,
           9.818181818181818,
           11.333333333333334,
           11.11111111111111,
           9.4,
           7.090909090909091,
           5.111111111111111,
           2.888888888888889,
           0.75,
           0,
           21.333333333333332,
           19.6,
           27.384615384615383,
           25.285714285714285,
           26.153846153846153,
           20.25,
           25.636363636363637,
           22,
           17.285714285714285,
           16.285714285714285,
           16.153846153846153,
           21,
           16.6,
           12.8,
           5.647058823529412,
           2.727272727272727,
           0.6,
           0,
           0,
           0,
           21.285714285714285,
           17,
           19.333333333333332,
           17.818181818181817,
           20.666666666666668,
           20.444444444444443,
           18.4,
           16.545454545454547,
           17.2,
           16.666666666666668,
           12.2,
           11.333333333333334,
           9.4,
           10.222222222222221,
           8.4,
           5.333333333333333,
           3.272727272727273,
           1.4,
           1.3333333333333333,
           1.3333333333333333,
           0,
           19.2,
           22.5,
           20.46153846153846,
           23.09090909090909,
           18.307692307692307,
           20.545454545454547,
           20.8,
           20.4,
           19.77777777777778,
           16,
           10.133333333333333,
           13.8,
           15.11111111111111,
           15.11111111111111,
           11.454545454545455,
           12,
           6.923076923076923,
           7.4,
           6.888888888888889,
           4.6,
           4,
           3.4,
           2.909090909090909,
           2.25,
           0.2222222222222222,
           0,
           0,
           0,
           0,
           0,
           0,
           0,
           0,
           0,
           0,
           0,
           0,
           0,
           0,
           0,
           0,
           0,
           0,
           0,
           0,
           0,
           0,
           0,
           0,
           0,
           0,
           0,
           0,
           0,
           0,
           0,
           18.941176470588236,
           14.117647058823529,
           21.8,
           20.8,
           17.272727272727273,
           17.6,
           18.88888888888889,
           11.857142857142858,
           14.2,
           13.8,
           14,
           11.454545454545455,
           11.8,
           10.545454545454545,
           11.777777777777779,
           9.11111111111111,
           6,
           6,
           4.8,
           4.222222222222222,
           1.3333333333333333,
           0,
           0,
           0,
           21.176470588235293,
           19,
           16.42105263157895,
           21.285714285714285,
           21.384615384615383,
           18.533333333333335,
           23.454545454545453,
           22,
           19.272727272727273,
           20.8,
           17.636363636363637,
           12.8,
           13.272727272727273,
           6.75,
           10.444444444444445,
           9.555555555555555,
           7,
           6.4,
           3.3333333333333335,
           1.7777777777777777,
           1.1111111111111112,
           0.8888888888888888,
           0,
           0,
           0,
           0,
           0,
           19.9,
           15.217391304347826,
           18.625,
           21.846153846153847,
           16.25,
           12.352941176470589,
           18.181818181818183,
           17.272727272727273,
           13.23076923076923,
           15.6,
           14.6,
           6.380952380952381,
           10.727272727272727,
           9.5,
           7.428571428571429,
           7.454545454545454,
           4,
           2.888888888888889,
           0,
           0,
           19.217391304347824,
           24.727272727272727,
           18.46153846153846,
           14.375,
           17.5,
           14.571428571428571,
           17.818181818181817,
           17.636363636363637,
           11.875,
           14,
           10.133333333333333,
           9.125,
           12.727272727272727,
           10,
           11,
           9.454545454545455,
           9.6,
           9,
           9.333333333333334,
           5.2,
           4.6,
           3.5,
           2,
           1.5,
           0,
           0,
           0,
           0,
           0,
           0,
           0,
           0,
           0,
           0,
           0,
           0,
           0,
           0,
           0,
           0,
           0,
           0,
           0,
           0,
           0,
           0,
           26.8,
           19.384615384615383,
           22.363636363636363,
           16.615384615384617,
           20.4,
           16.727272727272727,
           17.77777777777778,
           15.6,
           15.4,
           13.636363636363637,
           9.538461538461538,
           12,
           9.5,
           6.666666666666667,
           8.444444444444445,
           8.444444444444445,
           5.428571428571429,
           5.111111111111111,
           2.6666666666666665,
           2.6666666666666665,
           1.1111111111111112,
           0,
           0,
           21.454545454545453,
           16.714285714285715,
           23.555555555555557,
           20.6,
           20.6,
           18.8,
           13.333333333333334,
           15.8,
           13.777777777777779,
           11.8,
           12.88888888888889,
           12.444444444444445,
           9.272727272727273,
           7.2,
           7.555555555555555,
           5.454545454545454,
           6,
           4.333333333333333,
           5.333333333333333,
           4,
           3,
           2,
           21.294117647058822,
           19.466666666666665,
           25.77777777777778,
           17.272727272727273,
           18.8,
           18.22222222222222,
           13.454545454545455,
           14,
           10.4,
           11.555555555555555,
           8.2,
           7.8,
           6.8,
           7.111111111111111,
           6.444444444444445,
           6.5,
           5,
           4.222222222222222,
           3.6,
           3.5555555555555554,
           2.6666666666666665,
           1.1111111111111112,
           0.75,
           0,
           0,
           23.68421052631579,
           17.92,
           22.94736842105263,
           21.75,
           26,
           21,
           20,
           20.6,
           18.6,
           16.363636363636363,
           12.923076923076923,
           15.2,
           7.333333333333333,
           9.272727272727273,
           7.818181818181818,
           6,
           4.3076923076923075,
           3.4,
           1.4545454545454546,
           0.4444444444444444,
           23.818181818181817,
           20,
           25.11111111111111,
           17.4,
           15.777777777777779,
           14.88888888888889,
           13,
           12.666666666666666,
           11,
           10,
           10.666666666666666,
           7.166666666666667,
           7.818181818181818,
           7.6,
           7.777777777777778,
           6.888888888888889,
           5.090909090909091,
           3.75,
           2.6666666666666665,
           1.4545454545454546,
           0.4444444444444444,
           0,
           0,
           0,
           26.2,
           18.153846153846153,
           19.166666666666668,
           25.11111111111111,
           18.333333333333332,
           20.4,
           18,
           15.272727272727273,
           15.8,
           15.4,
           14.8,
           12.166666666666666,
           12,
           10.4,
           10.4,
           2.6666666666666665,
           2,
           0,
           0,
           22.166666666666668,
           19,
           17.6,
           20.4,
           19.6,
           12.714285714285714,
           15.8,
           12.909090909090908,
           15.333333333333334,
           15.333333333333334,
           11.5,
           14.222222222222221,
           12,
           12.222222222222221,
           10,
           10,
           9,
           8.444444444444445,
           7.555555555555555,
           6.444444444444445,
           3.5555555555555554,
           2.1818181818181817
          ]
         },
         "mode": "markers",
         "name": "fpl_points",
         "text": [
          "Alexis Sanchez, Club:Arsenal, Pos:LW",
          "Mesut Ozil, Club:Arsenal, Pos:AM",
          "Petr Cech, Club:Arsenal, Pos:GK",
          "Theo Walcott, Club:Arsenal, Pos:RW",
          "Laurent Koscielny, Club:Arsenal, Pos:CB",
          "Hector Bellerin, Club:Arsenal, Pos:RB",
          "Olivier Giroud, Club:Arsenal, Pos:CF",
          "Nacho Monreal, Club:Arsenal, Pos:LB",
          "Shkodran Mustafi, Club:Arsenal, Pos:CB",
          "Alex Iwobi, Club:Arsenal, Pos:LW",
          "Granit Xhaka, Club:Arsenal, Pos:DM",
          "Alex Oxlade-Chamberlain, Club:Arsenal, Pos:RM",
          "Jack Wilshere, Club:Arsenal, Pos:CM",
          "Aaron Ramsey, Club:Arsenal, Pos:CM",
          "Francis Coquelin, Club:Arsenal, Pos:DM",
          "Gabriel Paulista, Club:Arsenal, Pos:CB",
          "Kieran Gibbs, Club:Arsenal, Pos:LB",
          "Santi Cazorla, Club:Arsenal, Pos:CM",
          "Danny Welbeck, Club:Arsenal, Pos:CF",
          "Rob Holding, Club:Arsenal, Pos:CB",
          "Mohamed Elneny, Club:Arsenal, Pos:DM",
          "Lucas Perez, Club:Arsenal, Pos:CF",
          "Emiliano Martinez, Club:Arsenal, Pos:GK",
          "David Ospina, Club:Arsenal, Pos:GK",
          "Carl Jenkinson, Club:Arsenal, Pos:RB",
          "Per Mertesacker, Club:Arsenal, Pos:CB",
          "Sead Kolasinac, Club:Arsenal, Pos:LB",
          "Alexandre Lacazette, Club:Arsenal, Pos:CF",
          "Joshua King, Club:Bournemouth, Pos:SS",
          "Jermain Defoe, Club:Bournemouth, Pos:CF",
          "Charlie Daniels, Club:Bournemouth, Pos:LB",
          "Artur Boruc, Club:Bournemouth, Pos:GK",
          "Steve Cook, Club:Bournemouth, Pos:CB",
          "Junior Stanislas, Club:Bournemouth, Pos:LW",
          "Adam Smith, Club:Bournemouth, Pos:RB",
          "Ryan Fraser, Club:Bournemouth, Pos:LW",
          "Simon Francis, Club:Bournemouth, Pos:RB",
          "Benik Afobe, Club:Bournemouth, Pos:CF",
          "Harry Arter, Club:Bournemouth, Pos:CM",
          "Marc Pugh, Club:Bournemouth, Pos:LW",
          "Callum Wilson, Club:Bournemouth, Pos:CF",
          "Nathan Ake, Club:Bournemouth, Pos:CB",
          "Dan Gosling, Club:Bournemouth, Pos:CM",
          "Andrew Surman, Club:Bournemouth, Pos:CM",
          "Jordon Ibe, Club:Bournemouth, Pos:RW",
          "Lewis Cook, Club:Bournemouth, Pos:CM",
          "Lys Mousset, Club:Bournemouth, Pos:CF",
          "Adam Federici, Club:Bournemouth, Pos:GK",
          "Max Gradel, Club:Bournemouth, Pos:LW",
          "Tyrone Mings, Club:Bournemouth, Pos:CB",
          "Brad Smith, Club:Bournemouth, Pos:LB",
          "Asmir Begovic, Club:Bournemouth, Pos:GK",
          "Niki Maenpaa, Club:Brighton+and+Hove, Pos:GK",
          "Mathew Ryan, Club:Brighton+and+Hove, Pos:GK",
          "Lewis Dunk, Club:Brighton+and+Hove, Pos:CB",
          "Shane Duffy, Club:Brighton+and+Hove, Pos:CB",
          "Uwe Hunemeier, Club:Brighton+and+Hove, Pos:CB",
          "Bruno, Club:Brighton+and+Hove, Pos:RB",
          "Gaetan Bong, Club:Brighton+and+Hove, Pos:LB",
          "Liam Rosenior, Club:Brighton+and+Hove, Pos:RB",
          "Connor Goldson, Club:Brighton+and+Hove, Pos:CB",
          "Markus Suttner, Club:Brighton+and+Hove, Pos:LB",
          "Anthony Knockaert, Club:Brighton+and+Hove, Pos:RW",
          "Dale Stephens, Club:Brighton+and+Hove, Pos:CM",
          "Beram Kayal, Club:Brighton+and+Hove, Pos:CM",
          "Steve Sidwell, Club:Brighton+and+Hove, Pos:CM",
          "Solly March, Club:Brighton+and+Hove, Pos:RM",
          "Jiri Skalak, Club:Brighton+and+Hove, Pos:LW",
          "Oliver Norwood, Club:Brighton+and+Hove, Pos:CM",
          "Jamie Murphy, Club:Brighton+and+Hove, Pos:LW",
          "Pascal Gross, Club:Brighton+and+Hove, Pos:CM",
          "Glenn Murray, Club:Brighton+and+Hove, Pos:CF",
          "Tomer Hemed, Club:Brighton+and+Hove, Pos:CF",
          "Sam Baldock, Club:Brighton+and+Hove, Pos:CF",
          "Tom Heaton, Club:Burnley, Pos:GK",
          "Sam Vokes, Club:Burnley, Pos:CF",
          "Andre Gray, Club:Burnley, Pos:CF",
          "Ben Mee, Club:Burnley, Pos:CB",
          "Stephen Ward, Club:Burnley, Pos:LB",
          "Matthew Lowton, Club:Burnley, Pos:RB",
          "Ashley Barnes, Club:Burnley, Pos:CF",
          "Jeff Hendrick, Club:Burnley, Pos:CM",
          "Scott Arfield, Club:Burnley, Pos:LM",
          "Steven Defour, Club:Burnley, Pos:CM",
          "Dean Marney, Club:Burnley, Pos:CM",
          "Jack Cork, Club:Burnley, Pos:DM",
          "Johann Berg Gudmundsson, Club:Burnley, Pos:RW",
          "Robbie Brady, Club:Burnley, Pos:LM",
          "James Tarkowski, Club:Burnley, Pos:CB",
          "Ashley Westwood, Club:Burnley, Pos:DM",
          "Kevin Long, Club:Burnley, Pos:CB",
          "Matthew Taylor, Club:Burnley, Pos:LM",
          "Eden Hazard, Club:Chelsea, Pos:LW",
          "Diego Costa, Club:Chelsea, Pos:CF",
          "Gary Cahill, Club:Chelsea, Pos:CB",
          "Marcos Alonso Mendoza, Club:Chelsea, Pos:LB",
          "Cesar Azpilicueta, Club:Chelsea, Pos:RB",
          "Pedro, Club:Chelsea, Pos:RW",
          "Thibaut Courtois, Club:Chelsea, Pos:GK",
          "David Luiz, Club:Chelsea, Pos:CB",
          "Cesc Fabregas, Club:Chelsea, Pos:CM",
          "Willian, Club:Chelsea, Pos:RW",
          "Victor Moses, Club:Chelsea, Pos:RM",
          "Nemanja Matic, Club:Chelsea, Pos:DM",
          "N%27Golo Kante, Club:Chelsea, Pos:DM",
          "Willy Caballero, Club:Chelsea, Pos:GK",
          "Michy Batshuayi, Club:Chelsea, Pos:CF",
          "Kurt Zouma, Club:Chelsea, Pos:CB",
          "Kenedy, Club:Chelsea, Pos:LB",
          "Eduardo Carvalho, Club:Chelsea, Pos:LW",
          "Antonio Rudiger, Club:Chelsea, Pos:CB",
          "Tiemoue Bakayoko, Club:Chelsea, Pos:DM",
          "Wilfried Zaha, Club:Crystal+Palace, Pos:RW",
          "Christian Benteke, Club:Crystal+Palace, Pos:CF",
          "Andros Townsend, Club:Crystal+Palace, Pos:RW",
          "Patrick van Aanholt, Club:Crystal+Palace, Pos:LB",
          "James McArthur, Club:Crystal+Palace, Pos:CM",
          "Wayne Hennessey, Club:Crystal+Palace, Pos:GK",
          "Jason Puncheon, Club:Crystal+Palace, Pos:AM",
          "Yohan Cabaye, Club:Crystal+Palace, Pos:CM",
          "Joel Ward, Club:Crystal+Palace, Pos:RB",
          "James Tomkins, Club:Crystal+Palace, Pos:CB",
          "Scott Dann, Club:Crystal+Palace, Pos:CB",
          "Damien Delaney, Club:Crystal+Palace, Pos:CB",
          "Jeffrey Schlupp, Club:Crystal+Palace, Pos:LB",
          "Martin Kelly, Club:Crystal+Palace, Pos:RB",
          "Luka Milivojevic, Club:Crystal+Palace, Pos:DM",
          "Lee Chung-yong, Club:Crystal+Palace, Pos:RW",
          "Connor Wickham, Club:Crystal+Palace, Pos:CF",
          "Bakary Sako, Club:Crystal+Palace, Pos:LW",
          "Pape Souare, Club:Crystal+Palace, Pos:LB",
          "Ruben Loftus-Cheek, Club:Crystal+Palace, Pos:CM",
          "Julian Speroni, Club:Crystal+Palace, Pos:GK",
          "Ross Barkley, Club:Everton, Pos:AM",
          "Leighton Baines, Club:Everton, Pos:LB",
          "Seamus Coleman, Club:Everton, Pos:RB",
          "Ashley Williams, Club:Everton, Pos:CB",
          "Kevin Mirallas, Club:Everton, Pos:RW",
          "Michael Keane, Club:Everton, Pos:CB",
          "Phil Jagielka, Club:Everton, Pos:CB",
          "Jordan Pickford, Club:Everton, Pos:GK",
          "Joel Robles, Club:Everton, Pos:GK",
          "Idrissa Gueye, Club:Everton, Pos:CM",
          "Wayne Rooney, Club:Everton, Pos:SS",
          "Ramiro Funes Mori, Club:Everton, Pos:CB",
          "Maarten Stekelenburg, Club:Everton, Pos:GK",
          "Gareth Barry, Club:Everton, Pos:DM",
          "Tom Davies, Club:Everton, Pos:CM",
          "Mason Holgate, Club:Everton, Pos:CB",
          "Yannick Bolasie, Club:Everton, Pos:LW",
          "Morgan Schneiderlin, Club:Everton, Pos:DM",
          "Cuco Martina, Club:Everton, Pos:RB",
          "James McCarthy, Club:Everton, Pos:CM",
          "Aaron Lennon, Club:Everton, Pos:RW",
          "Dominic Calvert-Lewin, Club:Everton, Pos:SS",
          "Ademola Lookman, Club:Everton, Pos:LW",
          "Matthew Pennington, Club:Everton, Pos:CB",
          "Jonjoe Kenny, Club:Everton, Pos:RB",
          "Muhamed Besic, Club:Everton, Pos:DM",
          "Davy Klaassen, Club:Everton, Pos:AM",
          "Sandro Ramirez, Club:Everton, Pos:CF",
          "Joel Coleman, Club:Huddersfield, Pos:GK",
          "Jonas Lossl, Club:Huddersfield, Pos:GK",
          "Christopher Schindler, Club:Huddersfield, Pos:CB",
          "Chris Lowe, Club:Huddersfield, Pos:LB",
          "Tommy Smith, Club:Huddersfield, Pos:RB",
          "Michael Hefele, Club:Huddersfield, Pos:CB",
          "Martin Cranie, Club:Huddersfield, Pos:CB",
          "Jon Gorenc Stankovic, Club:Huddersfield, Pos:CB",
          "Mark Hudson, Club:Huddersfield, Pos:CB",
          "Mathias Jorgensen, Club:Huddersfield, Pos:CB",
          "Scott Malone, Club:Huddersfield, Pos:LB",
          "Aaron Mooy, Club:Huddersfield, Pos:CM",
          "Rajiv van La Parra, Club:Huddersfield, Pos:LW",
          "Jonathan Hogg, Club:Huddersfield, Pos:CM",
          "Philip Billing, Club:Huddersfield, Pos:CM",
          "Joe Lolley, Club:Huddersfield, Pos:RW",
          "Jack Payne, Club:Huddersfield, Pos:CM",
          "Dean Whitehead, Club:Huddersfield, Pos:CM",
          "Harry Bunn, Club:Huddersfield, Pos:LW",
          "Sean Scannell, Club:Huddersfield, Pos:RW",
          "Elias Kachunga, Club:Huddersfield, Pos:RW",
          "Tom Ince, Club:Huddersfield, Pos:RW",
          "Kasey Palmer, Club:Huddersfield, Pos:AM",
          "Andy Williams, Club:Huddersfield, Pos:CB",
          "Nahki Wells, Club:Huddersfield, Pos:CF",
          "Collin Quaner, Club:Huddersfield, Pos:CF",
          "Laurent Depoitre, Club:Huddersfield, Pos:CF",
          "Steve Mounie, Club:Huddersfield, Pos:CF",
          "Jamie Vardy, Club:Leicester+City, Pos:CF",
          "Riyad Mahrez, Club:Leicester+City, Pos:RW",
          "Kasper Schmeichel, Club:Leicester+City, Pos:GK",
          "Christian Fuchs, Club:Leicester+City, Pos:LB",
          "Marc Albrighton, Club:Leicester+City, Pos:LM",
          "Robert Huth, Club:Leicester+City, Pos:CB",
          "Danny Simpson, Club:Leicester+City, Pos:RB",
          "Islam Slimani, Club:Leicester+City, Pos:CF",
          "Harry Maguire, Club:Leicester+City, Pos:CB",
          "Danny Drinkwater, Club:Leicester+City, Pos:CM",
          "Wes Morgan, Club:Leicester+City, Pos:CB",
          "Shinji Okazaki, Club:Leicester+City, Pos:CF",
          "Wilfred Ndidi, Club:Leicester+City, Pos:DM",
          "Demarai Gray, Club:Leicester+City, Pos:LW",
          "Daniel Amartey, Club:Leicester+City, Pos:DM",
          "Andy King, Club:Leicester+City, Pos:CM",
          "Ahmed Musa, Club:Leicester+City, Pos:CF",
          "Yohan Benalouane, Club:Leicester+City, Pos:CB",
          "Leonardo Ulloa, Club:Leicester+City, Pos:CF",
          "Ben Chilwell, Club:Leicester+City, Pos:LB",
          "Nampalys Mendy, Club:Leicester+City, Pos:DM",
          "Ben Hamer, Club:Leicester+City, Pos:GK",
          "Molla Wague, Club:Leicester+City, Pos:CB",
          "Vicente Iborra, Club:Leicester+City, Pos:DM",
          "Roberto Firmino, Club:Liverpool, Pos:SS",
          "Philippe Coutinho, Club:Liverpool, Pos:AM",
          "Sadio Mane, Club:Liverpool, Pos:LW",
          "Georginio Wijnaldum, Club:Liverpool, Pos:CM",
          "James Milner, Club:Liverpool, Pos:CM",
          "Adam Lallana, Club:Liverpool, Pos:AM",
          "Nathaniel Clyne, Club:Liverpool, Pos:RB",
          "Simon Mignolet, Club:Liverpool, Pos:GK",
          "Dejan Lovren, Club:Liverpool, Pos:CB",
          "Emre Can, Club:Liverpool, Pos:DM",
          "Joel Matip, Club:Liverpool, Pos:CB",
          "Divock Origi, Club:Liverpool, Pos:CF",
          "Jordan Henderson, Club:Liverpool, Pos:CM",
          "Daniel Sturridge, Club:Liverpool, Pos:CF",
          "Lucas Leiva, Club:Liverpool, Pos:DM",
          "Ragnar Klavan, Club:Liverpool, Pos:CB",
          "Mamadou Sakho, Club:Liverpool, Pos:CB",
          "Loris Karius, Club:Liverpool, Pos:GK",
          "Trent Alexander-Arnold, Club:Liverpool, Pos:RB",
          "Alberto Moreno, Club:Liverpool, Pos:LB",
          "Ben Woodburn, Club:Liverpool, Pos:LW",
          "Marko Grujic, Club:Liverpool, Pos:CM",
          "Joe Gomez, Club:Liverpool, Pos:CB",
          "Sheyi Ojo, Club:Liverpool, Pos:LW",
          "Mohamed Salah, Club:Liverpool, Pos:RW",
          "Danny Ings, Club:Liverpool, Pos:CF",
          "Dominic Solanke, Club:Liverpool, Pos:CF",
          "Kevin De Bruyne, Club:Manchester+City, Pos:AM",
          "Sergio Aguero, Club:Manchester+City, Pos:CF",
          "Raheem Sterling, Club:Manchester+City, Pos:LW",
          "Kyle Walker, Club:Manchester+City, Pos:RB",
          "David Silva, Club:Manchester+City, Pos:AM",
          "Leroy Sane, Club:Manchester+City, Pos:LW",
          "Nicolas Otamendi, Club:Manchester+City, Pos:CB",
          "Aleksandar Kolarov, Club:Manchester+City, Pos:LB",
          "Yaya Toure, Club:Manchester+City, Pos:CM",
          "Fernandinho, Club:Manchester+City, Pos:DM",
          "Claudio Bravo, Club:Manchester+City, Pos:GK",
          "Gabriel Jesus, Club:Manchester+City, Pos:CF",
          "John Stones, Club:Manchester+City, Pos:CB",
          "Vincent Kompany, Club:Manchester+City, Pos:CB",
          "Kelechi Iheanacho, Club:Manchester+City, Pos:CF",
          "Ilkay Gundogan, Club:Manchester+City, Pos:CM",
          "Fernando, Club:Manchester+City, Pos:DM",
          "Fabian Delph, Club:Manchester+City, Pos:CM",
          "Ederson Moraes, Club:Manchester+City, Pos:GK",
          "Bernardo Silva, Club:Manchester+City, Pos:RW",
          "Romelu Lukaku, Club:Manchester+United, Pos:CF",
          "David de Gea, Club:Manchester+United, Pos:GK",
          "Antonio Valencia, Club:Manchester+United, Pos:RB",
          "Paul Pogba, Club:Manchester+United, Pos:CM",
          "Eric Bailly, Club:Manchester+United, Pos:CB",
          "Juan Mata, Club:Manchester+United, Pos:AM",
          "Daley Blind, Club:Manchester+United, Pos:LB",
          "Ander Herrera, Club:Manchester+United, Pos:CM",
          "Anthony Martial, Club:Manchester+United, Pos:CF",
          "Marcos Rojo, Club:Manchester+United, Pos:CB",
          "Marcus Rashford, Club:Manchester+United, Pos:CF",
          "Henrikh Mkhitaryan, Club:Manchester+United, Pos:AM",
          "Matteo Darmian, Club:Manchester+United, Pos:RB",
          "Jesse Lingard, Club:Manchester+United, Pos:LW",
          "Phil Jones, Club:Manchester+United, Pos:CB",
          "Chris Smalling, Club:Manchester+United, Pos:CB",
          "Marouane Fellaini, Club:Manchester+United, Pos:CM",
          "Luke Shaw, Club:Manchester+United, Pos:LB",
          "Michael Carrick, Club:Manchester+United, Pos:DM",
          "Ashley Young, Club:Manchester+United, Pos:LM",
          "Sergio Romero, Club:Manchester+United, Pos:GK",
          "Axel Tuanzebe, Club:Manchester+United, Pos:CB",
          "Timothy Fosu-Mensah, Club:Manchester+United, Pos:DM",
          "Joel Castro Pereira, Club:Manchester+United, Pos:GK",
          "Victor Lindelof, Club:Manchester+United, Pos:CB",
          "Rob Elliot, Club:Newcastle+United, Pos:GK",
          "Karl Darlow, Club:Newcastle+United, Pos:GK",
          "DeAndre Yedlin, Club:Newcastle+United, Pos:RB",
          "Ciaran Clark, Club:Newcastle+United, Pos:CB",
          "Lascelles, Club:Newcastle+United, Pos:CB",
          "Paul Dummett, Club:Newcastle+United, Pos:LB",
          "Grant Hanley, Club:Newcastle+United, Pos:CB",
          "Jesus Gamez, Club:Newcastle+United, Pos:RB",
          "Florian Lejeune, Club:Newcastle+United, Pos:CB",
          "Massadio Haidara, Club:Newcastle+United, Pos:LB",
          "Matt Ritchie, Club:Newcastle+United, Pos:RM",
          "Jonjo Shelvey, Club:Newcastle+United, Pos:CM",
          "Mohamed Diame, Club:Newcastle+United, Pos:CM",
          "Jack Colback, Club:Newcastle+United, Pos:DM",
          "Christian Atsu, Club:Newcastle+United, Pos:RW",
          "Siem de Jong, Club:Newcastle+United, Pos:AM",
          "Rolando Aarons, Club:Newcastle+United, Pos:LW",
          "Dwight Gayle, Club:Newcastle+United, Pos:CF",
          "Ayoze Perez, Club:Newcastle+United, Pos:SS",
          "Aleksandar Mitrovic, Club:Newcastle+United, Pos:CF",
          "Daryl Murphy, Club:Newcastle+United, Pos:CF",
          "Fraser Forster, Club:Southampton, Pos:GK",
          "Nathan Redmond, Club:Southampton, Pos:RW",
          "Ryan Bertrand, Club:Southampton, Pos:LB",
          "DuÅ¡an TadiÄ‡, Club:Southampton, Pos:LW",
          "Cedric Soares, Club:Southampton, Pos:RB",
          "James Ward-Prowse, Club:Southampton, Pos:CM",
          "Oriol Romeu, Club:Southampton, Pos:DM",
          "Maya Yoshida, Club:Southampton, Pos:CB",
          "Steven Davis, Club:Southampton, Pos:CM",
          "Virgil van Dijk, Club:Southampton, Pos:CB",
          "Charlie Austin, Club:Southampton, Pos:CF",
          "Jack Stephens, Club:Southampton, Pos:CB",
          "Shane Long, Club:Southampton, Pos:CF",
          "Sofiane Boufal, Club:Southampton, Pos:AM",
          "Jordy Clasie, Club:Southampton, Pos:DM",
          "Pierre-Emile Hojbjerg, Club:Southampton, Pos:CM",
          "Manolo Gabbiadini, Club:Southampton, Pos:CF",
          "Sam McQueen, Club:Southampton, Pos:LM",
          "Matt Targett, Club:Southampton, Pos:LB",
          "Josh Sims, Club:Southampton, Pos:RW",
          "Jeremy Pied, Club:Southampton, Pos:RM",
          "Jason McCarthy, Club:Southampton, Pos:CB",
          "Jan Bednarek, Club:Southampton, Pos:CB",
          "Joe Allen, Club:Stoke+City, Pos:CM",
          "Marko ArnautoviÄ‡, Club:Stoke+City, Pos:LW",
          "Lee Grant, Club:Stoke+City, Pos:GK",
          "Erik Pieters, Club:Stoke+City, Pos:LB",
          "Steven Fletcher, Club:Stoke+City, Pos:CF",
          "Ryan Shawcross, Club:Stoke+City, Pos:CB",
          "Xherdan Shaqiri, Club:Stoke+City, Pos:RW",
          "Peter Crouch, Club:Stoke+City, Pos:CF",
          "Glenn Whelan, Club:Stoke+City, Pos:DM",
          "Charlie Adam, Club:Stoke+City, Pos:CM",
          "Geoff Cameron, Club:Stoke+City, Pos:CB",
          "Glen Johnson, Club:Stoke+City, Pos:RB",
          "Mame Biram Diouf, Club:Stoke+City, Pos:CF",
          "Ramadan Sobhi, Club:Stoke+City, Pos:LW",
          "Marc Muniesa, Club:Stoke+City, Pos:CB",
          "Bojan KrkiÄ‡, Club:Stoke+City, Pos:SS",
          "Phil Bardsley, Club:Stoke+City, Pos:RB",
          "Saido Berahino, Club:Stoke+City, Pos:CF",
          "Giannelli Imbula, Club:Stoke+City, Pos:DM",
          "Jack Butland, Club:Stoke+City, Pos:GK",
          "Ibrahim Afellay, Club:Stoke+City, Pos:LM",
          "Josh Tymon, Club:Stoke+City, Pos:LB",
          "Gylfi Sigurdsson, Club:Swansea, Pos:AM",
          "Fernando Llorente, Club:Swansea, Pos:CF",
          "Åukasz FabiaÅ„ski, Club:Swansea, Pos:GK",
          "Leroy Fer, Club:Swansea, Pos:CM",
          "Alfie Mawson, Club:Swansea, Pos:CB",
          "Kyle Naughton, Club:Swansea, Pos:RB",
          "Wayne Routledge, Club:Swansea, Pos:LW",
          "Federico Fernandez, Club:Swansea, Pos:CB",
          "Martin Olsson, Club:Swansea, Pos:LB",
          "Tom Carroll, Club:Swansea, Pos:CM",
          "Ki Sung-yueng, Club:Swansea, Pos:DM",
          "Jordan Ayew, Club:Swansea, Pos:CF",
          "Modou Barrow, Club:Swansea, Pos:RW",
          "Leon Britton, Club:Swansea, Pos:CM",
          "Stephen Kingsley, Club:Swansea, Pos:LB",
          "Ã€ngel Rangel, Club:Swansea, Pos:RB",
          "Luciano Narsingh, Club:Swansea, Pos:RW",
          "Jay Fulton, Club:Swansea, Pos:CM",
          "Jefferson Montero, Club:Swansea, Pos:LW",
          "Mike van der Hoorn, Club:Swansea, Pos:CB",
          "Nathan Dyer, Club:Swansea, Pos:RW",
          "Oliver McBurnie, Club:Swansea, Pos:CF",
          "Kristoffer Nordfeldt, Club:Swansea, Pos:GK",
          "Roque Mesa, Club:Swansea, Pos:CM",
          "Tammy Abraham, Club:Swansea, Pos:CF",
          "Dele Alli, Club:Tottenham, Pos:CM",
          "Harry Kane, Club:Tottenham, Pos:CF",
          "Christian Eriksen, Club:Tottenham, Pos:AM",
          "Son Heung-min, Club:Tottenham, Pos:LW",
          "Hugo Lloris, Club:Tottenham, Pos:GK",
          "Jan Vertonghen, Club:Tottenham, Pos:CB",
          "Toby Alderweireld, Club:Tottenham, Pos:CB",
          "Victor Wanyama, Club:Tottenham, Pos:DM",
          "Eric Dier, Club:Tottenham, Pos:DM",
          "Ben Davies, Club:Tottenham, Pos:LB",
          "Danny Rose, Club:Tottenham, Pos:LB",
          "Mousa Dembele, Club:Tottenham, Pos:CM",
          "Vincent Janssen, Club:Tottenham, Pos:CF",
          "Kieran Trippier, Club:Tottenham, Pos:RB",
          "Moussa Sissokho, Club:Tottenham, Pos:CM",
          "Harry Winks, Club:Tottenham, Pos:CM",
          "Erik Lamela, Club:Tottenham, Pos:RW",
          "Michel Vorm, Club:Tottenham, Pos:GK",
          "Georges-Kevin N%27Koudou, Club:Tottenham, Pos:LW",
          "Kevin Wimmer, Club:Tottenham, Pos:CB",
          "Ã‰tienne Capoue, Club:Watford, Pos:DM",
          "Troy Deeney, Club:Watford, Pos:CF",
          "Heurelho Gomes, Club:Watford, Pos:GK",
          "Jose Holebas, Club:Watford, Pos:LB",
          "Miguel Britos, Club:Watford, Pos:CB",
          "Sebastian Prodl, Club:Watford, Pos:CB",
          "Nordin Amrabat, Club:Watford, Pos:LW",
          "YounÃ¨s Kaboul, Club:Watford, Pos:CB",
          "Tom Cleverley, Club:Watford, Pos:CM",
          "Daryl Janmaat, Club:Watford, Pos:RB",
          "Valon Behrami, Club:Watford, Pos:DM",
          "Roberto Pereyra, Club:Watford, Pos:AM",
          "Stefano Okaka, Club:Watford, Pos:CF",
          "Abdoulaye Doucoure, Club:Watford, Pos:CM",
          "Kabasele, Club:Watford, Pos:CB",
          "Craig Cathcart, Club:Watford, Pos:CB",
          "Isaac Success, Club:Watford, Pos:LW",
          "Adrian Mariappa, Club:Watford, Pos:CB",
          "Nathaniel Chalobah, Club:Watford, Pos:DM",
          "Mauro Zarate, Club:Watford, Pos:SS",
          "Costel Pantilimon, Club:Watford, Pos:GK",
          "Kiko Femenia, Club:Watford, Pos:RB",
          "Steven Berghuis, Club:Watford, Pos:RW",
          "Will Hughes, Club:Watford, Pos:CM",
          "Gareth McAuley, Club:West+Brom, Pos:CB",
          "Salomon Rondon, Club:West+Brom, Pos:CF",
          "Matt Phillips, Club:West+Brom, Pos:RW",
          "Ben Foster, Club:West+Brom, Pos:GK",
          "Nacer Chadli, Club:West+Brom, Pos:LW",
          "Craig Dawson, Club:West+Brom, Pos:RB",
          "Chris Brunt, Club:West+Brom, Pos:LM",
          "James Morrison, Club:West+Brom, Pos:CM",
          "Jonny Evans, Club:West+Brom, Pos:CB",
          "Jake Livermore, Club:West+Brom, Pos:DM",
          "Allan Nyom, Club:West+Brom, Pos:RB",
          "Jay Rodriguez, Club:West+Brom, Pos:CF",
          "Claudio Yacob, Club:West+Brom, Pos:DM",
          "James McClean, Club:West+Brom, Pos:LW",
          "Hal Robson-Kanu, Club:West+Brom, Pos:LW",
          "Jonathan Leko, Club:West+Brom, Pos:RW",
          "Sam Field, Club:West+Brom, Pos:CM",
          "Boaz Myhill, Club:West+Brom, Pos:GK",
          "Ahmed Hegazy, Club:West+Brom, Pos:CB",
          "Robert Snodgrass, Club:West+Ham, Pos:RW",
          "Manuel Lanzini, Club:West+Ham, Pos:AM",
          "Michail Antonio, Club:West+Ham, Pos:RW",
          "Winston Reid, Club:West+Ham, Pos:CB",
          "Jose Fonte, Club:West+Ham, Pos:CB",
          "Andre Ayew, Club:West+Ham, Pos:LW",
          "Cheikhou Kouyate, Club:West+Ham, Pos:DM",
          "Mark Noble, Club:West+Ham, Pos:CM",
          "Darren Randolph, Club:West+Ham, Pos:GK",
          "James Collins, Club:West+Ham, Pos:CB",
          "Andy Carroll, Club:West+Ham, Pos:CF",
          "Adrian, Club:West+Ham, Pos:GK",
          "Aaron Cresswell, Club:West+Ham, Pos:LB",
          "Pedro Obiang, Club:West+Ham, Pos:CM",
          "Sofiane Feghouli, Club:West+Ham, Pos:RW",
          "Angelo Ogbonna, Club:West+Ham, Pos:CB",
          "Pablo Zabaleta, Club:West+Ham, Pos:RB",
          "Edimilson Fernandes, Club:West+Ham, Pos:CM",
          "Arthur Masuaku, Club:West+Ham, Pos:LB",
          "Sam Byram, Club:West+Ham, Pos:RB",
          "Ashley Fletcher, Club:West+Ham, Pos:CF",
          "Diafra Sakho, Club:West+Ham, Pos:CF"
         ],
         "type": "scatter",
         "uid": "0d217c",
         "x": [
          12,
          9.5,
          5.5,
          7.5,
          6,
          6,
          8.5,
          5.5,
          5.5,
          5.5,
          5.5,
          6,
          5.5,
          7,
          4.5,
          5,
          5,
          7,
          7.5,
          5,
          4.5,
          7.5,
          4,
          5,
          4.5,
          5,
          6,
          10.5,
          7.5,
          8,
          5,
          4.5,
          5,
          6,
          5,
          5.5,
          4.5,
          6,
          5,
          5,
          6,
          5,
          5,
          4.5,
          5,
          4.5,
          5,
          4,
          5,
          4.5,
          4,
          4.5,
          4,
          4.5,
          4.5,
          4.5,
          4,
          4.5,
          4.5,
          4,
          4,
          4.5,
          6,
          4.5,
          4.5,
          4.5,
          5,
          5,
          4.5,
          5,
          5.5,
          6,
          5,
          5,
          5,
          6,
          6.5,
          4.5,
          4.5,
          4.5,
          5.5,
          5.5,
          5,
          5.5,
          4.5,
          4.5,
          5,
          5.5,
          4.5,
          4.5,
          4,
          4.5,
          10.5,
          10,
          6.5,
          7,
          6.5,
          8,
          5.5,
          6,
          7,
          7,
          6.5,
          5,
          5,
          5,
          8.5,
          5.5,
          5,
          5,
          6,
          5,
          7,
          8,
          6,
          5.5,
          4.5,
          4.5,
          5,
          5.5,
          5,
          4.5,
          5,
          4.5,
          5,
          4.5,
          5,
          4.5,
          5.5,
          5,
          4.5,
          4.5,
          4,
          7.5,
          6,
          6.5,
          5.5,
          6.5,
          5.5,
          5,
          5,
          4.5,
          5,
          7.5,
          5,
          4.5,
          4.5,
          5.5,
          4.5,
          6.5,
          5,
          4.5,
          5,
          5.5,
          5,
          5.5,
          4,
          4.5,
          4.5,
          7.5,
          7.5,
          4,
          4.5,
          4.5,
          4.5,
          5,
          4.5,
          4,
          4,
          4,
          4.5,
          4.5,
          5.5,
          5,
          4.5,
          4.5,
          4.5,
          4.5,
          4.5,
          4.5,
          4.5,
          6,
          6,
          5.5,
          5,
          5,
          4.5,
          5.5,
          6,
          8.5,
          8.5,
          5,
          5,
          5.5,
          5,
          4.5,
          7,
          5,
          5,
          4.5,
          5.5,
          5,
          5.5,
          4.5,
          4.5,
          6.5,
          4.5,
          5,
          4.5,
          4.5,
          4.5,
          4.5,
          6,
          8.5,
          9,
          9.5,
          7,
          6.5,
          7.5,
          5.5,
          5,
          5.5,
          5,
          5.5,
          7.5,
          5.5,
          8,
          4.5,
          4.5,
          5,
          5,
          4.5,
          4.5,
          4.5,
          4.5,
          4.5,
          5,
          9,
          5.5,
          5,
          10,
          11.5,
          8,
          6.5,
          8,
          8.5,
          5.5,
          5.5,
          6.5,
          5,
          5,
          10.5,
          5.5,
          6,
          7,
          5.5,
          4.5,
          4.5,
          5.5,
          8,
          11.5,
          5.5,
          6.5,
          8,
          6,
          7,
          5.5,
          5.5,
          8,
          5.5,
          7.5,
          8,
          5.5,
          6,
          5,
          5.5,
          5,
          5,
          4.5,
          5,
          5,
          4,
          4.5,
          4,
          5.5,
          4,
          4.5,
          4.5,
          4.5,
          4.5,
          4.5,
          4,
          4,
          4.5,
          4,
          6,
          5.5,
          5,
          4.5,
          5,
          5,
          4.5,
          6.5,
          5.5,
          5,
          4.5,
          5,
          6.5,
          5.5,
          6.5,
          5,
          5.5,
          4.5,
          5,
          5,
          5.5,
          6.5,
          5,
          6,
          6,
          4.5,
          4.5,
          7,
          4.5,
          4.5,
          4.5,
          4.5,
          4.5,
          4.5,
          5.5,
          7,
          4.5,
          5,
          5,
          5,
          6,
          5,
          4.5,
          5,
          4.5,
          4.5,
          5.5,
          5,
          4.5,
          5.5,
          4.5,
          6,
          4.5,
          5,
          5,
          4.5,
          8.5,
          7.5,
          4.5,
          5.5,
          5,
          4.5,
          5.5,
          4.5,
          5,
          4.5,
          5,
          5,
          5,
          4.5,
          4.5,
          4,
          5,
          4.5,
          5,
          4.5,
          4.5,
          4.5,
          4,
          4.5,
          5.5,
          9.5,
          12.5,
          9.5,
          8,
          5.5,
          6,
          6,
          5,
          5,
          5.5,
          6.5,
          5,
          7.5,
          5.5,
          5.5,
          5,
          6.5,
          5,
          5.5,
          4.5,
          5.5,
          6.5,
          4.5,
          5,
          4.5,
          4.5,
          5,
          4.5,
          5,
          5,
          4.5,
          6,
          5.5,
          5,
          4.5,
          4.5,
          5.5,
          4,
          4.5,
          5.5,
          4.5,
          4.5,
          5,
          5,
          5,
          6.5,
          6,
          4.5,
          6,
          5,
          5.5,
          5.5,
          5,
          5,
          5,
          6,
          4.5,
          5,
          5,
          4.5,
          4.5,
          4,
          4.5,
          6,
          7,
          7.5,
          5,
          5,
          7,
          5,
          5.5,
          4.5,
          4.5,
          6,
          4.5,
          5,
          4.5,
          5.5,
          4.5,
          5,
          4.5,
          4.5,
          4.5,
          4.5,
          5.5
         ],
         "xsrc": "Aldemuro:22:d61533",
         "y": [
          264,
          167,
          134,
          122,
          121,
          119,
          116,
          115,
          90,
          89,
          85,
          83,
          61,
          56,
          52,
          45,
          45,
          38,
          37,
          32,
          26,
          20,
          8,
          2,
          2,
          1,
          0,
          0,
          178,
          166,
          134,
          120,
          112,
          107,
          104,
          100,
          89,
          88,
          84,
          64,
          63,
          55,
          49,
          44,
          36,
          17,
          14,
          8,
          8,
          4,
          4,
          2,
          0,
          0,
          0,
          0,
          0,
          0,
          0,
          0,
          0,
          0,
          0,
          0,
          0,
          0,
          0,
          0,
          0,
          0,
          0,
          0,
          0,
          0,
          149,
          121,
          108,
          94,
          91,
          90,
          81,
          76,
          69,
          54,
          51,
          50,
          47,
          39,
          23,
          13,
          3,
          0,
          224,
          196,
          178,
          177,
          170,
          162,
          141,
          132,
          121,
          114,
          105,
          105,
          83,
          64,
          48,
          15,
          3,
          0,
          0,
          0,
          149,
          136,
          116,
          98,
          93,
          92,
          92,
          91,
          86,
          75,
          61,
          51,
          47,
          46,
          42,
          24,
          18,
          7,
          6,
          6,
          0,
          144,
          135,
          133,
          127,
          119,
          113,
          104,
          102,
          89,
          80,
          76,
          69,
          68,
          68,
          63,
          54,
          45,
          37,
          31,
          23,
          22,
          17,
          16,
          9,
          1,
          0,
          0,
          0,
          0,
          0,
          0,
          0,
          0,
          0,
          0,
          0,
          0,
          0,
          0,
          0,
          0,
          0,
          0,
          0,
          0,
          0,
          0,
          0,
          0,
          0,
          0,
          0,
          0,
          0,
          0,
          0,
          161,
          120,
          109,
          104,
          95,
          88,
          85,
          83,
          71,
          69,
          63,
          63,
          59,
          58,
          53,
          41,
          39,
          27,
          24,
          19,
          6,
          0,
          0,
          0,
          180,
          171,
          156,
          149,
          139,
          139,
          129,
          110,
          106,
          104,
          97,
          96,
          73,
          54,
          47,
          43,
          35,
          32,
          15,
          8,
          5,
          4,
          0,
          0,
          0,
          0,
          0,
          199,
          175,
          149,
          142,
          130,
          105,
          100,
          95,
          86,
          78,
          73,
          67,
          59,
          57,
          52,
          41,
          18,
          13,
          0,
          0,
          221,
          136,
          120,
          115,
          105,
          102,
          98,
          97,
          95,
          77,
          76,
          73,
          70,
          60,
          55,
          52,
          48,
          45,
          42,
          26,
          23,
          14,
          9,
          6,
          0,
          0,
          0,
          0,
          0,
          0,
          0,
          0,
          0,
          0,
          0,
          0,
          0,
          0,
          0,
          0,
          0,
          0,
          0,
          0,
          0,
          0,
          134,
          126,
          123,
          108,
          102,
          92,
          80,
          78,
          77,
          75,
          62,
          60,
          57,
          40,
          38,
          38,
          38,
          23,
          12,
          12,
          5,
          0,
          0,
          118,
          117,
          106,
          103,
          103,
          94,
          80,
          79,
          62,
          59,
          58,
          56,
          51,
          36,
          34,
          30,
          27,
          26,
          24,
          20,
          15,
          9,
          181,
          146,
          116,
          95,
          94,
          82,
          74,
          63,
          52,
          52,
          41,
          39,
          34,
          32,
          29,
          26,
          25,
          19,
          18,
          16,
          12,
          5,
          3,
          0,
          0,
          225,
          224,
          218,
          174,
          143,
          126,
          120,
          103,
          93,
          90,
          84,
          76,
          55,
          51,
          43,
          30,
          28,
          17,
          8,
          2,
          131,
          130,
          113,
          87,
          71,
          67,
          65,
          57,
          55,
          50,
          48,
          43,
          43,
          38,
          35,
          31,
          28,
          15,
          12,
          8,
          2,
          0,
          0,
          0,
          131,
          118,
          115,
          113,
          110,
          102,
          99,
          84,
          79,
          77,
          74,
          73,
          54,
          52,
          52,
          12,
          9,
          0,
          0,
          133,
          133,
          132,
          102,
          98,
          89,
          79,
          71,
          69,
          69,
          69,
          64,
          60,
          55,
          55,
          45,
          45,
          38,
          34,
          29,
          16,
          12
         ],
         "ysrc": "Aldemuro:22:1c3243"
        }
       ],
       "layout": {
        "autosize": true,
        "template": {
         "data": {
          "bar": [
           {
            "error_x": {
             "color": "#2a3f5f"
            },
            "error_y": {
             "color": "#2a3f5f"
            },
            "marker": {
             "line": {
              "color": "#E5ECF6",
              "width": 0.5
             }
            },
            "type": "bar"
           }
          ],
          "barpolar": [
           {
            "marker": {
             "line": {
              "color": "#E5ECF6",
              "width": 0.5
             }
            },
            "type": "barpolar"
           }
          ],
          "carpet": [
           {
            "aaxis": {
             "endlinecolor": "#2a3f5f",
             "gridcolor": "white",
             "linecolor": "white",
             "minorgridcolor": "white",
             "startlinecolor": "#2a3f5f"
            },
            "baxis": {
             "endlinecolor": "#2a3f5f",
             "gridcolor": "white",
             "linecolor": "white",
             "minorgridcolor": "white",
             "startlinecolor": "#2a3f5f"
            },
            "type": "carpet"
           }
          ],
          "choropleth": [
           {
            "colorbar": {
             "outlinewidth": 0,
             "ticks": ""
            },
            "type": "choropleth"
           }
          ],
          "contour": [
           {
            "colorbar": {
             "outlinewidth": 0,
             "ticks": ""
            },
            "colorscale": [
             [
              0,
              "#0d0887"
             ],
             [
              0.1111111111111111,
              "#46039f"
             ],
             [
              0.2222222222222222,
              "#7201a8"
             ],
             [
              0.3333333333333333,
              "#9c179e"
             ],
             [
              0.4444444444444444,
              "#bd3786"
             ],
             [
              0.5555555555555556,
              "#d8576b"
             ],
             [
              0.6666666666666666,
              "#ed7953"
             ],
             [
              0.7777777777777778,
              "#fb9f3a"
             ],
             [
              0.8888888888888888,
              "#fdca26"
             ],
             [
              1,
              "#f0f921"
             ]
            ],
            "type": "contour"
           }
          ],
          "contourcarpet": [
           {
            "colorbar": {
             "outlinewidth": 0,
             "ticks": ""
            },
            "type": "contourcarpet"
           }
          ],
          "heatmap": [
           {
            "colorbar": {
             "outlinewidth": 0,
             "ticks": ""
            },
            "colorscale": [
             [
              0,
              "#0d0887"
             ],
             [
              0.1111111111111111,
              "#46039f"
             ],
             [
              0.2222222222222222,
              "#7201a8"
             ],
             [
              0.3333333333333333,
              "#9c179e"
             ],
             [
              0.4444444444444444,
              "#bd3786"
             ],
             [
              0.5555555555555556,
              "#d8576b"
             ],
             [
              0.6666666666666666,
              "#ed7953"
             ],
             [
              0.7777777777777778,
              "#fb9f3a"
             ],
             [
              0.8888888888888888,
              "#fdca26"
             ],
             [
              1,
              "#f0f921"
             ]
            ],
            "type": "heatmap"
           }
          ],
          "heatmapgl": [
           {
            "colorbar": {
             "outlinewidth": 0,
             "ticks": ""
            },
            "colorscale": [
             [
              0,
              "#0d0887"
             ],
             [
              0.1111111111111111,
              "#46039f"
             ],
             [
              0.2222222222222222,
              "#7201a8"
             ],
             [
              0.3333333333333333,
              "#9c179e"
             ],
             [
              0.4444444444444444,
              "#bd3786"
             ],
             [
              0.5555555555555556,
              "#d8576b"
             ],
             [
              0.6666666666666666,
              "#ed7953"
             ],
             [
              0.7777777777777778,
              "#fb9f3a"
             ],
             [
              0.8888888888888888,
              "#fdca26"
             ],
             [
              1,
              "#f0f921"
             ]
            ],
            "type": "heatmapgl"
           }
          ],
          "histogram": [
           {
            "marker": {
             "colorbar": {
              "outlinewidth": 0,
              "ticks": ""
             }
            },
            "type": "histogram"
           }
          ],
          "histogram2d": [
           {
            "colorbar": {
             "outlinewidth": 0,
             "ticks": ""
            },
            "colorscale": [
             [
              0,
              "#0d0887"
             ],
             [
              0.1111111111111111,
              "#46039f"
             ],
             [
              0.2222222222222222,
              "#7201a8"
             ],
             [
              0.3333333333333333,
              "#9c179e"
             ],
             [
              0.4444444444444444,
              "#bd3786"
             ],
             [
              0.5555555555555556,
              "#d8576b"
             ],
             [
              0.6666666666666666,
              "#ed7953"
             ],
             [
              0.7777777777777778,
              "#fb9f3a"
             ],
             [
              0.8888888888888888,
              "#fdca26"
             ],
             [
              1,
              "#f0f921"
             ]
            ],
            "type": "histogram2d"
           }
          ],
          "histogram2dcontour": [
           {
            "colorbar": {
             "outlinewidth": 0,
             "ticks": ""
            },
            "colorscale": [
             [
              0,
              "#0d0887"
             ],
             [
              0.1111111111111111,
              "#46039f"
             ],
             [
              0.2222222222222222,
              "#7201a8"
             ],
             [
              0.3333333333333333,
              "#9c179e"
             ],
             [
              0.4444444444444444,
              "#bd3786"
             ],
             [
              0.5555555555555556,
              "#d8576b"
             ],
             [
              0.6666666666666666,
              "#ed7953"
             ],
             [
              0.7777777777777778,
              "#fb9f3a"
             ],
             [
              0.8888888888888888,
              "#fdca26"
             ],
             [
              1,
              "#f0f921"
             ]
            ],
            "type": "histogram2dcontour"
           }
          ],
          "mesh3d": [
           {
            "colorbar": {
             "outlinewidth": 0,
             "ticks": ""
            },
            "type": "mesh3d"
           }
          ],
          "parcoords": [
           {
            "line": {
             "colorbar": {
              "outlinewidth": 0,
              "ticks": ""
             }
            },
            "type": "parcoords"
           }
          ],
          "pie": [
           {
            "automargin": true,
            "type": "pie"
           }
          ],
          "scatter": [
           {
            "marker": {
             "colorbar": {
              "outlinewidth": 0,
              "ticks": ""
             }
            },
            "type": "scatter"
           }
          ],
          "scatter3d": [
           {
            "line": {
             "colorbar": {
              "outlinewidth": 0,
              "ticks": ""
             }
            },
            "marker": {
             "colorbar": {
              "outlinewidth": 0,
              "ticks": ""
             }
            },
            "type": "scatter3d"
           }
          ],
          "scattercarpet": [
           {
            "marker": {
             "colorbar": {
              "outlinewidth": 0,
              "ticks": ""
             }
            },
            "type": "scattercarpet"
           }
          ],
          "scattergeo": [
           {
            "marker": {
             "colorbar": {
              "outlinewidth": 0,
              "ticks": ""
             }
            },
            "type": "scattergeo"
           }
          ],
          "scattergl": [
           {
            "marker": {
             "colorbar": {
              "outlinewidth": 0,
              "ticks": ""
             }
            },
            "type": "scattergl"
           }
          ],
          "scattermapbox": [
           {
            "marker": {
             "colorbar": {
              "outlinewidth": 0,
              "ticks": ""
             }
            },
            "type": "scattermapbox"
           }
          ],
          "scatterpolar": [
           {
            "marker": {
             "colorbar": {
              "outlinewidth": 0,
              "ticks": ""
             }
            },
            "type": "scatterpolar"
           }
          ],
          "scatterpolargl": [
           {
            "marker": {
             "colorbar": {
              "outlinewidth": 0,
              "ticks": ""
             }
            },
            "type": "scatterpolargl"
           }
          ],
          "scatterternary": [
           {
            "marker": {
             "colorbar": {
              "outlinewidth": 0,
              "ticks": ""
             }
            },
            "type": "scatterternary"
           }
          ],
          "surface": [
           {
            "colorbar": {
             "outlinewidth": 0,
             "ticks": ""
            },
            "colorscale": [
             [
              0,
              "#0d0887"
             ],
             [
              0.1111111111111111,
              "#46039f"
             ],
             [
              0.2222222222222222,
              "#7201a8"
             ],
             [
              0.3333333333333333,
              "#9c179e"
             ],
             [
              0.4444444444444444,
              "#bd3786"
             ],
             [
              0.5555555555555556,
              "#d8576b"
             ],
             [
              0.6666666666666666,
              "#ed7953"
             ],
             [
              0.7777777777777778,
              "#fb9f3a"
             ],
             [
              0.8888888888888888,
              "#fdca26"
             ],
             [
              1,
              "#f0f921"
             ]
            ],
            "type": "surface"
           }
          ],
          "table": [
           {
            "cells": {
             "fill": {
              "color": "#EBF0F8"
             },
             "line": {
              "color": "white"
             }
            },
            "header": {
             "fill": {
              "color": "#C8D4E3"
             },
             "line": {
              "color": "white"
             }
            },
            "type": "table"
           }
          ]
         },
         "layout": {
          "annotationdefaults": {
           "arrowcolor": "#2a3f5f",
           "arrowhead": 0,
           "arrowwidth": 1
          },
          "coloraxis": {
           "colorbar": {
            "outlinewidth": 0,
            "ticks": ""
           }
          },
          "colorscale": {
           "diverging": [
            [
             0,
             "#8e0152"
            ],
            [
             0.1,
             "#c51b7d"
            ],
            [
             0.2,
             "#de77ae"
            ],
            [
             0.3,
             "#f1b6da"
            ],
            [
             0.4,
             "#fde0ef"
            ],
            [
             0.5,
             "#f7f7f7"
            ],
            [
             0.6,
             "#e6f5d0"
            ],
            [
             0.7,
             "#b8e186"
            ],
            [
             0.8,
             "#7fbc41"
            ],
            [
             0.9,
             "#4d9221"
            ],
            [
             1,
             "#276419"
            ]
           ],
           "sequential": [
            [
             0,
             "#0d0887"
            ],
            [
             0.1111111111111111,
             "#46039f"
            ],
            [
             0.2222222222222222,
             "#7201a8"
            ],
            [
             0.3333333333333333,
             "#9c179e"
            ],
            [
             0.4444444444444444,
             "#bd3786"
            ],
            [
             0.5555555555555556,
             "#d8576b"
            ],
            [
             0.6666666666666666,
             "#ed7953"
            ],
            [
             0.7777777777777778,
             "#fb9f3a"
            ],
            [
             0.8888888888888888,
             "#fdca26"
            ],
            [
             1,
             "#f0f921"
            ]
           ],
           "sequentialminus": [
            [
             0,
             "#0d0887"
            ],
            [
             0.1111111111111111,
             "#46039f"
            ],
            [
             0.2222222222222222,
             "#7201a8"
            ],
            [
             0.3333333333333333,
             "#9c179e"
            ],
            [
             0.4444444444444444,
             "#bd3786"
            ],
            [
             0.5555555555555556,
             "#d8576b"
            ],
            [
             0.6666666666666666,
             "#ed7953"
            ],
            [
             0.7777777777777778,
             "#fb9f3a"
            ],
            [
             0.8888888888888888,
             "#fdca26"
            ],
            [
             1,
             "#f0f921"
            ]
           ]
          },
          "colorway": [
           "#636efa",
           "#EF553B",
           "#00cc96",
           "#ab63fa",
           "#FFA15A",
           "#19d3f3",
           "#FF6692",
           "#B6E880",
           "#FF97FF",
           "#FECB52"
          ],
          "font": {
           "color": "#2a3f5f"
          },
          "geo": {
           "bgcolor": "white",
           "lakecolor": "white",
           "landcolor": "#E5ECF6",
           "showlakes": true,
           "showland": true,
           "subunitcolor": "white"
          },
          "hoverlabel": {
           "align": "left"
          },
          "hovermode": "closest",
          "mapbox": {
           "style": "light"
          },
          "paper_bgcolor": "white",
          "plot_bgcolor": "#E5ECF6",
          "polar": {
           "angularaxis": {
            "gridcolor": "white",
            "linecolor": "white",
            "ticks": ""
           },
           "bgcolor": "#E5ECF6",
           "radialaxis": {
            "gridcolor": "white",
            "linecolor": "white",
            "ticks": ""
           }
          },
          "scene": {
           "xaxis": {
            "backgroundcolor": "#E5ECF6",
            "gridcolor": "white",
            "gridwidth": 2,
            "linecolor": "white",
            "showbackground": true,
            "ticks": "",
            "zerolinecolor": "white"
           },
           "yaxis": {
            "backgroundcolor": "#E5ECF6",
            "gridcolor": "white",
            "gridwidth": 2,
            "linecolor": "white",
            "showbackground": true,
            "ticks": "",
            "zerolinecolor": "white"
           },
           "zaxis": {
            "backgroundcolor": "#E5ECF6",
            "gridcolor": "white",
            "gridwidth": 2,
            "linecolor": "white",
            "showbackground": true,
            "ticks": "",
            "zerolinecolor": "white"
           }
          },
          "shapedefaults": {
           "line": {
            "color": "#2a3f5f"
           }
          },
          "ternary": {
           "aaxis": {
            "gridcolor": "white",
            "linecolor": "white",
            "ticks": ""
           },
           "baxis": {
            "gridcolor": "white",
            "linecolor": "white",
            "ticks": ""
           },
           "bgcolor": "#E5ECF6",
           "caxis": {
            "gridcolor": "white",
            "linecolor": "white",
            "ticks": ""
           }
          },
          "title": {
           "x": 0.05
          },
          "xaxis": {
           "automargin": true,
           "gridcolor": "white",
           "linecolor": "white",
           "ticks": "",
           "title": {
            "standoff": 15
           },
           "zerolinecolor": "white",
           "zerolinewidth": 2
          },
          "yaxis": {
           "automargin": true,
           "gridcolor": "white",
           "linecolor": "white",
           "ticks": "",
           "title": {
            "standoff": 15
           },
           "zerolinecolor": "white",
           "zerolinewidth": 2
          }
         }
        },
        "title": {
         "text": "Relation between FPL points and FPL value from every players"
        },
        "xaxis": {
         "autorange": true,
         "range": [
          3.48535752785,
          13.0146424722
         ],
         "title": {
          "text": "fpl value"
         },
         "type": "linear"
        },
        "yaxis": {
         "autorange": true,
         "range": [
          -17.5245518316,
          281.524551832
         ],
         "title": {
          "text": "fpl points"
         },
         "type": "linear"
        }
       }
      },
      "text/html": [
       "<div>                            <div id=\"4f2fb6e1-40a1-4d5d-a4b2-2109f7c4668e\" class=\"plotly-graph-div\" style=\"height:525px; width:100%;\"></div>            <script type=\"text/javascript\">                require([\"plotly\"], function(Plotly) {                    window.PLOTLYENV=window.PLOTLYENV || {};                                    if (document.getElementById(\"4f2fb6e1-40a1-4d5d-a4b2-2109f7c4668e\")) {                    Plotly.newPlot(                        \"4f2fb6e1-40a1-4d5d-a4b2-2109f7c4668e\",                        [{\"marker\": {\"color\": \"red\", \"colorsrc\": \"Aldemuro:22:1a1899\", \"size\": [22.0, 17.57894736842105, 24.363636363636363, 16.266666666666666, 20.166666666666668, 19.833333333333332, 13.647058823529411, 20.90909090909091, 16.363636363636363, 16.181818181818183, 15.454545454545455, 13.833333333333334, 11.090909090909092, 8.0, 11.555555555555555, 9.0, 9.0, 5.428571428571429, 4.933333333333334, 6.4, 5.777777777777778, 2.6666666666666665, 2.0, 0.4, 0.4444444444444444, 0.2, 0.0, 0.0, 23.733333333333334, 20.75, 26.8, 26.666666666666668, 22.4, 17.833333333333332, 20.8, 18.181818181818183, 19.77777777777778, 14.666666666666666, 16.8, 12.8, 10.5, 11.0, 9.8, 9.777777777777779, 7.2, 3.7777777777777777, 2.8, 2.0, 1.6, 0.8888888888888888, 1.0, 0.4444444444444444, 0.0, 0.0, 0.0, 0.0, 0.0, 0.0, 0.0, 0.0, 0.0, 0.0, 0.0, 0.0, 0.0, 0.0, 0.0, 0.0, 0.0, 0.0, 0.0, 0.0, 0.0, 0.0, 29.8, 20.166666666666668, 16.615384615384617, 20.88888888888889, 20.22222222222222, 20.0, 14.727272727272727, 13.818181818181818, 13.8, 9.818181818181818, 11.333333333333334, 11.11111111111111, 9.4, 7.090909090909091, 5.111111111111111, 2.888888888888889, 0.75, 0.0, 21.333333333333332, 19.6, 27.384615384615383, 25.285714285714285, 26.153846153846153, 20.25, 25.636363636363637, 22.0, 17.285714285714285, 16.285714285714285, 16.153846153846153, 21.0, 16.6, 12.8, 5.647058823529412, 2.727272727272727, 0.6, 0.0, 0.0, 0.0, 21.285714285714285, 17.0, 19.333333333333332, 17.818181818181817, 20.666666666666668, 20.444444444444443, 18.4, 16.545454545454547, 17.2, 16.666666666666668, 12.2, 11.333333333333334, 9.4, 10.222222222222221, 8.4, 5.333333333333333, 3.272727272727273, 1.4, 1.3333333333333333, 1.3333333333333333, 0.0, 19.2, 22.5, 20.46153846153846, 23.09090909090909, 18.307692307692307, 20.545454545454547, 20.8, 20.4, 19.77777777777778, 16.0, 10.133333333333333, 13.8, 15.11111111111111, 15.11111111111111, 11.454545454545455, 12.0, 6.923076923076923, 7.4, 6.888888888888889, 4.6, 4.0, 3.4, 2.909090909090909, 2.25, 0.2222222222222222, 0.0, 0.0, 0.0, 0.0, 0.0, 0.0, 0.0, 0.0, 0.0, 0.0, 0.0, 0.0, 0.0, 0.0, 0.0, 0.0, 0.0, 0.0, 0.0, 0.0, 0.0, 0.0, 0.0, 0.0, 0.0, 0.0, 0.0, 0.0, 0.0, 0.0, 0.0, 18.941176470588236, 14.117647058823529, 21.8, 20.8, 17.272727272727273, 17.6, 18.88888888888889, 11.857142857142858, 14.2, 13.8, 14.0, 11.454545454545455, 11.8, 10.545454545454545, 11.777777777777779, 9.11111111111111, 6.0, 6.0, 4.8, 4.222222222222222, 1.3333333333333333, 0.0, 0.0, 0.0, 21.176470588235293, 19.0, 16.42105263157895, 21.285714285714285, 21.384615384615383, 18.533333333333335, 23.454545454545453, 22.0, 19.272727272727273, 20.8, 17.636363636363637, 12.8, 13.272727272727273, 6.75, 10.444444444444445, 9.555555555555555, 7.0, 6.4, 3.3333333333333335, 1.7777777777777777, 1.1111111111111112, 0.8888888888888888, 0.0, 0.0, 0.0, 0.0, 0.0, 19.9, 15.217391304347826, 18.625, 21.846153846153847, 16.25, 12.352941176470589, 18.181818181818183, 17.272727272727273, 13.23076923076923, 15.6, 14.6, 6.380952380952381, 10.727272727272727, 9.5, 7.428571428571429, 7.454545454545454, 4.0, 2.888888888888889, 0.0, 0.0, 19.217391304347824, 24.727272727272727, 18.46153846153846, 14.375, 17.5, 14.571428571428571, 17.818181818181817, 17.636363636363637, 11.875, 14.0, 10.133333333333333, 9.125, 12.727272727272727, 10.0, 11.0, 9.454545454545455, 9.6, 9.0, 9.333333333333334, 5.2, 4.6, 3.5, 2.0, 1.5, 0.0, 0.0, 0.0, 0.0, 0.0, 0.0, 0.0, 0.0, 0.0, 0.0, 0.0, 0.0, 0.0, 0.0, 0.0, 0.0, 0.0, 0.0, 0.0, 0.0, 0.0, 0.0, 26.8, 19.384615384615383, 22.363636363636363, 16.615384615384617, 20.4, 16.727272727272727, 17.77777777777778, 15.6, 15.4, 13.636363636363637, 9.538461538461538, 12.0, 9.5, 6.666666666666667, 8.444444444444445, 8.444444444444445, 5.428571428571429, 5.111111111111111, 2.6666666666666665, 2.6666666666666665, 1.1111111111111112, 0.0, 0.0, 21.454545454545453, 16.714285714285715, 23.555555555555557, 20.6, 20.6, 18.8, 13.333333333333334, 15.8, 13.777777777777779, 11.8, 12.88888888888889, 12.444444444444445, 9.272727272727273, 7.2, 7.555555555555555, 5.454545454545454, 6.0, 4.333333333333333, 5.333333333333333, 4.0, 3.0, 2.0, 21.294117647058822, 19.466666666666665, 25.77777777777778, 17.272727272727273, 18.8, 18.22222222222222, 13.454545454545455, 14.0, 10.4, 11.555555555555555, 8.2, 7.8, 6.8, 7.111111111111111, 6.444444444444445, 6.5, 5.0, 4.222222222222222, 3.6, 3.5555555555555554, 2.6666666666666665, 1.1111111111111112, 0.75, 0.0, 0.0, 23.68421052631579, 17.92, 22.94736842105263, 21.75, 26.0, 21.0, 20.0, 20.6, 18.6, 16.363636363636363, 12.923076923076923, 15.2, 7.333333333333333, 9.272727272727273, 7.818181818181818, 6.0, 4.3076923076923075, 3.4, 1.4545454545454546, 0.4444444444444444, 23.818181818181817, 20.0, 25.11111111111111, 17.4, 15.777777777777779, 14.88888888888889, 13.0, 12.666666666666666, 11.0, 10.0, 10.666666666666666, 7.166666666666667, 7.818181818181818, 7.6, 7.777777777777778, 6.888888888888889, 5.090909090909091, 3.75, 2.6666666666666665, 1.4545454545454546, 0.4444444444444444, 0.0, 0.0, 0.0, 26.2, 18.153846153846153, 19.166666666666668, 25.11111111111111, 18.333333333333332, 20.4, 18.0, 15.272727272727273, 15.8, 15.4, 14.8, 12.166666666666666, 12.0, 10.4, 10.4, 2.6666666666666665, 2.0, 0.0, 0.0, 22.166666666666668, 19.0, 17.6, 20.4, 19.6, 12.714285714285714, 15.8, 12.909090909090908, 15.333333333333334, 15.333333333333334, 11.5, 14.222222222222221, 12.0, 12.222222222222221, 10.0, 10.0, 9.0, 8.444444444444445, 7.555555555555555, 6.444444444444445, 3.5555555555555554, 2.1818181818181817]}, \"mode\": \"markers\", \"name\": \"fpl_points\", \"text\": [\"Alexis Sanchez, Club:Arsenal, Pos:LW\", \"Mesut Ozil, Club:Arsenal, Pos:AM\", \"Petr Cech, Club:Arsenal, Pos:GK\", \"Theo Walcott, Club:Arsenal, Pos:RW\", \"Laurent Koscielny, Club:Arsenal, Pos:CB\", \"Hector Bellerin, Club:Arsenal, Pos:RB\", \"Olivier Giroud, Club:Arsenal, Pos:CF\", \"Nacho Monreal, Club:Arsenal, Pos:LB\", \"Shkodran Mustafi, Club:Arsenal, Pos:CB\", \"Alex Iwobi, Club:Arsenal, Pos:LW\", \"Granit Xhaka, Club:Arsenal, Pos:DM\", \"Alex Oxlade-Chamberlain, Club:Arsenal, Pos:RM\", \"Jack Wilshere, Club:Arsenal, Pos:CM\", \"Aaron Ramsey, Club:Arsenal, Pos:CM\", \"Francis Coquelin, Club:Arsenal, Pos:DM\", \"Gabriel Paulista, Club:Arsenal, Pos:CB\", \"Kieran Gibbs, Club:Arsenal, Pos:LB\", \"Santi Cazorla, Club:Arsenal, Pos:CM\", \"Danny Welbeck, Club:Arsenal, Pos:CF\", \"Rob Holding, Club:Arsenal, Pos:CB\", \"Mohamed Elneny, Club:Arsenal, Pos:DM\", \"Lucas Perez, Club:Arsenal, Pos:CF\", \"Emiliano Martinez, Club:Arsenal, Pos:GK\", \"David Ospina, Club:Arsenal, Pos:GK\", \"Carl Jenkinson, Club:Arsenal, Pos:RB\", \"Per Mertesacker, Club:Arsenal, Pos:CB\", \"Sead Kolasinac, Club:Arsenal, Pos:LB\", \"Alexandre Lacazette, Club:Arsenal, Pos:CF\", \"Joshua King, Club:Bournemouth, Pos:SS\", \"Jermain Defoe, Club:Bournemouth, Pos:CF\", \"Charlie Daniels, Club:Bournemouth, Pos:LB\", \"Artur Boruc, Club:Bournemouth, Pos:GK\", \"Steve Cook, Club:Bournemouth, Pos:CB\", \"Junior Stanislas, Club:Bournemouth, Pos:LW\", \"Adam Smith, Club:Bournemouth, Pos:RB\", \"Ryan Fraser, Club:Bournemouth, Pos:LW\", \"Simon Francis, Club:Bournemouth, Pos:RB\", \"Benik Afobe, Club:Bournemouth, Pos:CF\", \"Harry Arter, Club:Bournemouth, Pos:CM\", \"Marc Pugh, Club:Bournemouth, Pos:LW\", \"Callum Wilson, Club:Bournemouth, Pos:CF\", \"Nathan Ake, Club:Bournemouth, Pos:CB\", \"Dan Gosling, Club:Bournemouth, Pos:CM\", \"Andrew Surman, Club:Bournemouth, Pos:CM\", \"Jordon Ibe, Club:Bournemouth, Pos:RW\", \"Lewis Cook, Club:Bournemouth, Pos:CM\", \"Lys Mousset, Club:Bournemouth, Pos:CF\", \"Adam Federici, Club:Bournemouth, Pos:GK\", \"Max Gradel, Club:Bournemouth, Pos:LW\", \"Tyrone Mings, Club:Bournemouth, Pos:CB\", \"Brad Smith, Club:Bournemouth, Pos:LB\", \"Asmir Begovic, Club:Bournemouth, Pos:GK\", \"Niki Maenpaa, Club:Brighton+and+Hove, Pos:GK\", \"Mathew Ryan, Club:Brighton+and+Hove, Pos:GK\", \"Lewis Dunk, Club:Brighton+and+Hove, Pos:CB\", \"Shane Duffy, Club:Brighton+and+Hove, Pos:CB\", \"Uwe Hunemeier, Club:Brighton+and+Hove, Pos:CB\", \"Bruno, Club:Brighton+and+Hove, Pos:RB\", \"Gaetan Bong, Club:Brighton+and+Hove, Pos:LB\", \"Liam Rosenior, Club:Brighton+and+Hove, Pos:RB\", \"Connor Goldson, Club:Brighton+and+Hove, Pos:CB\", \"Markus Suttner, Club:Brighton+and+Hove, Pos:LB\", \"Anthony Knockaert, Club:Brighton+and+Hove, Pos:RW\", \"Dale Stephens, Club:Brighton+and+Hove, Pos:CM\", \"Beram Kayal, Club:Brighton+and+Hove, Pos:CM\", \"Steve Sidwell, Club:Brighton+and+Hove, Pos:CM\", \"Solly March, Club:Brighton+and+Hove, Pos:RM\", \"Jiri Skalak, Club:Brighton+and+Hove, Pos:LW\", \"Oliver Norwood, Club:Brighton+and+Hove, Pos:CM\", \"Jamie Murphy, Club:Brighton+and+Hove, Pos:LW\", \"Pascal Gross, Club:Brighton+and+Hove, Pos:CM\", \"Glenn Murray, Club:Brighton+and+Hove, Pos:CF\", \"Tomer Hemed, Club:Brighton+and+Hove, Pos:CF\", \"Sam Baldock, Club:Brighton+and+Hove, Pos:CF\", \"Tom Heaton, Club:Burnley, Pos:GK\", \"Sam Vokes, Club:Burnley, Pos:CF\", \"Andre Gray, Club:Burnley, Pos:CF\", \"Ben Mee, Club:Burnley, Pos:CB\", \"Stephen Ward, Club:Burnley, Pos:LB\", \"Matthew Lowton, Club:Burnley, Pos:RB\", \"Ashley Barnes, Club:Burnley, Pos:CF\", \"Jeff Hendrick, Club:Burnley, Pos:CM\", \"Scott Arfield, Club:Burnley, Pos:LM\", \"Steven Defour, Club:Burnley, Pos:CM\", \"Dean Marney, Club:Burnley, Pos:CM\", \"Jack Cork, Club:Burnley, Pos:DM\", \"Johann Berg Gudmundsson, Club:Burnley, Pos:RW\", \"Robbie Brady, Club:Burnley, Pos:LM\", \"James Tarkowski, Club:Burnley, Pos:CB\", \"Ashley Westwood, Club:Burnley, Pos:DM\", \"Kevin Long, Club:Burnley, Pos:CB\", \"Matthew Taylor, Club:Burnley, Pos:LM\", \"Eden Hazard, Club:Chelsea, Pos:LW\", \"Diego Costa, Club:Chelsea, Pos:CF\", \"Gary Cahill, Club:Chelsea, Pos:CB\", \"Marcos Alonso Mendoza, Club:Chelsea, Pos:LB\", \"Cesar Azpilicueta, Club:Chelsea, Pos:RB\", \"Pedro, Club:Chelsea, Pos:RW\", \"Thibaut Courtois, Club:Chelsea, Pos:GK\", \"David Luiz, Club:Chelsea, Pos:CB\", \"Cesc Fabregas, Club:Chelsea, Pos:CM\", \"Willian, Club:Chelsea, Pos:RW\", \"Victor Moses, Club:Chelsea, Pos:RM\", \"Nemanja Matic, Club:Chelsea, Pos:DM\", \"N%27Golo Kante, Club:Chelsea, Pos:DM\", \"Willy Caballero, Club:Chelsea, Pos:GK\", \"Michy Batshuayi, Club:Chelsea, Pos:CF\", \"Kurt Zouma, Club:Chelsea, Pos:CB\", \"Kenedy, Club:Chelsea, Pos:LB\", \"Eduardo Carvalho, Club:Chelsea, Pos:LW\", \"Antonio Rudiger, Club:Chelsea, Pos:CB\", \"Tiemoue Bakayoko, Club:Chelsea, Pos:DM\", \"Wilfried Zaha, Club:Crystal+Palace, Pos:RW\", \"Christian Benteke, Club:Crystal+Palace, Pos:CF\", \"Andros Townsend, Club:Crystal+Palace, Pos:RW\", \"Patrick van Aanholt, Club:Crystal+Palace, Pos:LB\", \"James McArthur, Club:Crystal+Palace, Pos:CM\", \"Wayne Hennessey, Club:Crystal+Palace, Pos:GK\", \"Jason Puncheon, Club:Crystal+Palace, Pos:AM\", \"Yohan Cabaye, Club:Crystal+Palace, Pos:CM\", \"Joel Ward, Club:Crystal+Palace, Pos:RB\", \"James Tomkins, Club:Crystal+Palace, Pos:CB\", \"Scott Dann, Club:Crystal+Palace, Pos:CB\", \"Damien Delaney, Club:Crystal+Palace, Pos:CB\", \"Jeffrey Schlupp, Club:Crystal+Palace, Pos:LB\", \"Martin Kelly, Club:Crystal+Palace, Pos:RB\", \"Luka Milivojevic, Club:Crystal+Palace, Pos:DM\", \"Lee Chung-yong, Club:Crystal+Palace, Pos:RW\", \"Connor Wickham, Club:Crystal+Palace, Pos:CF\", \"Bakary Sako, Club:Crystal+Palace, Pos:LW\", \"Pape Souare, Club:Crystal+Palace, Pos:LB\", \"Ruben Loftus-Cheek, Club:Crystal+Palace, Pos:CM\", \"Julian Speroni, Club:Crystal+Palace, Pos:GK\", \"Ross Barkley, Club:Everton, Pos:AM\", \"Leighton Baines, Club:Everton, Pos:LB\", \"Seamus Coleman, Club:Everton, Pos:RB\", \"Ashley Williams, Club:Everton, Pos:CB\", \"Kevin Mirallas, Club:Everton, Pos:RW\", \"Michael Keane, Club:Everton, Pos:CB\", \"Phil Jagielka, Club:Everton, Pos:CB\", \"Jordan Pickford, Club:Everton, Pos:GK\", \"Joel Robles, Club:Everton, Pos:GK\", \"Idrissa Gueye, Club:Everton, Pos:CM\", \"Wayne Rooney, Club:Everton, Pos:SS\", \"Ramiro Funes Mori, Club:Everton, Pos:CB\", \"Maarten Stekelenburg, Club:Everton, Pos:GK\", \"Gareth Barry, Club:Everton, Pos:DM\", \"Tom Davies, Club:Everton, Pos:CM\", \"Mason Holgate, Club:Everton, Pos:CB\", \"Yannick Bolasie, Club:Everton, Pos:LW\", \"Morgan Schneiderlin, Club:Everton, Pos:DM\", \"Cuco Martina, Club:Everton, Pos:RB\", \"James McCarthy, Club:Everton, Pos:CM\", \"Aaron Lennon, Club:Everton, Pos:RW\", \"Dominic Calvert-Lewin, Club:Everton, Pos:SS\", \"Ademola Lookman, Club:Everton, Pos:LW\", \"Matthew Pennington, Club:Everton, Pos:CB\", \"Jonjoe Kenny, Club:Everton, Pos:RB\", \"Muhamed Besic, Club:Everton, Pos:DM\", \"Davy Klaassen, Club:Everton, Pos:AM\", \"Sandro Ramirez, Club:Everton, Pos:CF\", \"Joel Coleman, Club:Huddersfield, Pos:GK\", \"Jonas Lossl, Club:Huddersfield, Pos:GK\", \"Christopher Schindler, Club:Huddersfield, Pos:CB\", \"Chris Lowe, Club:Huddersfield, Pos:LB\", \"Tommy Smith, Club:Huddersfield, Pos:RB\", \"Michael Hefele, Club:Huddersfield, Pos:CB\", \"Martin Cranie, Club:Huddersfield, Pos:CB\", \"Jon Gorenc Stankovic, Club:Huddersfield, Pos:CB\", \"Mark Hudson, Club:Huddersfield, Pos:CB\", \"Mathias Jorgensen, Club:Huddersfield, Pos:CB\", \"Scott Malone, Club:Huddersfield, Pos:LB\", \"Aaron Mooy, Club:Huddersfield, Pos:CM\", \"Rajiv van La Parra, Club:Huddersfield, Pos:LW\", \"Jonathan Hogg, Club:Huddersfield, Pos:CM\", \"Philip Billing, Club:Huddersfield, Pos:CM\", \"Joe Lolley, Club:Huddersfield, Pos:RW\", \"Jack Payne, Club:Huddersfield, Pos:CM\", \"Dean Whitehead, Club:Huddersfield, Pos:CM\", \"Harry Bunn, Club:Huddersfield, Pos:LW\", \"Sean Scannell, Club:Huddersfield, Pos:RW\", \"Elias Kachunga, Club:Huddersfield, Pos:RW\", \"Tom Ince, Club:Huddersfield, Pos:RW\", \"Kasey Palmer, Club:Huddersfield, Pos:AM\", \"Andy Williams, Club:Huddersfield, Pos:CB\", \"Nahki Wells, Club:Huddersfield, Pos:CF\", \"Collin Quaner, Club:Huddersfield, Pos:CF\", \"Laurent Depoitre, Club:Huddersfield, Pos:CF\", \"Steve Mounie, Club:Huddersfield, Pos:CF\", \"Jamie Vardy, Club:Leicester+City, Pos:CF\", \"Riyad Mahrez, Club:Leicester+City, Pos:RW\", \"Kasper Schmeichel, Club:Leicester+City, Pos:GK\", \"Christian Fuchs, Club:Leicester+City, Pos:LB\", \"Marc Albrighton, Club:Leicester+City, Pos:LM\", \"Robert Huth, Club:Leicester+City, Pos:CB\", \"Danny Simpson, Club:Leicester+City, Pos:RB\", \"Islam Slimani, Club:Leicester+City, Pos:CF\", \"Harry Maguire, Club:Leicester+City, Pos:CB\", \"Danny Drinkwater, Club:Leicester+City, Pos:CM\", \"Wes Morgan, Club:Leicester+City, Pos:CB\", \"Shinji Okazaki, Club:Leicester+City, Pos:CF\", \"Wilfred Ndidi, Club:Leicester+City, Pos:DM\", \"Demarai Gray, Club:Leicester+City, Pos:LW\", \"Daniel Amartey, Club:Leicester+City, Pos:DM\", \"Andy King, Club:Leicester+City, Pos:CM\", \"Ahmed Musa, Club:Leicester+City, Pos:CF\", \"Yohan Benalouane, Club:Leicester+City, Pos:CB\", \"Leonardo Ulloa, Club:Leicester+City, Pos:CF\", \"Ben Chilwell, Club:Leicester+City, Pos:LB\", \"Nampalys Mendy, Club:Leicester+City, Pos:DM\", \"Ben Hamer, Club:Leicester+City, Pos:GK\", \"Molla Wague, Club:Leicester+City, Pos:CB\", \"Vicente Iborra, Club:Leicester+City, Pos:DM\", \"Roberto Firmino, Club:Liverpool, Pos:SS\", \"Philippe Coutinho, Club:Liverpool, Pos:AM\", \"Sadio Mane, Club:Liverpool, Pos:LW\", \"Georginio Wijnaldum, Club:Liverpool, Pos:CM\", \"James Milner, Club:Liverpool, Pos:CM\", \"Adam Lallana, Club:Liverpool, Pos:AM\", \"Nathaniel Clyne, Club:Liverpool, Pos:RB\", \"Simon Mignolet, Club:Liverpool, Pos:GK\", \"Dejan Lovren, Club:Liverpool, Pos:CB\", \"Emre Can, Club:Liverpool, Pos:DM\", \"Joel Matip, Club:Liverpool, Pos:CB\", \"Divock Origi, Club:Liverpool, Pos:CF\", \"Jordan Henderson, Club:Liverpool, Pos:CM\", \"Daniel Sturridge, Club:Liverpool, Pos:CF\", \"Lucas Leiva, Club:Liverpool, Pos:DM\", \"Ragnar Klavan, Club:Liverpool, Pos:CB\", \"Mamadou Sakho, Club:Liverpool, Pos:CB\", \"Loris Karius, Club:Liverpool, Pos:GK\", \"Trent Alexander-Arnold, Club:Liverpool, Pos:RB\", \"Alberto Moreno, Club:Liverpool, Pos:LB\", \"Ben Woodburn, Club:Liverpool, Pos:LW\", \"Marko Grujic, Club:Liverpool, Pos:CM\", \"Joe Gomez, Club:Liverpool, Pos:CB\", \"Sheyi Ojo, Club:Liverpool, Pos:LW\", \"Mohamed Salah, Club:Liverpool, Pos:RW\", \"Danny Ings, Club:Liverpool, Pos:CF\", \"Dominic Solanke, Club:Liverpool, Pos:CF\", \"Kevin De Bruyne, Club:Manchester+City, Pos:AM\", \"Sergio Aguero, Club:Manchester+City, Pos:CF\", \"Raheem Sterling, Club:Manchester+City, Pos:LW\", \"Kyle Walker, Club:Manchester+City, Pos:RB\", \"David Silva, Club:Manchester+City, Pos:AM\", \"Leroy Sane, Club:Manchester+City, Pos:LW\", \"Nicolas Otamendi, Club:Manchester+City, Pos:CB\", \"Aleksandar Kolarov, Club:Manchester+City, Pos:LB\", \"Yaya Toure, Club:Manchester+City, Pos:CM\", \"Fernandinho, Club:Manchester+City, Pos:DM\", \"Claudio Bravo, Club:Manchester+City, Pos:GK\", \"Gabriel Jesus, Club:Manchester+City, Pos:CF\", \"John Stones, Club:Manchester+City, Pos:CB\", \"Vincent Kompany, Club:Manchester+City, Pos:CB\", \"Kelechi Iheanacho, Club:Manchester+City, Pos:CF\", \"Ilkay Gundogan, Club:Manchester+City, Pos:CM\", \"Fernando, Club:Manchester+City, Pos:DM\", \"Fabian Delph, Club:Manchester+City, Pos:CM\", \"Ederson Moraes, Club:Manchester+City, Pos:GK\", \"Bernardo Silva, Club:Manchester+City, Pos:RW\", \"Romelu Lukaku, Club:Manchester+United, Pos:CF\", \"David de Gea, Club:Manchester+United, Pos:GK\", \"Antonio Valencia, Club:Manchester+United, Pos:RB\", \"Paul Pogba, Club:Manchester+United, Pos:CM\", \"Eric Bailly, Club:Manchester+United, Pos:CB\", \"Juan Mata, Club:Manchester+United, Pos:AM\", \"Daley Blind, Club:Manchester+United, Pos:LB\", \"Ander Herrera, Club:Manchester+United, Pos:CM\", \"Anthony Martial, Club:Manchester+United, Pos:CF\", \"Marcos Rojo, Club:Manchester+United, Pos:CB\", \"Marcus Rashford, Club:Manchester+United, Pos:CF\", \"Henrikh Mkhitaryan, Club:Manchester+United, Pos:AM\", \"Matteo Darmian, Club:Manchester+United, Pos:RB\", \"Jesse Lingard, Club:Manchester+United, Pos:LW\", \"Phil Jones, Club:Manchester+United, Pos:CB\", \"Chris Smalling, Club:Manchester+United, Pos:CB\", \"Marouane Fellaini, Club:Manchester+United, Pos:CM\", \"Luke Shaw, Club:Manchester+United, Pos:LB\", \"Michael Carrick, Club:Manchester+United, Pos:DM\", \"Ashley Young, Club:Manchester+United, Pos:LM\", \"Sergio Romero, Club:Manchester+United, Pos:GK\", \"Axel Tuanzebe, Club:Manchester+United, Pos:CB\", \"Timothy Fosu-Mensah, Club:Manchester+United, Pos:DM\", \"Joel Castro Pereira, Club:Manchester+United, Pos:GK\", \"Victor Lindelof, Club:Manchester+United, Pos:CB\", \"Rob Elliot, Club:Newcastle+United, Pos:GK\", \"Karl Darlow, Club:Newcastle+United, Pos:GK\", \"DeAndre Yedlin, Club:Newcastle+United, Pos:RB\", \"Ciaran Clark, Club:Newcastle+United, Pos:CB\", \"Lascelles, Club:Newcastle+United, Pos:CB\", \"Paul Dummett, Club:Newcastle+United, Pos:LB\", \"Grant Hanley, Club:Newcastle+United, Pos:CB\", \"Jesus Gamez, Club:Newcastle+United, Pos:RB\", \"Florian Lejeune, Club:Newcastle+United, Pos:CB\", \"Massadio Haidara, Club:Newcastle+United, Pos:LB\", \"Matt Ritchie, Club:Newcastle+United, Pos:RM\", \"Jonjo Shelvey, Club:Newcastle+United, Pos:CM\", \"Mohamed Diame, Club:Newcastle+United, Pos:CM\", \"Jack Colback, Club:Newcastle+United, Pos:DM\", \"Christian Atsu, Club:Newcastle+United, Pos:RW\", \"Siem de Jong, Club:Newcastle+United, Pos:AM\", \"Rolando Aarons, Club:Newcastle+United, Pos:LW\", \"Dwight Gayle, Club:Newcastle+United, Pos:CF\", \"Ayoze Perez, Club:Newcastle+United, Pos:SS\", \"Aleksandar Mitrovic, Club:Newcastle+United, Pos:CF\", \"Daryl Murphy, Club:Newcastle+United, Pos:CF\", \"Fraser Forster, Club:Southampton, Pos:GK\", \"Nathan Redmond, Club:Southampton, Pos:RW\", \"Ryan Bertrand, Club:Southampton, Pos:LB\", \"Du\\u00c5\\u00a1an Tadi\\u00c4\\u2021, Club:Southampton, Pos:LW\", \"Cedric Soares, Club:Southampton, Pos:RB\", \"James Ward-Prowse, Club:Southampton, Pos:CM\", \"Oriol Romeu, Club:Southampton, Pos:DM\", \"Maya Yoshida, Club:Southampton, Pos:CB\", \"Steven Davis, Club:Southampton, Pos:CM\", \"Virgil van Dijk, Club:Southampton, Pos:CB\", \"Charlie Austin, Club:Southampton, Pos:CF\", \"Jack Stephens, Club:Southampton, Pos:CB\", \"Shane Long, Club:Southampton, Pos:CF\", \"Sofiane Boufal, Club:Southampton, Pos:AM\", \"Jordy Clasie, Club:Southampton, Pos:DM\", \"Pierre-Emile Hojbjerg, Club:Southampton, Pos:CM\", \"Manolo Gabbiadini, Club:Southampton, Pos:CF\", \"Sam McQueen, Club:Southampton, Pos:LM\", \"Matt Targett, Club:Southampton, Pos:LB\", \"Josh Sims, Club:Southampton, Pos:RW\", \"Jeremy Pied, Club:Southampton, Pos:RM\", \"Jason McCarthy, Club:Southampton, Pos:CB\", \"Jan Bednarek, Club:Southampton, Pos:CB\", \"Joe Allen, Club:Stoke+City, Pos:CM\", \"Marko Arnautovi\\u00c4\\u2021, Club:Stoke+City, Pos:LW\", \"Lee Grant, Club:Stoke+City, Pos:GK\", \"Erik Pieters, Club:Stoke+City, Pos:LB\", \"Steven Fletcher, Club:Stoke+City, Pos:CF\", \"Ryan Shawcross, Club:Stoke+City, Pos:CB\", \"Xherdan Shaqiri, Club:Stoke+City, Pos:RW\", \"Peter Crouch, Club:Stoke+City, Pos:CF\", \"Glenn Whelan, Club:Stoke+City, Pos:DM\", \"Charlie Adam, Club:Stoke+City, Pos:CM\", \"Geoff Cameron, Club:Stoke+City, Pos:CB\", \"Glen Johnson, Club:Stoke+City, Pos:RB\", \"Mame Biram Diouf, Club:Stoke+City, Pos:CF\", \"Ramadan Sobhi, Club:Stoke+City, Pos:LW\", \"Marc Muniesa, Club:Stoke+City, Pos:CB\", \"Bojan Krki\\u00c4\\u2021, Club:Stoke+City, Pos:SS\", \"Phil Bardsley, Club:Stoke+City, Pos:RB\", \"Saido Berahino, Club:Stoke+City, Pos:CF\", \"Giannelli Imbula, Club:Stoke+City, Pos:DM\", \"Jack Butland, Club:Stoke+City, Pos:GK\", \"Ibrahim Afellay, Club:Stoke+City, Pos:LM\", \"Josh Tymon, Club:Stoke+City, Pos:LB\", \"Gylfi Sigurdsson, Club:Swansea, Pos:AM\", \"Fernando Llorente, Club:Swansea, Pos:CF\", \"\\u00c5\\u0081ukasz Fabia\\u00c5\\u201eski, Club:Swansea, Pos:GK\", \"Leroy Fer, Club:Swansea, Pos:CM\", \"Alfie Mawson, Club:Swansea, Pos:CB\", \"Kyle Naughton, Club:Swansea, Pos:RB\", \"Wayne Routledge, Club:Swansea, Pos:LW\", \"Federico Fernandez, Club:Swansea, Pos:CB\", \"Martin Olsson, Club:Swansea, Pos:LB\", \"Tom Carroll, Club:Swansea, Pos:CM\", \"Ki Sung-yueng, Club:Swansea, Pos:DM\", \"Jordan Ayew, Club:Swansea, Pos:CF\", \"Modou Barrow, Club:Swansea, Pos:RW\", \"Leon Britton, Club:Swansea, Pos:CM\", \"Stephen Kingsley, Club:Swansea, Pos:LB\", \"\\u00c3\\u20acngel Rangel, Club:Swansea, Pos:RB\", \"Luciano Narsingh, Club:Swansea, Pos:RW\", \"Jay Fulton, Club:Swansea, Pos:CM\", \"Jefferson Montero, Club:Swansea, Pos:LW\", \"Mike van der Hoorn, Club:Swansea, Pos:CB\", \"Nathan Dyer, Club:Swansea, Pos:RW\", \"Oliver McBurnie, Club:Swansea, Pos:CF\", \"Kristoffer Nordfeldt, Club:Swansea, Pos:GK\", \"Roque Mesa, Club:Swansea, Pos:CM\", \"Tammy Abraham, Club:Swansea, Pos:CF\", \"Dele Alli, Club:Tottenham, Pos:CM\", \"Harry Kane, Club:Tottenham, Pos:CF\", \"Christian Eriksen, Club:Tottenham, Pos:AM\", \"Son Heung-min, Club:Tottenham, Pos:LW\", \"Hugo Lloris, Club:Tottenham, Pos:GK\", \"Jan Vertonghen, Club:Tottenham, Pos:CB\", \"Toby Alderweireld, Club:Tottenham, Pos:CB\", \"Victor Wanyama, Club:Tottenham, Pos:DM\", \"Eric Dier, Club:Tottenham, Pos:DM\", \"Ben Davies, Club:Tottenham, Pos:LB\", \"Danny Rose, Club:Tottenham, Pos:LB\", \"Mousa Dembele, Club:Tottenham, Pos:CM\", \"Vincent Janssen, Club:Tottenham, Pos:CF\", \"Kieran Trippier, Club:Tottenham, Pos:RB\", \"Moussa Sissokho, Club:Tottenham, Pos:CM\", \"Harry Winks, Club:Tottenham, Pos:CM\", \"Erik Lamela, Club:Tottenham, Pos:RW\", \"Michel Vorm, Club:Tottenham, Pos:GK\", \"Georges-Kevin N%27Koudou, Club:Tottenham, Pos:LW\", \"Kevin Wimmer, Club:Tottenham, Pos:CB\", \"\\u00c3\\u2030tienne Capoue, Club:Watford, Pos:DM\", \"Troy Deeney, Club:Watford, Pos:CF\", \"Heurelho Gomes, Club:Watford, Pos:GK\", \"Jose Holebas, Club:Watford, Pos:LB\", \"Miguel Britos, Club:Watford, Pos:CB\", \"Sebastian Prodl, Club:Watford, Pos:CB\", \"Nordin Amrabat, Club:Watford, Pos:LW\", \"Youn\\u00c3\\u00a8s Kaboul, Club:Watford, Pos:CB\", \"Tom Cleverley, Club:Watford, Pos:CM\", \"Daryl Janmaat, Club:Watford, Pos:RB\", \"Valon Behrami, Club:Watford, Pos:DM\", \"Roberto Pereyra, Club:Watford, Pos:AM\", \"Stefano Okaka, Club:Watford, Pos:CF\", \"Abdoulaye Doucoure, Club:Watford, Pos:CM\", \"Kabasele, Club:Watford, Pos:CB\", \"Craig Cathcart, Club:Watford, Pos:CB\", \"Isaac Success, Club:Watford, Pos:LW\", \"Adrian Mariappa, Club:Watford, Pos:CB\", \"Nathaniel Chalobah, Club:Watford, Pos:DM\", \"Mauro Zarate, Club:Watford, Pos:SS\", \"Costel Pantilimon, Club:Watford, Pos:GK\", \"Kiko Femenia, Club:Watford, Pos:RB\", \"Steven Berghuis, Club:Watford, Pos:RW\", \"Will Hughes, Club:Watford, Pos:CM\", \"Gareth McAuley, Club:West+Brom, Pos:CB\", \"Salomon Rondon, Club:West+Brom, Pos:CF\", \"Matt Phillips, Club:West+Brom, Pos:RW\", \"Ben Foster, Club:West+Brom, Pos:GK\", \"Nacer Chadli, Club:West+Brom, Pos:LW\", \"Craig Dawson, Club:West+Brom, Pos:RB\", \"Chris Brunt, Club:West+Brom, Pos:LM\", \"James Morrison, Club:West+Brom, Pos:CM\", \"Jonny Evans, Club:West+Brom, Pos:CB\", \"Jake Livermore, Club:West+Brom, Pos:DM\", \"Allan Nyom, Club:West+Brom, Pos:RB\", \"Jay Rodriguez, Club:West+Brom, Pos:CF\", \"Claudio Yacob, Club:West+Brom, Pos:DM\", \"James McClean, Club:West+Brom, Pos:LW\", \"Hal Robson-Kanu, Club:West+Brom, Pos:LW\", \"Jonathan Leko, Club:West+Brom, Pos:RW\", \"Sam Field, Club:West+Brom, Pos:CM\", \"Boaz Myhill, Club:West+Brom, Pos:GK\", \"Ahmed Hegazy, Club:West+Brom, Pos:CB\", \"Robert Snodgrass, Club:West+Ham, Pos:RW\", \"Manuel Lanzini, Club:West+Ham, Pos:AM\", \"Michail Antonio, Club:West+Ham, Pos:RW\", \"Winston Reid, Club:West+Ham, Pos:CB\", \"Jose Fonte, Club:West+Ham, Pos:CB\", \"Andre Ayew, Club:West+Ham, Pos:LW\", \"Cheikhou Kouyate, Club:West+Ham, Pos:DM\", \"Mark Noble, Club:West+Ham, Pos:CM\", \"Darren Randolph, Club:West+Ham, Pos:GK\", \"James Collins, Club:West+Ham, Pos:CB\", \"Andy Carroll, Club:West+Ham, Pos:CF\", \"Adrian, Club:West+Ham, Pos:GK\", \"Aaron Cresswell, Club:West+Ham, Pos:LB\", \"Pedro Obiang, Club:West+Ham, Pos:CM\", \"Sofiane Feghouli, Club:West+Ham, Pos:RW\", \"Angelo Ogbonna, Club:West+Ham, Pos:CB\", \"Pablo Zabaleta, Club:West+Ham, Pos:RB\", \"Edimilson Fernandes, Club:West+Ham, Pos:CM\", \"Arthur Masuaku, Club:West+Ham, Pos:LB\", \"Sam Byram, Club:West+Ham, Pos:RB\", \"Ashley Fletcher, Club:West+Ham, Pos:CF\", \"Diafra Sakho, Club:West+Ham, Pos:CF\"], \"type\": \"scatter\", \"uid\": \"0d217c\", \"x\": [12.0, 9.5, 5.5, 7.5, 6.0, 6.0, 8.5, 5.5, 5.5, 5.5, 5.5, 6.0, 5.5, 7.0, 4.5, 5.0, 5.0, 7.0, 7.5, 5.0, 4.5, 7.5, 4.0, 5.0, 4.5, 5.0, 6.0, 10.5, 7.5, 8.0, 5.0, 4.5, 5.0, 6.0, 5.0, 5.5, 4.5, 6.0, 5.0, 5.0, 6.0, 5.0, 5.0, 4.5, 5.0, 4.5, 5.0, 4.0, 5.0, 4.5, 4.0, 4.5, 4.0, 4.5, 4.5, 4.5, 4.0, 4.5, 4.5, 4.0, 4.0, 4.5, 6.0, 4.5, 4.5, 4.5, 5.0, 5.0, 4.5, 5.0, 5.5, 6.0, 5.0, 5.0, 5.0, 6.0, 6.5, 4.5, 4.5, 4.5, 5.5, 5.5, 5.0, 5.5, 4.5, 4.5, 5.0, 5.5, 4.5, 4.5, 4.0, 4.5, 10.5, 10.0, 6.5, 7.0, 6.5, 8.0, 5.5, 6.0, 7.0, 7.0, 6.5, 5.0, 5.0, 5.0, 8.5, 5.5, 5.0, 5.0, 6.0, 5.0, 7.0, 8.0, 6.0, 5.5, 4.5, 4.5, 5.0, 5.5, 5.0, 4.5, 5.0, 4.5, 5.0, 4.5, 5.0, 4.5, 5.5, 5.0, 4.5, 4.5, 4.0, 7.5, 6.0, 6.5, 5.5, 6.5, 5.5, 5.0, 5.0, 4.5, 5.0, 7.5, 5.0, 4.5, 4.5, 5.5, 4.5, 6.5, 5.0, 4.5, 5.0, 5.5, 5.0, 5.5, 4.0, 4.5, 4.5, 7.5, 7.5, 4.0, 4.5, 4.5, 4.5, 5.0, 4.5, 4.0, 4.0, 4.0, 4.5, 4.5, 5.5, 5.0, 4.5, 4.5, 4.5, 4.5, 4.5, 4.5, 4.5, 6.0, 6.0, 5.5, 5.0, 5.0, 4.5, 5.5, 6.0, 8.5, 8.5, 5.0, 5.0, 5.5, 5.0, 4.5, 7.0, 5.0, 5.0, 4.5, 5.5, 5.0, 5.5, 4.5, 4.5, 6.5, 4.5, 5.0, 4.5, 4.5, 4.5, 4.5, 6.0, 8.5, 9.0, 9.5, 7.0, 6.5, 7.5, 5.5, 5.0, 5.5, 5.0, 5.5, 7.5, 5.5, 8.0, 4.5, 4.5, 5.0, 5.0, 4.5, 4.5, 4.5, 4.5, 4.5, 5.0, 9.0, 5.5, 5.0, 10.0, 11.5, 8.0, 6.5, 8.0, 8.5, 5.5, 5.5, 6.5, 5.0, 5.0, 10.5, 5.5, 6.0, 7.0, 5.5, 4.5, 4.5, 5.5, 8.0, 11.5, 5.5, 6.5, 8.0, 6.0, 7.0, 5.5, 5.5, 8.0, 5.5, 7.5, 8.0, 5.5, 6.0, 5.0, 5.5, 5.0, 5.0, 4.5, 5.0, 5.0, 4.0, 4.5, 4.0, 5.5, 4.0, 4.5, 4.5, 4.5, 4.5, 4.5, 4.0, 4.0, 4.5, 4.0, 6.0, 5.5, 5.0, 4.5, 5.0, 5.0, 4.5, 6.5, 5.5, 5.0, 4.5, 5.0, 6.5, 5.5, 6.5, 5.0, 5.5, 4.5, 5.0, 5.0, 5.5, 6.5, 5.0, 6.0, 6.0, 4.5, 4.5, 7.0, 4.5, 4.5, 4.5, 4.5, 4.5, 4.5, 5.5, 7.0, 4.5, 5.0, 5.0, 5.0, 6.0, 5.0, 4.5, 5.0, 4.5, 4.5, 5.5, 5.0, 4.5, 5.5, 4.5, 6.0, 4.5, 5.0, 5.0, 4.5, 8.5, 7.5, 4.5, 5.5, 5.0, 4.5, 5.5, 4.5, 5.0, 4.5, 5.0, 5.0, 5.0, 4.5, 4.5, 4.0, 5.0, 4.5, 5.0, 4.5, 4.5, 4.5, 4.0, 4.5, 5.5, 9.5, 12.5, 9.5, 8.0, 5.5, 6.0, 6.0, 5.0, 5.0, 5.5, 6.5, 5.0, 7.5, 5.5, 5.5, 5.0, 6.5, 5.0, 5.5, 4.5, 5.5, 6.5, 4.5, 5.0, 4.5, 4.5, 5.0, 4.5, 5.0, 5.0, 4.5, 6.0, 5.5, 5.0, 4.5, 4.5, 5.5, 4.0, 4.5, 5.5, 4.5, 4.5, 5.0, 5.0, 5.0, 6.5, 6.0, 4.5, 6.0, 5.0, 5.5, 5.5, 5.0, 5.0, 5.0, 6.0, 4.5, 5.0, 5.0, 4.5, 4.5, 4.0, 4.5, 6.0, 7.0, 7.5, 5.0, 5.0, 7.0, 5.0, 5.5, 4.5, 4.5, 6.0, 4.5, 5.0, 4.5, 5.5, 4.5, 5.0, 4.5, 4.5, 4.5, 4.5, 5.5], \"xsrc\": \"Aldemuro:22:d61533\", \"y\": [264, 167, 134, 122, 121, 119, 116, 115, 90, 89, 85, 83, 61, 56, 52, 45, 45, 38, 37, 32, 26, 20, 8, 2, 2, 1, 0, 0, 178, 166, 134, 120, 112, 107, 104, 100, 89, 88, 84, 64, 63, 55, 49, 44, 36, 17, 14, 8, 8, 4, 4, 2, 0, 0, 0, 0, 0, 0, 0, 0, 0, 0, 0, 0, 0, 0, 0, 0, 0, 0, 0, 0, 0, 0, 149, 121, 108, 94, 91, 90, 81, 76, 69, 54, 51, 50, 47, 39, 23, 13, 3, 0, 224, 196, 178, 177, 170, 162, 141, 132, 121, 114, 105, 105, 83, 64, 48, 15, 3, 0, 0, 0, 149, 136, 116, 98, 93, 92, 92, 91, 86, 75, 61, 51, 47, 46, 42, 24, 18, 7, 6, 6, 0, 144, 135, 133, 127, 119, 113, 104, 102, 89, 80, 76, 69, 68, 68, 63, 54, 45, 37, 31, 23, 22, 17, 16, 9, 1, 0, 0, 0, 0, 0, 0, 0, 0, 0, 0, 0, 0, 0, 0, 0, 0, 0, 0, 0, 0, 0, 0, 0, 0, 0, 0, 0, 0, 0, 0, 0, 161, 120, 109, 104, 95, 88, 85, 83, 71, 69, 63, 63, 59, 58, 53, 41, 39, 27, 24, 19, 6, 0, 0, 0, 180, 171, 156, 149, 139, 139, 129, 110, 106, 104, 97, 96, 73, 54, 47, 43, 35, 32, 15, 8, 5, 4, 0, 0, 0, 0, 0, 199, 175, 149, 142, 130, 105, 100, 95, 86, 78, 73, 67, 59, 57, 52, 41, 18, 13, 0, 0, 221, 136, 120, 115, 105, 102, 98, 97, 95, 77, 76, 73, 70, 60, 55, 52, 48, 45, 42, 26, 23, 14, 9, 6, 0, 0, 0, 0, 0, 0, 0, 0, 0, 0, 0, 0, 0, 0, 0, 0, 0, 0, 0, 0, 0, 0, 134, 126, 123, 108, 102, 92, 80, 78, 77, 75, 62, 60, 57, 40, 38, 38, 38, 23, 12, 12, 5, 0, 0, 118, 117, 106, 103, 103, 94, 80, 79, 62, 59, 58, 56, 51, 36, 34, 30, 27, 26, 24, 20, 15, 9, 181, 146, 116, 95, 94, 82, 74, 63, 52, 52, 41, 39, 34, 32, 29, 26, 25, 19, 18, 16, 12, 5, 3, 0, 0, 225, 224, 218, 174, 143, 126, 120, 103, 93, 90, 84, 76, 55, 51, 43, 30, 28, 17, 8, 2, 131, 130, 113, 87, 71, 67, 65, 57, 55, 50, 48, 43, 43, 38, 35, 31, 28, 15, 12, 8, 2, 0, 0, 0, 131, 118, 115, 113, 110, 102, 99, 84, 79, 77, 74, 73, 54, 52, 52, 12, 9, 0, 0, 133, 133, 132, 102, 98, 89, 79, 71, 69, 69, 69, 64, 60, 55, 55, 45, 45, 38, 34, 29, 16, 12], \"ysrc\": \"Aldemuro:22:1c3243\"}],                        {\"autosize\": true, \"template\": {\"data\": {\"bar\": [{\"error_x\": {\"color\": \"#2a3f5f\"}, \"error_y\": {\"color\": \"#2a3f5f\"}, \"marker\": {\"line\": {\"color\": \"#E5ECF6\", \"width\": 0.5}}, \"type\": \"bar\"}], \"barpolar\": [{\"marker\": {\"line\": {\"color\": \"#E5ECF6\", \"width\": 0.5}}, \"type\": \"barpolar\"}], \"carpet\": [{\"aaxis\": {\"endlinecolor\": \"#2a3f5f\", \"gridcolor\": \"white\", \"linecolor\": \"white\", \"minorgridcolor\": \"white\", \"startlinecolor\": \"#2a3f5f\"}, \"baxis\": {\"endlinecolor\": \"#2a3f5f\", \"gridcolor\": \"white\", \"linecolor\": \"white\", \"minorgridcolor\": \"white\", \"startlinecolor\": \"#2a3f5f\"}, \"type\": \"carpet\"}], \"choropleth\": [{\"colorbar\": {\"outlinewidth\": 0, \"ticks\": \"\"}, \"type\": \"choropleth\"}], \"contour\": [{\"colorbar\": {\"outlinewidth\": 0, \"ticks\": \"\"}, \"colorscale\": [[0.0, \"#0d0887\"], [0.1111111111111111, \"#46039f\"], [0.2222222222222222, \"#7201a8\"], [0.3333333333333333, \"#9c179e\"], [0.4444444444444444, \"#bd3786\"], [0.5555555555555556, \"#d8576b\"], [0.6666666666666666, \"#ed7953\"], [0.7777777777777778, \"#fb9f3a\"], [0.8888888888888888, \"#fdca26\"], [1.0, \"#f0f921\"]], \"type\": \"contour\"}], \"contourcarpet\": [{\"colorbar\": {\"outlinewidth\": 0, \"ticks\": \"\"}, \"type\": \"contourcarpet\"}], \"heatmap\": [{\"colorbar\": {\"outlinewidth\": 0, \"ticks\": \"\"}, \"colorscale\": [[0.0, \"#0d0887\"], [0.1111111111111111, \"#46039f\"], [0.2222222222222222, \"#7201a8\"], [0.3333333333333333, \"#9c179e\"], [0.4444444444444444, \"#bd3786\"], [0.5555555555555556, \"#d8576b\"], [0.6666666666666666, \"#ed7953\"], [0.7777777777777778, \"#fb9f3a\"], [0.8888888888888888, \"#fdca26\"], [1.0, \"#f0f921\"]], \"type\": \"heatmap\"}], \"heatmapgl\": [{\"colorbar\": {\"outlinewidth\": 0, \"ticks\": \"\"}, \"colorscale\": [[0.0, \"#0d0887\"], [0.1111111111111111, \"#46039f\"], [0.2222222222222222, \"#7201a8\"], [0.3333333333333333, \"#9c179e\"], [0.4444444444444444, \"#bd3786\"], [0.5555555555555556, \"#d8576b\"], [0.6666666666666666, \"#ed7953\"], [0.7777777777777778, \"#fb9f3a\"], [0.8888888888888888, \"#fdca26\"], [1.0, \"#f0f921\"]], \"type\": \"heatmapgl\"}], \"histogram\": [{\"marker\": {\"colorbar\": {\"outlinewidth\": 0, \"ticks\": \"\"}}, \"type\": \"histogram\"}], \"histogram2d\": [{\"colorbar\": {\"outlinewidth\": 0, \"ticks\": \"\"}, \"colorscale\": [[0.0, \"#0d0887\"], [0.1111111111111111, \"#46039f\"], [0.2222222222222222, \"#7201a8\"], [0.3333333333333333, \"#9c179e\"], [0.4444444444444444, \"#bd3786\"], [0.5555555555555556, \"#d8576b\"], [0.6666666666666666, \"#ed7953\"], [0.7777777777777778, \"#fb9f3a\"], [0.8888888888888888, \"#fdca26\"], [1.0, \"#f0f921\"]], \"type\": \"histogram2d\"}], \"histogram2dcontour\": [{\"colorbar\": {\"outlinewidth\": 0, \"ticks\": \"\"}, \"colorscale\": [[0.0, \"#0d0887\"], [0.1111111111111111, \"#46039f\"], [0.2222222222222222, \"#7201a8\"], [0.3333333333333333, \"#9c179e\"], [0.4444444444444444, \"#bd3786\"], [0.5555555555555556, \"#d8576b\"], [0.6666666666666666, \"#ed7953\"], [0.7777777777777778, \"#fb9f3a\"], [0.8888888888888888, \"#fdca26\"], [1.0, \"#f0f921\"]], \"type\": \"histogram2dcontour\"}], \"mesh3d\": [{\"colorbar\": {\"outlinewidth\": 0, \"ticks\": \"\"}, \"type\": \"mesh3d\"}], \"parcoords\": [{\"line\": {\"colorbar\": {\"outlinewidth\": 0, \"ticks\": \"\"}}, \"type\": \"parcoords\"}], \"pie\": [{\"automargin\": true, \"type\": \"pie\"}], \"scatter\": [{\"marker\": {\"colorbar\": {\"outlinewidth\": 0, \"ticks\": \"\"}}, \"type\": \"scatter\"}], \"scatter3d\": [{\"line\": {\"colorbar\": {\"outlinewidth\": 0, \"ticks\": \"\"}}, \"marker\": {\"colorbar\": {\"outlinewidth\": 0, \"ticks\": \"\"}}, \"type\": \"scatter3d\"}], \"scattercarpet\": [{\"marker\": {\"colorbar\": {\"outlinewidth\": 0, \"ticks\": \"\"}}, \"type\": \"scattercarpet\"}], \"scattergeo\": [{\"marker\": {\"colorbar\": {\"outlinewidth\": 0, \"ticks\": \"\"}}, \"type\": \"scattergeo\"}], \"scattergl\": [{\"marker\": {\"colorbar\": {\"outlinewidth\": 0, \"ticks\": \"\"}}, \"type\": \"scattergl\"}], \"scattermapbox\": [{\"marker\": {\"colorbar\": {\"outlinewidth\": 0, \"ticks\": \"\"}}, \"type\": \"scattermapbox\"}], \"scatterpolar\": [{\"marker\": {\"colorbar\": {\"outlinewidth\": 0, \"ticks\": \"\"}}, \"type\": \"scatterpolar\"}], \"scatterpolargl\": [{\"marker\": {\"colorbar\": {\"outlinewidth\": 0, \"ticks\": \"\"}}, \"type\": \"scatterpolargl\"}], \"scatterternary\": [{\"marker\": {\"colorbar\": {\"outlinewidth\": 0, \"ticks\": \"\"}}, \"type\": \"scatterternary\"}], \"surface\": [{\"colorbar\": {\"outlinewidth\": 0, \"ticks\": \"\"}, \"colorscale\": [[0.0, \"#0d0887\"], [0.1111111111111111, \"#46039f\"], [0.2222222222222222, \"#7201a8\"], [0.3333333333333333, \"#9c179e\"], [0.4444444444444444, \"#bd3786\"], [0.5555555555555556, \"#d8576b\"], [0.6666666666666666, \"#ed7953\"], [0.7777777777777778, \"#fb9f3a\"], [0.8888888888888888, \"#fdca26\"], [1.0, \"#f0f921\"]], \"type\": \"surface\"}], \"table\": [{\"cells\": {\"fill\": {\"color\": \"#EBF0F8\"}, \"line\": {\"color\": \"white\"}}, \"header\": {\"fill\": {\"color\": \"#C8D4E3\"}, \"line\": {\"color\": \"white\"}}, \"type\": \"table\"}]}, \"layout\": {\"annotationdefaults\": {\"arrowcolor\": \"#2a3f5f\", \"arrowhead\": 0, \"arrowwidth\": 1}, \"coloraxis\": {\"colorbar\": {\"outlinewidth\": 0, \"ticks\": \"\"}}, \"colorscale\": {\"diverging\": [[0, \"#8e0152\"], [0.1, \"#c51b7d\"], [0.2, \"#de77ae\"], [0.3, \"#f1b6da\"], [0.4, \"#fde0ef\"], [0.5, \"#f7f7f7\"], [0.6, \"#e6f5d0\"], [0.7, \"#b8e186\"], [0.8, \"#7fbc41\"], [0.9, \"#4d9221\"], [1, \"#276419\"]], \"sequential\": [[0.0, \"#0d0887\"], [0.1111111111111111, \"#46039f\"], [0.2222222222222222, \"#7201a8\"], [0.3333333333333333, \"#9c179e\"], [0.4444444444444444, \"#bd3786\"], [0.5555555555555556, \"#d8576b\"], [0.6666666666666666, \"#ed7953\"], [0.7777777777777778, \"#fb9f3a\"], [0.8888888888888888, \"#fdca26\"], [1.0, \"#f0f921\"]], \"sequentialminus\": [[0.0, \"#0d0887\"], [0.1111111111111111, \"#46039f\"], [0.2222222222222222, \"#7201a8\"], [0.3333333333333333, \"#9c179e\"], [0.4444444444444444, \"#bd3786\"], [0.5555555555555556, \"#d8576b\"], [0.6666666666666666, \"#ed7953\"], [0.7777777777777778, \"#fb9f3a\"], [0.8888888888888888, \"#fdca26\"], [1.0, \"#f0f921\"]]}, \"colorway\": [\"#636efa\", \"#EF553B\", \"#00cc96\", \"#ab63fa\", \"#FFA15A\", \"#19d3f3\", \"#FF6692\", \"#B6E880\", \"#FF97FF\", \"#FECB52\"], \"font\": {\"color\": \"#2a3f5f\"}, \"geo\": {\"bgcolor\": \"white\", \"lakecolor\": \"white\", \"landcolor\": \"#E5ECF6\", \"showlakes\": true, \"showland\": true, \"subunitcolor\": \"white\"}, \"hoverlabel\": {\"align\": \"left\"}, \"hovermode\": \"closest\", \"mapbox\": {\"style\": \"light\"}, \"paper_bgcolor\": \"white\", \"plot_bgcolor\": \"#E5ECF6\", \"polar\": {\"angularaxis\": {\"gridcolor\": \"white\", \"linecolor\": \"white\", \"ticks\": \"\"}, \"bgcolor\": \"#E5ECF6\", \"radialaxis\": {\"gridcolor\": \"white\", \"linecolor\": \"white\", \"ticks\": \"\"}}, \"scene\": {\"xaxis\": {\"backgroundcolor\": \"#E5ECF6\", \"gridcolor\": \"white\", \"gridwidth\": 2, \"linecolor\": \"white\", \"showbackground\": true, \"ticks\": \"\", \"zerolinecolor\": \"white\"}, \"yaxis\": {\"backgroundcolor\": \"#E5ECF6\", \"gridcolor\": \"white\", \"gridwidth\": 2, \"linecolor\": \"white\", \"showbackground\": true, \"ticks\": \"\", \"zerolinecolor\": \"white\"}, \"zaxis\": {\"backgroundcolor\": \"#E5ECF6\", \"gridcolor\": \"white\", \"gridwidth\": 2, \"linecolor\": \"white\", \"showbackground\": true, \"ticks\": \"\", \"zerolinecolor\": \"white\"}}, \"shapedefaults\": {\"line\": {\"color\": \"#2a3f5f\"}}, \"ternary\": {\"aaxis\": {\"gridcolor\": \"white\", \"linecolor\": \"white\", \"ticks\": \"\"}, \"baxis\": {\"gridcolor\": \"white\", \"linecolor\": \"white\", \"ticks\": \"\"}, \"bgcolor\": \"#E5ECF6\", \"caxis\": {\"gridcolor\": \"white\", \"linecolor\": \"white\", \"ticks\": \"\"}}, \"title\": {\"x\": 0.05}, \"xaxis\": {\"automargin\": true, \"gridcolor\": \"white\", \"linecolor\": \"white\", \"ticks\": \"\", \"title\": {\"standoff\": 15}, \"zerolinecolor\": \"white\", \"zerolinewidth\": 2}, \"yaxis\": {\"automargin\": true, \"gridcolor\": \"white\", \"linecolor\": \"white\", \"ticks\": \"\", \"title\": {\"standoff\": 15}, \"zerolinecolor\": \"white\", \"zerolinewidth\": 2}}}, \"title\": {\"text\": \"Relation between FPL points and FPL value from every players\"}, \"xaxis\": {\"autorange\": true, \"range\": [3.48535752785, 13.0146424722], \"title\": {\"text\": \"fpl value\"}, \"type\": \"linear\"}, \"yaxis\": {\"autorange\": true, \"range\": [-17.5245518316, 281.524551832], \"title\": {\"text\": \"fpl points\"}, \"type\": \"linear\"}},                        {\"responsive\": true}                    ).then(function(){\n",
       "                            \n",
       "var gd = document.getElementById('4f2fb6e1-40a1-4d5d-a4b2-2109f7c4668e');\n",
       "var x = new MutationObserver(function (mutations, observer) {{\n",
       "        var display = window.getComputedStyle(gd).display;\n",
       "        if (!display || display === 'none') {{\n",
       "            console.log([gd, 'removed!']);\n",
       "            Plotly.purge(gd);\n",
       "            observer.disconnect();\n",
       "        }}\n",
       "}});\n",
       "\n",
       "// Listen for the removal of the full notebook cells\n",
       "var notebookContainer = gd.closest('#notebook-container');\n",
       "if (notebookContainer) {{\n",
       "    x.observe(notebookContainer, {childList: true});\n",
       "}}\n",
       "\n",
       "// Listen for the clearing of the current output cell\n",
       "var outputEl = gd.closest('.output');\n",
       "if (outputEl) {{\n",
       "    x.observe(outputEl, {childList: true});\n",
       "}}\n",
       "\n",
       "                        })                };                });            </script>        </div>"
      ]
     },
     "metadata": {},
     "output_type": "display_data"
    }
   ],
   "source": [
    "fig = go.Figure(data=data, layout=layout)\n",
    "py.iplot(fig, filename='basic-scatter')"
   ]
  },
  {
   "cell_type": "markdown",
   "metadata": {},
   "source": [
    "### Relation between FPL points and Age"
   ]
  },
  {
   "cell_type": "code",
   "execution_count": 34,
   "metadata": {
    "_cell_guid": "785d3fa1-9ee5-4eec-a176-f450f86de9e8",
    "_uuid": "2b135971cfdd75176ea36b2ea05a530a5b009a54"
   },
   "outputs": [],
   "source": [
    "trace1 = {\n",
    "  \"x\": dataset['age'],\n",
    "  \"y\": dataset['fpl_points'],\n",
    "  \"marker\": {\n",
    "    \"color\": 'red',\n",
    "    \"colorsrc\": \"Aldemuro:22:1a1899\",\n",
    "  }, \n",
    "  \"mode\": \"markers\", \n",
    "  \"name\": \"fpl_points\", \n",
    "  \"text\": dataset['name']+\", Club:\"+dataset['club']+\", Pos:\"+dataset['position'],\n",
    "  \"type\": \"scatter\", \n",
    "  \"uid\": \"0d217c\", \n",
    "  \"xsrc\": \"Aldemuro:22:d61533\", \n",
    "  \"ysrc\": \"Aldemuro:22:1c3243\",\n",
    "  \n",
    "}"
   ]
  },
  {
   "cell_type": "code",
   "execution_count": 35,
   "metadata": {},
   "outputs": [],
   "source": [
    "data = [trace1]\n",
    "layout = {\n",
    "  \"autosize\": True, \n",
    "  \"hovermode\": \"closest\",\n",
    "  \"title\": \"Relation between FPL points and player age\",\n",
    "  \"xaxis\": {\n",
    "    \"autorange\": True, \n",
    "    \"range\": [3.48535752785, 13.0146424722], \n",
    "    \"title\": \"player age\", \n",
    "    \"type\": \"linear\"\n",
    "  }, \n",
    "  \"yaxis\": {\n",
    "    \"autorange\": True, \n",
    "    \"range\": [-17.5245518316, 281.524551832], \n",
    "    \"title\": \"fpl points\", \n",
    "    \"type\": \"linear\"\n",
    "  }\n",
    "}"
   ]
  },
  {
   "cell_type": "code",
   "execution_count": 36,
   "metadata": {},
   "outputs": [
    {
     "data": {
      "application/vnd.plotly.v1+json": {
       "config": {
        "linkText": "Export to plot.ly",
        "plotlyServerURL": "https://plot.ly",
        "showLink": false
       },
       "data": [
        {
         "marker": {
          "color": "red",
          "colorsrc": "Aldemuro:22:1a1899"
         },
         "mode": "markers",
         "name": "fpl_points",
         "text": [
          "Alexis Sanchez, Club:Arsenal, Pos:LW",
          "Mesut Ozil, Club:Arsenal, Pos:AM",
          "Petr Cech, Club:Arsenal, Pos:GK",
          "Theo Walcott, Club:Arsenal, Pos:RW",
          "Laurent Koscielny, Club:Arsenal, Pos:CB",
          "Hector Bellerin, Club:Arsenal, Pos:RB",
          "Olivier Giroud, Club:Arsenal, Pos:CF",
          "Nacho Monreal, Club:Arsenal, Pos:LB",
          "Shkodran Mustafi, Club:Arsenal, Pos:CB",
          "Alex Iwobi, Club:Arsenal, Pos:LW",
          "Granit Xhaka, Club:Arsenal, Pos:DM",
          "Alex Oxlade-Chamberlain, Club:Arsenal, Pos:RM",
          "Jack Wilshere, Club:Arsenal, Pos:CM",
          "Aaron Ramsey, Club:Arsenal, Pos:CM",
          "Francis Coquelin, Club:Arsenal, Pos:DM",
          "Gabriel Paulista, Club:Arsenal, Pos:CB",
          "Kieran Gibbs, Club:Arsenal, Pos:LB",
          "Santi Cazorla, Club:Arsenal, Pos:CM",
          "Danny Welbeck, Club:Arsenal, Pos:CF",
          "Rob Holding, Club:Arsenal, Pos:CB",
          "Mohamed Elneny, Club:Arsenal, Pos:DM",
          "Lucas Perez, Club:Arsenal, Pos:CF",
          "Emiliano Martinez, Club:Arsenal, Pos:GK",
          "David Ospina, Club:Arsenal, Pos:GK",
          "Carl Jenkinson, Club:Arsenal, Pos:RB",
          "Per Mertesacker, Club:Arsenal, Pos:CB",
          "Sead Kolasinac, Club:Arsenal, Pos:LB",
          "Alexandre Lacazette, Club:Arsenal, Pos:CF",
          "Joshua King, Club:Bournemouth, Pos:SS",
          "Jermain Defoe, Club:Bournemouth, Pos:CF",
          "Charlie Daniels, Club:Bournemouth, Pos:LB",
          "Artur Boruc, Club:Bournemouth, Pos:GK",
          "Steve Cook, Club:Bournemouth, Pos:CB",
          "Junior Stanislas, Club:Bournemouth, Pos:LW",
          "Adam Smith, Club:Bournemouth, Pos:RB",
          "Ryan Fraser, Club:Bournemouth, Pos:LW",
          "Simon Francis, Club:Bournemouth, Pos:RB",
          "Benik Afobe, Club:Bournemouth, Pos:CF",
          "Harry Arter, Club:Bournemouth, Pos:CM",
          "Marc Pugh, Club:Bournemouth, Pos:LW",
          "Callum Wilson, Club:Bournemouth, Pos:CF",
          "Nathan Ake, Club:Bournemouth, Pos:CB",
          "Dan Gosling, Club:Bournemouth, Pos:CM",
          "Andrew Surman, Club:Bournemouth, Pos:CM",
          "Jordon Ibe, Club:Bournemouth, Pos:RW",
          "Lewis Cook, Club:Bournemouth, Pos:CM",
          "Lys Mousset, Club:Bournemouth, Pos:CF",
          "Adam Federici, Club:Bournemouth, Pos:GK",
          "Max Gradel, Club:Bournemouth, Pos:LW",
          "Tyrone Mings, Club:Bournemouth, Pos:CB",
          "Brad Smith, Club:Bournemouth, Pos:LB",
          "Asmir Begovic, Club:Bournemouth, Pos:GK",
          "Niki Maenpaa, Club:Brighton+and+Hove, Pos:GK",
          "Mathew Ryan, Club:Brighton+and+Hove, Pos:GK",
          "Lewis Dunk, Club:Brighton+and+Hove, Pos:CB",
          "Shane Duffy, Club:Brighton+and+Hove, Pos:CB",
          "Uwe Hunemeier, Club:Brighton+and+Hove, Pos:CB",
          "Bruno, Club:Brighton+and+Hove, Pos:RB",
          "Gaetan Bong, Club:Brighton+and+Hove, Pos:LB",
          "Liam Rosenior, Club:Brighton+and+Hove, Pos:RB",
          "Connor Goldson, Club:Brighton+and+Hove, Pos:CB",
          "Markus Suttner, Club:Brighton+and+Hove, Pos:LB",
          "Anthony Knockaert, Club:Brighton+and+Hove, Pos:RW",
          "Dale Stephens, Club:Brighton+and+Hove, Pos:CM",
          "Beram Kayal, Club:Brighton+and+Hove, Pos:CM",
          "Steve Sidwell, Club:Brighton+and+Hove, Pos:CM",
          "Solly March, Club:Brighton+and+Hove, Pos:RM",
          "Jiri Skalak, Club:Brighton+and+Hove, Pos:LW",
          "Oliver Norwood, Club:Brighton+and+Hove, Pos:CM",
          "Jamie Murphy, Club:Brighton+and+Hove, Pos:LW",
          "Pascal Gross, Club:Brighton+and+Hove, Pos:CM",
          "Glenn Murray, Club:Brighton+and+Hove, Pos:CF",
          "Tomer Hemed, Club:Brighton+and+Hove, Pos:CF",
          "Sam Baldock, Club:Brighton+and+Hove, Pos:CF",
          "Tom Heaton, Club:Burnley, Pos:GK",
          "Sam Vokes, Club:Burnley, Pos:CF",
          "Andre Gray, Club:Burnley, Pos:CF",
          "Ben Mee, Club:Burnley, Pos:CB",
          "Stephen Ward, Club:Burnley, Pos:LB",
          "Matthew Lowton, Club:Burnley, Pos:RB",
          "Ashley Barnes, Club:Burnley, Pos:CF",
          "Jeff Hendrick, Club:Burnley, Pos:CM",
          "Scott Arfield, Club:Burnley, Pos:LM",
          "Steven Defour, Club:Burnley, Pos:CM",
          "Dean Marney, Club:Burnley, Pos:CM",
          "Jack Cork, Club:Burnley, Pos:DM",
          "Johann Berg Gudmundsson, Club:Burnley, Pos:RW",
          "Robbie Brady, Club:Burnley, Pos:LM",
          "James Tarkowski, Club:Burnley, Pos:CB",
          "Ashley Westwood, Club:Burnley, Pos:DM",
          "Kevin Long, Club:Burnley, Pos:CB",
          "Matthew Taylor, Club:Burnley, Pos:LM",
          "Eden Hazard, Club:Chelsea, Pos:LW",
          "Diego Costa, Club:Chelsea, Pos:CF",
          "Gary Cahill, Club:Chelsea, Pos:CB",
          "Marcos Alonso Mendoza, Club:Chelsea, Pos:LB",
          "Cesar Azpilicueta, Club:Chelsea, Pos:RB",
          "Pedro, Club:Chelsea, Pos:RW",
          "Thibaut Courtois, Club:Chelsea, Pos:GK",
          "David Luiz, Club:Chelsea, Pos:CB",
          "Cesc Fabregas, Club:Chelsea, Pos:CM",
          "Willian, Club:Chelsea, Pos:RW",
          "Victor Moses, Club:Chelsea, Pos:RM",
          "Nemanja Matic, Club:Chelsea, Pos:DM",
          "N%27Golo Kante, Club:Chelsea, Pos:DM",
          "Willy Caballero, Club:Chelsea, Pos:GK",
          "Michy Batshuayi, Club:Chelsea, Pos:CF",
          "Kurt Zouma, Club:Chelsea, Pos:CB",
          "Kenedy, Club:Chelsea, Pos:LB",
          "Eduardo Carvalho, Club:Chelsea, Pos:LW",
          "Antonio Rudiger, Club:Chelsea, Pos:CB",
          "Tiemoue Bakayoko, Club:Chelsea, Pos:DM",
          "Wilfried Zaha, Club:Crystal+Palace, Pos:RW",
          "Christian Benteke, Club:Crystal+Palace, Pos:CF",
          "Andros Townsend, Club:Crystal+Palace, Pos:RW",
          "Patrick van Aanholt, Club:Crystal+Palace, Pos:LB",
          "James McArthur, Club:Crystal+Palace, Pos:CM",
          "Wayne Hennessey, Club:Crystal+Palace, Pos:GK",
          "Jason Puncheon, Club:Crystal+Palace, Pos:AM",
          "Yohan Cabaye, Club:Crystal+Palace, Pos:CM",
          "Joel Ward, Club:Crystal+Palace, Pos:RB",
          "James Tomkins, Club:Crystal+Palace, Pos:CB",
          "Scott Dann, Club:Crystal+Palace, Pos:CB",
          "Damien Delaney, Club:Crystal+Palace, Pos:CB",
          "Jeffrey Schlupp, Club:Crystal+Palace, Pos:LB",
          "Martin Kelly, Club:Crystal+Palace, Pos:RB",
          "Luka Milivojevic, Club:Crystal+Palace, Pos:DM",
          "Lee Chung-yong, Club:Crystal+Palace, Pos:RW",
          "Connor Wickham, Club:Crystal+Palace, Pos:CF",
          "Bakary Sako, Club:Crystal+Palace, Pos:LW",
          "Pape Souare, Club:Crystal+Palace, Pos:LB",
          "Ruben Loftus-Cheek, Club:Crystal+Palace, Pos:CM",
          "Julian Speroni, Club:Crystal+Palace, Pos:GK",
          "Ross Barkley, Club:Everton, Pos:AM",
          "Leighton Baines, Club:Everton, Pos:LB",
          "Seamus Coleman, Club:Everton, Pos:RB",
          "Ashley Williams, Club:Everton, Pos:CB",
          "Kevin Mirallas, Club:Everton, Pos:RW",
          "Michael Keane, Club:Everton, Pos:CB",
          "Phil Jagielka, Club:Everton, Pos:CB",
          "Jordan Pickford, Club:Everton, Pos:GK",
          "Joel Robles, Club:Everton, Pos:GK",
          "Idrissa Gueye, Club:Everton, Pos:CM",
          "Wayne Rooney, Club:Everton, Pos:SS",
          "Ramiro Funes Mori, Club:Everton, Pos:CB",
          "Maarten Stekelenburg, Club:Everton, Pos:GK",
          "Gareth Barry, Club:Everton, Pos:DM",
          "Tom Davies, Club:Everton, Pos:CM",
          "Mason Holgate, Club:Everton, Pos:CB",
          "Yannick Bolasie, Club:Everton, Pos:LW",
          "Morgan Schneiderlin, Club:Everton, Pos:DM",
          "Cuco Martina, Club:Everton, Pos:RB",
          "James McCarthy, Club:Everton, Pos:CM",
          "Aaron Lennon, Club:Everton, Pos:RW",
          "Dominic Calvert-Lewin, Club:Everton, Pos:SS",
          "Ademola Lookman, Club:Everton, Pos:LW",
          "Matthew Pennington, Club:Everton, Pos:CB",
          "Jonjoe Kenny, Club:Everton, Pos:RB",
          "Muhamed Besic, Club:Everton, Pos:DM",
          "Davy Klaassen, Club:Everton, Pos:AM",
          "Sandro Ramirez, Club:Everton, Pos:CF",
          "Joel Coleman, Club:Huddersfield, Pos:GK",
          "Jonas Lossl, Club:Huddersfield, Pos:GK",
          "Christopher Schindler, Club:Huddersfield, Pos:CB",
          "Chris Lowe, Club:Huddersfield, Pos:LB",
          "Tommy Smith, Club:Huddersfield, Pos:RB",
          "Michael Hefele, Club:Huddersfield, Pos:CB",
          "Martin Cranie, Club:Huddersfield, Pos:CB",
          "Jon Gorenc Stankovic, Club:Huddersfield, Pos:CB",
          "Mark Hudson, Club:Huddersfield, Pos:CB",
          "Mathias Jorgensen, Club:Huddersfield, Pos:CB",
          "Scott Malone, Club:Huddersfield, Pos:LB",
          "Aaron Mooy, Club:Huddersfield, Pos:CM",
          "Rajiv van La Parra, Club:Huddersfield, Pos:LW",
          "Jonathan Hogg, Club:Huddersfield, Pos:CM",
          "Philip Billing, Club:Huddersfield, Pos:CM",
          "Joe Lolley, Club:Huddersfield, Pos:RW",
          "Jack Payne, Club:Huddersfield, Pos:CM",
          "Dean Whitehead, Club:Huddersfield, Pos:CM",
          "Harry Bunn, Club:Huddersfield, Pos:LW",
          "Sean Scannell, Club:Huddersfield, Pos:RW",
          "Elias Kachunga, Club:Huddersfield, Pos:RW",
          "Tom Ince, Club:Huddersfield, Pos:RW",
          "Kasey Palmer, Club:Huddersfield, Pos:AM",
          "Andy Williams, Club:Huddersfield, Pos:CB",
          "Nahki Wells, Club:Huddersfield, Pos:CF",
          "Collin Quaner, Club:Huddersfield, Pos:CF",
          "Laurent Depoitre, Club:Huddersfield, Pos:CF",
          "Steve Mounie, Club:Huddersfield, Pos:CF",
          "Jamie Vardy, Club:Leicester+City, Pos:CF",
          "Riyad Mahrez, Club:Leicester+City, Pos:RW",
          "Kasper Schmeichel, Club:Leicester+City, Pos:GK",
          "Christian Fuchs, Club:Leicester+City, Pos:LB",
          "Marc Albrighton, Club:Leicester+City, Pos:LM",
          "Robert Huth, Club:Leicester+City, Pos:CB",
          "Danny Simpson, Club:Leicester+City, Pos:RB",
          "Islam Slimani, Club:Leicester+City, Pos:CF",
          "Harry Maguire, Club:Leicester+City, Pos:CB",
          "Danny Drinkwater, Club:Leicester+City, Pos:CM",
          "Wes Morgan, Club:Leicester+City, Pos:CB",
          "Shinji Okazaki, Club:Leicester+City, Pos:CF",
          "Wilfred Ndidi, Club:Leicester+City, Pos:DM",
          "Demarai Gray, Club:Leicester+City, Pos:LW",
          "Daniel Amartey, Club:Leicester+City, Pos:DM",
          "Andy King, Club:Leicester+City, Pos:CM",
          "Ahmed Musa, Club:Leicester+City, Pos:CF",
          "Yohan Benalouane, Club:Leicester+City, Pos:CB",
          "Leonardo Ulloa, Club:Leicester+City, Pos:CF",
          "Ben Chilwell, Club:Leicester+City, Pos:LB",
          "Nampalys Mendy, Club:Leicester+City, Pos:DM",
          "Ben Hamer, Club:Leicester+City, Pos:GK",
          "Molla Wague, Club:Leicester+City, Pos:CB",
          "Vicente Iborra, Club:Leicester+City, Pos:DM",
          "Roberto Firmino, Club:Liverpool, Pos:SS",
          "Philippe Coutinho, Club:Liverpool, Pos:AM",
          "Sadio Mane, Club:Liverpool, Pos:LW",
          "Georginio Wijnaldum, Club:Liverpool, Pos:CM",
          "James Milner, Club:Liverpool, Pos:CM",
          "Adam Lallana, Club:Liverpool, Pos:AM",
          "Nathaniel Clyne, Club:Liverpool, Pos:RB",
          "Simon Mignolet, Club:Liverpool, Pos:GK",
          "Dejan Lovren, Club:Liverpool, Pos:CB",
          "Emre Can, Club:Liverpool, Pos:DM",
          "Joel Matip, Club:Liverpool, Pos:CB",
          "Divock Origi, Club:Liverpool, Pos:CF",
          "Jordan Henderson, Club:Liverpool, Pos:CM",
          "Daniel Sturridge, Club:Liverpool, Pos:CF",
          "Lucas Leiva, Club:Liverpool, Pos:DM",
          "Ragnar Klavan, Club:Liverpool, Pos:CB",
          "Mamadou Sakho, Club:Liverpool, Pos:CB",
          "Loris Karius, Club:Liverpool, Pos:GK",
          "Trent Alexander-Arnold, Club:Liverpool, Pos:RB",
          "Alberto Moreno, Club:Liverpool, Pos:LB",
          "Ben Woodburn, Club:Liverpool, Pos:LW",
          "Marko Grujic, Club:Liverpool, Pos:CM",
          "Joe Gomez, Club:Liverpool, Pos:CB",
          "Sheyi Ojo, Club:Liverpool, Pos:LW",
          "Mohamed Salah, Club:Liverpool, Pos:RW",
          "Danny Ings, Club:Liverpool, Pos:CF",
          "Dominic Solanke, Club:Liverpool, Pos:CF",
          "Kevin De Bruyne, Club:Manchester+City, Pos:AM",
          "Sergio Aguero, Club:Manchester+City, Pos:CF",
          "Raheem Sterling, Club:Manchester+City, Pos:LW",
          "Kyle Walker, Club:Manchester+City, Pos:RB",
          "David Silva, Club:Manchester+City, Pos:AM",
          "Leroy Sane, Club:Manchester+City, Pos:LW",
          "Nicolas Otamendi, Club:Manchester+City, Pos:CB",
          "Aleksandar Kolarov, Club:Manchester+City, Pos:LB",
          "Yaya Toure, Club:Manchester+City, Pos:CM",
          "Fernandinho, Club:Manchester+City, Pos:DM",
          "Claudio Bravo, Club:Manchester+City, Pos:GK",
          "Gabriel Jesus, Club:Manchester+City, Pos:CF",
          "John Stones, Club:Manchester+City, Pos:CB",
          "Vincent Kompany, Club:Manchester+City, Pos:CB",
          "Kelechi Iheanacho, Club:Manchester+City, Pos:CF",
          "Ilkay Gundogan, Club:Manchester+City, Pos:CM",
          "Fernando, Club:Manchester+City, Pos:DM",
          "Fabian Delph, Club:Manchester+City, Pos:CM",
          "Ederson Moraes, Club:Manchester+City, Pos:GK",
          "Bernardo Silva, Club:Manchester+City, Pos:RW",
          "Romelu Lukaku, Club:Manchester+United, Pos:CF",
          "David de Gea, Club:Manchester+United, Pos:GK",
          "Antonio Valencia, Club:Manchester+United, Pos:RB",
          "Paul Pogba, Club:Manchester+United, Pos:CM",
          "Eric Bailly, Club:Manchester+United, Pos:CB",
          "Juan Mata, Club:Manchester+United, Pos:AM",
          "Daley Blind, Club:Manchester+United, Pos:LB",
          "Ander Herrera, Club:Manchester+United, Pos:CM",
          "Anthony Martial, Club:Manchester+United, Pos:CF",
          "Marcos Rojo, Club:Manchester+United, Pos:CB",
          "Marcus Rashford, Club:Manchester+United, Pos:CF",
          "Henrikh Mkhitaryan, Club:Manchester+United, Pos:AM",
          "Matteo Darmian, Club:Manchester+United, Pos:RB",
          "Jesse Lingard, Club:Manchester+United, Pos:LW",
          "Phil Jones, Club:Manchester+United, Pos:CB",
          "Chris Smalling, Club:Manchester+United, Pos:CB",
          "Marouane Fellaini, Club:Manchester+United, Pos:CM",
          "Luke Shaw, Club:Manchester+United, Pos:LB",
          "Michael Carrick, Club:Manchester+United, Pos:DM",
          "Ashley Young, Club:Manchester+United, Pos:LM",
          "Sergio Romero, Club:Manchester+United, Pos:GK",
          "Axel Tuanzebe, Club:Manchester+United, Pos:CB",
          "Timothy Fosu-Mensah, Club:Manchester+United, Pos:DM",
          "Joel Castro Pereira, Club:Manchester+United, Pos:GK",
          "Victor Lindelof, Club:Manchester+United, Pos:CB",
          "Rob Elliot, Club:Newcastle+United, Pos:GK",
          "Karl Darlow, Club:Newcastle+United, Pos:GK",
          "DeAndre Yedlin, Club:Newcastle+United, Pos:RB",
          "Ciaran Clark, Club:Newcastle+United, Pos:CB",
          "Lascelles, Club:Newcastle+United, Pos:CB",
          "Paul Dummett, Club:Newcastle+United, Pos:LB",
          "Grant Hanley, Club:Newcastle+United, Pos:CB",
          "Jesus Gamez, Club:Newcastle+United, Pos:RB",
          "Florian Lejeune, Club:Newcastle+United, Pos:CB",
          "Massadio Haidara, Club:Newcastle+United, Pos:LB",
          "Matt Ritchie, Club:Newcastle+United, Pos:RM",
          "Jonjo Shelvey, Club:Newcastle+United, Pos:CM",
          "Mohamed Diame, Club:Newcastle+United, Pos:CM",
          "Jack Colback, Club:Newcastle+United, Pos:DM",
          "Christian Atsu, Club:Newcastle+United, Pos:RW",
          "Siem de Jong, Club:Newcastle+United, Pos:AM",
          "Rolando Aarons, Club:Newcastle+United, Pos:LW",
          "Dwight Gayle, Club:Newcastle+United, Pos:CF",
          "Ayoze Perez, Club:Newcastle+United, Pos:SS",
          "Aleksandar Mitrovic, Club:Newcastle+United, Pos:CF",
          "Daryl Murphy, Club:Newcastle+United, Pos:CF",
          "Fraser Forster, Club:Southampton, Pos:GK",
          "Nathan Redmond, Club:Southampton, Pos:RW",
          "Ryan Bertrand, Club:Southampton, Pos:LB",
          "DuÅ¡an TadiÄ‡, Club:Southampton, Pos:LW",
          "Cedric Soares, Club:Southampton, Pos:RB",
          "James Ward-Prowse, Club:Southampton, Pos:CM",
          "Oriol Romeu, Club:Southampton, Pos:DM",
          "Maya Yoshida, Club:Southampton, Pos:CB",
          "Steven Davis, Club:Southampton, Pos:CM",
          "Virgil van Dijk, Club:Southampton, Pos:CB",
          "Charlie Austin, Club:Southampton, Pos:CF",
          "Jack Stephens, Club:Southampton, Pos:CB",
          "Shane Long, Club:Southampton, Pos:CF",
          "Sofiane Boufal, Club:Southampton, Pos:AM",
          "Jordy Clasie, Club:Southampton, Pos:DM",
          "Pierre-Emile Hojbjerg, Club:Southampton, Pos:CM",
          "Manolo Gabbiadini, Club:Southampton, Pos:CF",
          "Sam McQueen, Club:Southampton, Pos:LM",
          "Matt Targett, Club:Southampton, Pos:LB",
          "Josh Sims, Club:Southampton, Pos:RW",
          "Jeremy Pied, Club:Southampton, Pos:RM",
          "Jason McCarthy, Club:Southampton, Pos:CB",
          "Jan Bednarek, Club:Southampton, Pos:CB",
          "Joe Allen, Club:Stoke+City, Pos:CM",
          "Marko ArnautoviÄ‡, Club:Stoke+City, Pos:LW",
          "Lee Grant, Club:Stoke+City, Pos:GK",
          "Erik Pieters, Club:Stoke+City, Pos:LB",
          "Steven Fletcher, Club:Stoke+City, Pos:CF",
          "Ryan Shawcross, Club:Stoke+City, Pos:CB",
          "Xherdan Shaqiri, Club:Stoke+City, Pos:RW",
          "Peter Crouch, Club:Stoke+City, Pos:CF",
          "Glenn Whelan, Club:Stoke+City, Pos:DM",
          "Charlie Adam, Club:Stoke+City, Pos:CM",
          "Geoff Cameron, Club:Stoke+City, Pos:CB",
          "Glen Johnson, Club:Stoke+City, Pos:RB",
          "Mame Biram Diouf, Club:Stoke+City, Pos:CF",
          "Ramadan Sobhi, Club:Stoke+City, Pos:LW",
          "Marc Muniesa, Club:Stoke+City, Pos:CB",
          "Bojan KrkiÄ‡, Club:Stoke+City, Pos:SS",
          "Phil Bardsley, Club:Stoke+City, Pos:RB",
          "Saido Berahino, Club:Stoke+City, Pos:CF",
          "Giannelli Imbula, Club:Stoke+City, Pos:DM",
          "Jack Butland, Club:Stoke+City, Pos:GK",
          "Ibrahim Afellay, Club:Stoke+City, Pos:LM",
          "Josh Tymon, Club:Stoke+City, Pos:LB",
          "Gylfi Sigurdsson, Club:Swansea, Pos:AM",
          "Fernando Llorente, Club:Swansea, Pos:CF",
          "Åukasz FabiaÅ„ski, Club:Swansea, Pos:GK",
          "Leroy Fer, Club:Swansea, Pos:CM",
          "Alfie Mawson, Club:Swansea, Pos:CB",
          "Kyle Naughton, Club:Swansea, Pos:RB",
          "Wayne Routledge, Club:Swansea, Pos:LW",
          "Federico Fernandez, Club:Swansea, Pos:CB",
          "Martin Olsson, Club:Swansea, Pos:LB",
          "Tom Carroll, Club:Swansea, Pos:CM",
          "Ki Sung-yueng, Club:Swansea, Pos:DM",
          "Jordan Ayew, Club:Swansea, Pos:CF",
          "Modou Barrow, Club:Swansea, Pos:RW",
          "Leon Britton, Club:Swansea, Pos:CM",
          "Stephen Kingsley, Club:Swansea, Pos:LB",
          "Ã€ngel Rangel, Club:Swansea, Pos:RB",
          "Luciano Narsingh, Club:Swansea, Pos:RW",
          "Jay Fulton, Club:Swansea, Pos:CM",
          "Jefferson Montero, Club:Swansea, Pos:LW",
          "Mike van der Hoorn, Club:Swansea, Pos:CB",
          "Nathan Dyer, Club:Swansea, Pos:RW",
          "Oliver McBurnie, Club:Swansea, Pos:CF",
          "Kristoffer Nordfeldt, Club:Swansea, Pos:GK",
          "Roque Mesa, Club:Swansea, Pos:CM",
          "Tammy Abraham, Club:Swansea, Pos:CF",
          "Dele Alli, Club:Tottenham, Pos:CM",
          "Harry Kane, Club:Tottenham, Pos:CF",
          "Christian Eriksen, Club:Tottenham, Pos:AM",
          "Son Heung-min, Club:Tottenham, Pos:LW",
          "Hugo Lloris, Club:Tottenham, Pos:GK",
          "Jan Vertonghen, Club:Tottenham, Pos:CB",
          "Toby Alderweireld, Club:Tottenham, Pos:CB",
          "Victor Wanyama, Club:Tottenham, Pos:DM",
          "Eric Dier, Club:Tottenham, Pos:DM",
          "Ben Davies, Club:Tottenham, Pos:LB",
          "Danny Rose, Club:Tottenham, Pos:LB",
          "Mousa Dembele, Club:Tottenham, Pos:CM",
          "Vincent Janssen, Club:Tottenham, Pos:CF",
          "Kieran Trippier, Club:Tottenham, Pos:RB",
          "Moussa Sissokho, Club:Tottenham, Pos:CM",
          "Harry Winks, Club:Tottenham, Pos:CM",
          "Erik Lamela, Club:Tottenham, Pos:RW",
          "Michel Vorm, Club:Tottenham, Pos:GK",
          "Georges-Kevin N%27Koudou, Club:Tottenham, Pos:LW",
          "Kevin Wimmer, Club:Tottenham, Pos:CB",
          "Ã‰tienne Capoue, Club:Watford, Pos:DM",
          "Troy Deeney, Club:Watford, Pos:CF",
          "Heurelho Gomes, Club:Watford, Pos:GK",
          "Jose Holebas, Club:Watford, Pos:LB",
          "Miguel Britos, Club:Watford, Pos:CB",
          "Sebastian Prodl, Club:Watford, Pos:CB",
          "Nordin Amrabat, Club:Watford, Pos:LW",
          "YounÃ¨s Kaboul, Club:Watford, Pos:CB",
          "Tom Cleverley, Club:Watford, Pos:CM",
          "Daryl Janmaat, Club:Watford, Pos:RB",
          "Valon Behrami, Club:Watford, Pos:DM",
          "Roberto Pereyra, Club:Watford, Pos:AM",
          "Stefano Okaka, Club:Watford, Pos:CF",
          "Abdoulaye Doucoure, Club:Watford, Pos:CM",
          "Kabasele, Club:Watford, Pos:CB",
          "Craig Cathcart, Club:Watford, Pos:CB",
          "Isaac Success, Club:Watford, Pos:LW",
          "Adrian Mariappa, Club:Watford, Pos:CB",
          "Nathaniel Chalobah, Club:Watford, Pos:DM",
          "Mauro Zarate, Club:Watford, Pos:SS",
          "Costel Pantilimon, Club:Watford, Pos:GK",
          "Kiko Femenia, Club:Watford, Pos:RB",
          "Steven Berghuis, Club:Watford, Pos:RW",
          "Will Hughes, Club:Watford, Pos:CM",
          "Gareth McAuley, Club:West+Brom, Pos:CB",
          "Salomon Rondon, Club:West+Brom, Pos:CF",
          "Matt Phillips, Club:West+Brom, Pos:RW",
          "Ben Foster, Club:West+Brom, Pos:GK",
          "Nacer Chadli, Club:West+Brom, Pos:LW",
          "Craig Dawson, Club:West+Brom, Pos:RB",
          "Chris Brunt, Club:West+Brom, Pos:LM",
          "James Morrison, Club:West+Brom, Pos:CM",
          "Jonny Evans, Club:West+Brom, Pos:CB",
          "Jake Livermore, Club:West+Brom, Pos:DM",
          "Allan Nyom, Club:West+Brom, Pos:RB",
          "Jay Rodriguez, Club:West+Brom, Pos:CF",
          "Claudio Yacob, Club:West+Brom, Pos:DM",
          "James McClean, Club:West+Brom, Pos:LW",
          "Hal Robson-Kanu, Club:West+Brom, Pos:LW",
          "Jonathan Leko, Club:West+Brom, Pos:RW",
          "Sam Field, Club:West+Brom, Pos:CM",
          "Boaz Myhill, Club:West+Brom, Pos:GK",
          "Ahmed Hegazy, Club:West+Brom, Pos:CB",
          "Robert Snodgrass, Club:West+Ham, Pos:RW",
          "Manuel Lanzini, Club:West+Ham, Pos:AM",
          "Michail Antonio, Club:West+Ham, Pos:RW",
          "Winston Reid, Club:West+Ham, Pos:CB",
          "Jose Fonte, Club:West+Ham, Pos:CB",
          "Andre Ayew, Club:West+Ham, Pos:LW",
          "Cheikhou Kouyate, Club:West+Ham, Pos:DM",
          "Mark Noble, Club:West+Ham, Pos:CM",
          "Darren Randolph, Club:West+Ham, Pos:GK",
          "James Collins, Club:West+Ham, Pos:CB",
          "Andy Carroll, Club:West+Ham, Pos:CF",
          "Adrian, Club:West+Ham, Pos:GK",
          "Aaron Cresswell, Club:West+Ham, Pos:LB",
          "Pedro Obiang, Club:West+Ham, Pos:CM",
          "Sofiane Feghouli, Club:West+Ham, Pos:RW",
          "Angelo Ogbonna, Club:West+Ham, Pos:CB",
          "Pablo Zabaleta, Club:West+Ham, Pos:RB",
          "Edimilson Fernandes, Club:West+Ham, Pos:CM",
          "Arthur Masuaku, Club:West+Ham, Pos:LB",
          "Sam Byram, Club:West+Ham, Pos:RB",
          "Ashley Fletcher, Club:West+Ham, Pos:CF",
          "Diafra Sakho, Club:West+Ham, Pos:CF"
         ],
         "type": "scatter",
         "uid": "0d217c",
         "x": [
          28,
          28,
          35,
          28,
          31,
          22,
          30,
          31,
          25,
          21,
          24,
          23,
          25,
          26,
          26,
          26,
          27,
          32,
          26,
          21,
          25,
          28,
          24,
          28,
          25,
          32,
          24,
          26,
          25,
          34,
          30,
          37,
          26,
          27,
          26,
          23,
          32,
          24,
          27,
          30,
          25,
          22,
          27,
          30,
          21,
          20,
          21,
          32,
          29,
          24,
          23,
          30,
          32,
          25,
          25,
          25,
          31,
          36,
          29,
          33,
          24,
          30,
          25,
          27,
          29,
          34,
          23,
          25,
          26,
          27,
          26,
          33,
          30,
          28,
          31,
          27,
          26,
          27,
          31,
          28,
          27,
          25,
          28,
          29,
          33,
          28,
          26,
          25,
          24,
          27,
          26,
          35,
          26,
          28,
          31,
          26,
          27,
          29,
          25,
          30,
          30,
          28,
          26,
          28,
          26,
          35,
          23,
          22,
          21,
          34,
          24,
          22,
          24,
          26,
          26,
          26,
          29,
          30,
          31,
          31,
          27,
          28,
          30,
          36,
          24,
          27,
          26,
          29,
          24,
          29,
          27,
          21,
          38,
          23,
          32,
          28,
          32,
          29,
          24,
          34,
          23,
          27,
          27,
          31,
          26,
          34,
          36,
          19,
          20,
          28,
          27,
          27,
          26,
          30,
          20,
          19,
          22,
          20,
          24,
          24,
          22,
          21,
          28,
          27,
          28,
          25,
          26,
          30,
          21,
          35,
          27,
          26,
          26,
          26,
          28,
          21,
          24,
          25,
          35,
          24,
          26,
          25,
          25,
          20,
          26,
          27,
          26,
          28,
          22,
          30,
          26,
          30,
          31,
          27,
          32,
          30,
          29,
          24,
          27,
          33,
          31,
          20,
          21,
          22,
          28,
          24,
          30,
          30,
          20,
          25,
          29,
          26,
          29,
          25,
          25,
          25,
          26,
          31,
          29,
          26,
          29,
          28,
          23,
          25,
          22,
          27,
          27,
          30,
          31,
          27,
          24,
          18,
          25,
          17,
          21,
          20,
          20,
          25,
          24,
          19,
          26,
          29,
          22,
          27,
          31,
          21,
          29,
          31,
          34,
          32,
          34,
          20,
          23,
          31,
          20,
          26,
          32,
          27,
          23,
          22,
          24,
          26,
          31,
          24,
          23,
          29,
          27,
          27,
          21,
          27,
          19,
          28,
          27,
          24,
          25,
          27,
          29,
          22,
          35,
          32,
          30,
          19,
          19,
          21,
          23,
          31,
          26,
          24,
          27,
          27,
          25,
          25,
          32,
          26,
          24,
          27,
          25,
          30,
          27,
          25,
          28,
          21,
          26,
          23,
          22,
          34,
          29,
          23,
          27,
          28,
          25,
          22,
          25,
          28,
          32,
          26,
          28,
          23,
          30,
          23,
          26,
          21,
          25,
          22,
          21,
          20,
          28,
          21,
          21,
          27,
          28,
          34,
          28,
          30,
          29,
          25,
          36,
          33,
          31,
          32,
          32,
          29,
          20,
          25,
          26,
          32,
          23,
          24,
          24,
          31,
          18,
          27,
          32,
          32,
          27,
          23,
          28,
          32,
          28,
          29,
          25,
          28,
          25,
          24,
          34,
          22,
          34,
          26,
          23,
          27,
          24,
          29,
          21,
          28,
          28,
          19,
          21,
          23,
          25,
          25,
          30,
          30,
          28,
          26,
          23,
          24,
          27,
          30,
          23,
          26,
          27,
          21,
          25,
          33,
          22,
          24,
          29,
          29,
          36,
          33,
          32,
          30,
          30,
          31,
          27,
          27,
          32,
          26,
          27,
          24,
          26,
          28,
          21,
          30,
          22,
          30,
          30,
          26,
          25,
          22,
          37,
          27,
          26,
          34,
          27,
          27,
          32,
          31,
          29,
          27,
          29,
          27,
          30,
          28,
          28,
          18,
          19,
          34,
          26,
          29,
          24,
          27,
          29,
          33,
          27,
          27,
          30,
          30,
          33,
          28,
          30,
          27,
          25,
          27,
          29,
          32,
          21,
          23,
          23,
          21,
          27
         ],
         "xsrc": "Aldemuro:22:d61533",
         "y": [
          264,
          167,
          134,
          122,
          121,
          119,
          116,
          115,
          90,
          89,
          85,
          83,
          61,
          56,
          52,
          45,
          45,
          38,
          37,
          32,
          26,
          20,
          8,
          2,
          2,
          1,
          0,
          0,
          178,
          166,
          134,
          120,
          112,
          107,
          104,
          100,
          89,
          88,
          84,
          64,
          63,
          55,
          49,
          44,
          36,
          17,
          14,
          8,
          8,
          4,
          4,
          2,
          0,
          0,
          0,
          0,
          0,
          0,
          0,
          0,
          0,
          0,
          0,
          0,
          0,
          0,
          0,
          0,
          0,
          0,
          0,
          0,
          0,
          0,
          149,
          121,
          108,
          94,
          91,
          90,
          81,
          76,
          69,
          54,
          51,
          50,
          47,
          39,
          23,
          13,
          3,
          0,
          224,
          196,
          178,
          177,
          170,
          162,
          141,
          132,
          121,
          114,
          105,
          105,
          83,
          64,
          48,
          15,
          3,
          0,
          0,
          0,
          149,
          136,
          116,
          98,
          93,
          92,
          92,
          91,
          86,
          75,
          61,
          51,
          47,
          46,
          42,
          24,
          18,
          7,
          6,
          6,
          0,
          144,
          135,
          133,
          127,
          119,
          113,
          104,
          102,
          89,
          80,
          76,
          69,
          68,
          68,
          63,
          54,
          45,
          37,
          31,
          23,
          22,
          17,
          16,
          9,
          1,
          0,
          0,
          0,
          0,
          0,
          0,
          0,
          0,
          0,
          0,
          0,
          0,
          0,
          0,
          0,
          0,
          0,
          0,
          0,
          0,
          0,
          0,
          0,
          0,
          0,
          0,
          0,
          0,
          0,
          0,
          0,
          161,
          120,
          109,
          104,
          95,
          88,
          85,
          83,
          71,
          69,
          63,
          63,
          59,
          58,
          53,
          41,
          39,
          27,
          24,
          19,
          6,
          0,
          0,
          0,
          180,
          171,
          156,
          149,
          139,
          139,
          129,
          110,
          106,
          104,
          97,
          96,
          73,
          54,
          47,
          43,
          35,
          32,
          15,
          8,
          5,
          4,
          0,
          0,
          0,
          0,
          0,
          199,
          175,
          149,
          142,
          130,
          105,
          100,
          95,
          86,
          78,
          73,
          67,
          59,
          57,
          52,
          41,
          18,
          13,
          0,
          0,
          221,
          136,
          120,
          115,
          105,
          102,
          98,
          97,
          95,
          77,
          76,
          73,
          70,
          60,
          55,
          52,
          48,
          45,
          42,
          26,
          23,
          14,
          9,
          6,
          0,
          0,
          0,
          0,
          0,
          0,
          0,
          0,
          0,
          0,
          0,
          0,
          0,
          0,
          0,
          0,
          0,
          0,
          0,
          0,
          0,
          0,
          134,
          126,
          123,
          108,
          102,
          92,
          80,
          78,
          77,
          75,
          62,
          60,
          57,
          40,
          38,
          38,
          38,
          23,
          12,
          12,
          5,
          0,
          0,
          118,
          117,
          106,
          103,
          103,
          94,
          80,
          79,
          62,
          59,
          58,
          56,
          51,
          36,
          34,
          30,
          27,
          26,
          24,
          20,
          15,
          9,
          181,
          146,
          116,
          95,
          94,
          82,
          74,
          63,
          52,
          52,
          41,
          39,
          34,
          32,
          29,
          26,
          25,
          19,
          18,
          16,
          12,
          5,
          3,
          0,
          0,
          225,
          224,
          218,
          174,
          143,
          126,
          120,
          103,
          93,
          90,
          84,
          76,
          55,
          51,
          43,
          30,
          28,
          17,
          8,
          2,
          131,
          130,
          113,
          87,
          71,
          67,
          65,
          57,
          55,
          50,
          48,
          43,
          43,
          38,
          35,
          31,
          28,
          15,
          12,
          8,
          2,
          0,
          0,
          0,
          131,
          118,
          115,
          113,
          110,
          102,
          99,
          84,
          79,
          77,
          74,
          73,
          54,
          52,
          52,
          12,
          9,
          0,
          0,
          133,
          133,
          132,
          102,
          98,
          89,
          79,
          71,
          69,
          69,
          69,
          64,
          60,
          55,
          55,
          45,
          45,
          38,
          34,
          29,
          16,
          12
         ],
         "ysrc": "Aldemuro:22:1c3243"
        }
       ],
       "layout": {
        "autosize": true,
        "hovermode": "closest",
        "template": {
         "data": {
          "bar": [
           {
            "error_x": {
             "color": "#2a3f5f"
            },
            "error_y": {
             "color": "#2a3f5f"
            },
            "marker": {
             "line": {
              "color": "#E5ECF6",
              "width": 0.5
             }
            },
            "type": "bar"
           }
          ],
          "barpolar": [
           {
            "marker": {
             "line": {
              "color": "#E5ECF6",
              "width": 0.5
             }
            },
            "type": "barpolar"
           }
          ],
          "carpet": [
           {
            "aaxis": {
             "endlinecolor": "#2a3f5f",
             "gridcolor": "white",
             "linecolor": "white",
             "minorgridcolor": "white",
             "startlinecolor": "#2a3f5f"
            },
            "baxis": {
             "endlinecolor": "#2a3f5f",
             "gridcolor": "white",
             "linecolor": "white",
             "minorgridcolor": "white",
             "startlinecolor": "#2a3f5f"
            },
            "type": "carpet"
           }
          ],
          "choropleth": [
           {
            "colorbar": {
             "outlinewidth": 0,
             "ticks": ""
            },
            "type": "choropleth"
           }
          ],
          "contour": [
           {
            "colorbar": {
             "outlinewidth": 0,
             "ticks": ""
            },
            "colorscale": [
             [
              0,
              "#0d0887"
             ],
             [
              0.1111111111111111,
              "#46039f"
             ],
             [
              0.2222222222222222,
              "#7201a8"
             ],
             [
              0.3333333333333333,
              "#9c179e"
             ],
             [
              0.4444444444444444,
              "#bd3786"
             ],
             [
              0.5555555555555556,
              "#d8576b"
             ],
             [
              0.6666666666666666,
              "#ed7953"
             ],
             [
              0.7777777777777778,
              "#fb9f3a"
             ],
             [
              0.8888888888888888,
              "#fdca26"
             ],
             [
              1,
              "#f0f921"
             ]
            ],
            "type": "contour"
           }
          ],
          "contourcarpet": [
           {
            "colorbar": {
             "outlinewidth": 0,
             "ticks": ""
            },
            "type": "contourcarpet"
           }
          ],
          "heatmap": [
           {
            "colorbar": {
             "outlinewidth": 0,
             "ticks": ""
            },
            "colorscale": [
             [
              0,
              "#0d0887"
             ],
             [
              0.1111111111111111,
              "#46039f"
             ],
             [
              0.2222222222222222,
              "#7201a8"
             ],
             [
              0.3333333333333333,
              "#9c179e"
             ],
             [
              0.4444444444444444,
              "#bd3786"
             ],
             [
              0.5555555555555556,
              "#d8576b"
             ],
             [
              0.6666666666666666,
              "#ed7953"
             ],
             [
              0.7777777777777778,
              "#fb9f3a"
             ],
             [
              0.8888888888888888,
              "#fdca26"
             ],
             [
              1,
              "#f0f921"
             ]
            ],
            "type": "heatmap"
           }
          ],
          "heatmapgl": [
           {
            "colorbar": {
             "outlinewidth": 0,
             "ticks": ""
            },
            "colorscale": [
             [
              0,
              "#0d0887"
             ],
             [
              0.1111111111111111,
              "#46039f"
             ],
             [
              0.2222222222222222,
              "#7201a8"
             ],
             [
              0.3333333333333333,
              "#9c179e"
             ],
             [
              0.4444444444444444,
              "#bd3786"
             ],
             [
              0.5555555555555556,
              "#d8576b"
             ],
             [
              0.6666666666666666,
              "#ed7953"
             ],
             [
              0.7777777777777778,
              "#fb9f3a"
             ],
             [
              0.8888888888888888,
              "#fdca26"
             ],
             [
              1,
              "#f0f921"
             ]
            ],
            "type": "heatmapgl"
           }
          ],
          "histogram": [
           {
            "marker": {
             "colorbar": {
              "outlinewidth": 0,
              "ticks": ""
             }
            },
            "type": "histogram"
           }
          ],
          "histogram2d": [
           {
            "colorbar": {
             "outlinewidth": 0,
             "ticks": ""
            },
            "colorscale": [
             [
              0,
              "#0d0887"
             ],
             [
              0.1111111111111111,
              "#46039f"
             ],
             [
              0.2222222222222222,
              "#7201a8"
             ],
             [
              0.3333333333333333,
              "#9c179e"
             ],
             [
              0.4444444444444444,
              "#bd3786"
             ],
             [
              0.5555555555555556,
              "#d8576b"
             ],
             [
              0.6666666666666666,
              "#ed7953"
             ],
             [
              0.7777777777777778,
              "#fb9f3a"
             ],
             [
              0.8888888888888888,
              "#fdca26"
             ],
             [
              1,
              "#f0f921"
             ]
            ],
            "type": "histogram2d"
           }
          ],
          "histogram2dcontour": [
           {
            "colorbar": {
             "outlinewidth": 0,
             "ticks": ""
            },
            "colorscale": [
             [
              0,
              "#0d0887"
             ],
             [
              0.1111111111111111,
              "#46039f"
             ],
             [
              0.2222222222222222,
              "#7201a8"
             ],
             [
              0.3333333333333333,
              "#9c179e"
             ],
             [
              0.4444444444444444,
              "#bd3786"
             ],
             [
              0.5555555555555556,
              "#d8576b"
             ],
             [
              0.6666666666666666,
              "#ed7953"
             ],
             [
              0.7777777777777778,
              "#fb9f3a"
             ],
             [
              0.8888888888888888,
              "#fdca26"
             ],
             [
              1,
              "#f0f921"
             ]
            ],
            "type": "histogram2dcontour"
           }
          ],
          "mesh3d": [
           {
            "colorbar": {
             "outlinewidth": 0,
             "ticks": ""
            },
            "type": "mesh3d"
           }
          ],
          "parcoords": [
           {
            "line": {
             "colorbar": {
              "outlinewidth": 0,
              "ticks": ""
             }
            },
            "type": "parcoords"
           }
          ],
          "pie": [
           {
            "automargin": true,
            "type": "pie"
           }
          ],
          "scatter": [
           {
            "marker": {
             "colorbar": {
              "outlinewidth": 0,
              "ticks": ""
             }
            },
            "type": "scatter"
           }
          ],
          "scatter3d": [
           {
            "line": {
             "colorbar": {
              "outlinewidth": 0,
              "ticks": ""
             }
            },
            "marker": {
             "colorbar": {
              "outlinewidth": 0,
              "ticks": ""
             }
            },
            "type": "scatter3d"
           }
          ],
          "scattercarpet": [
           {
            "marker": {
             "colorbar": {
              "outlinewidth": 0,
              "ticks": ""
             }
            },
            "type": "scattercarpet"
           }
          ],
          "scattergeo": [
           {
            "marker": {
             "colorbar": {
              "outlinewidth": 0,
              "ticks": ""
             }
            },
            "type": "scattergeo"
           }
          ],
          "scattergl": [
           {
            "marker": {
             "colorbar": {
              "outlinewidth": 0,
              "ticks": ""
             }
            },
            "type": "scattergl"
           }
          ],
          "scattermapbox": [
           {
            "marker": {
             "colorbar": {
              "outlinewidth": 0,
              "ticks": ""
             }
            },
            "type": "scattermapbox"
           }
          ],
          "scatterpolar": [
           {
            "marker": {
             "colorbar": {
              "outlinewidth": 0,
              "ticks": ""
             }
            },
            "type": "scatterpolar"
           }
          ],
          "scatterpolargl": [
           {
            "marker": {
             "colorbar": {
              "outlinewidth": 0,
              "ticks": ""
             }
            },
            "type": "scatterpolargl"
           }
          ],
          "scatterternary": [
           {
            "marker": {
             "colorbar": {
              "outlinewidth": 0,
              "ticks": ""
             }
            },
            "type": "scatterternary"
           }
          ],
          "surface": [
           {
            "colorbar": {
             "outlinewidth": 0,
             "ticks": ""
            },
            "colorscale": [
             [
              0,
              "#0d0887"
             ],
             [
              0.1111111111111111,
              "#46039f"
             ],
             [
              0.2222222222222222,
              "#7201a8"
             ],
             [
              0.3333333333333333,
              "#9c179e"
             ],
             [
              0.4444444444444444,
              "#bd3786"
             ],
             [
              0.5555555555555556,
              "#d8576b"
             ],
             [
              0.6666666666666666,
              "#ed7953"
             ],
             [
              0.7777777777777778,
              "#fb9f3a"
             ],
             [
              0.8888888888888888,
              "#fdca26"
             ],
             [
              1,
              "#f0f921"
             ]
            ],
            "type": "surface"
           }
          ],
          "table": [
           {
            "cells": {
             "fill": {
              "color": "#EBF0F8"
             },
             "line": {
              "color": "white"
             }
            },
            "header": {
             "fill": {
              "color": "#C8D4E3"
             },
             "line": {
              "color": "white"
             }
            },
            "type": "table"
           }
          ]
         },
         "layout": {
          "annotationdefaults": {
           "arrowcolor": "#2a3f5f",
           "arrowhead": 0,
           "arrowwidth": 1
          },
          "coloraxis": {
           "colorbar": {
            "outlinewidth": 0,
            "ticks": ""
           }
          },
          "colorscale": {
           "diverging": [
            [
             0,
             "#8e0152"
            ],
            [
             0.1,
             "#c51b7d"
            ],
            [
             0.2,
             "#de77ae"
            ],
            [
             0.3,
             "#f1b6da"
            ],
            [
             0.4,
             "#fde0ef"
            ],
            [
             0.5,
             "#f7f7f7"
            ],
            [
             0.6,
             "#e6f5d0"
            ],
            [
             0.7,
             "#b8e186"
            ],
            [
             0.8,
             "#7fbc41"
            ],
            [
             0.9,
             "#4d9221"
            ],
            [
             1,
             "#276419"
            ]
           ],
           "sequential": [
            [
             0,
             "#0d0887"
            ],
            [
             0.1111111111111111,
             "#46039f"
            ],
            [
             0.2222222222222222,
             "#7201a8"
            ],
            [
             0.3333333333333333,
             "#9c179e"
            ],
            [
             0.4444444444444444,
             "#bd3786"
            ],
            [
             0.5555555555555556,
             "#d8576b"
            ],
            [
             0.6666666666666666,
             "#ed7953"
            ],
            [
             0.7777777777777778,
             "#fb9f3a"
            ],
            [
             0.8888888888888888,
             "#fdca26"
            ],
            [
             1,
             "#f0f921"
            ]
           ],
           "sequentialminus": [
            [
             0,
             "#0d0887"
            ],
            [
             0.1111111111111111,
             "#46039f"
            ],
            [
             0.2222222222222222,
             "#7201a8"
            ],
            [
             0.3333333333333333,
             "#9c179e"
            ],
            [
             0.4444444444444444,
             "#bd3786"
            ],
            [
             0.5555555555555556,
             "#d8576b"
            ],
            [
             0.6666666666666666,
             "#ed7953"
            ],
            [
             0.7777777777777778,
             "#fb9f3a"
            ],
            [
             0.8888888888888888,
             "#fdca26"
            ],
            [
             1,
             "#f0f921"
            ]
           ]
          },
          "colorway": [
           "#636efa",
           "#EF553B",
           "#00cc96",
           "#ab63fa",
           "#FFA15A",
           "#19d3f3",
           "#FF6692",
           "#B6E880",
           "#FF97FF",
           "#FECB52"
          ],
          "font": {
           "color": "#2a3f5f"
          },
          "geo": {
           "bgcolor": "white",
           "lakecolor": "white",
           "landcolor": "#E5ECF6",
           "showlakes": true,
           "showland": true,
           "subunitcolor": "white"
          },
          "hoverlabel": {
           "align": "left"
          },
          "hovermode": "closest",
          "mapbox": {
           "style": "light"
          },
          "paper_bgcolor": "white",
          "plot_bgcolor": "#E5ECF6",
          "polar": {
           "angularaxis": {
            "gridcolor": "white",
            "linecolor": "white",
            "ticks": ""
           },
           "bgcolor": "#E5ECF6",
           "radialaxis": {
            "gridcolor": "white",
            "linecolor": "white",
            "ticks": ""
           }
          },
          "scene": {
           "xaxis": {
            "backgroundcolor": "#E5ECF6",
            "gridcolor": "white",
            "gridwidth": 2,
            "linecolor": "white",
            "showbackground": true,
            "ticks": "",
            "zerolinecolor": "white"
           },
           "yaxis": {
            "backgroundcolor": "#E5ECF6",
            "gridcolor": "white",
            "gridwidth": 2,
            "linecolor": "white",
            "showbackground": true,
            "ticks": "",
            "zerolinecolor": "white"
           },
           "zaxis": {
            "backgroundcolor": "#E5ECF6",
            "gridcolor": "white",
            "gridwidth": 2,
            "linecolor": "white",
            "showbackground": true,
            "ticks": "",
            "zerolinecolor": "white"
           }
          },
          "shapedefaults": {
           "line": {
            "color": "#2a3f5f"
           }
          },
          "ternary": {
           "aaxis": {
            "gridcolor": "white",
            "linecolor": "white",
            "ticks": ""
           },
           "baxis": {
            "gridcolor": "white",
            "linecolor": "white",
            "ticks": ""
           },
           "bgcolor": "#E5ECF6",
           "caxis": {
            "gridcolor": "white",
            "linecolor": "white",
            "ticks": ""
           }
          },
          "title": {
           "x": 0.05
          },
          "xaxis": {
           "automargin": true,
           "gridcolor": "white",
           "linecolor": "white",
           "ticks": "",
           "title": {
            "standoff": 15
           },
           "zerolinecolor": "white",
           "zerolinewidth": 2
          },
          "yaxis": {
           "automargin": true,
           "gridcolor": "white",
           "linecolor": "white",
           "ticks": "",
           "title": {
            "standoff": 15
           },
           "zerolinecolor": "white",
           "zerolinewidth": 2
          }
         }
        },
        "title": {
         "text": "Relation between FPL points and player age"
        },
        "xaxis": {
         "autorange": true,
         "range": [
          3.48535752785,
          13.0146424722
         ],
         "title": {
          "text": "player age"
         },
         "type": "linear"
        },
        "yaxis": {
         "autorange": true,
         "range": [
          -17.5245518316,
          281.524551832
         ],
         "title": {
          "text": "fpl points"
         },
         "type": "linear"
        }
       }
      },
      "text/html": [
       "<div>                            <div id=\"5474455f-5f7f-4ffa-9454-a2a010e616e7\" class=\"plotly-graph-div\" style=\"height:525px; width:100%;\"></div>            <script type=\"text/javascript\">                require([\"plotly\"], function(Plotly) {                    window.PLOTLYENV=window.PLOTLYENV || {};                                    if (document.getElementById(\"5474455f-5f7f-4ffa-9454-a2a010e616e7\")) {                    Plotly.newPlot(                        \"5474455f-5f7f-4ffa-9454-a2a010e616e7\",                        [{\"marker\": {\"color\": \"red\", \"colorsrc\": \"Aldemuro:22:1a1899\"}, \"mode\": \"markers\", \"name\": \"fpl_points\", \"text\": [\"Alexis Sanchez, Club:Arsenal, Pos:LW\", \"Mesut Ozil, Club:Arsenal, Pos:AM\", \"Petr Cech, Club:Arsenal, Pos:GK\", \"Theo Walcott, Club:Arsenal, Pos:RW\", \"Laurent Koscielny, Club:Arsenal, Pos:CB\", \"Hector Bellerin, Club:Arsenal, Pos:RB\", \"Olivier Giroud, Club:Arsenal, Pos:CF\", \"Nacho Monreal, Club:Arsenal, Pos:LB\", \"Shkodran Mustafi, Club:Arsenal, Pos:CB\", \"Alex Iwobi, Club:Arsenal, Pos:LW\", \"Granit Xhaka, Club:Arsenal, Pos:DM\", \"Alex Oxlade-Chamberlain, Club:Arsenal, Pos:RM\", \"Jack Wilshere, Club:Arsenal, Pos:CM\", \"Aaron Ramsey, Club:Arsenal, Pos:CM\", \"Francis Coquelin, Club:Arsenal, Pos:DM\", \"Gabriel Paulista, Club:Arsenal, Pos:CB\", \"Kieran Gibbs, Club:Arsenal, Pos:LB\", \"Santi Cazorla, Club:Arsenal, Pos:CM\", \"Danny Welbeck, Club:Arsenal, Pos:CF\", \"Rob Holding, Club:Arsenal, Pos:CB\", \"Mohamed Elneny, Club:Arsenal, Pos:DM\", \"Lucas Perez, Club:Arsenal, Pos:CF\", \"Emiliano Martinez, Club:Arsenal, Pos:GK\", \"David Ospina, Club:Arsenal, Pos:GK\", \"Carl Jenkinson, Club:Arsenal, Pos:RB\", \"Per Mertesacker, Club:Arsenal, Pos:CB\", \"Sead Kolasinac, Club:Arsenal, Pos:LB\", \"Alexandre Lacazette, Club:Arsenal, Pos:CF\", \"Joshua King, Club:Bournemouth, Pos:SS\", \"Jermain Defoe, Club:Bournemouth, Pos:CF\", \"Charlie Daniels, Club:Bournemouth, Pos:LB\", \"Artur Boruc, Club:Bournemouth, Pos:GK\", \"Steve Cook, Club:Bournemouth, Pos:CB\", \"Junior Stanislas, Club:Bournemouth, Pos:LW\", \"Adam Smith, Club:Bournemouth, Pos:RB\", \"Ryan Fraser, Club:Bournemouth, Pos:LW\", \"Simon Francis, Club:Bournemouth, Pos:RB\", \"Benik Afobe, Club:Bournemouth, Pos:CF\", \"Harry Arter, Club:Bournemouth, Pos:CM\", \"Marc Pugh, Club:Bournemouth, Pos:LW\", \"Callum Wilson, Club:Bournemouth, Pos:CF\", \"Nathan Ake, Club:Bournemouth, Pos:CB\", \"Dan Gosling, Club:Bournemouth, Pos:CM\", \"Andrew Surman, Club:Bournemouth, Pos:CM\", \"Jordon Ibe, Club:Bournemouth, Pos:RW\", \"Lewis Cook, Club:Bournemouth, Pos:CM\", \"Lys Mousset, Club:Bournemouth, Pos:CF\", \"Adam Federici, Club:Bournemouth, Pos:GK\", \"Max Gradel, Club:Bournemouth, Pos:LW\", \"Tyrone Mings, Club:Bournemouth, Pos:CB\", \"Brad Smith, Club:Bournemouth, Pos:LB\", \"Asmir Begovic, Club:Bournemouth, Pos:GK\", \"Niki Maenpaa, Club:Brighton+and+Hove, Pos:GK\", \"Mathew Ryan, Club:Brighton+and+Hove, Pos:GK\", \"Lewis Dunk, Club:Brighton+and+Hove, Pos:CB\", \"Shane Duffy, Club:Brighton+and+Hove, Pos:CB\", \"Uwe Hunemeier, Club:Brighton+and+Hove, Pos:CB\", \"Bruno, Club:Brighton+and+Hove, Pos:RB\", \"Gaetan Bong, Club:Brighton+and+Hove, Pos:LB\", \"Liam Rosenior, Club:Brighton+and+Hove, Pos:RB\", \"Connor Goldson, Club:Brighton+and+Hove, Pos:CB\", \"Markus Suttner, Club:Brighton+and+Hove, Pos:LB\", \"Anthony Knockaert, Club:Brighton+and+Hove, Pos:RW\", \"Dale Stephens, Club:Brighton+and+Hove, Pos:CM\", \"Beram Kayal, Club:Brighton+and+Hove, Pos:CM\", \"Steve Sidwell, Club:Brighton+and+Hove, Pos:CM\", \"Solly March, Club:Brighton+and+Hove, Pos:RM\", \"Jiri Skalak, Club:Brighton+and+Hove, Pos:LW\", \"Oliver Norwood, Club:Brighton+and+Hove, Pos:CM\", \"Jamie Murphy, Club:Brighton+and+Hove, Pos:LW\", \"Pascal Gross, Club:Brighton+and+Hove, Pos:CM\", \"Glenn Murray, Club:Brighton+and+Hove, Pos:CF\", \"Tomer Hemed, Club:Brighton+and+Hove, Pos:CF\", \"Sam Baldock, Club:Brighton+and+Hove, Pos:CF\", \"Tom Heaton, Club:Burnley, Pos:GK\", \"Sam Vokes, Club:Burnley, Pos:CF\", \"Andre Gray, Club:Burnley, Pos:CF\", \"Ben Mee, Club:Burnley, Pos:CB\", \"Stephen Ward, Club:Burnley, Pos:LB\", \"Matthew Lowton, Club:Burnley, Pos:RB\", \"Ashley Barnes, Club:Burnley, Pos:CF\", \"Jeff Hendrick, Club:Burnley, Pos:CM\", \"Scott Arfield, Club:Burnley, Pos:LM\", \"Steven Defour, Club:Burnley, Pos:CM\", \"Dean Marney, Club:Burnley, Pos:CM\", \"Jack Cork, Club:Burnley, Pos:DM\", \"Johann Berg Gudmundsson, Club:Burnley, Pos:RW\", \"Robbie Brady, Club:Burnley, Pos:LM\", \"James Tarkowski, Club:Burnley, Pos:CB\", \"Ashley Westwood, Club:Burnley, Pos:DM\", \"Kevin Long, Club:Burnley, Pos:CB\", \"Matthew Taylor, Club:Burnley, Pos:LM\", \"Eden Hazard, Club:Chelsea, Pos:LW\", \"Diego Costa, Club:Chelsea, Pos:CF\", \"Gary Cahill, Club:Chelsea, Pos:CB\", \"Marcos Alonso Mendoza, Club:Chelsea, Pos:LB\", \"Cesar Azpilicueta, Club:Chelsea, Pos:RB\", \"Pedro, Club:Chelsea, Pos:RW\", \"Thibaut Courtois, Club:Chelsea, Pos:GK\", \"David Luiz, Club:Chelsea, Pos:CB\", \"Cesc Fabregas, Club:Chelsea, Pos:CM\", \"Willian, Club:Chelsea, Pos:RW\", \"Victor Moses, Club:Chelsea, Pos:RM\", \"Nemanja Matic, Club:Chelsea, Pos:DM\", \"N%27Golo Kante, Club:Chelsea, Pos:DM\", \"Willy Caballero, Club:Chelsea, Pos:GK\", \"Michy Batshuayi, Club:Chelsea, Pos:CF\", \"Kurt Zouma, Club:Chelsea, Pos:CB\", \"Kenedy, Club:Chelsea, Pos:LB\", \"Eduardo Carvalho, Club:Chelsea, Pos:LW\", \"Antonio Rudiger, Club:Chelsea, Pos:CB\", \"Tiemoue Bakayoko, Club:Chelsea, Pos:DM\", \"Wilfried Zaha, Club:Crystal+Palace, Pos:RW\", \"Christian Benteke, Club:Crystal+Palace, Pos:CF\", \"Andros Townsend, Club:Crystal+Palace, Pos:RW\", \"Patrick van Aanholt, Club:Crystal+Palace, Pos:LB\", \"James McArthur, Club:Crystal+Palace, Pos:CM\", \"Wayne Hennessey, Club:Crystal+Palace, Pos:GK\", \"Jason Puncheon, Club:Crystal+Palace, Pos:AM\", \"Yohan Cabaye, Club:Crystal+Palace, Pos:CM\", \"Joel Ward, Club:Crystal+Palace, Pos:RB\", \"James Tomkins, Club:Crystal+Palace, Pos:CB\", \"Scott Dann, Club:Crystal+Palace, Pos:CB\", \"Damien Delaney, Club:Crystal+Palace, Pos:CB\", \"Jeffrey Schlupp, Club:Crystal+Palace, Pos:LB\", \"Martin Kelly, Club:Crystal+Palace, Pos:RB\", \"Luka Milivojevic, Club:Crystal+Palace, Pos:DM\", \"Lee Chung-yong, Club:Crystal+Palace, Pos:RW\", \"Connor Wickham, Club:Crystal+Palace, Pos:CF\", \"Bakary Sako, Club:Crystal+Palace, Pos:LW\", \"Pape Souare, Club:Crystal+Palace, Pos:LB\", \"Ruben Loftus-Cheek, Club:Crystal+Palace, Pos:CM\", \"Julian Speroni, Club:Crystal+Palace, Pos:GK\", \"Ross Barkley, Club:Everton, Pos:AM\", \"Leighton Baines, Club:Everton, Pos:LB\", \"Seamus Coleman, Club:Everton, Pos:RB\", \"Ashley Williams, Club:Everton, Pos:CB\", \"Kevin Mirallas, Club:Everton, Pos:RW\", \"Michael Keane, Club:Everton, Pos:CB\", \"Phil Jagielka, Club:Everton, Pos:CB\", \"Jordan Pickford, Club:Everton, Pos:GK\", \"Joel Robles, Club:Everton, Pos:GK\", \"Idrissa Gueye, Club:Everton, Pos:CM\", \"Wayne Rooney, Club:Everton, Pos:SS\", \"Ramiro Funes Mori, Club:Everton, Pos:CB\", \"Maarten Stekelenburg, Club:Everton, Pos:GK\", \"Gareth Barry, Club:Everton, Pos:DM\", \"Tom Davies, Club:Everton, Pos:CM\", \"Mason Holgate, Club:Everton, Pos:CB\", \"Yannick Bolasie, Club:Everton, Pos:LW\", \"Morgan Schneiderlin, Club:Everton, Pos:DM\", \"Cuco Martina, Club:Everton, Pos:RB\", \"James McCarthy, Club:Everton, Pos:CM\", \"Aaron Lennon, Club:Everton, Pos:RW\", \"Dominic Calvert-Lewin, Club:Everton, Pos:SS\", \"Ademola Lookman, Club:Everton, Pos:LW\", \"Matthew Pennington, Club:Everton, Pos:CB\", \"Jonjoe Kenny, Club:Everton, Pos:RB\", \"Muhamed Besic, Club:Everton, Pos:DM\", \"Davy Klaassen, Club:Everton, Pos:AM\", \"Sandro Ramirez, Club:Everton, Pos:CF\", \"Joel Coleman, Club:Huddersfield, Pos:GK\", \"Jonas Lossl, Club:Huddersfield, Pos:GK\", \"Christopher Schindler, Club:Huddersfield, Pos:CB\", \"Chris Lowe, Club:Huddersfield, Pos:LB\", \"Tommy Smith, Club:Huddersfield, Pos:RB\", \"Michael Hefele, Club:Huddersfield, Pos:CB\", \"Martin Cranie, Club:Huddersfield, Pos:CB\", \"Jon Gorenc Stankovic, Club:Huddersfield, Pos:CB\", \"Mark Hudson, Club:Huddersfield, Pos:CB\", \"Mathias Jorgensen, Club:Huddersfield, Pos:CB\", \"Scott Malone, Club:Huddersfield, Pos:LB\", \"Aaron Mooy, Club:Huddersfield, Pos:CM\", \"Rajiv van La Parra, Club:Huddersfield, Pos:LW\", \"Jonathan Hogg, Club:Huddersfield, Pos:CM\", \"Philip Billing, Club:Huddersfield, Pos:CM\", \"Joe Lolley, Club:Huddersfield, Pos:RW\", \"Jack Payne, Club:Huddersfield, Pos:CM\", \"Dean Whitehead, Club:Huddersfield, Pos:CM\", \"Harry Bunn, Club:Huddersfield, Pos:LW\", \"Sean Scannell, Club:Huddersfield, Pos:RW\", \"Elias Kachunga, Club:Huddersfield, Pos:RW\", \"Tom Ince, Club:Huddersfield, Pos:RW\", \"Kasey Palmer, Club:Huddersfield, Pos:AM\", \"Andy Williams, Club:Huddersfield, Pos:CB\", \"Nahki Wells, Club:Huddersfield, Pos:CF\", \"Collin Quaner, Club:Huddersfield, Pos:CF\", \"Laurent Depoitre, Club:Huddersfield, Pos:CF\", \"Steve Mounie, Club:Huddersfield, Pos:CF\", \"Jamie Vardy, Club:Leicester+City, Pos:CF\", \"Riyad Mahrez, Club:Leicester+City, Pos:RW\", \"Kasper Schmeichel, Club:Leicester+City, Pos:GK\", \"Christian Fuchs, Club:Leicester+City, Pos:LB\", \"Marc Albrighton, Club:Leicester+City, Pos:LM\", \"Robert Huth, Club:Leicester+City, Pos:CB\", \"Danny Simpson, Club:Leicester+City, Pos:RB\", \"Islam Slimani, Club:Leicester+City, Pos:CF\", \"Harry Maguire, Club:Leicester+City, Pos:CB\", \"Danny Drinkwater, Club:Leicester+City, Pos:CM\", \"Wes Morgan, Club:Leicester+City, Pos:CB\", \"Shinji Okazaki, Club:Leicester+City, Pos:CF\", \"Wilfred Ndidi, Club:Leicester+City, Pos:DM\", \"Demarai Gray, Club:Leicester+City, Pos:LW\", \"Daniel Amartey, Club:Leicester+City, Pos:DM\", \"Andy King, Club:Leicester+City, Pos:CM\", \"Ahmed Musa, Club:Leicester+City, Pos:CF\", \"Yohan Benalouane, Club:Leicester+City, Pos:CB\", \"Leonardo Ulloa, Club:Leicester+City, Pos:CF\", \"Ben Chilwell, Club:Leicester+City, Pos:LB\", \"Nampalys Mendy, Club:Leicester+City, Pos:DM\", \"Ben Hamer, Club:Leicester+City, Pos:GK\", \"Molla Wague, Club:Leicester+City, Pos:CB\", \"Vicente Iborra, Club:Leicester+City, Pos:DM\", \"Roberto Firmino, Club:Liverpool, Pos:SS\", \"Philippe Coutinho, Club:Liverpool, Pos:AM\", \"Sadio Mane, Club:Liverpool, Pos:LW\", \"Georginio Wijnaldum, Club:Liverpool, Pos:CM\", \"James Milner, Club:Liverpool, Pos:CM\", \"Adam Lallana, Club:Liverpool, Pos:AM\", \"Nathaniel Clyne, Club:Liverpool, Pos:RB\", \"Simon Mignolet, Club:Liverpool, Pos:GK\", \"Dejan Lovren, Club:Liverpool, Pos:CB\", \"Emre Can, Club:Liverpool, Pos:DM\", \"Joel Matip, Club:Liverpool, Pos:CB\", \"Divock Origi, Club:Liverpool, Pos:CF\", \"Jordan Henderson, Club:Liverpool, Pos:CM\", \"Daniel Sturridge, Club:Liverpool, Pos:CF\", \"Lucas Leiva, Club:Liverpool, Pos:DM\", \"Ragnar Klavan, Club:Liverpool, Pos:CB\", \"Mamadou Sakho, Club:Liverpool, Pos:CB\", \"Loris Karius, Club:Liverpool, Pos:GK\", \"Trent Alexander-Arnold, Club:Liverpool, Pos:RB\", \"Alberto Moreno, Club:Liverpool, Pos:LB\", \"Ben Woodburn, Club:Liverpool, Pos:LW\", \"Marko Grujic, Club:Liverpool, Pos:CM\", \"Joe Gomez, Club:Liverpool, Pos:CB\", \"Sheyi Ojo, Club:Liverpool, Pos:LW\", \"Mohamed Salah, Club:Liverpool, Pos:RW\", \"Danny Ings, Club:Liverpool, Pos:CF\", \"Dominic Solanke, Club:Liverpool, Pos:CF\", \"Kevin De Bruyne, Club:Manchester+City, Pos:AM\", \"Sergio Aguero, Club:Manchester+City, Pos:CF\", \"Raheem Sterling, Club:Manchester+City, Pos:LW\", \"Kyle Walker, Club:Manchester+City, Pos:RB\", \"David Silva, Club:Manchester+City, Pos:AM\", \"Leroy Sane, Club:Manchester+City, Pos:LW\", \"Nicolas Otamendi, Club:Manchester+City, Pos:CB\", \"Aleksandar Kolarov, Club:Manchester+City, Pos:LB\", \"Yaya Toure, Club:Manchester+City, Pos:CM\", \"Fernandinho, Club:Manchester+City, Pos:DM\", \"Claudio Bravo, Club:Manchester+City, Pos:GK\", \"Gabriel Jesus, Club:Manchester+City, Pos:CF\", \"John Stones, Club:Manchester+City, Pos:CB\", \"Vincent Kompany, Club:Manchester+City, Pos:CB\", \"Kelechi Iheanacho, Club:Manchester+City, Pos:CF\", \"Ilkay Gundogan, Club:Manchester+City, Pos:CM\", \"Fernando, Club:Manchester+City, Pos:DM\", \"Fabian Delph, Club:Manchester+City, Pos:CM\", \"Ederson Moraes, Club:Manchester+City, Pos:GK\", \"Bernardo Silva, Club:Manchester+City, Pos:RW\", \"Romelu Lukaku, Club:Manchester+United, Pos:CF\", \"David de Gea, Club:Manchester+United, Pos:GK\", \"Antonio Valencia, Club:Manchester+United, Pos:RB\", \"Paul Pogba, Club:Manchester+United, Pos:CM\", \"Eric Bailly, Club:Manchester+United, Pos:CB\", \"Juan Mata, Club:Manchester+United, Pos:AM\", \"Daley Blind, Club:Manchester+United, Pos:LB\", \"Ander Herrera, Club:Manchester+United, Pos:CM\", \"Anthony Martial, Club:Manchester+United, Pos:CF\", \"Marcos Rojo, Club:Manchester+United, Pos:CB\", \"Marcus Rashford, Club:Manchester+United, Pos:CF\", \"Henrikh Mkhitaryan, Club:Manchester+United, Pos:AM\", \"Matteo Darmian, Club:Manchester+United, Pos:RB\", \"Jesse Lingard, Club:Manchester+United, Pos:LW\", \"Phil Jones, Club:Manchester+United, Pos:CB\", \"Chris Smalling, Club:Manchester+United, Pos:CB\", \"Marouane Fellaini, Club:Manchester+United, Pos:CM\", \"Luke Shaw, Club:Manchester+United, Pos:LB\", \"Michael Carrick, Club:Manchester+United, Pos:DM\", \"Ashley Young, Club:Manchester+United, Pos:LM\", \"Sergio Romero, Club:Manchester+United, Pos:GK\", \"Axel Tuanzebe, Club:Manchester+United, Pos:CB\", \"Timothy Fosu-Mensah, Club:Manchester+United, Pos:DM\", \"Joel Castro Pereira, Club:Manchester+United, Pos:GK\", \"Victor Lindelof, Club:Manchester+United, Pos:CB\", \"Rob Elliot, Club:Newcastle+United, Pos:GK\", \"Karl Darlow, Club:Newcastle+United, Pos:GK\", \"DeAndre Yedlin, Club:Newcastle+United, Pos:RB\", \"Ciaran Clark, Club:Newcastle+United, Pos:CB\", \"Lascelles, Club:Newcastle+United, Pos:CB\", \"Paul Dummett, Club:Newcastle+United, Pos:LB\", \"Grant Hanley, Club:Newcastle+United, Pos:CB\", \"Jesus Gamez, Club:Newcastle+United, Pos:RB\", \"Florian Lejeune, Club:Newcastle+United, Pos:CB\", \"Massadio Haidara, Club:Newcastle+United, Pos:LB\", \"Matt Ritchie, Club:Newcastle+United, Pos:RM\", \"Jonjo Shelvey, Club:Newcastle+United, Pos:CM\", \"Mohamed Diame, Club:Newcastle+United, Pos:CM\", \"Jack Colback, Club:Newcastle+United, Pos:DM\", \"Christian Atsu, Club:Newcastle+United, Pos:RW\", \"Siem de Jong, Club:Newcastle+United, Pos:AM\", \"Rolando Aarons, Club:Newcastle+United, Pos:LW\", \"Dwight Gayle, Club:Newcastle+United, Pos:CF\", \"Ayoze Perez, Club:Newcastle+United, Pos:SS\", \"Aleksandar Mitrovic, Club:Newcastle+United, Pos:CF\", \"Daryl Murphy, Club:Newcastle+United, Pos:CF\", \"Fraser Forster, Club:Southampton, Pos:GK\", \"Nathan Redmond, Club:Southampton, Pos:RW\", \"Ryan Bertrand, Club:Southampton, Pos:LB\", \"Du\\u00c5\\u00a1an Tadi\\u00c4\\u2021, Club:Southampton, Pos:LW\", \"Cedric Soares, Club:Southampton, Pos:RB\", \"James Ward-Prowse, Club:Southampton, Pos:CM\", \"Oriol Romeu, Club:Southampton, Pos:DM\", \"Maya Yoshida, Club:Southampton, Pos:CB\", \"Steven Davis, Club:Southampton, Pos:CM\", \"Virgil van Dijk, Club:Southampton, Pos:CB\", \"Charlie Austin, Club:Southampton, Pos:CF\", \"Jack Stephens, Club:Southampton, Pos:CB\", \"Shane Long, Club:Southampton, Pos:CF\", \"Sofiane Boufal, Club:Southampton, Pos:AM\", \"Jordy Clasie, Club:Southampton, Pos:DM\", \"Pierre-Emile Hojbjerg, Club:Southampton, Pos:CM\", \"Manolo Gabbiadini, Club:Southampton, Pos:CF\", \"Sam McQueen, Club:Southampton, Pos:LM\", \"Matt Targett, Club:Southampton, Pos:LB\", \"Josh Sims, Club:Southampton, Pos:RW\", \"Jeremy Pied, Club:Southampton, Pos:RM\", \"Jason McCarthy, Club:Southampton, Pos:CB\", \"Jan Bednarek, Club:Southampton, Pos:CB\", \"Joe Allen, Club:Stoke+City, Pos:CM\", \"Marko Arnautovi\\u00c4\\u2021, Club:Stoke+City, Pos:LW\", \"Lee Grant, Club:Stoke+City, Pos:GK\", \"Erik Pieters, Club:Stoke+City, Pos:LB\", \"Steven Fletcher, Club:Stoke+City, Pos:CF\", \"Ryan Shawcross, Club:Stoke+City, Pos:CB\", \"Xherdan Shaqiri, Club:Stoke+City, Pos:RW\", \"Peter Crouch, Club:Stoke+City, Pos:CF\", \"Glenn Whelan, Club:Stoke+City, Pos:DM\", \"Charlie Adam, Club:Stoke+City, Pos:CM\", \"Geoff Cameron, Club:Stoke+City, Pos:CB\", \"Glen Johnson, Club:Stoke+City, Pos:RB\", \"Mame Biram Diouf, Club:Stoke+City, Pos:CF\", \"Ramadan Sobhi, Club:Stoke+City, Pos:LW\", \"Marc Muniesa, Club:Stoke+City, Pos:CB\", \"Bojan Krki\\u00c4\\u2021, Club:Stoke+City, Pos:SS\", \"Phil Bardsley, Club:Stoke+City, Pos:RB\", \"Saido Berahino, Club:Stoke+City, Pos:CF\", \"Giannelli Imbula, Club:Stoke+City, Pos:DM\", \"Jack Butland, Club:Stoke+City, Pos:GK\", \"Ibrahim Afellay, Club:Stoke+City, Pos:LM\", \"Josh Tymon, Club:Stoke+City, Pos:LB\", \"Gylfi Sigurdsson, Club:Swansea, Pos:AM\", \"Fernando Llorente, Club:Swansea, Pos:CF\", \"\\u00c5\\u0081ukasz Fabia\\u00c5\\u201eski, Club:Swansea, Pos:GK\", \"Leroy Fer, Club:Swansea, Pos:CM\", \"Alfie Mawson, Club:Swansea, Pos:CB\", \"Kyle Naughton, Club:Swansea, Pos:RB\", \"Wayne Routledge, Club:Swansea, Pos:LW\", \"Federico Fernandez, Club:Swansea, Pos:CB\", \"Martin Olsson, Club:Swansea, Pos:LB\", \"Tom Carroll, Club:Swansea, Pos:CM\", \"Ki Sung-yueng, Club:Swansea, Pos:DM\", \"Jordan Ayew, Club:Swansea, Pos:CF\", \"Modou Barrow, Club:Swansea, Pos:RW\", \"Leon Britton, Club:Swansea, Pos:CM\", \"Stephen Kingsley, Club:Swansea, Pos:LB\", \"\\u00c3\\u20acngel Rangel, Club:Swansea, Pos:RB\", \"Luciano Narsingh, Club:Swansea, Pos:RW\", \"Jay Fulton, Club:Swansea, Pos:CM\", \"Jefferson Montero, Club:Swansea, Pos:LW\", \"Mike van der Hoorn, Club:Swansea, Pos:CB\", \"Nathan Dyer, Club:Swansea, Pos:RW\", \"Oliver McBurnie, Club:Swansea, Pos:CF\", \"Kristoffer Nordfeldt, Club:Swansea, Pos:GK\", \"Roque Mesa, Club:Swansea, Pos:CM\", \"Tammy Abraham, Club:Swansea, Pos:CF\", \"Dele Alli, Club:Tottenham, Pos:CM\", \"Harry Kane, Club:Tottenham, Pos:CF\", \"Christian Eriksen, Club:Tottenham, Pos:AM\", \"Son Heung-min, Club:Tottenham, Pos:LW\", \"Hugo Lloris, Club:Tottenham, Pos:GK\", \"Jan Vertonghen, Club:Tottenham, Pos:CB\", \"Toby Alderweireld, Club:Tottenham, Pos:CB\", \"Victor Wanyama, Club:Tottenham, Pos:DM\", \"Eric Dier, Club:Tottenham, Pos:DM\", \"Ben Davies, Club:Tottenham, Pos:LB\", \"Danny Rose, Club:Tottenham, Pos:LB\", \"Mousa Dembele, Club:Tottenham, Pos:CM\", \"Vincent Janssen, Club:Tottenham, Pos:CF\", \"Kieran Trippier, Club:Tottenham, Pos:RB\", \"Moussa Sissokho, Club:Tottenham, Pos:CM\", \"Harry Winks, Club:Tottenham, Pos:CM\", \"Erik Lamela, Club:Tottenham, Pos:RW\", \"Michel Vorm, Club:Tottenham, Pos:GK\", \"Georges-Kevin N%27Koudou, Club:Tottenham, Pos:LW\", \"Kevin Wimmer, Club:Tottenham, Pos:CB\", \"\\u00c3\\u2030tienne Capoue, Club:Watford, Pos:DM\", \"Troy Deeney, Club:Watford, Pos:CF\", \"Heurelho Gomes, Club:Watford, Pos:GK\", \"Jose Holebas, Club:Watford, Pos:LB\", \"Miguel Britos, Club:Watford, Pos:CB\", \"Sebastian Prodl, Club:Watford, Pos:CB\", \"Nordin Amrabat, Club:Watford, Pos:LW\", \"Youn\\u00c3\\u00a8s Kaboul, Club:Watford, Pos:CB\", \"Tom Cleverley, Club:Watford, Pos:CM\", \"Daryl Janmaat, Club:Watford, Pos:RB\", \"Valon Behrami, Club:Watford, Pos:DM\", \"Roberto Pereyra, Club:Watford, Pos:AM\", \"Stefano Okaka, Club:Watford, Pos:CF\", \"Abdoulaye Doucoure, Club:Watford, Pos:CM\", \"Kabasele, Club:Watford, Pos:CB\", \"Craig Cathcart, Club:Watford, Pos:CB\", \"Isaac Success, Club:Watford, Pos:LW\", \"Adrian Mariappa, Club:Watford, Pos:CB\", \"Nathaniel Chalobah, Club:Watford, Pos:DM\", \"Mauro Zarate, Club:Watford, Pos:SS\", \"Costel Pantilimon, Club:Watford, Pos:GK\", \"Kiko Femenia, Club:Watford, Pos:RB\", \"Steven Berghuis, Club:Watford, Pos:RW\", \"Will Hughes, Club:Watford, Pos:CM\", \"Gareth McAuley, Club:West+Brom, Pos:CB\", \"Salomon Rondon, Club:West+Brom, Pos:CF\", \"Matt Phillips, Club:West+Brom, Pos:RW\", \"Ben Foster, Club:West+Brom, Pos:GK\", \"Nacer Chadli, Club:West+Brom, Pos:LW\", \"Craig Dawson, Club:West+Brom, Pos:RB\", \"Chris Brunt, Club:West+Brom, Pos:LM\", \"James Morrison, Club:West+Brom, Pos:CM\", \"Jonny Evans, Club:West+Brom, Pos:CB\", \"Jake Livermore, Club:West+Brom, Pos:DM\", \"Allan Nyom, Club:West+Brom, Pos:RB\", \"Jay Rodriguez, Club:West+Brom, Pos:CF\", \"Claudio Yacob, Club:West+Brom, Pos:DM\", \"James McClean, Club:West+Brom, Pos:LW\", \"Hal Robson-Kanu, Club:West+Brom, Pos:LW\", \"Jonathan Leko, Club:West+Brom, Pos:RW\", \"Sam Field, Club:West+Brom, Pos:CM\", \"Boaz Myhill, Club:West+Brom, Pos:GK\", \"Ahmed Hegazy, Club:West+Brom, Pos:CB\", \"Robert Snodgrass, Club:West+Ham, Pos:RW\", \"Manuel Lanzini, Club:West+Ham, Pos:AM\", \"Michail Antonio, Club:West+Ham, Pos:RW\", \"Winston Reid, Club:West+Ham, Pos:CB\", \"Jose Fonte, Club:West+Ham, Pos:CB\", \"Andre Ayew, Club:West+Ham, Pos:LW\", \"Cheikhou Kouyate, Club:West+Ham, Pos:DM\", \"Mark Noble, Club:West+Ham, Pos:CM\", \"Darren Randolph, Club:West+Ham, Pos:GK\", \"James Collins, Club:West+Ham, Pos:CB\", \"Andy Carroll, Club:West+Ham, Pos:CF\", \"Adrian, Club:West+Ham, Pos:GK\", \"Aaron Cresswell, Club:West+Ham, Pos:LB\", \"Pedro Obiang, Club:West+Ham, Pos:CM\", \"Sofiane Feghouli, Club:West+Ham, Pos:RW\", \"Angelo Ogbonna, Club:West+Ham, Pos:CB\", \"Pablo Zabaleta, Club:West+Ham, Pos:RB\", \"Edimilson Fernandes, Club:West+Ham, Pos:CM\", \"Arthur Masuaku, Club:West+Ham, Pos:LB\", \"Sam Byram, Club:West+Ham, Pos:RB\", \"Ashley Fletcher, Club:West+Ham, Pos:CF\", \"Diafra Sakho, Club:West+Ham, Pos:CF\"], \"type\": \"scatter\", \"uid\": \"0d217c\", \"x\": [28, 28, 35, 28, 31, 22, 30, 31, 25, 21, 24, 23, 25, 26, 26, 26, 27, 32, 26, 21, 25, 28, 24, 28, 25, 32, 24, 26, 25, 34, 30, 37, 26, 27, 26, 23, 32, 24, 27, 30, 25, 22, 27, 30, 21, 20, 21, 32, 29, 24, 23, 30, 32, 25, 25, 25, 31, 36, 29, 33, 24, 30, 25, 27, 29, 34, 23, 25, 26, 27, 26, 33, 30, 28, 31, 27, 26, 27, 31, 28, 27, 25, 28, 29, 33, 28, 26, 25, 24, 27, 26, 35, 26, 28, 31, 26, 27, 29, 25, 30, 30, 28, 26, 28, 26, 35, 23, 22, 21, 34, 24, 22, 24, 26, 26, 26, 29, 30, 31, 31, 27, 28, 30, 36, 24, 27, 26, 29, 24, 29, 27, 21, 38, 23, 32, 28, 32, 29, 24, 34, 23, 27, 27, 31, 26, 34, 36, 19, 20, 28, 27, 27, 26, 30, 20, 19, 22, 20, 24, 24, 22, 21, 28, 27, 28, 25, 26, 30, 21, 35, 27, 26, 26, 26, 28, 21, 24, 25, 35, 24, 26, 25, 25, 20, 26, 27, 26, 28, 22, 30, 26, 30, 31, 27, 32, 30, 29, 24, 27, 33, 31, 20, 21, 22, 28, 24, 30, 30, 20, 25, 29, 26, 29, 25, 25, 25, 26, 31, 29, 26, 29, 28, 23, 25, 22, 27, 27, 30, 31, 27, 24, 18, 25, 17, 21, 20, 20, 25, 24, 19, 26, 29, 22, 27, 31, 21, 29, 31, 34, 32, 34, 20, 23, 31, 20, 26, 32, 27, 23, 22, 24, 26, 31, 24, 23, 29, 27, 27, 21, 27, 19, 28, 27, 24, 25, 27, 29, 22, 35, 32, 30, 19, 19, 21, 23, 31, 26, 24, 27, 27, 25, 25, 32, 26, 24, 27, 25, 30, 27, 25, 28, 21, 26, 23, 22, 34, 29, 23, 27, 28, 25, 22, 25, 28, 32, 26, 28, 23, 30, 23, 26, 21, 25, 22, 21, 20, 28, 21, 21, 27, 28, 34, 28, 30, 29, 25, 36, 33, 31, 32, 32, 29, 20, 25, 26, 32, 23, 24, 24, 31, 18, 27, 32, 32, 27, 23, 28, 32, 28, 29, 25, 28, 25, 24, 34, 22, 34, 26, 23, 27, 24, 29, 21, 28, 28, 19, 21, 23, 25, 25, 30, 30, 28, 26, 23, 24, 27, 30, 23, 26, 27, 21, 25, 33, 22, 24, 29, 29, 36, 33, 32, 30, 30, 31, 27, 27, 32, 26, 27, 24, 26, 28, 21, 30, 22, 30, 30, 26, 25, 22, 37, 27, 26, 34, 27, 27, 32, 31, 29, 27, 29, 27, 30, 28, 28, 18, 19, 34, 26, 29, 24, 27, 29, 33, 27, 27, 30, 30, 33, 28, 30, 27, 25, 27, 29, 32, 21, 23, 23, 21, 27], \"xsrc\": \"Aldemuro:22:d61533\", \"y\": [264, 167, 134, 122, 121, 119, 116, 115, 90, 89, 85, 83, 61, 56, 52, 45, 45, 38, 37, 32, 26, 20, 8, 2, 2, 1, 0, 0, 178, 166, 134, 120, 112, 107, 104, 100, 89, 88, 84, 64, 63, 55, 49, 44, 36, 17, 14, 8, 8, 4, 4, 2, 0, 0, 0, 0, 0, 0, 0, 0, 0, 0, 0, 0, 0, 0, 0, 0, 0, 0, 0, 0, 0, 0, 149, 121, 108, 94, 91, 90, 81, 76, 69, 54, 51, 50, 47, 39, 23, 13, 3, 0, 224, 196, 178, 177, 170, 162, 141, 132, 121, 114, 105, 105, 83, 64, 48, 15, 3, 0, 0, 0, 149, 136, 116, 98, 93, 92, 92, 91, 86, 75, 61, 51, 47, 46, 42, 24, 18, 7, 6, 6, 0, 144, 135, 133, 127, 119, 113, 104, 102, 89, 80, 76, 69, 68, 68, 63, 54, 45, 37, 31, 23, 22, 17, 16, 9, 1, 0, 0, 0, 0, 0, 0, 0, 0, 0, 0, 0, 0, 0, 0, 0, 0, 0, 0, 0, 0, 0, 0, 0, 0, 0, 0, 0, 0, 0, 0, 0, 161, 120, 109, 104, 95, 88, 85, 83, 71, 69, 63, 63, 59, 58, 53, 41, 39, 27, 24, 19, 6, 0, 0, 0, 180, 171, 156, 149, 139, 139, 129, 110, 106, 104, 97, 96, 73, 54, 47, 43, 35, 32, 15, 8, 5, 4, 0, 0, 0, 0, 0, 199, 175, 149, 142, 130, 105, 100, 95, 86, 78, 73, 67, 59, 57, 52, 41, 18, 13, 0, 0, 221, 136, 120, 115, 105, 102, 98, 97, 95, 77, 76, 73, 70, 60, 55, 52, 48, 45, 42, 26, 23, 14, 9, 6, 0, 0, 0, 0, 0, 0, 0, 0, 0, 0, 0, 0, 0, 0, 0, 0, 0, 0, 0, 0, 0, 0, 134, 126, 123, 108, 102, 92, 80, 78, 77, 75, 62, 60, 57, 40, 38, 38, 38, 23, 12, 12, 5, 0, 0, 118, 117, 106, 103, 103, 94, 80, 79, 62, 59, 58, 56, 51, 36, 34, 30, 27, 26, 24, 20, 15, 9, 181, 146, 116, 95, 94, 82, 74, 63, 52, 52, 41, 39, 34, 32, 29, 26, 25, 19, 18, 16, 12, 5, 3, 0, 0, 225, 224, 218, 174, 143, 126, 120, 103, 93, 90, 84, 76, 55, 51, 43, 30, 28, 17, 8, 2, 131, 130, 113, 87, 71, 67, 65, 57, 55, 50, 48, 43, 43, 38, 35, 31, 28, 15, 12, 8, 2, 0, 0, 0, 131, 118, 115, 113, 110, 102, 99, 84, 79, 77, 74, 73, 54, 52, 52, 12, 9, 0, 0, 133, 133, 132, 102, 98, 89, 79, 71, 69, 69, 69, 64, 60, 55, 55, 45, 45, 38, 34, 29, 16, 12], \"ysrc\": \"Aldemuro:22:1c3243\"}],                        {\"autosize\": true, \"hovermode\": \"closest\", \"template\": {\"data\": {\"bar\": [{\"error_x\": {\"color\": \"#2a3f5f\"}, \"error_y\": {\"color\": \"#2a3f5f\"}, \"marker\": {\"line\": {\"color\": \"#E5ECF6\", \"width\": 0.5}}, \"type\": \"bar\"}], \"barpolar\": [{\"marker\": {\"line\": {\"color\": \"#E5ECF6\", \"width\": 0.5}}, \"type\": \"barpolar\"}], \"carpet\": [{\"aaxis\": {\"endlinecolor\": \"#2a3f5f\", \"gridcolor\": \"white\", \"linecolor\": \"white\", \"minorgridcolor\": \"white\", \"startlinecolor\": \"#2a3f5f\"}, \"baxis\": {\"endlinecolor\": \"#2a3f5f\", \"gridcolor\": \"white\", \"linecolor\": \"white\", \"minorgridcolor\": \"white\", \"startlinecolor\": \"#2a3f5f\"}, \"type\": \"carpet\"}], \"choropleth\": [{\"colorbar\": {\"outlinewidth\": 0, \"ticks\": \"\"}, \"type\": \"choropleth\"}], \"contour\": [{\"colorbar\": {\"outlinewidth\": 0, \"ticks\": \"\"}, \"colorscale\": [[0.0, \"#0d0887\"], [0.1111111111111111, \"#46039f\"], [0.2222222222222222, \"#7201a8\"], [0.3333333333333333, \"#9c179e\"], [0.4444444444444444, \"#bd3786\"], [0.5555555555555556, \"#d8576b\"], [0.6666666666666666, \"#ed7953\"], [0.7777777777777778, \"#fb9f3a\"], [0.8888888888888888, \"#fdca26\"], [1.0, \"#f0f921\"]], \"type\": \"contour\"}], \"contourcarpet\": [{\"colorbar\": {\"outlinewidth\": 0, \"ticks\": \"\"}, \"type\": \"contourcarpet\"}], \"heatmap\": [{\"colorbar\": {\"outlinewidth\": 0, \"ticks\": \"\"}, \"colorscale\": [[0.0, \"#0d0887\"], [0.1111111111111111, \"#46039f\"], [0.2222222222222222, \"#7201a8\"], [0.3333333333333333, \"#9c179e\"], [0.4444444444444444, \"#bd3786\"], [0.5555555555555556, \"#d8576b\"], [0.6666666666666666, \"#ed7953\"], [0.7777777777777778, \"#fb9f3a\"], [0.8888888888888888, \"#fdca26\"], [1.0, \"#f0f921\"]], \"type\": \"heatmap\"}], \"heatmapgl\": [{\"colorbar\": {\"outlinewidth\": 0, \"ticks\": \"\"}, \"colorscale\": [[0.0, \"#0d0887\"], [0.1111111111111111, \"#46039f\"], [0.2222222222222222, \"#7201a8\"], [0.3333333333333333, \"#9c179e\"], [0.4444444444444444, \"#bd3786\"], [0.5555555555555556, \"#d8576b\"], [0.6666666666666666, \"#ed7953\"], [0.7777777777777778, \"#fb9f3a\"], [0.8888888888888888, \"#fdca26\"], [1.0, \"#f0f921\"]], \"type\": \"heatmapgl\"}], \"histogram\": [{\"marker\": {\"colorbar\": {\"outlinewidth\": 0, \"ticks\": \"\"}}, \"type\": \"histogram\"}], \"histogram2d\": [{\"colorbar\": {\"outlinewidth\": 0, \"ticks\": \"\"}, \"colorscale\": [[0.0, \"#0d0887\"], [0.1111111111111111, \"#46039f\"], [0.2222222222222222, \"#7201a8\"], [0.3333333333333333, \"#9c179e\"], [0.4444444444444444, \"#bd3786\"], [0.5555555555555556, \"#d8576b\"], [0.6666666666666666, \"#ed7953\"], [0.7777777777777778, \"#fb9f3a\"], [0.8888888888888888, \"#fdca26\"], [1.0, \"#f0f921\"]], \"type\": \"histogram2d\"}], \"histogram2dcontour\": [{\"colorbar\": {\"outlinewidth\": 0, \"ticks\": \"\"}, \"colorscale\": [[0.0, \"#0d0887\"], [0.1111111111111111, \"#46039f\"], [0.2222222222222222, \"#7201a8\"], [0.3333333333333333, \"#9c179e\"], [0.4444444444444444, \"#bd3786\"], [0.5555555555555556, \"#d8576b\"], [0.6666666666666666, \"#ed7953\"], [0.7777777777777778, \"#fb9f3a\"], [0.8888888888888888, \"#fdca26\"], [1.0, \"#f0f921\"]], \"type\": \"histogram2dcontour\"}], \"mesh3d\": [{\"colorbar\": {\"outlinewidth\": 0, \"ticks\": \"\"}, \"type\": \"mesh3d\"}], \"parcoords\": [{\"line\": {\"colorbar\": {\"outlinewidth\": 0, \"ticks\": \"\"}}, \"type\": \"parcoords\"}], \"pie\": [{\"automargin\": true, \"type\": \"pie\"}], \"scatter\": [{\"marker\": {\"colorbar\": {\"outlinewidth\": 0, \"ticks\": \"\"}}, \"type\": \"scatter\"}], \"scatter3d\": [{\"line\": {\"colorbar\": {\"outlinewidth\": 0, \"ticks\": \"\"}}, \"marker\": {\"colorbar\": {\"outlinewidth\": 0, \"ticks\": \"\"}}, \"type\": \"scatter3d\"}], \"scattercarpet\": [{\"marker\": {\"colorbar\": {\"outlinewidth\": 0, \"ticks\": \"\"}}, \"type\": \"scattercarpet\"}], \"scattergeo\": [{\"marker\": {\"colorbar\": {\"outlinewidth\": 0, \"ticks\": \"\"}}, \"type\": \"scattergeo\"}], \"scattergl\": [{\"marker\": {\"colorbar\": {\"outlinewidth\": 0, \"ticks\": \"\"}}, \"type\": \"scattergl\"}], \"scattermapbox\": [{\"marker\": {\"colorbar\": {\"outlinewidth\": 0, \"ticks\": \"\"}}, \"type\": \"scattermapbox\"}], \"scatterpolar\": [{\"marker\": {\"colorbar\": {\"outlinewidth\": 0, \"ticks\": \"\"}}, \"type\": \"scatterpolar\"}], \"scatterpolargl\": [{\"marker\": {\"colorbar\": {\"outlinewidth\": 0, \"ticks\": \"\"}}, \"type\": \"scatterpolargl\"}], \"scatterternary\": [{\"marker\": {\"colorbar\": {\"outlinewidth\": 0, \"ticks\": \"\"}}, \"type\": \"scatterternary\"}], \"surface\": [{\"colorbar\": {\"outlinewidth\": 0, \"ticks\": \"\"}, \"colorscale\": [[0.0, \"#0d0887\"], [0.1111111111111111, \"#46039f\"], [0.2222222222222222, \"#7201a8\"], [0.3333333333333333, \"#9c179e\"], [0.4444444444444444, \"#bd3786\"], [0.5555555555555556, \"#d8576b\"], [0.6666666666666666, \"#ed7953\"], [0.7777777777777778, \"#fb9f3a\"], [0.8888888888888888, \"#fdca26\"], [1.0, \"#f0f921\"]], \"type\": \"surface\"}], \"table\": [{\"cells\": {\"fill\": {\"color\": \"#EBF0F8\"}, \"line\": {\"color\": \"white\"}}, \"header\": {\"fill\": {\"color\": \"#C8D4E3\"}, \"line\": {\"color\": \"white\"}}, \"type\": \"table\"}]}, \"layout\": {\"annotationdefaults\": {\"arrowcolor\": \"#2a3f5f\", \"arrowhead\": 0, \"arrowwidth\": 1}, \"coloraxis\": {\"colorbar\": {\"outlinewidth\": 0, \"ticks\": \"\"}}, \"colorscale\": {\"diverging\": [[0, \"#8e0152\"], [0.1, \"#c51b7d\"], [0.2, \"#de77ae\"], [0.3, \"#f1b6da\"], [0.4, \"#fde0ef\"], [0.5, \"#f7f7f7\"], [0.6, \"#e6f5d0\"], [0.7, \"#b8e186\"], [0.8, \"#7fbc41\"], [0.9, \"#4d9221\"], [1, \"#276419\"]], \"sequential\": [[0.0, \"#0d0887\"], [0.1111111111111111, \"#46039f\"], [0.2222222222222222, \"#7201a8\"], [0.3333333333333333, \"#9c179e\"], [0.4444444444444444, \"#bd3786\"], [0.5555555555555556, \"#d8576b\"], [0.6666666666666666, \"#ed7953\"], [0.7777777777777778, \"#fb9f3a\"], [0.8888888888888888, \"#fdca26\"], [1.0, \"#f0f921\"]], \"sequentialminus\": [[0.0, \"#0d0887\"], [0.1111111111111111, \"#46039f\"], [0.2222222222222222, \"#7201a8\"], [0.3333333333333333, \"#9c179e\"], [0.4444444444444444, \"#bd3786\"], [0.5555555555555556, \"#d8576b\"], [0.6666666666666666, \"#ed7953\"], [0.7777777777777778, \"#fb9f3a\"], [0.8888888888888888, \"#fdca26\"], [1.0, \"#f0f921\"]]}, \"colorway\": [\"#636efa\", \"#EF553B\", \"#00cc96\", \"#ab63fa\", \"#FFA15A\", \"#19d3f3\", \"#FF6692\", \"#B6E880\", \"#FF97FF\", \"#FECB52\"], \"font\": {\"color\": \"#2a3f5f\"}, \"geo\": {\"bgcolor\": \"white\", \"lakecolor\": \"white\", \"landcolor\": \"#E5ECF6\", \"showlakes\": true, \"showland\": true, \"subunitcolor\": \"white\"}, \"hoverlabel\": {\"align\": \"left\"}, \"hovermode\": \"closest\", \"mapbox\": {\"style\": \"light\"}, \"paper_bgcolor\": \"white\", \"plot_bgcolor\": \"#E5ECF6\", \"polar\": {\"angularaxis\": {\"gridcolor\": \"white\", \"linecolor\": \"white\", \"ticks\": \"\"}, \"bgcolor\": \"#E5ECF6\", \"radialaxis\": {\"gridcolor\": \"white\", \"linecolor\": \"white\", \"ticks\": \"\"}}, \"scene\": {\"xaxis\": {\"backgroundcolor\": \"#E5ECF6\", \"gridcolor\": \"white\", \"gridwidth\": 2, \"linecolor\": \"white\", \"showbackground\": true, \"ticks\": \"\", \"zerolinecolor\": \"white\"}, \"yaxis\": {\"backgroundcolor\": \"#E5ECF6\", \"gridcolor\": \"white\", \"gridwidth\": 2, \"linecolor\": \"white\", \"showbackground\": true, \"ticks\": \"\", \"zerolinecolor\": \"white\"}, \"zaxis\": {\"backgroundcolor\": \"#E5ECF6\", \"gridcolor\": \"white\", \"gridwidth\": 2, \"linecolor\": \"white\", \"showbackground\": true, \"ticks\": \"\", \"zerolinecolor\": \"white\"}}, \"shapedefaults\": {\"line\": {\"color\": \"#2a3f5f\"}}, \"ternary\": {\"aaxis\": {\"gridcolor\": \"white\", \"linecolor\": \"white\", \"ticks\": \"\"}, \"baxis\": {\"gridcolor\": \"white\", \"linecolor\": \"white\", \"ticks\": \"\"}, \"bgcolor\": \"#E5ECF6\", \"caxis\": {\"gridcolor\": \"white\", \"linecolor\": \"white\", \"ticks\": \"\"}}, \"title\": {\"x\": 0.05}, \"xaxis\": {\"automargin\": true, \"gridcolor\": \"white\", \"linecolor\": \"white\", \"ticks\": \"\", \"title\": {\"standoff\": 15}, \"zerolinecolor\": \"white\", \"zerolinewidth\": 2}, \"yaxis\": {\"automargin\": true, \"gridcolor\": \"white\", \"linecolor\": \"white\", \"ticks\": \"\", \"title\": {\"standoff\": 15}, \"zerolinecolor\": \"white\", \"zerolinewidth\": 2}}}, \"title\": {\"text\": \"Relation between FPL points and player age\"}, \"xaxis\": {\"autorange\": true, \"range\": [3.48535752785, 13.0146424722], \"title\": {\"text\": \"player age\"}, \"type\": \"linear\"}, \"yaxis\": {\"autorange\": true, \"range\": [-17.5245518316, 281.524551832], \"title\": {\"text\": \"fpl points\"}, \"type\": \"linear\"}},                        {\"responsive\": true}                    ).then(function(){\n",
       "                            \n",
       "var gd = document.getElementById('5474455f-5f7f-4ffa-9454-a2a010e616e7');\n",
       "var x = new MutationObserver(function (mutations, observer) {{\n",
       "        var display = window.getComputedStyle(gd).display;\n",
       "        if (!display || display === 'none') {{\n",
       "            console.log([gd, 'removed!']);\n",
       "            Plotly.purge(gd);\n",
       "            observer.disconnect();\n",
       "        }}\n",
       "}});\n",
       "\n",
       "// Listen for the removal of the full notebook cells\n",
       "var notebookContainer = gd.closest('#notebook-container');\n",
       "if (notebookContainer) {{\n",
       "    x.observe(notebookContainer, {childList: true});\n",
       "}}\n",
       "\n",
       "// Listen for the clearing of the current output cell\n",
       "var outputEl = gd.closest('.output');\n",
       "if (outputEl) {{\n",
       "    x.observe(outputEl, {childList: true});\n",
       "}}\n",
       "\n",
       "                        })                };                });            </script>        </div>"
      ]
     },
     "metadata": {},
     "output_type": "display_data"
    }
   ],
   "source": [
    "fig = go.Figure(data=data, layout=layout)\n",
    "py.iplot(fig, filename='basic-scatter')"
   ]
  },
  {
   "cell_type": "markdown",
   "metadata": {},
   "source": [
    "# Applying Machine Learning to predict Final Position and Points"
   ]
  },
  {
   "cell_type": "code",
   "execution_count": 86,
   "metadata": {},
   "outputs": [],
   "source": [
    "import json"
   ]
  },
  {
   "cell_type": "code",
   "execution_count": 87,
   "metadata": {},
   "outputs": [],
   "source": [
    "fpl2020_file = open('FPL_2019_20_season_stats.jscsrc',encoding='utf-8')\n",
    "fpl2020 = fpl2020_file.read()\n",
    "fpl2020 = json.loads(fpl2020)\n",
    "fpl2021_file = open('FPL_2020_21_player_list.jscsrc',encoding='utf-8')\n",
    "fpl2021 = fpl2021_file.read()\n",
    "fpl2021 = json.loads(fpl2021)"
   ]
  },
  {
   "cell_type": "code",
   "execution_count": 88,
   "metadata": {},
   "outputs": [
    {
     "data": {
      "text/plain": [
       "dict_keys(['events', 'game_settings', 'phases', 'teams', 'total_players', 'elements', 'element_stats', 'element_types'])"
      ]
     },
     "execution_count": 88,
     "metadata": {},
     "output_type": "execute_result"
    }
   ],
   "source": [
    "fpl2020.keys()"
   ]
  },
  {
   "cell_type": "code",
   "execution_count": 89,
   "metadata": {},
   "outputs": [
    {
     "name": "stdout",
     "output_type": "stream",
     "text": [
      "Data type: <class 'list'> for Key: events\n",
      "Data type: <class 'dict'> for Key: game_settings\n",
      "Data type: <class 'list'> for Key: phases\n",
      "Data type: <class 'list'> for Key: teams\n",
      "Data type: <class 'int'> for Key: total_players\n",
      "Data type: <class 'list'> for Key: elements\n",
      "Data type: <class 'list'> for Key: element_stats\n",
      "Data type: <class 'list'> for Key: element_types\n"
     ]
    }
   ],
   "source": [
    "for key in fpl2020.keys():\n",
    "    print('Data type: %s for Key: %s' %(type(fpl2020[key]),key))"
   ]
  },
  {
   "cell_type": "code",
   "execution_count": 90,
   "metadata": {},
   "outputs": [
    {
     "name": "stdout",
     "output_type": "stream",
     "text": [
      "Understanding the data structure for Teams\n",
      "dict_keys(['code', 'draw', 'form', 'id', 'loss', 'name', 'played', 'points', 'position', 'short_name', 'strength', 'team_division', 'unavailable', 'win', 'strength_overall_home', 'strength_overall_away', 'strength_attack_home', 'strength_attack_away', 'strength_defence_home', 'strength_defence_away', 'pulse_id'])\n"
     ]
    }
   ],
   "source": [
    "print('Understanding the data structure for Teams')\n",
    "print(fpl2020['teams'][0].keys())"
   ]
  },
  {
   "cell_type": "code",
   "execution_count": 91,
   "metadata": {},
   "outputs": [
    {
     "name": "stdout",
     "output_type": "stream",
     "text": [
      "Understanding the data structure for Elements\n",
      "dict_keys(['chance_of_playing_next_round', 'chance_of_playing_this_round', 'code', 'cost_change_event', 'cost_change_event_fall', 'cost_change_start', 'cost_change_start_fall', 'dreamteam_count', 'element_type', 'ep_next', 'ep_this', 'event_points', 'first_name', 'form', 'id', 'in_dreamteam', 'news', 'news_added', 'now_cost', 'photo', 'points_per_game', 'second_name', 'selected_by_percent', 'special', 'squad_number', 'status', 'team', 'team_code', 'total_points', 'transfers_in', 'transfers_in_event', 'transfers_out', 'transfers_out_event', 'value_form', 'value_season', 'web_name', 'minutes', 'goals_scored', 'assists', 'clean_sheets', 'goals_conceded', 'own_goals', 'penalties_saved', 'penalties_missed', 'yellow_cards', 'red_cards', 'saves', 'bonus', 'bps', 'influence', 'creativity', 'threat', 'ict_index', 'influence_rank', 'influence_rank_type', 'creativity_rank', 'creativity_rank_type', 'threat_rank', 'threat_rank_type', 'ict_index_rank', 'ict_index_rank_type'])\n"
     ]
    }
   ],
   "source": [
    "print('Understanding the data structure for Elements')\n",
    "print(fpl2020['elements'][0].keys())"
   ]
  },
  {
   "cell_type": "code",
   "execution_count": 92,
   "metadata": {},
   "outputs": [
    {
     "data": {
      "text/html": [
       "<div>\n",
       "<style scoped>\n",
       "    .dataframe tbody tr th:only-of-type {\n",
       "        vertical-align: middle;\n",
       "    }\n",
       "\n",
       "    .dataframe tbody tr th {\n",
       "        vertical-align: top;\n",
       "    }\n",
       "\n",
       "    .dataframe thead th {\n",
       "        text-align: right;\n",
       "    }\n",
       "</style>\n",
       "<table border=\"1\" class=\"dataframe\">\n",
       "  <thead>\n",
       "    <tr style=\"text-align: right;\">\n",
       "      <th></th>\n",
       "      <th>code</th>\n",
       "      <th>draw</th>\n",
       "      <th>form</th>\n",
       "      <th>id</th>\n",
       "      <th>loss</th>\n",
       "      <th>name</th>\n",
       "      <th>played</th>\n",
       "      <th>points</th>\n",
       "      <th>position</th>\n",
       "      <th>short_name</th>\n",
       "      <th>strength</th>\n",
       "      <th>team_division</th>\n",
       "      <th>unavailable</th>\n",
       "      <th>win</th>\n",
       "      <th>strength_overall_home</th>\n",
       "      <th>strength_overall_away</th>\n",
       "      <th>strength_attack_home</th>\n",
       "      <th>strength_attack_away</th>\n",
       "      <th>strength_defence_home</th>\n",
       "      <th>strength_defence_away</th>\n",
       "      <th>pulse_id</th>\n",
       "    </tr>\n",
       "  </thead>\n",
       "  <tbody>\n",
       "    <tr>\n",
       "      <th>0</th>\n",
       "      <td>3</td>\n",
       "      <td>14</td>\n",
       "      <td>None</td>\n",
       "      <td>1</td>\n",
       "      <td>10</td>\n",
       "      <td>Arsenal</td>\n",
       "      <td>38</td>\n",
       "      <td>56</td>\n",
       "      <td>8</td>\n",
       "      <td>ARS</td>\n",
       "      <td>4</td>\n",
       "      <td>None</td>\n",
       "      <td>False</td>\n",
       "      <td>14</td>\n",
       "      <td>1180</td>\n",
       "      <td>1240</td>\n",
       "      <td>1170</td>\n",
       "      <td>1170</td>\n",
       "      <td>1150</td>\n",
       "      <td>1200</td>\n",
       "      <td>1</td>\n",
       "    </tr>\n",
       "    <tr>\n",
       "      <th>1</th>\n",
       "      <td>7</td>\n",
       "      <td>8</td>\n",
       "      <td>None</td>\n",
       "      <td>2</td>\n",
       "      <td>21</td>\n",
       "      <td>Aston Villa</td>\n",
       "      <td>38</td>\n",
       "      <td>35</td>\n",
       "      <td>17</td>\n",
       "      <td>AVL</td>\n",
       "      <td>2</td>\n",
       "      <td>None</td>\n",
       "      <td>False</td>\n",
       "      <td>9</td>\n",
       "      <td>1020</td>\n",
       "      <td>1050</td>\n",
       "      <td>970</td>\n",
       "      <td>980</td>\n",
       "      <td>1000</td>\n",
       "      <td>1040</td>\n",
       "      <td>2</td>\n",
       "    </tr>\n",
       "    <tr>\n",
       "      <th>2</th>\n",
       "      <td>91</td>\n",
       "      <td>7</td>\n",
       "      <td>None</td>\n",
       "      <td>3</td>\n",
       "      <td>22</td>\n",
       "      <td>Bournemouth</td>\n",
       "      <td>38</td>\n",
       "      <td>34</td>\n",
       "      <td>18</td>\n",
       "      <td>BOU</td>\n",
       "      <td>2</td>\n",
       "      <td>None</td>\n",
       "      <td>False</td>\n",
       "      <td>9</td>\n",
       "      <td>1020</td>\n",
       "      <td>1020</td>\n",
       "      <td>990</td>\n",
       "      <td>1030</td>\n",
       "      <td>1000</td>\n",
       "      <td>1050</td>\n",
       "      <td>127</td>\n",
       "    </tr>\n",
       "    <tr>\n",
       "      <th>3</th>\n",
       "      <td>36</td>\n",
       "      <td>14</td>\n",
       "      <td>None</td>\n",
       "      <td>4</td>\n",
       "      <td>15</td>\n",
       "      <td>Brighton</td>\n",
       "      <td>38</td>\n",
       "      <td>41</td>\n",
       "      <td>15</td>\n",
       "      <td>BHA</td>\n",
       "      <td>2</td>\n",
       "      <td>None</td>\n",
       "      <td>False</td>\n",
       "      <td>9</td>\n",
       "      <td>1050</td>\n",
       "      <td>1010</td>\n",
       "      <td>1100</td>\n",
       "      <td>1100</td>\n",
       "      <td>1040</td>\n",
       "      <td>1030</td>\n",
       "      <td>131</td>\n",
       "    </tr>\n",
       "    <tr>\n",
       "      <th>4</th>\n",
       "      <td>90</td>\n",
       "      <td>9</td>\n",
       "      <td>None</td>\n",
       "      <td>5</td>\n",
       "      <td>14</td>\n",
       "      <td>Burnley</td>\n",
       "      <td>38</td>\n",
       "      <td>54</td>\n",
       "      <td>10</td>\n",
       "      <td>BUR</td>\n",
       "      <td>3</td>\n",
       "      <td>None</td>\n",
       "      <td>False</td>\n",
       "      <td>15</td>\n",
       "      <td>1110</td>\n",
       "      <td>1180</td>\n",
       "      <td>1130</td>\n",
       "      <td>1070</td>\n",
       "      <td>970</td>\n",
       "      <td>1110</td>\n",
       "      <td>43</td>\n",
       "    </tr>\n",
       "  </tbody>\n",
       "</table>\n",
       "</div>"
      ],
      "text/plain": [
       "   code  draw  form  id  loss         name  played  points  position  \\\n",
       "0     3    14  None   1    10      Arsenal      38      56         8   \n",
       "1     7     8  None   2    21  Aston Villa      38      35        17   \n",
       "2    91     7  None   3    22  Bournemouth      38      34        18   \n",
       "3    36    14  None   4    15     Brighton      38      41        15   \n",
       "4    90     9  None   5    14      Burnley      38      54        10   \n",
       "\n",
       "  short_name  strength team_division  unavailable  win  strength_overall_home  \\\n",
       "0        ARS         4          None        False   14                   1180   \n",
       "1        AVL         2          None        False    9                   1020   \n",
       "2        BOU         2          None        False    9                   1020   \n",
       "3        BHA         2          None        False    9                   1050   \n",
       "4        BUR         3          None        False   15                   1110   \n",
       "\n",
       "   strength_overall_away  strength_attack_home  strength_attack_away  \\\n",
       "0                   1240                  1170                  1170   \n",
       "1                   1050                   970                   980   \n",
       "2                   1020                   990                  1030   \n",
       "3                   1010                  1100                  1100   \n",
       "4                   1180                  1130                  1070   \n",
       "\n",
       "   strength_defence_home  strength_defence_away  pulse_id  \n",
       "0                   1150                   1200         1  \n",
       "1                   1000                   1040         2  \n",
       "2                   1000                   1050       127  \n",
       "3                   1040                   1030       131  \n",
       "4                    970                   1110        43  "
      ]
     },
     "execution_count": 92,
     "metadata": {},
     "output_type": "execute_result"
    }
   ],
   "source": [
    "teams2020 = pd.DataFrame(fpl2020['teams'])\n",
    "players2020 = pd.DataFrame(fpl2020['elements'])\n",
    "teams2020.head()"
   ]
  },
  {
   "cell_type": "code",
   "execution_count": 93,
   "metadata": {},
   "outputs": [
    {
     "data": {
      "text/html": [
       "<div>\n",
       "<style scoped>\n",
       "    .dataframe tbody tr th:only-of-type {\n",
       "        vertical-align: middle;\n",
       "    }\n",
       "\n",
       "    .dataframe tbody tr th {\n",
       "        vertical-align: top;\n",
       "    }\n",
       "\n",
       "    .dataframe thead th {\n",
       "        text-align: right;\n",
       "    }\n",
       "</style>\n",
       "<table border=\"1\" class=\"dataframe\">\n",
       "  <thead>\n",
       "    <tr style=\"text-align: right;\">\n",
       "      <th></th>\n",
       "      <th>chance_of_playing_next_round</th>\n",
       "      <th>chance_of_playing_this_round</th>\n",
       "      <th>code</th>\n",
       "      <th>cost_change_event</th>\n",
       "      <th>cost_change_event_fall</th>\n",
       "      <th>cost_change_start</th>\n",
       "      <th>cost_change_start_fall</th>\n",
       "      <th>dreamteam_count</th>\n",
       "      <th>element_type</th>\n",
       "      <th>ep_next</th>\n",
       "      <th>ep_this</th>\n",
       "      <th>event_points</th>\n",
       "      <th>first_name</th>\n",
       "      <th>form</th>\n",
       "      <th>id</th>\n",
       "      <th>in_dreamteam</th>\n",
       "      <th>news</th>\n",
       "      <th>news_added</th>\n",
       "      <th>now_cost</th>\n",
       "      <th>photo</th>\n",
       "      <th>points_per_game</th>\n",
       "      <th>second_name</th>\n",
       "      <th>selected_by_percent</th>\n",
       "      <th>special</th>\n",
       "      <th>squad_number</th>\n",
       "      <th>status</th>\n",
       "      <th>team</th>\n",
       "      <th>team_code</th>\n",
       "      <th>total_points</th>\n",
       "      <th>transfers_in</th>\n",
       "      <th>transfers_in_event</th>\n",
       "      <th>transfers_out</th>\n",
       "      <th>transfers_out_event</th>\n",
       "      <th>value_form</th>\n",
       "      <th>value_season</th>\n",
       "      <th>web_name</th>\n",
       "      <th>minutes</th>\n",
       "      <th>goals_scored</th>\n",
       "      <th>assists</th>\n",
       "      <th>clean_sheets</th>\n",
       "      <th>goals_conceded</th>\n",
       "      <th>own_goals</th>\n",
       "      <th>penalties_saved</th>\n",
       "      <th>penalties_missed</th>\n",
       "      <th>yellow_cards</th>\n",
       "      <th>red_cards</th>\n",
       "      <th>saves</th>\n",
       "      <th>bonus</th>\n",
       "      <th>bps</th>\n",
       "      <th>influence</th>\n",
       "      <th>creativity</th>\n",
       "      <th>threat</th>\n",
       "      <th>ict_index</th>\n",
       "      <th>influence_rank</th>\n",
       "      <th>influence_rank_type</th>\n",
       "      <th>creativity_rank</th>\n",
       "      <th>creativity_rank_type</th>\n",
       "      <th>threat_rank</th>\n",
       "      <th>threat_rank_type</th>\n",
       "      <th>ict_index_rank</th>\n",
       "      <th>ict_index_rank_type</th>\n",
       "    </tr>\n",
       "  </thead>\n",
       "  <tbody>\n",
       "    <tr>\n",
       "      <th>0</th>\n",
       "      <td>0.0</td>\n",
       "      <td>0.0</td>\n",
       "      <td>69140</td>\n",
       "      <td>0</td>\n",
       "      <td>0</td>\n",
       "      <td>-4</td>\n",
       "      <td>4</td>\n",
       "      <td>0</td>\n",
       "      <td>2</td>\n",
       "      <td>0.0</td>\n",
       "      <td>0.0</td>\n",
       "      <td>0</td>\n",
       "      <td>Shkodran</td>\n",
       "      <td>1.4</td>\n",
       "      <td>1</td>\n",
       "      <td>False</td>\n",
       "      <td>Hamstring injury - Unknown return date</td>\n",
       "      <td>2020-07-18T22:30:20.553834Z</td>\n",
       "      <td>51</td>\n",
       "      <td>69140.jpg</td>\n",
       "      <td>2.9</td>\n",
       "      <td>Mustafi</td>\n",
       "      <td>0.4</td>\n",
       "      <td>False</td>\n",
       "      <td>None</td>\n",
       "      <td>i</td>\n",
       "      <td>1</td>\n",
       "      <td>3</td>\n",
       "      <td>43</td>\n",
       "      <td>25007</td>\n",
       "      <td>0</td>\n",
       "      <td>47630</td>\n",
       "      <td>0</td>\n",
       "      <td>0.3</td>\n",
       "      <td>8.4</td>\n",
       "      <td>Mustafi</td>\n",
       "      <td>1205</td>\n",
       "      <td>0</td>\n",
       "      <td>2</td>\n",
       "      <td>4</td>\n",
       "      <td>17</td>\n",
       "      <td>0</td>\n",
       "      <td>0</td>\n",
       "      <td>0</td>\n",
       "      <td>2</td>\n",
       "      <td>0</td>\n",
       "      <td>0</td>\n",
       "      <td>2</td>\n",
       "      <td>242</td>\n",
       "      <td>277.2</td>\n",
       "      <td>45.5</td>\n",
       "      <td>155.0</td>\n",
       "      <td>47.9</td>\n",
       "      <td>257</td>\n",
       "      <td>100</td>\n",
       "      <td>352</td>\n",
       "      <td>122</td>\n",
       "      <td>234</td>\n",
       "      <td>58</td>\n",
       "      <td>313</td>\n",
       "      <td>106</td>\n",
       "    </tr>\n",
       "    <tr>\n",
       "      <th>1</th>\n",
       "      <td>100.0</td>\n",
       "      <td>100.0</td>\n",
       "      <td>98745</td>\n",
       "      <td>0</td>\n",
       "      <td>0</td>\n",
       "      <td>-3</td>\n",
       "      <td>3</td>\n",
       "      <td>0</td>\n",
       "      <td>2</td>\n",
       "      <td>2.3</td>\n",
       "      <td>2.1</td>\n",
       "      <td>0</td>\n",
       "      <td>Héctor</td>\n",
       "      <td>1.6</td>\n",
       "      <td>2</td>\n",
       "      <td>False</td>\n",
       "      <td></td>\n",
       "      <td>2019-12-09T20:00:21.228098Z</td>\n",
       "      <td>52</td>\n",
       "      <td>98745.jpg</td>\n",
       "      <td>2.9</td>\n",
       "      <td>Bellerín</td>\n",
       "      <td>1.0</td>\n",
       "      <td>False</td>\n",
       "      <td>None</td>\n",
       "      <td>a</td>\n",
       "      <td>1</td>\n",
       "      <td>3</td>\n",
       "      <td>44</td>\n",
       "      <td>206616</td>\n",
       "      <td>0</td>\n",
       "      <td>159819</td>\n",
       "      <td>0</td>\n",
       "      <td>0.3</td>\n",
       "      <td>8.5</td>\n",
       "      <td>Bellerín</td>\n",
       "      <td>1156</td>\n",
       "      <td>1</td>\n",
       "      <td>0</td>\n",
       "      <td>4</td>\n",
       "      <td>18</td>\n",
       "      <td>0</td>\n",
       "      <td>0</td>\n",
       "      <td>0</td>\n",
       "      <td>2</td>\n",
       "      <td>0</td>\n",
       "      <td>0</td>\n",
       "      <td>4</td>\n",
       "      <td>204</td>\n",
       "      <td>187.8</td>\n",
       "      <td>76.9</td>\n",
       "      <td>103.0</td>\n",
       "      <td>37.0</td>\n",
       "      <td>322</td>\n",
       "      <td>124</td>\n",
       "      <td>301</td>\n",
       "      <td>95</td>\n",
       "      <td>275</td>\n",
       "      <td>81</td>\n",
       "      <td>339</td>\n",
       "      <td>122</td>\n",
       "    </tr>\n",
       "    <tr>\n",
       "      <th>2</th>\n",
       "      <td>100.0</td>\n",
       "      <td>100.0</td>\n",
       "      <td>111457</td>\n",
       "      <td>0</td>\n",
       "      <td>0</td>\n",
       "      <td>-3</td>\n",
       "      <td>3</td>\n",
       "      <td>0</td>\n",
       "      <td>2</td>\n",
       "      <td>3.3</td>\n",
       "      <td>3.1</td>\n",
       "      <td>1</td>\n",
       "      <td>Sead</td>\n",
       "      <td>2.6</td>\n",
       "      <td>3</td>\n",
       "      <td>False</td>\n",
       "      <td></td>\n",
       "      <td>2020-02-23T18:30:13.672943Z</td>\n",
       "      <td>52</td>\n",
       "      <td>111457.jpg</td>\n",
       "      <td>2.1</td>\n",
       "      <td>Kolasinac</td>\n",
       "      <td>0.5</td>\n",
       "      <td>False</td>\n",
       "      <td>None</td>\n",
       "      <td>a</td>\n",
       "      <td>1</td>\n",
       "      <td>3</td>\n",
       "      <td>55</td>\n",
       "      <td>65194</td>\n",
       "      <td>0</td>\n",
       "      <td>134275</td>\n",
       "      <td>0</td>\n",
       "      <td>0.5</td>\n",
       "      <td>10.6</td>\n",
       "      <td>Kolasinac</td>\n",
       "      <td>1694</td>\n",
       "      <td>0</td>\n",
       "      <td>2</td>\n",
       "      <td>4</td>\n",
       "      <td>26</td>\n",
       "      <td>0</td>\n",
       "      <td>0</td>\n",
       "      <td>0</td>\n",
       "      <td>4</td>\n",
       "      <td>0</td>\n",
       "      <td>0</td>\n",
       "      <td>1</td>\n",
       "      <td>331</td>\n",
       "      <td>269.6</td>\n",
       "      <td>182.5</td>\n",
       "      <td>81.0</td>\n",
       "      <td>53.0</td>\n",
       "      <td>264</td>\n",
       "      <td>104</td>\n",
       "      <td>215</td>\n",
       "      <td>52</td>\n",
       "      <td>305</td>\n",
       "      <td>98</td>\n",
       "      <td>293</td>\n",
       "      <td>96</td>\n",
       "    </tr>\n",
       "    <tr>\n",
       "      <th>3</th>\n",
       "      <td>100.0</td>\n",
       "      <td>100.0</td>\n",
       "      <td>154043</td>\n",
       "      <td>0</td>\n",
       "      <td>0</td>\n",
       "      <td>-5</td>\n",
       "      <td>5</td>\n",
       "      <td>1</td>\n",
       "      <td>2</td>\n",
       "      <td>0.8</td>\n",
       "      <td>0.9</td>\n",
       "      <td>1</td>\n",
       "      <td>Ainsley</td>\n",
       "      <td>0.4</td>\n",
       "      <td>4</td>\n",
       "      <td>False</td>\n",
       "      <td></td>\n",
       "      <td>2019-09-22T18:00:10.824841Z</td>\n",
       "      <td>45</td>\n",
       "      <td>154043.jpg</td>\n",
       "      <td>2.0</td>\n",
       "      <td>Maitland-Niles</td>\n",
       "      <td>2.2</td>\n",
       "      <td>False</td>\n",
       "      <td>None</td>\n",
       "      <td>a</td>\n",
       "      <td>1</td>\n",
       "      <td>3</td>\n",
       "      <td>41</td>\n",
       "      <td>610816</td>\n",
       "      <td>0</td>\n",
       "      <td>653555</td>\n",
       "      <td>0</td>\n",
       "      <td>0.1</td>\n",
       "      <td>9.1</td>\n",
       "      <td>Maitland-Niles</td>\n",
       "      <td>1382</td>\n",
       "      <td>0</td>\n",
       "      <td>2</td>\n",
       "      <td>3</td>\n",
       "      <td>22</td>\n",
       "      <td>0</td>\n",
       "      <td>0</td>\n",
       "      <td>0</td>\n",
       "      <td>4</td>\n",
       "      <td>1</td>\n",
       "      <td>0</td>\n",
       "      <td>3</td>\n",
       "      <td>244</td>\n",
       "      <td>301.8</td>\n",
       "      <td>182.0</td>\n",
       "      <td>58.0</td>\n",
       "      <td>53.6</td>\n",
       "      <td>241</td>\n",
       "      <td>94</td>\n",
       "      <td>216</td>\n",
       "      <td>53</td>\n",
       "      <td>337</td>\n",
       "      <td>119</td>\n",
       "      <td>287</td>\n",
       "      <td>94</td>\n",
       "    </tr>\n",
       "    <tr>\n",
       "      <th>4</th>\n",
       "      <td>100.0</td>\n",
       "      <td>100.0</td>\n",
       "      <td>39476</td>\n",
       "      <td>0</td>\n",
       "      <td>0</td>\n",
       "      <td>-2</td>\n",
       "      <td>2</td>\n",
       "      <td>1</td>\n",
       "      <td>2</td>\n",
       "      <td>0.5</td>\n",
       "      <td>0.5</td>\n",
       "      <td>0</td>\n",
       "      <td>Sokratis</td>\n",
       "      <td>0.0</td>\n",
       "      <td>5</td>\n",
       "      <td>False</td>\n",
       "      <td></td>\n",
       "      <td>2020-06-18T18:00:15.974146Z</td>\n",
       "      <td>48</td>\n",
       "      <td>39476.jpg</td>\n",
       "      <td>3.0</td>\n",
       "      <td>Papastathopoulos</td>\n",
       "      <td>1.3</td>\n",
       "      <td>False</td>\n",
       "      <td>None</td>\n",
       "      <td>a</td>\n",
       "      <td>1</td>\n",
       "      <td>3</td>\n",
       "      <td>57</td>\n",
       "      <td>182201</td>\n",
       "      <td>0</td>\n",
       "      <td>231413</td>\n",
       "      <td>0</td>\n",
       "      <td>0.0</td>\n",
       "      <td>11.9</td>\n",
       "      <td>Sokratis</td>\n",
       "      <td>1696</td>\n",
       "      <td>2</td>\n",
       "      <td>0</td>\n",
       "      <td>4</td>\n",
       "      <td>25</td>\n",
       "      <td>0</td>\n",
       "      <td>0</td>\n",
       "      <td>0</td>\n",
       "      <td>6</td>\n",
       "      <td>0</td>\n",
       "      <td>0</td>\n",
       "      <td>5</td>\n",
       "      <td>305</td>\n",
       "      <td>436.2</td>\n",
       "      <td>36.8</td>\n",
       "      <td>110.0</td>\n",
       "      <td>58.5</td>\n",
       "      <td>166</td>\n",
       "      <td>62</td>\n",
       "      <td>365</td>\n",
       "      <td>130</td>\n",
       "      <td>266</td>\n",
       "      <td>76</td>\n",
       "      <td>275</td>\n",
       "      <td>88</td>\n",
       "    </tr>\n",
       "  </tbody>\n",
       "</table>\n",
       "</div>"
      ],
      "text/plain": [
       "   chance_of_playing_next_round  chance_of_playing_this_round    code  \\\n",
       "0                           0.0                           0.0   69140   \n",
       "1                         100.0                         100.0   98745   \n",
       "2                         100.0                         100.0  111457   \n",
       "3                         100.0                         100.0  154043   \n",
       "4                         100.0                         100.0   39476   \n",
       "\n",
       "   cost_change_event  cost_change_event_fall  cost_change_start  \\\n",
       "0                  0                       0                 -4   \n",
       "1                  0                       0                 -3   \n",
       "2                  0                       0                 -3   \n",
       "3                  0                       0                 -5   \n",
       "4                  0                       0                 -2   \n",
       "\n",
       "   cost_change_start_fall  dreamteam_count  element_type ep_next ep_this  \\\n",
       "0                       4                0             2     0.0     0.0   \n",
       "1                       3                0             2     2.3     2.1   \n",
       "2                       3                0             2     3.3     3.1   \n",
       "3                       5                1             2     0.8     0.9   \n",
       "4                       2                1             2     0.5     0.5   \n",
       "\n",
       "   event_points first_name form  id  in_dreamteam  \\\n",
       "0             0   Shkodran  1.4   1         False   \n",
       "1             0     Héctor  1.6   2         False   \n",
       "2             1       Sead  2.6   3         False   \n",
       "3             1    Ainsley  0.4   4         False   \n",
       "4             0   Sokratis  0.0   5         False   \n",
       "\n",
       "                                     news                   news_added  \\\n",
       "0  Hamstring injury - Unknown return date  2020-07-18T22:30:20.553834Z   \n",
       "1                                          2019-12-09T20:00:21.228098Z   \n",
       "2                                          2020-02-23T18:30:13.672943Z   \n",
       "3                                          2019-09-22T18:00:10.824841Z   \n",
       "4                                          2020-06-18T18:00:15.974146Z   \n",
       "\n",
       "   now_cost       photo points_per_game       second_name selected_by_percent  \\\n",
       "0        51   69140.jpg             2.9           Mustafi                 0.4   \n",
       "1        52   98745.jpg             2.9          Bellerín                 1.0   \n",
       "2        52  111457.jpg             2.1         Kolasinac                 0.5   \n",
       "3        45  154043.jpg             2.0    Maitland-Niles                 2.2   \n",
       "4        48   39476.jpg             3.0  Papastathopoulos                 1.3   \n",
       "\n",
       "   special squad_number status  team  team_code  total_points  transfers_in  \\\n",
       "0    False         None      i     1          3            43         25007   \n",
       "1    False         None      a     1          3            44        206616   \n",
       "2    False         None      a     1          3            55         65194   \n",
       "3    False         None      a     1          3            41        610816   \n",
       "4    False         None      a     1          3            57        182201   \n",
       "\n",
       "   transfers_in_event  transfers_out  transfers_out_event value_form  \\\n",
       "0                   0          47630                    0        0.3   \n",
       "1                   0         159819                    0        0.3   \n",
       "2                   0         134275                    0        0.5   \n",
       "3                   0         653555                    0        0.1   \n",
       "4                   0         231413                    0        0.0   \n",
       "\n",
       "  value_season        web_name  minutes  goals_scored  assists  clean_sheets  \\\n",
       "0          8.4         Mustafi     1205             0        2             4   \n",
       "1          8.5        Bellerín     1156             1        0             4   \n",
       "2         10.6       Kolasinac     1694             0        2             4   \n",
       "3          9.1  Maitland-Niles     1382             0        2             3   \n",
       "4         11.9        Sokratis     1696             2        0             4   \n",
       "\n",
       "   goals_conceded  own_goals  penalties_saved  penalties_missed  yellow_cards  \\\n",
       "0              17          0                0                 0             2   \n",
       "1              18          0                0                 0             2   \n",
       "2              26          0                0                 0             4   \n",
       "3              22          0                0                 0             4   \n",
       "4              25          0                0                 0             6   \n",
       "\n",
       "   red_cards  saves  bonus  bps influence creativity threat ict_index  \\\n",
       "0          0      0      2  242     277.2       45.5  155.0      47.9   \n",
       "1          0      0      4  204     187.8       76.9  103.0      37.0   \n",
       "2          0      0      1  331     269.6      182.5   81.0      53.0   \n",
       "3          1      0      3  244     301.8      182.0   58.0      53.6   \n",
       "4          0      0      5  305     436.2       36.8  110.0      58.5   \n",
       "\n",
       "   influence_rank  influence_rank_type  creativity_rank  creativity_rank_type  \\\n",
       "0             257                  100              352                   122   \n",
       "1             322                  124              301                    95   \n",
       "2             264                  104              215                    52   \n",
       "3             241                   94              216                    53   \n",
       "4             166                   62              365                   130   \n",
       "\n",
       "   threat_rank  threat_rank_type  ict_index_rank  ict_index_rank_type  \n",
       "0          234                58             313                  106  \n",
       "1          275                81             339                  122  \n",
       "2          305                98             293                   96  \n",
       "3          337               119             287                   94  \n",
       "4          266                76             275                   88  "
      ]
     },
     "execution_count": 93,
     "metadata": {},
     "output_type": "execute_result"
    }
   ],
   "source": [
    "players2020.head()"
   ]
  },
  {
   "cell_type": "markdown",
   "metadata": {},
   "source": [
    "## Rank of Clubs based on Total Fantasy Points earned."
   ]
  },
  {
   "cell_type": "code",
   "execution_count": 94,
   "metadata": {},
   "outputs": [
    {
     "data": {
      "text/html": [
       "<div>\n",
       "<style scoped>\n",
       "    .dataframe tbody tr th:only-of-type {\n",
       "        vertical-align: middle;\n",
       "    }\n",
       "\n",
       "    .dataframe tbody tr th {\n",
       "        vertical-align: top;\n",
       "    }\n",
       "\n",
       "    .dataframe thead th {\n",
       "        text-align: right;\n",
       "    }\n",
       "</style>\n",
       "<table border=\"1\" class=\"dataframe\">\n",
       "  <thead>\n",
       "    <tr style=\"text-align: right;\">\n",
       "      <th></th>\n",
       "      <th>short_name</th>\n",
       "      <th>position</th>\n",
       "      <th>points</th>\n",
       "      <th>fpoints_rank</th>\n",
       "      <th>total_points</th>\n",
       "      <th>code</th>\n",
       "    </tr>\n",
       "  </thead>\n",
       "  <tbody>\n",
       "    <tr>\n",
       "      <th>0</th>\n",
       "      <td>ARS</td>\n",
       "      <td>8</td>\n",
       "      <td>56</td>\n",
       "      <td>8.0</td>\n",
       "      <td>1580</td>\n",
       "      <td>3</td>\n",
       "    </tr>\n",
       "    <tr>\n",
       "      <th>1</th>\n",
       "      <td>AVL</td>\n",
       "      <td>17</td>\n",
       "      <td>35</td>\n",
       "      <td>16.0</td>\n",
       "      <td>1357</td>\n",
       "      <td>7</td>\n",
       "    </tr>\n",
       "    <tr>\n",
       "      <th>2</th>\n",
       "      <td>BOU</td>\n",
       "      <td>18</td>\n",
       "      <td>34</td>\n",
       "      <td>19.0</td>\n",
       "      <td>1265</td>\n",
       "      <td>91</td>\n",
       "    </tr>\n",
       "    <tr>\n",
       "      <th>3</th>\n",
       "      <td>BHA</td>\n",
       "      <td>15</td>\n",
       "      <td>41</td>\n",
       "      <td>15.0</td>\n",
       "      <td>1389</td>\n",
       "      <td>36</td>\n",
       "    </tr>\n",
       "    <tr>\n",
       "      <th>4</th>\n",
       "      <td>BUR</td>\n",
       "      <td>10</td>\n",
       "      <td>54</td>\n",
       "      <td>10.0</td>\n",
       "      <td>1544</td>\n",
       "      <td>90</td>\n",
       "    </tr>\n",
       "    <tr>\n",
       "      <th>5</th>\n",
       "      <td>CHE</td>\n",
       "      <td>4</td>\n",
       "      <td>66</td>\n",
       "      <td>5.0</td>\n",
       "      <td>1687</td>\n",
       "      <td>8</td>\n",
       "    </tr>\n",
       "    <tr>\n",
       "      <th>6</th>\n",
       "      <td>CRY</td>\n",
       "      <td>14</td>\n",
       "      <td>43</td>\n",
       "      <td>18.0</td>\n",
       "      <td>1333</td>\n",
       "      <td>31</td>\n",
       "    </tr>\n",
       "    <tr>\n",
       "      <th>7</th>\n",
       "      <td>EVE</td>\n",
       "      <td>12</td>\n",
       "      <td>49</td>\n",
       "      <td>12.0</td>\n",
       "      <td>1444</td>\n",
       "      <td>11</td>\n",
       "    </tr>\n",
       "    <tr>\n",
       "      <th>8</th>\n",
       "      <td>LEI</td>\n",
       "      <td>5</td>\n",
       "      <td>62</td>\n",
       "      <td>3.0</td>\n",
       "      <td>1816</td>\n",
       "      <td>13</td>\n",
       "    </tr>\n",
       "    <tr>\n",
       "      <th>9</th>\n",
       "      <td>LIV</td>\n",
       "      <td>1</td>\n",
       "      <td>99</td>\n",
       "      <td>1.0</td>\n",
       "      <td>2101</td>\n",
       "      <td>14</td>\n",
       "    </tr>\n",
       "    <tr>\n",
       "      <th>10</th>\n",
       "      <td>MCI</td>\n",
       "      <td>2</td>\n",
       "      <td>81</td>\n",
       "      <td>2.0</td>\n",
       "      <td>2100</td>\n",
       "      <td>43</td>\n",
       "    </tr>\n",
       "    <tr>\n",
       "      <th>11</th>\n",
       "      <td>MUN</td>\n",
       "      <td>3</td>\n",
       "      <td>66</td>\n",
       "      <td>4.0</td>\n",
       "      <td>1752</td>\n",
       "      <td>1</td>\n",
       "    </tr>\n",
       "    <tr>\n",
       "      <th>12</th>\n",
       "      <td>NEW</td>\n",
       "      <td>13</td>\n",
       "      <td>44</td>\n",
       "      <td>11.0</td>\n",
       "      <td>1512</td>\n",
       "      <td>4</td>\n",
       "    </tr>\n",
       "    <tr>\n",
       "      <th>13</th>\n",
       "      <td>NOR</td>\n",
       "      <td>20</td>\n",
       "      <td>21</td>\n",
       "      <td>20.0</td>\n",
       "      <td>1140</td>\n",
       "      <td>45</td>\n",
       "    </tr>\n",
       "    <tr>\n",
       "      <th>14</th>\n",
       "      <td>SHU</td>\n",
       "      <td>9</td>\n",
       "      <td>54</td>\n",
       "      <td>7.0</td>\n",
       "      <td>1594</td>\n",
       "      <td>49</td>\n",
       "    </tr>\n",
       "    <tr>\n",
       "      <th>15</th>\n",
       "      <td>SOU</td>\n",
       "      <td>11</td>\n",
       "      <td>52</td>\n",
       "      <td>14.0</td>\n",
       "      <td>1429</td>\n",
       "      <td>20</td>\n",
       "    </tr>\n",
       "    <tr>\n",
       "      <th>16</th>\n",
       "      <td>TOT</td>\n",
       "      <td>6</td>\n",
       "      <td>59</td>\n",
       "      <td>9.0</td>\n",
       "      <td>1547</td>\n",
       "      <td>6</td>\n",
       "    </tr>\n",
       "    <tr>\n",
       "      <th>17</th>\n",
       "      <td>WAT</td>\n",
       "      <td>19</td>\n",
       "      <td>34</td>\n",
       "      <td>17.0</td>\n",
       "      <td>1334</td>\n",
       "      <td>57</td>\n",
       "    </tr>\n",
       "    <tr>\n",
       "      <th>18</th>\n",
       "      <td>WHU</td>\n",
       "      <td>16</td>\n",
       "      <td>39</td>\n",
       "      <td>13.0</td>\n",
       "      <td>1433</td>\n",
       "      <td>21</td>\n",
       "    </tr>\n",
       "    <tr>\n",
       "      <th>19</th>\n",
       "      <td>WOL</td>\n",
       "      <td>7</td>\n",
       "      <td>59</td>\n",
       "      <td>6.0</td>\n",
       "      <td>1655</td>\n",
       "      <td>39</td>\n",
       "    </tr>\n",
       "  </tbody>\n",
       "</table>\n",
       "</div>"
      ],
      "text/plain": [
       "   short_name  position  points  fpoints_rank  total_points  code\n",
       "0         ARS         8      56           8.0          1580     3\n",
       "1         AVL        17      35          16.0          1357     7\n",
       "2         BOU        18      34          19.0          1265    91\n",
       "3         BHA        15      41          15.0          1389    36\n",
       "4         BUR        10      54          10.0          1544    90\n",
       "5         CHE         4      66           5.0          1687     8\n",
       "6         CRY        14      43          18.0          1333    31\n",
       "7         EVE        12      49          12.0          1444    11\n",
       "8         LEI         5      62           3.0          1816    13\n",
       "9         LIV         1      99           1.0          2101    14\n",
       "10        MCI         2      81           2.0          2100    43\n",
       "11        MUN         3      66           4.0          1752     1\n",
       "12        NEW        13      44          11.0          1512     4\n",
       "13        NOR        20      21          20.0          1140    45\n",
       "14        SHU         9      54           7.0          1594    49\n",
       "15        SOU        11      52          14.0          1429    20\n",
       "16        TOT         6      59           9.0          1547     6\n",
       "17        WAT        19      34          17.0          1334    57\n",
       "18        WHU        16      39          13.0          1433    21\n",
       "19        WOL         7      59           6.0          1655    39"
      ]
     },
     "execution_count": 94,
     "metadata": {},
     "output_type": "execute_result"
    }
   ],
   "source": [
    "fpoints_table = players2020.groupby('team_code')['total_points'].sum()\n",
    "fpoints_table = pd.DataFrame(fpoints_table)\n",
    "fpoints_table['code'] = fpoints_table.index\n",
    "fpoints_table['fpoints_rank']=fpoints_table['total_points'].rank(ascending = False)\n",
    "leaguetable_2020 = teams2020[['short_name','code','win','draw','loss','points','position','strength','strength_overall_home','strength_overall_away','strength_attack_home','strength_attack_away','strength_defence_home','strength_defence_away','pulse_id']]\n",
    "league_fpoints = leaguetable_2020.join(fpoints_table, on='code', how='left',lsuffix = 'lt')\n",
    "table_comparison = league_fpoints[['short_name','position','points','fpoints_rank','total_points','code']]\n",
    "table_comparison"
   ]
  },
  {
   "cell_type": "markdown",
   "metadata": {},
   "source": [
    "## Position based upon Points"
   ]
  },
  {
   "cell_type": "code",
   "execution_count": 95,
   "metadata": {},
   "outputs": [
    {
     "data": {
      "text/html": [
       "<div>\n",
       "<style scoped>\n",
       "    .dataframe tbody tr th:only-of-type {\n",
       "        vertical-align: middle;\n",
       "    }\n",
       "\n",
       "    .dataframe tbody tr th {\n",
       "        vertical-align: top;\n",
       "    }\n",
       "\n",
       "    .dataframe thead th {\n",
       "        text-align: right;\n",
       "    }\n",
       "</style>\n",
       "<table border=\"1\" class=\"dataframe\">\n",
       "  <thead>\n",
       "    <tr style=\"text-align: right;\">\n",
       "      <th></th>\n",
       "      <th>short_name</th>\n",
       "      <th>position</th>\n",
       "      <th>points</th>\n",
       "      <th>fpoints_rank</th>\n",
       "      <th>total_points</th>\n",
       "      <th>code</th>\n",
       "    </tr>\n",
       "  </thead>\n",
       "  <tbody>\n",
       "    <tr>\n",
       "      <th>9</th>\n",
       "      <td>LIV</td>\n",
       "      <td>1</td>\n",
       "      <td>99</td>\n",
       "      <td>1.0</td>\n",
       "      <td>2101</td>\n",
       "      <td>14</td>\n",
       "    </tr>\n",
       "    <tr>\n",
       "      <th>10</th>\n",
       "      <td>MCI</td>\n",
       "      <td>2</td>\n",
       "      <td>81</td>\n",
       "      <td>2.0</td>\n",
       "      <td>2100</td>\n",
       "      <td>43</td>\n",
       "    </tr>\n",
       "    <tr>\n",
       "      <th>11</th>\n",
       "      <td>MUN</td>\n",
       "      <td>3</td>\n",
       "      <td>66</td>\n",
       "      <td>4.0</td>\n",
       "      <td>1752</td>\n",
       "      <td>1</td>\n",
       "    </tr>\n",
       "    <tr>\n",
       "      <th>5</th>\n",
       "      <td>CHE</td>\n",
       "      <td>4</td>\n",
       "      <td>66</td>\n",
       "      <td>5.0</td>\n",
       "      <td>1687</td>\n",
       "      <td>8</td>\n",
       "    </tr>\n",
       "    <tr>\n",
       "      <th>8</th>\n",
       "      <td>LEI</td>\n",
       "      <td>5</td>\n",
       "      <td>62</td>\n",
       "      <td>3.0</td>\n",
       "      <td>1816</td>\n",
       "      <td>13</td>\n",
       "    </tr>\n",
       "    <tr>\n",
       "      <th>16</th>\n",
       "      <td>TOT</td>\n",
       "      <td>6</td>\n",
       "      <td>59</td>\n",
       "      <td>9.0</td>\n",
       "      <td>1547</td>\n",
       "      <td>6</td>\n",
       "    </tr>\n",
       "    <tr>\n",
       "      <th>19</th>\n",
       "      <td>WOL</td>\n",
       "      <td>7</td>\n",
       "      <td>59</td>\n",
       "      <td>6.0</td>\n",
       "      <td>1655</td>\n",
       "      <td>39</td>\n",
       "    </tr>\n",
       "    <tr>\n",
       "      <th>0</th>\n",
       "      <td>ARS</td>\n",
       "      <td>8</td>\n",
       "      <td>56</td>\n",
       "      <td>8.0</td>\n",
       "      <td>1580</td>\n",
       "      <td>3</td>\n",
       "    </tr>\n",
       "    <tr>\n",
       "      <th>14</th>\n",
       "      <td>SHU</td>\n",
       "      <td>9</td>\n",
       "      <td>54</td>\n",
       "      <td>7.0</td>\n",
       "      <td>1594</td>\n",
       "      <td>49</td>\n",
       "    </tr>\n",
       "    <tr>\n",
       "      <th>4</th>\n",
       "      <td>BUR</td>\n",
       "      <td>10</td>\n",
       "      <td>54</td>\n",
       "      <td>10.0</td>\n",
       "      <td>1544</td>\n",
       "      <td>90</td>\n",
       "    </tr>\n",
       "    <tr>\n",
       "      <th>15</th>\n",
       "      <td>SOU</td>\n",
       "      <td>11</td>\n",
       "      <td>52</td>\n",
       "      <td>14.0</td>\n",
       "      <td>1429</td>\n",
       "      <td>20</td>\n",
       "    </tr>\n",
       "    <tr>\n",
       "      <th>7</th>\n",
       "      <td>EVE</td>\n",
       "      <td>12</td>\n",
       "      <td>49</td>\n",
       "      <td>12.0</td>\n",
       "      <td>1444</td>\n",
       "      <td>11</td>\n",
       "    </tr>\n",
       "    <tr>\n",
       "      <th>12</th>\n",
       "      <td>NEW</td>\n",
       "      <td>13</td>\n",
       "      <td>44</td>\n",
       "      <td>11.0</td>\n",
       "      <td>1512</td>\n",
       "      <td>4</td>\n",
       "    </tr>\n",
       "    <tr>\n",
       "      <th>6</th>\n",
       "      <td>CRY</td>\n",
       "      <td>14</td>\n",
       "      <td>43</td>\n",
       "      <td>18.0</td>\n",
       "      <td>1333</td>\n",
       "      <td>31</td>\n",
       "    </tr>\n",
       "    <tr>\n",
       "      <th>3</th>\n",
       "      <td>BHA</td>\n",
       "      <td>15</td>\n",
       "      <td>41</td>\n",
       "      <td>15.0</td>\n",
       "      <td>1389</td>\n",
       "      <td>36</td>\n",
       "    </tr>\n",
       "    <tr>\n",
       "      <th>18</th>\n",
       "      <td>WHU</td>\n",
       "      <td>16</td>\n",
       "      <td>39</td>\n",
       "      <td>13.0</td>\n",
       "      <td>1433</td>\n",
       "      <td>21</td>\n",
       "    </tr>\n",
       "    <tr>\n",
       "      <th>1</th>\n",
       "      <td>AVL</td>\n",
       "      <td>17</td>\n",
       "      <td>35</td>\n",
       "      <td>16.0</td>\n",
       "      <td>1357</td>\n",
       "      <td>7</td>\n",
       "    </tr>\n",
       "    <tr>\n",
       "      <th>2</th>\n",
       "      <td>BOU</td>\n",
       "      <td>18</td>\n",
       "      <td>34</td>\n",
       "      <td>19.0</td>\n",
       "      <td>1265</td>\n",
       "      <td>91</td>\n",
       "    </tr>\n",
       "    <tr>\n",
       "      <th>17</th>\n",
       "      <td>WAT</td>\n",
       "      <td>19</td>\n",
       "      <td>34</td>\n",
       "      <td>17.0</td>\n",
       "      <td>1334</td>\n",
       "      <td>57</td>\n",
       "    </tr>\n",
       "    <tr>\n",
       "      <th>13</th>\n",
       "      <td>NOR</td>\n",
       "      <td>20</td>\n",
       "      <td>21</td>\n",
       "      <td>20.0</td>\n",
       "      <td>1140</td>\n",
       "      <td>45</td>\n",
       "    </tr>\n",
       "  </tbody>\n",
       "</table>\n",
       "</div>"
      ],
      "text/plain": [
       "   short_name  position  points  fpoints_rank  total_points  code\n",
       "9         LIV         1      99           1.0          2101    14\n",
       "10        MCI         2      81           2.0          2100    43\n",
       "11        MUN         3      66           4.0          1752     1\n",
       "5         CHE         4      66           5.0          1687     8\n",
       "8         LEI         5      62           3.0          1816    13\n",
       "16        TOT         6      59           9.0          1547     6\n",
       "19        WOL         7      59           6.0          1655    39\n",
       "0         ARS         8      56           8.0          1580     3\n",
       "14        SHU         9      54           7.0          1594    49\n",
       "4         BUR        10      54          10.0          1544    90\n",
       "15        SOU        11      52          14.0          1429    20\n",
       "7         EVE        12      49          12.0          1444    11\n",
       "12        NEW        13      44          11.0          1512     4\n",
       "6         CRY        14      43          18.0          1333    31\n",
       "3         BHA        15      41          15.0          1389    36\n",
       "18        WHU        16      39          13.0          1433    21\n",
       "1         AVL        17      35          16.0          1357     7\n",
       "2         BOU        18      34          19.0          1265    91\n",
       "17        WAT        19      34          17.0          1334    57\n",
       "13        NOR        20      21          20.0          1140    45"
      ]
     },
     "execution_count": 95,
     "metadata": {},
     "output_type": "execute_result"
    }
   ],
   "source": [
    "table_comparison.sort_values('position')"
   ]
  },
  {
   "cell_type": "code",
   "execution_count": 96,
   "metadata": {},
   "outputs": [],
   "source": [
    "X = table_comparison['points'].values.reshape(-1,1)\n",
    "y = table_comparison['total_points'].values.reshape(-1,1)\n",
    "names = table_comparison['short_name'].values.reshape(-1,1)"
   ]
  },
  {
   "cell_type": "markdown",
   "metadata": {},
   "source": [
    "## Multiple Linear Regression:"
   ]
  },
  {
   "cell_type": "code",
   "execution_count": 116,
   "metadata": {},
   "outputs": [],
   "source": [
    "from sklearn.linear_model import LinearRegression\n",
    "model1 = LinearRegression()\n",
    "model1.fit(X,y)\n",
    "y_pred1 = model1.predict(X)"
   ]
  },
  {
   "cell_type": "markdown",
   "metadata": {},
   "source": [
    "## SVR:"
   ]
  },
  {
   "cell_type": "code",
   "execution_count": 118,
   "metadata": {},
   "outputs": [],
   "source": [
    "from sklearn.svm import SVR\n",
    "model2 = SVR(kernel=\"linear\")\n",
    "model2.fit(X, y)\n",
    "y_pred2 = model2.predict(X)"
   ]
  },
  {
   "cell_type": "markdown",
   "metadata": {},
   "source": [
    "## Decision Tree:"
   ]
  },
  {
   "cell_type": "code",
   "execution_count": 120,
   "metadata": {},
   "outputs": [],
   "source": [
    "from sklearn.tree import DecisionTreeRegressor\n",
    "model3 = DecisionTreeRegressor(splitter=\"best\",random_state = 42)\n",
    "model3.fit(X, y)\n",
    "y_pred3 = model3.predict(X)"
   ]
  },
  {
   "cell_type": "markdown",
   "metadata": {},
   "source": [
    "## Random Forest:"
   ]
  },
  {
   "cell_type": "code",
   "execution_count": 51,
   "metadata": {},
   "outputs": [],
   "source": [
    "from sklearn.ensemble import RandomForestRegressor\n",
    "model4 = RandomForestRegressor(n_estimators = 100,random_state = 0)\n",
    "model4.fit(X, y)\n",
    "y_pred4 = model4.predict(X)"
   ]
  },
  {
   "cell_type": "markdown",
   "metadata": {},
   "source": [
    "## Visualising the Predictions:"
   ]
  },
  {
   "cell_type": "code",
   "execution_count": 56,
   "metadata": {},
   "outputs": [
    {
     "data": {
      "image/png": "[encoded data removed]",
      "text/plain": [
       "<Figure size 1080x720 with 1 Axes>"
      ]
     },
     "metadata": {
      "needs_background": "light"
     },
     "output_type": "display_data"
    }
   ],
   "source": [
    "import matplotlib.pyplot as plt\n",
    "plt.figure(figsize=(15,10))\n",
    "plt.scatter(X,y,color='black')\n",
    "plt.plot(X,y_pred2, color='blue', linewidth=3)\n",
    "\n",
    "for a,b,l in zip(X,y,names):\n",
    "    plt.annotate(l,(a,b), textcoords=\"offset points\", xytext=(0,7),ha='center')\n",
    "plt.show()"
   ]
  },
  {
   "cell_type": "markdown",
   "metadata": {},
   "source": [
    "## R-2 Score for each Algorithm:"
   ]
  },
  {
   "cell_type": "code",
   "execution_count": 53,
   "metadata": {},
   "outputs": [
    {
     "name": "stdout",
     "output_type": "stream",
     "text": [
      "R-2 Score for Each Algortihm:\n",
      "\n",
      "Multiple Linear Regression:  0.9134372637182558\n",
      "SVR:  0.9004807525836448\n",
      "Decision Tree:  0.9903346652429051\n",
      "Random Forest:  0.9476743304043728\n"
     ]
    }
   ],
   "source": [
    "from sklearn.metrics import r2_score\n",
    "print(\"R-2 Score for Each Algortihm:\\n\")\n",
    "print(\"Multiple Linear Regression: \",r2_score(y, y_pred1))\n",
    "print(\"SVR: \",r2_score(y, y_pred2))\n",
    "print(\"Decision Tree: \",r2_score(y, y_pred3))\n",
    "print(\"Random Forest: \",r2_score(y, y_pred4))"
   ]
  },
  {
   "cell_type": "markdown",
   "metadata": {},
   "source": [
    "## Comparision of Algorithms"
   ]
  },
  {
   "cell_type": "code",
   "execution_count": 144,
   "metadata": {},
   "outputs": [],
   "source": [
    "name=[]\n",
    "arr=[]\n",
    "arr1=[]\n",
    "arr2=[]\n",
    "arr3=[]\n",
    "arr4=[]\n",
    "for i in y:\n",
    "    arr.append(i)\n",
    "for i in y_pred1:\n",
    "    arr1.append(i)\n",
    "for i in y_pred2:\n",
    "    arr2.append(i)\n",
    "for i in y_pred3:\n",
    "    arr3.append(i)\n",
    "for i in y_pred4:\n",
    "    arr4.append(i)\n",
    "for i in names:\n",
    "    name.append(i)"
   ]
  },
  {
   "cell_type": "code",
   "execution_count": 145,
   "metadata": {},
   "outputs": [],
   "source": [
    "datafr=pd.DataFrame({\"Name\":name,\"Total Pts\":arr,\"Total Pts Predicted by Lin Reg\":arr1,\"Total Pts Predicted by SVR\":arr2,\n",
    "                     \"Total Pts Predicted by Dec. Tree\":arr3,\"Total Pts Predicted by Rand Forest\":arr4})"
   ]
  },
  {
   "cell_type": "code",
   "execution_count": 147,
   "metadata": {},
   "outputs": [
    {
     "data": {
      "text/html": [
       "<div>\n",
       "<style scoped>\n",
       "    .dataframe tbody tr th:only-of-type {\n",
       "        vertical-align: middle;\n",
       "    }\n",
       "\n",
       "    .dataframe tbody tr th {\n",
       "        vertical-align: top;\n",
       "    }\n",
       "\n",
       "    .dataframe thead th {\n",
       "        text-align: right;\n",
       "    }\n",
       "</style>\n",
       "<table border=\"1\" class=\"dataframe\">\n",
       "  <thead>\n",
       "    <tr style=\"text-align: right;\">\n",
       "      <th></th>\n",
       "      <th>Name</th>\n",
       "      <th>Total Pts</th>\n",
       "      <th>Total Pts Predicted by Lin Reg</th>\n",
       "      <th>Total Pts Predicted by SVR</th>\n",
       "      <th>Total Pts Predicted by Dec. Tree</th>\n",
       "      <th>Total Pts Predicted by Rand Forest</th>\n",
       "    </tr>\n",
       "  </thead>\n",
       "  <tbody>\n",
       "    <tr>\n",
       "      <th>0</th>\n",
       "      <td>[ARS]</td>\n",
       "      <td>[1580]</td>\n",
       "      <td>[1599.1978410075299]</td>\n",
       "      <td>1579.900000</td>\n",
       "      <td>1580.0</td>\n",
       "      <td>1572.690000</td>\n",
       "    </tr>\n",
       "    <tr>\n",
       "      <th>1</th>\n",
       "      <td>[AVL]</td>\n",
       "      <td>[1357]</td>\n",
       "      <td>[1315.7104351302723]</td>\n",
       "      <td>1325.360465</td>\n",
       "      <td>1357.0</td>\n",
       "      <td>1342.219500</td>\n",
       "    </tr>\n",
       "    <tr>\n",
       "      <th>2</th>\n",
       "      <td>[BOU]</td>\n",
       "      <td>[1265]</td>\n",
       "      <td>[1302.211034850403]</td>\n",
       "      <td>1313.239535</td>\n",
       "      <td>1299.5</td>\n",
       "      <td>1310.939500</td>\n",
       "    </tr>\n",
       "    <tr>\n",
       "      <th>3</th>\n",
       "      <td>[BHA]</td>\n",
       "      <td>[1389]</td>\n",
       "      <td>[1396.7068368094888]</td>\n",
       "      <td>1398.086047</td>\n",
       "      <td>1389.0</td>\n",
       "      <td>1396.180000</td>\n",
       "    </tr>\n",
       "    <tr>\n",
       "      <th>4</th>\n",
       "      <td>[BUR]</td>\n",
       "      <td>[1544]</td>\n",
       "      <td>[1572.199040447791]</td>\n",
       "      <td>1555.658140</td>\n",
       "      <td>1569.0</td>\n",
       "      <td>1548.038333</td>\n",
       "    </tr>\n",
       "    <tr>\n",
       "      <th>5</th>\n",
       "      <td>[CHE]</td>\n",
       "      <td>[1687]</td>\n",
       "      <td>[1734.1918438062237]</td>\n",
       "      <td>1701.109302</td>\n",
       "      <td>1719.5</td>\n",
       "      <td>1729.224167</td>\n",
       "    </tr>\n",
       "    <tr>\n",
       "      <th>6</th>\n",
       "      <td>[CRY]</td>\n",
       "      <td>[1333]</td>\n",
       "      <td>[1423.7056373692276]</td>\n",
       "      <td>1422.327907</td>\n",
       "      <td>1333.0</td>\n",
       "      <td>1390.830000</td>\n",
       "    </tr>\n",
       "    <tr>\n",
       "      <th>7</th>\n",
       "      <td>[EVE]</td>\n",
       "      <td>[1444]</td>\n",
       "      <td>[1504.702039048444]</td>\n",
       "      <td>1495.053488</td>\n",
       "      <td>1444.0</td>\n",
       "      <td>1444.880000</td>\n",
       "    </tr>\n",
       "    <tr>\n",
       "      <th>8</th>\n",
       "      <td>[LEI]</td>\n",
       "      <td>[1816]</td>\n",
       "      <td>[1680.194242686746]</td>\n",
       "      <td>1652.625581</td>\n",
       "      <td>1816.0</td>\n",
       "      <td>1736.328333</td>\n",
       "    </tr>\n",
       "    <tr>\n",
       "      <th>9</th>\n",
       "      <td>[LIV]</td>\n",
       "      <td>[2101]</td>\n",
       "      <td>[2179.672053041914]</td>\n",
       "      <td>2101.100000</td>\n",
       "      <td>2101.0</td>\n",
       "      <td>2036.260833</td>\n",
       "    </tr>\n",
       "    <tr>\n",
       "      <th>10</th>\n",
       "      <td>[MCI]</td>\n",
       "      <td>[2100]</td>\n",
       "      <td>[1936.6828480042645]</td>\n",
       "      <td>1882.923256</td>\n",
       "      <td>2100.0</td>\n",
       "      <td>1934.311667</td>\n",
       "    </tr>\n",
       "    <tr>\n",
       "      <th>11</th>\n",
       "      <td>[MUN]</td>\n",
       "      <td>[1752]</td>\n",
       "      <td>[1734.1918438062237]</td>\n",
       "      <td>1701.109302</td>\n",
       "      <td>1719.5</td>\n",
       "      <td>1729.224167</td>\n",
       "    </tr>\n",
       "    <tr>\n",
       "      <th>12</th>\n",
       "      <td>[NEW]</td>\n",
       "      <td>[1512]</td>\n",
       "      <td>[1437.205037649097]</td>\n",
       "      <td>1434.448837</td>\n",
       "      <td>1512.0</td>\n",
       "      <td>1464.940000</td>\n",
       "    </tr>\n",
       "    <tr>\n",
       "      <th>13</th>\n",
       "      <td>[NOR]</td>\n",
       "      <td>[1140]</td>\n",
       "      <td>[1126.718831212101]</td>\n",
       "      <td>1155.667442</td>\n",
       "      <td>1140.0</td>\n",
       "      <td>1197.567500</td>\n",
       "    </tr>\n",
       "    <tr>\n",
       "      <th>14</th>\n",
       "      <td>[SHU]</td>\n",
       "      <td>[1594]</td>\n",
       "      <td>[1572.199040447791]</td>\n",
       "      <td>1555.658140</td>\n",
       "      <td>1569.0</td>\n",
       "      <td>1548.038333</td>\n",
       "    </tr>\n",
       "    <tr>\n",
       "      <th>15</th>\n",
       "      <td>[SOU]</td>\n",
       "      <td>[1429]</td>\n",
       "      <td>[1545.2002398880522]</td>\n",
       "      <td>1531.416279</td>\n",
       "      <td>1429.0</td>\n",
       "      <td>1475.600000</td>\n",
       "    </tr>\n",
       "    <tr>\n",
       "      <th>16</th>\n",
       "      <td>[TOT]</td>\n",
       "      <td>[1547]</td>\n",
       "      <td>[1639.6960418471378]</td>\n",
       "      <td>1616.262791</td>\n",
       "      <td>1601.0</td>\n",
       "      <td>1605.180000</td>\n",
       "    </tr>\n",
       "    <tr>\n",
       "      <th>17</th>\n",
       "      <td>[WAT]</td>\n",
       "      <td>[1334]</td>\n",
       "      <td>[1302.211034850403]</td>\n",
       "      <td>1313.239535</td>\n",
       "      <td>1299.5</td>\n",
       "      <td>1310.939500</td>\n",
       "    </tr>\n",
       "    <tr>\n",
       "      <th>18</th>\n",
       "      <td>[WHU]</td>\n",
       "      <td>[1433]</td>\n",
       "      <td>[1369.70803624975]</td>\n",
       "      <td>1373.844186</td>\n",
       "      <td>1433.0</td>\n",
       "      <td>1413.910000</td>\n",
       "    </tr>\n",
       "    <tr>\n",
       "      <th>19</th>\n",
       "      <td>[WOL]</td>\n",
       "      <td>[1655]</td>\n",
       "      <td>[1639.6960418471378]</td>\n",
       "      <td>1616.262791</td>\n",
       "      <td>1601.0</td>\n",
       "      <td>1605.180000</td>\n",
       "    </tr>\n",
       "  </tbody>\n",
       "</table>\n",
       "</div>"
      ],
      "text/plain": [
       "     Name Total Pts Total Pts Predicted by Lin Reg  \\\n",
       "0   [ARS]    [1580]           [1599.1978410075299]   \n",
       "1   [AVL]    [1357]           [1315.7104351302723]   \n",
       "2   [BOU]    [1265]            [1302.211034850403]   \n",
       "3   [BHA]    [1389]           [1396.7068368094888]   \n",
       "4   [BUR]    [1544]            [1572.199040447791]   \n",
       "5   [CHE]    [1687]           [1734.1918438062237]   \n",
       "6   [CRY]    [1333]           [1423.7056373692276]   \n",
       "7   [EVE]    [1444]            [1504.702039048444]   \n",
       "8   [LEI]    [1816]            [1680.194242686746]   \n",
       "9   [LIV]    [2101]            [2179.672053041914]   \n",
       "10  [MCI]    [2100]           [1936.6828480042645]   \n",
       "11  [MUN]    [1752]           [1734.1918438062237]   \n",
       "12  [NEW]    [1512]            [1437.205037649097]   \n",
       "13  [NOR]    [1140]            [1126.718831212101]   \n",
       "14  [SHU]    [1594]            [1572.199040447791]   \n",
       "15  [SOU]    [1429]           [1545.2002398880522]   \n",
       "16  [TOT]    [1547]           [1639.6960418471378]   \n",
       "17  [WAT]    [1334]            [1302.211034850403]   \n",
       "18  [WHU]    [1433]             [1369.70803624975]   \n",
       "19  [WOL]    [1655]           [1639.6960418471378]   \n",
       "\n",
       "    Total Pts Predicted by SVR  Total Pts Predicted by Dec. Tree  \\\n",
       "0                  1579.900000                            1580.0   \n",
       "1                  1325.360465                            1357.0   \n",
       "2                  1313.239535                            1299.5   \n",
       "3                  1398.086047                            1389.0   \n",
       "4                  1555.658140                            1569.0   \n",
       "5                  1701.109302                            1719.5   \n",
       "6                  1422.327907                            1333.0   \n",
       "7                  1495.053488                            1444.0   \n",
       "8                  1652.625581                            1816.0   \n",
       "9                  2101.100000                            2101.0   \n",
       "10                 1882.923256                            2100.0   \n",
       "11                 1701.109302                            1719.5   \n",
       "12                 1434.448837                            1512.0   \n",
       "13                 1155.667442                            1140.0   \n",
       "14                 1555.658140                            1569.0   \n",
       "15                 1531.416279                            1429.0   \n",
       "16                 1616.262791                            1601.0   \n",
       "17                 1313.239535                            1299.5   \n",
       "18                 1373.844186                            1433.0   \n",
       "19                 1616.262791                            1601.0   \n",
       "\n",
       "    Total Pts Predicted by Rand Forest  \n",
       "0                          1572.690000  \n",
       "1                          1342.219500  \n",
       "2                          1310.939500  \n",
       "3                          1396.180000  \n",
       "4                          1548.038333  \n",
       "5                          1729.224167  \n",
       "6                          1390.830000  \n",
       "7                          1444.880000  \n",
       "8                          1736.328333  \n",
       "9                          2036.260833  \n",
       "10                         1934.311667  \n",
       "11                         1729.224167  \n",
       "12                         1464.940000  \n",
       "13                         1197.567500  \n",
       "14                         1548.038333  \n",
       "15                         1475.600000  \n",
       "16                         1605.180000  \n",
       "17                         1310.939500  \n",
       "18                         1413.910000  \n",
       "19                         1605.180000  "
      ]
     },
     "execution_count": 147,
     "metadata": {},
     "output_type": "execute_result"
    }
   ],
   "source": [
    "datafr"
   ]
  }
 ],
 "metadata": {
  "kernelspec": {
   "display_name": "Python 3",
   "language": "python",
   "name": "python3"
  },
  "language_info": {
   "codemirror_mode": {
    "name": "ipython",
    "version": 3
   },
   "file_extension": ".py",
   "mimetype": "text/x-python",
   "name": "python",
   "nbconvert_exporter": "python",
   "pygments_lexer": "ipython3",
   "version": "3.7.7"
  }
 },
 "nbformat": 4,
 "nbformat_minor": 1
}
