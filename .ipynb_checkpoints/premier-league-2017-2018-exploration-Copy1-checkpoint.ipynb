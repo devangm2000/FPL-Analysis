{
 "cells": [
  {
   "cell_type": "markdown",
   "metadata": {
    "_cell_guid": "f8e207d9-de42-468e-a262-2c20fb0669fb",
    "_uuid": "fe5a36c668a3585b6d3a82faf838fb096235a4c8"
   },
   "source": [
    "# Premier League 2017/2018 Exploration\n",
    "\n",
    "\n",
    "![title](http://chano8.com/wp-content/uploads/2017/04/Premier-league1.jpg)\n",
    "\n",
    "\n",
    "The Premier League is an English professional league for men's association football clubs. At the top of the English football league system, it is the country's primary football competition. Contested by 20 clubs, it operates on a system of promotion and relegation with the English Football League (EFL; known as \"The Football League\" before 2016–17). Welsh clubs that compete in the English football league system can also qualify.\n",
    "\n",
    "Fantasy Premier league is a game in which participants assemble an imaginary team of real life footballers and score points based on those players' actual statistical performance or their perceived contribution on the field of play. Fantasy premier league has evolved in recent years from a simple recreational activity into a significant business due to exposure via the internet.\n",
    "\n",
    "in this notebook, I will try to extract some information by using a statistical visualization. I don't have any objective in this project. I just retrive as much information from this data. I would be really happy if i got some feedbacks from you or you point out some mistakes.\n",
    "\n",
    "cheers."
   ]
  },
  {
   "cell_type": "markdown",
   "metadata": {
    "_cell_guid": "7d700686-bbf8-4425-a042-0bda3bc7171f",
    "_uuid": "4d110ffd8ef614f2128c81970611948ca68bf278"
   },
   "source": [
    "## 1. Importing the relevant Libraries\n",
    "This is the part where i imported several libraries that are useful for this project"
   ]
  },
  {
   "cell_type": "code",
   "execution_count": 18,
   "metadata": {
    "_cell_guid": "605eb3dd-0858-4773-913d-63222875e72f",
    "_uuid": "5638032b2ca4b615a8e4a19b24969177cc76917d"
   },
   "outputs": [
    {
     "data": {
      "text/html": [
       "        <script type=\"text/javascript\">\n",
       "        window.PlotlyConfig = {MathJaxConfig: 'local'};\n",
       "        if (window.MathJax) {MathJax.Hub.Config({SVG: {font: \"STIX-Web\"}});}\n",
       "        if (typeof require !== 'undefined') {\n",
       "        require.undef(\"plotly\");\n",
       "        requirejs.config({\n",
       "            paths: {\n",
       "                'plotly': ['https://cdn.plot.ly/plotly-latest.min']\n",
       "            }\n",
       "        });\n",
       "        require(['plotly'], function(Plotly) {\n",
       "            window._Plotly = Plotly;\n",
       "        });\n",
       "        }\n",
       "        </script>\n",
       "        "
      ]
     },
     "metadata": {},
     "output_type": "display_data"
    }
   ],
   "source": [
    "import pandas as pd\n",
    "import matplotlib.pyplot as plt\n",
    "#import matplotlib.patches as mpatches\n",
    "import seaborn as sns\n",
    "import numpy as np\n",
    "\n",
    "import plotly.graph_objs as go\n",
    "import plotly.offline as py\n",
    "py.init_notebook_mode(connected=True)\n",
    "import numpy as np"
   ]
  },
  {
   "cell_type": "markdown",
   "metadata": {
    "_cell_guid": "03e3c909-e4e4-4aa7-9aab-021976dd5faa",
    "_uuid": "7d477a4a0d7acf415004c0847452e8e931b7cd07"
   },
   "source": [
    "## 2. Getting the data ready"
   ]
  },
  {
   "cell_type": "code",
   "execution_count": 19,
   "metadata": {
    "_cell_guid": "f02cdcbe-6903-4258-91ef-8f173172bee6",
    "_uuid": "9f1ec2991ad1fb526a411332319249474ee02cd6"
   },
   "outputs": [
    {
     "data": {
      "text/html": [
       "<div>\n",
       "<style scoped>\n",
       "    .dataframe tbody tr th:only-of-type {\n",
       "        vertical-align: middle;\n",
       "    }\n",
       "\n",
       "    .dataframe tbody tr th {\n",
       "        vertical-align: top;\n",
       "    }\n",
       "\n",
       "    .dataframe thead th {\n",
       "        text-align: right;\n",
       "    }\n",
       "</style>\n",
       "<table border=\"1\" class=\"dataframe\">\n",
       "  <thead>\n",
       "    <tr style=\"text-align: right;\">\n",
       "      <th></th>\n",
       "      <th>name</th>\n",
       "      <th>club</th>\n",
       "      <th>age</th>\n",
       "      <th>position</th>\n",
       "      <th>position_cat</th>\n",
       "      <th>market_value</th>\n",
       "      <th>page_views</th>\n",
       "      <th>fpl_value</th>\n",
       "      <th>fpl_sel</th>\n",
       "      <th>fpl_points</th>\n",
       "      <th>region</th>\n",
       "      <th>nationality</th>\n",
       "      <th>new_foreign</th>\n",
       "      <th>age_cat</th>\n",
       "      <th>club_id</th>\n",
       "      <th>big_club</th>\n",
       "      <th>new_signing</th>\n",
       "      <th>fpl_ratio</th>\n",
       "    </tr>\n",
       "  </thead>\n",
       "  <tbody>\n",
       "    <tr>\n",
       "      <th>0</th>\n",
       "      <td>Alexis Sanchez</td>\n",
       "      <td>Arsenal</td>\n",
       "      <td>28</td>\n",
       "      <td>LW</td>\n",
       "      <td>1</td>\n",
       "      <td>65.0</td>\n",
       "      <td>4329</td>\n",
       "      <td>12.0</td>\n",
       "      <td>17.10%</td>\n",
       "      <td>264</td>\n",
       "      <td>3.0</td>\n",
       "      <td>Chile</td>\n",
       "      <td>0</td>\n",
       "      <td>4</td>\n",
       "      <td>1</td>\n",
       "      <td>1</td>\n",
       "      <td>0</td>\n",
       "      <td>22.000000</td>\n",
       "    </tr>\n",
       "    <tr>\n",
       "      <th>1</th>\n",
       "      <td>Mesut Ozil</td>\n",
       "      <td>Arsenal</td>\n",
       "      <td>28</td>\n",
       "      <td>AM</td>\n",
       "      <td>1</td>\n",
       "      <td>50.0</td>\n",
       "      <td>4395</td>\n",
       "      <td>9.5</td>\n",
       "      <td>5.60%</td>\n",
       "      <td>167</td>\n",
       "      <td>2.0</td>\n",
       "      <td>Germany</td>\n",
       "      <td>0</td>\n",
       "      <td>4</td>\n",
       "      <td>1</td>\n",
       "      <td>1</td>\n",
       "      <td>0</td>\n",
       "      <td>17.578947</td>\n",
       "    </tr>\n",
       "    <tr>\n",
       "      <th>2</th>\n",
       "      <td>Petr Cech</td>\n",
       "      <td>Arsenal</td>\n",
       "      <td>35</td>\n",
       "      <td>GK</td>\n",
       "      <td>4</td>\n",
       "      <td>7.0</td>\n",
       "      <td>1529</td>\n",
       "      <td>5.5</td>\n",
       "      <td>5.90%</td>\n",
       "      <td>134</td>\n",
       "      <td>2.0</td>\n",
       "      <td>Czech Republic</td>\n",
       "      <td>0</td>\n",
       "      <td>6</td>\n",
       "      <td>1</td>\n",
       "      <td>1</td>\n",
       "      <td>0</td>\n",
       "      <td>24.363636</td>\n",
       "    </tr>\n",
       "    <tr>\n",
       "      <th>3</th>\n",
       "      <td>Theo Walcott</td>\n",
       "      <td>Arsenal</td>\n",
       "      <td>28</td>\n",
       "      <td>RW</td>\n",
       "      <td>1</td>\n",
       "      <td>20.0</td>\n",
       "      <td>2393</td>\n",
       "      <td>7.5</td>\n",
       "      <td>1.50%</td>\n",
       "      <td>122</td>\n",
       "      <td>1.0</td>\n",
       "      <td>England</td>\n",
       "      <td>0</td>\n",
       "      <td>4</td>\n",
       "      <td>1</td>\n",
       "      <td>1</td>\n",
       "      <td>0</td>\n",
       "      <td>16.266667</td>\n",
       "    </tr>\n",
       "    <tr>\n",
       "      <th>4</th>\n",
       "      <td>Laurent Koscielny</td>\n",
       "      <td>Arsenal</td>\n",
       "      <td>31</td>\n",
       "      <td>CB</td>\n",
       "      <td>3</td>\n",
       "      <td>22.0</td>\n",
       "      <td>912</td>\n",
       "      <td>6.0</td>\n",
       "      <td>0.70%</td>\n",
       "      <td>121</td>\n",
       "      <td>2.0</td>\n",
       "      <td>France</td>\n",
       "      <td>0</td>\n",
       "      <td>4</td>\n",
       "      <td>1</td>\n",
       "      <td>1</td>\n",
       "      <td>0</td>\n",
       "      <td>20.166667</td>\n",
       "    </tr>\n",
       "  </tbody>\n",
       "</table>\n",
       "</div>"
      ],
      "text/plain": [
       "                name     club  age position  position_cat  market_value  \\\n",
       "0     Alexis Sanchez  Arsenal   28       LW             1          65.0   \n",
       "1         Mesut Ozil  Arsenal   28       AM             1          50.0   \n",
       "2          Petr Cech  Arsenal   35       GK             4           7.0   \n",
       "3       Theo Walcott  Arsenal   28       RW             1          20.0   \n",
       "4  Laurent Koscielny  Arsenal   31       CB             3          22.0   \n",
       "\n",
       "   page_views  fpl_value fpl_sel  fpl_points  region     nationality  \\\n",
       "0        4329       12.0  17.10%         264     3.0           Chile   \n",
       "1        4395        9.5   5.60%         167     2.0         Germany   \n",
       "2        1529        5.5   5.90%         134     2.0  Czech Republic   \n",
       "3        2393        7.5   1.50%         122     1.0         England   \n",
       "4         912        6.0   0.70%         121     2.0          France   \n",
       "\n",
       "   new_foreign  age_cat  club_id  big_club  new_signing  fpl_ratio  \n",
       "0            0        4        1         1            0  22.000000  \n",
       "1            0        4        1         1            0  17.578947  \n",
       "2            0        6        1         1            0  24.363636  \n",
       "3            0        4        1         1            0  16.266667  \n",
       "4            0        4        1         1            0  20.166667  "
      ]
     },
     "execution_count": 19,
     "metadata": {},
     "output_type": "execute_result"
    }
   ],
   "source": [
    "#insert the data\n",
    "df = pd.read_csv('epldata_final.csv')\n",
    "df['fpl_ratio'] = pd.DataFrame(df['fpl_points']/df['fpl_value'])\n",
    "df.head()"
   ]
  },
  {
   "cell_type": "code",
   "execution_count": 20,
   "metadata": {
    "_cell_guid": "a04bb478-b473-44bd-b70c-440da92a20b7",
    "_uuid": "91453d2f9e776a1e64de69d0f3720a62506605ae"
   },
   "outputs": [
    {
     "data": {
      "text/html": [
       "<div>\n",
       "<style scoped>\n",
       "    .dataframe tbody tr th:only-of-type {\n",
       "        vertical-align: middle;\n",
       "    }\n",
       "\n",
       "    .dataframe tbody tr th {\n",
       "        vertical-align: top;\n",
       "    }\n",
       "\n",
       "    .dataframe thead th {\n",
       "        text-align: right;\n",
       "    }\n",
       "</style>\n",
       "<table border=\"1\" class=\"dataframe\">\n",
       "  <thead>\n",
       "    <tr style=\"text-align: right;\">\n",
       "      <th></th>\n",
       "      <th>name</th>\n",
       "      <th>club</th>\n",
       "      <th>age</th>\n",
       "      <th>position</th>\n",
       "      <th>position_cat</th>\n",
       "      <th>market_value</th>\n",
       "      <th>page_views</th>\n",
       "      <th>fpl_value</th>\n",
       "      <th>fpl_sel</th>\n",
       "      <th>fpl_points</th>\n",
       "      <th>region</th>\n",
       "      <th>nationality</th>\n",
       "      <th>new_foreign</th>\n",
       "      <th>age_cat</th>\n",
       "      <th>club_id</th>\n",
       "      <th>big_club</th>\n",
       "      <th>new_signing</th>\n",
       "      <th>fpl_ratio</th>\n",
       "    </tr>\n",
       "  </thead>\n",
       "  <tbody>\n",
       "    <tr>\n",
       "      <th>0</th>\n",
       "      <td>Alexis Sanchez</td>\n",
       "      <td>Arsenal</td>\n",
       "      <td>28</td>\n",
       "      <td>LW</td>\n",
       "      <td>1</td>\n",
       "      <td>65.0</td>\n",
       "      <td>4329</td>\n",
       "      <td>12.0</td>\n",
       "      <td>0.171</td>\n",
       "      <td>264</td>\n",
       "      <td>3.0</td>\n",
       "      <td>Chile</td>\n",
       "      <td>0</td>\n",
       "      <td>4</td>\n",
       "      <td>1</td>\n",
       "      <td>1</td>\n",
       "      <td>0</td>\n",
       "      <td>22.000000</td>\n",
       "    </tr>\n",
       "    <tr>\n",
       "      <th>1</th>\n",
       "      <td>Mesut Ozil</td>\n",
       "      <td>Arsenal</td>\n",
       "      <td>28</td>\n",
       "      <td>AM</td>\n",
       "      <td>1</td>\n",
       "      <td>50.0</td>\n",
       "      <td>4395</td>\n",
       "      <td>9.5</td>\n",
       "      <td>0.056</td>\n",
       "      <td>167</td>\n",
       "      <td>2.0</td>\n",
       "      <td>Germany</td>\n",
       "      <td>0</td>\n",
       "      <td>4</td>\n",
       "      <td>1</td>\n",
       "      <td>1</td>\n",
       "      <td>0</td>\n",
       "      <td>17.578947</td>\n",
       "    </tr>\n",
       "    <tr>\n",
       "      <th>2</th>\n",
       "      <td>Petr Cech</td>\n",
       "      <td>Arsenal</td>\n",
       "      <td>35</td>\n",
       "      <td>GK</td>\n",
       "      <td>4</td>\n",
       "      <td>7.0</td>\n",
       "      <td>1529</td>\n",
       "      <td>5.5</td>\n",
       "      <td>0.059</td>\n",
       "      <td>134</td>\n",
       "      <td>2.0</td>\n",
       "      <td>Czech Republic</td>\n",
       "      <td>0</td>\n",
       "      <td>6</td>\n",
       "      <td>1</td>\n",
       "      <td>1</td>\n",
       "      <td>0</td>\n",
       "      <td>24.363636</td>\n",
       "    </tr>\n",
       "    <tr>\n",
       "      <th>3</th>\n",
       "      <td>Theo Walcott</td>\n",
       "      <td>Arsenal</td>\n",
       "      <td>28</td>\n",
       "      <td>RW</td>\n",
       "      <td>1</td>\n",
       "      <td>20.0</td>\n",
       "      <td>2393</td>\n",
       "      <td>7.5</td>\n",
       "      <td>0.015</td>\n",
       "      <td>122</td>\n",
       "      <td>1.0</td>\n",
       "      <td>England</td>\n",
       "      <td>0</td>\n",
       "      <td>4</td>\n",
       "      <td>1</td>\n",
       "      <td>1</td>\n",
       "      <td>0</td>\n",
       "      <td>16.266667</td>\n",
       "    </tr>\n",
       "    <tr>\n",
       "      <th>4</th>\n",
       "      <td>Laurent Koscielny</td>\n",
       "      <td>Arsenal</td>\n",
       "      <td>31</td>\n",
       "      <td>CB</td>\n",
       "      <td>3</td>\n",
       "      <td>22.0</td>\n",
       "      <td>912</td>\n",
       "      <td>6.0</td>\n",
       "      <td>0.007</td>\n",
       "      <td>121</td>\n",
       "      <td>2.0</td>\n",
       "      <td>France</td>\n",
       "      <td>0</td>\n",
       "      <td>4</td>\n",
       "      <td>1</td>\n",
       "      <td>1</td>\n",
       "      <td>0</td>\n",
       "      <td>20.166667</td>\n",
       "    </tr>\n",
       "  </tbody>\n",
       "</table>\n",
       "</div>"
      ],
      "text/plain": [
       "                name     club  age position  position_cat  market_value  \\\n",
       "0     Alexis Sanchez  Arsenal   28       LW             1          65.0   \n",
       "1         Mesut Ozil  Arsenal   28       AM             1          50.0   \n",
       "2          Petr Cech  Arsenal   35       GK             4           7.0   \n",
       "3       Theo Walcott  Arsenal   28       RW             1          20.0   \n",
       "4  Laurent Koscielny  Arsenal   31       CB             3          22.0   \n",
       "\n",
       "   page_views  fpl_value  fpl_sel  fpl_points  region     nationality  \\\n",
       "0        4329       12.0    0.171         264     3.0           Chile   \n",
       "1        4395        9.5    0.056         167     2.0         Germany   \n",
       "2        1529        5.5    0.059         134     2.0  Czech Republic   \n",
       "3        2393        7.5    0.015         122     1.0         England   \n",
       "4         912        6.0    0.007         121     2.0          France   \n",
       "\n",
       "   new_foreign  age_cat  club_id  big_club  new_signing  fpl_ratio  \n",
       "0            0        4        1         1            0  22.000000  \n",
       "1            0        4        1         1            0  17.578947  \n",
       "2            0        6        1         1            0  24.363636  \n",
       "3            0        4        1         1            0  16.266667  \n",
       "4            0        4        1         1            0  20.166667  "
      ]
     },
     "execution_count": 20,
     "metadata": {},
     "output_type": "execute_result"
    }
   ],
   "source": [
    "#transport type of fpl_selection \n",
    "df['fpl_sel'] = df['fpl_sel'].replace('%','',regex=True).astype('float')/100\n",
    "#print(df.dtypes)\n",
    "df.head()"
   ]
  },
  {
   "cell_type": "code",
   "execution_count": 21,
   "metadata": {
    "_cell_guid": "5d09d51c-cae4-4429-8034-7fc77981f90c",
    "_uuid": "962826914cc0b2a3ab035f30ee5804b8ea0670fd"
   },
   "outputs": [],
   "source": [
    "#These countries bellow is listed as united kingdom in iso3166, thus their value have to be change\n",
    "df=df.replace(\"Northern Ireland\",\"United Kingdom\")\n",
    "df=df.replace(\"England\",\"United Kingdom\")\n",
    "df=df.replace(\"Wales\",\"United Kingdom\")\n",
    "df=df.replace(\"Scotland\",\"United Kingdom\")\n",
    "df=df.replace(\"United Kingdom\",\"United Kingdom of Great Britain and Northern Ireland\")"
   ]
  },
  {
   "cell_type": "markdown",
   "metadata": {
    "_cell_guid": "845bbb5a-422e-4c80-a860-a1e4149bc92f",
    "_uuid": "c5aabeb4f1d79a01672b31168041b5426883a87b"
   },
   "source": [
    "## 3. Visualizing the data\n",
    "### Number Of Player in every Clubs and position"
   ]
  },
  {
   "cell_type": "code",
   "execution_count": 22,
   "metadata": {
    "_cell_guid": "d9add7ca-76a1-4ce2-8efd-2b8ed97fd153",
    "_uuid": "2682182f24763a8287885909691cb59b1c1d3c43"
   },
   "outputs": [
    {
     "data": {
      "image/png": "[encoded data removed]",
      "text/plain": [
       "<Figure size 864x576 with 1 Axes>"
      ]
     },
     "metadata": {
      "needs_background": "light"
     },
     "output_type": "display_data"
    }
   ],
   "source": [
    "pd.crosstab(df.club,df.position).plot.bar(stacked=True,width=1,color=sns.color_palette('RdYlGn',9))\n",
    "\n",
    "fig=plt.gcf()\n",
    "fig.set_size_inches(12,8)\n",
    "plt.title('Number Of Player in every Clubs and position')\n",
    "\n",
    "plt.show()"
   ]
  },
  {
   "cell_type": "code",
   "execution_count": 23,
   "metadata": {
    "_cell_guid": "29de1481-7edf-4fea-a96b-6886e98618c9",
    "_uuid": "b6fb2ef32f0c5b7a818d17c71583005d5f307c3e"
   },
   "outputs": [],
   "source": [
    "#df.groupby(['club']).count()"
   ]
  },
  {
   "cell_type": "markdown",
   "metadata": {
    "_cell_guid": "3e4cc928-ca48-4ad6-8374-839774c712b0",
    "_uuid": "4b9b82f88e963e4b5a8f3f18de851dc3388897c7"
   },
   "source": [
    "Bar graph above shows how many players are there in every clubs and the variation of players position. The x axis represents the clubs name while y-axis represent the total number of players. the variation of player position are distinguish by different color in each bars. the colors code for players position is explained on the righ side of the chart.\n",
    "\n",
    "It appears that Arsenal, Everton, and Huddersfield have the biggest number of players with 28 total number. Another point to check out is the lowest number of players. the club which has the lowes number of players is burnley, with only 18 players. willthis affected to the performance og the team?"
   ]
  },
  {
   "cell_type": "markdown",
   "metadata": {
    "_cell_guid": "1a6307da-cdab-41b2-8497-3520b2479627",
    "_uuid": "96ba651bcfdb86dc58533263621df6b8f61cd16f"
   },
   "source": [
    "### Distribution of Players Age"
   ]
  },
  {
   "cell_type": "code",
   "execution_count": 24,
   "metadata": {
    "_cell_guid": "7689967d-e5b5-4041-a042-75cdcf0674a7",
    "_uuid": "dde929f5a41551930e47c29807126bdb4ec6b2b0"
   },
   "outputs": [
    {
     "name": "stderr",
     "output_type": "stream",
     "text": [
      "C:\\ProgramData\\Anaconda3\\envs\\dev\\lib\\site-packages\\seaborn\\distributions.py:2551: FutureWarning:\n",
      "\n",
      "`distplot` is a deprecated function and will be removed in a future version. Please adapt your code to use either `displot` (a figure-level function with similar flexibility) or `histplot` (an axes-level function for histograms).\n",
      "\n",
      "C:\\ProgramData\\Anaconda3\\envs\\dev\\lib\\site-packages\\seaborn\\distributions.py:2613: MatplotlibDeprecationWarning:\n",
      "\n",
      "Support for uppercase single-letter colors is deprecated since Matplotlib 3.1 and will be removed in 3.3; please use lowercase instead.\n",
      "\n"
     ]
    },
    {
     "data": {
      "image/png": "[encoded data removed]",
      "text/plain": [
       "<Figure size 1080x432 with 1 Axes>"
      ]
     },
     "metadata": {
      "needs_background": "light"
     },
     "output_type": "display_data"
    }
   ],
   "source": [
    "\n",
    "plt.subplots(figsize=(15,6))\n",
    "sns.set_color_codes()\n",
    "sns.distplot(df['age'], color = \"R\")\n",
    "plt.xticks(rotation=90)\n",
    "plt.title('Distribution of Premier League Players Age')\n",
    "plt.show()"
   ]
  },
  {
   "cell_type": "markdown",
   "metadata": {
    "_cell_guid": "c6032b97-e49c-4d6c-b330-d2ad7c3de019",
    "_uuid": "847b8d633c9380bd1dee344627ef6ae53ada7218"
   },
   "source": [
    "The typical of Histogram of Players age can be called Edge peak histogram. The edge peak distribution looks like the normal distribution except that it has a large peak at one tail. As it is shown in the histogram, the distribution of age is increased untill it meet the peak point at the age between 25-30. There is one bar that significanly higher than the others, that is why the histogram above can be calles Edge peak histogram. "
   ]
  },
  {
   "cell_type": "markdown",
   "metadata": {
    "_cell_guid": "e6fc3712-b240-4e36-b3c1-d51a220b130e",
    "_uuid": "736658294e14116a34cb9da51694daecdb741c8f"
   },
   "source": [
    "### Number of premier league player in every position"
   ]
  },
  {
   "cell_type": "code",
   "execution_count": 25,
   "metadata": {
    "_cell_guid": "fa3a6f80-26f0-4060-9d98-1af7f3ef8b3b",
    "_uuid": "3dad2a12742e97e04860edf52a07209b49b96349"
   },
   "outputs": [
    {
     "name": "stderr",
     "output_type": "stream",
     "text": [
      "C:\\ProgramData\\Anaconda3\\envs\\dev\\lib\\site-packages\\seaborn\\_decorators.py:43: FutureWarning:\n",
      "\n",
      "Pass the following variable as a keyword arg: x. From version 0.12, the only valid positional argument will be `data`, and passing other arguments without an explicit keyword will result in an error or misinterpretation.\n",
      "\n"
     ]
    },
    {
     "data": {
      "image/png": "[encoded data removed]",
      "text/plain": [
       "<Figure size 1080x432 with 1 Axes>"
      ]
     },
     "metadata": {
      "needs_background": "light"
     },
     "output_type": "display_data"
    }
   ],
   "source": [
    "#number of premier league player position\n",
    "plt.subplots(figsize=(15,6))\n",
    "sns.countplot('position',data=df,palette='hot',edgecolor=sns.color_palette('dark',7),order=df['position'].value_counts().index)\n",
    "plt.xticks(rotation=90)\n",
    "plt.title('number of premier league player position')\n",
    "plt.show()"
   ]
  },
  {
   "cell_type": "markdown",
   "metadata": {
    "_cell_guid": "e5184781-e5ef-40df-956d-703d25d2d5a4",
    "_uuid": "e9652337f31dfa24dffcbd3353319e308c7e8825"
   },
   "source": [
    "Bar chatrt above shows how many players are there in every position. The x-axis represents the position while y-axis represent the total number of players. \n",
    "\n",
    "It appears that CB has the biggest number of players with more than 80 players in this position.I'm expecting this number, because most of the team play with at least 2 CB, and maybe they have at least 1 subtitute CB.Another point to check out is the lowest number of players. the position which has the lowes number of players is RM, with less than 10 players.\n"
   ]
  },
  {
   "cell_type": "markdown",
   "metadata": {
    "_cell_guid": "0091f5fa-8e53-48b5-9455-958d3e3e6841",
    "_uuid": "84e738eef0fd62eabf15b4ee8d1710aa4ff114fa"
   },
   "source": [
    "### Top 10 Players Market Value"
   ]
  },
  {
   "cell_type": "code",
   "execution_count": 26,
   "metadata": {
    "_cell_guid": "1d407a31-2785-40c2-9834-0a9fe740ff3c",
    "_uuid": "935dd0b3705ced3a3ef63394aec27b827f88b080"
   },
   "outputs": [
    {
     "data": {
      "image/png": "[encoded data removed]",
      "text/plain": [
       "<Figure size 1080x432 with 1 Axes>"
      ]
     },
     "metadata": {
      "needs_background": "light"
     },
     "output_type": "display_data"
    }
   ],
   "source": [
    "#most market value\n",
    "dfmarketv = df.nlargest(10, 'market_value').sort_values('market_value',ascending=False)\n",
    "plt.subplots(figsize=(15,6))\n",
    "sns.barplot(x=\"name\", y=\"market_value\",  data=dfmarketv ,palette='hot',edgecolor=sns.color_palette('dark',7))\n",
    "plt.xticks(rotation=90)\n",
    "plt.title('top 10 bigest market value of premier league player season 2017/2018')\n",
    "plt.show()"
   ]
  },
  {
   "cell_type": "code",
   "execution_count": 27,
   "metadata": {
    "_cell_guid": "8cf4a188-1001-48b9-8824-cac2a0ad157d",
    "_uuid": "32dba310c0889efcbc1d5f4448bf677231e42810"
   },
   "outputs": [
    {
     "data": {
      "text/html": [
       "<div>\n",
       "<style scoped>\n",
       "    .dataframe tbody tr th:only-of-type {\n",
       "        vertical-align: middle;\n",
       "    }\n",
       "\n",
       "    .dataframe tbody tr th {\n",
       "        vertical-align: top;\n",
       "    }\n",
       "\n",
       "    .dataframe thead th {\n",
       "        text-align: right;\n",
       "    }\n",
       "</style>\n",
       "<table border=\"1\" class=\"dataframe\">\n",
       "  <thead>\n",
       "    <tr style=\"text-align: right;\">\n",
       "      <th></th>\n",
       "      <th>name</th>\n",
       "      <th>club</th>\n",
       "      <th>age</th>\n",
       "      <th>position</th>\n",
       "      <th>position_cat</th>\n",
       "      <th>market_value</th>\n",
       "      <th>page_views</th>\n",
       "      <th>fpl_value</th>\n",
       "      <th>fpl_sel</th>\n",
       "      <th>fpl_points</th>\n",
       "      <th>region</th>\n",
       "      <th>nationality</th>\n",
       "      <th>new_foreign</th>\n",
       "      <th>age_cat</th>\n",
       "      <th>club_id</th>\n",
       "      <th>big_club</th>\n",
       "      <th>new_signing</th>\n",
       "      <th>fpl_ratio</th>\n",
       "    </tr>\n",
       "  </thead>\n",
       "  <tbody>\n",
       "    <tr>\n",
       "      <th>1</th>\n",
       "      <td>Mesut Ozil</td>\n",
       "      <td>Arsenal</td>\n",
       "      <td>28</td>\n",
       "      <td>AM</td>\n",
       "      <td>1</td>\n",
       "      <td>50.0</td>\n",
       "      <td>4395</td>\n",
       "      <td>9.5</td>\n",
       "      <td>0.056</td>\n",
       "      <td>167</td>\n",
       "      <td>2.0</td>\n",
       "      <td>Germany</td>\n",
       "      <td>0</td>\n",
       "      <td>4</td>\n",
       "      <td>1</td>\n",
       "      <td>1</td>\n",
       "      <td>0</td>\n",
       "      <td>17.578947</td>\n",
       "    </tr>\n",
       "    <tr>\n",
       "      <th>93</th>\n",
       "      <td>Diego Costa</td>\n",
       "      <td>Chelsea</td>\n",
       "      <td>28</td>\n",
       "      <td>CF</td>\n",
       "      <td>1</td>\n",
       "      <td>50.0</td>\n",
       "      <td>4454</td>\n",
       "      <td>10.0</td>\n",
       "      <td>0.030</td>\n",
       "      <td>196</td>\n",
       "      <td>2.0</td>\n",
       "      <td>Spain</td>\n",
       "      <td>0</td>\n",
       "      <td>4</td>\n",
       "      <td>5</td>\n",
       "      <td>1</td>\n",
       "      <td>0</td>\n",
       "      <td>19.600000</td>\n",
       "    </tr>\n",
       "    <tr>\n",
       "      <th>104</th>\n",
       "      <td>N%27Golo Kante</td>\n",
       "      <td>Chelsea</td>\n",
       "      <td>26</td>\n",
       "      <td>DM</td>\n",
       "      <td>2</td>\n",
       "      <td>50.0</td>\n",
       "      <td>4042</td>\n",
       "      <td>5.0</td>\n",
       "      <td>0.138</td>\n",
       "      <td>83</td>\n",
       "      <td>2.0</td>\n",
       "      <td>France</td>\n",
       "      <td>0</td>\n",
       "      <td>3</td>\n",
       "      <td>5</td>\n",
       "      <td>1</td>\n",
       "      <td>1</td>\n",
       "      <td>16.600000</td>\n",
       "    </tr>\n",
       "    <tr>\n",
       "      <th>260</th>\n",
       "      <td>Romelu Lukaku</td>\n",
       "      <td>Manchester+United</td>\n",
       "      <td>24</td>\n",
       "      <td>CF</td>\n",
       "      <td>1</td>\n",
       "      <td>50.0</td>\n",
       "      <td>3727</td>\n",
       "      <td>11.5</td>\n",
       "      <td>0.450</td>\n",
       "      <td>221</td>\n",
       "      <td>2.0</td>\n",
       "      <td>Belgium</td>\n",
       "      <td>0</td>\n",
       "      <td>2</td>\n",
       "      <td>12</td>\n",
       "      <td>1</td>\n",
       "      <td>0</td>\n",
       "      <td>19.217391</td>\n",
       "    </tr>\n",
       "    <tr>\n",
       "      <th>377</th>\n",
       "      <td>Harry Kane</td>\n",
       "      <td>Tottenham</td>\n",
       "      <td>23</td>\n",
       "      <td>CF</td>\n",
       "      <td>1</td>\n",
       "      <td>60.0</td>\n",
       "      <td>4161</td>\n",
       "      <td>12.5</td>\n",
       "      <td>0.351</td>\n",
       "      <td>224</td>\n",
       "      <td>1.0</td>\n",
       "      <td>United Kingdom of Great Britain and Northern I...</td>\n",
       "      <td>0</td>\n",
       "      <td>2</td>\n",
       "      <td>17</td>\n",
       "      <td>1</td>\n",
       "      <td>0</td>\n",
       "      <td>17.920000</td>\n",
       "    </tr>\n",
       "    <tr>\n",
       "      <th>0</th>\n",
       "      <td>Alexis Sanchez</td>\n",
       "      <td>Arsenal</td>\n",
       "      <td>28</td>\n",
       "      <td>LW</td>\n",
       "      <td>1</td>\n",
       "      <td>65.0</td>\n",
       "      <td>4329</td>\n",
       "      <td>12.0</td>\n",
       "      <td>0.171</td>\n",
       "      <td>264</td>\n",
       "      <td>3.0</td>\n",
       "      <td>Chile</td>\n",
       "      <td>0</td>\n",
       "      <td>4</td>\n",
       "      <td>1</td>\n",
       "      <td>1</td>\n",
       "      <td>0</td>\n",
       "      <td>22.000000</td>\n",
       "    </tr>\n",
       "    <tr>\n",
       "      <th>240</th>\n",
       "      <td>Kevin De Bruyne</td>\n",
       "      <td>Manchester+City</td>\n",
       "      <td>26</td>\n",
       "      <td>AM</td>\n",
       "      <td>1</td>\n",
       "      <td>65.0</td>\n",
       "      <td>2252</td>\n",
       "      <td>10.0</td>\n",
       "      <td>0.175</td>\n",
       "      <td>199</td>\n",
       "      <td>2.0</td>\n",
       "      <td>Belgium</td>\n",
       "      <td>0</td>\n",
       "      <td>3</td>\n",
       "      <td>11</td>\n",
       "      <td>1</td>\n",
       "      <td>0</td>\n",
       "      <td>19.900000</td>\n",
       "    </tr>\n",
       "    <tr>\n",
       "      <th>241</th>\n",
       "      <td>Sergio Aguero</td>\n",
       "      <td>Manchester+City</td>\n",
       "      <td>29</td>\n",
       "      <td>CF</td>\n",
       "      <td>1</td>\n",
       "      <td>65.0</td>\n",
       "      <td>4046</td>\n",
       "      <td>11.5</td>\n",
       "      <td>0.097</td>\n",
       "      <td>175</td>\n",
       "      <td>3.0</td>\n",
       "      <td>Argentina</td>\n",
       "      <td>0</td>\n",
       "      <td>4</td>\n",
       "      <td>11</td>\n",
       "      <td>1</td>\n",
       "      <td>0</td>\n",
       "      <td>15.217391</td>\n",
       "    </tr>\n",
       "    <tr>\n",
       "      <th>92</th>\n",
       "      <td>Eden Hazard</td>\n",
       "      <td>Chelsea</td>\n",
       "      <td>26</td>\n",
       "      <td>LW</td>\n",
       "      <td>1</td>\n",
       "      <td>75.0</td>\n",
       "      <td>4220</td>\n",
       "      <td>10.5</td>\n",
       "      <td>0.023</td>\n",
       "      <td>224</td>\n",
       "      <td>2.0</td>\n",
       "      <td>Belgium</td>\n",
       "      <td>0</td>\n",
       "      <td>3</td>\n",
       "      <td>5</td>\n",
       "      <td>1</td>\n",
       "      <td>0</td>\n",
       "      <td>21.333333</td>\n",
       "    </tr>\n",
       "    <tr>\n",
       "      <th>263</th>\n",
       "      <td>Paul Pogba</td>\n",
       "      <td>Manchester+United</td>\n",
       "      <td>24</td>\n",
       "      <td>CM</td>\n",
       "      <td>2</td>\n",
       "      <td>75.0</td>\n",
       "      <td>7435</td>\n",
       "      <td>8.0</td>\n",
       "      <td>0.195</td>\n",
       "      <td>115</td>\n",
       "      <td>2.0</td>\n",
       "      <td>France</td>\n",
       "      <td>0</td>\n",
       "      <td>2</td>\n",
       "      <td>12</td>\n",
       "      <td>1</td>\n",
       "      <td>1</td>\n",
       "      <td>14.375000</td>\n",
       "    </tr>\n",
       "  </tbody>\n",
       "</table>\n",
       "</div>"
      ],
      "text/plain": [
       "                name               club  age position  position_cat  \\\n",
       "1         Mesut Ozil            Arsenal   28       AM             1   \n",
       "93       Diego Costa            Chelsea   28       CF             1   \n",
       "104   N%27Golo Kante            Chelsea   26       DM             2   \n",
       "260    Romelu Lukaku  Manchester+United   24       CF             1   \n",
       "377       Harry Kane          Tottenham   23       CF             1   \n",
       "0     Alexis Sanchez            Arsenal   28       LW             1   \n",
       "240  Kevin De Bruyne    Manchester+City   26       AM             1   \n",
       "241    Sergio Aguero    Manchester+City   29       CF             1   \n",
       "92       Eden Hazard            Chelsea   26       LW             1   \n",
       "263       Paul Pogba  Manchester+United   24       CM             2   \n",
       "\n",
       "     market_value  page_views  fpl_value  fpl_sel  fpl_points  region  \\\n",
       "1            50.0        4395        9.5    0.056         167     2.0   \n",
       "93           50.0        4454       10.0    0.030         196     2.0   \n",
       "104          50.0        4042        5.0    0.138          83     2.0   \n",
       "260          50.0        3727       11.5    0.450         221     2.0   \n",
       "377          60.0        4161       12.5    0.351         224     1.0   \n",
       "0            65.0        4329       12.0    0.171         264     3.0   \n",
       "240          65.0        2252       10.0    0.175         199     2.0   \n",
       "241          65.0        4046       11.5    0.097         175     3.0   \n",
       "92           75.0        4220       10.5    0.023         224     2.0   \n",
       "263          75.0        7435        8.0    0.195         115     2.0   \n",
       "\n",
       "                                           nationality  new_foreign  age_cat  \\\n",
       "1                                              Germany            0        4   \n",
       "93                                               Spain            0        4   \n",
       "104                                             France            0        3   \n",
       "260                                            Belgium            0        2   \n",
       "377  United Kingdom of Great Britain and Northern I...            0        2   \n",
       "0                                                Chile            0        4   \n",
       "240                                            Belgium            0        3   \n",
       "241                                          Argentina            0        4   \n",
       "92                                             Belgium            0        3   \n",
       "263                                             France            0        2   \n",
       "\n",
       "     club_id  big_club  new_signing  fpl_ratio  \n",
       "1          1         1            0  17.578947  \n",
       "93         5         1            0  19.600000  \n",
       "104        5         1            1  16.600000  \n",
       "260       12         1            0  19.217391  \n",
       "377       17         1            0  17.920000  \n",
       "0          1         1            0  22.000000  \n",
       "240       11         1            0  19.900000  \n",
       "241       11         1            0  15.217391  \n",
       "92         5         1            0  21.333333  \n",
       "263       12         1            1  14.375000  "
      ]
     },
     "execution_count": 27,
     "metadata": {},
     "output_type": "execute_result"
    }
   ],
   "source": [
    "df.nlargest(10, 'market_value').sort_values('market_value',ascending=True)"
   ]
  },
  {
   "cell_type": "markdown",
   "metadata": {
    "_cell_guid": "b8be1069-8780-40ee-bce6-8be82eaa1cb6",
    "_uuid": "d2f6e30bbb98b20dcacd6509a13eed01c3ec23cb"
   },
   "source": [
    "Bar chart above shows the top 10 biggest market value for each player. The x-axis represents players name while y-axis represent market value.\n",
    "\n",
    "It appears that Eden Hazard and Paul Pogba have the biggest market value, which is 75. They are followed by Alexis Sanchez on the 3rd position. As it is shown in the graph above, there are 3 Belgium players sit in this position, they are Eden Hazard, Kevin de Bruyne, and Romeru Lukaku. and the markets value top 10 position is dominated by foreign player. the only local player who is in this position is only Hary Kane.\n"
   ]
  },
  {
   "cell_type": "markdown",
   "metadata": {
    "_cell_guid": "bb8e8330-1dfb-4573-825d-473b73d2cae3",
    "_uuid": "9949c4259ff2bbd423428c5d11a70fc3781d2ecf"
   },
   "source": [
    "### Average of Market Value in Every Clubs"
   ]
  },
  {
   "cell_type": "code",
   "execution_count": 28,
   "metadata": {
    "_cell_guid": "82eb58b5-2741-4e74-bea5-0d15858fd277",
    "_uuid": "f7c9e500c451f63eea34c85bac62086d494f977d"
   },
   "outputs": [
    {
     "data": {
      "image/png": "[encoded data removed]",
      "text/plain": [
       "<Figure size 1080x432 with 1 Axes>"
      ]
     },
     "metadata": {
      "needs_background": "light"
     },
     "output_type": "display_data"
    }
   ],
   "source": [
    "#club with their market value average\n",
    "df_meanmv=pd.DataFrame(df.groupby(['club'])['market_value'].mean()).reset_index().sort_values('market_value',ascending=False)\n",
    "plt.subplots(figsize=(15,6))\n",
    "sns.barplot(x=\"club\", y=\"market_value\",data=df_meanmv,palette='hot',edgecolor=sns.color_palette('dark',7))\n",
    "plt.xticks(rotation=90)\n",
    "plt.title('Average of Market Value in Every Clubs')\n",
    "plt.show()"
   ]
  },
  {
   "cell_type": "markdown",
   "metadata": {
    "_cell_guid": "a108c5a1-7dc1-4f89-b207-206a3c0f71d9",
    "_uuid": "e18923a1c3f8ed31e99788b31a7f95f9ed110081"
   },
   "source": [
    "Bar chart above shows sorted average of market value for each club. The x-axis represents clubs name while y-axis represent its average market value.It appears that ManCity and Chelsea, which are famous for spending money for a star players have the biggest average market value. They are followed by Totenham on the 3rd position. Burnley, Brighton, and Huddersfield are sitting in the lowest 3.\n"
   ]
  },
  {
   "cell_type": "markdown",
   "metadata": {
    "_cell_guid": "46b453a5-4596-41c6-a2fa-ad244f19545b",
    "_uuid": "ee10b4a8c79dc621df88ed8acc9938d8b34e8dc8"
   },
   "source": [
    "### Most view player"
   ]
  },
  {
   "cell_type": "code",
   "execution_count": 29,
   "metadata": {
    "_cell_guid": "bb7d17b1-8b11-4731-9b0d-ebc372b4ba89",
    "_uuid": "d506a1615a87c0a6dbd5879d9830e35e8a024342"
   },
   "outputs": [
    {
     "data": {
      "image/png": "[encoded data removed]",
      "text/plain": [
       "<Figure size 1080x432 with 1 Axes>"
      ]
     },
     "metadata": {
      "needs_background": "light"
     },
     "output_type": "display_data"
    }
   ],
   "source": [
    "#most view player\n",
    "dfview = df.nlargest(10, 'page_views').sort_values('page_views',ascending=False)\n",
    "plt.subplots(figsize=(15,6))\n",
    "sns.barplot(x=\"name\", y=\"page_views\",  data=dfview ,palette='hot',edgecolor=sns.color_palette('dark',7))\n",
    "plt.xticks(rotation=90)\n",
    "plt.title('top 10 most viewed premier league player season 2017/2018')\n",
    "plt.show()"
   ]
  },
  {
   "cell_type": "markdown",
   "metadata": {
    "_cell_guid": "1e9e50ac-b828-449c-b00a-0be0823dd90e",
    "_uuid": "90ade3ecc1581bb90f263c093b91669decaa2fcf"
   },
   "source": [
    "Bar chart above shows the top 10 most view players. The x-axis represents players name while y-axis represent market value.\n",
    "\n",
    "It appears that wayne rooney has the biggest market value. He is are followed by paul pogba and on the 2nd and 3rd position. As it is shown in the graph above, there are 2 UK players sit in this position, they are Wayne Rooney and Delle Alli. Does the market value affected numbers of viewed of the players?\n"
   ]
  },
  {
   "cell_type": "markdown",
   "metadata": {
    "_cell_guid": "cbaae214-080e-4af6-97cc-3fe0544cfa30",
    "_uuid": "7a631555518391bfbd91ff3f7fc3653f29090ae7"
   },
   "source": [
    "### FPL 10 most valuable player"
   ]
  },
  {
   "cell_type": "code",
   "execution_count": 30,
   "metadata": {
    "_cell_guid": "02271373-bfc1-4522-a97a-f5eb30c9aaa3",
    "_uuid": "6dc3a58c7a487cacaf3d5ac0bb0bac050fc54e02"
   },
   "outputs": [
    {
     "data": {
      "image/png": "[encoded data removed]",
      "text/plain": [
       "<Figure size 1080x432 with 1 Axes>"
      ]
     },
     "metadata": {
      "needs_background": "light"
     },
     "output_type": "display_data"
    }
   ],
   "source": [
    "#fpl 10 most valuable player\n",
    "dfview = df.nlargest(10, 'fpl_value').sort_values('fpl_value',ascending=False)\n",
    "plt.subplots(figsize=(15,6))\n",
    "sns.barplot(x=\"name\", y=\"fpl_value\",  data=dfview ,palette='hot',edgecolor=sns.color_palette('dark',7))\n",
    "plt.xticks(rotation=90)\n",
    "plt.title('top 10 most valuable premier league player season 2017/2018')\n",
    "plt.show()"
   ]
  },
  {
   "cell_type": "markdown",
   "metadata": {
    "_cell_guid": "e21858c7-d54b-4ed2-b232-0e995efafb15",
    "_uuid": "ef7aeb6f9df530ed21343d4f447ca7ef03019d77"
   },
   "source": [
    "Bar chart above shows the top 10 biggest FPL value for each player. The x-axis represents players name while y-axis represent FPL value.\n",
    "\n",
    "It appears that Harry Kane ahas the biggest FPL value. He is followed by Alexis Sanchez on the 2rd position. As it is shown in the graph above, there are 3 Belgium players sit in this position, they are Eden Hazard, Kevin de Bruyne, and Romeru Lukaku. and the FPL value top 10 position is dominated by foreign player. the only local player who is in this position is only Hary Kane.\n"
   ]
  },
  {
   "cell_type": "markdown",
   "metadata": {
    "_cell_guid": "b11404f6-22f7-40cf-b6ee-0158e36da2c9",
    "_uuid": "40942aca4dbd6cbc4657d5b9476a84672bf6c5ca"
   },
   "source": [
    "### Average of FPL Value in Every Clubs"
   ]
  },
  {
   "cell_type": "code",
   "execution_count": 31,
   "metadata": {
    "_cell_guid": "7513ffdc-2275-4961-a28d-cd61b4660ec9",
    "_uuid": "4498b311fa9790733f33c3209eed0a763917b963"
   },
   "outputs": [
    {
     "data": {
      "image/png": "[encoded data removed]",
      "text/plain": [
       "<Figure size 1080x432 with 1 Axes>"
      ]
     },
     "metadata": {
      "needs_background": "light"
     },
     "output_type": "display_data"
    }
   ],
   "source": [
    "#club with their average of fpl value\n",
    "df_meanfv=pd.DataFrame(df.groupby(['club'])['fpl_value'].mean()).reset_index().sort_values('fpl_value',ascending=False)\n",
    "plt.subplots(figsize=(15,6))\n",
    "sns.barplot(x=\"club\", y=\"fpl_value\",data=df_meanfv,palette='hot',edgecolor=sns.color_palette('dark',7))\n",
    "plt.xticks(rotation=90)\n",
    "plt.title('Average of FPL Value in Every Clubs')\n",
    "plt.show()"
   ]
  },
  {
   "cell_type": "markdown",
   "metadata": {
    "_cell_guid": "d11c052f-f946-4182-98bc-982746615b90",
    "_uuid": "28b6b6e6ad9d1e192410cca449a4d0bddc694601"
   },
   "source": [
    "Bar chart above shows sorted average of FPL value for each club. The x-axis represents clubs name while y-axis represent its average FPL value.It appears that ManCity and Chelsea have the biggest average market value. They are followed by Totenham on the 3rd position. and the 3 promoted clubs are sitting in the lowest 3."
   ]
  },
  {
   "cell_type": "markdown",
   "metadata": {
    "_cell_guid": "92bbc0bb-ad03-4746-8740-bc3c282892e5",
    "_uuid": "d313dfeef6f16b1b96981b6ca649d6bd20f72ce6"
   },
   "source": [
    "### Total Persentage of Club Selected by the user"
   ]
  },
  {
   "cell_type": "code",
   "execution_count": 32,
   "metadata": {
    "_cell_guid": "0f9dc476-91d8-43d4-9805-2e8ef2447e59",
    "_uuid": "4ca56e458fc0c8f6ef4618fe343455046ad8ba9f"
   },
   "outputs": [
    {
     "data": {
      "image/png": "[encoded data removed]",
      "text/plain": [
       "<Figure size 1080x432 with 1 Axes>"
      ]
     },
     "metadata": {
      "needs_background": "light"
     },
     "output_type": "display_data"
    }
   ],
   "source": [
    "#club with their fpl selection\n",
    "df_meanfs=pd.DataFrame(df.groupby(['club'])['fpl_sel'].sum()/0.14956).reset_index().sort_values('fpl_sel',ascending=False)\n",
    "plt.subplots(figsize=(15,6))\n",
    "sns.barplot(x=\"club\", y=\"fpl_sel\",data=df_meanfs,palette='hot',edgecolor=sns.color_palette('dark',7))\n",
    "plt.xticks(rotation=90)\n",
    "plt.title('Total Persentage of Club Selected by the user')\n",
    "plt.show()"
   ]
  },
  {
   "cell_type": "markdown",
   "metadata": {
    "_cell_guid": "b71d5cba-ff9f-4613-80fe-2a762d9a6085",
    "_uuid": "b323095d32e2a7266917d7f64d2fdbdd046527ce"
   },
   "source": [
    "Bar chart above shows sorted how may percent is each clubs contributed to the player selection. The x-axis represents clubs name while y-axis represent its selected percentage.It appears that ManU and Totenham have 2 biggest apercentage selection. They are followed by Chelsea on the 3rd position. watford, toke, and Huddersfield clubs are sitting in the lowest 3."
   ]
  },
  {
   "cell_type": "markdown",
   "metadata": {
    "_cell_guid": "963695f2-2154-4fd9-8064-02fe8d6f2899",
    "_uuid": "ca7b47d6a4b17cdbf382ac2f097ad5bc309058c0"
   },
   "source": [
    "### Relation between FPL points and FPL value from every players"
   ]
  },
  {
   "cell_type": "code",
   "execution_count": 37,
   "metadata": {
    "_cell_guid": "7c20121a-18c1-4635-9f07-7daf3c27c882",
    "_uuid": "7ce4d456d52a56c9c112df854acb289ef54efc0a"
   },
   "outputs": [
    {
     "data": {
      "text/html": [
       "        <script type=\"text/javascript\">\n",
       "        window.PlotlyConfig = {MathJaxConfig: 'local'};\n",
       "        if (window.MathJax) {MathJax.Hub.Config({SVG: {font: \"STIX-Web\"}});}\n",
       "        if (typeof require !== 'undefined') {\n",
       "        require.undef(\"plotly\");\n",
       "        requirejs.config({\n",
       "            paths: {\n",
       "                'plotly': ['https://cdn.plot.ly/plotly-latest.min']\n",
       "            }\n",
       "        });\n",
       "        require(['plotly'], function(Plotly) {\n",
       "            window._Plotly = Plotly;\n",
       "        });\n",
       "        }\n",
       "        </script>\n",
       "        "
      ]
     },
     "metadata": {},
     "output_type": "display_data"
    },
    {
     "data": {
      "application/vnd.plotly.v1+json": {
       "config": {
        "linkText": "Export to plot.ly",
        "plotlyServerURL": "https://plot.ly",
        "showLink": false
       },
       "data": [
        {
         "marker": {
          "color": "red",
          "colorsrc": "Aldemuro:22:1a1899",
          "size": [
           22,
           17.57894736842105,
           24.363636363636363,
           16.266666666666666,
           20.166666666666668,
           19.833333333333332,
           13.647058823529411,
           20.90909090909091,
           16.363636363636363,
           16.181818181818183,
           15.454545454545455,
           13.833333333333334,
           11.090909090909092,
           8,
           11.555555555555555,
           9,
           9,
           5.428571428571429,
           4.933333333333334,
           6.4,
           5.777777777777778,
           2.6666666666666665,
           2,
           0.4,
           0.4444444444444444,
           0.2,
           0,
           0,
           23.733333333333334,
           20.75,
           26.8,
           26.666666666666668,
           22.4,
           17.833333333333332,
           20.8,
           18.181818181818183,
           19.77777777777778,
           14.666666666666666,
           16.8,
           12.8,
           10.5,
           11,
           9.8,
           9.777777777777779,
           7.2,
           3.7777777777777777,
           2.8,
           2,
           1.6,
           0.8888888888888888,
           1,
           0.4444444444444444,
           0,
           0,
           0,
           0,
           0,
           0,
           0,
           0,
           0,
           0,
           0,
           0,
           0,
           0,
           0,
           0,
           0,
           0,
           0,
           0,
           0,
           0,
           29.8,
           20.166666666666668,
           16.615384615384617,
           20.88888888888889,
           20.22222222222222,
           20,
           14.727272727272727,
           13.818181818181818,
           13.8,
           9.818181818181818,
           11.333333333333334,
           11.11111111111111,
           9.4,
           7.090909090909091,
           5.111111111111111,
           2.888888888888889,
           0.75,
           0,
           21.333333333333332,
           19.6,
           27.384615384615383,
           25.285714285714285,
           26.153846153846153,
           20.25,
           25.636363636363637,
           22,
           17.285714285714285,
           16.285714285714285,
           16.153846153846153,
           21,
           16.6,
           12.8,
           5.647058823529412,
           2.727272727272727,
           0.6,
           0,
           0,
           0,
           21.285714285714285,
           17,
           19.333333333333332,
           17.818181818181817,
           20.666666666666668,
           20.444444444444443,
           18.4,
           16.545454545454547,
           17.2,
           16.666666666666668,
           12.2,
           11.333333333333334,
           9.4,
           10.222222222222221,
           8.4,
           5.333333333333333,
           3.272727272727273,
           1.4,
           1.3333333333333333,
           1.3333333333333333,
           0,
           19.2,
           22.5,
           20.46153846153846,
           23.09090909090909,
           18.307692307692307,
           20.545454545454547,
           20.8,
           20.4,
           19.77777777777778,
           16,
           10.133333333333333,
           13.8,
           15.11111111111111,
           15.11111111111111,
           11.454545454545455,
           12,
           6.923076923076923,
           7.4,
           6.888888888888889,
           4.6,
           4,
           3.4,
           2.909090909090909,
           2.25,
           0.2222222222222222,
           0,
           0,
           0,
           0,
           0,
           0,
           0,
           0,
           0,
           0,
           0,
           0,
           0,
           0,
           0,
           0,
           0,
           0,
           0,
           0,
           0,
           0,
           0,
           0,
           0,
           0,
           0,
           0,
           0,
           0,
           0,
           18.941176470588236,
           14.117647058823529,
           21.8,
           20.8,
           17.272727272727273,
           17.6,
           18.88888888888889,
           11.857142857142858,
           14.2,
           13.8,
           14,
           11.454545454545455,
           11.8,
           10.545454545454545,
           11.777777777777779,
           9.11111111111111,
           6,
           6,
           4.8,
           4.222222222222222,
           1.3333333333333333,
           0,
           0,
           0,
           21.176470588235293,
           19,
           16.42105263157895,
           21.285714285714285,
           21.384615384615383,
           18.533333333333335,
           23.454545454545453,
           22,
           19.272727272727273,
           20.8,
           17.636363636363637,
           12.8,
           13.272727272727273,
           6.75,
           10.444444444444445,
           9.555555555555555,
           7,
           6.4,
           3.3333333333333335,
           1.7777777777777777,
           1.1111111111111112,
           0.8888888888888888,
           0,
           0,
           0,
           0,
           0,
           19.9,
           15.217391304347826,
           18.625,
           21.846153846153847,
           16.25,
           12.352941176470589,
           18.181818181818183,
           17.272727272727273,
           13.23076923076923,
           15.6,
           14.6,
           6.380952380952381,
           10.727272727272727,
           9.5,
           7.428571428571429,
           7.454545454545454,
           4,
           2.888888888888889,
           0,
           0,
           19.217391304347824,
           24.727272727272727,
           18.46153846153846,
           14.375,
           17.5,
           14.571428571428571,
           17.818181818181817,
           17.636363636363637,
           11.875,
           14,
           10.133333333333333,
           9.125,
           12.727272727272727,
           10,
           11,
           9.454545454545455,
           9.6,
           9,
           9.333333333333334,
           5.2,
           4.6,
           3.5,
           2,
           1.5,
           0,
           0,
           0,
           0,
           0,
           0,
           0,
           0,
           0,
           0,
           0,
           0,
           0,
           0,
           0,
           0,
           0,
           0,
           0,
           0,
           0,
           0,
           26.8,
           19.384615384615383,
           22.363636363636363,
           16.615384615384617,
           20.4,
           16.727272727272727,
           17.77777777777778,
           15.6,
           15.4,
           13.636363636363637,
           9.538461538461538,
           12,
           9.5,
           6.666666666666667,
           8.444444444444445,
           8.444444444444445,
           5.428571428571429,
           5.111111111111111,
           2.6666666666666665,
           2.6666666666666665,
           1.1111111111111112,
           0,
           0,
           21.454545454545453,
           16.714285714285715,
           23.555555555555557,
           20.6,
           20.6,
           18.8,
           13.333333333333334,
           15.8,
           13.777777777777779,
           11.8,
           12.88888888888889,
           12.444444444444445,
           9.272727272727273,
           7.2,
           7.555555555555555,
           5.454545454545454,
           6,
           4.333333333333333,
           5.333333333333333,
           4,
           3,
           2,
           21.294117647058822,
           19.466666666666665,
           25.77777777777778,
           17.272727272727273,
           18.8,
           18.22222222222222,
           13.454545454545455,
           14,
           10.4,
           11.555555555555555,
           8.2,
           7.8,
           6.8,
           7.111111111111111,
           6.444444444444445,
           6.5,
           5,
           4.222222222222222,
           3.6,
           3.5555555555555554,
           2.6666666666666665,
           1.1111111111111112,
           0.75,
           0,
           0,
           23.68421052631579,
           17.92,
           22.94736842105263,
           21.75,
           26,
           21,
           20,
           20.6,
           18.6,
           16.363636363636363,
           12.923076923076923,
           15.2,
           7.333333333333333,
           9.272727272727273,
           7.818181818181818,
           6,
           4.3076923076923075,
           3.4,
           1.4545454545454546,
           0.4444444444444444,
           23.818181818181817,
           20,
           25.11111111111111,
           17.4,
           15.777777777777779,
           14.88888888888889,
           13,
           12.666666666666666,
           11,
           10,
           10.666666666666666,
           7.166666666666667,
           7.818181818181818,
           7.6,
           7.777777777777778,
           6.888888888888889,
           5.090909090909091,
           3.75,
           2.6666666666666665,
           1.4545454545454546,
           0.4444444444444444,
           0,
           0,
           0,
           26.2,
           18.153846153846153,
           19.166666666666668,
           25.11111111111111,
           18.333333333333332,
           20.4,
           18,
           15.272727272727273,
           15.8,
           15.4,
           14.8,
           12.166666666666666,
           12,
           10.4,
           10.4,
           2.6666666666666665,
           2,
           0,
           0,
           22.166666666666668,
           19,
           17.6,
           20.4,
           19.6,
           12.714285714285714,
           15.8,
           12.909090909090908,
           15.333333333333334,
           15.333333333333334,
           11.5,
           14.222222222222221,
           12,
           12.222222222222221,
           10,
           10,
           9,
           8.444444444444445,
           7.555555555555555,
           6.444444444444445,
           3.5555555555555554,
           2.1818181818181817
          ]
         },
         "mode": "markers",
         "name": "fpl_points",
         "text": [
          "Alexis Sanchez, Club:Arsenal, Pos:LW",
          "Mesut Ozil, Club:Arsenal, Pos:AM",
          "Petr Cech, Club:Arsenal, Pos:GK",
          "Theo Walcott, Club:Arsenal, Pos:RW",
          "Laurent Koscielny, Club:Arsenal, Pos:CB",
          "Hector Bellerin, Club:Arsenal, Pos:RB",
          "Olivier Giroud, Club:Arsenal, Pos:CF",
          "Nacho Monreal, Club:Arsenal, Pos:LB",
          "Shkodran Mustafi, Club:Arsenal, Pos:CB",
          "Alex Iwobi, Club:Arsenal, Pos:LW",
          "Granit Xhaka, Club:Arsenal, Pos:DM",
          "Alex Oxlade-Chamberlain, Club:Arsenal, Pos:RM",
          "Jack Wilshere, Club:Arsenal, Pos:CM",
          "Aaron Ramsey, Club:Arsenal, Pos:CM",
          "Francis Coquelin, Club:Arsenal, Pos:DM",
          "Gabriel Paulista, Club:Arsenal, Pos:CB",
          "Kieran Gibbs, Club:Arsenal, Pos:LB",
          "Santi Cazorla, Club:Arsenal, Pos:CM",
          "Danny Welbeck, Club:Arsenal, Pos:CF",
          "Rob Holding, Club:Arsenal, Pos:CB",
          "Mohamed Elneny, Club:Arsenal, Pos:DM",
          "Lucas Perez, Club:Arsenal, Pos:CF",
          "Emiliano Martinez, Club:Arsenal, Pos:GK",
          "David Ospina, Club:Arsenal, Pos:GK",
          "Carl Jenkinson, Club:Arsenal, Pos:RB",
          "Per Mertesacker, Club:Arsenal, Pos:CB",
          "Sead Kolasinac, Club:Arsenal, Pos:LB",
          "Alexandre Lacazette, Club:Arsenal, Pos:CF",
          "Joshua King, Club:Bournemouth, Pos:SS",
          "Jermain Defoe, Club:Bournemouth, Pos:CF",
          "Charlie Daniels, Club:Bournemouth, Pos:LB",
          "Artur Boruc, Club:Bournemouth, Pos:GK",
          "Steve Cook, Club:Bournemouth, Pos:CB",
          "Junior Stanislas, Club:Bournemouth, Pos:LW",
          "Adam Smith, Club:Bournemouth, Pos:RB",
          "Ryan Fraser, Club:Bournemouth, Pos:LW",
          "Simon Francis, Club:Bournemouth, Pos:RB",
          "Benik Afobe, Club:Bournemouth, Pos:CF",
          "Harry Arter, Club:Bournemouth, Pos:CM",
          "Marc Pugh, Club:Bournemouth, Pos:LW",
          "Callum Wilson, Club:Bournemouth, Pos:CF",
          "Nathan Ake, Club:Bournemouth, Pos:CB",
          "Dan Gosling, Club:Bournemouth, Pos:CM",
          "Andrew Surman, Club:Bournemouth, Pos:CM",
          "Jordon Ibe, Club:Bournemouth, Pos:RW",
          "Lewis Cook, Club:Bournemouth, Pos:CM",
          "Lys Mousset, Club:Bournemouth, Pos:CF",
          "Adam Federici, Club:Bournemouth, Pos:GK",
          "Max Gradel, Club:Bournemouth, Pos:LW",
          "Tyrone Mings, Club:Bournemouth, Pos:CB",
          "Brad Smith, Club:Bournemouth, Pos:LB",
          "Asmir Begovic, Club:Bournemouth, Pos:GK",
          "Niki Maenpaa, Club:Brighton+and+Hove, Pos:GK",
          "Mathew Ryan, Club:Brighton+and+Hove, Pos:GK",
          "Lewis Dunk, Club:Brighton+and+Hove, Pos:CB",
          "Shane Duffy, Club:Brighton+and+Hove, Pos:CB",
          "Uwe Hunemeier, Club:Brighton+and+Hove, Pos:CB",
          "Bruno, Club:Brighton+and+Hove, Pos:RB",
          "Gaetan Bong, Club:Brighton+and+Hove, Pos:LB",
          "Liam Rosenior, Club:Brighton+and+Hove, Pos:RB",
          "Connor Goldson, Club:Brighton+and+Hove, Pos:CB",
          "Markus Suttner, Club:Brighton+and+Hove, Pos:LB",
          "Anthony Knockaert, Club:Brighton+and+Hove, Pos:RW",
          "Dale Stephens, Club:Brighton+and+Hove, Pos:CM",
          "Beram Kayal, Club:Brighton+and+Hove, Pos:CM",
          "Steve Sidwell, Club:Brighton+and+Hove, Pos:CM",
          "Solly March, Club:Brighton+and+Hove, Pos:RM",
          "Jiri Skalak, Club:Brighton+and+Hove, Pos:LW",
          "Oliver Norwood, Club:Brighton+and+Hove, Pos:CM",
          "Jamie Murphy, Club:Brighton+and+Hove, Pos:LW",
          "Pascal Gross, Club:Brighton+and+Hove, Pos:CM",
          "Glenn Murray, Club:Brighton+and+Hove, Pos:CF",
          "Tomer Hemed, Club:Brighton+and+Hove, Pos:CF",
          "Sam Baldock, Club:Brighton+and+Hove, Pos:CF",
          "Tom Heaton, Club:Burnley, Pos:GK",
          "Sam Vokes, Club:Burnley, Pos:CF",
          "Andre Gray, Club:Burnley, Pos:CF",
          "Ben Mee, Club:Burnley, Pos:CB",
          "Stephen Ward, Club:Burnley, Pos:LB",
          "Matthew Lowton, Club:Burnley, Pos:RB",
          "Ashley Barnes, Club:Burnley, Pos:CF",
          "Jeff Hendrick, Club:Burnley, Pos:CM",
          "Scott Arfield, Club:Burnley, Pos:LM",
          "Steven Defour, Club:Burnley, Pos:CM",
          "Dean Marney, Club:Burnley, Pos:CM",
          "Jack Cork, Club:Burnley, Pos:DM",
          "Johann Berg Gudmundsson, Club:Burnley, Pos:RW",
          "Robbie Brady, Club:Burnley, Pos:LM",
          "James Tarkowski, Club:Burnley, Pos:CB",
          "Ashley Westwood, Club:Burnley, Pos:DM",
          "Kevin Long, Club:Burnley, Pos:CB",
          "Matthew Taylor, Club:Burnley, Pos:LM",
          "Eden Hazard, Club:Chelsea, Pos:LW",
          "Diego Costa, Club:Chelsea, Pos:CF",
          "Gary Cahill, Club:Chelsea, Pos:CB",
          "Marcos Alonso Mendoza, Club:Chelsea, Pos:LB",
          "Cesar Azpilicueta, Club:Chelsea, Pos:RB",
          "Pedro, Club:Chelsea, Pos:RW",
          "Thibaut Courtois, Club:Chelsea, Pos:GK",
          "David Luiz, Club:Chelsea, Pos:CB",
          "Cesc Fabregas, Club:Chelsea, Pos:CM",
          "Willian, Club:Chelsea, Pos:RW",
          "Victor Moses, Club:Chelsea, Pos:RM",
          "Nemanja Matic, Club:Chelsea, Pos:DM",
          "N%27Golo Kante, Club:Chelsea, Pos:DM",
          "Willy Caballero, Club:Chelsea, Pos:GK",
          "Michy Batshuayi, Club:Chelsea, Pos:CF",
          "Kurt Zouma, Club:Chelsea, Pos:CB",
          "Kenedy, Club:Chelsea, Pos:LB",
          "Eduardo Carvalho, Club:Chelsea, Pos:LW",
          "Antonio Rudiger, Club:Chelsea, Pos:CB",
          "Tiemoue Bakayoko, Club:Chelsea, Pos:DM",
          "Wilfried Zaha, Club:Crystal+Palace, Pos:RW",
          "Christian Benteke, Club:Crystal+Palace, Pos:CF",
          "Andros Townsend, Club:Crystal+Palace, Pos:RW",
          "Patrick van Aanholt, Club:Crystal+Palace, Pos:LB",
          "James McArthur, Club:Crystal+Palace, Pos:CM",
          "Wayne Hennessey, Club:Crystal+Palace, Pos:GK",
          "Jason Puncheon, Club:Crystal+Palace, Pos:AM",
          "Yohan Cabaye, Club:Crystal+Palace, Pos:CM",
          "Joel Ward, Club:Crystal+Palace, Pos:RB",
          "James Tomkins, Club:Crystal+Palace, Pos:CB",
          "Scott Dann, Club:Crystal+Palace, Pos:CB",
          "Damien Delaney, Club:Crystal+Palace, Pos:CB",
          "Jeffrey Schlupp, Club:Crystal+Palace, Pos:LB",
          "Martin Kelly, Club:Crystal+Palace, Pos:RB",
          "Luka Milivojevic, Club:Crystal+Palace, Pos:DM",
          "Lee Chung-yong, Club:Crystal+Palace, Pos:RW",
          "Connor Wickham, Club:Crystal+Palace, Pos:CF",
          "Bakary Sako, Club:Crystal+Palace, Pos:LW",
          "Pape Souare, Club:Crystal+Palace, Pos:LB",
          "Ruben Loftus-Cheek, Club:Crystal+Palace, Pos:CM",
          "Julian Speroni, Club:Crystal+Palace, Pos:GK",
          "Ross Barkley, Club:Everton, Pos:AM",
          "Leighton Baines, Club:Everton, Pos:LB",
          "Seamus Coleman, Club:Everton, Pos:RB",
          "Ashley Williams, Club:Everton, Pos:CB",
          "Kevin Mirallas, Club:Everton, Pos:RW",
          "Michael Keane, Club:Everton, Pos:CB",
          "Phil Jagielka, Club:Everton, Pos:CB",
          "Jordan Pickford, Club:Everton, Pos:GK",
          "Joel Robles, Club:Everton, Pos:GK",
          "Idrissa Gueye, Club:Everton, Pos:CM",
          "Wayne Rooney, Club:Everton, Pos:SS",
          "Ramiro Funes Mori, Club:Everton, Pos:CB",
          "Maarten Stekelenburg, Club:Everton, Pos:GK",
          "Gareth Barry, Club:Everton, Pos:DM",
          "Tom Davies, Club:Everton, Pos:CM",
          "Mason Holgate, Club:Everton, Pos:CB",
          "Yannick Bolasie, Club:Everton, Pos:LW",
          "Morgan Schneiderlin, Club:Everton, Pos:DM",
          "Cuco Martina, Club:Everton, Pos:RB",
          "James McCarthy, Club:Everton, Pos:CM",
          "Aaron Lennon, Club:Everton, Pos:RW",
          "Dominic Calvert-Lewin, Club:Everton, Pos:SS",
          "Ademola Lookman, Club:Everton, Pos:LW",
          "Matthew Pennington, Club:Everton, Pos:CB",
          "Jonjoe Kenny, Club:Everton, Pos:RB",
          "Muhamed Besic, Club:Everton, Pos:DM",
          "Davy Klaassen, Club:Everton, Pos:AM",
          "Sandro Ramirez, Club:Everton, Pos:CF",
          "Joel Coleman, Club:Huddersfield, Pos:GK",
          "Jonas Lossl, Club:Huddersfield, Pos:GK",
          "Christopher Schindler, Club:Huddersfield, Pos:CB",
          "Chris Lowe, Club:Huddersfield, Pos:LB",
          "Tommy Smith, Club:Huddersfield, Pos:RB",
          "Michael Hefele, Club:Huddersfield, Pos:CB",
          "Martin Cranie, Club:Huddersfield, Pos:CB",
          "Jon Gorenc Stankovic, Club:Huddersfield, Pos:CB",
          "Mark Hudson, Club:Huddersfield, Pos:CB",
          "Mathias Jorgensen, Club:Huddersfield, Pos:CB",
          "Scott Malone, Club:Huddersfield, Pos:LB",
          "Aaron Mooy, Club:Huddersfield, Pos:CM",
          "Rajiv van La Parra, Club:Huddersfield, Pos:LW",
          "Jonathan Hogg, Club:Huddersfield, Pos:CM",
          "Philip Billing, Club:Huddersfield, Pos:CM",
          "Joe Lolley, Club:Huddersfield, Pos:RW",
          "Jack Payne, Club:Huddersfield, Pos:CM",
          "Dean Whitehead, Club:Huddersfield, Pos:CM",
          "Harry Bunn, Club:Huddersfield, Pos:LW",
          "Sean Scannell, Club:Huddersfield, Pos:RW",
          "Elias Kachunga, Club:Huddersfield, Pos:RW",
          "Tom Ince, Club:Huddersfield, Pos:RW",
          "Kasey Palmer, Club:Huddersfield, Pos:AM",
          "Andy Williams, Club:Huddersfield, Pos:CB",
          "Nahki Wells, Club:Huddersfield, Pos:CF",
          "Collin Quaner, Club:Huddersfield, Pos:CF",
          "Laurent Depoitre, Club:Huddersfield, Pos:CF",
          "Steve Mounie, Club:Huddersfield, Pos:CF",
          "Jamie Vardy, Club:Leicester+City, Pos:CF",
          "Riyad Mahrez, Club:Leicester+City, Pos:RW",
          "Kasper Schmeichel, Club:Leicester+City, Pos:GK",
          "Christian Fuchs, Club:Leicester+City, Pos:LB",
          "Marc Albrighton, Club:Leicester+City, Pos:LM",
          "Robert Huth, Club:Leicester+City, Pos:CB",
          "Danny Simpson, Club:Leicester+City, Pos:RB",
          "Islam Slimani, Club:Leicester+City, Pos:CF",
          "Harry Maguire, Club:Leicester+City, Pos:CB",
          "Danny Drinkwater, Club:Leicester+City, Pos:CM",
          "Wes Morgan, Club:Leicester+City, Pos:CB",
          "Shinji Okazaki, Club:Leicester+City, Pos:CF",
          "Wilfred Ndidi, Club:Leicester+City, Pos:DM",
          "Demarai Gray, Club:Leicester+City, Pos:LW",
          "Daniel Amartey, Club:Leicester+City, Pos:DM",
          "Andy King, Club:Leicester+City, Pos:CM",
          "Ahmed Musa, Club:Leicester+City, Pos:CF",
          "Yohan Benalouane, Club:Leicester+City, Pos:CB",
          "Leonardo Ulloa, Club:Leicester+City, Pos:CF",
          "Ben Chilwell, Club:Leicester+City, Pos:LB",
          "Nampalys Mendy, Club:Leicester+City, Pos:DM",
          "Ben Hamer, Club:Leicester+City, Pos:GK",
          "Molla Wague, Club:Leicester+City, Pos:CB",
          "Vicente Iborra, Club:Leicester+City, Pos:DM",
          "Roberto Firmino, Club:Liverpool, Pos:SS",
          "Philippe Coutinho, Club:Liverpool, Pos:AM",
          "Sadio Mane, Club:Liverpool, Pos:LW",
          "Georginio Wijnaldum, Club:Liverpool, Pos:CM",
          "James Milner, Club:Liverpool, Pos:CM",
          "Adam Lallana, Club:Liverpool, Pos:AM",
          "Nathaniel Clyne, Club:Liverpool, Pos:RB",
          "Simon Mignolet, Club:Liverpool, Pos:GK",
          "Dejan Lovren, Club:Liverpool, Pos:CB",
          "Emre Can, Club:Liverpool, Pos:DM",
          "Joel Matip, Club:Liverpool, Pos:CB",
          "Divock Origi, Club:Liverpool, Pos:CF",
          "Jordan Henderson, Club:Liverpool, Pos:CM",
          "Daniel Sturridge, Club:Liverpool, Pos:CF",
          "Lucas Leiva, Club:Liverpool, Pos:DM",
          "Ragnar Klavan, Club:Liverpool, Pos:CB",
          "Mamadou Sakho, Club:Liverpool, Pos:CB",
          "Loris Karius, Club:Liverpool, Pos:GK",
          "Trent Alexander-Arnold, Club:Liverpool, Pos:RB",
          "Alberto Moreno, Club:Liverpool, Pos:LB",
          "Ben Woodburn, Club:Liverpool, Pos:LW",
          "Marko Grujic, Club:Liverpool, Pos:CM",
          "Joe Gomez, Club:Liverpool, Pos:CB",
          "Sheyi Ojo, Club:Liverpool, Pos:LW",
          "Mohamed Salah, Club:Liverpool, Pos:RW",
          "Danny Ings, Club:Liverpool, Pos:CF",
          "Dominic Solanke, Club:Liverpool, Pos:CF",
          "Kevin De Bruyne, Club:Manchester+City, Pos:AM",
          "Sergio Aguero, Club:Manchester+City, Pos:CF",
          "Raheem Sterling, Club:Manchester+City, Pos:LW",
          "Kyle Walker, Club:Manchester+City, Pos:RB",
          "David Silva, Club:Manchester+City, Pos:AM",
          "Leroy Sane, Club:Manchester+City, Pos:LW",
          "Nicolas Otamendi, Club:Manchester+City, Pos:CB",
          "Aleksandar Kolarov, Club:Manchester+City, Pos:LB",
          "Yaya Toure, Club:Manchester+City, Pos:CM",
          "Fernandinho, Club:Manchester+City, Pos:DM",
          "Claudio Bravo, Club:Manchester+City, Pos:GK",
          "Gabriel Jesus, Club:Manchester+City, Pos:CF",
          "John Stones, Club:Manchester+City, Pos:CB",
          "Vincent Kompany, Club:Manchester+City, Pos:CB",
          "Kelechi Iheanacho, Club:Manchester+City, Pos:CF",
          "Ilkay Gundogan, Club:Manchester+City, Pos:CM",
          "Fernando, Club:Manchester+City, Pos:DM",
          "Fabian Delph, Club:Manchester+City, Pos:CM",
          "Ederson Moraes, Club:Manchester+City, Pos:GK",
          "Bernardo Silva, Club:Manchester+City, Pos:RW",
          "Romelu Lukaku, Club:Manchester+United, Pos:CF",
          "David de Gea, Club:Manchester+United, Pos:GK",
          "Antonio Valencia, Club:Manchester+United, Pos:RB",
          "Paul Pogba, Club:Manchester+United, Pos:CM",
          "Eric Bailly, Club:Manchester+United, Pos:CB",
          "Juan Mata, Club:Manchester+United, Pos:AM",
          "Daley Blind, Club:Manchester+United, Pos:LB",
          "Ander Herrera, Club:Manchester+United, Pos:CM",
          "Anthony Martial, Club:Manchester+United, Pos:CF",
          "Marcos Rojo, Club:Manchester+United, Pos:CB",
          "Marcus Rashford, Club:Manchester+United, Pos:CF",
          "Henrikh Mkhitaryan, Club:Manchester+United, Pos:AM",
          "Matteo Darmian, Club:Manchester+United, Pos:RB",
          "Jesse Lingard, Club:Manchester+United, Pos:LW",
          "Phil Jones, Club:Manchester+United, Pos:CB",
          "Chris Smalling, Club:Manchester+United, Pos:CB",
          "Marouane Fellaini, Club:Manchester+United, Pos:CM",
          "Luke Shaw, Club:Manchester+United, Pos:LB",
          "Michael Carrick, Club:Manchester+United, Pos:DM",
          "Ashley Young, Club:Manchester+United, Pos:LM",
          "Sergio Romero, Club:Manchester+United, Pos:GK",
          "Axel Tuanzebe, Club:Manchester+United, Pos:CB",
          "Timothy Fosu-Mensah, Club:Manchester+United, Pos:DM",
          "Joel Castro Pereira, Club:Manchester+United, Pos:GK",
          "Victor Lindelof, Club:Manchester+United, Pos:CB",
          "Rob Elliot, Club:Newcastle+United, Pos:GK",
          "Karl Darlow, Club:Newcastle+United, Pos:GK",
          "DeAndre Yedlin, Club:Newcastle+United, Pos:RB",
          "Ciaran Clark, Club:Newcastle+United, Pos:CB",
          "Lascelles, Club:Newcastle+United, Pos:CB",
          "Paul Dummett, Club:Newcastle+United, Pos:LB",
          "Grant Hanley, Club:Newcastle+United, Pos:CB",
          "Jesus Gamez, Club:Newcastle+United, Pos:RB",
          "Florian Lejeune, Club:Newcastle+United, Pos:CB",
          "Massadio Haidara, Club:Newcastle+United, Pos:LB",
          "Matt Ritchie, Club:Newcastle+United, Pos:RM",
          "Jonjo Shelvey, Club:Newcastle+United, Pos:CM",
          "Mohamed Diame, Club:Newcastle+United, Pos:CM",
          "Jack Colback, Club:Newcastle+United, Pos:DM",
          "Christian Atsu, Club:Newcastle+United, Pos:RW",
          "Siem de Jong, Club:Newcastle+United, Pos:AM",
          "Rolando Aarons, Club:Newcastle+United, Pos:LW",
          "Dwight Gayle, Club:Newcastle+United, Pos:CF",
          "Ayoze Perez, Club:Newcastle+United, Pos:SS",
          "Aleksandar Mitrovic, Club:Newcastle+United, Pos:CF",
          "Daryl Murphy, Club:Newcastle+United, Pos:CF",
          "Fraser Forster, Club:Southampton, Pos:GK",
          "Nathan Redmond, Club:Southampton, Pos:RW",
          "Ryan Bertrand, Club:Southampton, Pos:LB",
          "DuÅ¡an TadiÄ‡, Club:Southampton, Pos:LW",
          "Cedric Soares, Club:Southampton, Pos:RB",
          "James Ward-Prowse, Club:Southampton, Pos:CM",
          "Oriol Romeu, Club:Southampton, Pos:DM",
          "Maya Yoshida, Club:Southampton, Pos:CB",
          "Steven Davis, Club:Southampton, Pos:CM",
          "Virgil van Dijk, Club:Southampton, Pos:CB",
          "Charlie Austin, Club:Southampton, Pos:CF",
          "Jack Stephens, Club:Southampton, Pos:CB",
          "Shane Long, Club:Southampton, Pos:CF",
          "Sofiane Boufal, Club:Southampton, Pos:AM",
          "Jordy Clasie, Club:Southampton, Pos:DM",
          "Pierre-Emile Hojbjerg, Club:Southampton, Pos:CM",
          "Manolo Gabbiadini, Club:Southampton, Pos:CF",
          "Sam McQueen, Club:Southampton, Pos:LM",
          "Matt Targett, Club:Southampton, Pos:LB",
          "Josh Sims, Club:Southampton, Pos:RW",
          "Jeremy Pied, Club:Southampton, Pos:RM",
          "Jason McCarthy, Club:Southampton, Pos:CB",
          "Jan Bednarek, Club:Southampton, Pos:CB",
          "Joe Allen, Club:Stoke+City, Pos:CM",
          "Marko ArnautoviÄ‡, Club:Stoke+City, Pos:LW",
          "Lee Grant, Club:Stoke+City, Pos:GK",
          "Erik Pieters, Club:Stoke+City, Pos:LB",
          "Steven Fletcher, Club:Stoke+City, Pos:CF",
          "Ryan Shawcross, Club:Stoke+City, Pos:CB",
          "Xherdan Shaqiri, Club:Stoke+City, Pos:RW",
          "Peter Crouch, Club:Stoke+City, Pos:CF",
          "Glenn Whelan, Club:Stoke+City, Pos:DM",
          "Charlie Adam, Club:Stoke+City, Pos:CM",
          "Geoff Cameron, Club:Stoke+City, Pos:CB",
          "Glen Johnson, Club:Stoke+City, Pos:RB",
          "Mame Biram Diouf, Club:Stoke+City, Pos:CF",
          "Ramadan Sobhi, Club:Stoke+City, Pos:LW",
          "Marc Muniesa, Club:Stoke+City, Pos:CB",
          "Bojan KrkiÄ‡, Club:Stoke+City, Pos:SS",
          "Phil Bardsley, Club:Stoke+City, Pos:RB",
          "Saido Berahino, Club:Stoke+City, Pos:CF",
          "Giannelli Imbula, Club:Stoke+City, Pos:DM",
          "Jack Butland, Club:Stoke+City, Pos:GK",
          "Ibrahim Afellay, Club:Stoke+City, Pos:LM",
          "Josh Tymon, Club:Stoke+City, Pos:LB",
          "Gylfi Sigurdsson, Club:Swansea, Pos:AM",
          "Fernando Llorente, Club:Swansea, Pos:CF",
          "Åukasz FabiaÅ„ski, Club:Swansea, Pos:GK",
          "Leroy Fer, Club:Swansea, Pos:CM",
          "Alfie Mawson, Club:Swansea, Pos:CB",
          "Kyle Naughton, Club:Swansea, Pos:RB",
          "Wayne Routledge, Club:Swansea, Pos:LW",
          "Federico Fernandez, Club:Swansea, Pos:CB",
          "Martin Olsson, Club:Swansea, Pos:LB",
          "Tom Carroll, Club:Swansea, Pos:CM",
          "Ki Sung-yueng, Club:Swansea, Pos:DM",
          "Jordan Ayew, Club:Swansea, Pos:CF",
          "Modou Barrow, Club:Swansea, Pos:RW",
          "Leon Britton, Club:Swansea, Pos:CM",
          "Stephen Kingsley, Club:Swansea, Pos:LB",
          "Ã€ngel Rangel, Club:Swansea, Pos:RB",
          "Luciano Narsingh, Club:Swansea, Pos:RW",
          "Jay Fulton, Club:Swansea, Pos:CM",
          "Jefferson Montero, Club:Swansea, Pos:LW",
          "Mike van der Hoorn, Club:Swansea, Pos:CB",
          "Nathan Dyer, Club:Swansea, Pos:RW",
          "Oliver McBurnie, Club:Swansea, Pos:CF",
          "Kristoffer Nordfeldt, Club:Swansea, Pos:GK",
          "Roque Mesa, Club:Swansea, Pos:CM",
          "Tammy Abraham, Club:Swansea, Pos:CF",
          "Dele Alli, Club:Tottenham, Pos:CM",
          "Harry Kane, Club:Tottenham, Pos:CF",
          "Christian Eriksen, Club:Tottenham, Pos:AM",
          "Son Heung-min, Club:Tottenham, Pos:LW",
          "Hugo Lloris, Club:Tottenham, Pos:GK",
          "Jan Vertonghen, Club:Tottenham, Pos:CB",
          "Toby Alderweireld, Club:Tottenham, Pos:CB",
          "Victor Wanyama, Club:Tottenham, Pos:DM",
          "Eric Dier, Club:Tottenham, Pos:DM",
          "Ben Davies, Club:Tottenham, Pos:LB",
          "Danny Rose, Club:Tottenham, Pos:LB",
          "Mousa Dembele, Club:Tottenham, Pos:CM",
          "Vincent Janssen, Club:Tottenham, Pos:CF",
          "Kieran Trippier, Club:Tottenham, Pos:RB",
          "Moussa Sissokho, Club:Tottenham, Pos:CM",
          "Harry Winks, Club:Tottenham, Pos:CM",
          "Erik Lamela, Club:Tottenham, Pos:RW",
          "Michel Vorm, Club:Tottenham, Pos:GK",
          "Georges-Kevin N%27Koudou, Club:Tottenham, Pos:LW",
          "Kevin Wimmer, Club:Tottenham, Pos:CB",
          "Ã‰tienne Capoue, Club:Watford, Pos:DM",
          "Troy Deeney, Club:Watford, Pos:CF",
          "Heurelho Gomes, Club:Watford, Pos:GK",
          "Jose Holebas, Club:Watford, Pos:LB",
          "Miguel Britos, Club:Watford, Pos:CB",
          "Sebastian Prodl, Club:Watford, Pos:CB",
          "Nordin Amrabat, Club:Watford, Pos:LW",
          "YounÃ¨s Kaboul, Club:Watford, Pos:CB",
          "Tom Cleverley, Club:Watford, Pos:CM",
          "Daryl Janmaat, Club:Watford, Pos:RB",
          "Valon Behrami, Club:Watford, Pos:DM",
          "Roberto Pereyra, Club:Watford, Pos:AM",
          "Stefano Okaka, Club:Watford, Pos:CF",
          "Abdoulaye Doucoure, Club:Watford, Pos:CM",
          "Kabasele, Club:Watford, Pos:CB",
          "Craig Cathcart, Club:Watford, Pos:CB",
          "Isaac Success, Club:Watford, Pos:LW",
          "Adrian Mariappa, Club:Watford, Pos:CB",
          "Nathaniel Chalobah, Club:Watford, Pos:DM",
          "Mauro Zarate, Club:Watford, Pos:SS",
          "Costel Pantilimon, Club:Watford, Pos:GK",
          "Kiko Femenia, Club:Watford, Pos:RB",
          "Steven Berghuis, Club:Watford, Pos:RW",
          "Will Hughes, Club:Watford, Pos:CM",
          "Gareth McAuley, Club:West+Brom, Pos:CB",
          "Salomon Rondon, Club:West+Brom, Pos:CF",
          "Matt Phillips, Club:West+Brom, Pos:RW",
          "Ben Foster, Club:West+Brom, Pos:GK",
          "Nacer Chadli, Club:West+Brom, Pos:LW",
          "Craig Dawson, Club:West+Brom, Pos:RB",
          "Chris Brunt, Club:West+Brom, Pos:LM",
          "James Morrison, Club:West+Brom, Pos:CM",
          "Jonny Evans, Club:West+Brom, Pos:CB",
          "Jake Livermore, Club:West+Brom, Pos:DM",
          "Allan Nyom, Club:West+Brom, Pos:RB",
          "Jay Rodriguez, Club:West+Brom, Pos:CF",
          "Claudio Yacob, Club:West+Brom, Pos:DM",
          "James McClean, Club:West+Brom, Pos:LW",
          "Hal Robson-Kanu, Club:West+Brom, Pos:LW",
          "Jonathan Leko, Club:West+Brom, Pos:RW",
          "Sam Field, Club:West+Brom, Pos:CM",
          "Boaz Myhill, Club:West+Brom, Pos:GK",
          "Ahmed Hegazy, Club:West+Brom, Pos:CB",
          "Robert Snodgrass, Club:West+Ham, Pos:RW",
          "Manuel Lanzini, Club:West+Ham, Pos:AM",
          "Michail Antonio, Club:West+Ham, Pos:RW",
          "Winston Reid, Club:West+Ham, Pos:CB",
          "Jose Fonte, Club:West+Ham, Pos:CB",
          "Andre Ayew, Club:West+Ham, Pos:LW",
          "Cheikhou Kouyate, Club:West+Ham, Pos:DM",
          "Mark Noble, Club:West+Ham, Pos:CM",
          "Darren Randolph, Club:West+Ham, Pos:GK",
          "James Collins, Club:West+Ham, Pos:CB",
          "Andy Carroll, Club:West+Ham, Pos:CF",
          "Adrian, Club:West+Ham, Pos:GK",
          "Aaron Cresswell, Club:West+Ham, Pos:LB",
          "Pedro Obiang, Club:West+Ham, Pos:CM",
          "Sofiane Feghouli, Club:West+Ham, Pos:RW",
          "Angelo Ogbonna, Club:West+Ham, Pos:CB",
          "Pablo Zabaleta, Club:West+Ham, Pos:RB",
          "Edimilson Fernandes, Club:West+Ham, Pos:CM",
          "Arthur Masuaku, Club:West+Ham, Pos:LB",
          "Sam Byram, Club:West+Ham, Pos:RB",
          "Ashley Fletcher, Club:West+Ham, Pos:CF",
          "Diafra Sakho, Club:West+Ham, Pos:CF"
         ],
         "type": "scatter",
         "uid": "0d217c",
         "x": [
          12,
          9.5,
          5.5,
          7.5,
          6,
          6,
          8.5,
          5.5,
          5.5,
          5.5,
          5.5,
          6,
          5.5,
          7,
          4.5,
          5,
          5,
          7,
          7.5,
          5,
          4.5,
          7.5,
          4,
          5,
          4.5,
          5,
          6,
          10.5,
          7.5,
          8,
          5,
          4.5,
          5,
          6,
          5,
          5.5,
          4.5,
          6,
          5,
          5,
          6,
          5,
          5,
          4.5,
          5,
          4.5,
          5,
          4,
          5,
          4.5,
          4,
          4.5,
          4,
          4.5,
          4.5,
          4.5,
          4,
          4.5,
          4.5,
          4,
          4,
          4.5,
          6,
          4.5,
          4.5,
          4.5,
          5,
          5,
          4.5,
          5,
          5.5,
          6,
          5,
          5,
          5,
          6,
          6.5,
          4.5,
          4.5,
          4.5,
          5.5,
          5.5,
          5,
          5.5,
          4.5,
          4.5,
          5,
          5.5,
          4.5,
          4.5,
          4,
          4.5,
          10.5,
          10,
          6.5,
          7,
          6.5,
          8,
          5.5,
          6,
          7,
          7,
          6.5,
          5,
          5,
          5,
          8.5,
          5.5,
          5,
          5,
          6,
          5,
          7,
          8,
          6,
          5.5,
          4.5,
          4.5,
          5,
          5.5,
          5,
          4.5,
          5,
          4.5,
          5,
          4.5,
          5,
          4.5,
          5.5,
          5,
          4.5,
          4.5,
          4,
          7.5,
          6,
          6.5,
          5.5,
          6.5,
          5.5,
          5,
          5,
          4.5,
          5,
          7.5,
          5,
          4.5,
          4.5,
          5.5,
          4.5,
          6.5,
          5,
          4.5,
          5,
          5.5,
          5,
          5.5,
          4,
          4.5,
          4.5,
          7.5,
          7.5,
          4,
          4.5,
          4.5,
          4.5,
          5,
          4.5,
          4,
          4,
          4,
          4.5,
          4.5,
          5.5,
          5,
          4.5,
          4.5,
          4.5,
          4.5,
          4.5,
          4.5,
          4.5,
          6,
          6,
          5.5,
          5,
          5,
          4.5,
          5.5,
          6,
          8.5,
          8.5,
          5,
          5,
          5.5,
          5,
          4.5,
          7,
          5,
          5,
          4.5,
          5.5,
          5,
          5.5,
          4.5,
          4.5,
          6.5,
          4.5,
          5,
          4.5,
          4.5,
          4.5,
          4.5,
          6,
          8.5,
          9,
          9.5,
          7,
          6.5,
          7.5,
          5.5,
          5,
          5.5,
          5,
          5.5,
          7.5,
          5.5,
          8,
          4.5,
          4.5,
          5,
          5,
          4.5,
          4.5,
          4.5,
          4.5,
          4.5,
          5,
          9,
          5.5,
          5,
          10,
          11.5,
          8,
          6.5,
          8,
          8.5,
          5.5,
          5.5,
          6.5,
          5,
          5,
          10.5,
          5.5,
          6,
          7,
          5.5,
          4.5,
          4.5,
          5.5,
          8,
          11.5,
          5.5,
          6.5,
          8,
          6,
          7,
          5.5,
          5.5,
          8,
          5.5,
          7.5,
          8,
          5.5,
          6,
          5,
          5.5,
          5,
          5,
          4.5,
          5,
          5,
          4,
          4.5,
          4,
          5.5,
          4,
          4.5,
          4.5,
          4.5,
          4.5,
          4.5,
          4,
          4,
          4.5,
          4,
          6,
          5.5,
          5,
          4.5,
          5,
          5,
          4.5,
          6.5,
          5.5,
          5,
          4.5,
          5,
          6.5,
          5.5,
          6.5,
          5,
          5.5,
          4.5,
          5,
          5,
          5.5,
          6.5,
          5,
          6,
          6,
          4.5,
          4.5,
          7,
          4.5,
          4.5,
          4.5,
          4.5,
          4.5,
          4.5,
          5.5,
          7,
          4.5,
          5,
          5,
          5,
          6,
          5,
          4.5,
          5,
          4.5,
          4.5,
          5.5,
          5,
          4.5,
          5.5,
          4.5,
          6,
          4.5,
          5,
          5,
          4.5,
          8.5,
          7.5,
          4.5,
          5.5,
          5,
          4.5,
          5.5,
          4.5,
          5,
          4.5,
          5,
          5,
          5,
          4.5,
          4.5,
          4,
          5,
          4.5,
          5,
          4.5,
          4.5,
          4.5,
          4,
          4.5,
          5.5,
          9.5,
          12.5,
          9.5,
          8,
          5.5,
          6,
          6,
          5,
          5,
          5.5,
          6.5,
          5,
          7.5,
          5.5,
          5.5,
          5,
          6.5,
          5,
          5.5,
          4.5,
          5.5,
          6.5,
          4.5,
          5,
          4.5,
          4.5,
          5,
          4.5,
          5,
          5,
          4.5,
          6,
          5.5,
          5,
          4.5,
          4.5,
          5.5,
          4,
          4.5,
          5.5,
          4.5,
          4.5,
          5,
          5,
          5,
          6.5,
          6,
          4.5,
          6,
          5,
          5.5,
          5.5,
          5,
          5,
          5,
          6,
          4.5,
          5,
          5,
          4.5,
          4.5,
          4,
          4.5,
          6,
          7,
          7.5,
          5,
          5,
          7,
          5,
          5.5,
          4.5,
          4.5,
          6,
          4.5,
          5,
          4.5,
          5.5,
          4.5,
          5,
          4.5,
          4.5,
          4.5,
          4.5,
          5.5
         ],
         "xsrc": "Aldemuro:22:d61533",
         "y": [
          264,
          167,
          134,
          122,
          121,
          119,
          116,
          115,
          90,
          89,
          85,
          83,
          61,
          56,
          52,
          45,
          45,
          38,
          37,
          32,
          26,
          20,
          8,
          2,
          2,
          1,
          0,
          0,
          178,
          166,
          134,
          120,
          112,
          107,
          104,
          100,
          89,
          88,
          84,
          64,
          63,
          55,
          49,
          44,
          36,
          17,
          14,
          8,
          8,
          4,
          4,
          2,
          0,
          0,
          0,
          0,
          0,
          0,
          0,
          0,
          0,
          0,
          0,
          0,
          0,
          0,
          0,
          0,
          0,
          0,
          0,
          0,
          0,
          0,
          149,
          121,
          108,
          94,
          91,
          90,
          81,
          76,
          69,
          54,
          51,
          50,
          47,
          39,
          23,
          13,
          3,
          0,
          224,
          196,
          178,
          177,
          170,
          162,
          141,
          132,
          121,
          114,
          105,
          105,
          83,
          64,
          48,
          15,
          3,
          0,
          0,
          0,
          149,
          136,
          116,
          98,
          93,
          92,
          92,
          91,
          86,
          75,
          61,
          51,
          47,
          46,
          42,
          24,
          18,
          7,
          6,
          6,
          0,
          144,
          135,
          133,
          127,
          119,
          113,
          104,
          102,
          89,
          80,
          76,
          69,
          68,
          68,
          63,
          54,
          45,
          37,
          31,
          23,
          22,
          17,
          16,
          9,
          1,
          0,
          0,
          0,
          0,
          0,
          0,
          0,
          0,
          0,
          0,
          0,
          0,
          0,
          0,
          0,
          0,
          0,
          0,
          0,
          0,
          0,
          0,
          0,
          0,
          0,
          0,
          0,
          0,
          0,
          0,
          0,
          161,
          120,
          109,
          104,
          95,
          88,
          85,
          83,
          71,
          69,
          63,
          63,
          59,
          58,
          53,
          41,
          39,
          27,
          24,
          19,
          6,
          0,
          0,
          0,
          180,
          171,
          156,
          149,
          139,
          139,
          129,
          110,
          106,
          104,
          97,
          96,
          73,
          54,
          47,
          43,
          35,
          32,
          15,
          8,
          5,
          4,
          0,
          0,
          0,
          0,
          0,
          199,
          175,
          149,
          142,
          130,
          105,
          100,
          95,
          86,
          78,
          73,
          67,
          59,
          57,
          52,
          41,
          18,
          13,
          0,
          0,
          221,
          136,
          120,
          115,
          105,
          102,
          98,
          97,
          95,
          77,
          76,
          73,
          70,
          60,
          55,
          52,
          48,
          45,
          42,
          26,
          23,
          14,
          9,
          6,
          0,
          0,
          0,
          0,
          0,
          0,
          0,
          0,
          0,
          0,
          0,
          0,
          0,
          0,
          0,
          0,
          0,
          0,
          0,
          0,
          0,
          0,
          134,
          126,
          123,
          108,
          102,
          92,
          80,
          78,
          77,
          75,
          62,
          60,
          57,
          40,
          38,
          38,
          38,
          23,
          12,
          12,
          5,
          0,
          0,
          118,
          117,
          106,
          103,
          103,
          94,
          80,
          79,
          62,
          59,
          58,
          56,
          51,
          36,
          34,
          30,
          27,
          26,
          24,
          20,
          15,
          9,
          181,
          146,
          116,
          95,
          94,
          82,
          74,
          63,
          52,
          52,
          41,
          39,
          34,
          32,
          29,
          26,
          25,
          19,
          18,
          16,
          12,
          5,
          3,
          0,
          0,
          225,
          224,
          218,
          174,
          143,
          126,
          120,
          103,
          93,
          90,
          84,
          76,
          55,
          51,
          43,
          30,
          28,
          17,
          8,
          2,
          131,
          130,
          113,
          87,
          71,
          67,
          65,
          57,
          55,
          50,
          48,
          43,
          43,
          38,
          35,
          31,
          28,
          15,
          12,
          8,
          2,
          0,
          0,
          0,
          131,
          118,
          115,
          113,
          110,
          102,
          99,
          84,
          79,
          77,
          74,
          73,
          54,
          52,
          52,
          12,
          9,
          0,
          0,
          133,
          133,
          132,
          102,
          98,
          89,
          79,
          71,
          69,
          69,
          69,
          64,
          60,
          55,
          55,
          45,
          45,
          38,
          34,
          29,
          16,
          12
         ],
         "ysrc": "Aldemuro:22:1c3243"
        }
       ],
       "layout": {
        "autosize": true,
        "hovermode": "closest",
        "template": {
         "data": {
          "bar": [
           {
            "error_x": {
             "color": "#2a3f5f"
            },
            "error_y": {
             "color": "#2a3f5f"
            },
            "marker": {
             "line": {
              "color": "#E5ECF6",
              "width": 0.5
             }
            },
            "type": "bar"
           }
          ],
          "barpolar": [
           {
            "marker": {
             "line": {
              "color": "#E5ECF6",
              "width": 0.5
             }
            },
            "type": "barpolar"
           }
          ],
          "carpet": [
           {
            "aaxis": {
             "endlinecolor": "#2a3f5f",
             "gridcolor": "white",
             "linecolor": "white",
             "minorgridcolor": "white",
             "startlinecolor": "#2a3f5f"
            },
            "baxis": {
             "endlinecolor": "#2a3f5f",
             "gridcolor": "white",
             "linecolor": "white",
             "minorgridcolor": "white",
             "startlinecolor": "#2a3f5f"
            },
            "type": "carpet"
           }
          ],
          "choropleth": [
           {
            "colorbar": {
             "outlinewidth": 0,
             "ticks": ""
            },
            "type": "choropleth"
           }
          ],
          "contour": [
           {
            "colorbar": {
             "outlinewidth": 0,
             "ticks": ""
            },
            "colorscale": [
             [
              0,
              "#0d0887"
             ],
             [
              0.1111111111111111,
              "#46039f"
             ],
             [
              0.2222222222222222,
              "#7201a8"
             ],
             [
              0.3333333333333333,
              "#9c179e"
             ],
             [
              0.4444444444444444,
              "#bd3786"
             ],
             [
              0.5555555555555556,
              "#d8576b"
             ],
             [
              0.6666666666666666,
              "#ed7953"
             ],
             [
              0.7777777777777778,
              "#fb9f3a"
             ],
             [
              0.8888888888888888,
              "#fdca26"
             ],
             [
              1,
              "#f0f921"
             ]
            ],
            "type": "contour"
           }
          ],
          "contourcarpet": [
           {
            "colorbar": {
             "outlinewidth": 0,
             "ticks": ""
            },
            "type": "contourcarpet"
           }
          ],
          "heatmap": [
           {
            "colorbar": {
             "outlinewidth": 0,
             "ticks": ""
            },
            "colorscale": [
             [
              0,
              "#0d0887"
             ],
             [
              0.1111111111111111,
              "#46039f"
             ],
             [
              0.2222222222222222,
              "#7201a8"
             ],
             [
              0.3333333333333333,
              "#9c179e"
             ],
             [
              0.4444444444444444,
              "#bd3786"
             ],
             [
              0.5555555555555556,
              "#d8576b"
             ],
             [
              0.6666666666666666,
              "#ed7953"
             ],
             [
              0.7777777777777778,
              "#fb9f3a"
             ],
             [
              0.8888888888888888,
              "#fdca26"
             ],
             [
              1,
              "#f0f921"
             ]
            ],
            "type": "heatmap"
           }
          ],
          "heatmapgl": [
           {
            "colorbar": {
             "outlinewidth": 0,
             "ticks": ""
            },
            "colorscale": [
             [
              0,
              "#0d0887"
             ],
             [
              0.1111111111111111,
              "#46039f"
             ],
             [
              0.2222222222222222,
              "#7201a8"
             ],
             [
              0.3333333333333333,
              "#9c179e"
             ],
             [
              0.4444444444444444,
              "#bd3786"
             ],
             [
              0.5555555555555556,
              "#d8576b"
             ],
             [
              0.6666666666666666,
              "#ed7953"
             ],
             [
              0.7777777777777778,
              "#fb9f3a"
             ],
             [
              0.8888888888888888,
              "#fdca26"
             ],
             [
              1,
              "#f0f921"
             ]
            ],
            "type": "heatmapgl"
           }
          ],
          "histogram": [
           {
            "marker": {
             "colorbar": {
              "outlinewidth": 0,
              "ticks": ""
             }
            },
            "type": "histogram"
           }
          ],
          "histogram2d": [
           {
            "colorbar": {
             "outlinewidth": 0,
             "ticks": ""
            },
            "colorscale": [
             [
              0,
              "#0d0887"
             ],
             [
              0.1111111111111111,
              "#46039f"
             ],
             [
              0.2222222222222222,
              "#7201a8"
             ],
             [
              0.3333333333333333,
              "#9c179e"
             ],
             [
              0.4444444444444444,
              "#bd3786"
             ],
             [
              0.5555555555555556,
              "#d8576b"
             ],
             [
              0.6666666666666666,
              "#ed7953"
             ],
             [
              0.7777777777777778,
              "#fb9f3a"
             ],
             [
              0.8888888888888888,
              "#fdca26"
             ],
             [
              1,
              "#f0f921"
             ]
            ],
            "type": "histogram2d"
           }
          ],
          "histogram2dcontour": [
           {
            "colorbar": {
             "outlinewidth": 0,
             "ticks": ""
            },
            "colorscale": [
             [
              0,
              "#0d0887"
             ],
             [
              0.1111111111111111,
              "#46039f"
             ],
             [
              0.2222222222222222,
              "#7201a8"
             ],
             [
              0.3333333333333333,
              "#9c179e"
             ],
             [
              0.4444444444444444,
              "#bd3786"
             ],
             [
              0.5555555555555556,
              "#d8576b"
             ],
             [
              0.6666666666666666,
              "#ed7953"
             ],
             [
              0.7777777777777778,
              "#fb9f3a"
             ],
             [
              0.8888888888888888,
              "#fdca26"
             ],
             [
              1,
              "#f0f921"
             ]
            ],
            "type": "histogram2dcontour"
           }
          ],
          "mesh3d": [
           {
            "colorbar": {
             "outlinewidth": 0,
             "ticks": ""
            },
            "type": "mesh3d"
           }
          ],
          "parcoords": [
           {
            "line": {
             "colorbar": {
              "outlinewidth": 0,
              "ticks": ""
             }
            },
            "type": "parcoords"
           }
          ],
          "pie": [
           {
            "automargin": true,
            "type": "pie"
           }
          ],
          "scatter": [
           {
            "marker": {
             "colorbar": {
              "outlinewidth": 0,
              "ticks": ""
             }
            },
            "type": "scatter"
           }
          ],
          "scatter3d": [
           {
            "line": {
             "colorbar": {
              "outlinewidth": 0,
              "ticks": ""
             }
            },
            "marker": {
             "colorbar": {
              "outlinewidth": 0,
              "ticks": ""
             }
            },
            "type": "scatter3d"
           }
          ],
          "scattercarpet": [
           {
            "marker": {
             "colorbar": {
              "outlinewidth": 0,
              "ticks": ""
             }
            },
            "type": "scattercarpet"
           }
          ],
          "scattergeo": [
           {
            "marker": {
             "colorbar": {
              "outlinewidth": 0,
              "ticks": ""
             }
            },
            "type": "scattergeo"
           }
          ],
          "scattergl": [
           {
            "marker": {
             "colorbar": {
              "outlinewidth": 0,
              "ticks": ""
             }
            },
            "type": "scattergl"
           }
          ],
          "scattermapbox": [
           {
            "marker": {
             "colorbar": {
              "outlinewidth": 0,
              "ticks": ""
             }
            },
            "type": "scattermapbox"
           }
          ],
          "scatterpolar": [
           {
            "marker": {
             "colorbar": {
              "outlinewidth": 0,
              "ticks": ""
             }
            },
            "type": "scatterpolar"
           }
          ],
          "scatterpolargl": [
           {
            "marker": {
             "colorbar": {
              "outlinewidth": 0,
              "ticks": ""
             }
            },
            "type": "scatterpolargl"
           }
          ],
          "scatterternary": [
           {
            "marker": {
             "colorbar": {
              "outlinewidth": 0,
              "ticks": ""
             }
            },
            "type": "scatterternary"
           }
          ],
          "surface": [
           {
            "colorbar": {
             "outlinewidth": 0,
             "ticks": ""
            },
            "colorscale": [
             [
              0,
              "#0d0887"
             ],
             [
              0.1111111111111111,
              "#46039f"
             ],
             [
              0.2222222222222222,
              "#7201a8"
             ],
             [
              0.3333333333333333,
              "#9c179e"
             ],
             [
              0.4444444444444444,
              "#bd3786"
             ],
             [
              0.5555555555555556,
              "#d8576b"
             ],
             [
              0.6666666666666666,
              "#ed7953"
             ],
             [
              0.7777777777777778,
              "#fb9f3a"
             ],
             [
              0.8888888888888888,
              "#fdca26"
             ],
             [
              1,
              "#f0f921"
             ]
            ],
            "type": "surface"
           }
          ],
          "table": [
           {
            "cells": {
             "fill": {
              "color": "#EBF0F8"
             },
             "line": {
              "color": "white"
             }
            },
            "header": {
             "fill": {
              "color": "#C8D4E3"
             },
             "line": {
              "color": "white"
             }
            },
            "type": "table"
           }
          ]
         },
         "layout": {
          "annotationdefaults": {
           "arrowcolor": "#2a3f5f",
           "arrowhead": 0,
           "arrowwidth": 1
          },
          "coloraxis": {
           "colorbar": {
            "outlinewidth": 0,
            "ticks": ""
           }
          },
          "colorscale": {
           "diverging": [
            [
             0,
             "#8e0152"
            ],
            [
             0.1,
             "#c51b7d"
            ],
            [
             0.2,
             "#de77ae"
            ],
            [
             0.3,
             "#f1b6da"
            ],
            [
             0.4,
             "#fde0ef"
            ],
            [
             0.5,
             "#f7f7f7"
            ],
            [
             0.6,
             "#e6f5d0"
            ],
            [
             0.7,
             "#b8e186"
            ],
            [
             0.8,
             "#7fbc41"
            ],
            [
             0.9,
             "#4d9221"
            ],
            [
             1,
             "#276419"
            ]
           ],
           "sequential": [
            [
             0,
             "#0d0887"
            ],
            [
             0.1111111111111111,
             "#46039f"
            ],
            [
             0.2222222222222222,
             "#7201a8"
            ],
            [
             0.3333333333333333,
             "#9c179e"
            ],
            [
             0.4444444444444444,
             "#bd3786"
            ],
            [
             0.5555555555555556,
             "#d8576b"
            ],
            [
             0.6666666666666666,
             "#ed7953"
            ],
            [
             0.7777777777777778,
             "#fb9f3a"
            ],
            [
             0.8888888888888888,
             "#fdca26"
            ],
            [
             1,
             "#f0f921"
            ]
           ],
           "sequentialminus": [
            [
             0,
             "#0d0887"
            ],
            [
             0.1111111111111111,
             "#46039f"
            ],
            [
             0.2222222222222222,
             "#7201a8"
            ],
            [
             0.3333333333333333,
             "#9c179e"
            ],
            [
             0.4444444444444444,
             "#bd3786"
            ],
            [
             0.5555555555555556,
             "#d8576b"
            ],
            [
             0.6666666666666666,
             "#ed7953"
            ],
            [
             0.7777777777777778,
             "#fb9f3a"
            ],
            [
             0.8888888888888888,
             "#fdca26"
            ],
            [
             1,
             "#f0f921"
            ]
           ]
          },
          "colorway": [
           "#636efa",
           "#EF553B",
           "#00cc96",
           "#ab63fa",
           "#FFA15A",
           "#19d3f3",
           "#FF6692",
           "#B6E880",
           "#FF97FF",
           "#FECB52"
          ],
          "font": {
           "color": "#2a3f5f"
          },
          "geo": {
           "bgcolor": "white",
           "lakecolor": "white",
           "landcolor": "#E5ECF6",
           "showlakes": true,
           "showland": true,
           "subunitcolor": "white"
          },
          "hoverlabel": {
           "align": "left"
          },
          "hovermode": "closest",
          "mapbox": {
           "style": "light"
          },
          "paper_bgcolor": "white",
          "plot_bgcolor": "#E5ECF6",
          "polar": {
           "angularaxis": {
            "gridcolor": "white",
            "linecolor": "white",
            "ticks": ""
           },
           "bgcolor": "#E5ECF6",
           "radialaxis": {
            "gridcolor": "white",
            "linecolor": "white",
            "ticks": ""
           }
          },
          "scene": {
           "xaxis": {
            "backgroundcolor": "#E5ECF6",
            "gridcolor": "white",
            "gridwidth": 2,
            "linecolor": "white",
            "showbackground": true,
            "ticks": "",
            "zerolinecolor": "white"
           },
           "yaxis": {
            "backgroundcolor": "#E5ECF6",
            "gridcolor": "white",
            "gridwidth": 2,
            "linecolor": "white",
            "showbackground": true,
            "ticks": "",
            "zerolinecolor": "white"
           },
           "zaxis": {
            "backgroundcolor": "#E5ECF6",
            "gridcolor": "white",
            "gridwidth": 2,
            "linecolor": "white",
            "showbackground": true,
            "ticks": "",
            "zerolinecolor": "white"
           }
          },
          "shapedefaults": {
           "line": {
            "color": "#2a3f5f"
           }
          },
          "ternary": {
           "aaxis": {
            "gridcolor": "white",
            "linecolor": "white",
            "ticks": ""
           },
           "baxis": {
            "gridcolor": "white",
            "linecolor": "white",
            "ticks": ""
           },
           "bgcolor": "#E5ECF6",
           "caxis": {
            "gridcolor": "white",
            "linecolor": "white",
            "ticks": ""
           }
          },
          "title": {
           "x": 0.05
          },
          "xaxis": {
           "automargin": true,
           "gridcolor": "white",
           "linecolor": "white",
           "ticks": "",
           "title": {
            "standoff": 15
           },
           "zerolinecolor": "white",
           "zerolinewidth": 2
          },
          "yaxis": {
           "automargin": true,
           "gridcolor": "white",
           "linecolor": "white",
           "ticks": "",
           "title": {
            "standoff": 15
           },
           "zerolinecolor": "white",
           "zerolinewidth": 2
          }
         }
        },
        "title": {
         "text": "Relation between FPL points and FPL value from every players"
        },
        "xaxis": {
         "autorange": true,
         "range": [
          3.48535752785,
          13.0146424722
         ],
         "title": {
          "text": "fpl value"
         },
         "type": "linear"
        },
        "yaxis": {
         "autorange": true,
         "range": [
          -17.5245518316,
          281.524551832
         ],
         "title": {
          "text": "fpl points"
         },
         "type": "linear"
        }
       }
      },
      "text/html": [
       "<div>                            <div id=\"74035dfc-c10e-4ca8-a533-225315cb8707\" class=\"plotly-graph-div\" style=\"height:525px; width:100%;\"></div>            <script type=\"text/javascript\">                require([\"plotly\"], function(Plotly) {                    window.PLOTLYENV=window.PLOTLYENV || {};                                    if (document.getElementById(\"74035dfc-c10e-4ca8-a533-225315cb8707\")) {                    Plotly.newPlot(                        \"74035dfc-c10e-4ca8-a533-225315cb8707\",                        [{\"marker\": {\"color\": \"red\", \"colorsrc\": \"Aldemuro:22:1a1899\", \"size\": [22.0, 17.57894736842105, 24.363636363636363, 16.266666666666666, 20.166666666666668, 19.833333333333332, 13.647058823529411, 20.90909090909091, 16.363636363636363, 16.181818181818183, 15.454545454545455, 13.833333333333334, 11.090909090909092, 8.0, 11.555555555555555, 9.0, 9.0, 5.428571428571429, 4.933333333333334, 6.4, 5.777777777777778, 2.6666666666666665, 2.0, 0.4, 0.4444444444444444, 0.2, 0.0, 0.0, 23.733333333333334, 20.75, 26.8, 26.666666666666668, 22.4, 17.833333333333332, 20.8, 18.181818181818183, 19.77777777777778, 14.666666666666666, 16.8, 12.8, 10.5, 11.0, 9.8, 9.777777777777779, 7.2, 3.7777777777777777, 2.8, 2.0, 1.6, 0.8888888888888888, 1.0, 0.4444444444444444, 0.0, 0.0, 0.0, 0.0, 0.0, 0.0, 0.0, 0.0, 0.0, 0.0, 0.0, 0.0, 0.0, 0.0, 0.0, 0.0, 0.0, 0.0, 0.0, 0.0, 0.0, 0.0, 29.8, 20.166666666666668, 16.615384615384617, 20.88888888888889, 20.22222222222222, 20.0, 14.727272727272727, 13.818181818181818, 13.8, 9.818181818181818, 11.333333333333334, 11.11111111111111, 9.4, 7.090909090909091, 5.111111111111111, 2.888888888888889, 0.75, 0.0, 21.333333333333332, 19.6, 27.384615384615383, 25.285714285714285, 26.153846153846153, 20.25, 25.636363636363637, 22.0, 17.285714285714285, 16.285714285714285, 16.153846153846153, 21.0, 16.6, 12.8, 5.647058823529412, 2.727272727272727, 0.6, 0.0, 0.0, 0.0, 21.285714285714285, 17.0, 19.333333333333332, 17.818181818181817, 20.666666666666668, 20.444444444444443, 18.4, 16.545454545454547, 17.2, 16.666666666666668, 12.2, 11.333333333333334, 9.4, 10.222222222222221, 8.4, 5.333333333333333, 3.272727272727273, 1.4, 1.3333333333333333, 1.3333333333333333, 0.0, 19.2, 22.5, 20.46153846153846, 23.09090909090909, 18.307692307692307, 20.545454545454547, 20.8, 20.4, 19.77777777777778, 16.0, 10.133333333333333, 13.8, 15.11111111111111, 15.11111111111111, 11.454545454545455, 12.0, 6.923076923076923, 7.4, 6.888888888888889, 4.6, 4.0, 3.4, 2.909090909090909, 2.25, 0.2222222222222222, 0.0, 0.0, 0.0, 0.0, 0.0, 0.0, 0.0, 0.0, 0.0, 0.0, 0.0, 0.0, 0.0, 0.0, 0.0, 0.0, 0.0, 0.0, 0.0, 0.0, 0.0, 0.0, 0.0, 0.0, 0.0, 0.0, 0.0, 0.0, 0.0, 0.0, 0.0, 18.941176470588236, 14.117647058823529, 21.8, 20.8, 17.272727272727273, 17.6, 18.88888888888889, 11.857142857142858, 14.2, 13.8, 14.0, 11.454545454545455, 11.8, 10.545454545454545, 11.777777777777779, 9.11111111111111, 6.0, 6.0, 4.8, 4.222222222222222, 1.3333333333333333, 0.0, 0.0, 0.0, 21.176470588235293, 19.0, 16.42105263157895, 21.285714285714285, 21.384615384615383, 18.533333333333335, 23.454545454545453, 22.0, 19.272727272727273, 20.8, 17.636363636363637, 12.8, 13.272727272727273, 6.75, 10.444444444444445, 9.555555555555555, 7.0, 6.4, 3.3333333333333335, 1.7777777777777777, 1.1111111111111112, 0.8888888888888888, 0.0, 0.0, 0.0, 0.0, 0.0, 19.9, 15.217391304347826, 18.625, 21.846153846153847, 16.25, 12.352941176470589, 18.181818181818183, 17.272727272727273, 13.23076923076923, 15.6, 14.6, 6.380952380952381, 10.727272727272727, 9.5, 7.428571428571429, 7.454545454545454, 4.0, 2.888888888888889, 0.0, 0.0, 19.217391304347824, 24.727272727272727, 18.46153846153846, 14.375, 17.5, 14.571428571428571, 17.818181818181817, 17.636363636363637, 11.875, 14.0, 10.133333333333333, 9.125, 12.727272727272727, 10.0, 11.0, 9.454545454545455, 9.6, 9.0, 9.333333333333334, 5.2, 4.6, 3.5, 2.0, 1.5, 0.0, 0.0, 0.0, 0.0, 0.0, 0.0, 0.0, 0.0, 0.0, 0.0, 0.0, 0.0, 0.0, 0.0, 0.0, 0.0, 0.0, 0.0, 0.0, 0.0, 0.0, 0.0, 26.8, 19.384615384615383, 22.363636363636363, 16.615384615384617, 20.4, 16.727272727272727, 17.77777777777778, 15.6, 15.4, 13.636363636363637, 9.538461538461538, 12.0, 9.5, 6.666666666666667, 8.444444444444445, 8.444444444444445, 5.428571428571429, 5.111111111111111, 2.6666666666666665, 2.6666666666666665, 1.1111111111111112, 0.0, 0.0, 21.454545454545453, 16.714285714285715, 23.555555555555557, 20.6, 20.6, 18.8, 13.333333333333334, 15.8, 13.777777777777779, 11.8, 12.88888888888889, 12.444444444444445, 9.272727272727273, 7.2, 7.555555555555555, 5.454545454545454, 6.0, 4.333333333333333, 5.333333333333333, 4.0, 3.0, 2.0, 21.294117647058822, 19.466666666666665, 25.77777777777778, 17.272727272727273, 18.8, 18.22222222222222, 13.454545454545455, 14.0, 10.4, 11.555555555555555, 8.2, 7.8, 6.8, 7.111111111111111, 6.444444444444445, 6.5, 5.0, 4.222222222222222, 3.6, 3.5555555555555554, 2.6666666666666665, 1.1111111111111112, 0.75, 0.0, 0.0, 23.68421052631579, 17.92, 22.94736842105263, 21.75, 26.0, 21.0, 20.0, 20.6, 18.6, 16.363636363636363, 12.923076923076923, 15.2, 7.333333333333333, 9.272727272727273, 7.818181818181818, 6.0, 4.3076923076923075, 3.4, 1.4545454545454546, 0.4444444444444444, 23.818181818181817, 20.0, 25.11111111111111, 17.4, 15.777777777777779, 14.88888888888889, 13.0, 12.666666666666666, 11.0, 10.0, 10.666666666666666, 7.166666666666667, 7.818181818181818, 7.6, 7.777777777777778, 6.888888888888889, 5.090909090909091, 3.75, 2.6666666666666665, 1.4545454545454546, 0.4444444444444444, 0.0, 0.0, 0.0, 26.2, 18.153846153846153, 19.166666666666668, 25.11111111111111, 18.333333333333332, 20.4, 18.0, 15.272727272727273, 15.8, 15.4, 14.8, 12.166666666666666, 12.0, 10.4, 10.4, 2.6666666666666665, 2.0, 0.0, 0.0, 22.166666666666668, 19.0, 17.6, 20.4, 19.6, 12.714285714285714, 15.8, 12.909090909090908, 15.333333333333334, 15.333333333333334, 11.5, 14.222222222222221, 12.0, 12.222222222222221, 10.0, 10.0, 9.0, 8.444444444444445, 7.555555555555555, 6.444444444444445, 3.5555555555555554, 2.1818181818181817]}, \"mode\": \"markers\", \"name\": \"fpl_points\", \"text\": [\"Alexis Sanchez, Club:Arsenal, Pos:LW\", \"Mesut Ozil, Club:Arsenal, Pos:AM\", \"Petr Cech, Club:Arsenal, Pos:GK\", \"Theo Walcott, Club:Arsenal, Pos:RW\", \"Laurent Koscielny, Club:Arsenal, Pos:CB\", \"Hector Bellerin, Club:Arsenal, Pos:RB\", \"Olivier Giroud, Club:Arsenal, Pos:CF\", \"Nacho Monreal, Club:Arsenal, Pos:LB\", \"Shkodran Mustafi, Club:Arsenal, Pos:CB\", \"Alex Iwobi, Club:Arsenal, Pos:LW\", \"Granit Xhaka, Club:Arsenal, Pos:DM\", \"Alex Oxlade-Chamberlain, Club:Arsenal, Pos:RM\", \"Jack Wilshere, Club:Arsenal, Pos:CM\", \"Aaron Ramsey, Club:Arsenal, Pos:CM\", \"Francis Coquelin, Club:Arsenal, Pos:DM\", \"Gabriel Paulista, Club:Arsenal, Pos:CB\", \"Kieran Gibbs, Club:Arsenal, Pos:LB\", \"Santi Cazorla, Club:Arsenal, Pos:CM\", \"Danny Welbeck, Club:Arsenal, Pos:CF\", \"Rob Holding, Club:Arsenal, Pos:CB\", \"Mohamed Elneny, Club:Arsenal, Pos:DM\", \"Lucas Perez, Club:Arsenal, Pos:CF\", \"Emiliano Martinez, Club:Arsenal, Pos:GK\", \"David Ospina, Club:Arsenal, Pos:GK\", \"Carl Jenkinson, Club:Arsenal, Pos:RB\", \"Per Mertesacker, Club:Arsenal, Pos:CB\", \"Sead Kolasinac, Club:Arsenal, Pos:LB\", \"Alexandre Lacazette, Club:Arsenal, Pos:CF\", \"Joshua King, Club:Bournemouth, Pos:SS\", \"Jermain Defoe, Club:Bournemouth, Pos:CF\", \"Charlie Daniels, Club:Bournemouth, Pos:LB\", \"Artur Boruc, Club:Bournemouth, Pos:GK\", \"Steve Cook, Club:Bournemouth, Pos:CB\", \"Junior Stanislas, Club:Bournemouth, Pos:LW\", \"Adam Smith, Club:Bournemouth, Pos:RB\", \"Ryan Fraser, Club:Bournemouth, Pos:LW\", \"Simon Francis, Club:Bournemouth, Pos:RB\", \"Benik Afobe, Club:Bournemouth, Pos:CF\", \"Harry Arter, Club:Bournemouth, Pos:CM\", \"Marc Pugh, Club:Bournemouth, Pos:LW\", \"Callum Wilson, Club:Bournemouth, Pos:CF\", \"Nathan Ake, Club:Bournemouth, Pos:CB\", \"Dan Gosling, Club:Bournemouth, Pos:CM\", \"Andrew Surman, Club:Bournemouth, Pos:CM\", \"Jordon Ibe, Club:Bournemouth, Pos:RW\", \"Lewis Cook, Club:Bournemouth, Pos:CM\", \"Lys Mousset, Club:Bournemouth, Pos:CF\", \"Adam Federici, Club:Bournemouth, Pos:GK\", \"Max Gradel, Club:Bournemouth, Pos:LW\", \"Tyrone Mings, Club:Bournemouth, Pos:CB\", \"Brad Smith, Club:Bournemouth, Pos:LB\", \"Asmir Begovic, Club:Bournemouth, Pos:GK\", \"Niki Maenpaa, Club:Brighton+and+Hove, Pos:GK\", \"Mathew Ryan, Club:Brighton+and+Hove, Pos:GK\", \"Lewis Dunk, Club:Brighton+and+Hove, Pos:CB\", \"Shane Duffy, Club:Brighton+and+Hove, Pos:CB\", \"Uwe Hunemeier, Club:Brighton+and+Hove, Pos:CB\", \"Bruno, Club:Brighton+and+Hove, Pos:RB\", \"Gaetan Bong, Club:Brighton+and+Hove, Pos:LB\", \"Liam Rosenior, Club:Brighton+and+Hove, Pos:RB\", \"Connor Goldson, Club:Brighton+and+Hove, Pos:CB\", \"Markus Suttner, Club:Brighton+and+Hove, Pos:LB\", \"Anthony Knockaert, Club:Brighton+and+Hove, Pos:RW\", \"Dale Stephens, Club:Brighton+and+Hove, Pos:CM\", \"Beram Kayal, Club:Brighton+and+Hove, Pos:CM\", \"Steve Sidwell, Club:Brighton+and+Hove, Pos:CM\", \"Solly March, Club:Brighton+and+Hove, Pos:RM\", \"Jiri Skalak, Club:Brighton+and+Hove, Pos:LW\", \"Oliver Norwood, Club:Brighton+and+Hove, Pos:CM\", \"Jamie Murphy, Club:Brighton+and+Hove, Pos:LW\", \"Pascal Gross, Club:Brighton+and+Hove, Pos:CM\", \"Glenn Murray, Club:Brighton+and+Hove, Pos:CF\", \"Tomer Hemed, Club:Brighton+and+Hove, Pos:CF\", \"Sam Baldock, Club:Brighton+and+Hove, Pos:CF\", \"Tom Heaton, Club:Burnley, Pos:GK\", \"Sam Vokes, Club:Burnley, Pos:CF\", \"Andre Gray, Club:Burnley, Pos:CF\", \"Ben Mee, Club:Burnley, Pos:CB\", \"Stephen Ward, Club:Burnley, Pos:LB\", \"Matthew Lowton, Club:Burnley, Pos:RB\", \"Ashley Barnes, Club:Burnley, Pos:CF\", \"Jeff Hendrick, Club:Burnley, Pos:CM\", \"Scott Arfield, Club:Burnley, Pos:LM\", \"Steven Defour, Club:Burnley, Pos:CM\", \"Dean Marney, Club:Burnley, Pos:CM\", \"Jack Cork, Club:Burnley, Pos:DM\", \"Johann Berg Gudmundsson, Club:Burnley, Pos:RW\", \"Robbie Brady, Club:Burnley, Pos:LM\", \"James Tarkowski, Club:Burnley, Pos:CB\", \"Ashley Westwood, Club:Burnley, Pos:DM\", \"Kevin Long, Club:Burnley, Pos:CB\", \"Matthew Taylor, Club:Burnley, Pos:LM\", \"Eden Hazard, Club:Chelsea, Pos:LW\", \"Diego Costa, Club:Chelsea, Pos:CF\", \"Gary Cahill, Club:Chelsea, Pos:CB\", \"Marcos Alonso Mendoza, Club:Chelsea, Pos:LB\", \"Cesar Azpilicueta, Club:Chelsea, Pos:RB\", \"Pedro, Club:Chelsea, Pos:RW\", \"Thibaut Courtois, Club:Chelsea, Pos:GK\", \"David Luiz, Club:Chelsea, Pos:CB\", \"Cesc Fabregas, Club:Chelsea, Pos:CM\", \"Willian, Club:Chelsea, Pos:RW\", \"Victor Moses, Club:Chelsea, Pos:RM\", \"Nemanja Matic, Club:Chelsea, Pos:DM\", \"N%27Golo Kante, Club:Chelsea, Pos:DM\", \"Willy Caballero, Club:Chelsea, Pos:GK\", \"Michy Batshuayi, Club:Chelsea, Pos:CF\", \"Kurt Zouma, Club:Chelsea, Pos:CB\", \"Kenedy, Club:Chelsea, Pos:LB\", \"Eduardo Carvalho, Club:Chelsea, Pos:LW\", \"Antonio Rudiger, Club:Chelsea, Pos:CB\", \"Tiemoue Bakayoko, Club:Chelsea, Pos:DM\", \"Wilfried Zaha, Club:Crystal+Palace, Pos:RW\", \"Christian Benteke, Club:Crystal+Palace, Pos:CF\", \"Andros Townsend, Club:Crystal+Palace, Pos:RW\", \"Patrick van Aanholt, Club:Crystal+Palace, Pos:LB\", \"James McArthur, Club:Crystal+Palace, Pos:CM\", \"Wayne Hennessey, Club:Crystal+Palace, Pos:GK\", \"Jason Puncheon, Club:Crystal+Palace, Pos:AM\", \"Yohan Cabaye, Club:Crystal+Palace, Pos:CM\", \"Joel Ward, Club:Crystal+Palace, Pos:RB\", \"James Tomkins, Club:Crystal+Palace, Pos:CB\", \"Scott Dann, Club:Crystal+Palace, Pos:CB\", \"Damien Delaney, Club:Crystal+Palace, Pos:CB\", \"Jeffrey Schlupp, Club:Crystal+Palace, Pos:LB\", \"Martin Kelly, Club:Crystal+Palace, Pos:RB\", \"Luka Milivojevic, Club:Crystal+Palace, Pos:DM\", \"Lee Chung-yong, Club:Crystal+Palace, Pos:RW\", \"Connor Wickham, Club:Crystal+Palace, Pos:CF\", \"Bakary Sako, Club:Crystal+Palace, Pos:LW\", \"Pape Souare, Club:Crystal+Palace, Pos:LB\", \"Ruben Loftus-Cheek, Club:Crystal+Palace, Pos:CM\", \"Julian Speroni, Club:Crystal+Palace, Pos:GK\", \"Ross Barkley, Club:Everton, Pos:AM\", \"Leighton Baines, Club:Everton, Pos:LB\", \"Seamus Coleman, Club:Everton, Pos:RB\", \"Ashley Williams, Club:Everton, Pos:CB\", \"Kevin Mirallas, Club:Everton, Pos:RW\", \"Michael Keane, Club:Everton, Pos:CB\", \"Phil Jagielka, Club:Everton, Pos:CB\", \"Jordan Pickford, Club:Everton, Pos:GK\", \"Joel Robles, Club:Everton, Pos:GK\", \"Idrissa Gueye, Club:Everton, Pos:CM\", \"Wayne Rooney, Club:Everton, Pos:SS\", \"Ramiro Funes Mori, Club:Everton, Pos:CB\", \"Maarten Stekelenburg, Club:Everton, Pos:GK\", \"Gareth Barry, Club:Everton, Pos:DM\", \"Tom Davies, Club:Everton, Pos:CM\", \"Mason Holgate, Club:Everton, Pos:CB\", \"Yannick Bolasie, Club:Everton, Pos:LW\", \"Morgan Schneiderlin, Club:Everton, Pos:DM\", \"Cuco Martina, Club:Everton, Pos:RB\", \"James McCarthy, Club:Everton, Pos:CM\", \"Aaron Lennon, Club:Everton, Pos:RW\", \"Dominic Calvert-Lewin, Club:Everton, Pos:SS\", \"Ademola Lookman, Club:Everton, Pos:LW\", \"Matthew Pennington, Club:Everton, Pos:CB\", \"Jonjoe Kenny, Club:Everton, Pos:RB\", \"Muhamed Besic, Club:Everton, Pos:DM\", \"Davy Klaassen, Club:Everton, Pos:AM\", \"Sandro Ramirez, Club:Everton, Pos:CF\", \"Joel Coleman, Club:Huddersfield, Pos:GK\", \"Jonas Lossl, Club:Huddersfield, Pos:GK\", \"Christopher Schindler, Club:Huddersfield, Pos:CB\", \"Chris Lowe, Club:Huddersfield, Pos:LB\", \"Tommy Smith, Club:Huddersfield, Pos:RB\", \"Michael Hefele, Club:Huddersfield, Pos:CB\", \"Martin Cranie, Club:Huddersfield, Pos:CB\", \"Jon Gorenc Stankovic, Club:Huddersfield, Pos:CB\", \"Mark Hudson, Club:Huddersfield, Pos:CB\", \"Mathias Jorgensen, Club:Huddersfield, Pos:CB\", \"Scott Malone, Club:Huddersfield, Pos:LB\", \"Aaron Mooy, Club:Huddersfield, Pos:CM\", \"Rajiv van La Parra, Club:Huddersfield, Pos:LW\", \"Jonathan Hogg, Club:Huddersfield, Pos:CM\", \"Philip Billing, Club:Huddersfield, Pos:CM\", \"Joe Lolley, Club:Huddersfield, Pos:RW\", \"Jack Payne, Club:Huddersfield, Pos:CM\", \"Dean Whitehead, Club:Huddersfield, Pos:CM\", \"Harry Bunn, Club:Huddersfield, Pos:LW\", \"Sean Scannell, Club:Huddersfield, Pos:RW\", \"Elias Kachunga, Club:Huddersfield, Pos:RW\", \"Tom Ince, Club:Huddersfield, Pos:RW\", \"Kasey Palmer, Club:Huddersfield, Pos:AM\", \"Andy Williams, Club:Huddersfield, Pos:CB\", \"Nahki Wells, Club:Huddersfield, Pos:CF\", \"Collin Quaner, Club:Huddersfield, Pos:CF\", \"Laurent Depoitre, Club:Huddersfield, Pos:CF\", \"Steve Mounie, Club:Huddersfield, Pos:CF\", \"Jamie Vardy, Club:Leicester+City, Pos:CF\", \"Riyad Mahrez, Club:Leicester+City, Pos:RW\", \"Kasper Schmeichel, Club:Leicester+City, Pos:GK\", \"Christian Fuchs, Club:Leicester+City, Pos:LB\", \"Marc Albrighton, Club:Leicester+City, Pos:LM\", \"Robert Huth, Club:Leicester+City, Pos:CB\", \"Danny Simpson, Club:Leicester+City, Pos:RB\", \"Islam Slimani, Club:Leicester+City, Pos:CF\", \"Harry Maguire, Club:Leicester+City, Pos:CB\", \"Danny Drinkwater, Club:Leicester+City, Pos:CM\", \"Wes Morgan, Club:Leicester+City, Pos:CB\", \"Shinji Okazaki, Club:Leicester+City, Pos:CF\", \"Wilfred Ndidi, Club:Leicester+City, Pos:DM\", \"Demarai Gray, Club:Leicester+City, Pos:LW\", \"Daniel Amartey, Club:Leicester+City, Pos:DM\", \"Andy King, Club:Leicester+City, Pos:CM\", \"Ahmed Musa, Club:Leicester+City, Pos:CF\", \"Yohan Benalouane, Club:Leicester+City, Pos:CB\", \"Leonardo Ulloa, Club:Leicester+City, Pos:CF\", \"Ben Chilwell, Club:Leicester+City, Pos:LB\", \"Nampalys Mendy, Club:Leicester+City, Pos:DM\", \"Ben Hamer, Club:Leicester+City, Pos:GK\", \"Molla Wague, Club:Leicester+City, Pos:CB\", \"Vicente Iborra, Club:Leicester+City, Pos:DM\", \"Roberto Firmino, Club:Liverpool, Pos:SS\", \"Philippe Coutinho, Club:Liverpool, Pos:AM\", \"Sadio Mane, Club:Liverpool, Pos:LW\", \"Georginio Wijnaldum, Club:Liverpool, Pos:CM\", \"James Milner, Club:Liverpool, Pos:CM\", \"Adam Lallana, Club:Liverpool, Pos:AM\", \"Nathaniel Clyne, Club:Liverpool, Pos:RB\", \"Simon Mignolet, Club:Liverpool, Pos:GK\", \"Dejan Lovren, Club:Liverpool, Pos:CB\", \"Emre Can, Club:Liverpool, Pos:DM\", \"Joel Matip, Club:Liverpool, Pos:CB\", \"Divock Origi, Club:Liverpool, Pos:CF\", \"Jordan Henderson, Club:Liverpool, Pos:CM\", \"Daniel Sturridge, Club:Liverpool, Pos:CF\", \"Lucas Leiva, Club:Liverpool, Pos:DM\", \"Ragnar Klavan, Club:Liverpool, Pos:CB\", \"Mamadou Sakho, Club:Liverpool, Pos:CB\", \"Loris Karius, Club:Liverpool, Pos:GK\", \"Trent Alexander-Arnold, Club:Liverpool, Pos:RB\", \"Alberto Moreno, Club:Liverpool, Pos:LB\", \"Ben Woodburn, Club:Liverpool, Pos:LW\", \"Marko Grujic, Club:Liverpool, Pos:CM\", \"Joe Gomez, Club:Liverpool, Pos:CB\", \"Sheyi Ojo, Club:Liverpool, Pos:LW\", \"Mohamed Salah, Club:Liverpool, Pos:RW\", \"Danny Ings, Club:Liverpool, Pos:CF\", \"Dominic Solanke, Club:Liverpool, Pos:CF\", \"Kevin De Bruyne, Club:Manchester+City, Pos:AM\", \"Sergio Aguero, Club:Manchester+City, Pos:CF\", \"Raheem Sterling, Club:Manchester+City, Pos:LW\", \"Kyle Walker, Club:Manchester+City, Pos:RB\", \"David Silva, Club:Manchester+City, Pos:AM\", \"Leroy Sane, Club:Manchester+City, Pos:LW\", \"Nicolas Otamendi, Club:Manchester+City, Pos:CB\", \"Aleksandar Kolarov, Club:Manchester+City, Pos:LB\", \"Yaya Toure, Club:Manchester+City, Pos:CM\", \"Fernandinho, Club:Manchester+City, Pos:DM\", \"Claudio Bravo, Club:Manchester+City, Pos:GK\", \"Gabriel Jesus, Club:Manchester+City, Pos:CF\", \"John Stones, Club:Manchester+City, Pos:CB\", \"Vincent Kompany, Club:Manchester+City, Pos:CB\", \"Kelechi Iheanacho, Club:Manchester+City, Pos:CF\", \"Ilkay Gundogan, Club:Manchester+City, Pos:CM\", \"Fernando, Club:Manchester+City, Pos:DM\", \"Fabian Delph, Club:Manchester+City, Pos:CM\", \"Ederson Moraes, Club:Manchester+City, Pos:GK\", \"Bernardo Silva, Club:Manchester+City, Pos:RW\", \"Romelu Lukaku, Club:Manchester+United, Pos:CF\", \"David de Gea, Club:Manchester+United, Pos:GK\", \"Antonio Valencia, Club:Manchester+United, Pos:RB\", \"Paul Pogba, Club:Manchester+United, Pos:CM\", \"Eric Bailly, Club:Manchester+United, Pos:CB\", \"Juan Mata, Club:Manchester+United, Pos:AM\", \"Daley Blind, Club:Manchester+United, Pos:LB\", \"Ander Herrera, Club:Manchester+United, Pos:CM\", \"Anthony Martial, Club:Manchester+United, Pos:CF\", \"Marcos Rojo, Club:Manchester+United, Pos:CB\", \"Marcus Rashford, Club:Manchester+United, Pos:CF\", \"Henrikh Mkhitaryan, Club:Manchester+United, Pos:AM\", \"Matteo Darmian, Club:Manchester+United, Pos:RB\", \"Jesse Lingard, Club:Manchester+United, Pos:LW\", \"Phil Jones, Club:Manchester+United, Pos:CB\", \"Chris Smalling, Club:Manchester+United, Pos:CB\", \"Marouane Fellaini, Club:Manchester+United, Pos:CM\", \"Luke Shaw, Club:Manchester+United, Pos:LB\", \"Michael Carrick, Club:Manchester+United, Pos:DM\", \"Ashley Young, Club:Manchester+United, Pos:LM\", \"Sergio Romero, Club:Manchester+United, Pos:GK\", \"Axel Tuanzebe, Club:Manchester+United, Pos:CB\", \"Timothy Fosu-Mensah, Club:Manchester+United, Pos:DM\", \"Joel Castro Pereira, Club:Manchester+United, Pos:GK\", \"Victor Lindelof, Club:Manchester+United, Pos:CB\", \"Rob Elliot, Club:Newcastle+United, Pos:GK\", \"Karl Darlow, Club:Newcastle+United, Pos:GK\", \"DeAndre Yedlin, Club:Newcastle+United, Pos:RB\", \"Ciaran Clark, Club:Newcastle+United, Pos:CB\", \"Lascelles, Club:Newcastle+United, Pos:CB\", \"Paul Dummett, Club:Newcastle+United, Pos:LB\", \"Grant Hanley, Club:Newcastle+United, Pos:CB\", \"Jesus Gamez, Club:Newcastle+United, Pos:RB\", \"Florian Lejeune, Club:Newcastle+United, Pos:CB\", \"Massadio Haidara, Club:Newcastle+United, Pos:LB\", \"Matt Ritchie, Club:Newcastle+United, Pos:RM\", \"Jonjo Shelvey, Club:Newcastle+United, Pos:CM\", \"Mohamed Diame, Club:Newcastle+United, Pos:CM\", \"Jack Colback, Club:Newcastle+United, Pos:DM\", \"Christian Atsu, Club:Newcastle+United, Pos:RW\", \"Siem de Jong, Club:Newcastle+United, Pos:AM\", \"Rolando Aarons, Club:Newcastle+United, Pos:LW\", \"Dwight Gayle, Club:Newcastle+United, Pos:CF\", \"Ayoze Perez, Club:Newcastle+United, Pos:SS\", \"Aleksandar Mitrovic, Club:Newcastle+United, Pos:CF\", \"Daryl Murphy, Club:Newcastle+United, Pos:CF\", \"Fraser Forster, Club:Southampton, Pos:GK\", \"Nathan Redmond, Club:Southampton, Pos:RW\", \"Ryan Bertrand, Club:Southampton, Pos:LB\", \"Du\\u00c5\\u00a1an Tadi\\u00c4\\u2021, Club:Southampton, Pos:LW\", \"Cedric Soares, Club:Southampton, Pos:RB\", \"James Ward-Prowse, Club:Southampton, Pos:CM\", \"Oriol Romeu, Club:Southampton, Pos:DM\", \"Maya Yoshida, Club:Southampton, Pos:CB\", \"Steven Davis, Club:Southampton, Pos:CM\", \"Virgil van Dijk, Club:Southampton, Pos:CB\", \"Charlie Austin, Club:Southampton, Pos:CF\", \"Jack Stephens, Club:Southampton, Pos:CB\", \"Shane Long, Club:Southampton, Pos:CF\", \"Sofiane Boufal, Club:Southampton, Pos:AM\", \"Jordy Clasie, Club:Southampton, Pos:DM\", \"Pierre-Emile Hojbjerg, Club:Southampton, Pos:CM\", \"Manolo Gabbiadini, Club:Southampton, Pos:CF\", \"Sam McQueen, Club:Southampton, Pos:LM\", \"Matt Targett, Club:Southampton, Pos:LB\", \"Josh Sims, Club:Southampton, Pos:RW\", \"Jeremy Pied, Club:Southampton, Pos:RM\", \"Jason McCarthy, Club:Southampton, Pos:CB\", \"Jan Bednarek, Club:Southampton, Pos:CB\", \"Joe Allen, Club:Stoke+City, Pos:CM\", \"Marko Arnautovi\\u00c4\\u2021, Club:Stoke+City, Pos:LW\", \"Lee Grant, Club:Stoke+City, Pos:GK\", \"Erik Pieters, Club:Stoke+City, Pos:LB\", \"Steven Fletcher, Club:Stoke+City, Pos:CF\", \"Ryan Shawcross, Club:Stoke+City, Pos:CB\", \"Xherdan Shaqiri, Club:Stoke+City, Pos:RW\", \"Peter Crouch, Club:Stoke+City, Pos:CF\", \"Glenn Whelan, Club:Stoke+City, Pos:DM\", \"Charlie Adam, Club:Stoke+City, Pos:CM\", \"Geoff Cameron, Club:Stoke+City, Pos:CB\", \"Glen Johnson, Club:Stoke+City, Pos:RB\", \"Mame Biram Diouf, Club:Stoke+City, Pos:CF\", \"Ramadan Sobhi, Club:Stoke+City, Pos:LW\", \"Marc Muniesa, Club:Stoke+City, Pos:CB\", \"Bojan Krki\\u00c4\\u2021, Club:Stoke+City, Pos:SS\", \"Phil Bardsley, Club:Stoke+City, Pos:RB\", \"Saido Berahino, Club:Stoke+City, Pos:CF\", \"Giannelli Imbula, Club:Stoke+City, Pos:DM\", \"Jack Butland, Club:Stoke+City, Pos:GK\", \"Ibrahim Afellay, Club:Stoke+City, Pos:LM\", \"Josh Tymon, Club:Stoke+City, Pos:LB\", \"Gylfi Sigurdsson, Club:Swansea, Pos:AM\", \"Fernando Llorente, Club:Swansea, Pos:CF\", \"\\u00c5\\u0081ukasz Fabia\\u00c5\\u201eski, Club:Swansea, Pos:GK\", \"Leroy Fer, Club:Swansea, Pos:CM\", \"Alfie Mawson, Club:Swansea, Pos:CB\", \"Kyle Naughton, Club:Swansea, Pos:RB\", \"Wayne Routledge, Club:Swansea, Pos:LW\", \"Federico Fernandez, Club:Swansea, Pos:CB\", \"Martin Olsson, Club:Swansea, Pos:LB\", \"Tom Carroll, Club:Swansea, Pos:CM\", \"Ki Sung-yueng, Club:Swansea, Pos:DM\", \"Jordan Ayew, Club:Swansea, Pos:CF\", \"Modou Barrow, Club:Swansea, Pos:RW\", \"Leon Britton, Club:Swansea, Pos:CM\", \"Stephen Kingsley, Club:Swansea, Pos:LB\", \"\\u00c3\\u20acngel Rangel, Club:Swansea, Pos:RB\", \"Luciano Narsingh, Club:Swansea, Pos:RW\", \"Jay Fulton, Club:Swansea, Pos:CM\", \"Jefferson Montero, Club:Swansea, Pos:LW\", \"Mike van der Hoorn, Club:Swansea, Pos:CB\", \"Nathan Dyer, Club:Swansea, Pos:RW\", \"Oliver McBurnie, Club:Swansea, Pos:CF\", \"Kristoffer Nordfeldt, Club:Swansea, Pos:GK\", \"Roque Mesa, Club:Swansea, Pos:CM\", \"Tammy Abraham, Club:Swansea, Pos:CF\", \"Dele Alli, Club:Tottenham, Pos:CM\", \"Harry Kane, Club:Tottenham, Pos:CF\", \"Christian Eriksen, Club:Tottenham, Pos:AM\", \"Son Heung-min, Club:Tottenham, Pos:LW\", \"Hugo Lloris, Club:Tottenham, Pos:GK\", \"Jan Vertonghen, Club:Tottenham, Pos:CB\", \"Toby Alderweireld, Club:Tottenham, Pos:CB\", \"Victor Wanyama, Club:Tottenham, Pos:DM\", \"Eric Dier, Club:Tottenham, Pos:DM\", \"Ben Davies, Club:Tottenham, Pos:LB\", \"Danny Rose, Club:Tottenham, Pos:LB\", \"Mousa Dembele, Club:Tottenham, Pos:CM\", \"Vincent Janssen, Club:Tottenham, Pos:CF\", \"Kieran Trippier, Club:Tottenham, Pos:RB\", \"Moussa Sissokho, Club:Tottenham, Pos:CM\", \"Harry Winks, Club:Tottenham, Pos:CM\", \"Erik Lamela, Club:Tottenham, Pos:RW\", \"Michel Vorm, Club:Tottenham, Pos:GK\", \"Georges-Kevin N%27Koudou, Club:Tottenham, Pos:LW\", \"Kevin Wimmer, Club:Tottenham, Pos:CB\", \"\\u00c3\\u2030tienne Capoue, Club:Watford, Pos:DM\", \"Troy Deeney, Club:Watford, Pos:CF\", \"Heurelho Gomes, Club:Watford, Pos:GK\", \"Jose Holebas, Club:Watford, Pos:LB\", \"Miguel Britos, Club:Watford, Pos:CB\", \"Sebastian Prodl, Club:Watford, Pos:CB\", \"Nordin Amrabat, Club:Watford, Pos:LW\", \"Youn\\u00c3\\u00a8s Kaboul, Club:Watford, Pos:CB\", \"Tom Cleverley, Club:Watford, Pos:CM\", \"Daryl Janmaat, Club:Watford, Pos:RB\", \"Valon Behrami, Club:Watford, Pos:DM\", \"Roberto Pereyra, Club:Watford, Pos:AM\", \"Stefano Okaka, Club:Watford, Pos:CF\", \"Abdoulaye Doucoure, Club:Watford, Pos:CM\", \"Kabasele, Club:Watford, Pos:CB\", \"Craig Cathcart, Club:Watford, Pos:CB\", \"Isaac Success, Club:Watford, Pos:LW\", \"Adrian Mariappa, Club:Watford, Pos:CB\", \"Nathaniel Chalobah, Club:Watford, Pos:DM\", \"Mauro Zarate, Club:Watford, Pos:SS\", \"Costel Pantilimon, Club:Watford, Pos:GK\", \"Kiko Femenia, Club:Watford, Pos:RB\", \"Steven Berghuis, Club:Watford, Pos:RW\", \"Will Hughes, Club:Watford, Pos:CM\", \"Gareth McAuley, Club:West+Brom, Pos:CB\", \"Salomon Rondon, Club:West+Brom, Pos:CF\", \"Matt Phillips, Club:West+Brom, Pos:RW\", \"Ben Foster, Club:West+Brom, Pos:GK\", \"Nacer Chadli, Club:West+Brom, Pos:LW\", \"Craig Dawson, Club:West+Brom, Pos:RB\", \"Chris Brunt, Club:West+Brom, Pos:LM\", \"James Morrison, Club:West+Brom, Pos:CM\", \"Jonny Evans, Club:West+Brom, Pos:CB\", \"Jake Livermore, Club:West+Brom, Pos:DM\", \"Allan Nyom, Club:West+Brom, Pos:RB\", \"Jay Rodriguez, Club:West+Brom, Pos:CF\", \"Claudio Yacob, Club:West+Brom, Pos:DM\", \"James McClean, Club:West+Brom, Pos:LW\", \"Hal Robson-Kanu, Club:West+Brom, Pos:LW\", \"Jonathan Leko, Club:West+Brom, Pos:RW\", \"Sam Field, Club:West+Brom, Pos:CM\", \"Boaz Myhill, Club:West+Brom, Pos:GK\", \"Ahmed Hegazy, Club:West+Brom, Pos:CB\", \"Robert Snodgrass, Club:West+Ham, Pos:RW\", \"Manuel Lanzini, Club:West+Ham, Pos:AM\", \"Michail Antonio, Club:West+Ham, Pos:RW\", \"Winston Reid, Club:West+Ham, Pos:CB\", \"Jose Fonte, Club:West+Ham, Pos:CB\", \"Andre Ayew, Club:West+Ham, Pos:LW\", \"Cheikhou Kouyate, Club:West+Ham, Pos:DM\", \"Mark Noble, Club:West+Ham, Pos:CM\", \"Darren Randolph, Club:West+Ham, Pos:GK\", \"James Collins, Club:West+Ham, Pos:CB\", \"Andy Carroll, Club:West+Ham, Pos:CF\", \"Adrian, Club:West+Ham, Pos:GK\", \"Aaron Cresswell, Club:West+Ham, Pos:LB\", \"Pedro Obiang, Club:West+Ham, Pos:CM\", \"Sofiane Feghouli, Club:West+Ham, Pos:RW\", \"Angelo Ogbonna, Club:West+Ham, Pos:CB\", \"Pablo Zabaleta, Club:West+Ham, Pos:RB\", \"Edimilson Fernandes, Club:West+Ham, Pos:CM\", \"Arthur Masuaku, Club:West+Ham, Pos:LB\", \"Sam Byram, Club:West+Ham, Pos:RB\", \"Ashley Fletcher, Club:West+Ham, Pos:CF\", \"Diafra Sakho, Club:West+Ham, Pos:CF\"], \"type\": \"scatter\", \"uid\": \"0d217c\", \"x\": [12.0, 9.5, 5.5, 7.5, 6.0, 6.0, 8.5, 5.5, 5.5, 5.5, 5.5, 6.0, 5.5, 7.0, 4.5, 5.0, 5.0, 7.0, 7.5, 5.0, 4.5, 7.5, 4.0, 5.0, 4.5, 5.0, 6.0, 10.5, 7.5, 8.0, 5.0, 4.5, 5.0, 6.0, 5.0, 5.5, 4.5, 6.0, 5.0, 5.0, 6.0, 5.0, 5.0, 4.5, 5.0, 4.5, 5.0, 4.0, 5.0, 4.5, 4.0, 4.5, 4.0, 4.5, 4.5, 4.5, 4.0, 4.5, 4.5, 4.0, 4.0, 4.5, 6.0, 4.5, 4.5, 4.5, 5.0, 5.0, 4.5, 5.0, 5.5, 6.0, 5.0, 5.0, 5.0, 6.0, 6.5, 4.5, 4.5, 4.5, 5.5, 5.5, 5.0, 5.5, 4.5, 4.5, 5.0, 5.5, 4.5, 4.5, 4.0, 4.5, 10.5, 10.0, 6.5, 7.0, 6.5, 8.0, 5.5, 6.0, 7.0, 7.0, 6.5, 5.0, 5.0, 5.0, 8.5, 5.5, 5.0, 5.0, 6.0, 5.0, 7.0, 8.0, 6.0, 5.5, 4.5, 4.5, 5.0, 5.5, 5.0, 4.5, 5.0, 4.5, 5.0, 4.5, 5.0, 4.5, 5.5, 5.0, 4.5, 4.5, 4.0, 7.5, 6.0, 6.5, 5.5, 6.5, 5.5, 5.0, 5.0, 4.5, 5.0, 7.5, 5.0, 4.5, 4.5, 5.5, 4.5, 6.5, 5.0, 4.5, 5.0, 5.5, 5.0, 5.5, 4.0, 4.5, 4.5, 7.5, 7.5, 4.0, 4.5, 4.5, 4.5, 5.0, 4.5, 4.0, 4.0, 4.0, 4.5, 4.5, 5.5, 5.0, 4.5, 4.5, 4.5, 4.5, 4.5, 4.5, 4.5, 6.0, 6.0, 5.5, 5.0, 5.0, 4.5, 5.5, 6.0, 8.5, 8.5, 5.0, 5.0, 5.5, 5.0, 4.5, 7.0, 5.0, 5.0, 4.5, 5.5, 5.0, 5.5, 4.5, 4.5, 6.5, 4.5, 5.0, 4.5, 4.5, 4.5, 4.5, 6.0, 8.5, 9.0, 9.5, 7.0, 6.5, 7.5, 5.5, 5.0, 5.5, 5.0, 5.5, 7.5, 5.5, 8.0, 4.5, 4.5, 5.0, 5.0, 4.5, 4.5, 4.5, 4.5, 4.5, 5.0, 9.0, 5.5, 5.0, 10.0, 11.5, 8.0, 6.5, 8.0, 8.5, 5.5, 5.5, 6.5, 5.0, 5.0, 10.5, 5.5, 6.0, 7.0, 5.5, 4.5, 4.5, 5.5, 8.0, 11.5, 5.5, 6.5, 8.0, 6.0, 7.0, 5.5, 5.5, 8.0, 5.5, 7.5, 8.0, 5.5, 6.0, 5.0, 5.5, 5.0, 5.0, 4.5, 5.0, 5.0, 4.0, 4.5, 4.0, 5.5, 4.0, 4.5, 4.5, 4.5, 4.5, 4.5, 4.0, 4.0, 4.5, 4.0, 6.0, 5.5, 5.0, 4.5, 5.0, 5.0, 4.5, 6.5, 5.5, 5.0, 4.5, 5.0, 6.5, 5.5, 6.5, 5.0, 5.5, 4.5, 5.0, 5.0, 5.5, 6.5, 5.0, 6.0, 6.0, 4.5, 4.5, 7.0, 4.5, 4.5, 4.5, 4.5, 4.5, 4.5, 5.5, 7.0, 4.5, 5.0, 5.0, 5.0, 6.0, 5.0, 4.5, 5.0, 4.5, 4.5, 5.5, 5.0, 4.5, 5.5, 4.5, 6.0, 4.5, 5.0, 5.0, 4.5, 8.5, 7.5, 4.5, 5.5, 5.0, 4.5, 5.5, 4.5, 5.0, 4.5, 5.0, 5.0, 5.0, 4.5, 4.5, 4.0, 5.0, 4.5, 5.0, 4.5, 4.5, 4.5, 4.0, 4.5, 5.5, 9.5, 12.5, 9.5, 8.0, 5.5, 6.0, 6.0, 5.0, 5.0, 5.5, 6.5, 5.0, 7.5, 5.5, 5.5, 5.0, 6.5, 5.0, 5.5, 4.5, 5.5, 6.5, 4.5, 5.0, 4.5, 4.5, 5.0, 4.5, 5.0, 5.0, 4.5, 6.0, 5.5, 5.0, 4.5, 4.5, 5.5, 4.0, 4.5, 5.5, 4.5, 4.5, 5.0, 5.0, 5.0, 6.5, 6.0, 4.5, 6.0, 5.0, 5.5, 5.5, 5.0, 5.0, 5.0, 6.0, 4.5, 5.0, 5.0, 4.5, 4.5, 4.0, 4.5, 6.0, 7.0, 7.5, 5.0, 5.0, 7.0, 5.0, 5.5, 4.5, 4.5, 6.0, 4.5, 5.0, 4.5, 5.5, 4.5, 5.0, 4.5, 4.5, 4.5, 4.5, 5.5], \"xsrc\": \"Aldemuro:22:d61533\", \"y\": [264, 167, 134, 122, 121, 119, 116, 115, 90, 89, 85, 83, 61, 56, 52, 45, 45, 38, 37, 32, 26, 20, 8, 2, 2, 1, 0, 0, 178, 166, 134, 120, 112, 107, 104, 100, 89, 88, 84, 64, 63, 55, 49, 44, 36, 17, 14, 8, 8, 4, 4, 2, 0, 0, 0, 0, 0, 0, 0, 0, 0, 0, 0, 0, 0, 0, 0, 0, 0, 0, 0, 0, 0, 0, 149, 121, 108, 94, 91, 90, 81, 76, 69, 54, 51, 50, 47, 39, 23, 13, 3, 0, 224, 196, 178, 177, 170, 162, 141, 132, 121, 114, 105, 105, 83, 64, 48, 15, 3, 0, 0, 0, 149, 136, 116, 98, 93, 92, 92, 91, 86, 75, 61, 51, 47, 46, 42, 24, 18, 7, 6, 6, 0, 144, 135, 133, 127, 119, 113, 104, 102, 89, 80, 76, 69, 68, 68, 63, 54, 45, 37, 31, 23, 22, 17, 16, 9, 1, 0, 0, 0, 0, 0, 0, 0, 0, 0, 0, 0, 0, 0, 0, 0, 0, 0, 0, 0, 0, 0, 0, 0, 0, 0, 0, 0, 0, 0, 0, 0, 161, 120, 109, 104, 95, 88, 85, 83, 71, 69, 63, 63, 59, 58, 53, 41, 39, 27, 24, 19, 6, 0, 0, 0, 180, 171, 156, 149, 139, 139, 129, 110, 106, 104, 97, 96, 73, 54, 47, 43, 35, 32, 15, 8, 5, 4, 0, 0, 0, 0, 0, 199, 175, 149, 142, 130, 105, 100, 95, 86, 78, 73, 67, 59, 57, 52, 41, 18, 13, 0, 0, 221, 136, 120, 115, 105, 102, 98, 97, 95, 77, 76, 73, 70, 60, 55, 52, 48, 45, 42, 26, 23, 14, 9, 6, 0, 0, 0, 0, 0, 0, 0, 0, 0, 0, 0, 0, 0, 0, 0, 0, 0, 0, 0, 0, 0, 0, 134, 126, 123, 108, 102, 92, 80, 78, 77, 75, 62, 60, 57, 40, 38, 38, 38, 23, 12, 12, 5, 0, 0, 118, 117, 106, 103, 103, 94, 80, 79, 62, 59, 58, 56, 51, 36, 34, 30, 27, 26, 24, 20, 15, 9, 181, 146, 116, 95, 94, 82, 74, 63, 52, 52, 41, 39, 34, 32, 29, 26, 25, 19, 18, 16, 12, 5, 3, 0, 0, 225, 224, 218, 174, 143, 126, 120, 103, 93, 90, 84, 76, 55, 51, 43, 30, 28, 17, 8, 2, 131, 130, 113, 87, 71, 67, 65, 57, 55, 50, 48, 43, 43, 38, 35, 31, 28, 15, 12, 8, 2, 0, 0, 0, 131, 118, 115, 113, 110, 102, 99, 84, 79, 77, 74, 73, 54, 52, 52, 12, 9, 0, 0, 133, 133, 132, 102, 98, 89, 79, 71, 69, 69, 69, 64, 60, 55, 55, 45, 45, 38, 34, 29, 16, 12], \"ysrc\": \"Aldemuro:22:1c3243\"}],                        {\"autosize\": true, \"hovermode\": \"closest\", \"template\": {\"data\": {\"bar\": [{\"error_x\": {\"color\": \"#2a3f5f\"}, \"error_y\": {\"color\": \"#2a3f5f\"}, \"marker\": {\"line\": {\"color\": \"#E5ECF6\", \"width\": 0.5}}, \"type\": \"bar\"}], \"barpolar\": [{\"marker\": {\"line\": {\"color\": \"#E5ECF6\", \"width\": 0.5}}, \"type\": \"barpolar\"}], \"carpet\": [{\"aaxis\": {\"endlinecolor\": \"#2a3f5f\", \"gridcolor\": \"white\", \"linecolor\": \"white\", \"minorgridcolor\": \"white\", \"startlinecolor\": \"#2a3f5f\"}, \"baxis\": {\"endlinecolor\": \"#2a3f5f\", \"gridcolor\": \"white\", \"linecolor\": \"white\", \"minorgridcolor\": \"white\", \"startlinecolor\": \"#2a3f5f\"}, \"type\": \"carpet\"}], \"choropleth\": [{\"colorbar\": {\"outlinewidth\": 0, \"ticks\": \"\"}, \"type\": \"choropleth\"}], \"contour\": [{\"colorbar\": {\"outlinewidth\": 0, \"ticks\": \"\"}, \"colorscale\": [[0.0, \"#0d0887\"], [0.1111111111111111, \"#46039f\"], [0.2222222222222222, \"#7201a8\"], [0.3333333333333333, \"#9c179e\"], [0.4444444444444444, \"#bd3786\"], [0.5555555555555556, \"#d8576b\"], [0.6666666666666666, \"#ed7953\"], [0.7777777777777778, \"#fb9f3a\"], [0.8888888888888888, \"#fdca26\"], [1.0, \"#f0f921\"]], \"type\": \"contour\"}], \"contourcarpet\": [{\"colorbar\": {\"outlinewidth\": 0, \"ticks\": \"\"}, \"type\": \"contourcarpet\"}], \"heatmap\": [{\"colorbar\": {\"outlinewidth\": 0, \"ticks\": \"\"}, \"colorscale\": [[0.0, \"#0d0887\"], [0.1111111111111111, \"#46039f\"], [0.2222222222222222, \"#7201a8\"], [0.3333333333333333, \"#9c179e\"], [0.4444444444444444, \"#bd3786\"], [0.5555555555555556, \"#d8576b\"], [0.6666666666666666, \"#ed7953\"], [0.7777777777777778, \"#fb9f3a\"], [0.8888888888888888, \"#fdca26\"], [1.0, \"#f0f921\"]], \"type\": \"heatmap\"}], \"heatmapgl\": [{\"colorbar\": {\"outlinewidth\": 0, \"ticks\": \"\"}, \"colorscale\": [[0.0, \"#0d0887\"], [0.1111111111111111, \"#46039f\"], [0.2222222222222222, \"#7201a8\"], [0.3333333333333333, \"#9c179e\"], [0.4444444444444444, \"#bd3786\"], [0.5555555555555556, \"#d8576b\"], [0.6666666666666666, \"#ed7953\"], [0.7777777777777778, \"#fb9f3a\"], [0.8888888888888888, \"#fdca26\"], [1.0, \"#f0f921\"]], \"type\": \"heatmapgl\"}], \"histogram\": [{\"marker\": {\"colorbar\": {\"outlinewidth\": 0, \"ticks\": \"\"}}, \"type\": \"histogram\"}], \"histogram2d\": [{\"colorbar\": {\"outlinewidth\": 0, \"ticks\": \"\"}, \"colorscale\": [[0.0, \"#0d0887\"], [0.1111111111111111, \"#46039f\"], [0.2222222222222222, \"#7201a8\"], [0.3333333333333333, \"#9c179e\"], [0.4444444444444444, \"#bd3786\"], [0.5555555555555556, \"#d8576b\"], [0.6666666666666666, \"#ed7953\"], [0.7777777777777778, \"#fb9f3a\"], [0.8888888888888888, \"#fdca26\"], [1.0, \"#f0f921\"]], \"type\": \"histogram2d\"}], \"histogram2dcontour\": [{\"colorbar\": {\"outlinewidth\": 0, \"ticks\": \"\"}, \"colorscale\": [[0.0, \"#0d0887\"], [0.1111111111111111, \"#46039f\"], [0.2222222222222222, \"#7201a8\"], [0.3333333333333333, \"#9c179e\"], [0.4444444444444444, \"#bd3786\"], [0.5555555555555556, \"#d8576b\"], [0.6666666666666666, \"#ed7953\"], [0.7777777777777778, \"#fb9f3a\"], [0.8888888888888888, \"#fdca26\"], [1.0, \"#f0f921\"]], \"type\": \"histogram2dcontour\"}], \"mesh3d\": [{\"colorbar\": {\"outlinewidth\": 0, \"ticks\": \"\"}, \"type\": \"mesh3d\"}], \"parcoords\": [{\"line\": {\"colorbar\": {\"outlinewidth\": 0, \"ticks\": \"\"}}, \"type\": \"parcoords\"}], \"pie\": [{\"automargin\": true, \"type\": \"pie\"}], \"scatter\": [{\"marker\": {\"colorbar\": {\"outlinewidth\": 0, \"ticks\": \"\"}}, \"type\": \"scatter\"}], \"scatter3d\": [{\"line\": {\"colorbar\": {\"outlinewidth\": 0, \"ticks\": \"\"}}, \"marker\": {\"colorbar\": {\"outlinewidth\": 0, \"ticks\": \"\"}}, \"type\": \"scatter3d\"}], \"scattercarpet\": [{\"marker\": {\"colorbar\": {\"outlinewidth\": 0, \"ticks\": \"\"}}, \"type\": \"scattercarpet\"}], \"scattergeo\": [{\"marker\": {\"colorbar\": {\"outlinewidth\": 0, \"ticks\": \"\"}}, \"type\": \"scattergeo\"}], \"scattergl\": [{\"marker\": {\"colorbar\": {\"outlinewidth\": 0, \"ticks\": \"\"}}, \"type\": \"scattergl\"}], \"scattermapbox\": [{\"marker\": {\"colorbar\": {\"outlinewidth\": 0, \"ticks\": \"\"}}, \"type\": \"scattermapbox\"}], \"scatterpolar\": [{\"marker\": {\"colorbar\": {\"outlinewidth\": 0, \"ticks\": \"\"}}, \"type\": \"scatterpolar\"}], \"scatterpolargl\": [{\"marker\": {\"colorbar\": {\"outlinewidth\": 0, \"ticks\": \"\"}}, \"type\": \"scatterpolargl\"}], \"scatterternary\": [{\"marker\": {\"colorbar\": {\"outlinewidth\": 0, \"ticks\": \"\"}}, \"type\": \"scatterternary\"}], \"surface\": [{\"colorbar\": {\"outlinewidth\": 0, \"ticks\": \"\"}, \"colorscale\": [[0.0, \"#0d0887\"], [0.1111111111111111, \"#46039f\"], [0.2222222222222222, \"#7201a8\"], [0.3333333333333333, \"#9c179e\"], [0.4444444444444444, \"#bd3786\"], [0.5555555555555556, \"#d8576b\"], [0.6666666666666666, \"#ed7953\"], [0.7777777777777778, \"#fb9f3a\"], [0.8888888888888888, \"#fdca26\"], [1.0, \"#f0f921\"]], \"type\": \"surface\"}], \"table\": [{\"cells\": {\"fill\": {\"color\": \"#EBF0F8\"}, \"line\": {\"color\": \"white\"}}, \"header\": {\"fill\": {\"color\": \"#C8D4E3\"}, \"line\": {\"color\": \"white\"}}, \"type\": \"table\"}]}, \"layout\": {\"annotationdefaults\": {\"arrowcolor\": \"#2a3f5f\", \"arrowhead\": 0, \"arrowwidth\": 1}, \"coloraxis\": {\"colorbar\": {\"outlinewidth\": 0, \"ticks\": \"\"}}, \"colorscale\": {\"diverging\": [[0, \"#8e0152\"], [0.1, \"#c51b7d\"], [0.2, \"#de77ae\"], [0.3, \"#f1b6da\"], [0.4, \"#fde0ef\"], [0.5, \"#f7f7f7\"], [0.6, \"#e6f5d0\"], [0.7, \"#b8e186\"], [0.8, \"#7fbc41\"], [0.9, \"#4d9221\"], [1, \"#276419\"]], \"sequential\": [[0.0, \"#0d0887\"], [0.1111111111111111, \"#46039f\"], [0.2222222222222222, \"#7201a8\"], [0.3333333333333333, \"#9c179e\"], [0.4444444444444444, \"#bd3786\"], [0.5555555555555556, \"#d8576b\"], [0.6666666666666666, \"#ed7953\"], [0.7777777777777778, \"#fb9f3a\"], [0.8888888888888888, \"#fdca26\"], [1.0, \"#f0f921\"]], \"sequentialminus\": [[0.0, \"#0d0887\"], [0.1111111111111111, \"#46039f\"], [0.2222222222222222, \"#7201a8\"], [0.3333333333333333, \"#9c179e\"], [0.4444444444444444, \"#bd3786\"], [0.5555555555555556, \"#d8576b\"], [0.6666666666666666, \"#ed7953\"], [0.7777777777777778, \"#fb9f3a\"], [0.8888888888888888, \"#fdca26\"], [1.0, \"#f0f921\"]]}, \"colorway\": [\"#636efa\", \"#EF553B\", \"#00cc96\", \"#ab63fa\", \"#FFA15A\", \"#19d3f3\", \"#FF6692\", \"#B6E880\", \"#FF97FF\", \"#FECB52\"], \"font\": {\"color\": \"#2a3f5f\"}, \"geo\": {\"bgcolor\": \"white\", \"lakecolor\": \"white\", \"landcolor\": \"#E5ECF6\", \"showlakes\": true, \"showland\": true, \"subunitcolor\": \"white\"}, \"hoverlabel\": {\"align\": \"left\"}, \"hovermode\": \"closest\", \"mapbox\": {\"style\": \"light\"}, \"paper_bgcolor\": \"white\", \"plot_bgcolor\": \"#E5ECF6\", \"polar\": {\"angularaxis\": {\"gridcolor\": \"white\", \"linecolor\": \"white\", \"ticks\": \"\"}, \"bgcolor\": \"#E5ECF6\", \"radialaxis\": {\"gridcolor\": \"white\", \"linecolor\": \"white\", \"ticks\": \"\"}}, \"scene\": {\"xaxis\": {\"backgroundcolor\": \"#E5ECF6\", \"gridcolor\": \"white\", \"gridwidth\": 2, \"linecolor\": \"white\", \"showbackground\": true, \"ticks\": \"\", \"zerolinecolor\": \"white\"}, \"yaxis\": {\"backgroundcolor\": \"#E5ECF6\", \"gridcolor\": \"white\", \"gridwidth\": 2, \"linecolor\": \"white\", \"showbackground\": true, \"ticks\": \"\", \"zerolinecolor\": \"white\"}, \"zaxis\": {\"backgroundcolor\": \"#E5ECF6\", \"gridcolor\": \"white\", \"gridwidth\": 2, \"linecolor\": \"white\", \"showbackground\": true, \"ticks\": \"\", \"zerolinecolor\": \"white\"}}, \"shapedefaults\": {\"line\": {\"color\": \"#2a3f5f\"}}, \"ternary\": {\"aaxis\": {\"gridcolor\": \"white\", \"linecolor\": \"white\", \"ticks\": \"\"}, \"baxis\": {\"gridcolor\": \"white\", \"linecolor\": \"white\", \"ticks\": \"\"}, \"bgcolor\": \"#E5ECF6\", \"caxis\": {\"gridcolor\": \"white\", \"linecolor\": \"white\", \"ticks\": \"\"}}, \"title\": {\"x\": 0.05}, \"xaxis\": {\"automargin\": true, \"gridcolor\": \"white\", \"linecolor\": \"white\", \"ticks\": \"\", \"title\": {\"standoff\": 15}, \"zerolinecolor\": \"white\", \"zerolinewidth\": 2}, \"yaxis\": {\"automargin\": true, \"gridcolor\": \"white\", \"linecolor\": \"white\", \"ticks\": \"\", \"title\": {\"standoff\": 15}, \"zerolinecolor\": \"white\", \"zerolinewidth\": 2}}}, \"title\": {\"text\": \"Relation between FPL points and FPL value from every players\"}, \"xaxis\": {\"autorange\": true, \"range\": [3.48535752785, 13.0146424722], \"title\": {\"text\": \"fpl value\"}, \"type\": \"linear\"}, \"yaxis\": {\"autorange\": true, \"range\": [-17.5245518316, 281.524551832], \"title\": {\"text\": \"fpl points\"}, \"type\": \"linear\"}},                        {\"responsive\": true}                    ).then(function(){\n",
       "                            \n",
       "var gd = document.getElementById('74035dfc-c10e-4ca8-a533-225315cb8707');\n",
       "var x = new MutationObserver(function (mutations, observer) {{\n",
       "        var display = window.getComputedStyle(gd).display;\n",
       "        if (!display || display === 'none') {{\n",
       "            console.log([gd, 'removed!']);\n",
       "            Plotly.purge(gd);\n",
       "            observer.disconnect();\n",
       "        }}\n",
       "}});\n",
       "\n",
       "// Listen for the removal of the full notebook cells\n",
       "var notebookContainer = gd.closest('#notebook-container');\n",
       "if (notebookContainer) {{\n",
       "    x.observe(notebookContainer, {childList: true});\n",
       "}}\n",
       "\n",
       "// Listen for the clearing of the current output cell\n",
       "var outputEl = gd.closest('.output');\n",
       "if (outputEl) {{\n",
       "    x.observe(outputEl, {childList: true});\n",
       "}}\n",
       "\n",
       "                        })                };                });            </script>        </div>"
      ]
     },
     "metadata": {},
     "output_type": "display_data"
    }
   ],
   "source": [
    "import pandas as pd\n",
    "import numpy as np\n",
    "import matplotlib.pyplot as plt\n",
    "import collections\n",
    "\n",
    "pd.options.display.max_columns = 999\n",
    "\n",
    "import plotly.offline as py\n",
    "py.init_notebook_mode(connected=True)\n",
    "import plotly.graph_objs as go\n",
    "import plotly.tools as tls\n",
    "\n",
    "import warnings\n",
    "warnings.filterwarnings('ignore')\n",
    "\n",
    "\n",
    "\n",
    "\n",
    "\n",
    "trace1 = {\n",
    "  \"x\": df['fpl_value'],\n",
    "  \"y\": df['fpl_points'],\n",
    "  \"marker\": {\n",
    "    \"color\": 'red',\n",
    "    \"colorsrc\": \"Aldemuro:22:1a1899\",\n",
    "    \"size\": df['fpl_ratio']\n",
    "  }, \n",
    "  \"mode\": \"markers\", \n",
    "  \"name\": \"fpl_points\", \n",
    "  \"text\": df['name']+\", Club:\"+df['club']+\", Pos:\"+df['position'],\n",
    "  #\"textsrc\": \"Aldemuro:22:5dc54a\", \n",
    "  \"type\": \"scatter\", \n",
    "  \"uid\": \"0d217c\", \n",
    "  \"xsrc\": \"Aldemuro:22:d61533\", \n",
    "  \"ysrc\": \"Aldemuro:22:1c3243\",\n",
    "  \n",
    "}\n",
    "data = [trace1]\n",
    "#data = [trace]\n",
    "layout = {\n",
    "  \"autosize\": True, \n",
    "  \"hovermode\": \"closest\",\n",
    "  \"title\": \"Relation between FPL points and FPL value from every players\",\n",
    "  \"xaxis\": {\n",
    "    \"autorange\": True, \n",
    "    \"range\": [3.48535752785, 13.0146424722], \n",
    "    \"title\": \"fpl value\", \n",
    "    \"type\": \"linear\"\n",
    "  }, \n",
    "  \"yaxis\": {\n",
    "    \"autorange\": True, \n",
    "    \"range\": [-17.5245518316, 281.524551832], \n",
    "    \"title\": \"fpl points\", \n",
    "    \"type\": \"linear\"\n",
    "  }\n",
    "}\n",
    "# Plot and embed in ipython notebook!\n",
    "fig = go.Figure(data=data, layout=layout)\n",
    "py.iplot(fig, filename='basic-scatter')"
   ]
  },
  {
   "cell_type": "markdown",
   "metadata": {
    "_cell_guid": "2932ec95-9e0a-42df-8379-07307f6f4129",
    "_uuid": "f603f8edaa9f38792791f2f5ff35c4fb2fd1d1b9"
   },
   "source": [
    "Scatterplot above are useful for interpreting trends between FPL value and FPL points. Each point in a scatterplot has two coordinates; the first corresponds is the FPL value (that’s the X coordinate; the amount that you go left or right). The second coordinate corresponds is FPL points (that’s the Y-coordinate; the amount that you go up or down). The point representing that observation is placed at the intersection of the two coordinates.\n",
    "The data show an uphill pattern as you move from left to right, this indicates a positive relationship between X and Y. As the X-values increase (move right), the Y-values tend to increase (move up). The more expensive the player(High FPL value) tend to produce more FPL point. but as the FPL player, we tend to make a statergy to choose the cheapest player possible who can produce the highest FPL points. That is why I create one more variable which is FPl ratio. FPL ratio is the raton between FPL points and FPL value. I used FPL ratio to determoned the size of the point. so the bigger the point, the more likely player you should put in your fantasy team."
   ]
  },
  {
   "cell_type": "code",
   "execution_count": 38,
   "metadata": {
    "_cell_guid": "785d3fa1-9ee5-4eec-a176-f450f86de9e8",
    "_uuid": "2b135971cfdd75176ea36b2ea05a530a5b009a54"
   },
   "outputs": [
    {
     "data": {
      "application/vnd.plotly.v1+json": {
       "config": {
        "linkText": "Export to plot.ly",
        "plotlyServerURL": "https://plot.ly",
        "showLink": false
       },
       "data": [
        {
         "marker": {
          "color": "red",
          "colorsrc": "Aldemuro:22:1a1899"
         },
         "mode": "markers",
         "name": "fpl_points",
         "text": [
          "Alexis Sanchez, Club:Arsenal, Pos:LW",
          "Mesut Ozil, Club:Arsenal, Pos:AM",
          "Petr Cech, Club:Arsenal, Pos:GK",
          "Theo Walcott, Club:Arsenal, Pos:RW",
          "Laurent Koscielny, Club:Arsenal, Pos:CB",
          "Hector Bellerin, Club:Arsenal, Pos:RB",
          "Olivier Giroud, Club:Arsenal, Pos:CF",
          "Nacho Monreal, Club:Arsenal, Pos:LB",
          "Shkodran Mustafi, Club:Arsenal, Pos:CB",
          "Alex Iwobi, Club:Arsenal, Pos:LW",
          "Granit Xhaka, Club:Arsenal, Pos:DM",
          "Alex Oxlade-Chamberlain, Club:Arsenal, Pos:RM",
          "Jack Wilshere, Club:Arsenal, Pos:CM",
          "Aaron Ramsey, Club:Arsenal, Pos:CM",
          "Francis Coquelin, Club:Arsenal, Pos:DM",
          "Gabriel Paulista, Club:Arsenal, Pos:CB",
          "Kieran Gibbs, Club:Arsenal, Pos:LB",
          "Santi Cazorla, Club:Arsenal, Pos:CM",
          "Danny Welbeck, Club:Arsenal, Pos:CF",
          "Rob Holding, Club:Arsenal, Pos:CB",
          "Mohamed Elneny, Club:Arsenal, Pos:DM",
          "Lucas Perez, Club:Arsenal, Pos:CF",
          "Emiliano Martinez, Club:Arsenal, Pos:GK",
          "David Ospina, Club:Arsenal, Pos:GK",
          "Carl Jenkinson, Club:Arsenal, Pos:RB",
          "Per Mertesacker, Club:Arsenal, Pos:CB",
          "Sead Kolasinac, Club:Arsenal, Pos:LB",
          "Alexandre Lacazette, Club:Arsenal, Pos:CF",
          "Joshua King, Club:Bournemouth, Pos:SS",
          "Jermain Defoe, Club:Bournemouth, Pos:CF",
          "Charlie Daniels, Club:Bournemouth, Pos:LB",
          "Artur Boruc, Club:Bournemouth, Pos:GK",
          "Steve Cook, Club:Bournemouth, Pos:CB",
          "Junior Stanislas, Club:Bournemouth, Pos:LW",
          "Adam Smith, Club:Bournemouth, Pos:RB",
          "Ryan Fraser, Club:Bournemouth, Pos:LW",
          "Simon Francis, Club:Bournemouth, Pos:RB",
          "Benik Afobe, Club:Bournemouth, Pos:CF",
          "Harry Arter, Club:Bournemouth, Pos:CM",
          "Marc Pugh, Club:Bournemouth, Pos:LW",
          "Callum Wilson, Club:Bournemouth, Pos:CF",
          "Nathan Ake, Club:Bournemouth, Pos:CB",
          "Dan Gosling, Club:Bournemouth, Pos:CM",
          "Andrew Surman, Club:Bournemouth, Pos:CM",
          "Jordon Ibe, Club:Bournemouth, Pos:RW",
          "Lewis Cook, Club:Bournemouth, Pos:CM",
          "Lys Mousset, Club:Bournemouth, Pos:CF",
          "Adam Federici, Club:Bournemouth, Pos:GK",
          "Max Gradel, Club:Bournemouth, Pos:LW",
          "Tyrone Mings, Club:Bournemouth, Pos:CB",
          "Brad Smith, Club:Bournemouth, Pos:LB",
          "Asmir Begovic, Club:Bournemouth, Pos:GK",
          "Niki Maenpaa, Club:Brighton+and+Hove, Pos:GK",
          "Mathew Ryan, Club:Brighton+and+Hove, Pos:GK",
          "Lewis Dunk, Club:Brighton+and+Hove, Pos:CB",
          "Shane Duffy, Club:Brighton+and+Hove, Pos:CB",
          "Uwe Hunemeier, Club:Brighton+and+Hove, Pos:CB",
          "Bruno, Club:Brighton+and+Hove, Pos:RB",
          "Gaetan Bong, Club:Brighton+and+Hove, Pos:LB",
          "Liam Rosenior, Club:Brighton+and+Hove, Pos:RB",
          "Connor Goldson, Club:Brighton+and+Hove, Pos:CB",
          "Markus Suttner, Club:Brighton+and+Hove, Pos:LB",
          "Anthony Knockaert, Club:Brighton+and+Hove, Pos:RW",
          "Dale Stephens, Club:Brighton+and+Hove, Pos:CM",
          "Beram Kayal, Club:Brighton+and+Hove, Pos:CM",
          "Steve Sidwell, Club:Brighton+and+Hove, Pos:CM",
          "Solly March, Club:Brighton+and+Hove, Pos:RM",
          "Jiri Skalak, Club:Brighton+and+Hove, Pos:LW",
          "Oliver Norwood, Club:Brighton+and+Hove, Pos:CM",
          "Jamie Murphy, Club:Brighton+and+Hove, Pos:LW",
          "Pascal Gross, Club:Brighton+and+Hove, Pos:CM",
          "Glenn Murray, Club:Brighton+and+Hove, Pos:CF",
          "Tomer Hemed, Club:Brighton+and+Hove, Pos:CF",
          "Sam Baldock, Club:Brighton+and+Hove, Pos:CF",
          "Tom Heaton, Club:Burnley, Pos:GK",
          "Sam Vokes, Club:Burnley, Pos:CF",
          "Andre Gray, Club:Burnley, Pos:CF",
          "Ben Mee, Club:Burnley, Pos:CB",
          "Stephen Ward, Club:Burnley, Pos:LB",
          "Matthew Lowton, Club:Burnley, Pos:RB",
          "Ashley Barnes, Club:Burnley, Pos:CF",
          "Jeff Hendrick, Club:Burnley, Pos:CM",
          "Scott Arfield, Club:Burnley, Pos:LM",
          "Steven Defour, Club:Burnley, Pos:CM",
          "Dean Marney, Club:Burnley, Pos:CM",
          "Jack Cork, Club:Burnley, Pos:DM",
          "Johann Berg Gudmundsson, Club:Burnley, Pos:RW",
          "Robbie Brady, Club:Burnley, Pos:LM",
          "James Tarkowski, Club:Burnley, Pos:CB",
          "Ashley Westwood, Club:Burnley, Pos:DM",
          "Kevin Long, Club:Burnley, Pos:CB",
          "Matthew Taylor, Club:Burnley, Pos:LM",
          "Eden Hazard, Club:Chelsea, Pos:LW",
          "Diego Costa, Club:Chelsea, Pos:CF",
          "Gary Cahill, Club:Chelsea, Pos:CB",
          "Marcos Alonso Mendoza, Club:Chelsea, Pos:LB",
          "Cesar Azpilicueta, Club:Chelsea, Pos:RB",
          "Pedro, Club:Chelsea, Pos:RW",
          "Thibaut Courtois, Club:Chelsea, Pos:GK",
          "David Luiz, Club:Chelsea, Pos:CB",
          "Cesc Fabregas, Club:Chelsea, Pos:CM",
          "Willian, Club:Chelsea, Pos:RW",
          "Victor Moses, Club:Chelsea, Pos:RM",
          "Nemanja Matic, Club:Chelsea, Pos:DM",
          "N%27Golo Kante, Club:Chelsea, Pos:DM",
          "Willy Caballero, Club:Chelsea, Pos:GK",
          "Michy Batshuayi, Club:Chelsea, Pos:CF",
          "Kurt Zouma, Club:Chelsea, Pos:CB",
          "Kenedy, Club:Chelsea, Pos:LB",
          "Eduardo Carvalho, Club:Chelsea, Pos:LW",
          "Antonio Rudiger, Club:Chelsea, Pos:CB",
          "Tiemoue Bakayoko, Club:Chelsea, Pos:DM",
          "Wilfried Zaha, Club:Crystal+Palace, Pos:RW",
          "Christian Benteke, Club:Crystal+Palace, Pos:CF",
          "Andros Townsend, Club:Crystal+Palace, Pos:RW",
          "Patrick van Aanholt, Club:Crystal+Palace, Pos:LB",
          "James McArthur, Club:Crystal+Palace, Pos:CM",
          "Wayne Hennessey, Club:Crystal+Palace, Pos:GK",
          "Jason Puncheon, Club:Crystal+Palace, Pos:AM",
          "Yohan Cabaye, Club:Crystal+Palace, Pos:CM",
          "Joel Ward, Club:Crystal+Palace, Pos:RB",
          "James Tomkins, Club:Crystal+Palace, Pos:CB",
          "Scott Dann, Club:Crystal+Palace, Pos:CB",
          "Damien Delaney, Club:Crystal+Palace, Pos:CB",
          "Jeffrey Schlupp, Club:Crystal+Palace, Pos:LB",
          "Martin Kelly, Club:Crystal+Palace, Pos:RB",
          "Luka Milivojevic, Club:Crystal+Palace, Pos:DM",
          "Lee Chung-yong, Club:Crystal+Palace, Pos:RW",
          "Connor Wickham, Club:Crystal+Palace, Pos:CF",
          "Bakary Sako, Club:Crystal+Palace, Pos:LW",
          "Pape Souare, Club:Crystal+Palace, Pos:LB",
          "Ruben Loftus-Cheek, Club:Crystal+Palace, Pos:CM",
          "Julian Speroni, Club:Crystal+Palace, Pos:GK",
          "Ross Barkley, Club:Everton, Pos:AM",
          "Leighton Baines, Club:Everton, Pos:LB",
          "Seamus Coleman, Club:Everton, Pos:RB",
          "Ashley Williams, Club:Everton, Pos:CB",
          "Kevin Mirallas, Club:Everton, Pos:RW",
          "Michael Keane, Club:Everton, Pos:CB",
          "Phil Jagielka, Club:Everton, Pos:CB",
          "Jordan Pickford, Club:Everton, Pos:GK",
          "Joel Robles, Club:Everton, Pos:GK",
          "Idrissa Gueye, Club:Everton, Pos:CM",
          "Wayne Rooney, Club:Everton, Pos:SS",
          "Ramiro Funes Mori, Club:Everton, Pos:CB",
          "Maarten Stekelenburg, Club:Everton, Pos:GK",
          "Gareth Barry, Club:Everton, Pos:DM",
          "Tom Davies, Club:Everton, Pos:CM",
          "Mason Holgate, Club:Everton, Pos:CB",
          "Yannick Bolasie, Club:Everton, Pos:LW",
          "Morgan Schneiderlin, Club:Everton, Pos:DM",
          "Cuco Martina, Club:Everton, Pos:RB",
          "James McCarthy, Club:Everton, Pos:CM",
          "Aaron Lennon, Club:Everton, Pos:RW",
          "Dominic Calvert-Lewin, Club:Everton, Pos:SS",
          "Ademola Lookman, Club:Everton, Pos:LW",
          "Matthew Pennington, Club:Everton, Pos:CB",
          "Jonjoe Kenny, Club:Everton, Pos:RB",
          "Muhamed Besic, Club:Everton, Pos:DM",
          "Davy Klaassen, Club:Everton, Pos:AM",
          "Sandro Ramirez, Club:Everton, Pos:CF",
          "Joel Coleman, Club:Huddersfield, Pos:GK",
          "Jonas Lossl, Club:Huddersfield, Pos:GK",
          "Christopher Schindler, Club:Huddersfield, Pos:CB",
          "Chris Lowe, Club:Huddersfield, Pos:LB",
          "Tommy Smith, Club:Huddersfield, Pos:RB",
          "Michael Hefele, Club:Huddersfield, Pos:CB",
          "Martin Cranie, Club:Huddersfield, Pos:CB",
          "Jon Gorenc Stankovic, Club:Huddersfield, Pos:CB",
          "Mark Hudson, Club:Huddersfield, Pos:CB",
          "Mathias Jorgensen, Club:Huddersfield, Pos:CB",
          "Scott Malone, Club:Huddersfield, Pos:LB",
          "Aaron Mooy, Club:Huddersfield, Pos:CM",
          "Rajiv van La Parra, Club:Huddersfield, Pos:LW",
          "Jonathan Hogg, Club:Huddersfield, Pos:CM",
          "Philip Billing, Club:Huddersfield, Pos:CM",
          "Joe Lolley, Club:Huddersfield, Pos:RW",
          "Jack Payne, Club:Huddersfield, Pos:CM",
          "Dean Whitehead, Club:Huddersfield, Pos:CM",
          "Harry Bunn, Club:Huddersfield, Pos:LW",
          "Sean Scannell, Club:Huddersfield, Pos:RW",
          "Elias Kachunga, Club:Huddersfield, Pos:RW",
          "Tom Ince, Club:Huddersfield, Pos:RW",
          "Kasey Palmer, Club:Huddersfield, Pos:AM",
          "Andy Williams, Club:Huddersfield, Pos:CB",
          "Nahki Wells, Club:Huddersfield, Pos:CF",
          "Collin Quaner, Club:Huddersfield, Pos:CF",
          "Laurent Depoitre, Club:Huddersfield, Pos:CF",
          "Steve Mounie, Club:Huddersfield, Pos:CF",
          "Jamie Vardy, Club:Leicester+City, Pos:CF",
          "Riyad Mahrez, Club:Leicester+City, Pos:RW",
          "Kasper Schmeichel, Club:Leicester+City, Pos:GK",
          "Christian Fuchs, Club:Leicester+City, Pos:LB",
          "Marc Albrighton, Club:Leicester+City, Pos:LM",
          "Robert Huth, Club:Leicester+City, Pos:CB",
          "Danny Simpson, Club:Leicester+City, Pos:RB",
          "Islam Slimani, Club:Leicester+City, Pos:CF",
          "Harry Maguire, Club:Leicester+City, Pos:CB",
          "Danny Drinkwater, Club:Leicester+City, Pos:CM",
          "Wes Morgan, Club:Leicester+City, Pos:CB",
          "Shinji Okazaki, Club:Leicester+City, Pos:CF",
          "Wilfred Ndidi, Club:Leicester+City, Pos:DM",
          "Demarai Gray, Club:Leicester+City, Pos:LW",
          "Daniel Amartey, Club:Leicester+City, Pos:DM",
          "Andy King, Club:Leicester+City, Pos:CM",
          "Ahmed Musa, Club:Leicester+City, Pos:CF",
          "Yohan Benalouane, Club:Leicester+City, Pos:CB",
          "Leonardo Ulloa, Club:Leicester+City, Pos:CF",
          "Ben Chilwell, Club:Leicester+City, Pos:LB",
          "Nampalys Mendy, Club:Leicester+City, Pos:DM",
          "Ben Hamer, Club:Leicester+City, Pos:GK",
          "Molla Wague, Club:Leicester+City, Pos:CB",
          "Vicente Iborra, Club:Leicester+City, Pos:DM",
          "Roberto Firmino, Club:Liverpool, Pos:SS",
          "Philippe Coutinho, Club:Liverpool, Pos:AM",
          "Sadio Mane, Club:Liverpool, Pos:LW",
          "Georginio Wijnaldum, Club:Liverpool, Pos:CM",
          "James Milner, Club:Liverpool, Pos:CM",
          "Adam Lallana, Club:Liverpool, Pos:AM",
          "Nathaniel Clyne, Club:Liverpool, Pos:RB",
          "Simon Mignolet, Club:Liverpool, Pos:GK",
          "Dejan Lovren, Club:Liverpool, Pos:CB",
          "Emre Can, Club:Liverpool, Pos:DM",
          "Joel Matip, Club:Liverpool, Pos:CB",
          "Divock Origi, Club:Liverpool, Pos:CF",
          "Jordan Henderson, Club:Liverpool, Pos:CM",
          "Daniel Sturridge, Club:Liverpool, Pos:CF",
          "Lucas Leiva, Club:Liverpool, Pos:DM",
          "Ragnar Klavan, Club:Liverpool, Pos:CB",
          "Mamadou Sakho, Club:Liverpool, Pos:CB",
          "Loris Karius, Club:Liverpool, Pos:GK",
          "Trent Alexander-Arnold, Club:Liverpool, Pos:RB",
          "Alberto Moreno, Club:Liverpool, Pos:LB",
          "Ben Woodburn, Club:Liverpool, Pos:LW",
          "Marko Grujic, Club:Liverpool, Pos:CM",
          "Joe Gomez, Club:Liverpool, Pos:CB",
          "Sheyi Ojo, Club:Liverpool, Pos:LW",
          "Mohamed Salah, Club:Liverpool, Pos:RW",
          "Danny Ings, Club:Liverpool, Pos:CF",
          "Dominic Solanke, Club:Liverpool, Pos:CF",
          "Kevin De Bruyne, Club:Manchester+City, Pos:AM",
          "Sergio Aguero, Club:Manchester+City, Pos:CF",
          "Raheem Sterling, Club:Manchester+City, Pos:LW",
          "Kyle Walker, Club:Manchester+City, Pos:RB",
          "David Silva, Club:Manchester+City, Pos:AM",
          "Leroy Sane, Club:Manchester+City, Pos:LW",
          "Nicolas Otamendi, Club:Manchester+City, Pos:CB",
          "Aleksandar Kolarov, Club:Manchester+City, Pos:LB",
          "Yaya Toure, Club:Manchester+City, Pos:CM",
          "Fernandinho, Club:Manchester+City, Pos:DM",
          "Claudio Bravo, Club:Manchester+City, Pos:GK",
          "Gabriel Jesus, Club:Manchester+City, Pos:CF",
          "John Stones, Club:Manchester+City, Pos:CB",
          "Vincent Kompany, Club:Manchester+City, Pos:CB",
          "Kelechi Iheanacho, Club:Manchester+City, Pos:CF",
          "Ilkay Gundogan, Club:Manchester+City, Pos:CM",
          "Fernando, Club:Manchester+City, Pos:DM",
          "Fabian Delph, Club:Manchester+City, Pos:CM",
          "Ederson Moraes, Club:Manchester+City, Pos:GK",
          "Bernardo Silva, Club:Manchester+City, Pos:RW",
          "Romelu Lukaku, Club:Manchester+United, Pos:CF",
          "David de Gea, Club:Manchester+United, Pos:GK",
          "Antonio Valencia, Club:Manchester+United, Pos:RB",
          "Paul Pogba, Club:Manchester+United, Pos:CM",
          "Eric Bailly, Club:Manchester+United, Pos:CB",
          "Juan Mata, Club:Manchester+United, Pos:AM",
          "Daley Blind, Club:Manchester+United, Pos:LB",
          "Ander Herrera, Club:Manchester+United, Pos:CM",
          "Anthony Martial, Club:Manchester+United, Pos:CF",
          "Marcos Rojo, Club:Manchester+United, Pos:CB",
          "Marcus Rashford, Club:Manchester+United, Pos:CF",
          "Henrikh Mkhitaryan, Club:Manchester+United, Pos:AM",
          "Matteo Darmian, Club:Manchester+United, Pos:RB",
          "Jesse Lingard, Club:Manchester+United, Pos:LW",
          "Phil Jones, Club:Manchester+United, Pos:CB",
          "Chris Smalling, Club:Manchester+United, Pos:CB",
          "Marouane Fellaini, Club:Manchester+United, Pos:CM",
          "Luke Shaw, Club:Manchester+United, Pos:LB",
          "Michael Carrick, Club:Manchester+United, Pos:DM",
          "Ashley Young, Club:Manchester+United, Pos:LM",
          "Sergio Romero, Club:Manchester+United, Pos:GK",
          "Axel Tuanzebe, Club:Manchester+United, Pos:CB",
          "Timothy Fosu-Mensah, Club:Manchester+United, Pos:DM",
          "Joel Castro Pereira, Club:Manchester+United, Pos:GK",
          "Victor Lindelof, Club:Manchester+United, Pos:CB",
          "Rob Elliot, Club:Newcastle+United, Pos:GK",
          "Karl Darlow, Club:Newcastle+United, Pos:GK",
          "DeAndre Yedlin, Club:Newcastle+United, Pos:RB",
          "Ciaran Clark, Club:Newcastle+United, Pos:CB",
          "Lascelles, Club:Newcastle+United, Pos:CB",
          "Paul Dummett, Club:Newcastle+United, Pos:LB",
          "Grant Hanley, Club:Newcastle+United, Pos:CB",
          "Jesus Gamez, Club:Newcastle+United, Pos:RB",
          "Florian Lejeune, Club:Newcastle+United, Pos:CB",
          "Massadio Haidara, Club:Newcastle+United, Pos:LB",
          "Matt Ritchie, Club:Newcastle+United, Pos:RM",
          "Jonjo Shelvey, Club:Newcastle+United, Pos:CM",
          "Mohamed Diame, Club:Newcastle+United, Pos:CM",
          "Jack Colback, Club:Newcastle+United, Pos:DM",
          "Christian Atsu, Club:Newcastle+United, Pos:RW",
          "Siem de Jong, Club:Newcastle+United, Pos:AM",
          "Rolando Aarons, Club:Newcastle+United, Pos:LW",
          "Dwight Gayle, Club:Newcastle+United, Pos:CF",
          "Ayoze Perez, Club:Newcastle+United, Pos:SS",
          "Aleksandar Mitrovic, Club:Newcastle+United, Pos:CF",
          "Daryl Murphy, Club:Newcastle+United, Pos:CF",
          "Fraser Forster, Club:Southampton, Pos:GK",
          "Nathan Redmond, Club:Southampton, Pos:RW",
          "Ryan Bertrand, Club:Southampton, Pos:LB",
          "DuÅ¡an TadiÄ‡, Club:Southampton, Pos:LW",
          "Cedric Soares, Club:Southampton, Pos:RB",
          "James Ward-Prowse, Club:Southampton, Pos:CM",
          "Oriol Romeu, Club:Southampton, Pos:DM",
          "Maya Yoshida, Club:Southampton, Pos:CB",
          "Steven Davis, Club:Southampton, Pos:CM",
          "Virgil van Dijk, Club:Southampton, Pos:CB",
          "Charlie Austin, Club:Southampton, Pos:CF",
          "Jack Stephens, Club:Southampton, Pos:CB",
          "Shane Long, Club:Southampton, Pos:CF",
          "Sofiane Boufal, Club:Southampton, Pos:AM",
          "Jordy Clasie, Club:Southampton, Pos:DM",
          "Pierre-Emile Hojbjerg, Club:Southampton, Pos:CM",
          "Manolo Gabbiadini, Club:Southampton, Pos:CF",
          "Sam McQueen, Club:Southampton, Pos:LM",
          "Matt Targett, Club:Southampton, Pos:LB",
          "Josh Sims, Club:Southampton, Pos:RW",
          "Jeremy Pied, Club:Southampton, Pos:RM",
          "Jason McCarthy, Club:Southampton, Pos:CB",
          "Jan Bednarek, Club:Southampton, Pos:CB",
          "Joe Allen, Club:Stoke+City, Pos:CM",
          "Marko ArnautoviÄ‡, Club:Stoke+City, Pos:LW",
          "Lee Grant, Club:Stoke+City, Pos:GK",
          "Erik Pieters, Club:Stoke+City, Pos:LB",
          "Steven Fletcher, Club:Stoke+City, Pos:CF",
          "Ryan Shawcross, Club:Stoke+City, Pos:CB",
          "Xherdan Shaqiri, Club:Stoke+City, Pos:RW",
          "Peter Crouch, Club:Stoke+City, Pos:CF",
          "Glenn Whelan, Club:Stoke+City, Pos:DM",
          "Charlie Adam, Club:Stoke+City, Pos:CM",
          "Geoff Cameron, Club:Stoke+City, Pos:CB",
          "Glen Johnson, Club:Stoke+City, Pos:RB",
          "Mame Biram Diouf, Club:Stoke+City, Pos:CF",
          "Ramadan Sobhi, Club:Stoke+City, Pos:LW",
          "Marc Muniesa, Club:Stoke+City, Pos:CB",
          "Bojan KrkiÄ‡, Club:Stoke+City, Pos:SS",
          "Phil Bardsley, Club:Stoke+City, Pos:RB",
          "Saido Berahino, Club:Stoke+City, Pos:CF",
          "Giannelli Imbula, Club:Stoke+City, Pos:DM",
          "Jack Butland, Club:Stoke+City, Pos:GK",
          "Ibrahim Afellay, Club:Stoke+City, Pos:LM",
          "Josh Tymon, Club:Stoke+City, Pos:LB",
          "Gylfi Sigurdsson, Club:Swansea, Pos:AM",
          "Fernando Llorente, Club:Swansea, Pos:CF",
          "Åukasz FabiaÅ„ski, Club:Swansea, Pos:GK",
          "Leroy Fer, Club:Swansea, Pos:CM",
          "Alfie Mawson, Club:Swansea, Pos:CB",
          "Kyle Naughton, Club:Swansea, Pos:RB",
          "Wayne Routledge, Club:Swansea, Pos:LW",
          "Federico Fernandez, Club:Swansea, Pos:CB",
          "Martin Olsson, Club:Swansea, Pos:LB",
          "Tom Carroll, Club:Swansea, Pos:CM",
          "Ki Sung-yueng, Club:Swansea, Pos:DM",
          "Jordan Ayew, Club:Swansea, Pos:CF",
          "Modou Barrow, Club:Swansea, Pos:RW",
          "Leon Britton, Club:Swansea, Pos:CM",
          "Stephen Kingsley, Club:Swansea, Pos:LB",
          "Ã€ngel Rangel, Club:Swansea, Pos:RB",
          "Luciano Narsingh, Club:Swansea, Pos:RW",
          "Jay Fulton, Club:Swansea, Pos:CM",
          "Jefferson Montero, Club:Swansea, Pos:LW",
          "Mike van der Hoorn, Club:Swansea, Pos:CB",
          "Nathan Dyer, Club:Swansea, Pos:RW",
          "Oliver McBurnie, Club:Swansea, Pos:CF",
          "Kristoffer Nordfeldt, Club:Swansea, Pos:GK",
          "Roque Mesa, Club:Swansea, Pos:CM",
          "Tammy Abraham, Club:Swansea, Pos:CF",
          "Dele Alli, Club:Tottenham, Pos:CM",
          "Harry Kane, Club:Tottenham, Pos:CF",
          "Christian Eriksen, Club:Tottenham, Pos:AM",
          "Son Heung-min, Club:Tottenham, Pos:LW",
          "Hugo Lloris, Club:Tottenham, Pos:GK",
          "Jan Vertonghen, Club:Tottenham, Pos:CB",
          "Toby Alderweireld, Club:Tottenham, Pos:CB",
          "Victor Wanyama, Club:Tottenham, Pos:DM",
          "Eric Dier, Club:Tottenham, Pos:DM",
          "Ben Davies, Club:Tottenham, Pos:LB",
          "Danny Rose, Club:Tottenham, Pos:LB",
          "Mousa Dembele, Club:Tottenham, Pos:CM",
          "Vincent Janssen, Club:Tottenham, Pos:CF",
          "Kieran Trippier, Club:Tottenham, Pos:RB",
          "Moussa Sissokho, Club:Tottenham, Pos:CM",
          "Harry Winks, Club:Tottenham, Pos:CM",
          "Erik Lamela, Club:Tottenham, Pos:RW",
          "Michel Vorm, Club:Tottenham, Pos:GK",
          "Georges-Kevin N%27Koudou, Club:Tottenham, Pos:LW",
          "Kevin Wimmer, Club:Tottenham, Pos:CB",
          "Ã‰tienne Capoue, Club:Watford, Pos:DM",
          "Troy Deeney, Club:Watford, Pos:CF",
          "Heurelho Gomes, Club:Watford, Pos:GK",
          "Jose Holebas, Club:Watford, Pos:LB",
          "Miguel Britos, Club:Watford, Pos:CB",
          "Sebastian Prodl, Club:Watford, Pos:CB",
          "Nordin Amrabat, Club:Watford, Pos:LW",
          "YounÃ¨s Kaboul, Club:Watford, Pos:CB",
          "Tom Cleverley, Club:Watford, Pos:CM",
          "Daryl Janmaat, Club:Watford, Pos:RB",
          "Valon Behrami, Club:Watford, Pos:DM",
          "Roberto Pereyra, Club:Watford, Pos:AM",
          "Stefano Okaka, Club:Watford, Pos:CF",
          "Abdoulaye Doucoure, Club:Watford, Pos:CM",
          "Kabasele, Club:Watford, Pos:CB",
          "Craig Cathcart, Club:Watford, Pos:CB",
          "Isaac Success, Club:Watford, Pos:LW",
          "Adrian Mariappa, Club:Watford, Pos:CB",
          "Nathaniel Chalobah, Club:Watford, Pos:DM",
          "Mauro Zarate, Club:Watford, Pos:SS",
          "Costel Pantilimon, Club:Watford, Pos:GK",
          "Kiko Femenia, Club:Watford, Pos:RB",
          "Steven Berghuis, Club:Watford, Pos:RW",
          "Will Hughes, Club:Watford, Pos:CM",
          "Gareth McAuley, Club:West+Brom, Pos:CB",
          "Salomon Rondon, Club:West+Brom, Pos:CF",
          "Matt Phillips, Club:West+Brom, Pos:RW",
          "Ben Foster, Club:West+Brom, Pos:GK",
          "Nacer Chadli, Club:West+Brom, Pos:LW",
          "Craig Dawson, Club:West+Brom, Pos:RB",
          "Chris Brunt, Club:West+Brom, Pos:LM",
          "James Morrison, Club:West+Brom, Pos:CM",
          "Jonny Evans, Club:West+Brom, Pos:CB",
          "Jake Livermore, Club:West+Brom, Pos:DM",
          "Allan Nyom, Club:West+Brom, Pos:RB",
          "Jay Rodriguez, Club:West+Brom, Pos:CF",
          "Claudio Yacob, Club:West+Brom, Pos:DM",
          "James McClean, Club:West+Brom, Pos:LW",
          "Hal Robson-Kanu, Club:West+Brom, Pos:LW",
          "Jonathan Leko, Club:West+Brom, Pos:RW",
          "Sam Field, Club:West+Brom, Pos:CM",
          "Boaz Myhill, Club:West+Brom, Pos:GK",
          "Ahmed Hegazy, Club:West+Brom, Pos:CB",
          "Robert Snodgrass, Club:West+Ham, Pos:RW",
          "Manuel Lanzini, Club:West+Ham, Pos:AM",
          "Michail Antonio, Club:West+Ham, Pos:RW",
          "Winston Reid, Club:West+Ham, Pos:CB",
          "Jose Fonte, Club:West+Ham, Pos:CB",
          "Andre Ayew, Club:West+Ham, Pos:LW",
          "Cheikhou Kouyate, Club:West+Ham, Pos:DM",
          "Mark Noble, Club:West+Ham, Pos:CM",
          "Darren Randolph, Club:West+Ham, Pos:GK",
          "James Collins, Club:West+Ham, Pos:CB",
          "Andy Carroll, Club:West+Ham, Pos:CF",
          "Adrian, Club:West+Ham, Pos:GK",
          "Aaron Cresswell, Club:West+Ham, Pos:LB",
          "Pedro Obiang, Club:West+Ham, Pos:CM",
          "Sofiane Feghouli, Club:West+Ham, Pos:RW",
          "Angelo Ogbonna, Club:West+Ham, Pos:CB",
          "Pablo Zabaleta, Club:West+Ham, Pos:RB",
          "Edimilson Fernandes, Club:West+Ham, Pos:CM",
          "Arthur Masuaku, Club:West+Ham, Pos:LB",
          "Sam Byram, Club:West+Ham, Pos:RB",
          "Ashley Fletcher, Club:West+Ham, Pos:CF",
          "Diafra Sakho, Club:West+Ham, Pos:CF"
         ],
         "type": "scatter",
         "uid": "0d217c",
         "x": [
          28,
          28,
          35,
          28,
          31,
          22,
          30,
          31,
          25,
          21,
          24,
          23,
          25,
          26,
          26,
          26,
          27,
          32,
          26,
          21,
          25,
          28,
          24,
          28,
          25,
          32,
          24,
          26,
          25,
          34,
          30,
          37,
          26,
          27,
          26,
          23,
          32,
          24,
          27,
          30,
          25,
          22,
          27,
          30,
          21,
          20,
          21,
          32,
          29,
          24,
          23,
          30,
          32,
          25,
          25,
          25,
          31,
          36,
          29,
          33,
          24,
          30,
          25,
          27,
          29,
          34,
          23,
          25,
          26,
          27,
          26,
          33,
          30,
          28,
          31,
          27,
          26,
          27,
          31,
          28,
          27,
          25,
          28,
          29,
          33,
          28,
          26,
          25,
          24,
          27,
          26,
          35,
          26,
          28,
          31,
          26,
          27,
          29,
          25,
          30,
          30,
          28,
          26,
          28,
          26,
          35,
          23,
          22,
          21,
          34,
          24,
          22,
          24,
          26,
          26,
          26,
          29,
          30,
          31,
          31,
          27,
          28,
          30,
          36,
          24,
          27,
          26,
          29,
          24,
          29,
          27,
          21,
          38,
          23,
          32,
          28,
          32,
          29,
          24,
          34,
          23,
          27,
          27,
          31,
          26,
          34,
          36,
          19,
          20,
          28,
          27,
          27,
          26,
          30,
          20,
          19,
          22,
          20,
          24,
          24,
          22,
          21,
          28,
          27,
          28,
          25,
          26,
          30,
          21,
          35,
          27,
          26,
          26,
          26,
          28,
          21,
          24,
          25,
          35,
          24,
          26,
          25,
          25,
          20,
          26,
          27,
          26,
          28,
          22,
          30,
          26,
          30,
          31,
          27,
          32,
          30,
          29,
          24,
          27,
          33,
          31,
          20,
          21,
          22,
          28,
          24,
          30,
          30,
          20,
          25,
          29,
          26,
          29,
          25,
          25,
          25,
          26,
          31,
          29,
          26,
          29,
          28,
          23,
          25,
          22,
          27,
          27,
          30,
          31,
          27,
          24,
          18,
          25,
          17,
          21,
          20,
          20,
          25,
          24,
          19,
          26,
          29,
          22,
          27,
          31,
          21,
          29,
          31,
          34,
          32,
          34,
          20,
          23,
          31,
          20,
          26,
          32,
          27,
          23,
          22,
          24,
          26,
          31,
          24,
          23,
          29,
          27,
          27,
          21,
          27,
          19,
          28,
          27,
          24,
          25,
          27,
          29,
          22,
          35,
          32,
          30,
          19,
          19,
          21,
          23,
          31,
          26,
          24,
          27,
          27,
          25,
          25,
          32,
          26,
          24,
          27,
          25,
          30,
          27,
          25,
          28,
          21,
          26,
          23,
          22,
          34,
          29,
          23,
          27,
          28,
          25,
          22,
          25,
          28,
          32,
          26,
          28,
          23,
          30,
          23,
          26,
          21,
          25,
          22,
          21,
          20,
          28,
          21,
          21,
          27,
          28,
          34,
          28,
          30,
          29,
          25,
          36,
          33,
          31,
          32,
          32,
          29,
          20,
          25,
          26,
          32,
          23,
          24,
          24,
          31,
          18,
          27,
          32,
          32,
          27,
          23,
          28,
          32,
          28,
          29,
          25,
          28,
          25,
          24,
          34,
          22,
          34,
          26,
          23,
          27,
          24,
          29,
          21,
          28,
          28,
          19,
          21,
          23,
          25,
          25,
          30,
          30,
          28,
          26,
          23,
          24,
          27,
          30,
          23,
          26,
          27,
          21,
          25,
          33,
          22,
          24,
          29,
          29,
          36,
          33,
          32,
          30,
          30,
          31,
          27,
          27,
          32,
          26,
          27,
          24,
          26,
          28,
          21,
          30,
          22,
          30,
          30,
          26,
          25,
          22,
          37,
          27,
          26,
          34,
          27,
          27,
          32,
          31,
          29,
          27,
          29,
          27,
          30,
          28,
          28,
          18,
          19,
          34,
          26,
          29,
          24,
          27,
          29,
          33,
          27,
          27,
          30,
          30,
          33,
          28,
          30,
          27,
          25,
          27,
          29,
          32,
          21,
          23,
          23,
          21,
          27
         ],
         "xsrc": "Aldemuro:22:d61533",
         "y": [
          264,
          167,
          134,
          122,
          121,
          119,
          116,
          115,
          90,
          89,
          85,
          83,
          61,
          56,
          52,
          45,
          45,
          38,
          37,
          32,
          26,
          20,
          8,
          2,
          2,
          1,
          0,
          0,
          178,
          166,
          134,
          120,
          112,
          107,
          104,
          100,
          89,
          88,
          84,
          64,
          63,
          55,
          49,
          44,
          36,
          17,
          14,
          8,
          8,
          4,
          4,
          2,
          0,
          0,
          0,
          0,
          0,
          0,
          0,
          0,
          0,
          0,
          0,
          0,
          0,
          0,
          0,
          0,
          0,
          0,
          0,
          0,
          0,
          0,
          149,
          121,
          108,
          94,
          91,
          90,
          81,
          76,
          69,
          54,
          51,
          50,
          47,
          39,
          23,
          13,
          3,
          0,
          224,
          196,
          178,
          177,
          170,
          162,
          141,
          132,
          121,
          114,
          105,
          105,
          83,
          64,
          48,
          15,
          3,
          0,
          0,
          0,
          149,
          136,
          116,
          98,
          93,
          92,
          92,
          91,
          86,
          75,
          61,
          51,
          47,
          46,
          42,
          24,
          18,
          7,
          6,
          6,
          0,
          144,
          135,
          133,
          127,
          119,
          113,
          104,
          102,
          89,
          80,
          76,
          69,
          68,
          68,
          63,
          54,
          45,
          37,
          31,
          23,
          22,
          17,
          16,
          9,
          1,
          0,
          0,
          0,
          0,
          0,
          0,
          0,
          0,
          0,
          0,
          0,
          0,
          0,
          0,
          0,
          0,
          0,
          0,
          0,
          0,
          0,
          0,
          0,
          0,
          0,
          0,
          0,
          0,
          0,
          0,
          0,
          161,
          120,
          109,
          104,
          95,
          88,
          85,
          83,
          71,
          69,
          63,
          63,
          59,
          58,
          53,
          41,
          39,
          27,
          24,
          19,
          6,
          0,
          0,
          0,
          180,
          171,
          156,
          149,
          139,
          139,
          129,
          110,
          106,
          104,
          97,
          96,
          73,
          54,
          47,
          43,
          35,
          32,
          15,
          8,
          5,
          4,
          0,
          0,
          0,
          0,
          0,
          199,
          175,
          149,
          142,
          130,
          105,
          100,
          95,
          86,
          78,
          73,
          67,
          59,
          57,
          52,
          41,
          18,
          13,
          0,
          0,
          221,
          136,
          120,
          115,
          105,
          102,
          98,
          97,
          95,
          77,
          76,
          73,
          70,
          60,
          55,
          52,
          48,
          45,
          42,
          26,
          23,
          14,
          9,
          6,
          0,
          0,
          0,
          0,
          0,
          0,
          0,
          0,
          0,
          0,
          0,
          0,
          0,
          0,
          0,
          0,
          0,
          0,
          0,
          0,
          0,
          0,
          134,
          126,
          123,
          108,
          102,
          92,
          80,
          78,
          77,
          75,
          62,
          60,
          57,
          40,
          38,
          38,
          38,
          23,
          12,
          12,
          5,
          0,
          0,
          118,
          117,
          106,
          103,
          103,
          94,
          80,
          79,
          62,
          59,
          58,
          56,
          51,
          36,
          34,
          30,
          27,
          26,
          24,
          20,
          15,
          9,
          181,
          146,
          116,
          95,
          94,
          82,
          74,
          63,
          52,
          52,
          41,
          39,
          34,
          32,
          29,
          26,
          25,
          19,
          18,
          16,
          12,
          5,
          3,
          0,
          0,
          225,
          224,
          218,
          174,
          143,
          126,
          120,
          103,
          93,
          90,
          84,
          76,
          55,
          51,
          43,
          30,
          28,
          17,
          8,
          2,
          131,
          130,
          113,
          87,
          71,
          67,
          65,
          57,
          55,
          50,
          48,
          43,
          43,
          38,
          35,
          31,
          28,
          15,
          12,
          8,
          2,
          0,
          0,
          0,
          131,
          118,
          115,
          113,
          110,
          102,
          99,
          84,
          79,
          77,
          74,
          73,
          54,
          52,
          52,
          12,
          9,
          0,
          0,
          133,
          133,
          132,
          102,
          98,
          89,
          79,
          71,
          69,
          69,
          69,
          64,
          60,
          55,
          55,
          45,
          45,
          38,
          34,
          29,
          16,
          12
         ],
         "ysrc": "Aldemuro:22:1c3243"
        }
       ],
       "layout": {
        "autosize": true,
        "hovermode": "closest",
        "template": {
         "data": {
          "bar": [
           {
            "error_x": {
             "color": "#2a3f5f"
            },
            "error_y": {
             "color": "#2a3f5f"
            },
            "marker": {
             "line": {
              "color": "#E5ECF6",
              "width": 0.5
             }
            },
            "type": "bar"
           }
          ],
          "barpolar": [
           {
            "marker": {
             "line": {
              "color": "#E5ECF6",
              "width": 0.5
             }
            },
            "type": "barpolar"
           }
          ],
          "carpet": [
           {
            "aaxis": {
             "endlinecolor": "#2a3f5f",
             "gridcolor": "white",
             "linecolor": "white",
             "minorgridcolor": "white",
             "startlinecolor": "#2a3f5f"
            },
            "baxis": {
             "endlinecolor": "#2a3f5f",
             "gridcolor": "white",
             "linecolor": "white",
             "minorgridcolor": "white",
             "startlinecolor": "#2a3f5f"
            },
            "type": "carpet"
           }
          ],
          "choropleth": [
           {
            "colorbar": {
             "outlinewidth": 0,
             "ticks": ""
            },
            "type": "choropleth"
           }
          ],
          "contour": [
           {
            "colorbar": {
             "outlinewidth": 0,
             "ticks": ""
            },
            "colorscale": [
             [
              0,
              "#0d0887"
             ],
             [
              0.1111111111111111,
              "#46039f"
             ],
             [
              0.2222222222222222,
              "#7201a8"
             ],
             [
              0.3333333333333333,
              "#9c179e"
             ],
             [
              0.4444444444444444,
              "#bd3786"
             ],
             [
              0.5555555555555556,
              "#d8576b"
             ],
             [
              0.6666666666666666,
              "#ed7953"
             ],
             [
              0.7777777777777778,
              "#fb9f3a"
             ],
             [
              0.8888888888888888,
              "#fdca26"
             ],
             [
              1,
              "#f0f921"
             ]
            ],
            "type": "contour"
           }
          ],
          "contourcarpet": [
           {
            "colorbar": {
             "outlinewidth": 0,
             "ticks": ""
            },
            "type": "contourcarpet"
           }
          ],
          "heatmap": [
           {
            "colorbar": {
             "outlinewidth": 0,
             "ticks": ""
            },
            "colorscale": [
             [
              0,
              "#0d0887"
             ],
             [
              0.1111111111111111,
              "#46039f"
             ],
             [
              0.2222222222222222,
              "#7201a8"
             ],
             [
              0.3333333333333333,
              "#9c179e"
             ],
             [
              0.4444444444444444,
              "#bd3786"
             ],
             [
              0.5555555555555556,
              "#d8576b"
             ],
             [
              0.6666666666666666,
              "#ed7953"
             ],
             [
              0.7777777777777778,
              "#fb9f3a"
             ],
             [
              0.8888888888888888,
              "#fdca26"
             ],
             [
              1,
              "#f0f921"
             ]
            ],
            "type": "heatmap"
           }
          ],
          "heatmapgl": [
           {
            "colorbar": {
             "outlinewidth": 0,
             "ticks": ""
            },
            "colorscale": [
             [
              0,
              "#0d0887"
             ],
             [
              0.1111111111111111,
              "#46039f"
             ],
             [
              0.2222222222222222,
              "#7201a8"
             ],
             [
              0.3333333333333333,
              "#9c179e"
             ],
             [
              0.4444444444444444,
              "#bd3786"
             ],
             [
              0.5555555555555556,
              "#d8576b"
             ],
             [
              0.6666666666666666,
              "#ed7953"
             ],
             [
              0.7777777777777778,
              "#fb9f3a"
             ],
             [
              0.8888888888888888,
              "#fdca26"
             ],
             [
              1,
              "#f0f921"
             ]
            ],
            "type": "heatmapgl"
           }
          ],
          "histogram": [
           {
            "marker": {
             "colorbar": {
              "outlinewidth": 0,
              "ticks": ""
             }
            },
            "type": "histogram"
           }
          ],
          "histogram2d": [
           {
            "colorbar": {
             "outlinewidth": 0,
             "ticks": ""
            },
            "colorscale": [
             [
              0,
              "#0d0887"
             ],
             [
              0.1111111111111111,
              "#46039f"
             ],
             [
              0.2222222222222222,
              "#7201a8"
             ],
             [
              0.3333333333333333,
              "#9c179e"
             ],
             [
              0.4444444444444444,
              "#bd3786"
             ],
             [
              0.5555555555555556,
              "#d8576b"
             ],
             [
              0.6666666666666666,
              "#ed7953"
             ],
             [
              0.7777777777777778,
              "#fb9f3a"
             ],
             [
              0.8888888888888888,
              "#fdca26"
             ],
             [
              1,
              "#f0f921"
             ]
            ],
            "type": "histogram2d"
           }
          ],
          "histogram2dcontour": [
           {
            "colorbar": {
             "outlinewidth": 0,
             "ticks": ""
            },
            "colorscale": [
             [
              0,
              "#0d0887"
             ],
             [
              0.1111111111111111,
              "#46039f"
             ],
             [
              0.2222222222222222,
              "#7201a8"
             ],
             [
              0.3333333333333333,
              "#9c179e"
             ],
             [
              0.4444444444444444,
              "#bd3786"
             ],
             [
              0.5555555555555556,
              "#d8576b"
             ],
             [
              0.6666666666666666,
              "#ed7953"
             ],
             [
              0.7777777777777778,
              "#fb9f3a"
             ],
             [
              0.8888888888888888,
              "#fdca26"
             ],
             [
              1,
              "#f0f921"
             ]
            ],
            "type": "histogram2dcontour"
           }
          ],
          "mesh3d": [
           {
            "colorbar": {
             "outlinewidth": 0,
             "ticks": ""
            },
            "type": "mesh3d"
           }
          ],
          "parcoords": [
           {
            "line": {
             "colorbar": {
              "outlinewidth": 0,
              "ticks": ""
             }
            },
            "type": "parcoords"
           }
          ],
          "pie": [
           {
            "automargin": true,
            "type": "pie"
           }
          ],
          "scatter": [
           {
            "marker": {
             "colorbar": {
              "outlinewidth": 0,
              "ticks": ""
             }
            },
            "type": "scatter"
           }
          ],
          "scatter3d": [
           {
            "line": {
             "colorbar": {
              "outlinewidth": 0,
              "ticks": ""
             }
            },
            "marker": {
             "colorbar": {
              "outlinewidth": 0,
              "ticks": ""
             }
            },
            "type": "scatter3d"
           }
          ],
          "scattercarpet": [
           {
            "marker": {
             "colorbar": {
              "outlinewidth": 0,
              "ticks": ""
             }
            },
            "type": "scattercarpet"
           }
          ],
          "scattergeo": [
           {
            "marker": {
             "colorbar": {
              "outlinewidth": 0,
              "ticks": ""
             }
            },
            "type": "scattergeo"
           }
          ],
          "scattergl": [
           {
            "marker": {
             "colorbar": {
              "outlinewidth": 0,
              "ticks": ""
             }
            },
            "type": "scattergl"
           }
          ],
          "scattermapbox": [
           {
            "marker": {
             "colorbar": {
              "outlinewidth": 0,
              "ticks": ""
             }
            },
            "type": "scattermapbox"
           }
          ],
          "scatterpolar": [
           {
            "marker": {
             "colorbar": {
              "outlinewidth": 0,
              "ticks": ""
             }
            },
            "type": "scatterpolar"
           }
          ],
          "scatterpolargl": [
           {
            "marker": {
             "colorbar": {
              "outlinewidth": 0,
              "ticks": ""
             }
            },
            "type": "scatterpolargl"
           }
          ],
          "scatterternary": [
           {
            "marker": {
             "colorbar": {
              "outlinewidth": 0,
              "ticks": ""
             }
            },
            "type": "scatterternary"
           }
          ],
          "surface": [
           {
            "colorbar": {
             "outlinewidth": 0,
             "ticks": ""
            },
            "colorscale": [
             [
              0,
              "#0d0887"
             ],
             [
              0.1111111111111111,
              "#46039f"
             ],
             [
              0.2222222222222222,
              "#7201a8"
             ],
             [
              0.3333333333333333,
              "#9c179e"
             ],
             [
              0.4444444444444444,
              "#bd3786"
             ],
             [
              0.5555555555555556,
              "#d8576b"
             ],
             [
              0.6666666666666666,
              "#ed7953"
             ],
             [
              0.7777777777777778,
              "#fb9f3a"
             ],
             [
              0.8888888888888888,
              "#fdca26"
             ],
             [
              1,
              "#f0f921"
             ]
            ],
            "type": "surface"
           }
          ],
          "table": [
           {
            "cells": {
             "fill": {
              "color": "#EBF0F8"
             },
             "line": {
              "color": "white"
             }
            },
            "header": {
             "fill": {
              "color": "#C8D4E3"
             },
             "line": {
              "color": "white"
             }
            },
            "type": "table"
           }
          ]
         },
         "layout": {
          "annotationdefaults": {
           "arrowcolor": "#2a3f5f",
           "arrowhead": 0,
           "arrowwidth": 1
          },
          "coloraxis": {
           "colorbar": {
            "outlinewidth": 0,
            "ticks": ""
           }
          },
          "colorscale": {
           "diverging": [
            [
             0,
             "#8e0152"
            ],
            [
             0.1,
             "#c51b7d"
            ],
            [
             0.2,
             "#de77ae"
            ],
            [
             0.3,
             "#f1b6da"
            ],
            [
             0.4,
             "#fde0ef"
            ],
            [
             0.5,
             "#f7f7f7"
            ],
            [
             0.6,
             "#e6f5d0"
            ],
            [
             0.7,
             "#b8e186"
            ],
            [
             0.8,
             "#7fbc41"
            ],
            [
             0.9,
             "#4d9221"
            ],
            [
             1,
             "#276419"
            ]
           ],
           "sequential": [
            [
             0,
             "#0d0887"
            ],
            [
             0.1111111111111111,
             "#46039f"
            ],
            [
             0.2222222222222222,
             "#7201a8"
            ],
            [
             0.3333333333333333,
             "#9c179e"
            ],
            [
             0.4444444444444444,
             "#bd3786"
            ],
            [
             0.5555555555555556,
             "#d8576b"
            ],
            [
             0.6666666666666666,
             "#ed7953"
            ],
            [
             0.7777777777777778,
             "#fb9f3a"
            ],
            [
             0.8888888888888888,
             "#fdca26"
            ],
            [
             1,
             "#f0f921"
            ]
           ],
           "sequentialminus": [
            [
             0,
             "#0d0887"
            ],
            [
             0.1111111111111111,
             "#46039f"
            ],
            [
             0.2222222222222222,
             "#7201a8"
            ],
            [
             0.3333333333333333,
             "#9c179e"
            ],
            [
             0.4444444444444444,
             "#bd3786"
            ],
            [
             0.5555555555555556,
             "#d8576b"
            ],
            [
             0.6666666666666666,
             "#ed7953"
            ],
            [
             0.7777777777777778,
             "#fb9f3a"
            ],
            [
             0.8888888888888888,
             "#fdca26"
            ],
            [
             1,
             "#f0f921"
            ]
           ]
          },
          "colorway": [
           "#636efa",
           "#EF553B",
           "#00cc96",
           "#ab63fa",
           "#FFA15A",
           "#19d3f3",
           "#FF6692",
           "#B6E880",
           "#FF97FF",
           "#FECB52"
          ],
          "font": {
           "color": "#2a3f5f"
          },
          "geo": {
           "bgcolor": "white",
           "lakecolor": "white",
           "landcolor": "#E5ECF6",
           "showlakes": true,
           "showland": true,
           "subunitcolor": "white"
          },
          "hoverlabel": {
           "align": "left"
          },
          "hovermode": "closest",
          "mapbox": {
           "style": "light"
          },
          "paper_bgcolor": "white",
          "plot_bgcolor": "#E5ECF6",
          "polar": {
           "angularaxis": {
            "gridcolor": "white",
            "linecolor": "white",
            "ticks": ""
           },
           "bgcolor": "#E5ECF6",
           "radialaxis": {
            "gridcolor": "white",
            "linecolor": "white",
            "ticks": ""
           }
          },
          "scene": {
           "xaxis": {
            "backgroundcolor": "#E5ECF6",
            "gridcolor": "white",
            "gridwidth": 2,
            "linecolor": "white",
            "showbackground": true,
            "ticks": "",
            "zerolinecolor": "white"
           },
           "yaxis": {
            "backgroundcolor": "#E5ECF6",
            "gridcolor": "white",
            "gridwidth": 2,
            "linecolor": "white",
            "showbackground": true,
            "ticks": "",
            "zerolinecolor": "white"
           },
           "zaxis": {
            "backgroundcolor": "#E5ECF6",
            "gridcolor": "white",
            "gridwidth": 2,
            "linecolor": "white",
            "showbackground": true,
            "ticks": "",
            "zerolinecolor": "white"
           }
          },
          "shapedefaults": {
           "line": {
            "color": "#2a3f5f"
           }
          },
          "ternary": {
           "aaxis": {
            "gridcolor": "white",
            "linecolor": "white",
            "ticks": ""
           },
           "baxis": {
            "gridcolor": "white",
            "linecolor": "white",
            "ticks": ""
           },
           "bgcolor": "#E5ECF6",
           "caxis": {
            "gridcolor": "white",
            "linecolor": "white",
            "ticks": ""
           }
          },
          "title": {
           "x": 0.05
          },
          "xaxis": {
           "automargin": true,
           "gridcolor": "white",
           "linecolor": "white",
           "ticks": "",
           "title": {
            "standoff": 15
           },
           "zerolinecolor": "white",
           "zerolinewidth": 2
          },
          "yaxis": {
           "automargin": true,
           "gridcolor": "white",
           "linecolor": "white",
           "ticks": "",
           "title": {
            "standoff": 15
           },
           "zerolinecolor": "white",
           "zerolinewidth": 2
          }
         }
        },
        "title": {
         "text": "Relation between FPL points and player age"
        },
        "xaxis": {
         "autorange": true,
         "range": [
          3.48535752785,
          13.0146424722
         ],
         "title": {
          "text": "player age"
         },
         "type": "linear"
        },
        "yaxis": {
         "autorange": true,
         "range": [
          -17.5245518316,
          281.524551832
         ],
         "title": {
          "text": "fpl points"
         },
         "type": "linear"
        }
       }
      },
      "text/html": [
       "<div>                            <div id=\"3ede206f-3c8a-4cc4-8e39-fc1c2880131e\" class=\"plotly-graph-div\" style=\"height:525px; width:100%;\"></div>            <script type=\"text/javascript\">                require([\"plotly\"], function(Plotly) {                    window.PLOTLYENV=window.PLOTLYENV || {};                                    if (document.getElementById(\"3ede206f-3c8a-4cc4-8e39-fc1c2880131e\")) {                    Plotly.newPlot(                        \"3ede206f-3c8a-4cc4-8e39-fc1c2880131e\",                        [{\"marker\": {\"color\": \"red\", \"colorsrc\": \"Aldemuro:22:1a1899\"}, \"mode\": \"markers\", \"name\": \"fpl_points\", \"text\": [\"Alexis Sanchez, Club:Arsenal, Pos:LW\", \"Mesut Ozil, Club:Arsenal, Pos:AM\", \"Petr Cech, Club:Arsenal, Pos:GK\", \"Theo Walcott, Club:Arsenal, Pos:RW\", \"Laurent Koscielny, Club:Arsenal, Pos:CB\", \"Hector Bellerin, Club:Arsenal, Pos:RB\", \"Olivier Giroud, Club:Arsenal, Pos:CF\", \"Nacho Monreal, Club:Arsenal, Pos:LB\", \"Shkodran Mustafi, Club:Arsenal, Pos:CB\", \"Alex Iwobi, Club:Arsenal, Pos:LW\", \"Granit Xhaka, Club:Arsenal, Pos:DM\", \"Alex Oxlade-Chamberlain, Club:Arsenal, Pos:RM\", \"Jack Wilshere, Club:Arsenal, Pos:CM\", \"Aaron Ramsey, Club:Arsenal, Pos:CM\", \"Francis Coquelin, Club:Arsenal, Pos:DM\", \"Gabriel Paulista, Club:Arsenal, Pos:CB\", \"Kieran Gibbs, Club:Arsenal, Pos:LB\", \"Santi Cazorla, Club:Arsenal, Pos:CM\", \"Danny Welbeck, Club:Arsenal, Pos:CF\", \"Rob Holding, Club:Arsenal, Pos:CB\", \"Mohamed Elneny, Club:Arsenal, Pos:DM\", \"Lucas Perez, Club:Arsenal, Pos:CF\", \"Emiliano Martinez, Club:Arsenal, Pos:GK\", \"David Ospina, Club:Arsenal, Pos:GK\", \"Carl Jenkinson, Club:Arsenal, Pos:RB\", \"Per Mertesacker, Club:Arsenal, Pos:CB\", \"Sead Kolasinac, Club:Arsenal, Pos:LB\", \"Alexandre Lacazette, Club:Arsenal, Pos:CF\", \"Joshua King, Club:Bournemouth, Pos:SS\", \"Jermain Defoe, Club:Bournemouth, Pos:CF\", \"Charlie Daniels, Club:Bournemouth, Pos:LB\", \"Artur Boruc, Club:Bournemouth, Pos:GK\", \"Steve Cook, Club:Bournemouth, Pos:CB\", \"Junior Stanislas, Club:Bournemouth, Pos:LW\", \"Adam Smith, Club:Bournemouth, Pos:RB\", \"Ryan Fraser, Club:Bournemouth, Pos:LW\", \"Simon Francis, Club:Bournemouth, Pos:RB\", \"Benik Afobe, Club:Bournemouth, Pos:CF\", \"Harry Arter, Club:Bournemouth, Pos:CM\", \"Marc Pugh, Club:Bournemouth, Pos:LW\", \"Callum Wilson, Club:Bournemouth, Pos:CF\", \"Nathan Ake, Club:Bournemouth, Pos:CB\", \"Dan Gosling, Club:Bournemouth, Pos:CM\", \"Andrew Surman, Club:Bournemouth, Pos:CM\", \"Jordon Ibe, Club:Bournemouth, Pos:RW\", \"Lewis Cook, Club:Bournemouth, Pos:CM\", \"Lys Mousset, Club:Bournemouth, Pos:CF\", \"Adam Federici, Club:Bournemouth, Pos:GK\", \"Max Gradel, Club:Bournemouth, Pos:LW\", \"Tyrone Mings, Club:Bournemouth, Pos:CB\", \"Brad Smith, Club:Bournemouth, Pos:LB\", \"Asmir Begovic, Club:Bournemouth, Pos:GK\", \"Niki Maenpaa, Club:Brighton+and+Hove, Pos:GK\", \"Mathew Ryan, Club:Brighton+and+Hove, Pos:GK\", \"Lewis Dunk, Club:Brighton+and+Hove, Pos:CB\", \"Shane Duffy, Club:Brighton+and+Hove, Pos:CB\", \"Uwe Hunemeier, Club:Brighton+and+Hove, Pos:CB\", \"Bruno, Club:Brighton+and+Hove, Pos:RB\", \"Gaetan Bong, Club:Brighton+and+Hove, Pos:LB\", \"Liam Rosenior, Club:Brighton+and+Hove, Pos:RB\", \"Connor Goldson, Club:Brighton+and+Hove, Pos:CB\", \"Markus Suttner, Club:Brighton+and+Hove, Pos:LB\", \"Anthony Knockaert, Club:Brighton+and+Hove, Pos:RW\", \"Dale Stephens, Club:Brighton+and+Hove, Pos:CM\", \"Beram Kayal, Club:Brighton+and+Hove, Pos:CM\", \"Steve Sidwell, Club:Brighton+and+Hove, Pos:CM\", \"Solly March, Club:Brighton+and+Hove, Pos:RM\", \"Jiri Skalak, Club:Brighton+and+Hove, Pos:LW\", \"Oliver Norwood, Club:Brighton+and+Hove, Pos:CM\", \"Jamie Murphy, Club:Brighton+and+Hove, Pos:LW\", \"Pascal Gross, Club:Brighton+and+Hove, Pos:CM\", \"Glenn Murray, Club:Brighton+and+Hove, Pos:CF\", \"Tomer Hemed, Club:Brighton+and+Hove, Pos:CF\", \"Sam Baldock, Club:Brighton+and+Hove, Pos:CF\", \"Tom Heaton, Club:Burnley, Pos:GK\", \"Sam Vokes, Club:Burnley, Pos:CF\", \"Andre Gray, Club:Burnley, Pos:CF\", \"Ben Mee, Club:Burnley, Pos:CB\", \"Stephen Ward, Club:Burnley, Pos:LB\", \"Matthew Lowton, Club:Burnley, Pos:RB\", \"Ashley Barnes, Club:Burnley, Pos:CF\", \"Jeff Hendrick, Club:Burnley, Pos:CM\", \"Scott Arfield, Club:Burnley, Pos:LM\", \"Steven Defour, Club:Burnley, Pos:CM\", \"Dean Marney, Club:Burnley, Pos:CM\", \"Jack Cork, Club:Burnley, Pos:DM\", \"Johann Berg Gudmundsson, Club:Burnley, Pos:RW\", \"Robbie Brady, Club:Burnley, Pos:LM\", \"James Tarkowski, Club:Burnley, Pos:CB\", \"Ashley Westwood, Club:Burnley, Pos:DM\", \"Kevin Long, Club:Burnley, Pos:CB\", \"Matthew Taylor, Club:Burnley, Pos:LM\", \"Eden Hazard, Club:Chelsea, Pos:LW\", \"Diego Costa, Club:Chelsea, Pos:CF\", \"Gary Cahill, Club:Chelsea, Pos:CB\", \"Marcos Alonso Mendoza, Club:Chelsea, Pos:LB\", \"Cesar Azpilicueta, Club:Chelsea, Pos:RB\", \"Pedro, Club:Chelsea, Pos:RW\", \"Thibaut Courtois, Club:Chelsea, Pos:GK\", \"David Luiz, Club:Chelsea, Pos:CB\", \"Cesc Fabregas, Club:Chelsea, Pos:CM\", \"Willian, Club:Chelsea, Pos:RW\", \"Victor Moses, Club:Chelsea, Pos:RM\", \"Nemanja Matic, Club:Chelsea, Pos:DM\", \"N%27Golo Kante, Club:Chelsea, Pos:DM\", \"Willy Caballero, Club:Chelsea, Pos:GK\", \"Michy Batshuayi, Club:Chelsea, Pos:CF\", \"Kurt Zouma, Club:Chelsea, Pos:CB\", \"Kenedy, Club:Chelsea, Pos:LB\", \"Eduardo Carvalho, Club:Chelsea, Pos:LW\", \"Antonio Rudiger, Club:Chelsea, Pos:CB\", \"Tiemoue Bakayoko, Club:Chelsea, Pos:DM\", \"Wilfried Zaha, Club:Crystal+Palace, Pos:RW\", \"Christian Benteke, Club:Crystal+Palace, Pos:CF\", \"Andros Townsend, Club:Crystal+Palace, Pos:RW\", \"Patrick van Aanholt, Club:Crystal+Palace, Pos:LB\", \"James McArthur, Club:Crystal+Palace, Pos:CM\", \"Wayne Hennessey, Club:Crystal+Palace, Pos:GK\", \"Jason Puncheon, Club:Crystal+Palace, Pos:AM\", \"Yohan Cabaye, Club:Crystal+Palace, Pos:CM\", \"Joel Ward, Club:Crystal+Palace, Pos:RB\", \"James Tomkins, Club:Crystal+Palace, Pos:CB\", \"Scott Dann, Club:Crystal+Palace, Pos:CB\", \"Damien Delaney, Club:Crystal+Palace, Pos:CB\", \"Jeffrey Schlupp, Club:Crystal+Palace, Pos:LB\", \"Martin Kelly, Club:Crystal+Palace, Pos:RB\", \"Luka Milivojevic, Club:Crystal+Palace, Pos:DM\", \"Lee Chung-yong, Club:Crystal+Palace, Pos:RW\", \"Connor Wickham, Club:Crystal+Palace, Pos:CF\", \"Bakary Sako, Club:Crystal+Palace, Pos:LW\", \"Pape Souare, Club:Crystal+Palace, Pos:LB\", \"Ruben Loftus-Cheek, Club:Crystal+Palace, Pos:CM\", \"Julian Speroni, Club:Crystal+Palace, Pos:GK\", \"Ross Barkley, Club:Everton, Pos:AM\", \"Leighton Baines, Club:Everton, Pos:LB\", \"Seamus Coleman, Club:Everton, Pos:RB\", \"Ashley Williams, Club:Everton, Pos:CB\", \"Kevin Mirallas, Club:Everton, Pos:RW\", \"Michael Keane, Club:Everton, Pos:CB\", \"Phil Jagielka, Club:Everton, Pos:CB\", \"Jordan Pickford, Club:Everton, Pos:GK\", \"Joel Robles, Club:Everton, Pos:GK\", \"Idrissa Gueye, Club:Everton, Pos:CM\", \"Wayne Rooney, Club:Everton, Pos:SS\", \"Ramiro Funes Mori, Club:Everton, Pos:CB\", \"Maarten Stekelenburg, Club:Everton, Pos:GK\", \"Gareth Barry, Club:Everton, Pos:DM\", \"Tom Davies, Club:Everton, Pos:CM\", \"Mason Holgate, Club:Everton, Pos:CB\", \"Yannick Bolasie, Club:Everton, Pos:LW\", \"Morgan Schneiderlin, Club:Everton, Pos:DM\", \"Cuco Martina, Club:Everton, Pos:RB\", \"James McCarthy, Club:Everton, Pos:CM\", \"Aaron Lennon, Club:Everton, Pos:RW\", \"Dominic Calvert-Lewin, Club:Everton, Pos:SS\", \"Ademola Lookman, Club:Everton, Pos:LW\", \"Matthew Pennington, Club:Everton, Pos:CB\", \"Jonjoe Kenny, Club:Everton, Pos:RB\", \"Muhamed Besic, Club:Everton, Pos:DM\", \"Davy Klaassen, Club:Everton, Pos:AM\", \"Sandro Ramirez, Club:Everton, Pos:CF\", \"Joel Coleman, Club:Huddersfield, Pos:GK\", \"Jonas Lossl, Club:Huddersfield, Pos:GK\", \"Christopher Schindler, Club:Huddersfield, Pos:CB\", \"Chris Lowe, Club:Huddersfield, Pos:LB\", \"Tommy Smith, Club:Huddersfield, Pos:RB\", \"Michael Hefele, Club:Huddersfield, Pos:CB\", \"Martin Cranie, Club:Huddersfield, Pos:CB\", \"Jon Gorenc Stankovic, Club:Huddersfield, Pos:CB\", \"Mark Hudson, Club:Huddersfield, Pos:CB\", \"Mathias Jorgensen, Club:Huddersfield, Pos:CB\", \"Scott Malone, Club:Huddersfield, Pos:LB\", \"Aaron Mooy, Club:Huddersfield, Pos:CM\", \"Rajiv van La Parra, Club:Huddersfield, Pos:LW\", \"Jonathan Hogg, Club:Huddersfield, Pos:CM\", \"Philip Billing, Club:Huddersfield, Pos:CM\", \"Joe Lolley, Club:Huddersfield, Pos:RW\", \"Jack Payne, Club:Huddersfield, Pos:CM\", \"Dean Whitehead, Club:Huddersfield, Pos:CM\", \"Harry Bunn, Club:Huddersfield, Pos:LW\", \"Sean Scannell, Club:Huddersfield, Pos:RW\", \"Elias Kachunga, Club:Huddersfield, Pos:RW\", \"Tom Ince, Club:Huddersfield, Pos:RW\", \"Kasey Palmer, Club:Huddersfield, Pos:AM\", \"Andy Williams, Club:Huddersfield, Pos:CB\", \"Nahki Wells, Club:Huddersfield, Pos:CF\", \"Collin Quaner, Club:Huddersfield, Pos:CF\", \"Laurent Depoitre, Club:Huddersfield, Pos:CF\", \"Steve Mounie, Club:Huddersfield, Pos:CF\", \"Jamie Vardy, Club:Leicester+City, Pos:CF\", \"Riyad Mahrez, Club:Leicester+City, Pos:RW\", \"Kasper Schmeichel, Club:Leicester+City, Pos:GK\", \"Christian Fuchs, Club:Leicester+City, Pos:LB\", \"Marc Albrighton, Club:Leicester+City, Pos:LM\", \"Robert Huth, Club:Leicester+City, Pos:CB\", \"Danny Simpson, Club:Leicester+City, Pos:RB\", \"Islam Slimani, Club:Leicester+City, Pos:CF\", \"Harry Maguire, Club:Leicester+City, Pos:CB\", \"Danny Drinkwater, Club:Leicester+City, Pos:CM\", \"Wes Morgan, Club:Leicester+City, Pos:CB\", \"Shinji Okazaki, Club:Leicester+City, Pos:CF\", \"Wilfred Ndidi, Club:Leicester+City, Pos:DM\", \"Demarai Gray, Club:Leicester+City, Pos:LW\", \"Daniel Amartey, Club:Leicester+City, Pos:DM\", \"Andy King, Club:Leicester+City, Pos:CM\", \"Ahmed Musa, Club:Leicester+City, Pos:CF\", \"Yohan Benalouane, Club:Leicester+City, Pos:CB\", \"Leonardo Ulloa, Club:Leicester+City, Pos:CF\", \"Ben Chilwell, Club:Leicester+City, Pos:LB\", \"Nampalys Mendy, Club:Leicester+City, Pos:DM\", \"Ben Hamer, Club:Leicester+City, Pos:GK\", \"Molla Wague, Club:Leicester+City, Pos:CB\", \"Vicente Iborra, Club:Leicester+City, Pos:DM\", \"Roberto Firmino, Club:Liverpool, Pos:SS\", \"Philippe Coutinho, Club:Liverpool, Pos:AM\", \"Sadio Mane, Club:Liverpool, Pos:LW\", \"Georginio Wijnaldum, Club:Liverpool, Pos:CM\", \"James Milner, Club:Liverpool, Pos:CM\", \"Adam Lallana, Club:Liverpool, Pos:AM\", \"Nathaniel Clyne, Club:Liverpool, Pos:RB\", \"Simon Mignolet, Club:Liverpool, Pos:GK\", \"Dejan Lovren, Club:Liverpool, Pos:CB\", \"Emre Can, Club:Liverpool, Pos:DM\", \"Joel Matip, Club:Liverpool, Pos:CB\", \"Divock Origi, Club:Liverpool, Pos:CF\", \"Jordan Henderson, Club:Liverpool, Pos:CM\", \"Daniel Sturridge, Club:Liverpool, Pos:CF\", \"Lucas Leiva, Club:Liverpool, Pos:DM\", \"Ragnar Klavan, Club:Liverpool, Pos:CB\", \"Mamadou Sakho, Club:Liverpool, Pos:CB\", \"Loris Karius, Club:Liverpool, Pos:GK\", \"Trent Alexander-Arnold, Club:Liverpool, Pos:RB\", \"Alberto Moreno, Club:Liverpool, Pos:LB\", \"Ben Woodburn, Club:Liverpool, Pos:LW\", \"Marko Grujic, Club:Liverpool, Pos:CM\", \"Joe Gomez, Club:Liverpool, Pos:CB\", \"Sheyi Ojo, Club:Liverpool, Pos:LW\", \"Mohamed Salah, Club:Liverpool, Pos:RW\", \"Danny Ings, Club:Liverpool, Pos:CF\", \"Dominic Solanke, Club:Liverpool, Pos:CF\", \"Kevin De Bruyne, Club:Manchester+City, Pos:AM\", \"Sergio Aguero, Club:Manchester+City, Pos:CF\", \"Raheem Sterling, Club:Manchester+City, Pos:LW\", \"Kyle Walker, Club:Manchester+City, Pos:RB\", \"David Silva, Club:Manchester+City, Pos:AM\", \"Leroy Sane, Club:Manchester+City, Pos:LW\", \"Nicolas Otamendi, Club:Manchester+City, Pos:CB\", \"Aleksandar Kolarov, Club:Manchester+City, Pos:LB\", \"Yaya Toure, Club:Manchester+City, Pos:CM\", \"Fernandinho, Club:Manchester+City, Pos:DM\", \"Claudio Bravo, Club:Manchester+City, Pos:GK\", \"Gabriel Jesus, Club:Manchester+City, Pos:CF\", \"John Stones, Club:Manchester+City, Pos:CB\", \"Vincent Kompany, Club:Manchester+City, Pos:CB\", \"Kelechi Iheanacho, Club:Manchester+City, Pos:CF\", \"Ilkay Gundogan, Club:Manchester+City, Pos:CM\", \"Fernando, Club:Manchester+City, Pos:DM\", \"Fabian Delph, Club:Manchester+City, Pos:CM\", \"Ederson Moraes, Club:Manchester+City, Pos:GK\", \"Bernardo Silva, Club:Manchester+City, Pos:RW\", \"Romelu Lukaku, Club:Manchester+United, Pos:CF\", \"David de Gea, Club:Manchester+United, Pos:GK\", \"Antonio Valencia, Club:Manchester+United, Pos:RB\", \"Paul Pogba, Club:Manchester+United, Pos:CM\", \"Eric Bailly, Club:Manchester+United, Pos:CB\", \"Juan Mata, Club:Manchester+United, Pos:AM\", \"Daley Blind, Club:Manchester+United, Pos:LB\", \"Ander Herrera, Club:Manchester+United, Pos:CM\", \"Anthony Martial, Club:Manchester+United, Pos:CF\", \"Marcos Rojo, Club:Manchester+United, Pos:CB\", \"Marcus Rashford, Club:Manchester+United, Pos:CF\", \"Henrikh Mkhitaryan, Club:Manchester+United, Pos:AM\", \"Matteo Darmian, Club:Manchester+United, Pos:RB\", \"Jesse Lingard, Club:Manchester+United, Pos:LW\", \"Phil Jones, Club:Manchester+United, Pos:CB\", \"Chris Smalling, Club:Manchester+United, Pos:CB\", \"Marouane Fellaini, Club:Manchester+United, Pos:CM\", \"Luke Shaw, Club:Manchester+United, Pos:LB\", \"Michael Carrick, Club:Manchester+United, Pos:DM\", \"Ashley Young, Club:Manchester+United, Pos:LM\", \"Sergio Romero, Club:Manchester+United, Pos:GK\", \"Axel Tuanzebe, Club:Manchester+United, Pos:CB\", \"Timothy Fosu-Mensah, Club:Manchester+United, Pos:DM\", \"Joel Castro Pereira, Club:Manchester+United, Pos:GK\", \"Victor Lindelof, Club:Manchester+United, Pos:CB\", \"Rob Elliot, Club:Newcastle+United, Pos:GK\", \"Karl Darlow, Club:Newcastle+United, Pos:GK\", \"DeAndre Yedlin, Club:Newcastle+United, Pos:RB\", \"Ciaran Clark, Club:Newcastle+United, Pos:CB\", \"Lascelles, Club:Newcastle+United, Pos:CB\", \"Paul Dummett, Club:Newcastle+United, Pos:LB\", \"Grant Hanley, Club:Newcastle+United, Pos:CB\", \"Jesus Gamez, Club:Newcastle+United, Pos:RB\", \"Florian Lejeune, Club:Newcastle+United, Pos:CB\", \"Massadio Haidara, Club:Newcastle+United, Pos:LB\", \"Matt Ritchie, Club:Newcastle+United, Pos:RM\", \"Jonjo Shelvey, Club:Newcastle+United, Pos:CM\", \"Mohamed Diame, Club:Newcastle+United, Pos:CM\", \"Jack Colback, Club:Newcastle+United, Pos:DM\", \"Christian Atsu, Club:Newcastle+United, Pos:RW\", \"Siem de Jong, Club:Newcastle+United, Pos:AM\", \"Rolando Aarons, Club:Newcastle+United, Pos:LW\", \"Dwight Gayle, Club:Newcastle+United, Pos:CF\", \"Ayoze Perez, Club:Newcastle+United, Pos:SS\", \"Aleksandar Mitrovic, Club:Newcastle+United, Pos:CF\", \"Daryl Murphy, Club:Newcastle+United, Pos:CF\", \"Fraser Forster, Club:Southampton, Pos:GK\", \"Nathan Redmond, Club:Southampton, Pos:RW\", \"Ryan Bertrand, Club:Southampton, Pos:LB\", \"Du\\u00c5\\u00a1an Tadi\\u00c4\\u2021, Club:Southampton, Pos:LW\", \"Cedric Soares, Club:Southampton, Pos:RB\", \"James Ward-Prowse, Club:Southampton, Pos:CM\", \"Oriol Romeu, Club:Southampton, Pos:DM\", \"Maya Yoshida, Club:Southampton, Pos:CB\", \"Steven Davis, Club:Southampton, Pos:CM\", \"Virgil van Dijk, Club:Southampton, Pos:CB\", \"Charlie Austin, Club:Southampton, Pos:CF\", \"Jack Stephens, Club:Southampton, Pos:CB\", \"Shane Long, Club:Southampton, Pos:CF\", \"Sofiane Boufal, Club:Southampton, Pos:AM\", \"Jordy Clasie, Club:Southampton, Pos:DM\", \"Pierre-Emile Hojbjerg, Club:Southampton, Pos:CM\", \"Manolo Gabbiadini, Club:Southampton, Pos:CF\", \"Sam McQueen, Club:Southampton, Pos:LM\", \"Matt Targett, Club:Southampton, Pos:LB\", \"Josh Sims, Club:Southampton, Pos:RW\", \"Jeremy Pied, Club:Southampton, Pos:RM\", \"Jason McCarthy, Club:Southampton, Pos:CB\", \"Jan Bednarek, Club:Southampton, Pos:CB\", \"Joe Allen, Club:Stoke+City, Pos:CM\", \"Marko Arnautovi\\u00c4\\u2021, Club:Stoke+City, Pos:LW\", \"Lee Grant, Club:Stoke+City, Pos:GK\", \"Erik Pieters, Club:Stoke+City, Pos:LB\", \"Steven Fletcher, Club:Stoke+City, Pos:CF\", \"Ryan Shawcross, Club:Stoke+City, Pos:CB\", \"Xherdan Shaqiri, Club:Stoke+City, Pos:RW\", \"Peter Crouch, Club:Stoke+City, Pos:CF\", \"Glenn Whelan, Club:Stoke+City, Pos:DM\", \"Charlie Adam, Club:Stoke+City, Pos:CM\", \"Geoff Cameron, Club:Stoke+City, Pos:CB\", \"Glen Johnson, Club:Stoke+City, Pos:RB\", \"Mame Biram Diouf, Club:Stoke+City, Pos:CF\", \"Ramadan Sobhi, Club:Stoke+City, Pos:LW\", \"Marc Muniesa, Club:Stoke+City, Pos:CB\", \"Bojan Krki\\u00c4\\u2021, Club:Stoke+City, Pos:SS\", \"Phil Bardsley, Club:Stoke+City, Pos:RB\", \"Saido Berahino, Club:Stoke+City, Pos:CF\", \"Giannelli Imbula, Club:Stoke+City, Pos:DM\", \"Jack Butland, Club:Stoke+City, Pos:GK\", \"Ibrahim Afellay, Club:Stoke+City, Pos:LM\", \"Josh Tymon, Club:Stoke+City, Pos:LB\", \"Gylfi Sigurdsson, Club:Swansea, Pos:AM\", \"Fernando Llorente, Club:Swansea, Pos:CF\", \"\\u00c5\\u0081ukasz Fabia\\u00c5\\u201eski, Club:Swansea, Pos:GK\", \"Leroy Fer, Club:Swansea, Pos:CM\", \"Alfie Mawson, Club:Swansea, Pos:CB\", \"Kyle Naughton, Club:Swansea, Pos:RB\", \"Wayne Routledge, Club:Swansea, Pos:LW\", \"Federico Fernandez, Club:Swansea, Pos:CB\", \"Martin Olsson, Club:Swansea, Pos:LB\", \"Tom Carroll, Club:Swansea, Pos:CM\", \"Ki Sung-yueng, Club:Swansea, Pos:DM\", \"Jordan Ayew, Club:Swansea, Pos:CF\", \"Modou Barrow, Club:Swansea, Pos:RW\", \"Leon Britton, Club:Swansea, Pos:CM\", \"Stephen Kingsley, Club:Swansea, Pos:LB\", \"\\u00c3\\u20acngel Rangel, Club:Swansea, Pos:RB\", \"Luciano Narsingh, Club:Swansea, Pos:RW\", \"Jay Fulton, Club:Swansea, Pos:CM\", \"Jefferson Montero, Club:Swansea, Pos:LW\", \"Mike van der Hoorn, Club:Swansea, Pos:CB\", \"Nathan Dyer, Club:Swansea, Pos:RW\", \"Oliver McBurnie, Club:Swansea, Pos:CF\", \"Kristoffer Nordfeldt, Club:Swansea, Pos:GK\", \"Roque Mesa, Club:Swansea, Pos:CM\", \"Tammy Abraham, Club:Swansea, Pos:CF\", \"Dele Alli, Club:Tottenham, Pos:CM\", \"Harry Kane, Club:Tottenham, Pos:CF\", \"Christian Eriksen, Club:Tottenham, Pos:AM\", \"Son Heung-min, Club:Tottenham, Pos:LW\", \"Hugo Lloris, Club:Tottenham, Pos:GK\", \"Jan Vertonghen, Club:Tottenham, Pos:CB\", \"Toby Alderweireld, Club:Tottenham, Pos:CB\", \"Victor Wanyama, Club:Tottenham, Pos:DM\", \"Eric Dier, Club:Tottenham, Pos:DM\", \"Ben Davies, Club:Tottenham, Pos:LB\", \"Danny Rose, Club:Tottenham, Pos:LB\", \"Mousa Dembele, Club:Tottenham, Pos:CM\", \"Vincent Janssen, Club:Tottenham, Pos:CF\", \"Kieran Trippier, Club:Tottenham, Pos:RB\", \"Moussa Sissokho, Club:Tottenham, Pos:CM\", \"Harry Winks, Club:Tottenham, Pos:CM\", \"Erik Lamela, Club:Tottenham, Pos:RW\", \"Michel Vorm, Club:Tottenham, Pos:GK\", \"Georges-Kevin N%27Koudou, Club:Tottenham, Pos:LW\", \"Kevin Wimmer, Club:Tottenham, Pos:CB\", \"\\u00c3\\u2030tienne Capoue, Club:Watford, Pos:DM\", \"Troy Deeney, Club:Watford, Pos:CF\", \"Heurelho Gomes, Club:Watford, Pos:GK\", \"Jose Holebas, Club:Watford, Pos:LB\", \"Miguel Britos, Club:Watford, Pos:CB\", \"Sebastian Prodl, Club:Watford, Pos:CB\", \"Nordin Amrabat, Club:Watford, Pos:LW\", \"Youn\\u00c3\\u00a8s Kaboul, Club:Watford, Pos:CB\", \"Tom Cleverley, Club:Watford, Pos:CM\", \"Daryl Janmaat, Club:Watford, Pos:RB\", \"Valon Behrami, Club:Watford, Pos:DM\", \"Roberto Pereyra, Club:Watford, Pos:AM\", \"Stefano Okaka, Club:Watford, Pos:CF\", \"Abdoulaye Doucoure, Club:Watford, Pos:CM\", \"Kabasele, Club:Watford, Pos:CB\", \"Craig Cathcart, Club:Watford, Pos:CB\", \"Isaac Success, Club:Watford, Pos:LW\", \"Adrian Mariappa, Club:Watford, Pos:CB\", \"Nathaniel Chalobah, Club:Watford, Pos:DM\", \"Mauro Zarate, Club:Watford, Pos:SS\", \"Costel Pantilimon, Club:Watford, Pos:GK\", \"Kiko Femenia, Club:Watford, Pos:RB\", \"Steven Berghuis, Club:Watford, Pos:RW\", \"Will Hughes, Club:Watford, Pos:CM\", \"Gareth McAuley, Club:West+Brom, Pos:CB\", \"Salomon Rondon, Club:West+Brom, Pos:CF\", \"Matt Phillips, Club:West+Brom, Pos:RW\", \"Ben Foster, Club:West+Brom, Pos:GK\", \"Nacer Chadli, Club:West+Brom, Pos:LW\", \"Craig Dawson, Club:West+Brom, Pos:RB\", \"Chris Brunt, Club:West+Brom, Pos:LM\", \"James Morrison, Club:West+Brom, Pos:CM\", \"Jonny Evans, Club:West+Brom, Pos:CB\", \"Jake Livermore, Club:West+Brom, Pos:DM\", \"Allan Nyom, Club:West+Brom, Pos:RB\", \"Jay Rodriguez, Club:West+Brom, Pos:CF\", \"Claudio Yacob, Club:West+Brom, Pos:DM\", \"James McClean, Club:West+Brom, Pos:LW\", \"Hal Robson-Kanu, Club:West+Brom, Pos:LW\", \"Jonathan Leko, Club:West+Brom, Pos:RW\", \"Sam Field, Club:West+Brom, Pos:CM\", \"Boaz Myhill, Club:West+Brom, Pos:GK\", \"Ahmed Hegazy, Club:West+Brom, Pos:CB\", \"Robert Snodgrass, Club:West+Ham, Pos:RW\", \"Manuel Lanzini, Club:West+Ham, Pos:AM\", \"Michail Antonio, Club:West+Ham, Pos:RW\", \"Winston Reid, Club:West+Ham, Pos:CB\", \"Jose Fonte, Club:West+Ham, Pos:CB\", \"Andre Ayew, Club:West+Ham, Pos:LW\", \"Cheikhou Kouyate, Club:West+Ham, Pos:DM\", \"Mark Noble, Club:West+Ham, Pos:CM\", \"Darren Randolph, Club:West+Ham, Pos:GK\", \"James Collins, Club:West+Ham, Pos:CB\", \"Andy Carroll, Club:West+Ham, Pos:CF\", \"Adrian, Club:West+Ham, Pos:GK\", \"Aaron Cresswell, Club:West+Ham, Pos:LB\", \"Pedro Obiang, Club:West+Ham, Pos:CM\", \"Sofiane Feghouli, Club:West+Ham, Pos:RW\", \"Angelo Ogbonna, Club:West+Ham, Pos:CB\", \"Pablo Zabaleta, Club:West+Ham, Pos:RB\", \"Edimilson Fernandes, Club:West+Ham, Pos:CM\", \"Arthur Masuaku, Club:West+Ham, Pos:LB\", \"Sam Byram, Club:West+Ham, Pos:RB\", \"Ashley Fletcher, Club:West+Ham, Pos:CF\", \"Diafra Sakho, Club:West+Ham, Pos:CF\"], \"type\": \"scatter\", \"uid\": \"0d217c\", \"x\": [28, 28, 35, 28, 31, 22, 30, 31, 25, 21, 24, 23, 25, 26, 26, 26, 27, 32, 26, 21, 25, 28, 24, 28, 25, 32, 24, 26, 25, 34, 30, 37, 26, 27, 26, 23, 32, 24, 27, 30, 25, 22, 27, 30, 21, 20, 21, 32, 29, 24, 23, 30, 32, 25, 25, 25, 31, 36, 29, 33, 24, 30, 25, 27, 29, 34, 23, 25, 26, 27, 26, 33, 30, 28, 31, 27, 26, 27, 31, 28, 27, 25, 28, 29, 33, 28, 26, 25, 24, 27, 26, 35, 26, 28, 31, 26, 27, 29, 25, 30, 30, 28, 26, 28, 26, 35, 23, 22, 21, 34, 24, 22, 24, 26, 26, 26, 29, 30, 31, 31, 27, 28, 30, 36, 24, 27, 26, 29, 24, 29, 27, 21, 38, 23, 32, 28, 32, 29, 24, 34, 23, 27, 27, 31, 26, 34, 36, 19, 20, 28, 27, 27, 26, 30, 20, 19, 22, 20, 24, 24, 22, 21, 28, 27, 28, 25, 26, 30, 21, 35, 27, 26, 26, 26, 28, 21, 24, 25, 35, 24, 26, 25, 25, 20, 26, 27, 26, 28, 22, 30, 26, 30, 31, 27, 32, 30, 29, 24, 27, 33, 31, 20, 21, 22, 28, 24, 30, 30, 20, 25, 29, 26, 29, 25, 25, 25, 26, 31, 29, 26, 29, 28, 23, 25, 22, 27, 27, 30, 31, 27, 24, 18, 25, 17, 21, 20, 20, 25, 24, 19, 26, 29, 22, 27, 31, 21, 29, 31, 34, 32, 34, 20, 23, 31, 20, 26, 32, 27, 23, 22, 24, 26, 31, 24, 23, 29, 27, 27, 21, 27, 19, 28, 27, 24, 25, 27, 29, 22, 35, 32, 30, 19, 19, 21, 23, 31, 26, 24, 27, 27, 25, 25, 32, 26, 24, 27, 25, 30, 27, 25, 28, 21, 26, 23, 22, 34, 29, 23, 27, 28, 25, 22, 25, 28, 32, 26, 28, 23, 30, 23, 26, 21, 25, 22, 21, 20, 28, 21, 21, 27, 28, 34, 28, 30, 29, 25, 36, 33, 31, 32, 32, 29, 20, 25, 26, 32, 23, 24, 24, 31, 18, 27, 32, 32, 27, 23, 28, 32, 28, 29, 25, 28, 25, 24, 34, 22, 34, 26, 23, 27, 24, 29, 21, 28, 28, 19, 21, 23, 25, 25, 30, 30, 28, 26, 23, 24, 27, 30, 23, 26, 27, 21, 25, 33, 22, 24, 29, 29, 36, 33, 32, 30, 30, 31, 27, 27, 32, 26, 27, 24, 26, 28, 21, 30, 22, 30, 30, 26, 25, 22, 37, 27, 26, 34, 27, 27, 32, 31, 29, 27, 29, 27, 30, 28, 28, 18, 19, 34, 26, 29, 24, 27, 29, 33, 27, 27, 30, 30, 33, 28, 30, 27, 25, 27, 29, 32, 21, 23, 23, 21, 27], \"xsrc\": \"Aldemuro:22:d61533\", \"y\": [264, 167, 134, 122, 121, 119, 116, 115, 90, 89, 85, 83, 61, 56, 52, 45, 45, 38, 37, 32, 26, 20, 8, 2, 2, 1, 0, 0, 178, 166, 134, 120, 112, 107, 104, 100, 89, 88, 84, 64, 63, 55, 49, 44, 36, 17, 14, 8, 8, 4, 4, 2, 0, 0, 0, 0, 0, 0, 0, 0, 0, 0, 0, 0, 0, 0, 0, 0, 0, 0, 0, 0, 0, 0, 149, 121, 108, 94, 91, 90, 81, 76, 69, 54, 51, 50, 47, 39, 23, 13, 3, 0, 224, 196, 178, 177, 170, 162, 141, 132, 121, 114, 105, 105, 83, 64, 48, 15, 3, 0, 0, 0, 149, 136, 116, 98, 93, 92, 92, 91, 86, 75, 61, 51, 47, 46, 42, 24, 18, 7, 6, 6, 0, 144, 135, 133, 127, 119, 113, 104, 102, 89, 80, 76, 69, 68, 68, 63, 54, 45, 37, 31, 23, 22, 17, 16, 9, 1, 0, 0, 0, 0, 0, 0, 0, 0, 0, 0, 0, 0, 0, 0, 0, 0, 0, 0, 0, 0, 0, 0, 0, 0, 0, 0, 0, 0, 0, 0, 0, 161, 120, 109, 104, 95, 88, 85, 83, 71, 69, 63, 63, 59, 58, 53, 41, 39, 27, 24, 19, 6, 0, 0, 0, 180, 171, 156, 149, 139, 139, 129, 110, 106, 104, 97, 96, 73, 54, 47, 43, 35, 32, 15, 8, 5, 4, 0, 0, 0, 0, 0, 199, 175, 149, 142, 130, 105, 100, 95, 86, 78, 73, 67, 59, 57, 52, 41, 18, 13, 0, 0, 221, 136, 120, 115, 105, 102, 98, 97, 95, 77, 76, 73, 70, 60, 55, 52, 48, 45, 42, 26, 23, 14, 9, 6, 0, 0, 0, 0, 0, 0, 0, 0, 0, 0, 0, 0, 0, 0, 0, 0, 0, 0, 0, 0, 0, 0, 134, 126, 123, 108, 102, 92, 80, 78, 77, 75, 62, 60, 57, 40, 38, 38, 38, 23, 12, 12, 5, 0, 0, 118, 117, 106, 103, 103, 94, 80, 79, 62, 59, 58, 56, 51, 36, 34, 30, 27, 26, 24, 20, 15, 9, 181, 146, 116, 95, 94, 82, 74, 63, 52, 52, 41, 39, 34, 32, 29, 26, 25, 19, 18, 16, 12, 5, 3, 0, 0, 225, 224, 218, 174, 143, 126, 120, 103, 93, 90, 84, 76, 55, 51, 43, 30, 28, 17, 8, 2, 131, 130, 113, 87, 71, 67, 65, 57, 55, 50, 48, 43, 43, 38, 35, 31, 28, 15, 12, 8, 2, 0, 0, 0, 131, 118, 115, 113, 110, 102, 99, 84, 79, 77, 74, 73, 54, 52, 52, 12, 9, 0, 0, 133, 133, 132, 102, 98, 89, 79, 71, 69, 69, 69, 64, 60, 55, 55, 45, 45, 38, 34, 29, 16, 12], \"ysrc\": \"Aldemuro:22:1c3243\"}],                        {\"autosize\": true, \"hovermode\": \"closest\", \"template\": {\"data\": {\"bar\": [{\"error_x\": {\"color\": \"#2a3f5f\"}, \"error_y\": {\"color\": \"#2a3f5f\"}, \"marker\": {\"line\": {\"color\": \"#E5ECF6\", \"width\": 0.5}}, \"type\": \"bar\"}], \"barpolar\": [{\"marker\": {\"line\": {\"color\": \"#E5ECF6\", \"width\": 0.5}}, \"type\": \"barpolar\"}], \"carpet\": [{\"aaxis\": {\"endlinecolor\": \"#2a3f5f\", \"gridcolor\": \"white\", \"linecolor\": \"white\", \"minorgridcolor\": \"white\", \"startlinecolor\": \"#2a3f5f\"}, \"baxis\": {\"endlinecolor\": \"#2a3f5f\", \"gridcolor\": \"white\", \"linecolor\": \"white\", \"minorgridcolor\": \"white\", \"startlinecolor\": \"#2a3f5f\"}, \"type\": \"carpet\"}], \"choropleth\": [{\"colorbar\": {\"outlinewidth\": 0, \"ticks\": \"\"}, \"type\": \"choropleth\"}], \"contour\": [{\"colorbar\": {\"outlinewidth\": 0, \"ticks\": \"\"}, \"colorscale\": [[0.0, \"#0d0887\"], [0.1111111111111111, \"#46039f\"], [0.2222222222222222, \"#7201a8\"], [0.3333333333333333, \"#9c179e\"], [0.4444444444444444, \"#bd3786\"], [0.5555555555555556, \"#d8576b\"], [0.6666666666666666, \"#ed7953\"], [0.7777777777777778, \"#fb9f3a\"], [0.8888888888888888, \"#fdca26\"], [1.0, \"#f0f921\"]], \"type\": \"contour\"}], \"contourcarpet\": [{\"colorbar\": {\"outlinewidth\": 0, \"ticks\": \"\"}, \"type\": \"contourcarpet\"}], \"heatmap\": [{\"colorbar\": {\"outlinewidth\": 0, \"ticks\": \"\"}, \"colorscale\": [[0.0, \"#0d0887\"], [0.1111111111111111, \"#46039f\"], [0.2222222222222222, \"#7201a8\"], [0.3333333333333333, \"#9c179e\"], [0.4444444444444444, \"#bd3786\"], [0.5555555555555556, \"#d8576b\"], [0.6666666666666666, \"#ed7953\"], [0.7777777777777778, \"#fb9f3a\"], [0.8888888888888888, \"#fdca26\"], [1.0, \"#f0f921\"]], \"type\": \"heatmap\"}], \"heatmapgl\": [{\"colorbar\": {\"outlinewidth\": 0, \"ticks\": \"\"}, \"colorscale\": [[0.0, \"#0d0887\"], [0.1111111111111111, \"#46039f\"], [0.2222222222222222, \"#7201a8\"], [0.3333333333333333, \"#9c179e\"], [0.4444444444444444, \"#bd3786\"], [0.5555555555555556, \"#d8576b\"], [0.6666666666666666, \"#ed7953\"], [0.7777777777777778, \"#fb9f3a\"], [0.8888888888888888, \"#fdca26\"], [1.0, \"#f0f921\"]], \"type\": \"heatmapgl\"}], \"histogram\": [{\"marker\": {\"colorbar\": {\"outlinewidth\": 0, \"ticks\": \"\"}}, \"type\": \"histogram\"}], \"histogram2d\": [{\"colorbar\": {\"outlinewidth\": 0, \"ticks\": \"\"}, \"colorscale\": [[0.0, \"#0d0887\"], [0.1111111111111111, \"#46039f\"], [0.2222222222222222, \"#7201a8\"], [0.3333333333333333, \"#9c179e\"], [0.4444444444444444, \"#bd3786\"], [0.5555555555555556, \"#d8576b\"], [0.6666666666666666, \"#ed7953\"], [0.7777777777777778, \"#fb9f3a\"], [0.8888888888888888, \"#fdca26\"], [1.0, \"#f0f921\"]], \"type\": \"histogram2d\"}], \"histogram2dcontour\": [{\"colorbar\": {\"outlinewidth\": 0, \"ticks\": \"\"}, \"colorscale\": [[0.0, \"#0d0887\"], [0.1111111111111111, \"#46039f\"], [0.2222222222222222, \"#7201a8\"], [0.3333333333333333, \"#9c179e\"], [0.4444444444444444, \"#bd3786\"], [0.5555555555555556, \"#d8576b\"], [0.6666666666666666, \"#ed7953\"], [0.7777777777777778, \"#fb9f3a\"], [0.8888888888888888, \"#fdca26\"], [1.0, \"#f0f921\"]], \"type\": \"histogram2dcontour\"}], \"mesh3d\": [{\"colorbar\": {\"outlinewidth\": 0, \"ticks\": \"\"}, \"type\": \"mesh3d\"}], \"parcoords\": [{\"line\": {\"colorbar\": {\"outlinewidth\": 0, \"ticks\": \"\"}}, \"type\": \"parcoords\"}], \"pie\": [{\"automargin\": true, \"type\": \"pie\"}], \"scatter\": [{\"marker\": {\"colorbar\": {\"outlinewidth\": 0, \"ticks\": \"\"}}, \"type\": \"scatter\"}], \"scatter3d\": [{\"line\": {\"colorbar\": {\"outlinewidth\": 0, \"ticks\": \"\"}}, \"marker\": {\"colorbar\": {\"outlinewidth\": 0, \"ticks\": \"\"}}, \"type\": \"scatter3d\"}], \"scattercarpet\": [{\"marker\": {\"colorbar\": {\"outlinewidth\": 0, \"ticks\": \"\"}}, \"type\": \"scattercarpet\"}], \"scattergeo\": [{\"marker\": {\"colorbar\": {\"outlinewidth\": 0, \"ticks\": \"\"}}, \"type\": \"scattergeo\"}], \"scattergl\": [{\"marker\": {\"colorbar\": {\"outlinewidth\": 0, \"ticks\": \"\"}}, \"type\": \"scattergl\"}], \"scattermapbox\": [{\"marker\": {\"colorbar\": {\"outlinewidth\": 0, \"ticks\": \"\"}}, \"type\": \"scattermapbox\"}], \"scatterpolar\": [{\"marker\": {\"colorbar\": {\"outlinewidth\": 0, \"ticks\": \"\"}}, \"type\": \"scatterpolar\"}], \"scatterpolargl\": [{\"marker\": {\"colorbar\": {\"outlinewidth\": 0, \"ticks\": \"\"}}, \"type\": \"scatterpolargl\"}], \"scatterternary\": [{\"marker\": {\"colorbar\": {\"outlinewidth\": 0, \"ticks\": \"\"}}, \"type\": \"scatterternary\"}], \"surface\": [{\"colorbar\": {\"outlinewidth\": 0, \"ticks\": \"\"}, \"colorscale\": [[0.0, \"#0d0887\"], [0.1111111111111111, \"#46039f\"], [0.2222222222222222, \"#7201a8\"], [0.3333333333333333, \"#9c179e\"], [0.4444444444444444, \"#bd3786\"], [0.5555555555555556, \"#d8576b\"], [0.6666666666666666, \"#ed7953\"], [0.7777777777777778, \"#fb9f3a\"], [0.8888888888888888, \"#fdca26\"], [1.0, \"#f0f921\"]], \"type\": \"surface\"}], \"table\": [{\"cells\": {\"fill\": {\"color\": \"#EBF0F8\"}, \"line\": {\"color\": \"white\"}}, \"header\": {\"fill\": {\"color\": \"#C8D4E3\"}, \"line\": {\"color\": \"white\"}}, \"type\": \"table\"}]}, \"layout\": {\"annotationdefaults\": {\"arrowcolor\": \"#2a3f5f\", \"arrowhead\": 0, \"arrowwidth\": 1}, \"coloraxis\": {\"colorbar\": {\"outlinewidth\": 0, \"ticks\": \"\"}}, \"colorscale\": {\"diverging\": [[0, \"#8e0152\"], [0.1, \"#c51b7d\"], [0.2, \"#de77ae\"], [0.3, \"#f1b6da\"], [0.4, \"#fde0ef\"], [0.5, \"#f7f7f7\"], [0.6, \"#e6f5d0\"], [0.7, \"#b8e186\"], [0.8, \"#7fbc41\"], [0.9, \"#4d9221\"], [1, \"#276419\"]], \"sequential\": [[0.0, \"#0d0887\"], [0.1111111111111111, \"#46039f\"], [0.2222222222222222, \"#7201a8\"], [0.3333333333333333, \"#9c179e\"], [0.4444444444444444, \"#bd3786\"], [0.5555555555555556, \"#d8576b\"], [0.6666666666666666, \"#ed7953\"], [0.7777777777777778, \"#fb9f3a\"], [0.8888888888888888, \"#fdca26\"], [1.0, \"#f0f921\"]], \"sequentialminus\": [[0.0, \"#0d0887\"], [0.1111111111111111, \"#46039f\"], [0.2222222222222222, \"#7201a8\"], [0.3333333333333333, \"#9c179e\"], [0.4444444444444444, \"#bd3786\"], [0.5555555555555556, \"#d8576b\"], [0.6666666666666666, \"#ed7953\"], [0.7777777777777778, \"#fb9f3a\"], [0.8888888888888888, \"#fdca26\"], [1.0, \"#f0f921\"]]}, \"colorway\": [\"#636efa\", \"#EF553B\", \"#00cc96\", \"#ab63fa\", \"#FFA15A\", \"#19d3f3\", \"#FF6692\", \"#B6E880\", \"#FF97FF\", \"#FECB52\"], \"font\": {\"color\": \"#2a3f5f\"}, \"geo\": {\"bgcolor\": \"white\", \"lakecolor\": \"white\", \"landcolor\": \"#E5ECF6\", \"showlakes\": true, \"showland\": true, \"subunitcolor\": \"white\"}, \"hoverlabel\": {\"align\": \"left\"}, \"hovermode\": \"closest\", \"mapbox\": {\"style\": \"light\"}, \"paper_bgcolor\": \"white\", \"plot_bgcolor\": \"#E5ECF6\", \"polar\": {\"angularaxis\": {\"gridcolor\": \"white\", \"linecolor\": \"white\", \"ticks\": \"\"}, \"bgcolor\": \"#E5ECF6\", \"radialaxis\": {\"gridcolor\": \"white\", \"linecolor\": \"white\", \"ticks\": \"\"}}, \"scene\": {\"xaxis\": {\"backgroundcolor\": \"#E5ECF6\", \"gridcolor\": \"white\", \"gridwidth\": 2, \"linecolor\": \"white\", \"showbackground\": true, \"ticks\": \"\", \"zerolinecolor\": \"white\"}, \"yaxis\": {\"backgroundcolor\": \"#E5ECF6\", \"gridcolor\": \"white\", \"gridwidth\": 2, \"linecolor\": \"white\", \"showbackground\": true, \"ticks\": \"\", \"zerolinecolor\": \"white\"}, \"zaxis\": {\"backgroundcolor\": \"#E5ECF6\", \"gridcolor\": \"white\", \"gridwidth\": 2, \"linecolor\": \"white\", \"showbackground\": true, \"ticks\": \"\", \"zerolinecolor\": \"white\"}}, \"shapedefaults\": {\"line\": {\"color\": \"#2a3f5f\"}}, \"ternary\": {\"aaxis\": {\"gridcolor\": \"white\", \"linecolor\": \"white\", \"ticks\": \"\"}, \"baxis\": {\"gridcolor\": \"white\", \"linecolor\": \"white\", \"ticks\": \"\"}, \"bgcolor\": \"#E5ECF6\", \"caxis\": {\"gridcolor\": \"white\", \"linecolor\": \"white\", \"ticks\": \"\"}}, \"title\": {\"x\": 0.05}, \"xaxis\": {\"automargin\": true, \"gridcolor\": \"white\", \"linecolor\": \"white\", \"ticks\": \"\", \"title\": {\"standoff\": 15}, \"zerolinecolor\": \"white\", \"zerolinewidth\": 2}, \"yaxis\": {\"automargin\": true, \"gridcolor\": \"white\", \"linecolor\": \"white\", \"ticks\": \"\", \"title\": {\"standoff\": 15}, \"zerolinecolor\": \"white\", \"zerolinewidth\": 2}}}, \"title\": {\"text\": \"Relation between FPL points and player age\"}, \"xaxis\": {\"autorange\": true, \"range\": [3.48535752785, 13.0146424722], \"title\": {\"text\": \"player age\"}, \"type\": \"linear\"}, \"yaxis\": {\"autorange\": true, \"range\": [-17.5245518316, 281.524551832], \"title\": {\"text\": \"fpl points\"}, \"type\": \"linear\"}},                        {\"responsive\": true}                    ).then(function(){\n",
       "                            \n",
       "var gd = document.getElementById('3ede206f-3c8a-4cc4-8e39-fc1c2880131e');\n",
       "var x = new MutationObserver(function (mutations, observer) {{\n",
       "        var display = window.getComputedStyle(gd).display;\n",
       "        if (!display || display === 'none') {{\n",
       "            console.log([gd, 'removed!']);\n",
       "            Plotly.purge(gd);\n",
       "            observer.disconnect();\n",
       "        }}\n",
       "}});\n",
       "\n",
       "// Listen for the removal of the full notebook cells\n",
       "var notebookContainer = gd.closest('#notebook-container');\n",
       "if (notebookContainer) {{\n",
       "    x.observe(notebookContainer, {childList: true});\n",
       "}}\n",
       "\n",
       "// Listen for the clearing of the current output cell\n",
       "var outputEl = gd.closest('.output');\n",
       "if (outputEl) {{\n",
       "    x.observe(outputEl, {childList: true});\n",
       "}}\n",
       "\n",
       "                        })                };                });            </script>        </div>"
      ]
     },
     "metadata": {},
     "output_type": "display_data"
    }
   ],
   "source": [
    "#df['fage_pointration'] = pd.DataFrame(df['fpl_points']/df['fpl_value'])\n",
    "trace1 = {\n",
    "  \"x\": df['age'],\n",
    "  \"y\": df['fpl_points'],\n",
    "  \"marker\": {\n",
    "    \"color\": 'red',\n",
    "    \"colorsrc\": \"Aldemuro:22:1a1899\",\n",
    "    #\"size\": df['fpl_ratio']\n",
    "  }, \n",
    "  \"mode\": \"markers\", \n",
    "  \"name\": \"fpl_points\", \n",
    "  \"text\": df['name']+\", Club:\"+df['club']+\", Pos:\"+df['position'],\n",
    "  #\"textsrc\": \"Aldemuro:22:5dc54a\", \n",
    "  \"type\": \"scatter\", \n",
    "  \"uid\": \"0d217c\", \n",
    "  \"xsrc\": \"Aldemuro:22:d61533\", \n",
    "  \"ysrc\": \"Aldemuro:22:1c3243\",\n",
    "  \n",
    "}\n",
    "data = [trace1]\n",
    "#data = [trace]\n",
    "layout = {\n",
    "  \"autosize\": True, \n",
    "  \"hovermode\": \"closest\",\n",
    "  \"title\": \"Relation between FPL points and player age\",\n",
    "  \"xaxis\": {\n",
    "    \"autorange\": True, \n",
    "    \"range\": [3.48535752785, 13.0146424722], \n",
    "    \"title\": \"player age\", \n",
    "    \"type\": \"linear\"\n",
    "  }, \n",
    "  \"yaxis\": {\n",
    "    \"autorange\": True, \n",
    "    \"range\": [-17.5245518316, 281.524551832], \n",
    "    \"title\": \"fpl points\", \n",
    "    \"type\": \"linear\"\n",
    "  }\n",
    "}\n",
    "# Plot and embed in ipython notebook!\n",
    "fig = go.Figure(data=data, layout=layout)\n",
    "py.iplot(fig, filename='basic-scatter')"
   ]
  },
  {
   "cell_type": "markdown",
   "metadata": {
    "_cell_guid": "3f41bc01-5865-4648-bc8b-93a3ad479b8d",
    "_uuid": "af616341c81b065664e1da6e79cdd829da569869"
   },
   "source": [
    "Scatterplot above are useful for interpreting trends between players age and FPL points. Each point in a scatterplot has two coordinates; the first corresponds is the  players age (that’s the X coordinate; the amount that you go left or right). The second coordinate corresponds is FPL points (that’s the Y-coordinate; the amount that you go up or down). The point representing that observation is placed at the intersection of the two coordinates. The data show an uphill and downhill pattern as you move from left to right, the data increases from the begining until the age of 28.\n",
    "this indicates there is some peak point age of the player in the premier league.Players performance are increasing untill they 28 and afterward the trend is decreasing."
   ]
  },
  {
   "cell_type": "code",
   "execution_count": 39,
   "metadata": {
    "_cell_guid": "4cb6da19-df75-46c0-8d66-bc8c26a74b4b",
    "_uuid": "08765d89f5af0569161ee8823d4d9c2623243983"
   },
   "outputs": [
    {
     "data": {
      "text/plain": [
       "name             object\n",
       "club             object\n",
       "age               int64\n",
       "position         object\n",
       "position_cat      int64\n",
       "market_value    float64\n",
       "page_views        int64\n",
       "fpl_value       float64\n",
       "fpl_sel         float64\n",
       "fpl_points        int64\n",
       "region          float64\n",
       "nationality      object\n",
       "new_foreign       int64\n",
       "age_cat           int64\n",
       "club_id           int64\n",
       "big_club          int64\n",
       "new_signing       int64\n",
       "fpl_ratio       float64\n",
       "dtype: object"
      ]
     },
     "execution_count": 39,
     "metadata": {},
     "output_type": "execute_result"
    }
   ],
   "source": [
    "df.dtypes"
   ]
  },
  {
   "cell_type": "code",
   "execution_count": 40,
   "metadata": {
    "_cell_guid": "fcb51839-4927-4177-bf79-5a1e4627319b",
    "_uuid": "f4002e03fa43b9b854d6bf967d1839f4c622309c"
   },
   "outputs": [
    {
     "data": {
      "text/html": [
       "<div>\n",
       "<style scoped>\n",
       "    .dataframe tbody tr th:only-of-type {\n",
       "        vertical-align: middle;\n",
       "    }\n",
       "\n",
       "    .dataframe tbody tr th {\n",
       "        vertical-align: top;\n",
       "    }\n",
       "\n",
       "    .dataframe thead th {\n",
       "        text-align: right;\n",
       "    }\n",
       "</style>\n",
       "<table border=\"1\" class=\"dataframe\">\n",
       "  <thead>\n",
       "    <tr style=\"text-align: right;\">\n",
       "      <th></th>\n",
       "      <th>age</th>\n",
       "      <th>page_views</th>\n",
       "      <th>fpl_points</th>\n",
       "      <th>fpl_value</th>\n",
       "      <th>market_value</th>\n",
       "    </tr>\n",
       "  </thead>\n",
       "  <tbody>\n",
       "    <tr>\n",
       "      <th>0</th>\n",
       "      <td>28</td>\n",
       "      <td>4329</td>\n",
       "      <td>264</td>\n",
       "      <td>12.0</td>\n",
       "      <td>65.0</td>\n",
       "    </tr>\n",
       "    <tr>\n",
       "      <th>1</th>\n",
       "      <td>28</td>\n",
       "      <td>4395</td>\n",
       "      <td>167</td>\n",
       "      <td>9.5</td>\n",
       "      <td>50.0</td>\n",
       "    </tr>\n",
       "    <tr>\n",
       "      <th>2</th>\n",
       "      <td>35</td>\n",
       "      <td>1529</td>\n",
       "      <td>134</td>\n",
       "      <td>5.5</td>\n",
       "      <td>7.0</td>\n",
       "    </tr>\n",
       "    <tr>\n",
       "      <th>3</th>\n",
       "      <td>28</td>\n",
       "      <td>2393</td>\n",
       "      <td>122</td>\n",
       "      <td>7.5</td>\n",
       "      <td>20.0</td>\n",
       "    </tr>\n",
       "    <tr>\n",
       "      <th>4</th>\n",
       "      <td>31</td>\n",
       "      <td>912</td>\n",
       "      <td>121</td>\n",
       "      <td>6.0</td>\n",
       "      <td>22.0</td>\n",
       "    </tr>\n",
       "  </tbody>\n",
       "</table>\n",
       "</div>"
      ],
      "text/plain": [
       "   age  page_views  fpl_points  fpl_value  market_value\n",
       "0   28        4329         264       12.0          65.0\n",
       "1   28        4395         167        9.5          50.0\n",
       "2   35        1529         134        5.5           7.0\n",
       "3   28        2393         122        7.5          20.0\n",
       "4   31         912         121        6.0          22.0"
      ]
     },
     "execution_count": 40,
     "metadata": {},
     "output_type": "execute_result"
    }
   ],
   "source": [
    "#dfrel = pd.DataFrame(df['age'],df['position_cat'],df['market_value']).reset_index()\n",
    "#frel = df.drop(['name', 'club','position','nationality','fpl_ratio','market_value','fpl_value','fpl_sel','region'],\n",
    "#               axis=1)\n",
    "dfrel = df[['age','page_views','fpl_points','fpl_value','market_value']].copy()\n",
    "dfrel.head()"
   ]
  },
  {
   "cell_type": "markdown",
   "metadata": {
    "_cell_guid": "ae0fda88-4bf4-4ce5-b48a-9ee9c462415a",
    "_uuid": "1987363a40159de8fa80ac272c04e50ae1e9bbc9"
   },
   "source": [
    "### relation between player age, player view number, players FPL points, players FPL value, and Players market value"
   ]
  },
  {
   "cell_type": "code",
   "execution_count": 41,
   "metadata": {
    "_cell_guid": "c2d2bcf4-e465-4d54-8e17-518c095c2ed6",
    "_uuid": "108f7c7436a1b9f4dea31ad1cf532744359512f5"
   },
   "outputs": [
    {
     "data": {
      "image/png": "[encoded data removed]",
      "text/plain": [
       "<Figure size 900x900 with 30 Axes>"
      ]
     },
     "metadata": {},
     "output_type": "display_data"
    }
   ],
   "source": [
    "import seaborn as sns; sns.set(style=\"ticks\", color_codes=True)\n",
    "#iris = sns.load_dataset(\"iris\")\n",
    "g = sns.pairplot(dfrel)\n",
    "plt.show()"
   ]
  },
  {
   "cell_type": "markdown",
   "metadata": {
    "_cell_guid": "40ae6ac1-413f-4002-b4ed-93677dc76a22",
    "_uuid": "bbe44e6a22c3f601ae6fb51897fde9a155f38761"
   },
   "source": [
    "Plot above explains the relation between player age, player view number, players FPL points, players FPL value, and Players market value."
   ]
  },
  {
   "cell_type": "code",
   "execution_count": null,
   "metadata": {
    "_cell_guid": "ff588136-87b9-4b62-aa9d-433aba8d5c4f",
    "_uuid": "648c6f08a6307332d4ec32c9698ccbb218b5ba96"
   },
   "outputs": [],
   "source": []
  }
 ],
 "metadata": {
  "kernelspec": {
   "display_name": "Python 3",
   "language": "python",
   "name": "python3"
  },
  "language_info": {
   "codemirror_mode": {
    "name": "ipython",
    "version": 3
   },
   "file_extension": ".py",
   "mimetype": "text/x-python",
   "name": "python",
   "nbconvert_exporter": "python",
   "pygments_lexer": "ipython3",
   "version": "3.7.7"
  }
 },
 "nbformat": 4,
 "nbformat_minor": 1
}
