{
 "cells": [
  {
   "cell_type": "markdown",
   "metadata": {},
   "source": [
    "# **This notebook provides a quick analysis of the Fantasy EPL Assets for the upcoming season (2020-21)**\n",
    "\n",
    "The analysis is purely based on fantasy stats from the FPL dataset. More sophistaced methods involve supplementing the dataset here with xG and xA stats which are availble with paid data streams. \n",
    "\n",
    "A fair bit of the starting block of the notebook is an exploratory piece into the dataset for the benefit of beginners and people who want to analyze it further. "
   ]
  },
  {
   "cell_type": "code",
   "execution_count": 1,
   "metadata": {
    "_cell_guid": "b1076dfc-b9ad-4769-8c92-a6c4dae69d19",
    "_uuid": "8f2839f25d086af736a60e9eeb907d3b93b6e0e5"
   },
   "outputs": [],
   "source": [
    "import numpy as np\n",
    "import pandas as pd \n",
    "import json\n"
   ]
  },
  {
   "cell_type": "markdown",
   "metadata": {},
   "source": [
    "The datafiles are jsons and require to be read from the file and converted into a dictionary using the code below. "
   ]
  },
  {
   "cell_type": "code",
   "execution_count": 3,
   "metadata": {},
   "outputs": [],
   "source": [
    "fpl2020_file = open('FPL_2019_20_season_stats.jscsrc',encoding='utf-8')\n",
    "fpl2020 = fpl2020_file.read()\n",
    "fpl2020 = json.loads(fpl2020)\n",
    "fpl2021_file = open('FPL_2020_21_player_list.jscsrc',encoding='utf-8')\n",
    "fpl2021 = fpl2021_file.read()\n",
    "fpl2021 = json.loads(fpl2021)"
   ]
  },
  {
   "cell_type": "markdown",
   "metadata": {},
   "source": [
    "Let's take a look at the keys in the dataset...."
   ]
  },
  {
   "cell_type": "code",
   "execution_count": 4,
   "metadata": {},
   "outputs": [
    {
     "data": {
      "text/plain": [
       "dict_keys(['events', 'game_settings', 'phases', 'teams', 'total_players', 'elements', 'element_stats', 'element_types'])"
      ]
     },
     "execution_count": 4,
     "metadata": {},
     "output_type": "execute_result"
    }
   ],
   "source": [
    "fpl2020.keys()"
   ]
  },
  {
   "cell_type": "markdown",
   "metadata": {},
   "source": [
    "The key called 'elements' contains the player list and the key called 'teams' contains the team level stats.\n",
    "Lets get a look at the team stats for 2019-20. It is a good practice to take a look at the datatype of the data in each key."
   ]
  },
  {
   "cell_type": "code",
   "execution_count": 7,
   "metadata": {},
   "outputs": [
    {
     "name": "stdout",
     "output_type": "stream",
     "text": [
      "Data type: <class 'list'> for Key: events\n",
      "Data type: <class 'dict'> for Key: game_settings\n",
      "Data type: <class 'list'> for Key: phases\n",
      "Data type: <class 'list'> for Key: teams\n",
      "Data type: <class 'int'> for Key: total_players\n",
      "Data type: <class 'list'> for Key: elements\n",
      "Data type: <class 'list'> for Key: element_stats\n",
      "Data type: <class 'list'> for Key: element_types\n"
     ]
    }
   ],
   "source": [
    "for key in fpl2020.keys():\n",
    "    print('Data type: %s for Key: %s' %(type(fpl2020[key]),key))"
   ]
  },
  {
   "cell_type": "code",
   "execution_count": 9,
   "metadata": {},
   "outputs": [
    {
     "name": "stdout",
     "output_type": "stream",
     "text": [
      "Understanding the data structure for Teams\n",
      "dict_keys(['code', 'draw', 'form', 'id', 'loss', 'name', 'played', 'points', 'position', 'short_name', 'strength', 'team_division', 'unavailable', 'win', 'strength_overall_home', 'strength_overall_away', 'strength_attack_home', 'strength_attack_away', 'strength_defence_home', 'strength_defence_away', 'pulse_id'])\n"
     ]
    }
   ],
   "source": [
    "print('Understanding the data structure for Teams')\n",
    "print(fpl2020['teams'][0].keys())"
   ]
  },
  {
   "cell_type": "code",
   "execution_count": 10,
   "metadata": {},
   "outputs": [
    {
     "name": "stdout",
     "output_type": "stream",
     "text": [
      "Understanding the data structure for Elements\n",
      "dict_keys(['chance_of_playing_next_round', 'chance_of_playing_this_round', 'code', 'cost_change_event', 'cost_change_event_fall', 'cost_change_start', 'cost_change_start_fall', 'dreamteam_count', 'element_type', 'ep_next', 'ep_this', 'event_points', 'first_name', 'form', 'id', 'in_dreamteam', 'news', 'news_added', 'now_cost', 'photo', 'points_per_game', 'second_name', 'selected_by_percent', 'special', 'squad_number', 'status', 'team', 'team_code', 'total_points', 'transfers_in', 'transfers_in_event', 'transfers_out', 'transfers_out_event', 'value_form', 'value_season', 'web_name', 'minutes', 'goals_scored', 'assists', 'clean_sheets', 'goals_conceded', 'own_goals', 'penalties_saved', 'penalties_missed', 'yellow_cards', 'red_cards', 'saves', 'bonus', 'bps', 'influence', 'creativity', 'threat', 'ict_index', 'influence_rank', 'influence_rank_type', 'creativity_rank', 'creativity_rank_type', 'threat_rank', 'threat_rank_type', 'ict_index_rank', 'ict_index_rank_type'])\n"
     ]
    }
   ],
   "source": [
    "print('Understanding the data structure for Elements')\n",
    "print(fpl2020['elements'][0].keys())"
   ]
  },
  {
   "cell_type": "markdown",
   "metadata": {},
   "source": [
    "We can see that both data structures are lists of dictionaries. Further manipulation can be done using Pandas. "
   ]
  },
  {
   "cell_type": "code",
   "execution_count": 11,
   "metadata": {},
   "outputs": [
    {
     "data": {
      "text/html": [
       "<div>\n",
       "<style scoped>\n",
       "    .dataframe tbody tr th:only-of-type {\n",
       "        vertical-align: middle;\n",
       "    }\n",
       "\n",
       "    .dataframe tbody tr th {\n",
       "        vertical-align: top;\n",
       "    }\n",
       "\n",
       "    .dataframe thead th {\n",
       "        text-align: right;\n",
       "    }\n",
       "</style>\n",
       "<table border=\"1\" class=\"dataframe\">\n",
       "  <thead>\n",
       "    <tr style=\"text-align: right;\">\n",
       "      <th></th>\n",
       "      <th>code</th>\n",
       "      <th>draw</th>\n",
       "      <th>form</th>\n",
       "      <th>id</th>\n",
       "      <th>loss</th>\n",
       "      <th>name</th>\n",
       "      <th>played</th>\n",
       "      <th>points</th>\n",
       "      <th>position</th>\n",
       "      <th>short_name</th>\n",
       "      <th>...</th>\n",
       "      <th>team_division</th>\n",
       "      <th>unavailable</th>\n",
       "      <th>win</th>\n",
       "      <th>strength_overall_home</th>\n",
       "      <th>strength_overall_away</th>\n",
       "      <th>strength_attack_home</th>\n",
       "      <th>strength_attack_away</th>\n",
       "      <th>strength_defence_home</th>\n",
       "      <th>strength_defence_away</th>\n",
       "      <th>pulse_id</th>\n",
       "    </tr>\n",
       "  </thead>\n",
       "  <tbody>\n",
       "    <tr>\n",
       "      <th>0</th>\n",
       "      <td>3</td>\n",
       "      <td>14</td>\n",
       "      <td>None</td>\n",
       "      <td>1</td>\n",
       "      <td>10</td>\n",
       "      <td>Arsenal</td>\n",
       "      <td>38</td>\n",
       "      <td>56</td>\n",
       "      <td>8</td>\n",
       "      <td>ARS</td>\n",
       "      <td>...</td>\n",
       "      <td>None</td>\n",
       "      <td>False</td>\n",
       "      <td>14</td>\n",
       "      <td>1180</td>\n",
       "      <td>1240</td>\n",
       "      <td>1170</td>\n",
       "      <td>1170</td>\n",
       "      <td>1150</td>\n",
       "      <td>1200</td>\n",
       "      <td>1</td>\n",
       "    </tr>\n",
       "    <tr>\n",
       "      <th>1</th>\n",
       "      <td>7</td>\n",
       "      <td>8</td>\n",
       "      <td>None</td>\n",
       "      <td>2</td>\n",
       "      <td>21</td>\n",
       "      <td>Aston Villa</td>\n",
       "      <td>38</td>\n",
       "      <td>35</td>\n",
       "      <td>17</td>\n",
       "      <td>AVL</td>\n",
       "      <td>...</td>\n",
       "      <td>None</td>\n",
       "      <td>False</td>\n",
       "      <td>9</td>\n",
       "      <td>1020</td>\n",
       "      <td>1050</td>\n",
       "      <td>970</td>\n",
       "      <td>980</td>\n",
       "      <td>1000</td>\n",
       "      <td>1040</td>\n",
       "      <td>2</td>\n",
       "    </tr>\n",
       "    <tr>\n",
       "      <th>2</th>\n",
       "      <td>91</td>\n",
       "      <td>7</td>\n",
       "      <td>None</td>\n",
       "      <td>3</td>\n",
       "      <td>22</td>\n",
       "      <td>Bournemouth</td>\n",
       "      <td>38</td>\n",
       "      <td>34</td>\n",
       "      <td>18</td>\n",
       "      <td>BOU</td>\n",
       "      <td>...</td>\n",
       "      <td>None</td>\n",
       "      <td>False</td>\n",
       "      <td>9</td>\n",
       "      <td>1020</td>\n",
       "      <td>1020</td>\n",
       "      <td>990</td>\n",
       "      <td>1030</td>\n",
       "      <td>1000</td>\n",
       "      <td>1050</td>\n",
       "      <td>127</td>\n",
       "    </tr>\n",
       "    <tr>\n",
       "      <th>3</th>\n",
       "      <td>36</td>\n",
       "      <td>14</td>\n",
       "      <td>None</td>\n",
       "      <td>4</td>\n",
       "      <td>15</td>\n",
       "      <td>Brighton</td>\n",
       "      <td>38</td>\n",
       "      <td>41</td>\n",
       "      <td>15</td>\n",
       "      <td>BHA</td>\n",
       "      <td>...</td>\n",
       "      <td>None</td>\n",
       "      <td>False</td>\n",
       "      <td>9</td>\n",
       "      <td>1050</td>\n",
       "      <td>1010</td>\n",
       "      <td>1100</td>\n",
       "      <td>1100</td>\n",
       "      <td>1040</td>\n",
       "      <td>1030</td>\n",
       "      <td>131</td>\n",
       "    </tr>\n",
       "    <tr>\n",
       "      <th>4</th>\n",
       "      <td>90</td>\n",
       "      <td>9</td>\n",
       "      <td>None</td>\n",
       "      <td>5</td>\n",
       "      <td>14</td>\n",
       "      <td>Burnley</td>\n",
       "      <td>38</td>\n",
       "      <td>54</td>\n",
       "      <td>10</td>\n",
       "      <td>BUR</td>\n",
       "      <td>...</td>\n",
       "      <td>None</td>\n",
       "      <td>False</td>\n",
       "      <td>15</td>\n",
       "      <td>1110</td>\n",
       "      <td>1180</td>\n",
       "      <td>1130</td>\n",
       "      <td>1070</td>\n",
       "      <td>970</td>\n",
       "      <td>1110</td>\n",
       "      <td>43</td>\n",
       "    </tr>\n",
       "  </tbody>\n",
       "</table>\n",
       "<p>5 rows × 21 columns</p>\n",
       "</div>"
      ],
      "text/plain": [
       "   code  draw  form  id  loss         name  played  points  position  \\\n",
       "0     3    14  None   1    10      Arsenal      38      56         8   \n",
       "1     7     8  None   2    21  Aston Villa      38      35        17   \n",
       "2    91     7  None   3    22  Bournemouth      38      34        18   \n",
       "3    36    14  None   4    15     Brighton      38      41        15   \n",
       "4    90     9  None   5    14      Burnley      38      54        10   \n",
       "\n",
       "  short_name  ...  team_division unavailable  win  strength_overall_home  \\\n",
       "0        ARS  ...           None       False   14                   1180   \n",
       "1        AVL  ...           None       False    9                   1020   \n",
       "2        BOU  ...           None       False    9                   1020   \n",
       "3        BHA  ...           None       False    9                   1050   \n",
       "4        BUR  ...           None       False   15                   1110   \n",
       "\n",
       "   strength_overall_away  strength_attack_home  strength_attack_away  \\\n",
       "0                   1240                  1170                  1170   \n",
       "1                   1050                   970                   980   \n",
       "2                   1020                   990                  1030   \n",
       "3                   1010                  1100                  1100   \n",
       "4                   1180                  1130                  1070   \n",
       "\n",
       "   strength_defence_home  strength_defence_away  pulse_id  \n",
       "0                   1150                   1200         1  \n",
       "1                   1000                   1040         2  \n",
       "2                   1000                   1050       127  \n",
       "3                   1040                   1030       131  \n",
       "4                    970                   1110        43  \n",
       "\n",
       "[5 rows x 21 columns]"
      ]
     },
     "execution_count": 11,
     "metadata": {},
     "output_type": "execute_result"
    }
   ],
   "source": [
    "teams2020 = pd.DataFrame(fpl2020['teams'])\n",
    "players2020 = pd.DataFrame(fpl2020['elements'])\n",
    "teams2020.head()"
   ]
  },
  {
   "cell_type": "code",
   "execution_count": 12,
   "metadata": {},
   "outputs": [
    {
     "data": {
      "text/html": [
       "<div>\n",
       "<style scoped>\n",
       "    .dataframe tbody tr th:only-of-type {\n",
       "        vertical-align: middle;\n",
       "    }\n",
       "\n",
       "    .dataframe tbody tr th {\n",
       "        vertical-align: top;\n",
       "    }\n",
       "\n",
       "    .dataframe thead th {\n",
       "        text-align: right;\n",
       "    }\n",
       "</style>\n",
       "<table border=\"1\" class=\"dataframe\">\n",
       "  <thead>\n",
       "    <tr style=\"text-align: right;\">\n",
       "      <th></th>\n",
       "      <th>chance_of_playing_next_round</th>\n",
       "      <th>chance_of_playing_this_round</th>\n",
       "      <th>code</th>\n",
       "      <th>cost_change_event</th>\n",
       "      <th>cost_change_event_fall</th>\n",
       "      <th>cost_change_start</th>\n",
       "      <th>cost_change_start_fall</th>\n",
       "      <th>dreamteam_count</th>\n",
       "      <th>element_type</th>\n",
       "      <th>ep_next</th>\n",
       "      <th>...</th>\n",
       "      <th>threat</th>\n",
       "      <th>ict_index</th>\n",
       "      <th>influence_rank</th>\n",
       "      <th>influence_rank_type</th>\n",
       "      <th>creativity_rank</th>\n",
       "      <th>creativity_rank_type</th>\n",
       "      <th>threat_rank</th>\n",
       "      <th>threat_rank_type</th>\n",
       "      <th>ict_index_rank</th>\n",
       "      <th>ict_index_rank_type</th>\n",
       "    </tr>\n",
       "  </thead>\n",
       "  <tbody>\n",
       "    <tr>\n",
       "      <th>0</th>\n",
       "      <td>0.0</td>\n",
       "      <td>0.0</td>\n",
       "      <td>69140</td>\n",
       "      <td>0</td>\n",
       "      <td>0</td>\n",
       "      <td>-4</td>\n",
       "      <td>4</td>\n",
       "      <td>0</td>\n",
       "      <td>2</td>\n",
       "      <td>0.0</td>\n",
       "      <td>...</td>\n",
       "      <td>155.0</td>\n",
       "      <td>47.9</td>\n",
       "      <td>257</td>\n",
       "      <td>100</td>\n",
       "      <td>352</td>\n",
       "      <td>122</td>\n",
       "      <td>234</td>\n",
       "      <td>58</td>\n",
       "      <td>313</td>\n",
       "      <td>106</td>\n",
       "    </tr>\n",
       "    <tr>\n",
       "      <th>1</th>\n",
       "      <td>100.0</td>\n",
       "      <td>100.0</td>\n",
       "      <td>98745</td>\n",
       "      <td>0</td>\n",
       "      <td>0</td>\n",
       "      <td>-3</td>\n",
       "      <td>3</td>\n",
       "      <td>0</td>\n",
       "      <td>2</td>\n",
       "      <td>2.3</td>\n",
       "      <td>...</td>\n",
       "      <td>103.0</td>\n",
       "      <td>37.0</td>\n",
       "      <td>322</td>\n",
       "      <td>124</td>\n",
       "      <td>301</td>\n",
       "      <td>95</td>\n",
       "      <td>275</td>\n",
       "      <td>81</td>\n",
       "      <td>339</td>\n",
       "      <td>122</td>\n",
       "    </tr>\n",
       "    <tr>\n",
       "      <th>2</th>\n",
       "      <td>100.0</td>\n",
       "      <td>100.0</td>\n",
       "      <td>111457</td>\n",
       "      <td>0</td>\n",
       "      <td>0</td>\n",
       "      <td>-3</td>\n",
       "      <td>3</td>\n",
       "      <td>0</td>\n",
       "      <td>2</td>\n",
       "      <td>3.3</td>\n",
       "      <td>...</td>\n",
       "      <td>81.0</td>\n",
       "      <td>53.0</td>\n",
       "      <td>264</td>\n",
       "      <td>104</td>\n",
       "      <td>215</td>\n",
       "      <td>52</td>\n",
       "      <td>305</td>\n",
       "      <td>98</td>\n",
       "      <td>293</td>\n",
       "      <td>96</td>\n",
       "    </tr>\n",
       "    <tr>\n",
       "      <th>3</th>\n",
       "      <td>100.0</td>\n",
       "      <td>100.0</td>\n",
       "      <td>154043</td>\n",
       "      <td>0</td>\n",
       "      <td>0</td>\n",
       "      <td>-5</td>\n",
       "      <td>5</td>\n",
       "      <td>1</td>\n",
       "      <td>2</td>\n",
       "      <td>0.8</td>\n",
       "      <td>...</td>\n",
       "      <td>58.0</td>\n",
       "      <td>53.6</td>\n",
       "      <td>241</td>\n",
       "      <td>94</td>\n",
       "      <td>216</td>\n",
       "      <td>53</td>\n",
       "      <td>337</td>\n",
       "      <td>119</td>\n",
       "      <td>287</td>\n",
       "      <td>94</td>\n",
       "    </tr>\n",
       "    <tr>\n",
       "      <th>4</th>\n",
       "      <td>100.0</td>\n",
       "      <td>100.0</td>\n",
       "      <td>39476</td>\n",
       "      <td>0</td>\n",
       "      <td>0</td>\n",
       "      <td>-2</td>\n",
       "      <td>2</td>\n",
       "      <td>1</td>\n",
       "      <td>2</td>\n",
       "      <td>0.5</td>\n",
       "      <td>...</td>\n",
       "      <td>110.0</td>\n",
       "      <td>58.5</td>\n",
       "      <td>166</td>\n",
       "      <td>62</td>\n",
       "      <td>365</td>\n",
       "      <td>130</td>\n",
       "      <td>266</td>\n",
       "      <td>76</td>\n",
       "      <td>275</td>\n",
       "      <td>88</td>\n",
       "    </tr>\n",
       "  </tbody>\n",
       "</table>\n",
       "<p>5 rows × 61 columns</p>\n",
       "</div>"
      ],
      "text/plain": [
       "   chance_of_playing_next_round  chance_of_playing_this_round    code  \\\n",
       "0                           0.0                           0.0   69140   \n",
       "1                         100.0                         100.0   98745   \n",
       "2                         100.0                         100.0  111457   \n",
       "3                         100.0                         100.0  154043   \n",
       "4                         100.0                         100.0   39476   \n",
       "\n",
       "   cost_change_event  cost_change_event_fall  cost_change_start  \\\n",
       "0                  0                       0                 -4   \n",
       "1                  0                       0                 -3   \n",
       "2                  0                       0                 -3   \n",
       "3                  0                       0                 -5   \n",
       "4                  0                       0                 -2   \n",
       "\n",
       "   cost_change_start_fall  dreamteam_count  element_type ep_next  ... threat  \\\n",
       "0                       4                0             2     0.0  ...  155.0   \n",
       "1                       3                0             2     2.3  ...  103.0   \n",
       "2                       3                0             2     3.3  ...   81.0   \n",
       "3                       5                1             2     0.8  ...   58.0   \n",
       "4                       2                1             2     0.5  ...  110.0   \n",
       "\n",
       "   ict_index influence_rank influence_rank_type  creativity_rank  \\\n",
       "0       47.9            257                 100              352   \n",
       "1       37.0            322                 124              301   \n",
       "2       53.0            264                 104              215   \n",
       "3       53.6            241                  94              216   \n",
       "4       58.5            166                  62              365   \n",
       "\n",
       "   creativity_rank_type threat_rank threat_rank_type  ict_index_rank  \\\n",
       "0                   122         234               58             313   \n",
       "1                    95         275               81             339   \n",
       "2                    52         305               98             293   \n",
       "3                    53         337              119             287   \n",
       "4                   130         266               76             275   \n",
       "\n",
       "  ict_index_rank_type  \n",
       "0                 106  \n",
       "1                 122  \n",
       "2                  96  \n",
       "3                  94  \n",
       "4                  88  \n",
       "\n",
       "[5 rows x 61 columns]"
      ]
     },
     "execution_count": 12,
     "metadata": {},
     "output_type": "execute_result"
    }
   ],
   "source": [
    "players2020.head()"
   ]
  },
  {
   "cell_type": "markdown",
   "metadata": {},
   "source": [
    "It is intresting to check how the clubs rank on total fantasy points earned. "
   ]
  },
  {
   "cell_type": "code",
   "execution_count": 13,
   "metadata": {},
   "outputs": [
    {
     "data": {
      "text/html": [
       "<div>\n",
       "<style scoped>\n",
       "    .dataframe tbody tr th:only-of-type {\n",
       "        vertical-align: middle;\n",
       "    }\n",
       "\n",
       "    .dataframe tbody tr th {\n",
       "        vertical-align: top;\n",
       "    }\n",
       "\n",
       "    .dataframe thead th {\n",
       "        text-align: right;\n",
       "    }\n",
       "</style>\n",
       "<table border=\"1\" class=\"dataframe\">\n",
       "  <thead>\n",
       "    <tr style=\"text-align: right;\">\n",
       "      <th></th>\n",
       "      <th>short_name</th>\n",
       "      <th>position</th>\n",
       "      <th>points</th>\n",
       "      <th>fpoints_rank</th>\n",
       "      <th>total_points</th>\n",
       "      <th>code</th>\n",
       "    </tr>\n",
       "  </thead>\n",
       "  <tbody>\n",
       "    <tr>\n",
       "      <th>9</th>\n",
       "      <td>LIV</td>\n",
       "      <td>1</td>\n",
       "      <td>99</td>\n",
       "      <td>1.0</td>\n",
       "      <td>2101</td>\n",
       "      <td>14</td>\n",
       "    </tr>\n",
       "    <tr>\n",
       "      <th>10</th>\n",
       "      <td>MCI</td>\n",
       "      <td>2</td>\n",
       "      <td>81</td>\n",
       "      <td>2.0</td>\n",
       "      <td>2100</td>\n",
       "      <td>43</td>\n",
       "    </tr>\n",
       "    <tr>\n",
       "      <th>11</th>\n",
       "      <td>MUN</td>\n",
       "      <td>3</td>\n",
       "      <td>66</td>\n",
       "      <td>4.0</td>\n",
       "      <td>1752</td>\n",
       "      <td>1</td>\n",
       "    </tr>\n",
       "    <tr>\n",
       "      <th>5</th>\n",
       "      <td>CHE</td>\n",
       "      <td>4</td>\n",
       "      <td>66</td>\n",
       "      <td>5.0</td>\n",
       "      <td>1687</td>\n",
       "      <td>8</td>\n",
       "    </tr>\n",
       "    <tr>\n",
       "      <th>8</th>\n",
       "      <td>LEI</td>\n",
       "      <td>5</td>\n",
       "      <td>62</td>\n",
       "      <td>3.0</td>\n",
       "      <td>1816</td>\n",
       "      <td>13</td>\n",
       "    </tr>\n",
       "    <tr>\n",
       "      <th>16</th>\n",
       "      <td>TOT</td>\n",
       "      <td>6</td>\n",
       "      <td>59</td>\n",
       "      <td>9.0</td>\n",
       "      <td>1547</td>\n",
       "      <td>6</td>\n",
       "    </tr>\n",
       "    <tr>\n",
       "      <th>19</th>\n",
       "      <td>WOL</td>\n",
       "      <td>7</td>\n",
       "      <td>59</td>\n",
       "      <td>6.0</td>\n",
       "      <td>1655</td>\n",
       "      <td>39</td>\n",
       "    </tr>\n",
       "    <tr>\n",
       "      <th>0</th>\n",
       "      <td>ARS</td>\n",
       "      <td>8</td>\n",
       "      <td>56</td>\n",
       "      <td>8.0</td>\n",
       "      <td>1580</td>\n",
       "      <td>3</td>\n",
       "    </tr>\n",
       "    <tr>\n",
       "      <th>14</th>\n",
       "      <td>SHU</td>\n",
       "      <td>9</td>\n",
       "      <td>54</td>\n",
       "      <td>7.0</td>\n",
       "      <td>1594</td>\n",
       "      <td>49</td>\n",
       "    </tr>\n",
       "    <tr>\n",
       "      <th>4</th>\n",
       "      <td>BUR</td>\n",
       "      <td>10</td>\n",
       "      <td>54</td>\n",
       "      <td>10.0</td>\n",
       "      <td>1544</td>\n",
       "      <td>90</td>\n",
       "    </tr>\n",
       "    <tr>\n",
       "      <th>15</th>\n",
       "      <td>SOU</td>\n",
       "      <td>11</td>\n",
       "      <td>52</td>\n",
       "      <td>14.0</td>\n",
       "      <td>1429</td>\n",
       "      <td>20</td>\n",
       "    </tr>\n",
       "    <tr>\n",
       "      <th>7</th>\n",
       "      <td>EVE</td>\n",
       "      <td>12</td>\n",
       "      <td>49</td>\n",
       "      <td>12.0</td>\n",
       "      <td>1444</td>\n",
       "      <td>11</td>\n",
       "    </tr>\n",
       "    <tr>\n",
       "      <th>12</th>\n",
       "      <td>NEW</td>\n",
       "      <td>13</td>\n",
       "      <td>44</td>\n",
       "      <td>11.0</td>\n",
       "      <td>1512</td>\n",
       "      <td>4</td>\n",
       "    </tr>\n",
       "    <tr>\n",
       "      <th>6</th>\n",
       "      <td>CRY</td>\n",
       "      <td>14</td>\n",
       "      <td>43</td>\n",
       "      <td>18.0</td>\n",
       "      <td>1333</td>\n",
       "      <td>31</td>\n",
       "    </tr>\n",
       "    <tr>\n",
       "      <th>3</th>\n",
       "      <td>BHA</td>\n",
       "      <td>15</td>\n",
       "      <td>41</td>\n",
       "      <td>15.0</td>\n",
       "      <td>1389</td>\n",
       "      <td>36</td>\n",
       "    </tr>\n",
       "    <tr>\n",
       "      <th>18</th>\n",
       "      <td>WHU</td>\n",
       "      <td>16</td>\n",
       "      <td>39</td>\n",
       "      <td>13.0</td>\n",
       "      <td>1433</td>\n",
       "      <td>21</td>\n",
       "    </tr>\n",
       "    <tr>\n",
       "      <th>1</th>\n",
       "      <td>AVL</td>\n",
       "      <td>17</td>\n",
       "      <td>35</td>\n",
       "      <td>16.0</td>\n",
       "      <td>1357</td>\n",
       "      <td>7</td>\n",
       "    </tr>\n",
       "    <tr>\n",
       "      <th>2</th>\n",
       "      <td>BOU</td>\n",
       "      <td>18</td>\n",
       "      <td>34</td>\n",
       "      <td>19.0</td>\n",
       "      <td>1265</td>\n",
       "      <td>91</td>\n",
       "    </tr>\n",
       "    <tr>\n",
       "      <th>17</th>\n",
       "      <td>WAT</td>\n",
       "      <td>19</td>\n",
       "      <td>34</td>\n",
       "      <td>17.0</td>\n",
       "      <td>1334</td>\n",
       "      <td>57</td>\n",
       "    </tr>\n",
       "    <tr>\n",
       "      <th>13</th>\n",
       "      <td>NOR</td>\n",
       "      <td>20</td>\n",
       "      <td>21</td>\n",
       "      <td>20.0</td>\n",
       "      <td>1140</td>\n",
       "      <td>45</td>\n",
       "    </tr>\n",
       "  </tbody>\n",
       "</table>\n",
       "</div>"
      ],
      "text/plain": [
       "   short_name  position  points  fpoints_rank  total_points  code\n",
       "9         LIV         1      99           1.0          2101    14\n",
       "10        MCI         2      81           2.0          2100    43\n",
       "11        MUN         3      66           4.0          1752     1\n",
       "5         CHE         4      66           5.0          1687     8\n",
       "8         LEI         5      62           3.0          1816    13\n",
       "16        TOT         6      59           9.0          1547     6\n",
       "19        WOL         7      59           6.0          1655    39\n",
       "0         ARS         8      56           8.0          1580     3\n",
       "14        SHU         9      54           7.0          1594    49\n",
       "4         BUR        10      54          10.0          1544    90\n",
       "15        SOU        11      52          14.0          1429    20\n",
       "7         EVE        12      49          12.0          1444    11\n",
       "12        NEW        13      44          11.0          1512     4\n",
       "6         CRY        14      43          18.0          1333    31\n",
       "3         BHA        15      41          15.0          1389    36\n",
       "18        WHU        16      39          13.0          1433    21\n",
       "1         AVL        17      35          16.0          1357     7\n",
       "2         BOU        18      34          19.0          1265    91\n",
       "17        WAT        19      34          17.0          1334    57\n",
       "13        NOR        20      21          20.0          1140    45"
      ]
     },
     "execution_count": 13,
     "metadata": {},
     "output_type": "execute_result"
    }
   ],
   "source": [
    "fpoints_table = players2020.groupby('team_code')['total_points'].sum()\n",
    "fpoints_table = pd.DataFrame(fpoints_table)\n",
    "fpoints_table['code'] = fpoints_table.index\n",
    "fpoints_table['fpoints_rank']=fpoints_table['total_points'].rank(ascending = False)\n",
    "leaguetable_2020 = teams2020[['short_name','code','win','draw','loss','points','position','strength','strength_overall_home','strength_overall_away','strength_attack_home','strength_attack_away','strength_defence_home','strength_defence_away','pulse_id']]\n",
    "league_fpoints = leaguetable_2020.join(fpoints_table, on='code', how='left',lsuffix = 'lt')\n",
    "table_comparison = league_fpoints[['short_name','position','points','fpoints_rank','total_points','code']]\n",
    "table_comparison.sort_values('position')"
   ]
  },
  {
   "cell_type": "markdown",
   "metadata": {},
   "source": [
    "It is evident from the table that league success does not always imply fantasy success and vice versa. \n",
    "Let's look at this relationship in a visual manner. We will plot a linear regression between league points and fantasy points. \n",
    "\n",
    "A critical consideration is understand which is the dependent vs independent variable. Since there are only 2 varibles, the consideration is mathematically moot. Y = mX + c and X = (Y-c)/m are both linear. However we typically look at league points to establish if a team did well in a season so we will keep that as the independent variable. This is purely a convention based approach. "
   ]
  },
  {
   "cell_type": "code",
   "execution_count": 63,
   "metadata": {},
   "outputs": [
    {
     "data": {
      "text/html": [
       "<div>\n",
       "<style scoped>\n",
       "    .dataframe tbody tr th:only-of-type {\n",
       "        vertical-align: middle;\n",
       "    }\n",
       "\n",
       "    .dataframe tbody tr th {\n",
       "        vertical-align: top;\n",
       "    }\n",
       "\n",
       "    .dataframe thead th {\n",
       "        text-align: right;\n",
       "    }\n",
       "</style>\n",
       "<table border=\"1\" class=\"dataframe\">\n",
       "  <thead>\n",
       "    <tr style=\"text-align: right;\">\n",
       "      <th></th>\n",
       "      <th>short_name</th>\n",
       "      <th>position</th>\n",
       "      <th>points</th>\n",
       "      <th>fpoints_rank</th>\n",
       "      <th>total_points</th>\n",
       "      <th>code</th>\n",
       "    </tr>\n",
       "  </thead>\n",
       "  <tbody>\n",
       "    <tr>\n",
       "      <th>0</th>\n",
       "      <td>ARS</td>\n",
       "      <td>8</td>\n",
       "      <td>56</td>\n",
       "      <td>8.0</td>\n",
       "      <td>1580</td>\n",
       "      <td>3</td>\n",
       "    </tr>\n",
       "    <tr>\n",
       "      <th>1</th>\n",
       "      <td>AVL</td>\n",
       "      <td>17</td>\n",
       "      <td>35</td>\n",
       "      <td>16.0</td>\n",
       "      <td>1357</td>\n",
       "      <td>7</td>\n",
       "    </tr>\n",
       "    <tr>\n",
       "      <th>2</th>\n",
       "      <td>BOU</td>\n",
       "      <td>18</td>\n",
       "      <td>34</td>\n",
       "      <td>19.0</td>\n",
       "      <td>1265</td>\n",
       "      <td>91</td>\n",
       "    </tr>\n",
       "    <tr>\n",
       "      <th>3</th>\n",
       "      <td>BHA</td>\n",
       "      <td>15</td>\n",
       "      <td>41</td>\n",
       "      <td>15.0</td>\n",
       "      <td>1389</td>\n",
       "      <td>36</td>\n",
       "    </tr>\n",
       "    <tr>\n",
       "      <th>4</th>\n",
       "      <td>BUR</td>\n",
       "      <td>10</td>\n",
       "      <td>54</td>\n",
       "      <td>10.0</td>\n",
       "      <td>1544</td>\n",
       "      <td>90</td>\n",
       "    </tr>\n",
       "    <tr>\n",
       "      <th>5</th>\n",
       "      <td>CHE</td>\n",
       "      <td>4</td>\n",
       "      <td>66</td>\n",
       "      <td>5.0</td>\n",
       "      <td>1687</td>\n",
       "      <td>8</td>\n",
       "    </tr>\n",
       "    <tr>\n",
       "      <th>6</th>\n",
       "      <td>CRY</td>\n",
       "      <td>14</td>\n",
       "      <td>43</td>\n",
       "      <td>18.0</td>\n",
       "      <td>1333</td>\n",
       "      <td>31</td>\n",
       "    </tr>\n",
       "    <tr>\n",
       "      <th>7</th>\n",
       "      <td>EVE</td>\n",
       "      <td>12</td>\n",
       "      <td>49</td>\n",
       "      <td>12.0</td>\n",
       "      <td>1444</td>\n",
       "      <td>11</td>\n",
       "    </tr>\n",
       "    <tr>\n",
       "      <th>8</th>\n",
       "      <td>LEI</td>\n",
       "      <td>5</td>\n",
       "      <td>62</td>\n",
       "      <td>3.0</td>\n",
       "      <td>1816</td>\n",
       "      <td>13</td>\n",
       "    </tr>\n",
       "    <tr>\n",
       "      <th>9</th>\n",
       "      <td>LIV</td>\n",
       "      <td>1</td>\n",
       "      <td>99</td>\n",
       "      <td>1.0</td>\n",
       "      <td>2101</td>\n",
       "      <td>14</td>\n",
       "    </tr>\n",
       "    <tr>\n",
       "      <th>10</th>\n",
       "      <td>MCI</td>\n",
       "      <td>2</td>\n",
       "      <td>81</td>\n",
       "      <td>2.0</td>\n",
       "      <td>2100</td>\n",
       "      <td>43</td>\n",
       "    </tr>\n",
       "    <tr>\n",
       "      <th>11</th>\n",
       "      <td>MUN</td>\n",
       "      <td>3</td>\n",
       "      <td>66</td>\n",
       "      <td>4.0</td>\n",
       "      <td>1752</td>\n",
       "      <td>1</td>\n",
       "    </tr>\n",
       "    <tr>\n",
       "      <th>12</th>\n",
       "      <td>NEW</td>\n",
       "      <td>13</td>\n",
       "      <td>44</td>\n",
       "      <td>11.0</td>\n",
       "      <td>1512</td>\n",
       "      <td>4</td>\n",
       "    </tr>\n",
       "    <tr>\n",
       "      <th>13</th>\n",
       "      <td>NOR</td>\n",
       "      <td>20</td>\n",
       "      <td>21</td>\n",
       "      <td>20.0</td>\n",
       "      <td>1140</td>\n",
       "      <td>45</td>\n",
       "    </tr>\n",
       "    <tr>\n",
       "      <th>14</th>\n",
       "      <td>SHU</td>\n",
       "      <td>9</td>\n",
       "      <td>54</td>\n",
       "      <td>7.0</td>\n",
       "      <td>1594</td>\n",
       "      <td>49</td>\n",
       "    </tr>\n",
       "    <tr>\n",
       "      <th>15</th>\n",
       "      <td>SOU</td>\n",
       "      <td>11</td>\n",
       "      <td>52</td>\n",
       "      <td>14.0</td>\n",
       "      <td>1429</td>\n",
       "      <td>20</td>\n",
       "    </tr>\n",
       "    <tr>\n",
       "      <th>16</th>\n",
       "      <td>TOT</td>\n",
       "      <td>6</td>\n",
       "      <td>59</td>\n",
       "      <td>9.0</td>\n",
       "      <td>1547</td>\n",
       "      <td>6</td>\n",
       "    </tr>\n",
       "    <tr>\n",
       "      <th>17</th>\n",
       "      <td>WAT</td>\n",
       "      <td>19</td>\n",
       "      <td>34</td>\n",
       "      <td>17.0</td>\n",
       "      <td>1334</td>\n",
       "      <td>57</td>\n",
       "    </tr>\n",
       "    <tr>\n",
       "      <th>18</th>\n",
       "      <td>WHU</td>\n",
       "      <td>16</td>\n",
       "      <td>39</td>\n",
       "      <td>13.0</td>\n",
       "      <td>1433</td>\n",
       "      <td>21</td>\n",
       "    </tr>\n",
       "    <tr>\n",
       "      <th>19</th>\n",
       "      <td>WOL</td>\n",
       "      <td>7</td>\n",
       "      <td>59</td>\n",
       "      <td>6.0</td>\n",
       "      <td>1655</td>\n",
       "      <td>39</td>\n",
       "    </tr>\n",
       "  </tbody>\n",
       "</table>\n",
       "</div>"
      ],
      "text/plain": [
       "   short_name  position  points  fpoints_rank  total_points  code\n",
       "0         ARS         8      56           8.0          1580     3\n",
       "1         AVL        17      35          16.0          1357     7\n",
       "2         BOU        18      34          19.0          1265    91\n",
       "3         BHA        15      41          15.0          1389    36\n",
       "4         BUR        10      54          10.0          1544    90\n",
       "5         CHE         4      66           5.0          1687     8\n",
       "6         CRY        14      43          18.0          1333    31\n",
       "7         EVE        12      49          12.0          1444    11\n",
       "8         LEI         5      62           3.0          1816    13\n",
       "9         LIV         1      99           1.0          2101    14\n",
       "10        MCI         2      81           2.0          2100    43\n",
       "11        MUN         3      66           4.0          1752     1\n",
       "12        NEW        13      44          11.0          1512     4\n",
       "13        NOR        20      21          20.0          1140    45\n",
       "14        SHU         9      54           7.0          1594    49\n",
       "15        SOU        11      52          14.0          1429    20\n",
       "16        TOT         6      59           9.0          1547     6\n",
       "17        WAT        19      34          17.0          1334    57\n",
       "18        WHU        16      39          13.0          1433    21\n",
       "19        WOL         7      59           6.0          1655    39"
      ]
     },
     "execution_count": 63,
     "metadata": {},
     "output_type": "execute_result"
    }
   ],
   "source": [
    "table_comparison"
   ]
  },
  {
   "cell_type": "code",
   "execution_count": 178,
   "metadata": {},
   "outputs": [],
   "source": [
    "X = table_comparison['points'].values.reshape(-1,1)\n",
    "y = table_comparison['total_points'].values.reshape(-1,1)\n",
    "names = table_comparison['short_name'].values.reshape(-1,1)"
   ]
  },
  {
   "cell_type": "code",
   "execution_count": 179,
   "metadata": {},
   "outputs": [],
   "source": [
    "#Multiple Linear Regression\n",
    "from sklearn.linear_model import LinearRegression\n",
    "model = LinearRegression()\n",
    "model.fit(X, y)\n",
    "y_pred1 = model.predict(X)"
   ]
  },
  {
   "cell_type": "code",
   "execution_count": 180,
   "metadata": {},
   "outputs": [
    {
     "data": {
      "text/plain": [
       "0.9134372637182558"
      ]
     },
     "execution_count": 180,
     "metadata": {},
     "output_type": "execute_result"
    }
   ],
   "source": [
    "from sklearn.metrics import r2_score\n",
    "r2_score(y, y_pred1)"
   ]
  },
  {
   "cell_type": "code",
   "execution_count": 181,
   "metadata": {},
   "outputs": [
    {
     "data": {
      "image/png": "[encoded data removed]",
      "text/plain": [
       "<Figure size 1080x720 with 1 Axes>"
      ]
     },
     "metadata": {
      "needs_background": "light"
     },
     "output_type": "display_data"
    }
   ],
   "source": [
    "import matplotlib.pyplot as plt\n",
    "plt.figure(figsize=(15,10))\n",
    "plt.scatter(X,y,color='black')\n",
    "plt.plot(X,y_pred1, color='blue', linewidth=3)\n",
    "\n",
    "for a,b,l in zip(X,y,names):\n",
    "    plt.annotate(l,(a,b), textcoords=\"offset points\", xytext=(0,7), # distance from text to points (x,y)\n",
    "                 ha='center') # horizontal alignment can be left, right or center\n",
    "plt.show()"
   ]
  },
  {
   "cell_type": "code",
   "execution_count": 182,
   "metadata": {},
   "outputs": [
    {
     "name": "stderr",
     "output_type": "stream",
     "text": [
      "C:\\ProgramData\\Anaconda3\\envs\\dev\\lib\\site-packages\\sklearn\\utils\\validation.py:73: DataConversionWarning: A column-vector y was passed when a 1d array was expected. Please change the shape of y to (n_samples, ), for example using ravel().\n",
      "  return f(**kwargs)\n"
     ]
    }
   ],
   "source": [
    "#SVR\n",
    "from sklearn.svm import SVR\n",
    "model = SVR(kernel=\"linear\")\n",
    "model.fit(X, y)\n",
    "y_pred2 = model.predict(X)"
   ]
  },
  {
   "cell_type": "code",
   "execution_count": 183,
   "metadata": {},
   "outputs": [
    {
     "data": {
      "text/plain": [
       "0.9004807525836448"
      ]
     },
     "execution_count": 183,
     "metadata": {},
     "output_type": "execute_result"
    }
   ],
   "source": [
    "from sklearn.metrics import r2_score\n",
    "r2_score(y, y_pred2)"
   ]
  },
  {
   "cell_type": "code",
   "execution_count": 184,
   "metadata": {},
   "outputs": [
    {
     "data": {
      "image/png": "[encoded data removed]",
      "text/plain": [
       "<Figure size 1080x720 with 1 Axes>"
      ]
     },
     "metadata": {
      "needs_background": "light"
     },
     "output_type": "display_data"
    }
   ],
   "source": [
    "import matplotlib.pyplot as plt\n",
    "plt.figure(figsize=(15,10))\n",
    "plt.scatter(X,y,color='black')\n",
    "plt.plot(X,y_pred2, color='blue', linewidth=3)\n",
    "\n",
    "for a,b,l in zip(X,y,names):\n",
    "    plt.annotate(l,(a,b), textcoords=\"offset points\", xytext=(0,7), # distance from text to points (x,y)\n",
    "                 ha='center') # horizontal alignment can be left, right or center\n",
    "plt.show()"
   ]
  },
  {
   "cell_type": "code",
   "execution_count": 205,
   "metadata": {},
   "outputs": [],
   "source": [
    "#decision tree\n",
    "from sklearn.tree import DecisionTreeRegressor\n",
    "model = DecisionTreeRegressor(splitter=\"best\",random_state = 42)\n",
    "model.fit(X, y)\n",
    "y_pred3 = model.predict(X)"
   ]
  },
  {
   "cell_type": "code",
   "execution_count": 206,
   "metadata": {},
   "outputs": [
    {
     "data": {
      "text/plain": [
       "0.9903346652429051"
      ]
     },
     "execution_count": 206,
     "metadata": {},
     "output_type": "execute_result"
    }
   ],
   "source": [
    "from sklearn.metrics import r2_score\n",
    "r2_score(y, y_pred3)"
   ]
  },
  {
   "cell_type": "code",
   "execution_count": 207,
   "metadata": {},
   "outputs": [
    {
     "data": {
      "image/png": "[encoded data removed]",
      "text/plain": [
       "<Figure size 1080x720 with 1 Axes>"
      ]
     },
     "metadata": {
      "needs_background": "light"
     },
     "output_type": "display_data"
    }
   ],
   "source": [
    "import matplotlib.pyplot as plt\n",
    "plt.figure(figsize=(15,10))\n",
    "plt.scatter(X,y,color='black')\n",
    "plt.plot(X,y_pred3, color='blue', linewidth=3)\n",
    "\n",
    "for a,b,l in zip(X,y,names):\n",
    "    plt.annotate(l,(a,b), textcoords=\"offset points\", xytext=(0,7), # distance from text to points (x,y)\n",
    "                 ha='center') # horizontal alignment can be left, right or center\n",
    "plt.show()"
   ]
  },
  {
   "cell_type": "code",
   "execution_count": 202,
   "metadata": {},
   "outputs": [
    {
     "name": "stderr",
     "output_type": "stream",
     "text": [
      "C:\\ProgramData\\Anaconda3\\envs\\dev\\lib\\site-packages\\ipykernel_launcher.py:4: DataConversionWarning: A column-vector y was passed when a 1d array was expected. Please change the shape of y to (n_samples,), for example using ravel().\n",
      "  after removing the cwd from sys.path.\n"
     ]
    }
   ],
   "source": [
    "#random Forest\n",
    "from sklearn.ensemble import RandomForestRegressor\n",
    "model = RandomForestRegressor(n_estimators = 100,random_state = 0)\n",
    "model.fit(X, y)\n",
    "y_pred4 = model.predict(X)"
   ]
  },
  {
   "cell_type": "code",
   "execution_count": 203,
   "metadata": {},
   "outputs": [
    {
     "data": {
      "text/plain": [
       "0.9476743304043728"
      ]
     },
     "execution_count": 203,
     "metadata": {},
     "output_type": "execute_result"
    }
   ],
   "source": [
    "from sklearn.metrics import r2_score\n",
    "r2_score(y, y_pred4)"
   ]
  },
  {
   "cell_type": "code",
   "execution_count": 204,
   "metadata": {},
   "outputs": [
    {
     "data": {
      "image/png": "[encoded data removed]",
      "text/plain": [
       "<Figure size 1080x720 with 1 Axes>"
      ]
     },
     "metadata": {
      "needs_background": "light"
     },
     "output_type": "display_data"
    }
   ],
   "source": [
    "import matplotlib.pyplot as plt\n",
    "plt.figure(figsize=(15,10))\n",
    "plt.scatter(X,y,color='black')\n",
    "plt.plot(X,y_pred4, color='blue', linewidth=3)\n",
    "\n",
    "for a,b,l in zip(X,y,names):\n",
    "    plt.annotate(l,(a,b), textcoords=\"offset points\", xytext=(0,7), # distance from text to points (x,y)\n",
    "                 ha='center') # horizontal alignment can be left, right or center\n",
    "plt.show()"
   ]
  },
  {
   "cell_type": "code",
   "execution_count": 214,
   "metadata": {},
   "outputs": [
    {
     "data": {
      "text/plain": [
       "[<matplotlib.lines.Line2D at 0x24a6305fd08>]"
      ]
     },
     "execution_count": 214,
     "metadata": {},
     "output_type": "execute_result"
    },
    {
     "data": {
      "image/png": "[encoded data removed]",
      "text/plain": [
       "<Figure size 432x288 with 1 Axes>"
      ]
     },
     "metadata": {
      "needs_background": "light"
     },
     "output_type": "display_data"
    }
   ],
   "source": [
    "plt.scatter(X, y, color = 'red')\n",
    "plt.plot(X,y_pred4, color = 'blue')"
   ]
  }
 ],
 "metadata": {
  "kernelspec": {
   "display_name": "Python 3",
   "language": "python",
   "name": "python3"
  },
  "language_info": {
   "codemirror_mode": {
    "name": "ipython",
    "version": 3
   },
   "file_extension": ".py",
   "mimetype": "text/x-python",
   "name": "python",
   "nbconvert_exporter": "python",
   "pygments_lexer": "ipython3",
   "version": "3.7.7"
  }
 },
 "nbformat": 4,
 "nbformat_minor": 4
}
